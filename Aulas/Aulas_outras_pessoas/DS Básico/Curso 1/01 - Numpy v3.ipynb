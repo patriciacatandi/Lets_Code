{
 "cells": [
  {
   "cell_type": "markdown",
   "id": "89b88cc5",
   "metadata": {},
   "source": [
    "# Exercícios - NumPy"
   ]
  },
  {
   "cell_type": "markdown",
   "id": "d408c3ba",
   "metadata": {},
   "source": [
    "### Questão 1:\n",
    "\n",
    "Dado o array:\n",
    "\n",
    "```python\n",
    "arr = np.arange(50)\n",
    "```\n",
    "\n",
    "Selecione a alternativa __INCORRETA__ na utilização de filtros e máscaras neste NumPy array, ou seja ao aplicarmos um filtro é esperado que seja devolvido uma lista com os números que satisfazem a condição do filtro.\n",
    "\n",
    "__A)__ \n",
    "```python \n",
    "arr_atualizado  = arr[arr <= 10]\n",
    "print(arr_atualizado)\n",
    "```\n",
    "__B)__\n",
    "```python \n",
    "arr_atualizado  = arr[arr % 2]\n",
    "print(arr_atualizado)\n",
    "```\n",
    "__C)__\n",
    "```python \n",
    "arr_atualizado  = arr[(arr % 2 == 0) | (arr > 40)]\n",
    "print(arr_atualizado)\n",
    "```\n",
    "__D)__\n",
    "```python \n",
    "arr_atualizado  = arr[arr > 5]\n",
    "print(arr_atualizado)\n",
    "```"
   ]
  },
  {
   "cell_type": "markdown",
   "id": "7dfa48b3",
   "metadata": {},
   "source": [
    "### RESPOSTA: ALTERNATIVA __B__\n",
    "\n",
    "### Resolução:"
   ]
  },
  {
   "cell_type": "markdown",
   "id": "57921272",
   "metadata": {},
   "source": [
    "Primeiramente, vamos definir a biblioteca e criar o array conforme o exemplo do exercício:"
   ]
  },
  {
   "cell_type": "code",
   "execution_count": 54,
   "id": "77c22f6c",
   "metadata": {},
   "outputs": [],
   "source": [
    "# Import do NumPy\n",
    "import numpy as np"
   ]
  },
  {
   "cell_type": "code",
   "execution_count": 55,
   "id": "b9aa3416",
   "metadata": {},
   "outputs": [
    {
     "name": "stdout",
     "output_type": "stream",
     "text": [
      "[ 0  1  2  3  4  5  6  7  8  9 10 11 12 13 14 15 16 17 18 19 20 21 22 23\n",
      " 24 25 26 27 28 29 30 31 32 33 34 35 36 37 38 39 40 41 42 43 44 45 46 47\n",
      " 48 49]\n"
     ]
    }
   ],
   "source": [
    "# Cria o array conforme o exercício\n",
    "arr = np.arange(50)\n",
    "\n",
    "# Print do array\n",
    "print(arr)"
   ]
  },
  {
   "cell_type": "markdown",
   "id": "d67b5ca9",
   "metadata": {},
   "source": [
    "Vamos testar todas as alternativas do exercício:"
   ]
  },
  {
   "cell_type": "code",
   "execution_count": 56,
   "id": "40c9f7f7",
   "metadata": {},
   "outputs": [
    {
     "name": "stdout",
     "output_type": "stream",
     "text": [
      "[ 0  1  2  3  4  5  6  7  8  9 10]\n"
     ]
    }
   ],
   "source": [
    "# Aplicação da máscara Booleana\n",
    "arr_atualizado = arr[arr <= 10]\n",
    "\n",
    "# Print do Array\n",
    "print(arr_atualizado)"
   ]
  },
  {
   "cell_type": "markdown",
   "id": "f4a17913",
   "metadata": {},
   "source": [
    "Aplicação correta da máscara booleana na alternativa A"
   ]
  },
  {
   "cell_type": "code",
   "execution_count": 57,
   "id": "931b7779",
   "metadata": {},
   "outputs": [
    {
     "name": "stdout",
     "output_type": "stream",
     "text": [
      "[0 1 0 1 0 1 0 1 0 1 0 1 0 1 0 1 0 1 0 1 0 1 0 1 0 1 0 1 0 1 0 1 0 1 0 1 0\n",
      " 1 0 1 0 1 0 1 0 1 0 1 0 1]\n"
     ]
    }
   ],
   "source": [
    "# Aplicação da máscara booleana\n",
    "arr_atualizado = arr[arr % 2]\n",
    "\n",
    "# Print do Array\n",
    "print(arr_atualizado)"
   ]
  },
  {
   "cell_type": "markdown",
   "id": "4ca10bde",
   "metadata": {},
   "source": [
    "Note que no exemplo da alternativa B, faltou a comparação do resto da divisão por 2 com algum valor para que funcionasse a máscara booleana! Da forma colocada pelo exercício, não funciona corretamente.\n",
    "\n",
    "Se o objetivo fosse manter todos os números pares ou ímpares, os filtros deveriam ser feitos da seguinte forma:"
   ]
  },
  {
   "cell_type": "code",
   "execution_count": 58,
   "id": "65a2c487",
   "metadata": {},
   "outputs": [
    {
     "name": "stdout",
     "output_type": "stream",
     "text": [
      "Apenas os números pares: \n",
      "[ 0  2  4  6  8 10 12 14 16 18 20 22 24 26 28 30 32 34 36 38 40 42 44 46\n",
      " 48]\n",
      "\n",
      "\n",
      "Apenas os números ímpares: \n",
      "[ 1  3  5  7  9 11 13 15 17 19 21 23 25 27 29 31 33 35 37 39 41 43 45 47\n",
      " 49]\n"
     ]
    }
   ],
   "source": [
    "# Aplicação da máscara booleana\n",
    "arr_atualizado = arr[arr % 2 == 0]\n",
    "\n",
    "# Print do Array\n",
    "print(\"Apenas os números pares: \")\n",
    "print(arr_atualizado)\n",
    "print('\\n')\n",
    "\n",
    "# Aplicação da máscara booleana\n",
    "print(\"Apenas os números ímpares: \")\n",
    "arr_atualizado = arr[arr % 2 != 0]\n",
    "\n",
    "# Print do Array\n",
    "print(arr_atualizado)"
   ]
  },
  {
   "cell_type": "markdown",
   "id": "42f962bb",
   "metadata": {},
   "source": [
    "Portanto a alternativa B é realmente a __incorreta__\n",
    "\n",
    "Vamos testar agora a alternativa C:"
   ]
  },
  {
   "cell_type": "code",
   "execution_count": 59,
   "id": "c8c76c1b",
   "metadata": {},
   "outputs": [
    {
     "name": "stdout",
     "output_type": "stream",
     "text": [
      "[ 0  2  4  6  8 10 12 14 16 18 20 22 24 26 28 30 32 34 36 38 40 41 42 43\n",
      " 44 45 46 47 48 49]\n"
     ]
    }
   ],
   "source": [
    "# Aplicação da máscara booleana\n",
    "arr_atualizado = arr[(arr % 2 == 0) | (arr > 40)]\n",
    "\n",
    "# Print do Array\n",
    "print(arr_atualizado)"
   ]
  },
  {
   "cell_type": "markdown",
   "id": "0a523263",
   "metadata": {},
   "source": [
    "Vamos ver a aplicação dos filtros separadamente:"
   ]
  },
  {
   "cell_type": "code",
   "execution_count": 60,
   "id": "717d567d",
   "metadata": {},
   "outputs": [
    {
     "name": "stdout",
     "output_type": "stream",
     "text": [
      "Máscara Booleana - Diferente de 1: \n",
      "[ True False  True False  True False  True False  True False  True False\n",
      "  True False  True False  True False  True False  True False  True False\n",
      "  True False  True False  True False  True False  True False  True False\n",
      "  True False  True False  True False  True False  True False  True False\n",
      "  True False]\n",
      "\n",
      "\n",
      "Máscara Booleana - Diferente de 3: \n",
      "[False False False False False False False False False False False False\n",
      " False False False False False False False False False False False False\n",
      " False False False False False False False False False False False False\n",
      " False False False False False  True  True  True  True  True  True  True\n",
      "  True  True]\n",
      "\n",
      "\n",
      "Aplicação do OU entre as máscaras\n",
      "[ True False  True False  True False  True False  True False  True False\n",
      "  True False  True False  True False  True False  True False  True False\n",
      "  True False  True False  True False  True False  True False  True False\n",
      "  True False  True False  True  True  True  True  True  True  True  True\n",
      "  True  True]\n",
      "\n",
      "\n",
      "Array Final: \n",
      "[ 0  2  4  6  8 10 12 14 16 18 20 22 24 26 28 30 32 34 36 38 40 41 42 43\n",
      " 44 45 46 47 48 49]\n"
     ]
    }
   ],
   "source": [
    "# Aplicação da máscara booleana - diferente de 3\n",
    "mask1 = arr % 2 == 0\n",
    "\n",
    "# Print da máscara booleana 1\n",
    "print(\"Máscara Booleana - Diferente de 1: \")\n",
    "print(mask1)\n",
    "print('\\n')\n",
    "\n",
    "# Aplicação da máscara booleana - diferente de 3\n",
    "mask2 = arr > 40\n",
    "\n",
    "# Print da máscara booleana 2\n",
    "print(\"Máscara Booleana - Diferente de 3: \")\n",
    "print(mask2)\n",
    "print('\\n')\n",
    "\n",
    "# Definição da máscara booleana 3\n",
    "mask3 = mask1 | mask2\n",
    "\n",
    "# Print da máscara booleana 3\n",
    "print(\"Aplicação do OU entre as máscaras\")\n",
    "print(mask3)\n",
    "print('\\n')\n",
    "\n",
    "# Filtro do array final\n",
    "arr_final = arr[mask3]\n",
    "\n",
    "# Print do Array\n",
    "print('Array Final: ')\n",
    "print(arr_final)"
   ]
  },
  {
   "cell_type": "markdown",
   "id": "f14ee27a",
   "metadata": {},
   "source": [
    "Então, a alternativa C também está correta.\n",
    "\n",
    "Vamos testar a última alternativa:"
   ]
  },
  {
   "cell_type": "code",
   "execution_count": 61,
   "id": "c9453c86",
   "metadata": {},
   "outputs": [
    {
     "name": "stdout",
     "output_type": "stream",
     "text": [
      "[ 6  7  8  9 10 11 12 13 14 15 16 17 18 19 20 21 22 23 24 25 26 27 28 29\n",
      " 30 31 32 33 34 35 36 37 38 39 40 41 42 43 44 45 46 47 48 49]\n"
     ]
    }
   ],
   "source": [
    "# Aplicação do filtro\n",
    "arr_atualizado = arr[arr > 5]\n",
    "\n",
    "# Print do Array\n",
    "print(arr_atualizado)"
   ]
  },
  {
   "cell_type": "markdown",
   "id": "49386fd6",
   "metadata": {},
   "source": [
    "Esta aplicação é bem parecida com a primeira alternativa do exercício, onde queremos apenas os números maiores que 5. \n",
    "Portanto, a laternativa D também está correta."
   ]
  },
  {
   "cell_type": "markdown",
   "id": "28bc93e8",
   "metadata": {},
   "source": [
    "## "
   ]
  },
  {
   "cell_type": "markdown",
   "id": "5ae6b6a7",
   "metadata": {},
   "source": [
    "### Questão 2\n",
    "\n",
    "Agora, vamos explorar os arrays aleatórios e máscaras. Faça o que se pede:\n",
    "\n",
    "__A)__ Crie um array aleatório de 15 itens entre 0 e 100, incluindo os valores 0 e 100;\n",
    "\n",
    "__B)__ Qual o maior número do array?\n",
    "\n",
    "__C)__ Qual a sua posição?\n",
    "\n",
    "__D)__ Verifique quais números do array são maior que 10;\n",
    "\n",
    "__E)__ Salve em um novo array apenas os itens entre 10 e 30, incluindo os valores 10 e 30."
   ]
  },
  {
   "cell_type": "markdown",
   "id": "b27eb59f",
   "metadata": {},
   "source": [
    "### Resolução:"
   ]
  },
  {
   "cell_type": "markdown",
   "id": "74147527",
   "metadata": {},
   "source": [
    "Primeiramente, vamos definir a biblioteca:"
   ]
  },
  {
   "cell_type": "code",
   "execution_count": 9,
   "id": "4bb08189",
   "metadata": {},
   "outputs": [],
   "source": [
    "# Import do NumPy\n",
    "import numpy as np"
   ]
  },
  {
   "cell_type": "markdown",
   "id": "2d6c4bd2",
   "metadata": {},
   "source": [
    "__A)__ Crie um array aleatório de 15 itens entre 0 e 100, incluindo os valores 0 e 100;"
   ]
  },
  {
   "cell_type": "code",
   "execution_count": 10,
   "id": "ea8797f0",
   "metadata": {},
   "outputs": [
    {
     "name": "stdout",
     "output_type": "stream",
     "text": [
      "[51 92 14 71 60 20 82 86 74 74 87 99 23  2 21]\n"
     ]
    }
   ],
   "source": [
    "# Definindo uma semente aleatória\n",
    "np.random.seed(42)\n",
    "\n",
    "# Criando um array de números inteiros entre 0 e 100 com 15 itens\n",
    "arr = np.random.randint(low = 0,    # Limite inferior que deve conter os números\n",
    "                        high = 101, # Limite superior (no caso 101, pois o último número é excludente)\n",
    "                        size = 15)  # quantidade de elementos no array\n",
    "\n",
    "# Print do Array\n",
    "print(arr)"
   ]
  },
  {
   "cell_type": "markdown",
   "id": "ef89cc38",
   "metadata": {},
   "source": [
    "__B)__ Qual o maior número do array?"
   ]
  },
  {
   "cell_type": "code",
   "execution_count": 11,
   "id": "ab4e1ef9",
   "metadata": {
    "scrolled": true
   },
   "outputs": [
    {
     "name": "stdout",
     "output_type": "stream",
     "text": [
      "99\n"
     ]
    }
   ],
   "source": [
    "# Definindo o maior número utilizando a função np.max\n",
    "maior = np.max(arr)\n",
    "\n",
    "# Print do Array\n",
    "print(maior)"
   ]
  },
  {
   "cell_type": "markdown",
   "id": "617c1cdd",
   "metadata": {},
   "source": [
    "__C)__ Qual a sua posição?"
   ]
  },
  {
   "cell_type": "code",
   "execution_count": 12,
   "id": "6dcc8591",
   "metadata": {},
   "outputs": [
    {
     "name": "stdout",
     "output_type": "stream",
     "text": [
      "Posição do maior elemento:  11\n",
      "Valor na posição de maior elemento:  99\n"
     ]
    }
   ],
   "source": [
    "# Definindo a posição do maior elemento a partir da função argmax\n",
    "idx_maior = np.argmax(arr)\n",
    "\n",
    "# Print do index do maior elemento\n",
    "print(\"Posição do maior elemento: \", idx_maior)\n",
    "\n",
    "# Verificando se bate com o resultado anterior\n",
    "print(\"Valor na posição de maior elemento: \", arr[idx_maior])"
   ]
  },
  {
   "cell_type": "markdown",
   "id": "41ec071c",
   "metadata": {},
   "source": [
    "__D)__ Verifique quais números do array são maior que 10;"
   ]
  },
  {
   "cell_type": "code",
   "execution_count": 13,
   "id": "e9bb0ed1",
   "metadata": {},
   "outputs": [
    {
     "name": "stdout",
     "output_type": "stream",
     "text": [
      "[51 92 14 71 60 20 82 86 74 74 87 99 23 21]\n"
     ]
    }
   ],
   "source": [
    "# Filtrando o array apenas com os números maiores que 10\n",
    "arr_maior_10 = arr[arr > 10]\n",
    "\n",
    "# Print do Array\n",
    "print(arr_maior_10)"
   ]
  },
  {
   "cell_type": "markdown",
   "id": "92eee2e7",
   "metadata": {},
   "source": [
    "__E)__ Salve em um novo array apenas os itens entre 10 e 30, incluindo os valores 10 e 30."
   ]
  },
  {
   "cell_type": "code",
   "execution_count": 14,
   "id": "905aa699",
   "metadata": {},
   "outputs": [
    {
     "name": "stdout",
     "output_type": "stream",
     "text": [
      "[14 20 23 21]\n"
     ]
    }
   ],
   "source": [
    "# Filtrando o array entre 10 e 30\n",
    "novo_array = arr[(arr >= 10) & (arr <= 30)]\n",
    "\n",
    "# Print do array\n",
    "print(novo_array)"
   ]
  },
  {
   "cell_type": "markdown",
   "id": "54e74a0e",
   "metadata": {},
   "source": [
    "## "
   ]
  },
  {
   "cell_type": "markdown",
   "id": "027b74cd",
   "metadata": {},
   "source": [
    "### Questão 3\n",
    "\n",
    "Nosso próximo foco serão as matrizes. Faça o que se pede:\n",
    "\n",
    "__A)__ Utilizando o `np.linspace()`, crie um array de números entre 0 e 100 com 20 elementos;\n",
    "\n",
    "__B)__ Converta o array do item __A)__ em uma matriz (10, 2) utilizando a função ``np.reshape``;\n",
    "\n",
    "__C)__ Gere uma matriz aleatória de dimensão (2,5) com números entre 0 e 100, incluindo os números 0 e 100;\n",
    "\n",
    "__D)__ Utilizando as matrizes do item __B)__ e __C)__, faça uma multiplicação de matrizes usando a função `np.dot`;\n",
    "\n",
    "__Obs.:__ Atente-se a ordem das matrizes quando for realizar a multiplicação.\n",
    "\n",
    "__E)__ Quais são as dimensões da matrizes resultante no item __D)__"
   ]
  },
  {
   "cell_type": "markdown",
   "id": "b629b19b",
   "metadata": {},
   "source": [
    "### Resolução:"
   ]
  },
  {
   "cell_type": "markdown",
   "id": "a14949fa",
   "metadata": {},
   "source": [
    "Primeiramente, vamos definir a biblioteca:"
   ]
  },
  {
   "cell_type": "code",
   "execution_count": 15,
   "id": "e300b854",
   "metadata": {},
   "outputs": [],
   "source": [
    "# Import do NumPy\n",
    "import numpy as np"
   ]
  },
  {
   "cell_type": "markdown",
   "id": "d624485c",
   "metadata": {},
   "source": [
    "__A)__ Utilizando o `np.linspace()`, crie um array de números entre 0 e 100 com 20 elementos;"
   ]
  },
  {
   "cell_type": "code",
   "execution_count": 16,
   "id": "9e0fe8a5",
   "metadata": {
    "scrolled": true
   },
   "outputs": [
    {
     "name": "stdout",
     "output_type": "stream",
     "text": [
      "[  0.           5.26315789  10.52631579  15.78947368  21.05263158\n",
      "  26.31578947  31.57894737  36.84210526  42.10526316  47.36842105\n",
      "  52.63157895  57.89473684  63.15789474  68.42105263  73.68421053\n",
      "  78.94736842  84.21052632  89.47368421  94.73684211 100.        ]\n"
     ]
    }
   ],
   "source": [
    "# Criando o array utilizando o linspace\n",
    "arr = np.linspace(start = 0,  # número inicial\n",
    "                  stop = 100, # número final\n",
    "                  num = 20)   # quantidade de divisões\n",
    "\n",
    "# Print do array\n",
    "print(arr)"
   ]
  },
  {
   "cell_type": "markdown",
   "id": "847aa099",
   "metadata": {},
   "source": [
    "__B)__ Converta o array do item __A)__ em uma matriz (10, 2) utilizando a função ``np.reshape``;"
   ]
  },
  {
   "cell_type": "code",
   "execution_count": 17,
   "id": "9928e900",
   "metadata": {},
   "outputs": [
    {
     "name": "stdout",
     "output_type": "stream",
     "text": [
      "[[  0.           5.26315789]\n",
      " [ 10.52631579  15.78947368]\n",
      " [ 21.05263158  26.31578947]\n",
      " [ 31.57894737  36.84210526]\n",
      " [ 42.10526316  47.36842105]\n",
      " [ 52.63157895  57.89473684]\n",
      " [ 63.15789474  68.42105263]\n",
      " [ 73.68421053  78.94736842]\n",
      " [ 84.21052632  89.47368421]\n",
      " [ 94.73684211 100.        ]]\n"
     ]
    }
   ],
   "source": [
    "# Criando a matriz 1 a partir da função reshape\n",
    "matrix1 = np.reshape(a = arr,            # array a ser redimensionado\n",
    "                     newshape = (10, 2)) # nova dimensão do array resultante\n",
    "\n",
    "# Print do Matriz\n",
    "print(matrix1)"
   ]
  },
  {
   "cell_type": "markdown",
   "id": "886ee7d3",
   "metadata": {},
   "source": [
    "__C)__ Gere uma matriz aleatória de dimensão (2,5) com números entre 0 e 100, incluindo os números 0 e 100;"
   ]
  },
  {
   "cell_type": "code",
   "execution_count": 18,
   "id": "22a3f878",
   "metadata": {},
   "outputs": [
    {
     "name": "stdout",
     "output_type": "stream",
     "text": [
      "[[51 92 14 71 60]\n",
      " [20 82 86 74 74]]\n"
     ]
    }
   ],
   "source": [
    "# Definindo uma semente aleatório\n",
    "np.random.seed(42)\n",
    "\n",
    "# Criando uma matriz 2 com números entre 0 e 100 e dimensões (2, 5)\n",
    "matrix2 = np.random.randint(0, 101, size=(2, 5))\n",
    "\n",
    "# Print da Matriz\n",
    "print(matrix2)"
   ]
  },
  {
   "cell_type": "markdown",
   "id": "cbfb92a7",
   "metadata": {},
   "source": [
    "__D)__ Utilizando as matrizes do item __B)__ e __C)__, faça uma multiplicação de matrizes usando a função `np.dot`;\n",
    "\n",
    "__Obs.:__ Atente-se a ordem das matrizes quando for realizar a multiplicação."
   ]
  },
  {
   "cell_type": "code",
   "execution_count": 19,
   "id": "cb102bcb",
   "metadata": {},
   "outputs": [
    {
     "name": "stdout",
     "output_type": "stream",
     "text": [
      "[[  105.26315789   431.57894737   452.63157895   389.47368421\n",
      "    389.47368421]\n",
      " [  852.63157895  2263.15789474  1505.26315789  1915.78947368\n",
      "   1800.        ]\n",
      " [ 1600.          4094.73684211  2557.89473684  3442.10526316\n",
      "   3210.52631579]\n",
      " [ 2347.36842105  5926.31578947  3610.52631579  4968.42105263\n",
      "   4621.05263158]\n",
      " [ 3094.73684211  7757.89473684  4663.15789474  6494.73684211\n",
      "   6031.57894737]\n",
      " [ 3842.10526316  9589.47368421  5715.78947368  8021.05263158\n",
      "   7442.10526316]\n",
      " [ 4589.47368421 11421.05263158  6768.42105263  9547.36842105\n",
      "   8852.63157895]\n",
      " [ 5336.84210526 13252.63157895  7821.05263158 11073.68421053\n",
      "  10263.15789474]\n",
      " [ 6084.21052632 15084.21052632  8873.68421053 12600.\n",
      "  11673.68421053]\n",
      " [ 6831.57894737 16915.78947368  9926.31578947 14126.31578947\n",
      "  13084.21052632]]\n"
     ]
    }
   ],
   "source": [
    "# Aplicando a multiplicação de matrizes usando np.dot\n",
    "matrix3 = np.dot(matrix1, matrix2)\n",
    "\n",
    "# Print da Matriz\n",
    "print(matrix3)"
   ]
  },
  {
   "cell_type": "markdown",
   "id": "7dd4ed1d",
   "metadata": {},
   "source": [
    "__E)__ Quais são as dimensões da matrizes resultante no item __D)__"
   ]
  },
  {
   "cell_type": "code",
   "execution_count": 20,
   "id": "7ccb027a",
   "metadata": {},
   "outputs": [
    {
     "data": {
      "text/plain": [
       "(10, 5)"
      ]
     },
     "execution_count": 20,
     "metadata": {},
     "output_type": "execute_result"
    }
   ],
   "source": [
    "# Dimensão da matriz resultante\n",
    "matrix3.shape"
   ]
  },
  {
   "cell_type": "markdown",
   "id": "84f1d866",
   "metadata": {},
   "source": [
    "## "
   ]
  },
  {
   "cell_type": "markdown",
   "id": "34c7789d",
   "metadata": {},
   "source": [
    "### Questão 4"
   ]
  },
  {
   "cell_type": "markdown",
   "id": "95b8f2e1",
   "metadata": {},
   "source": [
    "Vamos praticar gerar matrizes e fazer operações com as linhas e colunas:\n",
    "\n",
    "__A)__ Crie uma matriz A com as dimensões (5, 4) e elementos aleatórios variando entre 0 e 50, com o 50 incluso;\n",
    "\n",
    "__Dica.:__ Utilize as funções `np.random.randint` e `np.reshape`\n",
    "\n",
    "__B)__ Crie uma função que print os maiores valores de cada linha;\n",
    "\n",
    "__C)__ Crie uma função que print os menores valores de cada coluna."
   ]
  },
  {
   "cell_type": "markdown",
   "id": "7b2eea21",
   "metadata": {},
   "source": [
    "### Resolução:"
   ]
  },
  {
   "cell_type": "markdown",
   "id": "05de3b4a",
   "metadata": {},
   "source": [
    "Primeiramente, vamos importar a biblioteca do NumPy:"
   ]
  },
  {
   "cell_type": "code",
   "execution_count": 21,
   "id": "a4ea6b1e",
   "metadata": {},
   "outputs": [],
   "source": [
    "import numpy as np"
   ]
  },
  {
   "cell_type": "markdown",
   "id": "e9e16f0a",
   "metadata": {},
   "source": [
    "__A)__ Crie uma matriz A com as dimensões (5, 4) e elementos aleatórios variando entre 0 e 50, com o 50 incluso;\n",
    "\n",
    "__Dica.:__ Utilize as funções `np.random.randint` e `np.reshape`"
   ]
  },
  {
   "cell_type": "code",
   "execution_count": 63,
   "id": "e51dafc3",
   "metadata": {
    "scrolled": true
   },
   "outputs": [
    {
     "name": "stdout",
     "output_type": "stream",
     "text": [
      "[[38 28 14 42]\n",
      " [ 7 20 38 18]\n",
      " [22 10 10 23]\n",
      " [35 39 23  2]\n",
      " [21  1 23 43]]\n"
     ]
    }
   ],
   "source": [
    "# Define a semente aleatória\n",
    "np.random.seed(42)\n",
    "\n",
    "# Monta um vetor de 20 elementos com números aleatórios e depois faz um reshape (5,4)\n",
    "A = np.random.randint(0, 51, 20).reshape(5, 4)\n",
    "\n",
    "# Print da Matriz\n",
    "print(A)"
   ]
  },
  {
   "cell_type": "markdown",
   "id": "47e0bb3a",
   "metadata": {},
   "source": [
    "__B)__ Crie uma função que print os maiores valores de cada linha;"
   ]
  },
  {
   "cell_type": "code",
   "execution_count": 64,
   "id": "e079fc92",
   "metadata": {
    "scrolled": false
   },
   "outputs": [
    {
     "name": "stdout",
     "output_type": "stream",
     "text": [
      "Os maiores valores por linha da matriz: \n",
      "42\n",
      "38\n",
      "23\n",
      "39\n",
      "43\n"
     ]
    }
   ],
   "source": [
    "# Print do Texto\n",
    "print(\"Os maiores valores por linha da matriz: \")\n",
    "\n",
    "# Loop dos maiores números de cada linha\n",
    "for i in range(A.shape[0]):\n",
    "    print(np.max(A[i, :]))"
   ]
  },
  {
   "cell_type": "markdown",
   "id": "fc01c8e4",
   "metadata": {},
   "source": [
    "O mesmo pode ser feito com a função do _NumPy_ `np.amax`:"
   ]
  },
  {
   "cell_type": "code",
   "execution_count": 67,
   "id": "076a884e",
   "metadata": {},
   "outputs": [
    {
     "name": "stdout",
     "output_type": "stream",
     "text": [
      "[42 38 23 39 43]\n"
     ]
    }
   ],
   "source": [
    "# Print do maior valor de cada coluna\n",
    "print(np.amax(A, 1))"
   ]
  },
  {
   "cell_type": "markdown",
   "id": "4b099e57",
   "metadata": {},
   "source": [
    "__C)__ Crie uma função que print os menores valores de cada coluna."
   ]
  },
  {
   "cell_type": "code",
   "execution_count": 65,
   "id": "d059f14d",
   "metadata": {},
   "outputs": [
    {
     "name": "stdout",
     "output_type": "stream",
     "text": [
      "Os menores valores por coluna da matriz: \n",
      "7\n",
      "1\n",
      "10\n",
      "2\n"
     ]
    }
   ],
   "source": [
    "# Print do texto\n",
    "print(\"Os menores valores por coluna da matriz: \")\n",
    "\n",
    "# Loop dos menores números de cada linha\n",
    "for i in range(A.shape[1]):\n",
    "    print(np.min(A[:, i]))"
   ]
  },
  {
   "cell_type": "markdown",
   "id": "738341bb",
   "metadata": {},
   "source": [
    "O mesmo pode ser feito utilizando a função do _NumPy_ `np.amin`:"
   ]
  },
  {
   "cell_type": "code",
   "execution_count": 66,
   "id": "e810dfc9",
   "metadata": {},
   "outputs": [
    {
     "name": "stdout",
     "output_type": "stream",
     "text": [
      "[ 7  1 10  2]\n"
     ]
    }
   ],
   "source": [
    "# Print do menor valor de cada linha\n",
    "print(np.amin(A, 0))"
   ]
  },
  {
   "cell_type": "markdown",
   "id": "47aecd69",
   "metadata": {},
   "source": [
    "## "
   ]
  },
  {
   "cell_type": "markdown",
   "id": "b20529f7",
   "metadata": {},
   "source": [
    "### Questão 5"
   ]
  },
  {
   "cell_type": "markdown",
   "id": "243f367b",
   "metadata": {},
   "source": [
    "Vamos praticar o desenvolvimento de funções e operações com NumPy:\n",
    "\n",
    "__A)__ Desenvolva uma função chamada `cria_matriz` que receba os parâmetros (a, b, m, rs), onde [a, b] são o intervalos para os números aleatórios (onde b > a), m vai ser a dimensão da matriz quadrada m x m e rs é o número da semente aleatória (caso não seja passado nenhum valor utilizar o `None`);\n",
    "\n",
    "__B)__ Qual o resultado da multiplicação `cria_matriz(-6, 8, 4, 0)`*`cria_matriz(1, 50, 4, 0)`?\n",
    "\n",
    "__Dica.:__ Utilize a função `np.dot` para a multiplicação de matrizes"
   ]
  },
  {
   "cell_type": "markdown",
   "id": "f06e8915",
   "metadata": {},
   "source": [
    "### Resolução:"
   ]
  },
  {
   "cell_type": "markdown",
   "id": "8a849303",
   "metadata": {},
   "source": [
    "__A)__ Desenvolva uma função chamada `cria_matriz` que receba os parâmetros (a, b, m, rs), onde [a, b] são o intervalos para os números aleatórios (onde b > a), m vai ser a dimensão da matriz quadrada m x m e rs é o número da semente aleatória"
   ]
  },
  {
   "cell_type": "code",
   "execution_count": 70,
   "id": "158793c1",
   "metadata": {},
   "outputs": [],
   "source": [
    "# Cria a função que recebe (a, b, m, rs)\n",
    "def cria_matriz(a, b, m, rs = None):\n",
    "    # Define a semente aleatória\n",
    "    np.random.seed(rs)\n",
    "    # Testa a condição b > a\n",
    "    if a >= b:\n",
    "        print('o Valor de a é maior ou igual a b')\n",
    "        return\n",
    "    # Caso a condição seja satisfeita\n",
    "    else:\n",
    "        mtx = np.random.randint(a, b, m*m).reshape(m, m)\n",
    "    # Cria o vetor de números aleatorios entre a e b, e faz o reshape para m x m\n",
    "    return mtx"
   ]
  },
  {
   "cell_type": "code",
   "execution_count": 73,
   "id": "0cd54dda",
   "metadata": {},
   "outputs": [
    {
     "name": "stdout",
     "output_type": "stream",
     "text": [
      "[[24 27 33 12 15 15]\n",
      " [19 21 31 33 30 16]\n",
      " [35 18 36 36 24 13]\n",
      " [18 19 35 26 36 29]\n",
      " [17 37 25 20 21 32]\n",
      " [31 28 31 17 27 27]]\n"
     ]
    }
   ],
   "source": [
    "# Fazendo um teste para a função criada\n",
    "matrix = cria_matriz(12, 38, 6, 0)\n",
    "\n",
    "# Print da Matriz Resultante\n",
    "print(matrix)"
   ]
  },
  {
   "cell_type": "markdown",
   "id": "f93cb619",
   "metadata": {},
   "source": [
    "__B)__ Qual o resultado da multiplicação `cria_matiz(-6, 8, 4, 0)`*`cria_matiz(1, 50, 4, 0)`?\n",
    "\n",
    "__Dica.:__ Utilize a função `np.dot` para a multiplicação de matrizes"
   ]
  },
  {
   "cell_type": "markdown",
   "id": "008e740c",
   "metadata": {},
   "source": [
    "Para resolver este exercícios, vamos dividir em duas partes:\n",
    "- Criar as matrizes que vão ser multiplicadas;\n",
    "- Fazer a multiplicação de matrizes\n",
    "\n",
    "Vamos primeiro criar as matrizes:"
   ]
  },
  {
   "cell_type": "code",
   "execution_count": 27,
   "id": "dfb5eac5",
   "metadata": {},
   "outputs": [
    {
     "name": "stdout",
     "output_type": "stream",
     "text": [
      "[[ 6 -1 -6 -3]\n",
      " [ 5 -3  1  3]\n",
      " [-3 -1 -4 -2]\n",
      " [ 1  0  2  2]]\n"
     ]
    }
   ],
   "source": [
    "# Criando a matriz A\n",
    "A = cria_matriz(-6, 8, 4, 0)\n",
    "\n",
    "# Print da Matriz\n",
    "print(A)"
   ]
  },
  {
   "cell_type": "code",
   "execution_count": 28,
   "id": "2c103875",
   "metadata": {},
   "outputs": [
    {
     "name": "stdout",
     "output_type": "stream",
     "text": [
      "[[45 48  1  4]\n",
      " [ 4 40 10 20]\n",
      " [22 37 24  7]\n",
      " [25 25 13  2]]\n"
     ]
    }
   ],
   "source": [
    "# Criando a matriz B\n",
    "B = cria_matriz(1, 50, 4, 0)\n",
    "\n",
    "#Print da Matriz\n",
    "print(B)"
   ]
  },
  {
   "cell_type": "code",
   "execution_count": 29,
   "id": "91792d2d",
   "metadata": {
    "scrolled": true
   },
   "outputs": [
    {
     "name": "stdout",
     "output_type": "stream",
     "text": [
      "[[  59  -49 -187  -44]\n",
      " [ 310  232   38  -27]\n",
      " [-277 -382 -135  -64]\n",
      " [ 139  172   75   22]]\n"
     ]
    }
   ],
   "source": [
    "# Calcula a multiplicação de matriz entre A e B\n",
    "C = np.dot(A, B)\n",
    "\n",
    "# Print da Matriz da Resultante\n",
    "print(C)"
   ]
  },
  {
   "cell_type": "markdown",
   "id": "277b2dea",
   "metadata": {},
   "source": [
    "## "
   ]
  },
  {
   "cell_type": "markdown",
   "id": "d74b2d4f",
   "metadata": {},
   "source": [
    "### Questão 6\n",
    "\n",
    "Criar uma Matriz (10, 2) onde a primeira coluna tenham números de 1 a 10 e a segunda coluna esteja preenchida somente com zeros"
   ]
  },
  {
   "cell_type": "markdown",
   "id": "933b91ef",
   "metadata": {},
   "source": [
    "### Resolução:"
   ]
  },
  {
   "cell_type": "markdown",
   "id": "7efb6bd5",
   "metadata": {},
   "source": [
    "Primeiramente carregando a biblioteca do _NumPy_:"
   ]
  },
  {
   "cell_type": "code",
   "execution_count": 77,
   "id": "4993a314",
   "metadata": {},
   "outputs": [],
   "source": [
    "import numpy as np"
   ]
  },
  {
   "cell_type": "markdown",
   "id": "df00aac9",
   "metadata": {},
   "source": [
    "Podemos resolver esse exercício de algumas formas diferentes:"
   ]
  },
  {
   "cell_type": "code",
   "execution_count": 30,
   "id": "d48d1fac",
   "metadata": {},
   "outputs": [
    {
     "data": {
      "text/plain": [
       "array([ 1,  2,  3,  4,  5,  6,  7,  8,  9, 10])"
      ]
     },
     "execution_count": 30,
     "metadata": {},
     "output_type": "execute_result"
    }
   ],
   "source": [
    "col1 = np.arange(1, 11)\n",
    "col1"
   ]
  },
  {
   "cell_type": "markdown",
   "id": "de72be34",
   "metadata": {},
   "source": [
    "Utilizando a função `np.vstack`:"
   ]
  },
  {
   "cell_type": "code",
   "execution_count": 74,
   "id": "72118983",
   "metadata": {},
   "outputs": [
    {
     "name": "stdout",
     "output_type": "stream",
     "text": [
      "[[ 1.  0.]\n",
      " [ 2.  0.]\n",
      " [ 3.  0.]\n",
      " [ 4.  0.]\n",
      " [ 5.  0.]\n",
      " [ 6.  0.]\n",
      " [ 7.  0.]\n",
      " [ 8.  0.]\n",
      " [ 9.  0.]\n",
      " [10.  0.]]\n"
     ]
    }
   ],
   "source": [
    "# Resolvendo utilizando o vstack\n",
    "print(np.vstack((col1, np.zeros(10))).T)"
   ]
  },
  {
   "cell_type": "markdown",
   "id": "fd1cb472",
   "metadata": {},
   "source": [
    "Utilizando a função `np.hstack`:"
   ]
  },
  {
   "cell_type": "code",
   "execution_count": 75,
   "id": "8944de11",
   "metadata": {},
   "outputs": [
    {
     "name": "stdout",
     "output_type": "stream",
     "text": [
      "[[ 1.  0.]\n",
      " [ 2.  0.]\n",
      " [ 3.  0.]\n",
      " [ 4.  0.]\n",
      " [ 5.  0.]\n",
      " [ 6.  0.]\n",
      " [ 7.  0.]\n",
      " [ 8.  0.]\n",
      " [ 9.  0.]\n",
      " [10.  0.]]\n"
     ]
    }
   ],
   "source": [
    "# Resolvendo utilizando o hstack\n",
    "print(np.hstack((col1.reshape(10, 1), np.zeros((10, 1)))))"
   ]
  },
  {
   "cell_type": "markdown",
   "id": "642cd963",
   "metadata": {},
   "source": [
    "Utilizando a função `np.concatanate`:"
   ]
  },
  {
   "cell_type": "code",
   "execution_count": 33,
   "id": "b3d69b03",
   "metadata": {
    "scrolled": true
   },
   "outputs": [
    {
     "data": {
      "text/plain": [
       "array([[ 1.,  0.],\n",
       "       [ 2.,  0.],\n",
       "       [ 3.,  0.],\n",
       "       [ 4.,  0.],\n",
       "       [ 5.,  0.],\n",
       "       [ 6.,  0.],\n",
       "       [ 7.,  0.],\n",
       "       [ 8.,  0.],\n",
       "       [ 9.,  0.],\n",
       "       [10.,  0.]])"
      ]
     },
     "execution_count": 33,
     "metadata": {},
     "output_type": "execute_result"
    }
   ],
   "source": [
    "# Utilizando o np.concatanate\n",
    "print(np.concatenate((col1.reshape(10,1), np.zeros((10,1))), axis=1))"
   ]
  },
  {
   "cell_type": "markdown",
   "id": "3ce56846",
   "metadata": {},
   "source": [
    "Utilizando Loop e listas:"
   ]
  },
  {
   "cell_type": "code",
   "execution_count": 76,
   "id": "08090dbd",
   "metadata": {
    "scrolled": true
   },
   "outputs": [
    {
     "name": "stdout",
     "output_type": "stream",
     "text": [
      "[[ 1  0]\n",
      " [ 2  0]\n",
      " [ 3  0]\n",
      " [ 4  0]\n",
      " [ 5  0]\n",
      " [ 6  0]\n",
      " [ 7  0]\n",
      " [ 8  0]\n",
      " [ 9  0]\n",
      " [10  0]]\n"
     ]
    }
   ],
   "source": [
    "# Cria uma lista vazia\n",
    "lista = []\n",
    "\n",
    "# loop para criar os números\n",
    "for i in range(1, 11):\n",
    "    lista.append([i, 0])\n",
    "    \n",
    "# Print da lista\n",
    "print(np.array(lista))"
   ]
  },
  {
   "cell_type": "markdown",
   "id": "de29dbd8",
   "metadata": {},
   "source": [
    "## "
   ]
  },
  {
   "cell_type": "markdown",
   "id": "d56bb43b",
   "metadata": {},
   "source": [
    "### Questão 7\n",
    "\n",
    "Vamos praticar o uso de Slices em Numpy Arrays:\n",
    "\n",
    "__A)__ Crie um array com 20 números sequenciais\n",
    "\n",
    "__B)__ Crie um slice que selecione somente as posições pares do array (0, 2, 4, 6, 8, ...)\n",
    "\n",
    "__C)__ Crie um slice que selecione somente as posições impares do array (1, 3, 5, 7, 9, ...)\n",
    "\n",
    "__D)__ Crie um slice que selecione do 5 ao 10 elemento\n",
    "\n",
    "__E)__ Crie um slice que inverta o array\n",
    "\n",
    "__F)__ Crie um slice inverte somente os dois ultimos elementos e retorna uma lista com 2 elementos"
   ]
  },
  {
   "cell_type": "markdown",
   "id": "9ded4957",
   "metadata": {},
   "source": [
    "### Resolução"
   ]
  },
  {
   "cell_type": "markdown",
   "id": "581daad5",
   "metadata": {},
   "source": [
    "Primeiramente, vamos carregar a biblioteca do _NumPy_:"
   ]
  },
  {
   "cell_type": "code",
   "execution_count": 78,
   "id": "8e34f5fd",
   "metadata": {},
   "outputs": [],
   "source": [
    "import numpy as np"
   ]
  },
  {
   "cell_type": "markdown",
   "id": "9211f5fe",
   "metadata": {},
   "source": [
    "__A)__ Crie um array com 20 números sequenciais\n"
   ]
  },
  {
   "cell_type": "code",
   "execution_count": 79,
   "id": "6d842dd6",
   "metadata": {},
   "outputs": [
    {
     "name": "stdout",
     "output_type": "stream",
     "text": [
      "[ 0  1  2  3  4  5  6  7  8  9 10 11 12 13 14 15 16 17 18 19]\n"
     ]
    }
   ],
   "source": [
    "# Cria o array\n",
    "arr = np.arange(20)\n",
    "\n",
    "# Print do Array\n",
    "print(arr)"
   ]
  },
  {
   "cell_type": "markdown",
   "id": "c20e998f",
   "metadata": {},
   "source": [
    "\n",
    "__B)__ Crie um slice que selecione somente as posições pares do array (0, 2, 4, 6, 8, ...)"
   ]
  },
  {
   "cell_type": "code",
   "execution_count": 80,
   "id": "2bdc297a",
   "metadata": {},
   "outputs": [
    {
     "name": "stdout",
     "output_type": "stream",
     "text": [
      "[ 0  2  4  6  8 10 12 14 16 18]\n"
     ]
    }
   ],
   "source": [
    "# Print do Slice\n",
    "print(arr[::2])"
   ]
  },
  {
   "cell_type": "markdown",
   "id": "815041bf",
   "metadata": {},
   "source": [
    "__C)__ Crie um slice que selecione somente as posições impares do array (1, 3, 5, 7, 9, ...)\n"
   ]
  },
  {
   "cell_type": "code",
   "execution_count": 81,
   "id": "e9726897",
   "metadata": {},
   "outputs": [
    {
     "name": "stdout",
     "output_type": "stream",
     "text": [
      "[ 1  3  5  7  9 11 13 15 17 19]\n"
     ]
    }
   ],
   "source": [
    "# Print do Slice\n",
    "print(arr[1::2])"
   ]
  },
  {
   "cell_type": "markdown",
   "id": "c30388fc",
   "metadata": {},
   "source": [
    "__D)__ Crie um slice que selecione do 5 ao 10 elemento\n"
   ]
  },
  {
   "cell_type": "code",
   "execution_count": 82,
   "id": "f8cd2b9a",
   "metadata": {},
   "outputs": [
    {
     "name": "stdout",
     "output_type": "stream",
     "text": [
      "[4 5 6 7 8 9]\n"
     ]
    }
   ],
   "source": [
    "# Print do Slice\n",
    "print(arr[4:10])"
   ]
  },
  {
   "cell_type": "markdown",
   "id": "96da3c16",
   "metadata": {},
   "source": [
    "\n",
    "__D)__ Crie um slice que inverta o array\n"
   ]
  },
  {
   "cell_type": "code",
   "execution_count": 83,
   "id": "11caaf20",
   "metadata": {},
   "outputs": [
    {
     "name": "stdout",
     "output_type": "stream",
     "text": [
      "[19 18 17 16 15 14 13 12 11 10  9  8  7  6  5  4  3  2  1  0]\n"
     ]
    }
   ],
   "source": [
    "# Print do Slice\n",
    "print(arr[::-1])"
   ]
  },
  {
   "cell_type": "markdown",
   "id": "91fe387c",
   "metadata": {},
   "source": [
    "\n",
    "__E)__ Crie um slice inverte somente os dois ultimos elementos e retorna uma lista com 2 elementos"
   ]
  },
  {
   "cell_type": "code",
   "execution_count": 84,
   "id": "67e9ff2c",
   "metadata": {},
   "outputs": [
    {
     "name": "stdout",
     "output_type": "stream",
     "text": [
      "[19 18]\n"
     ]
    }
   ],
   "source": [
    "# Print do Slice\n",
    "print(arr[:-3:-1])"
   ]
  }
 ],
 "metadata": {
  "kernelspec": {
   "display_name": "Python 3 (ipykernel)",
   "language": "python",
   "name": "python3"
  },
  "language_info": {
   "codemirror_mode": {
    "name": "ipython",
    "version": 3
   },
   "file_extension": ".py",
   "mimetype": "text/x-python",
   "name": "python",
   "nbconvert_exporter": "python",
   "pygments_lexer": "ipython3",
   "version": "3.8.10"
  }
 },
 "nbformat": 4,
 "nbformat_minor": 5
}
