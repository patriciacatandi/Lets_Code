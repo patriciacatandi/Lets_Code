{
 "cells": [
  {
   "cell_type": "markdown",
   "id": "5a6e6798",
   "metadata": {},
   "source": [
    "# Exercícios - Pandas"
   ]
  },
  {
   "cell_type": "markdown",
   "id": "1d30f5db",
   "metadata": {},
   "source": [
    "### Questão 1\n",
    "\n",
    "Em um concurso público foram contabilizados os números de pessoas inscritas (até a data inicialmente estabelecida para a inscrição) segundo os níveis de escolaridade: fundamental completo, médio completo, superior completo e pós-graduação completa. Segue abaixo a tabela com os valores observados.\n",
    "\n",
    "| Nível de Escolaridade  | Inscritos |\n",
    "|------------------------|-----------|\n",
    "| Fundamental Completo   |   451     |\n",
    "| Médio Completo         |   627     |\n",
    "| Superior Completo      |   291     |\n",
    "| Pós-Graduação Completa |    95     |\n",
    "\n",
    "Com base na tabela acima, crie uma Series com esses valores e calcule:\n",
    "\n",
    "__A)__ O número total de inscritos;\n",
    "\n",
    "__B)__ Número inscritos que possuem, pelo menos, o superior completo;\n",
    "\n",
    "__C)__ Suponha que a inscrição foi prorrogada e, com isso, foi obtido um número adicional de inscrições: 68, 93, 22 e 0 inscritos a mais em cada uma das categorias de escolaridade apresentados na tabela acima (na mesma ordem). Assim, crie uma nova Series com esses valores;\n",
    "\n",
    "__D)__ Utilizando as duas Series que você tem, calcule o número total de inscritos após a prorrogação do período de inscrições."
   ]
  },
  {
   "cell_type": "markdown",
   "id": "f3731eb0",
   "metadata": {},
   "source": [
    "## "
   ]
  },
  {
   "cell_type": "markdown",
   "id": "db0f9321",
   "metadata": {},
   "source": [
    "### Resolução:"
   ]
  },
  {
   "cell_type": "markdown",
   "id": "fc009ea9",
   "metadata": {},
   "source": [
    "Primeiramente, vamos importar a biblioteca _Pandas_ e em seguida definir a _Series_ de números de inscritos iniciais pela escolaridade:"
   ]
  },
  {
   "cell_type": "code",
   "execution_count": 1,
   "id": "b9122cfb",
   "metadata": {},
   "outputs": [],
   "source": [
    "# Import da Biblioteca\n",
    "import pandas as pd"
   ]
  },
  {
   "cell_type": "code",
   "execution_count": 2,
   "id": "32d7e75e",
   "metadata": {},
   "outputs": [],
   "source": [
    "# Lista com o niveis de escolaridade\n",
    "nivel_escolaridade = ['Fundamental Completo', \n",
    "                      'Médio Completo', \n",
    "                      'Superior Completo', \n",
    "                      'Pós-Graduação Completa']\n",
    "\n",
    "# Lista com os números de inscritos\n",
    "n_inscritos = [451, 627, 291, 95]"
   ]
  },
  {
   "cell_type": "code",
   "execution_count": 3,
   "id": "7a80154a",
   "metadata": {
    "scrolled": true
   },
   "outputs": [
    {
     "data": {
      "text/plain": [
       "Fundamental Completo      451\n",
       "Médio Completo            627\n",
       "Superior Completo         291\n",
       "Pós-Graduação Completa     95\n",
       "dtype: int64"
      ]
     },
     "execution_count": 3,
     "metadata": {},
     "output_type": "execute_result"
    }
   ],
   "source": [
    "# Cria a Séries usando as listas anteriores\n",
    "inscritos = pd.Series(data = n_inscritos,\n",
    "                      index = nivel_escolaridade)\n",
    "\n",
    "# Print da Series\n",
    "inscritos"
   ]
  },
  {
   "cell_type": "markdown",
   "id": "8e2de888",
   "metadata": {},
   "source": [
    "__A)__ O número total de inscritos;"
   ]
  },
  {
   "cell_type": "code",
   "execution_count": 4,
   "id": "cc971fb9",
   "metadata": {},
   "outputs": [
    {
     "data": {
      "text/plain": [
       "1464"
      ]
     },
     "execution_count": 4,
     "metadata": {},
     "output_type": "execute_result"
    }
   ],
   "source": [
    "# Calcula a soma do número de inscritos\n",
    "inscritos.sum()"
   ]
  },
  {
   "cell_type": "markdown",
   "id": "70e05324",
   "metadata": {},
   "source": [
    "__B)__ Número inscritos que possuem, pelo menos, o superior completo;"
   ]
  },
  {
   "cell_type": "code",
   "execution_count": 5,
   "id": "7be2d5fe",
   "metadata": {
    "scrolled": true
   },
   "outputs": [
    {
     "data": {
      "text/plain": [
       "386"
      ]
     },
     "execution_count": 5,
     "metadata": {},
     "output_type": "execute_result"
    }
   ],
   "source": [
    "# Filtra apenas os inscritos com Superior Completo e Pós-Graduação Completa\n",
    "inscrição_superior = inscritos[(inscritos.index == 'Superior Completo') | (inscritos.index == 'Pós-Graduação Completa')]\n",
    "\n",
    "# Calcula a soma para esses inscritos\n",
    "inscrição_superior.sum()"
   ]
  },
  {
   "cell_type": "markdown",
   "id": "5b815035",
   "metadata": {},
   "source": [
    "__C)__ Suponha que a inscrição foi prorrogada e, com isso, foi obtido um número adicional de inscrições: 68, 93, 22 e 0 inscritos a mais em cada uma das categorias de escolaridade apresentados na tabela acima (na mesma ordem). Assim, crie uma nova Series com esses valores;"
   ]
  },
  {
   "cell_type": "code",
   "execution_count": 6,
   "id": "6179ca14",
   "metadata": {},
   "outputs": [],
   "source": [
    "# Lista com os números de novos inscritos\n",
    "novas_inscricoes = [68, 93, 22, 0]"
   ]
  },
  {
   "cell_type": "code",
   "execution_count": 7,
   "id": "b08276af",
   "metadata": {
    "scrolled": true
   },
   "outputs": [
    {
     "data": {
      "text/plain": [
       "Fundamental Completo      68\n",
       "Médio Completo            93\n",
       "Superior Completo         22\n",
       "Pós-Graduação Completa     0\n",
       "dtype: int64"
      ]
     },
     "execution_count": 7,
     "metadata": {},
     "output_type": "execute_result"
    }
   ],
   "source": [
    "# Cria a Séries para os novos inscritos\n",
    "novos_inscritos = pd.Series(data = novas_inscricoes,\n",
    "                            index = nivel_escolaridade)\n",
    "\n",
    "# Print da Série\n",
    "novos_inscritos"
   ]
  },
  {
   "cell_type": "markdown",
   "id": "56cc6c9f",
   "metadata": {},
   "source": [
    "__D)__ Utilizando as duas Series que você tem, calcule o número total de inscritos após a prorrogação do período de inscrições."
   ]
  },
  {
   "cell_type": "code",
   "execution_count": 31,
   "id": "60559c0d",
   "metadata": {},
   "outputs": [
    {
     "data": {
      "text/plain": [
       "Fundamental Completo      519\n",
       "Médio Completo            720\n",
       "Superior Completo         313\n",
       "Pós-Graduação Completa     95\n",
       "dtype: int64"
      ]
     },
     "execution_count": 31,
     "metadata": {},
     "output_type": "execute_result"
    }
   ],
   "source": [
    "# Como ambas series tem o mesmo index, bastante somar ambas as series\n",
    "total_inscritos = inscritos + novos_inscritos\n",
    "\n",
    "# Print da Série\n",
    "total_inscritos"
   ]
  },
  {
   "cell_type": "code",
   "execution_count": 32,
   "id": "ecc24a57",
   "metadata": {},
   "outputs": [
    {
     "data": {
      "text/plain": [
       "1647"
      ]
     },
     "execution_count": 32,
     "metadata": {},
     "output_type": "execute_result"
    }
   ],
   "source": [
    "# Calcula a soma para o total de inscritos\n",
    "total_inscritos.sum()"
   ]
  },
  {
   "cell_type": "markdown",
   "id": "ad22e99d",
   "metadata": {},
   "source": [
    "##  "
   ]
  },
  {
   "cell_type": "markdown",
   "id": "c1e0b598",
   "metadata": {},
   "source": [
    "### Questão 2\n",
    "\n",
    "Uma turma de cinco alunos foi submetida a uma avaliação e a nota de cada um dos alunos é apresentada na tabela abaixo:\n",
    "\n",
    "| Nome dos Alunos  | Nota |\n",
    "|------------------|------|\n",
    "|     Wilfred      | 2 |\n",
    "|     Abbie        | 7 |\n",
    "|     Harry        | 5.5 |\n",
    "|     Julia        | 10 |\n",
    "|     Carrie       | 6.2 |\n",
    "\n",
    "\n",
    "__A)__ Crie uma Series com os valores da tabela acima;\n",
    "\n",
    "__B)__ Retorne o número de alunos que foram aprovados (considerando que a nota mínima para a aprovação é 7);\n",
    "\n",
    "__C)__ Qual foi a nota média da turma;\n",
    "\n",
    "__D)__ Obtenha o nome dos alunos que tiraram notas acima da média da turma."
   ]
  },
  {
   "cell_type": "markdown",
   "id": "937082ed",
   "metadata": {},
   "source": [
    "## "
   ]
  },
  {
   "cell_type": "markdown",
   "id": "54bdf4db",
   "metadata": {},
   "source": [
    "### Resolução:"
   ]
  },
  {
   "cell_type": "code",
   "execution_count": 8,
   "id": "e9088bf9",
   "metadata": {},
   "outputs": [],
   "source": [
    "# Import da Biblioteca\n",
    "import pandas as pd"
   ]
  },
  {
   "cell_type": "markdown",
   "id": "091f251f",
   "metadata": {},
   "source": [
    "__A)__ Crie uma Series com os valores da tabela acima;"
   ]
  },
  {
   "cell_type": "code",
   "execution_count": 9,
   "id": "039925c8",
   "metadata": {},
   "outputs": [],
   "source": [
    "# Lista com os nomes dos alunos\n",
    "nome_alunos = ['Wilfred', \n",
    "               'Abbie', \n",
    "               'Harry', \n",
    "               'Julia',\n",
    "               'Carrie']\n",
    "\n",
    "# Lista com as notas\n",
    "notas = [2, 7, 5.5, 10, 6.2]"
   ]
  },
  {
   "cell_type": "code",
   "execution_count": 10,
   "id": "cd1d00b9",
   "metadata": {},
   "outputs": [
    {
     "data": {
      "text/plain": [
       "Wilfred     2.0\n",
       "Abbie       7.0\n",
       "Harry       5.5\n",
       "Julia      10.0\n",
       "Carrie      6.2\n",
       "dtype: float64"
      ]
     },
     "execution_count": 10,
     "metadata": {},
     "output_type": "execute_result"
    }
   ],
   "source": [
    "# Cria a Séries usando as listas anteriores\n",
    "turma = pd.Series(data = notas,\n",
    "                  index = nome_alunos)\n",
    "\n",
    "# Print da Series\n",
    "turma"
   ]
  },
  {
   "cell_type": "markdown",
   "id": "37b5706c",
   "metadata": {},
   "source": [
    "__B)__ Retorne o número de alunos que foram aprovados (considerando que a nota mínima para a aprovação é 7);"
   ]
  },
  {
   "cell_type": "code",
   "execution_count": 11,
   "id": "7a475fcc",
   "metadata": {},
   "outputs": [
    {
     "data": {
      "text/plain": [
       "array([False,  True, False,  True, False])"
      ]
     },
     "execution_count": 11,
     "metadata": {},
     "output_type": "execute_result"
    }
   ],
   "source": [
    "# Mascara Booleana para filtrar os alunos com notas maior que 7\n",
    "mask = turma.values >= 7\n",
    "\n",
    "# Print da Mascara Booleana\n",
    "mask"
   ]
  },
  {
   "cell_type": "code",
   "execution_count": 12,
   "id": "d9c10a82",
   "metadata": {},
   "outputs": [
    {
     "data": {
      "text/plain": [
       "Abbie     7.0\n",
       "Julia    10.0\n",
       "dtype: float64"
      ]
     },
     "execution_count": 12,
     "metadata": {},
     "output_type": "execute_result"
    }
   ],
   "source": [
    "# Visualização do filtro dos alunos\n",
    "turma[mask]"
   ]
  },
  {
   "cell_type": "code",
   "execution_count": 21,
   "id": "ff79f11e",
   "metadata": {},
   "outputs": [
    {
     "name": "stdout",
     "output_type": "stream",
     "text": [
      "2\n"
     ]
    }
   ],
   "source": [
    "# Utilizando o filtro para fazer a contagem de alunos\n",
    "print(turma[mask].count())"
   ]
  },
  {
   "cell_type": "markdown",
   "id": "41d46d95",
   "metadata": {},
   "source": [
    "__C)__ Qual foi a nota média da turma;"
   ]
  },
  {
   "cell_type": "code",
   "execution_count": 20,
   "id": "853e2eb2",
   "metadata": {},
   "outputs": [
    {
     "name": "stdout",
     "output_type": "stream",
     "text": [
      "6.14\n"
     ]
    }
   ],
   "source": [
    "# Calculando a média dos alunos\n",
    "media_alunos = turma.mean()\n",
    "print(media_alunos)"
   ]
  },
  {
   "cell_type": "markdown",
   "id": "715a8117",
   "metadata": {},
   "source": [
    "__D)__ Obtenha o nome dos alunos que tiraram notas acima da média da turma."
   ]
  },
  {
   "cell_type": "code",
   "execution_count": 19,
   "id": "f5d55e16",
   "metadata": {},
   "outputs": [
    {
     "name": "stdout",
     "output_type": "stream",
     "text": [
      "['Abbie', 'Julia', 'Carrie']\n"
     ]
    }
   ],
   "source": [
    "# Filtra os alunos de acordo com a média e prita o nome dos alunos com o index\n",
    "nomes = turma[turma.values > media_alunos].index.to_list()\n",
    "print(nomes)"
   ]
  },
  {
   "cell_type": "markdown",
   "id": "812858ef",
   "metadata": {},
   "source": [
    "## "
   ]
  },
  {
   "cell_type": "markdown",
   "id": "7c4fe4ef",
   "metadata": {},
   "source": [
    "### Questão 3\n",
    "\n",
    "Crie um objeto DataFrame que contenha os dados da tabela abaixo, os quais se referem ao peso, altura e idade de cinco pessoas:\n",
    "\n",
    "\n",
    "| Peso (kg) | Altura (cm) | Idade (anos) |\n",
    "|-----------|-------------|--------------|\n",
    "|  47 | 161\t| 31 |\n",
    "|  80 | 170\t| 21 |\n",
    "|  60 | 175\t| 16 |\n",
    "|  90 | 162\t| 28 |\n",
    "| 100 | 185\t| 23 |\n",
    "| 147 | 189 | 32 |\n",
    "\n",
    "Com base no DataFrame criado, realize o que pedido nos itens abaixo:\n",
    "\n",
    "__A)__ Visualize apenas os dados da coluna que contém a altura das pessoas;\n",
    "\n",
    "__B)__ Obtenha a idade média das pessoas;\n",
    "\n",
    "__C)__ Obtenha os dados das pessoas que estão abaixo da altura média;\n",
    "\n",
    "__D)__ Crie um nova coluna no DataFrame que contenha o IMC (Índice de Massa Corporal) de cada pessoa;\n",
    "\n",
    "__Obs.:__ A fórmula para o IMC é dada por IMC = Peso/(Altura)² com o peso em kg e a altura em metros.\n",
    "\n",
    "__E)__ Remova a coluna que contém a idade das pessoas;\n",
    "\n",
    "__F)__ Crie uma nova coluna chamada Classificação, que contenha a classificação de cada indivíduo, de acordo com o seu IMC. Para isso, consulte a tabela abaixo.\n",
    "\n",
    "| IMC             | Classificação |\n",
    "|-----------------|---------------|\n",
    "Menor que 18,5    | Subpeso |\n",
    "Entre 18,5 e 24,9 | Normal |\n",
    "Entre 25,0 e 29,9 | Sobrepeso |\n",
    "Entre 30,0 e 39,9 | Obesidade Grau I |\n",
    "Maior que 40,0    | Obesidade Grau II |\n",
    "\n",
    "__G)__ Salve esses dados do DataFrame em um arquivo csv."
   ]
  },
  {
   "cell_type": "markdown",
   "id": "7e6f9d33",
   "metadata": {},
   "source": [
    "##  "
   ]
  },
  {
   "cell_type": "markdown",
   "id": "dfecf8f6",
   "metadata": {},
   "source": [
    "### Resolução:"
   ]
  },
  {
   "cell_type": "code",
   "execution_count": 22,
   "id": "35171f1b",
   "metadata": {},
   "outputs": [],
   "source": [
    "import numpy as np\n",
    "import pandas as pd"
   ]
  },
  {
   "cell_type": "markdown",
   "id": "6f6cffad",
   "metadata": {},
   "source": [
    "__A)__ Visualize apenas os dados da coluna que contém a altura das pessoas;"
   ]
  },
  {
   "cell_type": "code",
   "execution_count": 24,
   "id": "68523750",
   "metadata": {},
   "outputs": [
    {
     "data": {
      "text/html": [
       "<div>\n",
       "<style scoped>\n",
       "    .dataframe tbody tr th:only-of-type {\n",
       "        vertical-align: middle;\n",
       "    }\n",
       "\n",
       "    .dataframe tbody tr th {\n",
       "        vertical-align: top;\n",
       "    }\n",
       "\n",
       "    .dataframe thead th {\n",
       "        text-align: right;\n",
       "    }\n",
       "</style>\n",
       "<table border=\"1\" class=\"dataframe\">\n",
       "  <thead>\n",
       "    <tr style=\"text-align: right;\">\n",
       "      <th></th>\n",
       "      <th>Peso</th>\n",
       "      <th>Altura</th>\n",
       "      <th>Idade</th>\n",
       "    </tr>\n",
       "  </thead>\n",
       "  <tbody>\n",
       "    <tr>\n",
       "      <th>0</th>\n",
       "      <td>47</td>\n",
       "      <td>161</td>\n",
       "      <td>31</td>\n",
       "    </tr>\n",
       "    <tr>\n",
       "      <th>1</th>\n",
       "      <td>80</td>\n",
       "      <td>170</td>\n",
       "      <td>21</td>\n",
       "    </tr>\n",
       "    <tr>\n",
       "      <th>2</th>\n",
       "      <td>60</td>\n",
       "      <td>175</td>\n",
       "      <td>16</td>\n",
       "    </tr>\n",
       "    <tr>\n",
       "      <th>3</th>\n",
       "      <td>90</td>\n",
       "      <td>162</td>\n",
       "      <td>28</td>\n",
       "    </tr>\n",
       "    <tr>\n",
       "      <th>4</th>\n",
       "      <td>100</td>\n",
       "      <td>185</td>\n",
       "      <td>23</td>\n",
       "    </tr>\n",
       "    <tr>\n",
       "      <th>5</th>\n",
       "      <td>147</td>\n",
       "      <td>189</td>\n",
       "      <td>32</td>\n",
       "    </tr>\n",
       "  </tbody>\n",
       "</table>\n",
       "</div>"
      ],
      "text/plain": [
       "   Peso  Altura  Idade\n",
       "0    47     161     31\n",
       "1    80     170     21\n",
       "2    60     175     16\n",
       "3    90     162     28\n",
       "4   100     185     23\n",
       "5   147     189     32"
      ]
     },
     "execution_count": 24,
     "metadata": {},
     "output_type": "execute_result"
    }
   ],
   "source": [
    "# Cria um dicionario com cada uma das informações das pessoas\n",
    "dictionary = {'Peso': [47, 80, 60, 90, 100, 147],\n",
    "              'Altura': [161, 170, 175, 162, 185, 189],\n",
    "              'Idade': [31, 21, 16, 28, 23, 32]}\n",
    "\n",
    "# Cria um DataFrame a partir de um dicionario\n",
    "pessoas = pd.DataFrame(dictionary)\n",
    "\n",
    "# Mostra o resultado do DataFrame\n",
    "pessoas"
   ]
  },
  {
   "cell_type": "code",
   "execution_count": 29,
   "id": "7b377f5a",
   "metadata": {},
   "outputs": [
    {
     "data": {
      "text/html": [
       "<div>\n",
       "<style scoped>\n",
       "    .dataframe tbody tr th:only-of-type {\n",
       "        vertical-align: middle;\n",
       "    }\n",
       "\n",
       "    .dataframe tbody tr th {\n",
       "        vertical-align: top;\n",
       "    }\n",
       "\n",
       "    .dataframe thead th {\n",
       "        text-align: right;\n",
       "    }\n",
       "</style>\n",
       "<table border=\"1\" class=\"dataframe\">\n",
       "  <thead>\n",
       "    <tr style=\"text-align: right;\">\n",
       "      <th></th>\n",
       "      <th>Altura</th>\n",
       "    </tr>\n",
       "  </thead>\n",
       "  <tbody>\n",
       "    <tr>\n",
       "      <th>0</th>\n",
       "      <td>161</td>\n",
       "    </tr>\n",
       "    <tr>\n",
       "      <th>1</th>\n",
       "      <td>170</td>\n",
       "    </tr>\n",
       "    <tr>\n",
       "      <th>2</th>\n",
       "      <td>175</td>\n",
       "    </tr>\n",
       "    <tr>\n",
       "      <th>3</th>\n",
       "      <td>162</td>\n",
       "    </tr>\n",
       "    <tr>\n",
       "      <th>4</th>\n",
       "      <td>185</td>\n",
       "    </tr>\n",
       "    <tr>\n",
       "      <th>5</th>\n",
       "      <td>189</td>\n",
       "    </tr>\n",
       "  </tbody>\n",
       "</table>\n",
       "</div>"
      ],
      "text/plain": [
       "   Altura\n",
       "0     161\n",
       "1     170\n",
       "2     175\n",
       "3     162\n",
       "4     185\n",
       "5     189"
      ]
     },
     "execution_count": 29,
     "metadata": {},
     "output_type": "execute_result"
    }
   ],
   "source": [
    "#Visualizando apenas a coluna com a altura das pessoas\n",
    "\n",
    "#visualização como DataFrame\n",
    "pessoas[['Altura']]"
   ]
  },
  {
   "cell_type": "code",
   "execution_count": 28,
   "id": "27693837",
   "metadata": {},
   "outputs": [
    {
     "data": {
      "text/plain": [
       "0    161\n",
       "1    170\n",
       "2    175\n",
       "3    162\n",
       "4    185\n",
       "5    189\n",
       "Name: Altura, dtype: int64"
      ]
     },
     "execution_count": 28,
     "metadata": {},
     "output_type": "execute_result"
    }
   ],
   "source": [
    "#visualização como Serie\n",
    "pessoas['Altura']"
   ]
  },
  {
   "cell_type": "markdown",
   "id": "9d48cde1",
   "metadata": {},
   "source": [
    "__B)__ Obtenha a idade média das pessoas;"
   ]
  },
  {
   "cell_type": "code",
   "execution_count": 35,
   "id": "f4105f95",
   "metadata": {},
   "outputs": [
    {
     "name": "stdout",
     "output_type": "stream",
     "text": [
      "a média das idades é 25.17\n"
     ]
    }
   ],
   "source": [
    "# Chama a coluna Idade do DataFrame e calcula a média\n",
    "media_idade = pessoas['Idade'].mean()\n",
    "\n",
    "# Print da Média de Idades\n",
    "print(f'a média das idades é {media_idade:.2f}')"
   ]
  },
  {
   "cell_type": "markdown",
   "id": "53d4ba93",
   "metadata": {},
   "source": [
    "__C)__ Obtenha os dados das pessoas que estão abaixo da altura média;"
   ]
  },
  {
   "cell_type": "code",
   "execution_count": 37,
   "id": "7c2c80f6",
   "metadata": {},
   "outputs": [
    {
     "data": {
      "text/plain": [
       "0     True\n",
       "1     True\n",
       "2    False\n",
       "3     True\n",
       "4    False\n",
       "5    False\n",
       "Name: Altura, dtype: bool"
      ]
     },
     "execution_count": 37,
     "metadata": {},
     "output_type": "execute_result"
    }
   ],
   "source": [
    "# Calcula a média das alturas\n",
    "media_altura = pessoas['Altura'].mean()\n",
    "\n",
    "# Cria um filtro usando máscara booleana\n",
    "mask = pessoas['Altura'] < media_altura\n",
    "\n",
    "# Visualiza o resultado da mascara booleana\n",
    "mask"
   ]
  },
  {
   "cell_type": "code",
   "execution_count": 38,
   "id": "ec3415a4",
   "metadata": {},
   "outputs": [
    {
     "data": {
      "text/html": [
       "<div>\n",
       "<style scoped>\n",
       "    .dataframe tbody tr th:only-of-type {\n",
       "        vertical-align: middle;\n",
       "    }\n",
       "\n",
       "    .dataframe tbody tr th {\n",
       "        vertical-align: top;\n",
       "    }\n",
       "\n",
       "    .dataframe thead th {\n",
       "        text-align: right;\n",
       "    }\n",
       "</style>\n",
       "<table border=\"1\" class=\"dataframe\">\n",
       "  <thead>\n",
       "    <tr style=\"text-align: right;\">\n",
       "      <th></th>\n",
       "      <th>Peso</th>\n",
       "      <th>Altura</th>\n",
       "      <th>Idade</th>\n",
       "    </tr>\n",
       "  </thead>\n",
       "  <tbody>\n",
       "    <tr>\n",
       "      <th>0</th>\n",
       "      <td>47</td>\n",
       "      <td>161</td>\n",
       "      <td>31</td>\n",
       "    </tr>\n",
       "    <tr>\n",
       "      <th>1</th>\n",
       "      <td>80</td>\n",
       "      <td>170</td>\n",
       "      <td>21</td>\n",
       "    </tr>\n",
       "    <tr>\n",
       "      <th>3</th>\n",
       "      <td>90</td>\n",
       "      <td>162</td>\n",
       "      <td>28</td>\n",
       "    </tr>\n",
       "  </tbody>\n",
       "</table>\n",
       "</div>"
      ],
      "text/plain": [
       "   Peso  Altura  Idade\n",
       "0    47     161     31\n",
       "1    80     170     21\n",
       "3    90     162     28"
      ]
     },
     "execution_count": 38,
     "metadata": {},
     "output_type": "execute_result"
    }
   ],
   "source": [
    "# Filtra as pessoas com Altura abaixo da média\n",
    "pessoas[mask]"
   ]
  },
  {
   "cell_type": "markdown",
   "id": "150a7304",
   "metadata": {},
   "source": [
    "Podemos fazer a mesma resolução mas de uma forma mais direta:"
   ]
  },
  {
   "cell_type": "code",
   "execution_count": 39,
   "id": "8e676e19",
   "metadata": {},
   "outputs": [
    {
     "data": {
      "text/html": [
       "<div>\n",
       "<style scoped>\n",
       "    .dataframe tbody tr th:only-of-type {\n",
       "        vertical-align: middle;\n",
       "    }\n",
       "\n",
       "    .dataframe tbody tr th {\n",
       "        vertical-align: top;\n",
       "    }\n",
       "\n",
       "    .dataframe thead th {\n",
       "        text-align: right;\n",
       "    }\n",
       "</style>\n",
       "<table border=\"1\" class=\"dataframe\">\n",
       "  <thead>\n",
       "    <tr style=\"text-align: right;\">\n",
       "      <th></th>\n",
       "      <th>Peso</th>\n",
       "      <th>Altura</th>\n",
       "      <th>Idade</th>\n",
       "    </tr>\n",
       "  </thead>\n",
       "  <tbody>\n",
       "    <tr>\n",
       "      <th>0</th>\n",
       "      <td>47</td>\n",
       "      <td>161</td>\n",
       "      <td>31</td>\n",
       "    </tr>\n",
       "    <tr>\n",
       "      <th>1</th>\n",
       "      <td>80</td>\n",
       "      <td>170</td>\n",
       "      <td>21</td>\n",
       "    </tr>\n",
       "    <tr>\n",
       "      <th>3</th>\n",
       "      <td>90</td>\n",
       "      <td>162</td>\n",
       "      <td>28</td>\n",
       "    </tr>\n",
       "  </tbody>\n",
       "</table>\n",
       "</div>"
      ],
      "text/plain": [
       "   Peso  Altura  Idade\n",
       "0    47     161     31\n",
       "1    80     170     21\n",
       "3    90     162     28"
      ]
     },
     "execution_count": 39,
     "metadata": {},
     "output_type": "execute_result"
    }
   ],
   "source": [
    "# Filtro as pessoas com altura abaixo da média\n",
    "pessoas[pessoas['Altura'] < pessoas['Altura'].mean()]"
   ]
  },
  {
   "cell_type": "markdown",
   "id": "68a8d0e7",
   "metadata": {},
   "source": [
    "__D)__ Crie um nova coluna no DataFrame que contenha o IMC (Índice de Massa Corporal) de cada pessoa;\n",
    "\n",
    "\n",
    "__Obs.:__ A fórmula para o IMC é dada por IMC = Peso/(Altura)² com o peso em kg e a altura em metros."
   ]
  },
  {
   "cell_type": "markdown",
   "id": "23f6234d",
   "metadata": {},
   "source": [
    "#### Método 1:"
   ]
  },
  {
   "cell_type": "code",
   "execution_count": 41,
   "id": "0e318cff",
   "metadata": {},
   "outputs": [
    {
     "data": {
      "text/html": [
       "<div>\n",
       "<style scoped>\n",
       "    .dataframe tbody tr th:only-of-type {\n",
       "        vertical-align: middle;\n",
       "    }\n",
       "\n",
       "    .dataframe tbody tr th {\n",
       "        vertical-align: top;\n",
       "    }\n",
       "\n",
       "    .dataframe thead th {\n",
       "        text-align: right;\n",
       "    }\n",
       "</style>\n",
       "<table border=\"1\" class=\"dataframe\">\n",
       "  <thead>\n",
       "    <tr style=\"text-align: right;\">\n",
       "      <th></th>\n",
       "      <th>Peso</th>\n",
       "      <th>Altura</th>\n",
       "      <th>Idade</th>\n",
       "      <th>IMC</th>\n",
       "    </tr>\n",
       "  </thead>\n",
       "  <tbody>\n",
       "    <tr>\n",
       "      <th>0</th>\n",
       "      <td>47</td>\n",
       "      <td>161</td>\n",
       "      <td>31</td>\n",
       "      <td>18.1</td>\n",
       "    </tr>\n",
       "    <tr>\n",
       "      <th>1</th>\n",
       "      <td>80</td>\n",
       "      <td>170</td>\n",
       "      <td>21</td>\n",
       "      <td>27.7</td>\n",
       "    </tr>\n",
       "    <tr>\n",
       "      <th>2</th>\n",
       "      <td>60</td>\n",
       "      <td>175</td>\n",
       "      <td>16</td>\n",
       "      <td>19.6</td>\n",
       "    </tr>\n",
       "    <tr>\n",
       "      <th>3</th>\n",
       "      <td>90</td>\n",
       "      <td>162</td>\n",
       "      <td>28</td>\n",
       "      <td>34.3</td>\n",
       "    </tr>\n",
       "    <tr>\n",
       "      <th>4</th>\n",
       "      <td>100</td>\n",
       "      <td>185</td>\n",
       "      <td>23</td>\n",
       "      <td>29.2</td>\n",
       "    </tr>\n",
       "    <tr>\n",
       "      <th>5</th>\n",
       "      <td>147</td>\n",
       "      <td>189</td>\n",
       "      <td>32</td>\n",
       "      <td>41.2</td>\n",
       "    </tr>\n",
       "  </tbody>\n",
       "</table>\n",
       "</div>"
      ],
      "text/plain": [
       "   Peso  Altura  Idade   IMC\n",
       "0    47     161     31  18.1\n",
       "1    80     170     21  27.7\n",
       "2    60     175     16  19.6\n",
       "3    90     162     28  34.3\n",
       "4   100     185     23  29.2\n",
       "5   147     189     32  41.2"
      ]
     },
     "execution_count": 41,
     "metadata": {},
     "output_type": "execute_result"
    }
   ],
   "source": [
    "# Cria-se uma coluna e atribui a ela o valor do IMC fazendo os calculos de acordo com as outras colunas\n",
    "pessoas['IMC'] = np.round(pessoas['Peso'] / np.power(pessoas['Altura']/100, 2), 1)\n",
    "\n",
    "# visualiza o Dataframe com a nova coluna\n",
    "pessoas"
   ]
  },
  {
   "cell_type": "markdown",
   "id": "a211eda8",
   "metadata": {},
   "source": [
    "#### Método 2:"
   ]
  },
  {
   "cell_type": "code",
   "execution_count": 42,
   "id": "36d4a775",
   "metadata": {},
   "outputs": [
    {
     "data": {
      "text/html": [
       "<div>\n",
       "<style scoped>\n",
       "    .dataframe tbody tr th:only-of-type {\n",
       "        vertical-align: middle;\n",
       "    }\n",
       "\n",
       "    .dataframe tbody tr th {\n",
       "        vertical-align: top;\n",
       "    }\n",
       "\n",
       "    .dataframe thead th {\n",
       "        text-align: right;\n",
       "    }\n",
       "</style>\n",
       "<table border=\"1\" class=\"dataframe\">\n",
       "  <thead>\n",
       "    <tr style=\"text-align: right;\">\n",
       "      <th></th>\n",
       "      <th>Peso</th>\n",
       "      <th>Altura</th>\n",
       "      <th>Idade</th>\n",
       "      <th>IMC</th>\n",
       "    </tr>\n",
       "  </thead>\n",
       "  <tbody>\n",
       "    <tr>\n",
       "      <th>0</th>\n",
       "      <td>47</td>\n",
       "      <td>161</td>\n",
       "      <td>31</td>\n",
       "      <td>18.1</td>\n",
       "    </tr>\n",
       "    <tr>\n",
       "      <th>1</th>\n",
       "      <td>80</td>\n",
       "      <td>170</td>\n",
       "      <td>21</td>\n",
       "      <td>27.7</td>\n",
       "    </tr>\n",
       "    <tr>\n",
       "      <th>2</th>\n",
       "      <td>60</td>\n",
       "      <td>175</td>\n",
       "      <td>16</td>\n",
       "      <td>19.6</td>\n",
       "    </tr>\n",
       "    <tr>\n",
       "      <th>3</th>\n",
       "      <td>90</td>\n",
       "      <td>162</td>\n",
       "      <td>28</td>\n",
       "      <td>34.3</td>\n",
       "    </tr>\n",
       "    <tr>\n",
       "      <th>4</th>\n",
       "      <td>100</td>\n",
       "      <td>185</td>\n",
       "      <td>23</td>\n",
       "      <td>29.2</td>\n",
       "    </tr>\n",
       "    <tr>\n",
       "      <th>5</th>\n",
       "      <td>147</td>\n",
       "      <td>189</td>\n",
       "      <td>32</td>\n",
       "      <td>41.2</td>\n",
       "    </tr>\n",
       "  </tbody>\n",
       "</table>\n",
       "</div>"
      ],
      "text/plain": [
       "   Peso  Altura  Idade   IMC\n",
       "0    47     161     31  18.1\n",
       "1    80     170     21  27.7\n",
       "2    60     175     16  19.6\n",
       "3    90     162     28  34.3\n",
       "4   100     185     23  29.2\n",
       "5   147     189     32  41.2"
      ]
     },
     "execution_count": 42,
     "metadata": {},
     "output_type": "execute_result"
    }
   ],
   "source": [
    "# Define-se um loop onde irá varrer cada linha e calcular o IMC, depois atribuir o valor em uma nova coluna\n",
    "for i in range(len(pessoas)):\n",
    "    # Salva o peso na variável\n",
    "    peso = pessoas.loc[i, 'Peso']\n",
    "    # Salva a altura convertendo para metros\n",
    "    altura_metros = pessoas.loc[i, 'Altura']/100\n",
    "    # Calcula-se o IMC\n",
    "    imc = peso/np.power(altura_metros, 2)\n",
    "    # Salva o IMC na coluna nova\n",
    "    pessoas.loc[i, 'IMC'] = np.round(imc, 1)\n",
    "\n",
    "# visualiza o Dataframe com a nova coluna    \n",
    "pessoas"
   ]
  },
  {
   "cell_type": "markdown",
   "id": "b301b6b2",
   "metadata": {},
   "source": [
    "#### Método 3:"
   ]
  },
  {
   "cell_type": "code",
   "execution_count": 45,
   "id": "b5ff075c",
   "metadata": {},
   "outputs": [
    {
     "data": {
      "text/html": [
       "<div>\n",
       "<style scoped>\n",
       "    .dataframe tbody tr th:only-of-type {\n",
       "        vertical-align: middle;\n",
       "    }\n",
       "\n",
       "    .dataframe tbody tr th {\n",
       "        vertical-align: top;\n",
       "    }\n",
       "\n",
       "    .dataframe thead th {\n",
       "        text-align: right;\n",
       "    }\n",
       "</style>\n",
       "<table border=\"1\" class=\"dataframe\">\n",
       "  <thead>\n",
       "    <tr style=\"text-align: right;\">\n",
       "      <th></th>\n",
       "      <th>Peso</th>\n",
       "      <th>Altura</th>\n",
       "      <th>Idade</th>\n",
       "      <th>IMC</th>\n",
       "    </tr>\n",
       "  </thead>\n",
       "  <tbody>\n",
       "    <tr>\n",
       "      <th>0</th>\n",
       "      <td>47</td>\n",
       "      <td>161</td>\n",
       "      <td>31</td>\n",
       "      <td>18.1</td>\n",
       "    </tr>\n",
       "    <tr>\n",
       "      <th>1</th>\n",
       "      <td>80</td>\n",
       "      <td>170</td>\n",
       "      <td>21</td>\n",
       "      <td>27.7</td>\n",
       "    </tr>\n",
       "    <tr>\n",
       "      <th>2</th>\n",
       "      <td>60</td>\n",
       "      <td>175</td>\n",
       "      <td>16</td>\n",
       "      <td>19.6</td>\n",
       "    </tr>\n",
       "    <tr>\n",
       "      <th>3</th>\n",
       "      <td>90</td>\n",
       "      <td>162</td>\n",
       "      <td>28</td>\n",
       "      <td>34.3</td>\n",
       "    </tr>\n",
       "    <tr>\n",
       "      <th>4</th>\n",
       "      <td>100</td>\n",
       "      <td>185</td>\n",
       "      <td>23</td>\n",
       "      <td>29.2</td>\n",
       "    </tr>\n",
       "    <tr>\n",
       "      <th>5</th>\n",
       "      <td>147</td>\n",
       "      <td>189</td>\n",
       "      <td>32</td>\n",
       "      <td>41.2</td>\n",
       "    </tr>\n",
       "  </tbody>\n",
       "</table>\n",
       "</div>"
      ],
      "text/plain": [
       "   Peso  Altura  Idade   IMC\n",
       "0    47     161     31  18.1\n",
       "1    80     170     21  27.7\n",
       "2    60     175     16  19.6\n",
       "3    90     162     28  34.3\n",
       "4   100     185     23  29.2\n",
       "5   147     189     32  41.2"
      ]
     },
     "execution_count": 45,
     "metadata": {},
     "output_type": "execute_result"
    }
   ],
   "source": [
    "# Utilizando Apply e lambda\n",
    "\n",
    "pessoas['IMC'] = pessoas.apply(lambda row: np.round(row.Peso/(np.power(row.Altura/100, 2)),1), axis=1)\n",
    "pessoas"
   ]
  },
  {
   "cell_type": "markdown",
   "id": "f89878f6",
   "metadata": {},
   "source": [
    "__E)__ Remova a coluna que contém a idade das pessoas;"
   ]
  },
  {
   "cell_type": "code",
   "execution_count": 46,
   "id": "9c61308c",
   "metadata": {},
   "outputs": [
    {
     "data": {
      "text/html": [
       "<div>\n",
       "<style scoped>\n",
       "    .dataframe tbody tr th:only-of-type {\n",
       "        vertical-align: middle;\n",
       "    }\n",
       "\n",
       "    .dataframe tbody tr th {\n",
       "        vertical-align: top;\n",
       "    }\n",
       "\n",
       "    .dataframe thead th {\n",
       "        text-align: right;\n",
       "    }\n",
       "</style>\n",
       "<table border=\"1\" class=\"dataframe\">\n",
       "  <thead>\n",
       "    <tr style=\"text-align: right;\">\n",
       "      <th></th>\n",
       "      <th>Peso</th>\n",
       "      <th>Altura</th>\n",
       "      <th>IMC</th>\n",
       "    </tr>\n",
       "  </thead>\n",
       "  <tbody>\n",
       "    <tr>\n",
       "      <th>0</th>\n",
       "      <td>47</td>\n",
       "      <td>161</td>\n",
       "      <td>18.1</td>\n",
       "    </tr>\n",
       "    <tr>\n",
       "      <th>1</th>\n",
       "      <td>80</td>\n",
       "      <td>170</td>\n",
       "      <td>27.7</td>\n",
       "    </tr>\n",
       "    <tr>\n",
       "      <th>2</th>\n",
       "      <td>60</td>\n",
       "      <td>175</td>\n",
       "      <td>19.6</td>\n",
       "    </tr>\n",
       "    <tr>\n",
       "      <th>3</th>\n",
       "      <td>90</td>\n",
       "      <td>162</td>\n",
       "      <td>34.3</td>\n",
       "    </tr>\n",
       "    <tr>\n",
       "      <th>4</th>\n",
       "      <td>100</td>\n",
       "      <td>185</td>\n",
       "      <td>29.2</td>\n",
       "    </tr>\n",
       "    <tr>\n",
       "      <th>5</th>\n",
       "      <td>147</td>\n",
       "      <td>189</td>\n",
       "      <td>41.2</td>\n",
       "    </tr>\n",
       "  </tbody>\n",
       "</table>\n",
       "</div>"
      ],
      "text/plain": [
       "   Peso  Altura   IMC\n",
       "0    47     161  18.1\n",
       "1    80     170  27.7\n",
       "2    60     175  19.6\n",
       "3    90     162  34.3\n",
       "4   100     185  29.2\n",
       "5   147     189  41.2"
      ]
     },
     "execution_count": 46,
     "metadata": {},
     "output_type": "execute_result"
    }
   ],
   "source": [
    "# Faz o drop da coluna idade\n",
    "pessoas.drop(['Idade'], axis = 1, inplace = True)\n",
    "\n",
    "# Print do Dataframe resultante\n",
    "pessoas"
   ]
  },
  {
   "cell_type": "markdown",
   "id": "22d1c2b3",
   "metadata": {},
   "source": [
    "__F)__ Crie uma nova coluna chamada Classificação, que contenha a classificação de cada indivíduo, de acordo com o seu IMC. Para isso, consulte a tabela abaixo.\n",
    "\n",
    "| IMC             | Classificação |\n",
    "|-----------------|---------------|\n",
    "Menor que 18,5    | Subpeso |\n",
    "Entre 18,5 e 24,9 | Normal |\n",
    "Entre 25,0 e 29,9 | Sobrepeso |\n",
    "Entre 30,0 e 39,9 | Obesidade Grau I|\n",
    "Maior que 40,0    | Obesidade Grau II |\n"
   ]
  },
  {
   "cell_type": "code",
   "execution_count": 47,
   "id": "7586e6d8",
   "metadata": {},
   "outputs": [
    {
     "data": {
      "text/html": [
       "<div>\n",
       "<style scoped>\n",
       "    .dataframe tbody tr th:only-of-type {\n",
       "        vertical-align: middle;\n",
       "    }\n",
       "\n",
       "    .dataframe tbody tr th {\n",
       "        vertical-align: top;\n",
       "    }\n",
       "\n",
       "    .dataframe thead th {\n",
       "        text-align: right;\n",
       "    }\n",
       "</style>\n",
       "<table border=\"1\" class=\"dataframe\">\n",
       "  <thead>\n",
       "    <tr style=\"text-align: right;\">\n",
       "      <th></th>\n",
       "      <th>Peso</th>\n",
       "      <th>Altura</th>\n",
       "      <th>IMC</th>\n",
       "      <th>Classificação</th>\n",
       "    </tr>\n",
       "  </thead>\n",
       "  <tbody>\n",
       "    <tr>\n",
       "      <th>0</th>\n",
       "      <td>47</td>\n",
       "      <td>161</td>\n",
       "      <td>18.1</td>\n",
       "      <td>Subpeso</td>\n",
       "    </tr>\n",
       "    <tr>\n",
       "      <th>1</th>\n",
       "      <td>80</td>\n",
       "      <td>170</td>\n",
       "      <td>27.7</td>\n",
       "      <td>Sobrepeso</td>\n",
       "    </tr>\n",
       "    <tr>\n",
       "      <th>2</th>\n",
       "      <td>60</td>\n",
       "      <td>175</td>\n",
       "      <td>19.6</td>\n",
       "      <td>Normal</td>\n",
       "    </tr>\n",
       "    <tr>\n",
       "      <th>3</th>\n",
       "      <td>90</td>\n",
       "      <td>162</td>\n",
       "      <td>34.3</td>\n",
       "      <td>Obesidade Grau I</td>\n",
       "    </tr>\n",
       "    <tr>\n",
       "      <th>4</th>\n",
       "      <td>100</td>\n",
       "      <td>185</td>\n",
       "      <td>29.2</td>\n",
       "      <td>Sobrepeso</td>\n",
       "    </tr>\n",
       "    <tr>\n",
       "      <th>5</th>\n",
       "      <td>147</td>\n",
       "      <td>189</td>\n",
       "      <td>41.2</td>\n",
       "      <td>Obesidade Grau II</td>\n",
       "    </tr>\n",
       "  </tbody>\n",
       "</table>\n",
       "</div>"
      ],
      "text/plain": [
       "   Peso  Altura   IMC      Classificação\n",
       "0    47     161  18.1            Subpeso\n",
       "1    80     170  27.7          Sobrepeso\n",
       "2    60     175  19.6             Normal\n",
       "3    90     162  34.3   Obesidade Grau I\n",
       "4   100     185  29.2          Sobrepeso\n",
       "5   147     189  41.2  Obesidade Grau II"
      ]
     },
     "execution_count": 47,
     "metadata": {},
     "output_type": "execute_result"
    }
   ],
   "source": [
    "# Criando a coluna Classificação utilizando a função np.where\n",
    "# Dica.: Aqui iremos usar uma função where dentro de outra\n",
    "pessoas['Classificação'] = np.where(pessoas['IMC'] < 18.5, 'Subpeso',\n",
    "                           np.where(pessoas['IMC'] < 24.9, 'Normal',\n",
    "                           np.where(pessoas['IMC'] < 29.9, 'Sobrepeso',\n",
    "                           np.where(pessoas['IMC'] < 39.9, 'Obesidade Grau I', \n",
    "                                                           'Obesidade Grau II'))))\n",
    "\n",
    "pessoas"
   ]
  },
  {
   "cell_type": "markdown",
   "id": "fe7b6f83",
   "metadata": {},
   "source": [
    "__G)__ Salve esses dados do DataFrame em um arquivo csv."
   ]
  },
  {
   "cell_type": "code",
   "execution_count": 54,
   "id": "90ca4746",
   "metadata": {},
   "outputs": [],
   "source": [
    "# Cria um CSV para o DataFrame\n",
    "pessoas.to_csv('imc.csv')"
   ]
  },
  {
   "cell_type": "markdown",
   "id": "8884484e",
   "metadata": {},
   "source": [
    "## "
   ]
  },
  {
   "cell_type": "markdown",
   "id": "85598a0c",
   "metadata": {},
   "source": [
    "### Questão 4\n",
    "\n",
    "O arquivo `avocado.csv` consiste em um dataset que contém dados sobre vendas de abacates (avocado, em inglês) em diversas regiões dos Estados Unidos. Essa dataset contém as seguintes colunas:\n",
    "\n",
    "- Date - a data da observação;\n",
    "- AveragePrice - o preço médio de um único abacate;\n",
    "- year - o ano;\n",
    "- region - a cidade ou região da observação;\n",
    "- Total Volume - volume total de abacates vendidos.\n",
    "\n",
    "Além das informações acima, contidas no arquivo avocado.csv, o tipo do abacate (convencional ou orgânico) também seria uma informação importante para a sua análise. Suponhamos que você conseguiu essas informações para cada uma das observações do arquivo `avocado.csv`, na mesma ordem, e salvou-as no arquivo `avocado_type.csv`. Vamos utilizar os dois _DataFrames_ e praticar um pouco utilizando o _Pandas_:\n",
    "\n",
    "__A)__ Concatene os dois _DataFrames_ em um só utilizando a função `pd.concat`;\n",
    "\n",
    "__B)__ Identifique a quantidade de linhas e colunas que temos no _DataFrame_;\n",
    "\n",
    "__C)__ O registro identificado como _TotalUS_ equivale para a soma dos valores agrupados para todos os registros naquele ano. Portanto, crie um novo _DataFrame_ sem esses registros;\n",
    "\n",
    "__D)__ Calcule a quantidade de abacates vendidos para cada linha no _DataFrame_;\n",
    "\n",
    "__Dica.:__ no _DataFrame_ têm dados sobre o valor médio vendido e o volume total arrecadado. Divida o volume total pelo preço médio para descobrir a quantidade vendida (arrendonde o valor para 0, pois só foram vendidos abacates inteiros!);\n",
    "\n",
    "__E)__ Identifique qual ano foi o que mais vendeu abacates orgânicos e convencionais;\n",
    "\n",
    "__Dica.:__ Utilize a função `groupby`\n",
    "\n",
    "__F)__ Identifique qual é a região onde menos se faturou vendendo abacates orgânicos em 2017;\n",
    "\n",
    "__Dica.:__ Utilize a função `groupby`"
   ]
  },
  {
   "cell_type": "markdown",
   "id": "01ba25be",
   "metadata": {},
   "source": [
    "##  "
   ]
  },
  {
   "cell_type": "markdown",
   "id": "9e23316e",
   "metadata": {},
   "source": [
    "### Resolução:"
   ]
  },
  {
   "cell_type": "markdown",
   "id": "60ae3811",
   "metadata": {},
   "source": [
    "Primeiramente, vamos carregar as bibliotecas e os _Datasets_:"
   ]
  },
  {
   "cell_type": "code",
   "execution_count": 48,
   "id": "c6658bd6",
   "metadata": {},
   "outputs": [],
   "source": [
    "# Import da NumPy e Pandas\n",
    "import pandas as pd\n",
    "import numpy as np"
   ]
  },
  {
   "cell_type": "code",
   "execution_count": 49,
   "id": "cc04ece1",
   "metadata": {},
   "outputs": [
    {
     "data": {
      "text/html": [
       "<div>\n",
       "<style scoped>\n",
       "    .dataframe tbody tr th:only-of-type {\n",
       "        vertical-align: middle;\n",
       "    }\n",
       "\n",
       "    .dataframe tbody tr th {\n",
       "        vertical-align: top;\n",
       "    }\n",
       "\n",
       "    .dataframe thead th {\n",
       "        text-align: right;\n",
       "    }\n",
       "</style>\n",
       "<table border=\"1\" class=\"dataframe\">\n",
       "  <thead>\n",
       "    <tr style=\"text-align: right;\">\n",
       "      <th></th>\n",
       "      <th>Date</th>\n",
       "      <th>AveragePrice</th>\n",
       "      <th>Total Volume</th>\n",
       "      <th>year</th>\n",
       "      <th>region</th>\n",
       "    </tr>\n",
       "  </thead>\n",
       "  <tbody>\n",
       "    <tr>\n",
       "      <th>0</th>\n",
       "      <td>2015-12-27</td>\n",
       "      <td>1.33</td>\n",
       "      <td>64236.62</td>\n",
       "      <td>2015</td>\n",
       "      <td>Albany</td>\n",
       "    </tr>\n",
       "    <tr>\n",
       "      <th>1</th>\n",
       "      <td>2015-12-20</td>\n",
       "      <td>1.35</td>\n",
       "      <td>54876.98</td>\n",
       "      <td>2015</td>\n",
       "      <td>Albany</td>\n",
       "    </tr>\n",
       "    <tr>\n",
       "      <th>2</th>\n",
       "      <td>2015-12-13</td>\n",
       "      <td>0.93</td>\n",
       "      <td>118220.22</td>\n",
       "      <td>2015</td>\n",
       "      <td>Albany</td>\n",
       "    </tr>\n",
       "    <tr>\n",
       "      <th>3</th>\n",
       "      <td>2015-12-06</td>\n",
       "      <td>1.08</td>\n",
       "      <td>78992.15</td>\n",
       "      <td>2015</td>\n",
       "      <td>Albany</td>\n",
       "    </tr>\n",
       "    <tr>\n",
       "      <th>4</th>\n",
       "      <td>2015-11-29</td>\n",
       "      <td>1.28</td>\n",
       "      <td>51039.60</td>\n",
       "      <td>2015</td>\n",
       "      <td>Albany</td>\n",
       "    </tr>\n",
       "  </tbody>\n",
       "</table>\n",
       "</div>"
      ],
      "text/plain": [
       "         Date  AveragePrice  Total Volume  year  region\n",
       "0  2015-12-27          1.33      64236.62  2015  Albany\n",
       "1  2015-12-20          1.35      54876.98  2015  Albany\n",
       "2  2015-12-13          0.93     118220.22  2015  Albany\n",
       "3  2015-12-06          1.08      78992.15  2015  Albany\n",
       "4  2015-11-29          1.28      51039.60  2015  Albany"
      ]
     },
     "execution_count": 49,
     "metadata": {},
     "output_type": "execute_result"
    }
   ],
   "source": [
    "# Carrega os dados do avocado.csv\n",
    "avocado = pd.read_csv('avocado.csv')\n",
    "\n",
    "# Print das primeiras linhas do dataset\n",
    "avocado.head()"
   ]
  },
  {
   "cell_type": "code",
   "execution_count": 50,
   "id": "5c5d55ce",
   "metadata": {
    "scrolled": true
   },
   "outputs": [
    {
     "data": {
      "text/html": [
       "<div>\n",
       "<style scoped>\n",
       "    .dataframe tbody tr th:only-of-type {\n",
       "        vertical-align: middle;\n",
       "    }\n",
       "\n",
       "    .dataframe tbody tr th {\n",
       "        vertical-align: top;\n",
       "    }\n",
       "\n",
       "    .dataframe thead th {\n",
       "        text-align: right;\n",
       "    }\n",
       "</style>\n",
       "<table border=\"1\" class=\"dataframe\">\n",
       "  <thead>\n",
       "    <tr style=\"text-align: right;\">\n",
       "      <th></th>\n",
       "      <th>type</th>\n",
       "    </tr>\n",
       "  </thead>\n",
       "  <tbody>\n",
       "    <tr>\n",
       "      <th>0</th>\n",
       "      <td>conventional</td>\n",
       "    </tr>\n",
       "    <tr>\n",
       "      <th>1</th>\n",
       "      <td>conventional</td>\n",
       "    </tr>\n",
       "    <tr>\n",
       "      <th>2</th>\n",
       "      <td>conventional</td>\n",
       "    </tr>\n",
       "    <tr>\n",
       "      <th>3</th>\n",
       "      <td>conventional</td>\n",
       "    </tr>\n",
       "    <tr>\n",
       "      <th>4</th>\n",
       "      <td>conventional</td>\n",
       "    </tr>\n",
       "  </tbody>\n",
       "</table>\n",
       "</div>"
      ],
      "text/plain": [
       "           type\n",
       "0  conventional\n",
       "1  conventional\n",
       "2  conventional\n",
       "3  conventional\n",
       "4  conventional"
      ]
     },
     "execution_count": 50,
     "metadata": {},
     "output_type": "execute_result"
    }
   ],
   "source": [
    "# Carrega os dados do avocado_type.csv\n",
    "avocado_type = pd.read_csv('avocado_type.csv')\n",
    "\n",
    "# Print das primeiras linhas do dataframe\n",
    "avocado_type.head()"
   ]
  },
  {
   "cell_type": "markdown",
   "id": "c6b1452b",
   "metadata": {},
   "source": [
    "__A)__ Concatene os dois _DataFrames_ em um só utilizando a função `pd.concat`;"
   ]
  },
  {
   "cell_type": "code",
   "execution_count": 51,
   "id": "aa7c32ab",
   "metadata": {
    "scrolled": true
   },
   "outputs": [
    {
     "data": {
      "text/html": [
       "<div>\n",
       "<style scoped>\n",
       "    .dataframe tbody tr th:only-of-type {\n",
       "        vertical-align: middle;\n",
       "    }\n",
       "\n",
       "    .dataframe tbody tr th {\n",
       "        vertical-align: top;\n",
       "    }\n",
       "\n",
       "    .dataframe thead th {\n",
       "        text-align: right;\n",
       "    }\n",
       "</style>\n",
       "<table border=\"1\" class=\"dataframe\">\n",
       "  <thead>\n",
       "    <tr style=\"text-align: right;\">\n",
       "      <th></th>\n",
       "      <th>Date</th>\n",
       "      <th>AveragePrice</th>\n",
       "      <th>Total Volume</th>\n",
       "      <th>year</th>\n",
       "      <th>region</th>\n",
       "      <th>type</th>\n",
       "    </tr>\n",
       "  </thead>\n",
       "  <tbody>\n",
       "    <tr>\n",
       "      <th>0</th>\n",
       "      <td>2015-12-27</td>\n",
       "      <td>1.33</td>\n",
       "      <td>64236.62</td>\n",
       "      <td>2015</td>\n",
       "      <td>Albany</td>\n",
       "      <td>conventional</td>\n",
       "    </tr>\n",
       "    <tr>\n",
       "      <th>1</th>\n",
       "      <td>2015-12-20</td>\n",
       "      <td>1.35</td>\n",
       "      <td>54876.98</td>\n",
       "      <td>2015</td>\n",
       "      <td>Albany</td>\n",
       "      <td>conventional</td>\n",
       "    </tr>\n",
       "    <tr>\n",
       "      <th>2</th>\n",
       "      <td>2015-12-13</td>\n",
       "      <td>0.93</td>\n",
       "      <td>118220.22</td>\n",
       "      <td>2015</td>\n",
       "      <td>Albany</td>\n",
       "      <td>conventional</td>\n",
       "    </tr>\n",
       "    <tr>\n",
       "      <th>3</th>\n",
       "      <td>2015-12-06</td>\n",
       "      <td>1.08</td>\n",
       "      <td>78992.15</td>\n",
       "      <td>2015</td>\n",
       "      <td>Albany</td>\n",
       "      <td>conventional</td>\n",
       "    </tr>\n",
       "    <tr>\n",
       "      <th>4</th>\n",
       "      <td>2015-11-29</td>\n",
       "      <td>1.28</td>\n",
       "      <td>51039.60</td>\n",
       "      <td>2015</td>\n",
       "      <td>Albany</td>\n",
       "      <td>conventional</td>\n",
       "    </tr>\n",
       "  </tbody>\n",
       "</table>\n",
       "</div>"
      ],
      "text/plain": [
       "         Date  AveragePrice  Total Volume  year  region          type\n",
       "0  2015-12-27          1.33      64236.62  2015  Albany  conventional\n",
       "1  2015-12-20          1.35      54876.98  2015  Albany  conventional\n",
       "2  2015-12-13          0.93     118220.22  2015  Albany  conventional\n",
       "3  2015-12-06          1.08      78992.15  2015  Albany  conventional\n",
       "4  2015-11-29          1.28      51039.60  2015  Albany  conventional"
      ]
     },
     "execution_count": 51,
     "metadata": {},
     "output_type": "execute_result"
    }
   ],
   "source": [
    "# Concatena os dados e salva em um dataframe chamado abacates\n",
    "abacates = pd.concat([avocado, avocado_type], axis = 1)\n",
    "\n",
    "# Print das primeiras linhas do dataframe\n",
    "abacates.head()"
   ]
  },
  {
   "cell_type": "markdown",
   "id": "080139f4",
   "metadata": {},
   "source": [
    "__B)__ Identifique a quantidade de linhas e colunas que temos no _DataFrame_;"
   ]
  },
  {
   "cell_type": "code",
   "execution_count": 52,
   "id": "0f50c25e",
   "metadata": {},
   "outputs": [
    {
     "data": {
      "text/plain": [
       "(18249, 6)"
      ]
     },
     "execution_count": 52,
     "metadata": {},
     "output_type": "execute_result"
    }
   ],
   "source": [
    "# Print do shape do Dataframe\n",
    "abacates.shape"
   ]
  },
  {
   "cell_type": "markdown",
   "id": "7e3e91ff",
   "metadata": {},
   "source": [
    "__C)__ O registro identificado como _TotalUS_ equivale para a soma dos valores agrupados para todos os registros naquele ano. Portanto, crie um novo _DataFrame_ sem esses registros;"
   ]
  },
  {
   "cell_type": "code",
   "execution_count": 53,
   "id": "311ee932",
   "metadata": {},
   "outputs": [
    {
     "data": {
      "text/plain": [
       "0        True\n",
       "1        True\n",
       "2        True\n",
       "3        True\n",
       "4        True\n",
       "         ... \n",
       "18244    True\n",
       "18245    True\n",
       "18246    True\n",
       "18247    True\n",
       "18248    True\n",
       "Name: region, Length: 18249, dtype: bool"
      ]
     },
     "execution_count": 53,
     "metadata": {},
     "output_type": "execute_result"
    }
   ],
   "source": [
    "# Cria uma mascara booleana onde pegamos todos os registros diferentes de TotalUS\n",
    "mask1 = abacates['region'] != 'TotalUS'\n",
    "\n",
    "# Print da mascara booleana\n",
    "mask1"
   ]
  },
  {
   "cell_type": "code",
   "execution_count": 56,
   "id": "e2fa4e84",
   "metadata": {},
   "outputs": [
    {
     "data": {
      "text/html": [
       "<div>\n",
       "<style scoped>\n",
       "    .dataframe tbody tr th:only-of-type {\n",
       "        vertical-align: middle;\n",
       "    }\n",
       "\n",
       "    .dataframe tbody tr th {\n",
       "        vertical-align: top;\n",
       "    }\n",
       "\n",
       "    .dataframe thead th {\n",
       "        text-align: right;\n",
       "    }\n",
       "</style>\n",
       "<table border=\"1\" class=\"dataframe\">\n",
       "  <thead>\n",
       "    <tr style=\"text-align: right;\">\n",
       "      <th></th>\n",
       "      <th>Date</th>\n",
       "      <th>AveragePrice</th>\n",
       "      <th>Total Volume</th>\n",
       "      <th>year</th>\n",
       "      <th>region</th>\n",
       "      <th>type</th>\n",
       "    </tr>\n",
       "  </thead>\n",
       "  <tbody>\n",
       "    <tr>\n",
       "      <th>0</th>\n",
       "      <td>2015-12-27</td>\n",
       "      <td>1.33</td>\n",
       "      <td>64236.62</td>\n",
       "      <td>2015</td>\n",
       "      <td>Albany</td>\n",
       "      <td>conventional</td>\n",
       "    </tr>\n",
       "    <tr>\n",
       "      <th>1</th>\n",
       "      <td>2015-12-20</td>\n",
       "      <td>1.35</td>\n",
       "      <td>54876.98</td>\n",
       "      <td>2015</td>\n",
       "      <td>Albany</td>\n",
       "      <td>conventional</td>\n",
       "    </tr>\n",
       "    <tr>\n",
       "      <th>2</th>\n",
       "      <td>2015-12-13</td>\n",
       "      <td>0.93</td>\n",
       "      <td>118220.22</td>\n",
       "      <td>2015</td>\n",
       "      <td>Albany</td>\n",
       "      <td>conventional</td>\n",
       "    </tr>\n",
       "    <tr>\n",
       "      <th>3</th>\n",
       "      <td>2015-12-06</td>\n",
       "      <td>1.08</td>\n",
       "      <td>78992.15</td>\n",
       "      <td>2015</td>\n",
       "      <td>Albany</td>\n",
       "      <td>conventional</td>\n",
       "    </tr>\n",
       "    <tr>\n",
       "      <th>4</th>\n",
       "      <td>2015-11-29</td>\n",
       "      <td>1.28</td>\n",
       "      <td>51039.60</td>\n",
       "      <td>2015</td>\n",
       "      <td>Albany</td>\n",
       "      <td>conventional</td>\n",
       "    </tr>\n",
       "  </tbody>\n",
       "</table>\n",
       "</div>"
      ],
      "text/plain": [
       "         Date  AveragePrice  Total Volume  year  region          type\n",
       "0  2015-12-27          1.33      64236.62  2015  Albany  conventional\n",
       "1  2015-12-20          1.35      54876.98  2015  Albany  conventional\n",
       "2  2015-12-13          0.93     118220.22  2015  Albany  conventional\n",
       "3  2015-12-06          1.08      78992.15  2015  Albany  conventional\n",
       "4  2015-11-29          1.28      51039.60  2015  Albany  conventional"
      ]
     },
     "execution_count": 56,
     "metadata": {},
     "output_type": "execute_result"
    }
   ],
   "source": [
    "# Filtra as regiões de acordo com a mascara booleana\n",
    "abacates_filtrados = abacates[mask1].reset_index(drop=True)\n",
    "\n",
    "# Print das primeiras linhas do dataframe\n",
    "abacates_filtrados.head()"
   ]
  },
  {
   "cell_type": "markdown",
   "id": "bf66bcfc",
   "metadata": {},
   "source": [
    "__D)__ Calcule a quantidade de abacates vendidos para cada linha no _DataFrame_;\n",
    "\n",
    "__Dica.:__ no _DataFrame_ têm dados sobre o valor médio vendido e o volume total arrecadado. Divida o volume total pelo preço médio para descobrir a quantidade vendida (arrendonde o valor para 0, pois só foram vendidos abacates inteiros!);"
   ]
  },
  {
   "cell_type": "code",
   "execution_count": 57,
   "id": "dddfa107",
   "metadata": {},
   "outputs": [],
   "source": [
    "# Calcula a quantidade de abacates vendidos\n",
    "abacates_filtrados.loc[:,'quantidade'] = np.round(abacates_filtrados.loc[:,'Total Volume'] / abacates_filtrados.loc[:,'AveragePrice'], 0)\n",
    "\n",
    "# Print das primeiras linhas do dataframe\n",
    "abacates_filtrados.head()"
   ]
  },
  {
   "cell_type": "markdown",
   "id": "dce9ce16",
   "metadata": {},
   "source": [
    "__E)__ Identifique qual ano foi o que mais vendeu abacates orgânicos e convencionais;\n",
    "\n",
    "__Dica.:__ Utilize a função `groupby`"
   ]
  },
  {
   "cell_type": "code",
   "execution_count": 63,
   "id": "ac6e33b6",
   "metadata": {},
   "outputs": [
    {
     "data": {
      "text/plain": [
       "year  type        \n",
       "2015  conventional    2.719275e+09\n",
       "      organic         3.617349e+07\n",
       "2016  conventional    3.005316e+09\n",
       "      organic         5.887806e+07\n",
       "2017  conventional    2.665415e+09\n",
       "      organic         6.860628e+07\n",
       "2018  conventional    8.184823e+08\n",
       "      organic         1.983161e+07\n",
       "Name: quantidade, dtype: float64"
      ]
     },
     "execution_count": 63,
     "metadata": {},
     "output_type": "execute_result"
    }
   ],
   "source": [
    "# Usando o groupby, define a soma das quantidades por ano e tipo\n",
    "abacates_filtrados.groupby(['year', 'type'])['quantidade'].sum()"
   ]
  },
  {
   "cell_type": "code",
   "execution_count": 62,
   "id": "69f20203",
   "metadata": {},
   "outputs": [
    {
     "data": {
      "text/html": [
       "<div>\n",
       "<style scoped>\n",
       "    .dataframe tbody tr th:only-of-type {\n",
       "        vertical-align: middle;\n",
       "    }\n",
       "\n",
       "    .dataframe tbody tr th {\n",
       "        vertical-align: top;\n",
       "    }\n",
       "\n",
       "    .dataframe thead th {\n",
       "        text-align: right;\n",
       "    }\n",
       "</style>\n",
       "<table border=\"1\" class=\"dataframe\">\n",
       "  <thead>\n",
       "    <tr style=\"text-align: right;\">\n",
       "      <th>type</th>\n",
       "      <th>conventional</th>\n",
       "      <th>organic</th>\n",
       "    </tr>\n",
       "    <tr>\n",
       "      <th>year</th>\n",
       "      <th></th>\n",
       "      <th></th>\n",
       "    </tr>\n",
       "  </thead>\n",
       "  <tbody>\n",
       "    <tr>\n",
       "      <th>2015</th>\n",
       "      <td>2.719275e+09</td>\n",
       "      <td>36173493.0</td>\n",
       "    </tr>\n",
       "    <tr>\n",
       "      <th>2016</th>\n",
       "      <td>3.005316e+09</td>\n",
       "      <td>58878057.0</td>\n",
       "    </tr>\n",
       "    <tr>\n",
       "      <th>2017</th>\n",
       "      <td>2.665415e+09</td>\n",
       "      <td>68606280.0</td>\n",
       "    </tr>\n",
       "    <tr>\n",
       "      <th>2018</th>\n",
       "      <td>8.184823e+08</td>\n",
       "      <td>19831610.0</td>\n",
       "    </tr>\n",
       "  </tbody>\n",
       "</table>\n",
       "</div>"
      ],
      "text/plain": [
       "type  conventional     organic\n",
       "year                          \n",
       "2015  2.719275e+09  36173493.0\n",
       "2016  3.005316e+09  58878057.0\n",
       "2017  2.665415e+09  68606280.0\n",
       "2018  8.184823e+08  19831610.0"
      ]
     },
     "execution_count": 62,
     "metadata": {},
     "output_type": "execute_result"
    }
   ],
   "source": [
    "# Para melhorar a visualização, como estamos com um agrupamento duplo\n",
    "#podemos utilizar o unstack() e assim visualizar como uma pivot table\n",
    "\n",
    "abacates_filtrados.groupby(['year', 'type'])['quantidade'].sum().unstack()"
   ]
  },
  {
   "cell_type": "markdown",
   "id": "d1b84f85",
   "metadata": {},
   "source": [
    "Em 2016 foi o ano que mais vendeu para os convencionais e em 2017 para os orgânicos."
   ]
  },
  {
   "cell_type": "markdown",
   "id": "83a38894",
   "metadata": {},
   "source": [
    "__F)__ Identifique qual é a região onde menos se faturou vendendo abacates orgânicos em 2017;"
   ]
  },
  {
   "cell_type": "code",
   "execution_count": 65,
   "id": "6cc3164e",
   "metadata": {},
   "outputs": [
    {
     "data": {
      "text/plain": [
       "0        False\n",
       "1        False\n",
       "2        False\n",
       "3        False\n",
       "4        False\n",
       "         ...  \n",
       "17906    False\n",
       "17907    False\n",
       "17908    False\n",
       "17909    False\n",
       "17910    False\n",
       "Length: 17911, dtype: bool"
      ]
     },
     "execution_count": 65,
     "metadata": {},
     "output_type": "execute_result"
    }
   ],
   "source": [
    "# Cria a mascara booleana para o ano 2017 E tipo organic\n",
    "mask2 = (abacates_filtrados['year'] == 2017) & (abacates_filtrados['type'] == 'organic')\n",
    "\n",
    "# Print da mascara booleana\n",
    "mask2"
   ]
  },
  {
   "cell_type": "code",
   "execution_count": 66,
   "id": "86bd3106",
   "metadata": {},
   "outputs": [
    {
     "data": {
      "text/html": [
       "<div>\n",
       "<style scoped>\n",
       "    .dataframe tbody tr th:only-of-type {\n",
       "        vertical-align: middle;\n",
       "    }\n",
       "\n",
       "    .dataframe tbody tr th {\n",
       "        vertical-align: top;\n",
       "    }\n",
       "\n",
       "    .dataframe thead th {\n",
       "        text-align: right;\n",
       "    }\n",
       "</style>\n",
       "<table border=\"1\" class=\"dataframe\">\n",
       "  <thead>\n",
       "    <tr style=\"text-align: right;\">\n",
       "      <th></th>\n",
       "      <th>Date</th>\n",
       "      <th>AveragePrice</th>\n",
       "      <th>Total Volume</th>\n",
       "      <th>year</th>\n",
       "      <th>region</th>\n",
       "      <th>type</th>\n",
       "      <th>quantidade</th>\n",
       "    </tr>\n",
       "  </thead>\n",
       "  <tbody>\n",
       "    <tr>\n",
       "      <th>14468</th>\n",
       "      <td>2017-12-31</td>\n",
       "      <td>1.46</td>\n",
       "      <td>3463.85</td>\n",
       "      <td>2017</td>\n",
       "      <td>Albany</td>\n",
       "      <td>organic</td>\n",
       "      <td>2372.0</td>\n",
       "    </tr>\n",
       "    <tr>\n",
       "      <th>14469</th>\n",
       "      <td>2017-12-24</td>\n",
       "      <td>1.58</td>\n",
       "      <td>3694.13</td>\n",
       "      <td>2017</td>\n",
       "      <td>Albany</td>\n",
       "      <td>organic</td>\n",
       "      <td>2338.0</td>\n",
       "    </tr>\n",
       "    <tr>\n",
       "      <th>14470</th>\n",
       "      <td>2017-12-17</td>\n",
       "      <td>1.43</td>\n",
       "      <td>3513.77</td>\n",
       "      <td>2017</td>\n",
       "      <td>Albany</td>\n",
       "      <td>organic</td>\n",
       "      <td>2457.0</td>\n",
       "    </tr>\n",
       "    <tr>\n",
       "      <th>14471</th>\n",
       "      <td>2017-12-10</td>\n",
       "      <td>1.45</td>\n",
       "      <td>3779.98</td>\n",
       "      <td>2017</td>\n",
       "      <td>Albany</td>\n",
       "      <td>organic</td>\n",
       "      <td>2607.0</td>\n",
       "    </tr>\n",
       "    <tr>\n",
       "      <th>14472</th>\n",
       "      <td>2017-12-03</td>\n",
       "      <td>1.44</td>\n",
       "      <td>3577.04</td>\n",
       "      <td>2017</td>\n",
       "      <td>Albany</td>\n",
       "      <td>organic</td>\n",
       "      <td>2484.0</td>\n",
       "    </tr>\n",
       "  </tbody>\n",
       "</table>\n",
       "</div>"
      ],
      "text/plain": [
       "             Date  AveragePrice  Total Volume  year  region     type  \\\n",
       "14468  2017-12-31          1.46       3463.85  2017  Albany  organic   \n",
       "14469  2017-12-24          1.58       3694.13  2017  Albany  organic   \n",
       "14470  2017-12-17          1.43       3513.77  2017  Albany  organic   \n",
       "14471  2017-12-10          1.45       3779.98  2017  Albany  organic   \n",
       "14472  2017-12-03          1.44       3577.04  2017  Albany  organic   \n",
       "\n",
       "       quantidade  \n",
       "14468      2372.0  \n",
       "14469      2338.0  \n",
       "14470      2457.0  \n",
       "14471      2607.0  \n",
       "14472      2484.0  "
      ]
     },
     "execution_count": 66,
     "metadata": {},
     "output_type": "execute_result"
    }
   ],
   "source": [
    "# Filtrando os registros usando a mascara booleana definida anteriormente\n",
    "abacates_2017 = abacates_filtrados[mask2]\n",
    "\n",
    "# Print das primeiras linhas do Dataframe\n",
    "abacates_2017.head()"
   ]
  },
  {
   "cell_type": "code",
   "execution_count": 69,
   "id": "6edd504d",
   "metadata": {},
   "outputs": [
    {
     "data": {
      "text/plain": [
       "region\n",
       "Boise                    146378.96\n",
       "Albany                   155318.99\n",
       "Jacksonville             180797.74\n",
       "Spokane                  199606.88\n",
       "Syracuse                 201145.78\n",
       "Louisville               215945.40\n",
       "NewOrleansMobile         231017.51\n",
       "MiamiFtLauderdale        254326.08\n",
       "Tampa                    269180.39\n",
       "GrandRapids              271940.18\n",
       "Orlando                  323805.67\n",
       "Sacramento               354767.94\n",
       "StLouis                  376389.22\n",
       "Indianapolis             385098.77\n",
       "BuffaloRochester         389881.59\n",
       "Nashville                439638.24\n",
       "Roanoke                  451051.52\n",
       "Charlotte                482769.37\n",
       "Pittsburgh               483028.32\n",
       "Columbus                 551887.96\n",
       "LasVegas                 571249.67\n",
       "RaleighGreensboro        578471.02\n",
       "RichmondNorfolk          622981.45\n",
       "SouthCarolina            640188.64\n",
       "PhoenixTucson            694472.05\n",
       "HarrisburgScranton       730386.75\n",
       "SanDiego                 790312.11\n",
       "HartfordSpringfield      791528.17\n",
       "Atlanta                  841993.33\n",
       "WestTexNewMexico         919131.39\n",
       "CincinnatiDayton         925472.73\n",
       "NorthernNewEngland       935398.57\n",
       "Detroit                 1040508.49\n",
       "SanFrancisco            1046373.19\n",
       "Boston                  1187221.17\n",
       "Philadelphia            1189589.67\n",
       "DallasFtWorth           1273586.51\n",
       "BaltimoreWashington     1703091.76\n",
       "Portland                1769523.45\n",
       "Houston                 1782941.91\n",
       "Denver                  1852421.11\n",
       "Chicago                 2011627.92\n",
       "Seattle                 2460974.92\n",
       "Plains                  3326803.33\n",
       "Southeast               4097434.80\n",
       "NewYork                 4618447.15\n",
       "LosAngeles              4950673.17\n",
       "Midsouth                7047686.31\n",
       "SouthCentral            7104671.46\n",
       "California              8417151.48\n",
       "GreatLakes              8928083.94\n",
       "Northeast              11760003.74\n",
       "West                   12241845.79\n",
       "Name: Total Volume, dtype: float64"
      ]
     },
     "execution_count": 69,
     "metadata": {},
     "output_type": "execute_result"
    }
   ],
   "source": [
    "# Fazendo um agrupamento para calcular o total de volume\n",
    "abacates_2017.groupby('region')['Total Volume'].sum().sort_values()"
   ]
  },
  {
   "cell_type": "markdown",
   "id": "61a28ff2",
   "metadata": {},
   "source": [
    "A cidade que menos faturou vendendo os abacates foi a cidade de Boise."
   ]
  },
  {
   "cell_type": "markdown",
   "id": "cf9dad3d",
   "metadata": {},
   "source": [
    "##  "
   ]
  },
  {
   "cell_type": "markdown",
   "id": "0b343e0e",
   "metadata": {},
   "source": [
    "### Questão 5\n",
    "\n",
    "Vamos praticar alguns conceitos do _Pandas_ utilizando o _DataFrame_ `googleplaystore.csv`, onde esses dados representam algumas informações dos Apps disponíveis na _Play Store_.\n",
    "Dada essas informações, vamos praticar os itens abaixo:\n",
    "\n",
    "__A)__ Carregue o arquivo CSV para o _Jupyter Notebook_ usando o Pandas;\n",
    "\n",
    "__B)__ Identifique quais são as dimensões desse _DataFrame_;\n",
    "\n",
    "__C)__ Imprima os resultados das primeiras e últimas linhas do _DataFrame_;\n",
    "\n",
    "__D)__ Avalie quais são as características dos dados desse _DataFrame_ uilizando a função `.info()`;\n",
    "\n",
    "__E)__ Qual é a coluna que tem a maior quantidade de valores faltantes?\n",
    "\n",
    "__G)__ Calcule as principais métricas estatísticas usando o `.describe()` para as avaliações dos Apps;\n",
    "\n",
    "__H)__ Identifique a frequência de cada um dos elementos nas colunas `Category` e `Content Rating` utilizando a função `.value_counts()`"
   ]
  },
  {
   "cell_type": "markdown",
   "id": "7367c2d6",
   "metadata": {},
   "source": [
    "## Resolução:"
   ]
  },
  {
   "cell_type": "markdown",
   "id": "49030ea6",
   "metadata": {},
   "source": [
    "Vamos carregar as bibliotecas que serão relevantes para esse exercício:"
   ]
  },
  {
   "cell_type": "code",
   "execution_count": 70,
   "id": "2887473a",
   "metadata": {},
   "outputs": [],
   "source": [
    "# import do Pandas\n",
    "import pandas as pd"
   ]
  },
  {
   "cell_type": "markdown",
   "id": "7f7ef92a",
   "metadata": {},
   "source": [
    "__A)__ Carregue o arquivo CSV para o _Jupyter Notebook_ usando o Pandas;"
   ]
  },
  {
   "cell_type": "code",
   "execution_count": 71,
   "id": "c37d294b",
   "metadata": {},
   "outputs": [],
   "source": [
    "# Carrega o CSV para o Notebook\n",
    "google = pd.read_csv('googleplaystore.csv')"
   ]
  },
  {
   "cell_type": "markdown",
   "id": "12ee65ce",
   "metadata": {},
   "source": [
    "__B)__ Identifique quais são as dimensões desse _DataFrame_;"
   ]
  },
  {
   "cell_type": "code",
   "execution_count": 72,
   "id": "04eca1b1",
   "metadata": {},
   "outputs": [
    {
     "data": {
      "text/plain": [
       "(10841, 13)"
      ]
     },
     "execution_count": 72,
     "metadata": {},
     "output_type": "execute_result"
    }
   ],
   "source": [
    "# Print do shape do DataFrame\n",
    "google.shape"
   ]
  },
  {
   "cell_type": "markdown",
   "id": "1c554aa4",
   "metadata": {},
   "source": [
    "__C)__ Imprima os resultados das primeiras e últimas linhas do _DataFrame_;"
   ]
  },
  {
   "cell_type": "code",
   "execution_count": 73,
   "id": "84e0c4ca",
   "metadata": {},
   "outputs": [
    {
     "data": {
      "text/html": [
       "<div>\n",
       "<style scoped>\n",
       "    .dataframe tbody tr th:only-of-type {\n",
       "        vertical-align: middle;\n",
       "    }\n",
       "\n",
       "    .dataframe tbody tr th {\n",
       "        vertical-align: top;\n",
       "    }\n",
       "\n",
       "    .dataframe thead th {\n",
       "        text-align: right;\n",
       "    }\n",
       "</style>\n",
       "<table border=\"1\" class=\"dataframe\">\n",
       "  <thead>\n",
       "    <tr style=\"text-align: right;\">\n",
       "      <th></th>\n",
       "      <th>App</th>\n",
       "      <th>Category</th>\n",
       "      <th>Rating</th>\n",
       "      <th>Reviews</th>\n",
       "      <th>Size</th>\n",
       "      <th>Installs</th>\n",
       "      <th>Type</th>\n",
       "      <th>Price</th>\n",
       "      <th>Content Rating</th>\n",
       "      <th>Genres</th>\n",
       "      <th>Last Updated</th>\n",
       "      <th>Current Ver</th>\n",
       "      <th>Android Ver</th>\n",
       "    </tr>\n",
       "  </thead>\n",
       "  <tbody>\n",
       "    <tr>\n",
       "      <th>0</th>\n",
       "      <td>Photo Editor &amp; Candy Camera &amp; Grid &amp; ScrapBook</td>\n",
       "      <td>ART_AND_DESIGN</td>\n",
       "      <td>4.1</td>\n",
       "      <td>159</td>\n",
       "      <td>19M</td>\n",
       "      <td>10,000+</td>\n",
       "      <td>Free</td>\n",
       "      <td>0</td>\n",
       "      <td>Everyone</td>\n",
       "      <td>Art &amp; Design</td>\n",
       "      <td>January 7, 2018</td>\n",
       "      <td>1.0.0</td>\n",
       "      <td>4.0.3 and up</td>\n",
       "    </tr>\n",
       "    <tr>\n",
       "      <th>1</th>\n",
       "      <td>Coloring book moana</td>\n",
       "      <td>ART_AND_DESIGN</td>\n",
       "      <td>3.9</td>\n",
       "      <td>967</td>\n",
       "      <td>14M</td>\n",
       "      <td>500,000+</td>\n",
       "      <td>Free</td>\n",
       "      <td>0</td>\n",
       "      <td>Everyone</td>\n",
       "      <td>Art &amp; Design;Pretend Play</td>\n",
       "      <td>January 15, 2018</td>\n",
       "      <td>2.0.0</td>\n",
       "      <td>4.0.3 and up</td>\n",
       "    </tr>\n",
       "    <tr>\n",
       "      <th>2</th>\n",
       "      <td>U Launcher Lite – FREE Live Cool Themes, Hide ...</td>\n",
       "      <td>ART_AND_DESIGN</td>\n",
       "      <td>4.7</td>\n",
       "      <td>87510</td>\n",
       "      <td>8.7M</td>\n",
       "      <td>5,000,000+</td>\n",
       "      <td>Free</td>\n",
       "      <td>0</td>\n",
       "      <td>Everyone</td>\n",
       "      <td>Art &amp; Design</td>\n",
       "      <td>August 1, 2018</td>\n",
       "      <td>1.2.4</td>\n",
       "      <td>4.0.3 and up</td>\n",
       "    </tr>\n",
       "    <tr>\n",
       "      <th>3</th>\n",
       "      <td>Sketch - Draw &amp; Paint</td>\n",
       "      <td>ART_AND_DESIGN</td>\n",
       "      <td>4.5</td>\n",
       "      <td>215644</td>\n",
       "      <td>25M</td>\n",
       "      <td>50,000,000+</td>\n",
       "      <td>Free</td>\n",
       "      <td>0</td>\n",
       "      <td>Teen</td>\n",
       "      <td>Art &amp; Design</td>\n",
       "      <td>June 8, 2018</td>\n",
       "      <td>Varies with device</td>\n",
       "      <td>4.2 and up</td>\n",
       "    </tr>\n",
       "    <tr>\n",
       "      <th>4</th>\n",
       "      <td>Pixel Draw - Number Art Coloring Book</td>\n",
       "      <td>ART_AND_DESIGN</td>\n",
       "      <td>4.3</td>\n",
       "      <td>967</td>\n",
       "      <td>2.8M</td>\n",
       "      <td>100,000+</td>\n",
       "      <td>Free</td>\n",
       "      <td>0</td>\n",
       "      <td>Everyone</td>\n",
       "      <td>Art &amp; Design;Creativity</td>\n",
       "      <td>June 20, 2018</td>\n",
       "      <td>1.1</td>\n",
       "      <td>4.4 and up</td>\n",
       "    </tr>\n",
       "  </tbody>\n",
       "</table>\n",
       "</div>"
      ],
      "text/plain": [
       "                                                 App        Category  Rating  \\\n",
       "0     Photo Editor & Candy Camera & Grid & ScrapBook  ART_AND_DESIGN     4.1   \n",
       "1                                Coloring book moana  ART_AND_DESIGN     3.9   \n",
       "2  U Launcher Lite – FREE Live Cool Themes, Hide ...  ART_AND_DESIGN     4.7   \n",
       "3                              Sketch - Draw & Paint  ART_AND_DESIGN     4.5   \n",
       "4              Pixel Draw - Number Art Coloring Book  ART_AND_DESIGN     4.3   \n",
       "\n",
       "  Reviews  Size     Installs  Type Price Content Rating  \\\n",
       "0     159   19M      10,000+  Free     0       Everyone   \n",
       "1     967   14M     500,000+  Free     0       Everyone   \n",
       "2   87510  8.7M   5,000,000+  Free     0       Everyone   \n",
       "3  215644   25M  50,000,000+  Free     0           Teen   \n",
       "4     967  2.8M     100,000+  Free     0       Everyone   \n",
       "\n",
       "                      Genres      Last Updated         Current Ver  \\\n",
       "0               Art & Design   January 7, 2018               1.0.0   \n",
       "1  Art & Design;Pretend Play  January 15, 2018               2.0.0   \n",
       "2               Art & Design    August 1, 2018               1.2.4   \n",
       "3               Art & Design      June 8, 2018  Varies with device   \n",
       "4    Art & Design;Creativity     June 20, 2018                 1.1   \n",
       "\n",
       "    Android Ver  \n",
       "0  4.0.3 and up  \n",
       "1  4.0.3 and up  \n",
       "2  4.0.3 and up  \n",
       "3    4.2 and up  \n",
       "4    4.4 and up  "
      ]
     },
     "execution_count": 73,
     "metadata": {},
     "output_type": "execute_result"
    }
   ],
   "source": [
    "# Print das primeiras 5 linhas do DataFrame\n",
    "google.head()"
   ]
  },
  {
   "cell_type": "code",
   "execution_count": 74,
   "id": "74c95470",
   "metadata": {},
   "outputs": [
    {
     "data": {
      "text/html": [
       "<div>\n",
       "<style scoped>\n",
       "    .dataframe tbody tr th:only-of-type {\n",
       "        vertical-align: middle;\n",
       "    }\n",
       "\n",
       "    .dataframe tbody tr th {\n",
       "        vertical-align: top;\n",
       "    }\n",
       "\n",
       "    .dataframe thead th {\n",
       "        text-align: right;\n",
       "    }\n",
       "</style>\n",
       "<table border=\"1\" class=\"dataframe\">\n",
       "  <thead>\n",
       "    <tr style=\"text-align: right;\">\n",
       "      <th></th>\n",
       "      <th>App</th>\n",
       "      <th>Category</th>\n",
       "      <th>Rating</th>\n",
       "      <th>Reviews</th>\n",
       "      <th>Size</th>\n",
       "      <th>Installs</th>\n",
       "      <th>Type</th>\n",
       "      <th>Price</th>\n",
       "      <th>Content Rating</th>\n",
       "      <th>Genres</th>\n",
       "      <th>Last Updated</th>\n",
       "      <th>Current Ver</th>\n",
       "      <th>Android Ver</th>\n",
       "    </tr>\n",
       "  </thead>\n",
       "  <tbody>\n",
       "    <tr>\n",
       "      <th>10836</th>\n",
       "      <td>Sya9a Maroc - FR</td>\n",
       "      <td>FAMILY</td>\n",
       "      <td>4.5</td>\n",
       "      <td>38</td>\n",
       "      <td>53M</td>\n",
       "      <td>5,000+</td>\n",
       "      <td>Free</td>\n",
       "      <td>0</td>\n",
       "      <td>Everyone</td>\n",
       "      <td>Education</td>\n",
       "      <td>July 25, 2017</td>\n",
       "      <td>1.48</td>\n",
       "      <td>4.1 and up</td>\n",
       "    </tr>\n",
       "    <tr>\n",
       "      <th>10837</th>\n",
       "      <td>Fr. Mike Schmitz Audio Teachings</td>\n",
       "      <td>FAMILY</td>\n",
       "      <td>5.0</td>\n",
       "      <td>4</td>\n",
       "      <td>3.6M</td>\n",
       "      <td>100+</td>\n",
       "      <td>Free</td>\n",
       "      <td>0</td>\n",
       "      <td>Everyone</td>\n",
       "      <td>Education</td>\n",
       "      <td>July 6, 2018</td>\n",
       "      <td>1.0</td>\n",
       "      <td>4.1 and up</td>\n",
       "    </tr>\n",
       "    <tr>\n",
       "      <th>10838</th>\n",
       "      <td>Parkinson Exercices FR</td>\n",
       "      <td>MEDICAL</td>\n",
       "      <td>NaN</td>\n",
       "      <td>3</td>\n",
       "      <td>9.5M</td>\n",
       "      <td>1,000+</td>\n",
       "      <td>Free</td>\n",
       "      <td>0</td>\n",
       "      <td>Everyone</td>\n",
       "      <td>Medical</td>\n",
       "      <td>January 20, 2017</td>\n",
       "      <td>1.0</td>\n",
       "      <td>2.2 and up</td>\n",
       "    </tr>\n",
       "    <tr>\n",
       "      <th>10839</th>\n",
       "      <td>The SCP Foundation DB fr nn5n</td>\n",
       "      <td>BOOKS_AND_REFERENCE</td>\n",
       "      <td>4.5</td>\n",
       "      <td>114</td>\n",
       "      <td>Varies with device</td>\n",
       "      <td>1,000+</td>\n",
       "      <td>Free</td>\n",
       "      <td>0</td>\n",
       "      <td>Mature 17+</td>\n",
       "      <td>Books &amp; Reference</td>\n",
       "      <td>January 19, 2015</td>\n",
       "      <td>Varies with device</td>\n",
       "      <td>Varies with device</td>\n",
       "    </tr>\n",
       "    <tr>\n",
       "      <th>10840</th>\n",
       "      <td>iHoroscope - 2018 Daily Horoscope &amp; Astrology</td>\n",
       "      <td>LIFESTYLE</td>\n",
       "      <td>4.5</td>\n",
       "      <td>398307</td>\n",
       "      <td>19M</td>\n",
       "      <td>10,000,000+</td>\n",
       "      <td>Free</td>\n",
       "      <td>0</td>\n",
       "      <td>Everyone</td>\n",
       "      <td>Lifestyle</td>\n",
       "      <td>July 25, 2018</td>\n",
       "      <td>Varies with device</td>\n",
       "      <td>Varies with device</td>\n",
       "    </tr>\n",
       "  </tbody>\n",
       "</table>\n",
       "</div>"
      ],
      "text/plain": [
       "                                                 App             Category  \\\n",
       "10836                               Sya9a Maroc - FR               FAMILY   \n",
       "10837               Fr. Mike Schmitz Audio Teachings               FAMILY   \n",
       "10838                         Parkinson Exercices FR              MEDICAL   \n",
       "10839                  The SCP Foundation DB fr nn5n  BOOKS_AND_REFERENCE   \n",
       "10840  iHoroscope - 2018 Daily Horoscope & Astrology            LIFESTYLE   \n",
       "\n",
       "       Rating Reviews                Size     Installs  Type Price  \\\n",
       "10836     4.5      38                 53M       5,000+  Free     0   \n",
       "10837     5.0       4                3.6M         100+  Free     0   \n",
       "10838     NaN       3                9.5M       1,000+  Free     0   \n",
       "10839     4.5     114  Varies with device       1,000+  Free     0   \n",
       "10840     4.5  398307                 19M  10,000,000+  Free     0   \n",
       "\n",
       "      Content Rating             Genres      Last Updated         Current Ver  \\\n",
       "10836       Everyone          Education     July 25, 2017                1.48   \n",
       "10837       Everyone          Education      July 6, 2018                 1.0   \n",
       "10838       Everyone            Medical  January 20, 2017                 1.0   \n",
       "10839     Mature 17+  Books & Reference  January 19, 2015  Varies with device   \n",
       "10840       Everyone          Lifestyle     July 25, 2018  Varies with device   \n",
       "\n",
       "              Android Ver  \n",
       "10836          4.1 and up  \n",
       "10837          4.1 and up  \n",
       "10838          2.2 and up  \n",
       "10839  Varies with device  \n",
       "10840  Varies with device  "
      ]
     },
     "execution_count": 74,
     "metadata": {},
     "output_type": "execute_result"
    }
   ],
   "source": [
    "# Print das 5 últimas linhas do DataFrame\n",
    "google.tail()"
   ]
  },
  {
   "cell_type": "markdown",
   "id": "8f28b3b3",
   "metadata": {},
   "source": [
    "__D)__ Avalie quais são as características dos dados desse _DataFrame_ uilizando a função `.info()`;"
   ]
  },
  {
   "cell_type": "code",
   "execution_count": 75,
   "id": "6b8c5aa4",
   "metadata": {
    "scrolled": true
   },
   "outputs": [
    {
     "name": "stdout",
     "output_type": "stream",
     "text": [
      "<class 'pandas.core.frame.DataFrame'>\n",
      "RangeIndex: 10841 entries, 0 to 10840\n",
      "Data columns (total 13 columns):\n",
      " #   Column          Non-Null Count  Dtype  \n",
      "---  ------          --------------  -----  \n",
      " 0   App             10841 non-null  object \n",
      " 1   Category        10841 non-null  object \n",
      " 2   Rating          9367 non-null   float64\n",
      " 3   Reviews         10841 non-null  object \n",
      " 4   Size            10841 non-null  object \n",
      " 5   Installs        10841 non-null  object \n",
      " 6   Type            10840 non-null  object \n",
      " 7   Price           10841 non-null  object \n",
      " 8   Content Rating  10840 non-null  object \n",
      " 9   Genres          10841 non-null  object \n",
      " 10  Last Updated    10841 non-null  object \n",
      " 11  Current Ver     10833 non-null  object \n",
      " 12  Android Ver     10838 non-null  object \n",
      "dtypes: float64(1), object(12)\n",
      "memory usage: 1.1+ MB\n"
     ]
    }
   ],
   "source": [
    "# Print do resumo das informações sobre o DataFrame\n",
    "google.info()"
   ]
  },
  {
   "cell_type": "markdown",
   "id": "297c9646",
   "metadata": {},
   "source": [
    "__E)__ Qual é a coluna que tem a maior quantidade de valores faltantes?"
   ]
  },
  {
   "cell_type": "code",
   "execution_count": 78,
   "id": "1cffc89f",
   "metadata": {
    "scrolled": true
   },
   "outputs": [
    {
     "data": {
      "text/plain": [
       "Rating            1474\n",
       "Current Ver          8\n",
       "Android Ver          3\n",
       "Type                 1\n",
       "Content Rating       1\n",
       "App                  0\n",
       "Category             0\n",
       "Reviews              0\n",
       "Size                 0\n",
       "Installs             0\n",
       "Price                0\n",
       "Genres               0\n",
       "Last Updated         0\n",
       "dtype: int64"
      ]
     },
     "execution_count": 78,
     "metadata": {},
     "output_type": "execute_result"
    }
   ],
   "source": [
    "# Utilize a função isna() para calcular a quantidade de nulos e o sum() para sumarizar esse valor\n",
    "# por coluna\n",
    "google.isna().sum().sort_values(ascending=False)"
   ]
  },
  {
   "cell_type": "markdown",
   "id": "aa29037a",
   "metadata": {},
   "source": [
    "__G)__ Calcule as principais métricas estatísticas usando o `.describe()` para as avaliações dos Apps;"
   ]
  },
  {
   "cell_type": "code",
   "execution_count": 81,
   "id": "6566d64d",
   "metadata": {
    "scrolled": true
   },
   "outputs": [
    {
     "data": {
      "text/html": [
       "<div>\n",
       "<style scoped>\n",
       "    .dataframe tbody tr th:only-of-type {\n",
       "        vertical-align: middle;\n",
       "    }\n",
       "\n",
       "    .dataframe tbody tr th {\n",
       "        vertical-align: top;\n",
       "    }\n",
       "\n",
       "    .dataframe thead th {\n",
       "        text-align: right;\n",
       "    }\n",
       "</style>\n",
       "<table border=\"1\" class=\"dataframe\">\n",
       "  <thead>\n",
       "    <tr style=\"text-align: right;\">\n",
       "      <th></th>\n",
       "      <th>Rating</th>\n",
       "    </tr>\n",
       "  </thead>\n",
       "  <tbody>\n",
       "    <tr>\n",
       "      <th>count</th>\n",
       "      <td>9367.000000</td>\n",
       "    </tr>\n",
       "    <tr>\n",
       "      <th>mean</th>\n",
       "      <td>4.193338</td>\n",
       "    </tr>\n",
       "    <tr>\n",
       "      <th>std</th>\n",
       "      <td>0.537431</td>\n",
       "    </tr>\n",
       "    <tr>\n",
       "      <th>min</th>\n",
       "      <td>1.000000</td>\n",
       "    </tr>\n",
       "    <tr>\n",
       "      <th>25%</th>\n",
       "      <td>4.000000</td>\n",
       "    </tr>\n",
       "    <tr>\n",
       "      <th>50%</th>\n",
       "      <td>4.300000</td>\n",
       "    </tr>\n",
       "    <tr>\n",
       "      <th>75%</th>\n",
       "      <td>4.500000</td>\n",
       "    </tr>\n",
       "    <tr>\n",
       "      <th>max</th>\n",
       "      <td>19.000000</td>\n",
       "    </tr>\n",
       "  </tbody>\n",
       "</table>\n",
       "</div>"
      ],
      "text/plain": [
       "            Rating\n",
       "count  9367.000000\n",
       "mean      4.193338\n",
       "std       0.537431\n",
       "min       1.000000\n",
       "25%       4.000000\n",
       "50%       4.300000\n",
       "75%       4.500000\n",
       "max      19.000000"
      ]
     },
     "execution_count": 81,
     "metadata": {},
     "output_type": "execute_result"
    }
   ],
   "source": [
    "# Calcula as principais métricas estatisticas com o describe\n",
    "google.describe()"
   ]
  },
  {
   "cell_type": "code",
   "execution_count": 82,
   "id": "a3eb9351",
   "metadata": {},
   "outputs": [
    {
     "data": {
      "text/plain": [
       "count    9367.000000\n",
       "mean        4.193338\n",
       "std         0.537431\n",
       "min         1.000000\n",
       "25%         4.000000\n",
       "50%         4.300000\n",
       "75%         4.500000\n",
       "max        19.000000\n",
       "Name: Rating, dtype: float64"
      ]
     },
     "execution_count": 82,
     "metadata": {},
     "output_type": "execute_result"
    }
   ],
   "source": [
    "google['Rating'].describe()"
   ]
  },
  {
   "cell_type": "markdown",
   "id": "5486ba17",
   "metadata": {},
   "source": [
    "__H)__ Identifique a frequência de cada um dos elementos nas colunas `Category` e `Content Rating` utilizando a função `.value_counts()`"
   ]
  },
  {
   "cell_type": "code",
   "execution_count": 83,
   "id": "e158bc8c",
   "metadata": {},
   "outputs": [
    {
     "data": {
      "text/plain": [
       "FAMILY                 1972\n",
       "GAME                   1144\n",
       "TOOLS                   843\n",
       "MEDICAL                 463\n",
       "BUSINESS                460\n",
       "PRODUCTIVITY            424\n",
       "PERSONALIZATION         392\n",
       "COMMUNICATION           387\n",
       "SPORTS                  384\n",
       "LIFESTYLE               382\n",
       "FINANCE                 366\n",
       "HEALTH_AND_FITNESS      341\n",
       "PHOTOGRAPHY             335\n",
       "SOCIAL                  295\n",
       "NEWS_AND_MAGAZINES      283\n",
       "SHOPPING                260\n",
       "TRAVEL_AND_LOCAL        258\n",
       "DATING                  234\n",
       "BOOKS_AND_REFERENCE     231\n",
       "VIDEO_PLAYERS           175\n",
       "EDUCATION               156\n",
       "ENTERTAINMENT           149\n",
       "MAPS_AND_NAVIGATION     137\n",
       "FOOD_AND_DRINK          127\n",
       "HOUSE_AND_HOME           88\n",
       "AUTO_AND_VEHICLES        85\n",
       "LIBRARIES_AND_DEMO       85\n",
       "WEATHER                  82\n",
       "ART_AND_DESIGN           65\n",
       "EVENTS                   64\n",
       "COMICS                   60\n",
       "PARENTING                60\n",
       "BEAUTY                   53\n",
       "1.9                       1\n",
       "Name: Category, dtype: int64"
      ]
     },
     "execution_count": 83,
     "metadata": {},
     "output_type": "execute_result"
    }
   ],
   "source": [
    "# Fazendo um value_counts para as categorias\n",
    "google['Category'].value_counts()"
   ]
  },
  {
   "cell_type": "markdown",
   "id": "ea36efdc",
   "metadata": {},
   "source": [
    "As categorias _FAMILY_, _GAMES_ e _TOOLS_ são as mais representativas nos dados"
   ]
  },
  {
   "cell_type": "code",
   "execution_count": 84,
   "id": "ea2458fe",
   "metadata": {
    "scrolled": true
   },
   "outputs": [
    {
     "data": {
      "text/plain": [
       "Everyone           8714\n",
       "Teen               1208\n",
       "Mature 17+          499\n",
       "Everyone 10+        414\n",
       "Adults only 18+       3\n",
       "Unrated               2\n",
       "Name: Content Rating, dtype: int64"
      ]
     },
     "execution_count": 84,
     "metadata": {},
     "output_type": "execute_result"
    }
   ],
   "source": [
    "# Faz um value_count por Content Rating (faixa etária indicativa do conteúdo)\n",
    "google['Content Rating'].value_counts()"
   ]
  },
  {
   "cell_type": "markdown",
   "id": "cce32792",
   "metadata": {},
   "source": [
    "Lembrando que podemos olhar essa representação do `value_counts` de forma relativa utilizando o parâmetro `normalize = True`:"
   ]
  },
  {
   "cell_type": "code",
   "execution_count": 85,
   "id": "4887eed7",
   "metadata": {},
   "outputs": [
    {
     "data": {
      "text/plain": [
       "Everyone           80.387454\n",
       "Teen               11.143911\n",
       "Mature 17+          4.603321\n",
       "Everyone 10+        3.819188\n",
       "Adults only 18+     0.027675\n",
       "Unrated             0.018450\n",
       "Name: Content Rating, dtype: float64"
      ]
     },
     "execution_count": 85,
     "metadata": {},
     "output_type": "execute_result"
    }
   ],
   "source": [
    "# Faz um value_count por Content Rating (faixa etária indicativa do conteúdo)\n",
    "google['Content Rating'].value_counts(normalize = True)*100"
   ]
  },
  {
   "cell_type": "markdown",
   "id": "39f3290e",
   "metadata": {},
   "source": [
    "Assim conseguimos concluir que mais de 80% dos Apps têm indicação para todas as idades."
   ]
  }
 ],
 "metadata": {
  "kernelspec": {
   "display_name": "Python 3 (ipykernel)",
   "language": "python",
   "name": "python3"
  },
  "language_info": {
   "codemirror_mode": {
    "name": "ipython",
    "version": 3
   },
   "file_extension": ".py",
   "mimetype": "text/x-python",
   "name": "python",
   "nbconvert_exporter": "python",
   "pygments_lexer": "ipython3",
   "version": "3.8.10"
  }
 },
 "nbformat": 4,
 "nbformat_minor": 5
}
