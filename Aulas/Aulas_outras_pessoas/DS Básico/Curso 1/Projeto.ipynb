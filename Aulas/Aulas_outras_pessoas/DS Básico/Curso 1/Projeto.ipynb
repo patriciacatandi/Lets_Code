{
 "cells": [
  {
   "cell_type": "markdown",
   "id": "033bd9a5",
   "metadata": {
    "toc": true
   },
   "source": [
    "<h1>Sumário<span class=\"tocSkip\"></span></h1>\n",
    "<div class=\"toc\"><ul class=\"toc-item\"><li><span><a href=\"#Base-de-Dados\" data-toc-modified-id=\"Base-de-Dados-1\"><span class=\"toc-item-num\">1&nbsp;&nbsp;</span>Base de Dados</a></span></li><li><span><a href=\"#Análise-Exploratória-e-Tratamento-de-Dados\" data-toc-modified-id=\"Análise-Exploratória-e-Tratamento-de-Dados-2\"><span class=\"toc-item-num\">2&nbsp;&nbsp;</span>Análise Exploratória e Tratamento de Dados</a></span><ul class=\"toc-item\"><li><span><a href=\"#Análise-inicial-da-base-de-dados:\" data-toc-modified-id=\"Análise-inicial-da-base-de-dados:-2.1\"><span class=\"toc-item-num\">2.1&nbsp;&nbsp;</span>Análise inicial da base de dados:</a></span></li><li><span><a href=\"#Dados-faltantes-e-duplicatas\" data-toc-modified-id=\"Dados-faltantes-e-duplicatas-2.2\"><span class=\"toc-item-num\">2.2&nbsp;&nbsp;</span>Dados faltantes e duplicatas</a></span></li><li><span><a href=\"#Visualização-de-dados\" data-toc-modified-id=\"Visualização-de-dados-2.3\"><span class=\"toc-item-num\">2.3&nbsp;&nbsp;</span>Visualização de dados</a></span></li><li><span><a href=\"#Transformação-de-variáveis\" data-toc-modified-id=\"Transformação-de-variáveis-2.4\"><span class=\"toc-item-num\">2.4&nbsp;&nbsp;</span>Transformação de variáveis</a></span></li></ul></li><li><span><a href=\"#Modelagem\" data-toc-modified-id=\"Modelagem-3\"><span class=\"toc-item-num\">3&nbsp;&nbsp;</span>Modelagem</a></span></li></ul></div>"
   ]
  },
  {
   "cell_type": "markdown",
   "id": "a0dfd750",
   "metadata": {},
   "source": [
    "# Projeto Data Science\n",
    "\n",
    "Machine Learning e Data Science são áreas muito utilizadas atualmente na academia e no mercado em diferentes cenários, aplicações e tipos de dados. Independetemente disso, todo projeto divide-se, de forma geral, em quatro etapas, conforme Figura abaixo.\n",
    "1. Aquisição da base de dados: procurar ou criar uma base de dados que atenda o problema;\n",
    "2. Tratamento de dados: compreender a base de dados, pré-processando os dados quando necessário, sendo comum tarefas como: normalização dos dados, transformação de variáveis, balanceamento dos dados e remoção de duplicadas, valores nulos e/ou outliers. Também está associada a essa etapa uma análise exploratória dos dados, comumente realizada associada a visualização de dados e estatística.\n",
    "3. Modelagem: aplicação de modelos para resolução do problema. Para isso, deve-se, em geral, particionar os dados, parametrizar o modelo afim de identificar o melhor algoritmo e melhor combinação de parêmetros (também conhecido como fine tuning), além da avaliação de desempenho do modelo\n",
    "4. Deployment: inserir o modelo em um pipeline de produção\n",
    "![Title](imgs/fluxo_ml.png)\n",
    "\n",
    "Neste projeto, dada uma base de dados, os alunos deverão realizar as etapas 2 e 3 descritas acima com o objetivo de se familiarizarem com o fluxo geral de um cientista de dados para dados estruturados. Serão avaliados para o projeto, os critérios:\n",
    "1. Implementação: técnicas, lógica e frameworks utilizados para realização do pipeline.\n",
    "2. Interpretabilidade: justificar as escolhas das técnicas aplicadas ou o entendimento de seus resultados\n",
    "\n",
    "Não se preocupem, os critérios seguem exatamente o que foi dado em aula, não será cobrado nada a mais. \n",
    "Bom projeto!\n",
    "![Title](imgs/meme.jpg)"
   ]
  },
  {
   "cell_type": "markdown",
   "id": "4dd8016a",
   "metadata": {},
   "source": [
    "## Base de Dados\n",
    "\n",
    "Para resolução do projeto, pode-se utilizar como bases de dados:\n",
    "1. [Fraude em cartões de crédito](https://www.kaggle.com/mlg-ulb/creditcardfraud)\n",
    "2. [Telco customer churn](https://www.kaggle.com/blastchar/telco-customer-churn)\n",
    "3. [IBM HR Attrition Dataset](https://www.kaggle.com/pavansubhasht/ibm-hr-analytics-attrition-dataset)\n",
    "4. [Medical Cost Personal Datasets](https://www.kaggle.com/mirichoi0218/insurance)\n",
    "5. [Kaggle Machine Learning & Data Science Survey](https://www.kaggle.com/c/kaggle-survey-2020): esse problema pode ser utilizado quanto o dataset de 2020, como também de outros anos (ou todos)\n",
    "6. [Identificação de fraude (versão mais hard para os que quiserem um challenge)](https://www.kaggle.com/c/ieee-fraud-detection)\n",
    "\n",
    "Obs: Pode-se também utilizar uma base de dados própria ou alguma outra que o aluno deseje trabalhar. Neste caso, recomenda-se entrar em contato com a professora antes de iniciar o projeto para validação da base de dados."
   ]
  },
  {
   "cell_type": "markdown",
   "id": "31c641b2",
   "metadata": {},
   "source": [
    "## Análise Exploratória e Tratamento de Dados"
   ]
  },
  {
   "cell_type": "markdown",
   "id": "ab21bb06",
   "metadata": {},
   "source": [
    "### Análise inicial da base de dados:\n",
    "\n",
    "1. Quantas amostras e atributos existem na base de dados?\n",
    "2. Qual a coluna alvo (target) para o seu problema? O problema é de classificação ou regressão?\n",
    "3. Quais os tipos de dados de cada atributo?"
   ]
  },
  {
   "cell_type": "markdown",
   "id": "ad68dd02",
   "metadata": {},
   "source": [
    "### Dados faltantes e duplicatas\n",
    "\n",
    "1. Existem dados faltantes e duplicatas?\n",
    "2. Como tratar esses dados?"
   ]
  },
  {
   "cell_type": "markdown",
   "id": "4e480064",
   "metadata": {},
   "source": [
    "### Visualização de dados\n",
    "\n",
    "Explore a base de dados, seus atributos e target. Lembrando que cada visualização depende, principalmente, do tipo de variável e do objetivo que deseja ser alcançado, segundo a Figura abaixo. \n",
    "\n",
    "Sugestão: nesta análise também podem ser utilizados conceitos do Pandas como groupby e filtros para auxiliar na visualização \n",
    "\n",
    "![Title](imgs/chart_type.png)\n",
    "\n",
    "Alguns possíveis pontos sugeridos para análise:\n",
    "\n",
    "1. Qual a quantidade de amostras por categoria de um atributo?\n",
    "2. O target está balanceado? (para problemas de classificação)\n",
    "3. Existem outliers na base? Em caso positivo é necessário tratá-los?\n",
    "4. Verificar o histograma e distribuição das variáveis\n",
    "5. Existem relações entre as variáveis do seu dataset? Pode-se gerar algumas hipóteses observando o comportamento dos atributos de entrada e o target?"
   ]
  },
  {
   "cell_type": "markdown",
   "id": "35286274",
   "metadata": {},
   "source": [
    "### Transformação de variáveis\n",
    "\n",
    "1. Existem atributos de tipo string no dataset? Será necessário tratar? Como?\n",
    "2. (opcional) Gerar colunas no dataset a partir de combinação de atributos de entrada\n",
    "3. Será necessário normalizar o dataset? Aplique no mínimo duas normalizações em caso positivo e compare os resultados\n",
    "4. Pode-se remover colunas da base de dados? \n",
    "  * Verificar correlação\n",
    "  * Seleção de features: essa etapa pode ser realizada por inspeção visual, teste estatístico, como também com auxílio de algoritmos de ML\n",
    "5. O Target está balanceado? Em caso negativo, utilize duas técnicas de balanceamento de dados, comparando os resultados alcançados"
   ]
  },
  {
   "cell_type": "markdown",
   "id": "8b0b4f7e",
   "metadata": {},
   "source": [
    "## Modelagem\n",
    "\n",
    "1. Particionamento de dados: se necessário, gerar uma base de treinamento e uma de teste para o problema\n",
    "  * Utilizar cross-validation ou hold out (train test split) para esta etapa\n",
    "2. Treinamento de modelos de ML:\n",
    "  * Escolher no mínimo 2 algoritmos de Machine Learning (vistos em sala ou não)\n",
    "  * Tentar otimizar os resultados dos algoritmos, alterando diferentes parâmetros. Essa etapa pode ser feita empiricamente ou por meio de algoritmos de busca como grid search. Caso não consigam alcançar melhores resultados mudando a parametrizar, mostrar os resultados da mesma forma (as vezes acontece)\n",
    "3. Avaliação de desempenho:\n",
    "  * Escolha diferentes métricas para avaliar os algoritmos. Qual obteve melhor resultado na base de teste? \n",
    "4. Tentar explorar os algoritmos utilizados, por exemplo:\n",
    "  * Mostrar os coeficientes da regressão ou da logística\n",
    "  * Regras da árvore de decisão\n",
    "  * Features mais importantes\n",
    "Os resultados da etapa 4 fazem sentido com o que foi visto com a análise exploratória ou com o seu entendimento do problema?"
   ]
  },
  {
   "cell_type": "code",
   "execution_count": null,
   "id": "4b70c67e",
   "metadata": {},
   "outputs": [],
   "source": []
  }
 ],
 "metadata": {
  "kernelspec": {
   "display_name": "Python 3 (ipykernel)",
   "language": "python",
   "name": "python3"
  },
  "language_info": {
   "codemirror_mode": {
    "name": "ipython",
    "version": 3
   },
   "file_extension": ".py",
   "mimetype": "text/x-python",
   "name": "python",
   "nbconvert_exporter": "python",
   "pygments_lexer": "ipython3",
   "version": "3.8.10"
  },
  "toc": {
   "base_numbering": 1,
   "nav_menu": {},
   "number_sections": true,
   "sideBar": true,
   "skip_h1_title": true,
   "title_cell": "Sumário",
   "title_sidebar": "Contents",
   "toc_cell": true,
   "toc_position": {},
   "toc_section_display": true,
   "toc_window_display": true
  }
 },
 "nbformat": 4,
 "nbformat_minor": 5
}
