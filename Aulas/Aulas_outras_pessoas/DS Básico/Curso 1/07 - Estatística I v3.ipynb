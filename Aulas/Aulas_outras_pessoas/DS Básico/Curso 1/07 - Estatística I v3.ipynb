{
 "cells": [
  {
   "cell_type": "markdown",
   "id": "bf41096b",
   "metadata": {},
   "source": [
    "# Exercícios - Estatística I"
   ]
  },
  {
   "cell_type": "markdown",
   "id": "dc9efb9e",
   "metadata": {},
   "source": [
    "### Questão 1"
   ]
  },
  {
   "cell_type": "markdown",
   "id": "f0f7505b",
   "metadata": {},
   "source": [
    "Os exercícios de 1 a 5 serão desenvolvidos utilizando o _dataset_ `Titanic.csv`:\n",
    "    \n",
    "Calcule a frequència absoluta para os sobreviventes no _Titanic_.\n",
    "\n",
    "__Dica.:__ Utilize a função `.value_counts()`"
   ]
  },
  {
   "cell_type": "markdown",
   "id": "d6690661",
   "metadata": {},
   "source": [
    "### Resolução:"
   ]
  },
  {
   "cell_type": "markdown",
   "id": "02cce555",
   "metadata": {},
   "source": [
    "Carregando as principais bibliotecas que iremos utilizar:"
   ]
  },
  {
   "cell_type": "code",
   "execution_count": 4,
   "id": "35fab489",
   "metadata": {},
   "outputs": [],
   "source": [
    "import pandas as pd\n",
    "import numpy as np\n",
    "import matplotlib.pyplot as plt\n",
    "import seaborn as sns"
   ]
  },
  {
   "cell_type": "code",
   "execution_count": 5,
   "id": "4fabba8f",
   "metadata": {},
   "outputs": [
    {
     "data": {
      "text/html": [
       "<div>\n",
       "<style scoped>\n",
       "    .dataframe tbody tr th:only-of-type {\n",
       "        vertical-align: middle;\n",
       "    }\n",
       "\n",
       "    .dataframe tbody tr th {\n",
       "        vertical-align: top;\n",
       "    }\n",
       "\n",
       "    .dataframe thead th {\n",
       "        text-align: right;\n",
       "    }\n",
       "</style>\n",
       "<table border=\"1\" class=\"dataframe\">\n",
       "  <thead>\n",
       "    <tr style=\"text-align: right;\">\n",
       "      <th></th>\n",
       "      <th>PassengerId</th>\n",
       "      <th>Survived</th>\n",
       "      <th>Pclass</th>\n",
       "      <th>Name</th>\n",
       "      <th>Sex</th>\n",
       "      <th>Age</th>\n",
       "      <th>SibSp</th>\n",
       "      <th>Parch</th>\n",
       "      <th>Ticket</th>\n",
       "      <th>Fare</th>\n",
       "      <th>Cabin</th>\n",
       "      <th>Embarked</th>\n",
       "    </tr>\n",
       "  </thead>\n",
       "  <tbody>\n",
       "    <tr>\n",
       "      <th>0</th>\n",
       "      <td>1</td>\n",
       "      <td>0</td>\n",
       "      <td>3</td>\n",
       "      <td>Braund, Mr. Owen Harris</td>\n",
       "      <td>male</td>\n",
       "      <td>22.0</td>\n",
       "      <td>1</td>\n",
       "      <td>0</td>\n",
       "      <td>A/5 21171</td>\n",
       "      <td>7.2500</td>\n",
       "      <td>NaN</td>\n",
       "      <td>S</td>\n",
       "    </tr>\n",
       "    <tr>\n",
       "      <th>1</th>\n",
       "      <td>2</td>\n",
       "      <td>1</td>\n",
       "      <td>1</td>\n",
       "      <td>Cumings, Mrs. John Bradley (Florence Briggs Th...</td>\n",
       "      <td>female</td>\n",
       "      <td>38.0</td>\n",
       "      <td>1</td>\n",
       "      <td>0</td>\n",
       "      <td>PC 17599</td>\n",
       "      <td>71.2833</td>\n",
       "      <td>C85</td>\n",
       "      <td>C</td>\n",
       "    </tr>\n",
       "    <tr>\n",
       "      <th>2</th>\n",
       "      <td>3</td>\n",
       "      <td>1</td>\n",
       "      <td>3</td>\n",
       "      <td>Heikkinen, Miss. Laina</td>\n",
       "      <td>female</td>\n",
       "      <td>26.0</td>\n",
       "      <td>0</td>\n",
       "      <td>0</td>\n",
       "      <td>STON/O2. 3101282</td>\n",
       "      <td>7.9250</td>\n",
       "      <td>NaN</td>\n",
       "      <td>S</td>\n",
       "    </tr>\n",
       "    <tr>\n",
       "      <th>3</th>\n",
       "      <td>4</td>\n",
       "      <td>1</td>\n",
       "      <td>1</td>\n",
       "      <td>Futrelle, Mrs. Jacques Heath (Lily May Peel)</td>\n",
       "      <td>female</td>\n",
       "      <td>35.0</td>\n",
       "      <td>1</td>\n",
       "      <td>0</td>\n",
       "      <td>113803</td>\n",
       "      <td>53.1000</td>\n",
       "      <td>C123</td>\n",
       "      <td>S</td>\n",
       "    </tr>\n",
       "    <tr>\n",
       "      <th>4</th>\n",
       "      <td>5</td>\n",
       "      <td>0</td>\n",
       "      <td>3</td>\n",
       "      <td>Allen, Mr. William Henry</td>\n",
       "      <td>male</td>\n",
       "      <td>35.0</td>\n",
       "      <td>0</td>\n",
       "      <td>0</td>\n",
       "      <td>373450</td>\n",
       "      <td>8.0500</td>\n",
       "      <td>NaN</td>\n",
       "      <td>S</td>\n",
       "    </tr>\n",
       "  </tbody>\n",
       "</table>\n",
       "</div>"
      ],
      "text/plain": [
       "   PassengerId  Survived  Pclass  \\\n",
       "0            1         0       3   \n",
       "1            2         1       1   \n",
       "2            3         1       3   \n",
       "3            4         1       1   \n",
       "4            5         0       3   \n",
       "\n",
       "                                                Name     Sex   Age  SibSp  \\\n",
       "0                            Braund, Mr. Owen Harris    male  22.0      1   \n",
       "1  Cumings, Mrs. John Bradley (Florence Briggs Th...  female  38.0      1   \n",
       "2                             Heikkinen, Miss. Laina  female  26.0      0   \n",
       "3       Futrelle, Mrs. Jacques Heath (Lily May Peel)  female  35.0      1   \n",
       "4                           Allen, Mr. William Henry    male  35.0      0   \n",
       "\n",
       "   Parch            Ticket     Fare Cabin Embarked  \n",
       "0      0         A/5 21171   7.2500   NaN        S  \n",
       "1      0          PC 17599  71.2833   C85        C  \n",
       "2      0  STON/O2. 3101282   7.9250   NaN        S  \n",
       "3      0            113803  53.1000  C123        S  \n",
       "4      0            373450   8.0500   NaN        S  "
      ]
     },
     "execution_count": 5,
     "metadata": {},
     "output_type": "execute_result"
    }
   ],
   "source": [
    "# Print carregando o dataset Titanic\n",
    "titanic = pd.read_csv(\"titanic.csv\")\n",
    "\n",
    "# Print das primeiras linhas\n",
    "titanic.head()"
   ]
  },
  {
   "cell_type": "code",
   "execution_count": 6,
   "id": "d170b407",
   "metadata": {},
   "outputs": [
    {
     "name": "stdout",
     "output_type": "stream",
     "text": [
      "Tabela de frequência ABSOLUTA da coluna 'Survived':\n"
     ]
    },
    {
     "data": {
      "text/plain": [
       "0    549\n",
       "1    342\n",
       "Name: Survived, dtype: int64"
      ]
     },
     "metadata": {},
     "output_type": "display_data"
    }
   ],
   "source": [
    "# Print do Título\n",
    "print(\"Tabela de frequência ABSOLUTA da coluna 'Survived':\")\n",
    "\n",
    "# Print da Tabela de Frequencia absoluta\n",
    "display(titanic[\"Survived\"].value_counts())"
   ]
  },
  {
   "cell_type": "markdown",
   "id": "eec4e9a2",
   "metadata": {},
   "source": [
    "## "
   ]
  },
  {
   "cell_type": "markdown",
   "id": "70fbcc9a",
   "metadata": {},
   "source": [
    "### Questão 2"
   ]
  },
  {
   "cell_type": "markdown",
   "id": "26ebb4fc",
   "metadata": {},
   "source": [
    "Os exercícios de 1 a 5 serão desenvolvidos utilizando o _dataset_ `Titanic.csv`:\n",
    "    \n",
    "Calcule a frequència relativa e relativa percentual para os sobreviventes no _Titanic_.\n",
    "\n",
    "__Dica.:__ Utilize a função `.value_counts()`"
   ]
  },
  {
   "cell_type": "markdown",
   "id": "3058b274",
   "metadata": {},
   "source": [
    "### Resolução:"
   ]
  },
  {
   "cell_type": "code",
   "execution_count": 7,
   "id": "e5188a8b",
   "metadata": {},
   "outputs": [
    {
     "name": "stdout",
     "output_type": "stream",
     "text": [
      "Tabela de frequência RELATIVA da coluna 'Survived':\n"
     ]
    },
    {
     "data": {
      "text/plain": [
       "0    0.616162\n",
       "1    0.383838\n",
       "Name: Survived, dtype: float64"
      ]
     },
     "metadata": {},
     "output_type": "display_data"
    }
   ],
   "source": [
    "# Print do Titulo\n",
    "print(\"Tabela de frequência RELATIVA da coluna 'Survived':\")\n",
    "\n",
    "# Print da Tabela de Frequencia relativa\n",
    "display(titanic[\"Survived\"].value_counts(normalize=True))"
   ]
  },
  {
   "cell_type": "code",
   "execution_count": 8,
   "id": "3fd28b6d",
   "metadata": {},
   "outputs": [
    {
     "name": "stdout",
     "output_type": "stream",
     "text": [
      "Tabela de frequência PERCENTUAL da coluna 'Survived':\n"
     ]
    },
    {
     "data": {
      "text/plain": [
       "0    61.62%\n",
       "1    38.38%\n",
       "Name: Survived, dtype: object"
      ]
     },
     "execution_count": 8,
     "metadata": {},
     "output_type": "execute_result"
    }
   ],
   "source": [
    "# Print do Titulo\n",
    "print(\"Tabela de frequência PERCENTUAL da coluna 'Survived':\")\n",
    "\n",
    "# Print da Tabela de Frequencia Percentual\n",
    "titanic[\"Survived\"].value_counts(normalize=True).apply(lambda x: str(round(x*100, 2)) + \"%\")"
   ]
  },
  {
   "cell_type": "markdown",
   "id": "f45cd7a9",
   "metadata": {},
   "source": [
    "## "
   ]
  },
  {
   "cell_type": "markdown",
   "id": "a1490edd",
   "metadata": {},
   "source": [
    "### Questão 3"
   ]
  },
  {
   "cell_type": "markdown",
   "id": "045b0f2a",
   "metadata": {},
   "source": [
    "Os exercícios de 1 a 5 serão desenvolvidos utilizando o _dataset_ `Titanic.csv`:\n",
    "    \n",
    "Utilizando a coluna `Age` do _dataset Titanic_, defina as principais métricas estatísticas para essa variável tais como:\n",
    "- Média;\n",
    "- Desvio Padrão;\n",
    "- Mínimo;\n",
    "- Primeiro Quartil;\n",
    "- Segundo Quartil (Mediana);\n",
    "- Terceiro Quartil;\n",
    "- Distância Interquartil (IQR);\n",
    "- Máximo;\n",
    "- Skewness;\n",
    "- Moda."
   ]
  },
  {
   "cell_type": "markdown",
   "id": "bfdaa62f",
   "metadata": {},
   "source": [
    "### Resolução:"
   ]
  },
  {
   "cell_type": "code",
   "execution_count": 12,
   "id": "73d6ad09",
   "metadata": {
    "scrolled": false
   },
   "outputs": [
    {
     "name": "stdout",
     "output_type": "stream",
     "text": [
      "Média de idades: 29.69911764705882\n",
      "Desvio padrão de idades: 14.526497332334044\n",
      "\n",
      "Idade mínima: 0.42\n",
      "\n",
      "Idade Q1: 20.125\n",
      "Mediana de idades: 28.0\n",
      "Idade Q3: 38.0\n",
      "IQR das idades: 17.875\n",
      "\n",
      "Idade máxima: 80.0\n",
      "\n",
      "Skewness das idades: 0.38910778230082704\n",
      "\n",
      "Idade(s) mais comum(s):\n"
     ]
    },
    {
     "data": {
      "text/plain": [
       "0    24.0\n",
       "dtype: float64"
      ]
     },
     "metadata": {},
     "output_type": "display_data"
    }
   ],
   "source": [
    "# Calculo das Metricas para Idade\n",
    "print(\"Média de idades:\", titanic[\"Age\"].mean())\n",
    "print(\"Desvio padrão de idades:\", titanic[\"Age\"].std())\n",
    "print(\"\\nIdade mínima:\", titanic[\"Age\"].min())\n",
    "print(\"\\nIdade Q1:\", titanic[\"Age\"].quantile(0.25))\n",
    "print(\"Mediana de idades:\", titanic[\"Age\"].median())\n",
    "print(\"Idade Q3:\", titanic[\"Age\"].quantile(0.75))\n",
    "print(\"IQR das idades:\", titanic[\"Age\"].quantile(0.75) - titanic[\"Age\"].quantile(0.25))\n",
    "print(\"\\nIdade máxima:\", titanic[\"Age\"].max())\n",
    "print(\"\\nSkewness das idades:\", titanic[\"Age\"].skew())\n",
    "print(\"\\nIdade(s) mais comum(s):\")\n",
    "display(titanic[\"Age\"].mode())"
   ]
  },
  {
   "cell_type": "markdown",
   "id": "fa0732fd",
   "metadata": {},
   "source": [
    "Podemos fazer a maioria dessas métricas utilizando a função `.describe()` do _Pandas_:"
   ]
  },
  {
   "cell_type": "code",
   "execution_count": 16,
   "id": "a2fdca52",
   "metadata": {},
   "outputs": [
    {
     "data": {
      "text/plain": [
       "count    714.000000\n",
       "mean      29.699118\n",
       "std       14.526497\n",
       "min        0.420000\n",
       "25%       20.125000\n",
       "50%       28.000000\n",
       "75%       38.000000\n",
       "max       80.000000\n",
       "Name: Age, dtype: float64"
      ]
     },
     "execution_count": 16,
     "metadata": {},
     "output_type": "execute_result"
    }
   ],
   "source": [
    "titanic['Age'].describe()"
   ]
  },
  {
   "cell_type": "markdown",
   "id": "c6d6308e",
   "metadata": {},
   "source": [
    "## "
   ]
  },
  {
   "cell_type": "markdown",
   "id": "0c48d8bc",
   "metadata": {},
   "source": [
    "### Questão 4"
   ]
  },
  {
   "cell_type": "markdown",
   "id": "02b13cc4",
   "metadata": {},
   "source": [
    "Os exercícios de 1 a 5 serão desenvolvidos utilizando o _dataset_ `Titanic.csv`:\n",
    "    \n",
    "Crie um gráfico da dispersão das idades dos passageiros do _Titanic_ e identifique os pontos onde se encontram a média, mediana e moda das idades."
   ]
  },
  {
   "cell_type": "markdown",
   "id": "1580ec17",
   "metadata": {},
   "source": [
    "### Resolução:"
   ]
  },
  {
   "cell_type": "code",
   "execution_count": 13,
   "id": "5ede3bf6",
   "metadata": {},
   "outputs": [
    {
     "data": {
      "image/png": "[encoded data removed]",
      "text/plain": [
       "<Figure size 864x432 with 1 Axes>"
      ]
     },
     "metadata": {
      "needs_background": "light"
     },
     "output_type": "display_data"
    }
   ],
   "source": [
    "# Define o tamanho da figura\n",
    "plt.figure(figsize=(12, 6))\n",
    "\n",
    "# Define o Titulo\n",
    "plt.title(\"Distribuição de idades dos passageiros do Titanic\", size=18)\n",
    "\n",
    "# Plot do Histograma\n",
    "sns.histplot(titanic[\"Age\"], kde=True, alpha=0.2)\n",
    "\n",
    "# plotando média\n",
    "plt.axvline(x=titanic[\"Age\"].mean(), color=\"red\", label=\"média\")\n",
    "\n",
    "# plotando a mediana\n",
    "plt.axvline(titanic[\"Age\"].median(), color=\"green\", label=\"mediana\")\n",
    "\n",
    "# Loop para plotar as modas\n",
    "for i in range(titanic[\"Age\"].mode().shape[0]):\n",
    "    plt.axvline(titanic[\"Age\"].mode()[i], color=\"yellow\", label=\"moda\")\n",
    "\n",
    "# Cria uma legenda\n",
    "plt.legend()\n",
    "\n",
    "# Mostra o Gráfico\n",
    "plt.show()"
   ]
  },
  {
   "cell_type": "markdown",
   "id": "dc2e410e",
   "metadata": {},
   "source": [
    "## "
   ]
  },
  {
   "cell_type": "markdown",
   "id": "43458232",
   "metadata": {},
   "source": [
    "### Questão 5"
   ]
  },
  {
   "cell_type": "markdown",
   "id": "a722484e",
   "metadata": {},
   "source": [
    "Os exercícios de 1 a 5 serão desenvolvidos utilizando o _dataset_ `Titanic.csv`:\n",
    "    \n",
    "Ainda trabalhando com os valores das idades crie trÊs _Boxplots_:\n",
    "- _Boxplot_ das idades para todos os passageiros;\n",
    "- _Boxplot_ das idades dos passageiros separados pelo sexo.\n",
    "- _Boxplot_ das idades dos passageiros separados pelo sexo e por sobreviventes."
   ]
  },
  {
   "cell_type": "markdown",
   "id": "9b95e1df",
   "metadata": {},
   "source": [
    "### Resolução:"
   ]
  },
  {
   "cell_type": "code",
   "execution_count": 18,
   "id": "e72a9e4e",
   "metadata": {},
   "outputs": [
    {
     "data": {
      "image/png": "[encoded data removed]",
      "text/plain": [
       "<Figure size 576x432 with 1 Axes>"
      ]
     },
     "metadata": {
      "needs_background": "light"
     },
     "output_type": "display_data"
    }
   ],
   "source": [
    "# Define o tamanho da figura\n",
    "plt.figure(figsize=(8, 6))\n",
    "\n",
    "# Cria um BoxPlot\n",
    "sns.boxplot(data=titanic, x=\"Age\")\n",
    "\n",
    "# Cria um titulo\n",
    "plt.title(\"Boxplot das Idades\")\n",
    "\n",
    "#Mostra o gráfico\n",
    "plt.show()"
   ]
  },
  {
   "cell_type": "code",
   "execution_count": 13,
   "id": "e45d2990",
   "metadata": {},
   "outputs": [
    {
     "data": {
      "image/png": "[encoded data removed]",
      "text/plain": [
       "<Figure size 576x432 with 1 Axes>"
      ]
     },
     "metadata": {
      "needs_background": "light"
     },
     "output_type": "display_data"
    }
   ],
   "source": [
    "# Define o tamanho da figura\n",
    "plt.figure(figsize=(8, 6))\n",
    "\n",
    "# Plot do Boxplot\n",
    "sns.boxplot(data=titanic, y=\"Age\", x=\"Survived\", hue=\"Sex\")\n",
    "\n",
    "# Cria um titulo\n",
    "plt.title(\"Boxplot das Idades e Sexo por classe de sobreviventes\")\n",
    "\n",
    "# Mostra o gráfico\n",
    "plt.show()"
   ]
  },
  {
   "cell_type": "code",
   "execution_count": 12,
   "id": "01219614",
   "metadata": {},
   "outputs": [
    {
     "data": {
      "image/png": "[encoded data removed]",
      "text/plain": [
       "<Figure size 576x432 with 1 Axes>"
      ]
     },
     "metadata": {
      "needs_background": "light"
     },
     "output_type": "display_data"
    }
   ],
   "source": [
    "# Define o tamanho da figura\n",
    "plt.figure(figsize=(8, 6))\n",
    "\n",
    "# Plot do Boxplot\n",
    "sns.boxplot(data=titanic, y=\"Age\", x=\"Sex\")\n",
    "\n",
    "# Cria um titulo\n",
    "plt.title(\"Boxplot das Idades e Sexo\")\n",
    "\n",
    "# Mostra o gráfico\n",
    "plt.show()"
   ]
  }
 ],
 "metadata": {
  "kernelspec": {
   "display_name": "Python 3",
   "language": "python",
   "name": "python3"
  },
  "language_info": {
   "codemirror_mode": {
    "name": "ipython",
    "version": 3
   },
   "file_extension": ".py",
   "mimetype": "text/x-python",
   "name": "python",
   "nbconvert_exporter": "python",
   "pygments_lexer": "ipython3",
   "version": "3.8.8"
  }
 },
 "nbformat": 4,
 "nbformat_minor": 5
}
