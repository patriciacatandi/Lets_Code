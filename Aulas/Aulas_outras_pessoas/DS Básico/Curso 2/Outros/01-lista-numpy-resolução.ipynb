{
 "cells": [
  {
   "cell_type": "markdown",
   "id": "a5dbc790-6822-4ee6-b207-081b8a72c845",
   "metadata": {},
   "source": [
    "# Stone V4 - Data Science"
   ]
  },
  {
   "cell_type": "markdown",
   "id": "dd968171-51a5-4a97-a7ac-8c706d513212",
   "metadata": {},
   "source": [
    "**Prof.:** Gabriel R. Freitas \\\n",
    "**E-mail:** gab.ribeiro.freitas@gmail.com\\\n",
    "**LinkedIn:** www.linkedin.com/in/grfreitas/"
   ]
  },
  {
   "cell_type": "markdown",
   "id": "fa1461ae-1f5e-40ce-9e95-82ce98b7533f",
   "metadata": {},
   "source": [
    "# Lista de Exercícios - Numpy"
   ]
  },
  {
   "cell_type": "markdown",
   "id": "1bec6dee-3a6e-46b1-89cf-b6f7fabe3e9e",
   "metadata": {},
   "source": [
    "---"
   ]
  },
  {
   "cell_type": "markdown",
   "id": "53e67761-55b5-4a26-b8c5-90be4fd488b8",
   "metadata": {},
   "source": [
    "##### 0. Importe a biblioteca numpy como np"
   ]
  },
  {
   "cell_type": "code",
   "execution_count": 1,
   "id": "236dde6e-75f2-4329-ae59-ae118c72ab38",
   "metadata": {},
   "outputs": [],
   "source": [
    "import numpy as np"
   ]
  },
  {
   "cell_type": "markdown",
   "id": "326e9e7a-2ce8-49c0-9db0-82767ebba8b9",
   "metadata": {},
   "source": [
    "##### 1. Crie um array de zeros de tamanho 10"
   ]
  },
  {
   "cell_type": "code",
   "execution_count": 7,
   "id": "465f8071-fdcd-4e0f-813f-382a76e31c74",
   "metadata": {},
   "outputs": [
    {
     "data": {
      "text/plain": [
       "array([0., 0., 0., 0., 0., 0., 0., 0., 0., 0.])"
      ]
     },
     "execution_count": 7,
     "metadata": {},
     "output_type": "execute_result"
    }
   ],
   "source": [
    "zeros = np.zeros(10)\n",
    "zeros"
   ]
  },
  {
   "cell_type": "markdown",
   "id": "3554f1ad-01ef-41dd-8101-82d9b8487031",
   "metadata": {},
   "source": [
    "##### 2. Altere o array criado no item 1 para que o quinto valor seja 1"
   ]
  },
  {
   "cell_type": "code",
   "execution_count": 8,
   "id": "1340c29e-b8f9-43ff-b8e5-dd2170306b65",
   "metadata": {},
   "outputs": [
    {
     "data": {
      "text/plain": [
       "array([0., 0., 0., 0., 1., 0., 0., 0., 0., 0.])"
      ]
     },
     "execution_count": 8,
     "metadata": {},
     "output_type": "execute_result"
    }
   ],
   "source": [
    "zeros[4] = 1\n",
    "zeros"
   ]
  },
  {
   "cell_type": "markdown",
   "id": "cc2e8c98-d071-463a-b097-70cfc9395da6",
   "metadata": {},
   "source": [
    "##### 3. Crie um array de valores entre 10 e 50"
   ]
  },
  {
   "cell_type": "code",
   "execution_count": 12,
   "id": "f27d3483-4204-48b6-8b7e-1a0842a26f6b",
   "metadata": {},
   "outputs": [
    {
     "data": {
      "text/plain": [
       "array([10, 11, 12, 13, 14, 15, 16, 17, 18, 19, 20, 21, 22, 23, 24, 25, 26,\n",
       "       27, 28, 29, 30, 31, 32, 33, 34, 35, 36, 37, 38, 39, 40, 41, 42, 43,\n",
       "       44, 45, 46, 47, 48, 49, 50])"
      ]
     },
     "execution_count": 12,
     "metadata": {},
     "output_type": "execute_result"
    }
   ],
   "source": [
    "array = np.arange(10, 51, 1)\n",
    "array"
   ]
  },
  {
   "cell_type": "markdown",
   "id": "6771e24c-0e1e-4b25-a743-6d7b65817075",
   "metadata": {},
   "source": [
    "##### 4. Inverta o array criado no item 3 (o último elemento se torna o primeiro elemento)."
   ]
  },
  {
   "cell_type": "code",
   "execution_count": 16,
   "id": "662881a5-3f27-49b5-9d38-566c8f3296f0",
   "metadata": {},
   "outputs": [
    {
     "data": {
      "text/plain": [
       "array([50, 49, 48, 47, 46, 45, 44, 43, 42, 41, 40, 39, 38, 37, 36, 35, 34,\n",
       "       33, 32, 31, 30, 29, 28, 27, 26, 25, 24, 23, 22, 21, 20, 19, 18, 17,\n",
       "       16, 15, 14, 13, 12, 11, 10])"
      ]
     },
     "execution_count": 16,
     "metadata": {},
     "output_type": "execute_result"
    }
   ],
   "source": [
    "invertido = array[::-1]\n",
    "invertido"
   ]
  },
  {
   "cell_type": "markdown",
   "id": "2ee6a6ae-28cd-4844-92f2-79879c426dec",
   "metadata": {},
   "source": [
    "##### 5. Crie uma matriz 3x3 com valores entre 0 e 8"
   ]
  },
  {
   "cell_type": "code",
   "execution_count": 19,
   "id": "25076fd9-3ddf-4368-949a-b43fb3ef5496",
   "metadata": {},
   "outputs": [
    {
     "data": {
      "text/plain": [
       "array([[0, 1, 2],\n",
       "       [3, 4, 5],\n",
       "       [6, 7, 8]])"
      ]
     },
     "execution_count": 19,
     "metadata": {},
     "output_type": "execute_result"
    }
   ],
   "source": [
    "np.arange(0, 9).reshape(3, 3)"
   ]
  },
  {
   "cell_type": "markdown",
   "id": "a675a779-57d3-4329-b261-31a37d0e99b8",
   "metadata": {},
   "source": [
    "##### 6. Crie uma matriz 3x3x3 de valores aleatórios e ache seu valor máximo e mínimo."
   ]
  },
  {
   "cell_type": "code",
   "execution_count": 26,
   "id": "82d4cb47-ca5e-4631-9558-689ba021a1ee",
   "metadata": {},
   "outputs": [
    {
     "data": {
      "text/plain": [
       "array([[[0.33231679, 0.75806347, 0.57588976],\n",
       "        [0.49357168, 0.08608295, 0.01261087],\n",
       "        [0.58814263, 0.56887639, 0.50596785]],\n",
       "\n",
       "       [[0.86388083, 0.1127942 , 0.25530599],\n",
       "        [0.9714552 , 0.34412314, 0.75076383],\n",
       "        [0.69942498, 0.21350252, 0.8364409 ]],\n",
       "\n",
       "       [[0.51210733, 0.86907662, 0.83536133],\n",
       "        [0.27411618, 0.40348644, 0.60849901],\n",
       "        [0.21837127, 0.69671397, 0.03465662]]])"
      ]
     },
     "execution_count": 26,
     "metadata": {},
     "output_type": "execute_result"
    }
   ],
   "source": [
    "matriz = np.random.rand(3, 3, 3)\n",
    "matriz"
   ]
  },
  {
   "cell_type": "code",
   "execution_count": 24,
   "id": "79f054ed-3ed5-42a2-9c31-74edd863d34b",
   "metadata": {},
   "outputs": [
    {
     "data": {
      "text/plain": [
       "0.9484637897974376"
      ]
     },
     "execution_count": 24,
     "metadata": {},
     "output_type": "execute_result"
    }
   ],
   "source": [
    "matriz.max()"
   ]
  },
  {
   "cell_type": "code",
   "execution_count": 25,
   "id": "771e35e7-8e98-4669-b84f-07c4a96cc553",
   "metadata": {},
   "outputs": [
    {
     "data": {
      "text/plain": [
       "0.029411737132453597"
      ]
     },
     "execution_count": 25,
     "metadata": {},
     "output_type": "execute_result"
    }
   ],
   "source": [
    "matriz.min()"
   ]
  },
  {
   "cell_type": "markdown",
   "id": "597fa1d8-b031-412c-88a9-5eec68772c4c",
   "metadata": {},
   "source": [
    "##### 7. Crie um array de zeros 10x10 onde os valores da borda matriz são iguais a 1"
   ]
  },
  {
   "cell_type": "code",
   "execution_count": 37,
   "id": "acccf096-b2a2-4acd-b77c-c38ccf4a71ae",
   "metadata": {},
   "outputs": [],
   "source": [
    "borda = np.zeros((10, 10))"
   ]
  },
  {
   "cell_type": "code",
   "execution_count": 38,
   "id": "454f6141-3440-4c32-9ba0-ba4d268049dd",
   "metadata": {},
   "outputs": [],
   "source": [
    "borda[0] = 1\n",
    "borda[-1] = 1\n",
    "borda[:, 0] = 1\n",
    "borda[:, -1] = 1"
   ]
  },
  {
   "cell_type": "code",
   "execution_count": 39,
   "id": "db2f7ce7-aba6-43d9-a095-bf33274ffbcc",
   "metadata": {},
   "outputs": [
    {
     "data": {
      "text/plain": [
       "array([[1., 1., 1., 1., 1., 1., 1., 1., 1., 1.],\n",
       "       [1., 0., 0., 0., 0., 0., 0., 0., 0., 1.],\n",
       "       [1., 0., 0., 0., 0., 0., 0., 0., 0., 1.],\n",
       "       [1., 0., 0., 0., 0., 0., 0., 0., 0., 1.],\n",
       "       [1., 0., 0., 0., 0., 0., 0., 0., 0., 1.],\n",
       "       [1., 0., 0., 0., 0., 0., 0., 0., 0., 1.],\n",
       "       [1., 0., 0., 0., 0., 0., 0., 0., 0., 1.],\n",
       "       [1., 0., 0., 0., 0., 0., 0., 0., 0., 1.],\n",
       "       [1., 0., 0., 0., 0., 0., 0., 0., 0., 1.],\n",
       "       [1., 1., 1., 1., 1., 1., 1., 1., 1., 1.]])"
      ]
     },
     "execution_count": 39,
     "metadata": {},
     "output_type": "execute_result"
    }
   ],
   "source": [
    "borda"
   ]
  },
  {
   "cell_type": "markdown",
   "id": "656f30da-18a2-46e5-8f99-f2a72e303194",
   "metadata": {},
   "source": [
    "##### 8. Crie uma matriz 8x8 e preencha com um padrão de xadrez (1 e 0 intercalados)"
   ]
  },
  {
   "cell_type": "code",
   "execution_count": 63,
   "id": "ccdaf12e-d0a0-4c87-a1de-c771b7a3ca13",
   "metadata": {},
   "outputs": [],
   "source": [
    "zeros = np.zeros((8, 8))"
   ]
  },
  {
   "cell_type": "code",
   "execution_count": 66,
   "id": "69782197-00dc-4aaf-957b-31cc7e38da2e",
   "metadata": {},
   "outputs": [],
   "source": [
    "zeros[::2, ::2] = 1"
   ]
  },
  {
   "cell_type": "code",
   "execution_count": 68,
   "id": "91721178-28bc-42a4-bc07-ffcffa70359c",
   "metadata": {},
   "outputs": [],
   "source": [
    "zeros[1::2, 1::2] = 1"
   ]
  },
  {
   "cell_type": "code",
   "execution_count": 69,
   "id": "d3da8667-4c08-4794-a030-bdf1b07ed9ad",
   "metadata": {},
   "outputs": [
    {
     "data": {
      "text/plain": [
       "array([[1., 0., 1., 0., 1., 0., 1., 0.],\n",
       "       [0., 1., 0., 1., 0., 1., 0., 1.],\n",
       "       [1., 0., 1., 0., 1., 0., 1., 0.],\n",
       "       [0., 1., 0., 1., 0., 1., 0., 1.],\n",
       "       [1., 0., 1., 0., 1., 0., 1., 0.],\n",
       "       [0., 1., 0., 1., 0., 1., 0., 1.],\n",
       "       [1., 0., 1., 0., 1., 0., 1., 0.],\n",
       "       [0., 1., 0., 1., 0., 1., 0., 1.]])"
      ]
     },
     "execution_count": 69,
     "metadata": {},
     "output_type": "execute_result"
    }
   ],
   "source": [
    "zeros"
   ]
  },
  {
   "cell_type": "markdown",
   "id": "2b7ac83b-6b99-4e43-b505-d5bb942bb6be",
   "metadata": {},
   "source": [
    "##### 9. Crie um array de números inteiros aleatórios entre 1 e 50. A partir dele, crie um array dos valores pares e outro array dos ímpares."
   ]
  },
  {
   "cell_type": "code",
   "execution_count": 3,
   "id": "e18ef969-288b-4b8d-8f60-f0e01f3ee400",
   "metadata": {},
   "outputs": [],
   "source": [
    "import numpy as np"
   ]
  },
  {
   "cell_type": "code",
   "execution_count": 4,
   "id": "6cef73e3-187c-495c-b870-e0a732372cf4",
   "metadata": {},
   "outputs": [],
   "source": [
    "array = np.random.randint(10, 50, 10)"
   ]
  },
  {
   "cell_type": "code",
   "execution_count": 6,
   "id": "de4ae563-fb44-4531-b645-6717dba868ff",
   "metadata": {},
   "outputs": [
    {
     "data": {
      "text/plain": [
       "array([21, 15, 32, 13, 19, 16, 34, 37, 33, 41])"
      ]
     },
     "execution_count": 6,
     "metadata": {},
     "output_type": "execute_result"
    }
   ],
   "source": [
    "array"
   ]
  },
  {
   "cell_type": "code",
   "execution_count": 5,
   "id": "5d3800df-5b0c-4ff2-8015-6f3d7c2f4bd9",
   "metadata": {},
   "outputs": [],
   "source": [
    "pares = array[array % 2 == 0]\n",
    "impares = array[array % 2 == 1]"
   ]
  },
  {
   "cell_type": "code",
   "execution_count": 77,
   "id": "94ec841a-32f1-441f-93f6-9640a2851397",
   "metadata": {},
   "outputs": [
    {
     "data": {
      "text/plain": [
       "array([38, 40, 12, 38, 12, 48])"
      ]
     },
     "execution_count": 77,
     "metadata": {},
     "output_type": "execute_result"
    }
   ],
   "source": [
    "pares"
   ]
  },
  {
   "cell_type": "code",
   "execution_count": 78,
   "id": "91343a2f-e1a1-4997-9846-68f77b979c8f",
   "metadata": {},
   "outputs": [
    {
     "data": {
      "text/plain": [
       "array([39, 33, 17, 21])"
      ]
     },
     "execution_count": 78,
     "metadata": {},
     "output_type": "execute_result"
    }
   ],
   "source": [
    "impares"
   ]
  },
  {
   "cell_type": "markdown",
   "id": "c5cd1f08-5a49-4829-b156-1b48193fb96c",
   "metadata": {},
   "source": [
    "##### 10. Crie ume função que receba um array e retorne o array standardizado¹. Teste a função em um array qualquer.\n",
    "\n",
    "- 1. Standardização: (Array - Valor Médio do Array) / Desvio Padrão do Array"
   ]
  },
  {
   "cell_type": "code",
   "execution_count": 79,
   "id": "af17cdea-8fea-4118-bd61-8ce01cdad2ae",
   "metadata": {},
   "outputs": [],
   "source": [
    "def standardize(array):\n",
    "    return (array - array.mean()) / array.std()"
   ]
  },
  {
   "cell_type": "code",
   "execution_count": 80,
   "id": "0bc233a0-660c-4f9e-9c7d-337fedba0751",
   "metadata": {},
   "outputs": [
    {
     "data": {
      "text/plain": [
       "array([ 0.47351372,  0.61556784, -1.3731898 ,  0.47351372, -1.3731898 ,\n",
       "        1.18378431])"
      ]
     },
     "execution_count": 80,
     "metadata": {},
     "output_type": "execute_result"
    }
   ],
   "source": [
    "standardize(pares)"
   ]
  },
  {
   "cell_type": "markdown",
   "id": "faa3c5fa-35ca-47b0-9c80-44b0b5a500bc",
   "metadata": {},
   "source": [
    "---"
   ]
  }
 ],
 "metadata": {
  "kernelspec": {
   "display_name": "Python 3",
   "language": "python",
   "name": "python3"
  },
  "language_info": {
   "codemirror_mode": {
    "name": "ipython",
    "version": 3
   },
   "file_extension": ".py",
   "mimetype": "text/x-python",
   "name": "python",
   "nbconvert_exporter": "python",
   "pygments_lexer": "ipython3",
   "version": "3.8.8"
  }
 },
 "nbformat": 4,
 "nbformat_minor": 5
}
