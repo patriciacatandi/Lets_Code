{
 "cells": [
  {
   "cell_type": "markdown",
   "metadata": {
    "ExecuteTime": {
     "end_time": "2021-04-08T15:18:08.502442Z",
     "start_time": "2021-04-08T15:18:08.485392Z"
    },
    "id": "-np15i_FFMQG"
   },
   "source": [
    "## Numpy"
   ]
  },
  {
   "cell_type": "markdown",
   "metadata": {
    "id": "8SsL8rxWFMQb"
   },
   "source": [
    "### Problema 1\n",
    "Construa a matriz ilustrada pela figura abaixo. Em seguida, obtenha os slices (fatiamentos) destacados em cada cor. Em outras palavras, utilizando o conceito de slices, crie um novo array que contenha os dados destacados em vermelho, azul, roxo e verde.\n",
    "\n",
    "![Drag Racing](https://lh3.googleusercontent.com/TEYs3x4bTQ8OVk54ZIOzBRFN6k6HMKgdl3KDxKjREkVJYs0fBwkkMhDlLo29JN1HyN6NOgjvvnNQ7dZrvi6crgH6SB4-KT09nQSd1SIUV8YP087IK3ud3C3rkMPQxn5AzsS-jsCElZQ=w2400)\n"
   ]
  },
  {
   "cell_type": "code",
   "execution_count": null,
   "metadata": {
    "ExecuteTime": {
     "end_time": "2021-04-08T23:06:45.390093Z",
     "start_time": "2021-04-08T23:06:45.382472Z"
    },
    "id": "Cry93M9zFMQs"
   },
   "outputs": [],
   "source": []
  },
  {
   "cell_type": "markdown",
   "metadata": {
    "id": "5BVHg848FMQ0"
   },
   "source": [
    "### Problema 2\n",
    "\n",
    "DESAFIO\n",
    "\n",
    "Nesse desafio, iremos praticar o conceito de indexação em imagens! Pois é, caso você ainda não saiba, as imagens são formadas com conjuntos de pixels, e esses pixels são números inteiros (entre 0 e 255). Sendo assim, quando carregamos uma imagem no Python, essa imagem será armazenada em um matriz (Numpy), ou seja, cada pixel dessa imagem será um elemento dessa matriz.\n",
    "\n",
    "No entanto, é importante que você também saiba que uma imagem colorida é composta por três matrizes, visto que uma imagem colorida é formada por 3 cores básicas: vermelho, verde e azul. Esse é o famoso padrão RGB. Portanto, sua imagem será armazenada em um array tridimensional.\n",
    "\n",
    "Sabendo disso, sua missão será carregar uma imagem colorida (em jpg) e exibir apenas a metade dessa imagem, tanto na horizontal quanto na vertical. Mas, calma... vamos te dar uma ajuda.\n",
    "\n",
    "Primeiro, você precisa instalar a biblioteca skimage para carregar a imagem, além da biblioteca do matplotlib para exibir a imagem (veremos essa biblioteca com mais detalhes nesse curso!), caso você ainda não tenha elas instaladas, claro. Para isso, utilize o comando pip install scikit-image matplotlib, se você estiver utilizando o pip, ou conda install scikit-image matplotlib, se estiver utilizando o Anaconda.\n",
    "\n",
    "Em seguida, observe o código abaixo; ele te mostra como você pode carregar uma imagem e exibi-la. Lembrando... Sua missão será carregar uma imagem colorida (em jpg) e exibir apenas a metade dessa imagem, tanto na horizontal quanto na vertical."
   ]
  },
  {
   "cell_type": "code",
   "execution_count": null,
   "metadata": {
    "ExecuteTime": {
     "end_time": "2021-04-08T22:22:48.421856Z",
     "start_time": "2021-04-08T22:22:42.753686Z"
    },
    "id": "qX1X2bUQFMRJ"
   },
   "outputs": [],
   "source": [
    "!pip install scikit-image"
   ]
  },
  {
   "cell_type": "code",
   "execution_count": null,
   "metadata": {
    "ExecuteTime": {
     "end_time": "2021-04-08T23:07:21.175699Z",
     "start_time": "2021-04-08T23:07:19.183354Z"
    },
    "id": "eiFohtMUFMRO"
   },
   "outputs": [],
   "source": [
    "from skimage import io\n",
    "import numpy as np\n",
    "import matplotlib.pyplot as plt\n",
    "\n",
    "img = io.imread('https://www.kindpng.com/picc/m/713-7136289_rougier-numpy-logo-name-below-02-python-numpy.png') # Carregamento da imagem\n",
    "\n",
    "print(type(img))\n",
    "\n",
    "plt.imshow(img) # Exibição da imagem"
   ]
  },
  {
   "cell_type": "code",
   "execution_count": null,
   "metadata": {
    "ExecuteTime": {
     "end_time": "2021-04-08T23:13:11.440980Z",
     "start_time": "2021-04-08T23:13:11.183442Z"
    },
    "id": "ZEmRs7ccFMRZ"
   },
   "outputs": [],
   "source": []
  },
  {
   "cell_type": "markdown",
   "metadata": {
    "id": "R6V300HyFMRm"
   },
   "source": [
    "## Pandas"
   ]
  },
  {
   "cell_type": "markdown",
   "metadata": {
    "id": "DyKpuX54FMR0"
   },
   "source": [
    "### Problema 3\n",
    "\n",
    "O arquivo avocado.csv consiste em um dataset que contém dados sobre vendas de abacates (avocado, em inglês) em diversas regiões dos Estados Unidos. Essa dataset contém as seguintes colunas:\n",
    "\n",
    "Date - a data da observação\n",
    "\n",
    "AveragePrice - o preço médio de um único abacate\n",
    "\n",
    "year - o ano\n",
    "\n",
    "region - a cidade ou região da observação\n",
    "\n",
    "Total Volume - volume total de abacates vendidos\n",
    "\n",
    "Além das informações acima, contidas no arquivo avocado.csv, o tipo do abacate (convencional ou orgânico) também seria uma informação importante para a sua análise. Suponhamos que você conseguiu essas informações para cada uma das observações do arquivo avocado.csv, na mesma ordem, e salvou-as no arquivo avocado_type.csv. Portanto, tudo o que você precisa é juntar esses dois arquivos em um mesmo DataFrame. E, em seguida, salve-o em um arquivo csv.\n",
    "\n",
    "PS. Caso queira criar uma Series com os dados aleatórios para o tipo de abacate, utilize o código abaixo:"
   ]
  },
  {
   "cell_type": "code",
   "execution_count": null,
   "metadata": {
    "ExecuteTime": {
     "end_time": "2021-04-08T23:14:34.365377Z",
     "start_time": "2021-04-08T23:14:34.360377Z"
    },
    "id": "SfG7puBEFMSG"
   },
   "outputs": [],
   "source": [
    "import pandas as pd\n",
    "import numpy as np"
   ]
  },
  {
   "cell_type": "code",
   "execution_count": null,
   "metadata": {
    "ExecuteTime": {
     "end_time": "2021-04-08T23:15:30.284810Z",
     "start_time": "2021-04-08T23:15:30.238446Z"
    },
    "id": "6UheboaJFMST"
   },
   "outputs": [],
   "source": [
    "df = pd.read_csv('avocado.csv')\n",
    "df.head()"
   ]
  },
  {
   "cell_type": "code",
   "execution_count": null,
   "metadata": {
    "ExecuteTime": {
     "end_time": "2021-04-08T23:21:01.994887Z",
     "start_time": "2021-04-08T23:21:01.967877Z"
    },
    "id": "2yGP41mgFMSf"
   },
   "outputs": [],
   "source": [
    "df_types = pd.read_csv('avocado_type.csv')\n",
    "df_types.head()"
   ]
  },
  {
   "cell_type": "markdown",
   "metadata": {
    "id": "OUNcx1TLFMSp"
   },
   "source": [
    "### Problema 4\n",
    "\n",
    "Carregue o arquivo csv que você salvou na questão anterior e, em seguida, obtenha o que é solicitado nos itens elencados abaixo:\n",
    "\n",
    "(a) A quantidade de abacates do tipo convecional e do tipo orgânico.\n",
    "\n",
    "(b) A quantidade de registros (linhas) de abacates vendidos para cada região.\n",
    "\n",
    "(c) Para que todos os labels das colunas fiquem padronizados, renomeie aqueles que estão iniciando em letra minúscula para que iniciem em letra maiúscula.\n",
    "\n",
    "(d) Uma vez que você já possui uma coluna com a data, remova a coluna que apresenta o ano."
   ]
  },
  {
   "cell_type": "code",
   "execution_count": null,
   "metadata": {
    "id": "XELW2EtBFMSw"
   },
   "outputs": [],
   "source": []
  },
  {
   "cell_type": "markdown",
   "metadata": {
    "id": "v8vSIPQPFMS1"
   },
   "source": [
    "### Problema 5\n",
    "Carregue, em um objeto DataFrame, o mesmo dataset que você salvou na questão Q1, agrupe os dados do DF pelo tipo do abacate e, em seguida, obtenha:\n",
    "\n",
    "(a) A volume total de abacates vendidos para cada tipo.\n",
    "\n",
    "(b) O preço médio dos abacates vendidos para cada tipo."
   ]
  },
  {
   "cell_type": "code",
   "execution_count": null,
   "metadata": {
    "id": "jhMFIZ_AFMS2"
   },
   "outputs": [],
   "source": []
  },
  {
   "cell_type": "markdown",
   "metadata": {
    "ExecuteTime": {
     "end_time": "2021-04-08T16:15:09.812354Z",
     "start_time": "2021-04-08T16:15:09.788834Z"
    },
    "id": "DBMPR3sIFMTA"
   },
   "source": [
    "### Problema 6\n",
    "\n",
    "Com base no dataset 'Video_Games_Sales.csv' responda:\n",
    "1. Quantos jogos existem em cada genero?\n",
    "2. Quantos jogos de cada editora receberam nota acima de 9 na avaliação dos usuarios?\n",
    "3. Faça uma tabela que mostre o total vendido por ano por pais/globalmente de cada editora?\n",
    "4. Qual foi jogo mais vendido na união européia? De que ano ele é e qual a editora?\n",
    "5. Quantos % os generos ['Racing', 'Sports', 'Shooter'] representam na base de dados? Obs: a porcertagem deve ser impressa usando 2 casas decimais e o simbolo de %..Ex: 45.13% ..lembrando que 45.127 = 45.13%\n",
    "6. Qual plataforma vendeu menos globalmente? obs: imprimir somente o nome"
   ]
  },
  {
   "cell_type": "code",
   "execution_count": null,
   "metadata": {
    "ExecuteTime": {
     "end_time": "2021-04-09T00:06:32.206009Z",
     "start_time": "2021-04-09T00:06:32.103494Z"
    },
    "id": "2Jsmc0GxFMTK"
   },
   "outputs": [],
   "source": [
    "df = pd.read_csv('Video_Games_Sales.csv')\n",
    "df.head()"
   ]
  },
  {
   "cell_type": "code",
   "execution_count": null,
   "metadata": {
    "id": "egKytXFdFMTN"
   },
   "outputs": [],
   "source": []
  },
  {
   "cell_type": "markdown",
   "metadata": {
    "id": "aKMbkowIFMTN"
   },
   "source": [
    "### Problema 7\n",
    "\n",
    "O Dataset do Titanic apresenta 2 Locais de embarque que estão com valores nulos\n",
    "\n",
    "Adote a melhor solução para resolver essas 2 linhas do Dataset"
   ]
  },
  {
   "cell_type": "code",
   "execution_count": null,
   "metadata": {
    "ExecuteTime": {
     "end_time": "2021-04-09T00:36:14.584506Z",
     "start_time": "2021-04-09T00:36:14.551495Z"
    },
    "id": "mVoerQJSFMTR"
   },
   "outputs": [],
   "source": [
    "df = pd.read_csv('titanic.csv')\n",
    "df.head()"
   ]
  },
  {
   "cell_type": "code",
   "execution_count": null,
   "metadata": {
    "id": "u1fFdyc-FMTU"
   },
   "outputs": [],
   "source": [
    "df[df['Embarked'].isna()]"
   ]
  },
  {
   "cell_type": "code",
   "execution_count": null,
   "metadata": {
    "id": "nfgXoZzuFMTV"
   },
   "outputs": [],
   "source": []
  },
  {
   "cell_type": "markdown",
   "metadata": {
    "id": "3q8lAKXfFMTZ"
   },
   "source": [
    "### Problema 8\n",
    "Insira uma coluna ao lado direito do nome do passageiro com o seu título:\n",
    "\n",
    "Ex:\n",
    "Braund, Mr. Owen Harris -> Mr."
   ]
  },
  {
   "cell_type": "code",
   "execution_count": null,
   "metadata": {
    "id": "BaRXVM56FMTc"
   },
   "outputs": [],
   "source": []
  },
  {
   "cell_type": "markdown",
   "metadata": {
    "id": "4ruiqQzUFMTc"
   },
   "source": [
    "### Problema 9\n",
    "\n",
    "Baixe os [microdados do enem](https://www.gov.br/inep/pt-br/acesso-a-informacao/dados-abertos/microdados/enem) e responda as seguintes perguntas:\n",
    "\n",
    "1. Separe os dados por estado e salve os novos datasets ex: (microdados_enem_SP_2019)\n",
    "2. % de candidatos que são gestantes\n",
    "3. % de cadidatas mulheres\n",
    "4. % de candidatas gestantes entre as mulheres\n",
    "5. os 10 candidatos mais velhos\n",
    "6. os 10 Candidatos mais novos\n",
    "7. Crie um dataframe com a nota da redação e o Sexo dos candidatos\n",
    "8. Quantos candidados declararam ser do sexo masculino/feminino possuem nota de redação? (numero total e por sexo)\n",
    "9. Qual é a maior/menor nota em cada sexo?\n",
    "10. Quem escreve melhor? "
   ]
  },
  {
   "cell_type": "code",
   "execution_count": null,
   "metadata": {
    "ExecuteTime": {
     "end_time": "2021-05-04T22:04:29.050922Z",
     "start_time": "2021-05-04T22:04:28.542833Z"
    },
    "id": "MgkUJmwDFMTf"
   },
   "outputs": [],
   "source": [
    "import pandas as pd\n",
    "\n",
    "from zipfile import ZipFile\n"
   ]
  },
  {
   "cell_type": "code",
   "execution_count": null,
   "metadata": {
    "ExecuteTime": {
     "end_time": "2021-04-15T21:33:02.804030Z",
     "start_time": "2021-04-15T21:33:02.785788Z"
    },
    "id": "_cRVK0ZfFMTi"
   },
   "outputs": [],
   "source": [
    "with ZipFile('microdados_enem_2019.zip') as z:\n",
    "    print(*z.namelist(), sep='\\n')"
   ]
  },
  {
   "cell_type": "code",
   "execution_count": null,
   "metadata": {
    "ExecuteTime": {
     "end_time": "2021-04-15T21:33:03.782182Z",
     "start_time": "2021-04-15T21:33:03.732140Z"
    },
    "id": "g0lAEAGQFMTn"
   },
   "outputs": [],
   "source": [
    "with ZipFile('microdados_enem_2019.zip') as z:\n",
    "    with z.open('DADOS/MICRODADOS_ENEM_2019.csv') as f:\n",
    "        microdados = pd.read_csv(f, sep=';', encoding='ISO-8859-1', nrows=0)\n",
    "microdados.columns"
   ]
  },
  {
   "cell_type": "code",
   "execution_count": null,
   "metadata": {
    "id": "6NGd7sPmFMTn"
   },
   "outputs": [],
   "source": []
  },
  {
   "cell_type": "markdown",
   "metadata": {
    "id": "26yuNpM6FMTo"
   },
   "source": [
    "### Problema 10"
   ]
  },
  {
   "cell_type": "markdown",
   "metadata": {
    "id": "cpva39G2FMTr"
   },
   "source": [
    "a) Criar um dataframe que contenha os seguintes campos:\n",
    "- numero da inscrição\n",
    "- nota de matemática\n",
    "- noda da redação\n",
    "- Respostas da pergunta: 'Até que série seu pai, ou homem responsável por você, estudou?'\n",
    "- Respostas da pergunta: 'Até que série sua mãe, ou mulher responsável por você, estudou?'\n",
    "- Mapeamento do significado da alternativa da resposta da primeira pergunta\n",
    "- Mapeamento do significado da alternativa da resposta da segunda pergunta\n",
    "\n",
    "\n"
   ]
  },
  {
   "cell_type": "markdown",
   "metadata": {
    "id": "rO1YKM9cFMTr"
   },
   "source": [
    "b) Qual a distribuição dos candidatos do ENEM por escolaridade do Pai?\n",
    "\n",
    "c) Qual a distribuição dos candidatos do ENEM por escolaridade da Mãe?"
   ]
  },
  {
   "cell_type": "markdown",
   "metadata": {
    "id": "KB4yGUCTFMTr"
   },
   "source": [
    "### Matemática\n",
    "d) Qual é a média de desempenho dos alunos de acordo com a escolaridade do Pai?\n",
    "\n",
    "e) Qual é a média de desempenho dos alunos de acordo com a escolaridade da mãe?"
   ]
  },
  {
   "cell_type": "markdown",
   "metadata": {
    "id": "DWcq1XqpFMTs"
   },
   "source": [
    "### Redação\n",
    "d) Qual é a média de desempenho dos alunos de acordo com a escolaridade do Pai?\n",
    "\n",
    "e) Qual é a média de desempenho dos alunos de acordo com a escolaridade da mãe?"
   ]
  },
  {
   "cell_type": "code",
   "execution_count": null,
   "metadata": {
    "ExecuteTime": {
     "end_time": "2021-05-04T22:05:12.987925Z",
     "start_time": "2021-05-04T22:04:32.999778Z"
    },
    "id": "iqyJfBBDFMTs"
   },
   "outputs": [],
   "source": [
    "with ZipFile('../datasets/microdados_enem_2019.zip') as z:\n",
    "    with z.open('DADOS/MICRODADOS_ENEM_2019.csv') as f:\n",
    "        microdados = pd.read_csv(f, sep=';', encoding='ISO-8859-1', nrows=0)\n",
    "microdados.columns"
   ]
  },
  {
   "cell_type": "code",
   "execution_count": null,
   "metadata": {
    "ExecuteTime": {
     "end_time": "2021-04-15T21:39:28.864508Z",
     "start_time": "2021-04-15T21:39:28.855968Z"
    },
    "id": "MPBig0gVFMTw"
   },
   "outputs": [],
   "source": []
  }
 ],
 "metadata": {
  "colab": {
   "name": "Problemas.ipynb",
   "provenance": []
  },
  "hide_input": false,
  "kernelspec": {
   "display_name": "Python 3 (ipykernel)",
   "language": "python",
   "name": "python3"
  },
  "language_info": {
   "codemirror_mode": {
    "name": "ipython",
    "version": 3
   },
   "file_extension": ".py",
   "mimetype": "text/x-python",
   "name": "python",
   "nbconvert_exporter": "python",
   "pygments_lexer": "ipython3",
   "version": "3.8.10"
  },
  "toc": {
   "base_numbering": 1,
   "nav_menu": {},
   "number_sections": true,
   "sideBar": true,
   "skip_h1_title": false,
   "title_cell": "Table of Contents",
   "title_sidebar": "Contents",
   "toc_cell": false,
   "toc_position": {},
   "toc_section_display": true,
   "toc_window_display": true
  }
 },
 "nbformat": 4,
 "nbformat_minor": 1
}
