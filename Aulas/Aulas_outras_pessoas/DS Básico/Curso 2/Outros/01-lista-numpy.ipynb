{
 "cells": [
  {
   "cell_type": "markdown",
   "id": "a5dbc790-6822-4ee6-b207-081b8a72c845",
   "metadata": {},
   "source": [
    "# Stone V4 - Data Science"
   ]
  },
  {
   "cell_type": "markdown",
   "id": "dd968171-51a5-4a97-a7ac-8c706d513212",
   "metadata": {},
   "source": [
    "**Prof.:** Gabriel R. Freitas \\\n",
    "**E-mail:** gab.ribeiro.freitas@gmail.com\\\n",
    "**LinkedIn:** www.linkedin.com/in/grfreitas/"
   ]
  },
  {
   "cell_type": "markdown",
   "id": "fa1461ae-1f5e-40ce-9e95-82ce98b7533f",
   "metadata": {},
   "source": [
    "# Lista de Exercícios - Numpy"
   ]
  },
  {
   "cell_type": "markdown",
   "id": "1bec6dee-3a6e-46b1-89cf-b6f7fabe3e9e",
   "metadata": {},
   "source": [
    "---"
   ]
  },
  {
   "cell_type": "markdown",
   "id": "53e67761-55b5-4a26-b8c5-90be4fd488b8",
   "metadata": {},
   "source": [
    "##### 0. Importe a biblioteca numpy como np"
   ]
  },
  {
   "cell_type": "code",
   "execution_count": null,
   "id": "236dde6e-75f2-4329-ae59-ae118c72ab38",
   "metadata": {},
   "outputs": [],
   "source": []
  },
  {
   "cell_type": "markdown",
   "id": "326e9e7a-2ce8-49c0-9db0-82767ebba8b9",
   "metadata": {},
   "source": [
    "##### 1. Crie um array de zeros de tamanho 10"
   ]
  },
  {
   "cell_type": "code",
   "execution_count": null,
   "id": "465f8071-fdcd-4e0f-813f-382a76e31c74",
   "metadata": {},
   "outputs": [],
   "source": []
  },
  {
   "cell_type": "markdown",
   "id": "3554f1ad-01ef-41dd-8101-82d9b8487031",
   "metadata": {},
   "source": [
    "##### 2. Altere o array criado no item 1 para que o quinto valor seja 1"
   ]
  },
  {
   "cell_type": "code",
   "execution_count": null,
   "id": "1340c29e-b8f9-43ff-b8e5-dd2170306b65",
   "metadata": {},
   "outputs": [],
   "source": []
  },
  {
   "cell_type": "markdown",
   "id": "cc2e8c98-d071-463a-b097-70cfc9395da6",
   "metadata": {},
   "source": [
    "##### 3. Crie um array de valores entre 10 e 50"
   ]
  },
  {
   "cell_type": "code",
   "execution_count": null,
   "id": "f27d3483-4204-48b6-8b7e-1a0842a26f6b",
   "metadata": {},
   "outputs": [],
   "source": []
  },
  {
   "cell_type": "markdown",
   "id": "6771e24c-0e1e-4b25-a743-6d7b65817075",
   "metadata": {},
   "source": [
    "##### 4. Inverta o array criado no item 3 (o último elemento se torna o primeiro elemento)."
   ]
  },
  {
   "cell_type": "code",
   "execution_count": null,
   "id": "eeedd2ca-185e-4901-93d9-f03ab8611075",
   "metadata": {},
   "outputs": [],
   "source": []
  },
  {
   "cell_type": "markdown",
   "id": "2ee6a6ae-28cd-4844-92f2-79879c426dec",
   "metadata": {},
   "source": [
    "##### 5. Crie uma matriz 3x3 com valores entre 0 e 8"
   ]
  },
  {
   "cell_type": "code",
   "execution_count": null,
   "id": "25076fd9-3ddf-4368-949a-b43fb3ef5496",
   "metadata": {},
   "outputs": [],
   "source": []
  },
  {
   "cell_type": "markdown",
   "id": "a675a779-57d3-4329-b261-31a37d0e99b8",
   "metadata": {},
   "source": [
    "##### 6. Crie uma matriz 3x3x3 de valores aleatórios e ache seu valor máximo e mínimo."
   ]
  },
  {
   "cell_type": "code",
   "execution_count": null,
   "id": "82d4cb47-ca5e-4631-9558-689ba021a1ee",
   "metadata": {},
   "outputs": [],
   "source": []
  },
  {
   "cell_type": "markdown",
   "id": "597fa1d8-b031-412c-88a9-5eec68772c4c",
   "metadata": {},
   "source": [
    "##### 7. Crie um array de zeros 10x10 onde os valores da borda matriz são iguais a 1"
   ]
  },
  {
   "cell_type": "code",
   "execution_count": null,
   "id": "acccf096-b2a2-4acd-b77c-c38ccf4a71ae",
   "metadata": {},
   "outputs": [],
   "source": []
  },
  {
   "cell_type": "markdown",
   "id": "656f30da-18a2-46e5-8f99-f2a72e303194",
   "metadata": {},
   "source": [
    "##### 8. Crie uma matriz 8x8 e preencha com um padrão de xadrez (1 e 0 intercalados)"
   ]
  },
  {
   "cell_type": "code",
   "execution_count": null,
   "id": "ccdaf12e-d0a0-4c87-a1de-c771b7a3ca13",
   "metadata": {},
   "outputs": [],
   "source": []
  },
  {
   "cell_type": "markdown",
   "id": "2b7ac83b-6b99-4e43-b505-d5bb942bb6be",
   "metadata": {},
   "source": [
    "##### 9. Crie um array de números inteiros aleatórios entre 1 e 50. A partir dele, crie um array dos valores pares e outro array dos ímpares."
   ]
  },
  {
   "cell_type": "code",
   "execution_count": null,
   "id": "6cef73e3-187c-495c-b870-e0a732372cf4",
   "metadata": {},
   "outputs": [],
   "source": []
  },
  {
   "cell_type": "markdown",
   "id": "c5cd1f08-5a49-4829-b156-1b48193fb96c",
   "metadata": {},
   "source": [
    "##### 10. Crie ume função que receba um array e retorne o array standardizado¹. Teste a função em um array qualquer.\n",
    "\n",
    "- 1. Standardização: (Array - Valor Médio do Array) / Desvio Padrão do Array"
   ]
  },
  {
   "cell_type": "code",
   "execution_count": null,
   "id": "af17cdea-8fea-4118-bd61-8ce01cdad2ae",
   "metadata": {},
   "outputs": [],
   "source": []
  },
  {
   "cell_type": "markdown",
   "id": "faa3c5fa-35ca-47b0-9c80-44b0b5a500bc",
   "metadata": {},
   "source": [
    "---"
   ]
  }
 ],
 "metadata": {
  "kernelspec": {
   "display_name": "Python 3",
   "language": "python",
   "name": "python3"
  },
  "language_info": {
   "codemirror_mode": {
    "name": "ipython",
    "version": 3
   },
   "file_extension": ".py",
   "mimetype": "text/x-python",
   "name": "python",
   "nbconvert_exporter": "python",
   "pygments_lexer": "ipython3",
   "version": "3.8.8"
  }
 },
 "nbformat": 4,
 "nbformat_minor": 5
}
