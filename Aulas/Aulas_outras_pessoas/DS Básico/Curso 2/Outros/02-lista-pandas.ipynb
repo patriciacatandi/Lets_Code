{
 "cells": [
  {
   "cell_type": "code",
   "execution_count": 1,
   "metadata": {},
   "outputs": [],
   "source": [
    "import pandas as pd\n",
    "import numpy as np"
   ]
  },
  {
   "cell_type": "markdown",
   "metadata": {},
   "source": [
    "## Videogame sales"
   ]
  },
  {
   "cell_type": "markdown",
   "metadata": {},
   "source": [
    "**Exercício 0:** Importe a tabela **99_Outros/Video_Games_Sales_as_at_22_Dec_2016.csv** como um pandas DataFrame"
   ]
  },
  {
   "cell_type": "code",
   "execution_count": null,
   "metadata": {},
   "outputs": [],
   "source": []
  },
  {
   "cell_type": "markdown",
   "metadata": {},
   "source": [
    "**Exercício 1:** Quantas plataformas existem nos dados? Qual foi o total de vendas por plataforma? Use o método `sort_values` com o parâmetro `ascending=False` da série do Pandas para ordernar de forma crescente."
   ]
  },
  {
   "cell_type": "code",
   "execution_count": null,
   "metadata": {},
   "outputs": [],
   "source": []
  },
  {
   "cell_type": "markdown",
   "metadata": {},
   "source": [
    "**Exercício 2:** Repita o exercício 1 para o gênero do jogo em vez da plataforma."
   ]
  },
  {
   "cell_type": "code",
   "execution_count": null,
   "metadata": {},
   "outputs": [],
   "source": []
  },
  {
   "cell_type": "markdown",
   "metadata": {},
   "source": [
    "**Exercício 3:** Repita o exercício 1 para a fabricante do jogo (*Publisher*) em vez da plataforma."
   ]
  },
  {
   "cell_type": "code",
   "execution_count": null,
   "metadata": {},
   "outputs": [],
   "source": []
  },
  {
   "cell_type": "markdown",
   "metadata": {},
   "source": [
    "**Exercício 4:** Qual foi o gênero que mais vendeu em 2017? Qual foi o título que mais vendeu em 2017? "
   ]
  },
  {
   "cell_type": "code",
   "execution_count": null,
   "metadata": {},
   "outputs": [],
   "source": []
  },
  {
   "cell_type": "markdown",
   "metadata": {},
   "source": [
    "**Exercício 5:** Para as 3 plataformas que mais venderam, verifique qual delas possuem mais jogos e gêneros disponíveis. "
   ]
  },
  {
   "cell_type": "code",
   "execution_count": null,
   "metadata": {},
   "outputs": [],
   "source": []
  },
  {
   "cell_type": "markdown",
   "metadata": {},
   "source": [
    "**Exercício 6:** A função `pd.crosstab` permite construir [matrizes de contingência](https://en.wikipedia.org/wiki/Contingency_table). Use essa função para construir uma tabela com a contagem de gênero por plataforma passando essas duas colunas para essa função."
   ]
  },
  {
   "cell_type": "code",
   "execution_count": null,
   "metadata": {},
   "outputs": [],
   "source": []
  },
  {
   "cell_type": "markdown",
   "metadata": {},
   "source": [
    "**Exercício 7:** Faça uma série temporal com a contagem de títulos por ano. **Dica:** Agrupe por ano e use o método `count` em alguma coluna que não contenha células vazias. "
   ]
  },
  {
   "cell_type": "code",
   "execution_count": null,
   "metadata": {},
   "outputs": [],
   "source": []
  },
  {
   "cell_type": "markdown",
   "metadata": {},
   "source": [
    "---"
   ]
  },
  {
   "cell_type": "markdown",
   "metadata": {},
   "source": [
    "## Oktoberfest"
   ]
  },
  {
   "cell_type": "markdown",
   "metadata": {},
   "source": [
    "Oktoberfest é o maior festival de cerveja e é organizado em Munique desde 2018.\n",
    "Dura entre 16 e 18 dias,do meio ou final de setembro ate o primeiro domingo de outubro com mais de 6 milhões de visitantes todo ano\n",
    "\n",
    "Vamos pegar os dados do portal oficial da cidade de Munique :\n",
    "[Clique aqui](https://www.opengov-muenchen.de/tr/dataset) \n",
    "\n",
    "Lembrando que :\n",
    "\n",
    "\n",
    "    jahr : Ano\n",
    "    dauer : Duracao\n",
    "    besucher_gesamt (in Millionen) : Total de Visitantes (10^6)\n",
    "    besucher_tag (in 1000) : Visitantes por dia (10³)\n",
    "    bier_preis (1 Liter) : Preço cerveja (Por litro)\n",
    "    bier_konsum (in Hektoliter) : Consumo de Cerveja em Hectolitros\n",
    "    hendl_preis : Preço do Frango\n",
    "    hendl_konsum : Consumo de Frango\n"
   ]
  },
  {
   "cell_type": "markdown",
   "metadata": {},
   "source": [
    "**Exercício 1:** Leia a base e informe o número de linhas e colunas"
   ]
  },
  {
   "cell_type": "code",
   "execution_count": null,
   "metadata": {},
   "outputs": [],
   "source": []
  },
  {
   "cell_type": "markdown",
   "metadata": {},
   "source": [
    "**Exercício 2:** Renomeie as colunas conforme"
   ]
  },
  {
   "cell_type": "markdown",
   "metadata": {},
   "source": [
    "    jahr : Ano\n",
    "    dauer : Duracao\n",
    "    besucher_gesamt (in Millionen) : Total de Visitantes (10^6)\n",
    "    besucher_tag (in 1000) : Visitantes por dia (10³)\n",
    "    bier_preis (1 Liter) : Preço cerveja (Por litro)\n",
    "    bier_konsum (in Hektoliter) : Consumo de Cerveja em Hectolitros\n",
    "    hendl_preis : Preço do Frango\n",
    "    hendl_konsum : Consumo de Frango"
   ]
  },
  {
   "cell_type": "code",
   "execution_count": null,
   "metadata": {},
   "outputs": [],
   "source": []
  },
  {
   "cell_type": "markdown",
   "metadata": {},
   "source": [
    "**Exercício 3:** Salve em formato csv as colunas `ano` e `preco_cerveja` com separador `|`. Salve em formato `xlsx`"
   ]
  },
  {
   "cell_type": "code",
   "execution_count": null,
   "metadata": {},
   "outputs": [],
   "source": []
  },
  {
   "cell_type": "markdown",
   "metadata": {},
   "source": [
    "**Exercício 4:** Quantos anos estamos analisando?"
   ]
  },
  {
   "cell_type": "code",
   "execution_count": null,
   "metadata": {},
   "outputs": [],
   "source": []
  },
  {
   "cell_type": "markdown",
   "metadata": {},
   "source": [
    "**Exercício 5:** Qual o total de cerveja consumido por ano?"
   ]
  },
  {
   "cell_type": "code",
   "execution_count": null,
   "metadata": {},
   "outputs": [],
   "source": []
  },
  {
   "cell_type": "markdown",
   "metadata": {},
   "source": [
    "**Exercício 6:** Qual o total de frango consumido por ano?"
   ]
  },
  {
   "cell_type": "code",
   "execution_count": null,
   "metadata": {},
   "outputs": [],
   "source": []
  },
  {
   "cell_type": "markdown",
   "metadata": {},
   "source": [
    "**Exercício 7:** Crie uma coluna **receita_cerveja** que representa o produto entre o preco e o consumo de cerveja por ano"
   ]
  },
  {
   "cell_type": "code",
   "execution_count": null,
   "metadata": {},
   "outputs": [],
   "source": []
  },
  {
   "cell_type": "markdown",
   "metadata": {},
   "source": [
    "**Exercício 8:** Crie uma coluna **receita_frango** que representa o produto entre o preco e o consumo de frango por ano"
   ]
  },
  {
   "cell_type": "code",
   "execution_count": null,
   "metadata": {},
   "outputs": [],
   "source": []
  },
  {
   "cell_type": "markdown",
   "metadata": {},
   "source": [
    "**Exercício 9:** Crie uma coluna **receita_total** que representa a receita total por ano do evento"
   ]
  },
  {
   "cell_type": "code",
   "execution_count": null,
   "metadata": {},
   "outputs": [],
   "source": []
  },
  {
   "cell_type": "markdown",
   "metadata": {},
   "source": [
    "**Exercício 10:** Qual a média de cerveja consumida por ano?"
   ]
  },
  {
   "cell_type": "code",
   "execution_count": null,
   "metadata": {},
   "outputs": [],
   "source": []
  },
  {
   "cell_type": "markdown",
   "metadata": {},
   "source": [
    "**Exercício 11:** Qual é a média da receita total?"
   ]
  },
  {
   "cell_type": "code",
   "execution_count": null,
   "metadata": {},
   "outputs": [],
   "source": []
  }
 ],
 "metadata": {
  "kernelspec": {
   "display_name": "Python 3",
   "language": "python",
   "name": "python3"
  },
  "language_info": {
   "codemirror_mode": {
    "name": "ipython",
    "version": 3
   },
   "file_extension": ".py",
   "mimetype": "text/x-python",
   "name": "python",
   "nbconvert_exporter": "python",
   "pygments_lexer": "ipython3",
   "version": "3.8.8"
  }
 },
 "nbformat": 4,
 "nbformat_minor": 4
}
