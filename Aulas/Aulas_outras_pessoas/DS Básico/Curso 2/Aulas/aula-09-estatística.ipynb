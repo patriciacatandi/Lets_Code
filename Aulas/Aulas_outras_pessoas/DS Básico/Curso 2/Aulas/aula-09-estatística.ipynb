{
 "cells": [
  {
   "cell_type": "markdown",
   "id": "e012fcf8-2d7f-4f45-bc4b-62664cff021e",
   "metadata": {},
   "source": [
    "# Stone V4 - Data Science"
   ]
  },
  {
   "cell_type": "markdown",
   "id": "4a6205b7-c859-437c-81d9-e395d4ca706f",
   "metadata": {},
   "source": [
    "---"
   ]
  },
  {
   "cell_type": "markdown",
   "id": "f1b0ccab-59e3-42eb-a766-f3717adc746a",
   "metadata": {},
   "source": [
    "**Data:** 05/10/2021 \\\n",
    "**Prof.:** Gabriel R. Freitas"
   ]
  },
  {
   "cell_type": "code",
   "execution_count": 5,
   "id": "81e07d98-fd38-4add-ae2e-40ca3a353a09",
   "metadata": {},
   "outputs": [],
   "source": [
    "import pandas as pd\n",
    "import numpy as np\n",
    "\n",
    "import random\n",
    "import statistics as st\n",
    "\n",
    "import seaborn as sns\n",
    "import matplotlib.pyplot as plt"
   ]
  },
  {
   "cell_type": "markdown",
   "id": "7286a694-51c7-4395-9602-373c743fcc51",
   "metadata": {},
   "source": [
    "# Aula 9 - Estatística"
   ]
  },
  {
   "cell_type": "code",
   "execution_count": 3,
   "id": "aa6abaed-f81d-49d1-9e57-84486ae740c9",
   "metadata": {},
   "outputs": [
    {
     "data": {
      "text/html": [
       "<div>\n",
       "<style scoped>\n",
       "    .dataframe tbody tr th:only-of-type {\n",
       "        vertical-align: middle;\n",
       "    }\n",
       "\n",
       "    .dataframe tbody tr th {\n",
       "        vertical-align: top;\n",
       "    }\n",
       "\n",
       "    .dataframe thead th {\n",
       "        text-align: right;\n",
       "    }\n",
       "</style>\n",
       "<table border=\"1\" class=\"dataframe\">\n",
       "  <thead>\n",
       "    <tr style=\"text-align: right;\">\n",
       "      <th></th>\n",
       "      <th>PassengerId</th>\n",
       "      <th>Survived</th>\n",
       "      <th>Pclass</th>\n",
       "      <th>Name</th>\n",
       "      <th>Sex</th>\n",
       "      <th>Age</th>\n",
       "      <th>SibSp</th>\n",
       "      <th>Parch</th>\n",
       "      <th>Ticket</th>\n",
       "      <th>Fare</th>\n",
       "      <th>Cabin</th>\n",
       "      <th>Embarked</th>\n",
       "    </tr>\n",
       "  </thead>\n",
       "  <tbody>\n",
       "    <tr>\n",
       "      <th>0</th>\n",
       "      <td>1</td>\n",
       "      <td>0</td>\n",
       "      <td>3</td>\n",
       "      <td>Braund, Mr. Owen Harris</td>\n",
       "      <td>male</td>\n",
       "      <td>22.0</td>\n",
       "      <td>1</td>\n",
       "      <td>0</td>\n",
       "      <td>A/5 21171</td>\n",
       "      <td>7.2500</td>\n",
       "      <td>NaN</td>\n",
       "      <td>S</td>\n",
       "    </tr>\n",
       "    <tr>\n",
       "      <th>1</th>\n",
       "      <td>2</td>\n",
       "      <td>1</td>\n",
       "      <td>1</td>\n",
       "      <td>Cumings, Mrs. John Bradley (Florence Briggs Th...</td>\n",
       "      <td>female</td>\n",
       "      <td>38.0</td>\n",
       "      <td>1</td>\n",
       "      <td>0</td>\n",
       "      <td>PC 17599</td>\n",
       "      <td>71.2833</td>\n",
       "      <td>C85</td>\n",
       "      <td>C</td>\n",
       "    </tr>\n",
       "    <tr>\n",
       "      <th>2</th>\n",
       "      <td>3</td>\n",
       "      <td>1</td>\n",
       "      <td>3</td>\n",
       "      <td>Heikkinen, Miss. Laina</td>\n",
       "      <td>female</td>\n",
       "      <td>26.0</td>\n",
       "      <td>0</td>\n",
       "      <td>0</td>\n",
       "      <td>STON/O2. 3101282</td>\n",
       "      <td>7.9250</td>\n",
       "      <td>NaN</td>\n",
       "      <td>S</td>\n",
       "    </tr>\n",
       "    <tr>\n",
       "      <th>3</th>\n",
       "      <td>4</td>\n",
       "      <td>1</td>\n",
       "      <td>1</td>\n",
       "      <td>Futrelle, Mrs. Jacques Heath (Lily May Peel)</td>\n",
       "      <td>female</td>\n",
       "      <td>35.0</td>\n",
       "      <td>1</td>\n",
       "      <td>0</td>\n",
       "      <td>113803</td>\n",
       "      <td>53.1000</td>\n",
       "      <td>C123</td>\n",
       "      <td>S</td>\n",
       "    </tr>\n",
       "    <tr>\n",
       "      <th>4</th>\n",
       "      <td>5</td>\n",
       "      <td>0</td>\n",
       "      <td>3</td>\n",
       "      <td>Allen, Mr. William Henry</td>\n",
       "      <td>male</td>\n",
       "      <td>35.0</td>\n",
       "      <td>0</td>\n",
       "      <td>0</td>\n",
       "      <td>373450</td>\n",
       "      <td>8.0500</td>\n",
       "      <td>NaN</td>\n",
       "      <td>S</td>\n",
       "    </tr>\n",
       "  </tbody>\n",
       "</table>\n",
       "</div>"
      ],
      "text/plain": [
       "   PassengerId  Survived  Pclass  \\\n",
       "0            1         0       3   \n",
       "1            2         1       1   \n",
       "2            3         1       3   \n",
       "3            4         1       1   \n",
       "4            5         0       3   \n",
       "\n",
       "                                                Name     Sex   Age  SibSp  \\\n",
       "0                            Braund, Mr. Owen Harris    male  22.0      1   \n",
       "1  Cumings, Mrs. John Bradley (Florence Briggs Th...  female  38.0      1   \n",
       "2                             Heikkinen, Miss. Laina  female  26.0      0   \n",
       "3       Futrelle, Mrs. Jacques Heath (Lily May Peel)  female  35.0      1   \n",
       "4                           Allen, Mr. William Henry    male  35.0      0   \n",
       "\n",
       "   Parch            Ticket     Fare Cabin Embarked  \n",
       "0      0         A/5 21171   7.2500   NaN        S  \n",
       "1      0          PC 17599  71.2833   C85        C  \n",
       "2      0  STON/O2. 3101282   7.9250   NaN        S  \n",
       "3      0            113803  53.1000  C123        S  \n",
       "4      0            373450   8.0500   NaN        S  "
      ]
     },
     "execution_count": 3,
     "metadata": {},
     "output_type": "execute_result"
    }
   ],
   "source": [
    "df = pd.read_csv('dados/titanic.csv')\n",
    "df.head()"
   ]
  },
  {
   "cell_type": "markdown",
   "id": "75a3189c-50c4-426d-9048-dbeb194f3741",
   "metadata": {},
   "source": [
    "# 1. Definições"
   ]
  },
  {
   "cell_type": "markdown",
   "id": "d5b4b2b8-75f1-4260-a154-a53bde1f3d77",
   "metadata": {},
   "source": [
    "**Estatística Descritiva**: Primeira etapa inicial da análise, quando ainda não conhecemos a forma do dado, com o objetivo de tirar informações prévias de modo informal e direto, quando obtemos grande volume de dados, precisamos de informações que `resumam`nosso conjuto de dados a fim de que possamos tirar conclusões sobre nossos dados.\n",
    "\n",
    "**Probabilidade**: Pode ser pensada como a teoria matemática utilizada para se estudar a incerteza oriundas de `fenômenos`de caráter aleátorio.\n",
    "\n",
    "**Inferência estatística**: É o estudo de técnicas que possibilitam a extrapolação, a um grande conjunto de dados, denominado `população`, obtidos a partir de um conjunto extraido sobre esta denominada `amostra`."
   ]
  },
  {
   "cell_type": "markdown",
   "id": "e93f7989-0e4f-4e49-a885-d1c8115fe291",
   "metadata": {},
   "source": [
    "<center><img src=\"misc/inferencia.png\" width=\"700\" height=\"700\" /></center>"
   ]
  },
  {
   "cell_type": "markdown",
   "id": "344ce507-e2c2-400f-9413-0b6005add16d",
   "metadata": {},
   "source": [
    "---"
   ]
  },
  {
   "cell_type": "markdown",
   "id": "b3a45402-cd0e-461a-88f0-2ab4c8cc94fa",
   "metadata": {},
   "source": [
    "# 2. Tipos de variáveis "
   ]
  },
  {
   "cell_type": "markdown",
   "id": "1d7c5d5b-27c6-4cb7-96b9-fcfe89586cb6",
   "metadata": {},
   "source": [
    "- **Variavél qualitativa (categóricas)** \n",
    "\n",
    "- Nominais: Não expressam qualquer tipo de ordem!\n",
    "Exemplos: Estado civil, país de origem, sexo, nome, biologia (reino, filo);\n",
    "\n",
    "- Ordinárias: Expressam algum tipo de ordenação.\n",
    "Exemplos: Tamanho de camiseta (pequeno, médio, grande), classe social (baixa, média, alta), nível de altura (baixa, média, alta), dia da semana (seg, ter, qua, qui, sex, sab, dom), alfabeto (A, B, C, D.... Z)"
   ]
  },
  {
   "cell_type": "markdown",
   "id": "2e19c282-f8ea-40d4-a962-7ed5ba97dbfa",
   "metadata": {},
   "source": [
    "- **Variavél quantitativa (numérica)** \n",
    "\n",
    "- Discretas: Valores expressos em números discretos (inteiros)\n",
    "Exemplos: idade em anos, número de filhos, total de colaboradores, centavos na conta bancária, dia da semana (1, 2, 3, 4, 5, 6, 7)\n",
    "\n",
    "- Contínuas: Valores expressos em números contínuos (floats)\n",
    "Exemplos: Reais na conta bancária, salário, temperatura, horário"
   ]
  },
  {
   "cell_type": "markdown",
   "id": "a84b0e9c-bfc6-42d0-afbd-17f48abf650d",
   "metadata": {},
   "source": [
    "---"
   ]
  },
  {
   "cell_type": "markdown",
   "id": "b46e439e-d5fc-4e79-8f0d-34ae36495fee",
   "metadata": {},
   "source": [
    "# 3. Tipos de Medidas"
   ]
  },
  {
   "cell_type": "markdown",
   "id": "f4ae10f0-1a0d-4ffc-91bb-fad3de19bd60",
   "metadata": {},
   "source": [
    "## 3.1 Medidas de Posição"
   ]
  },
  {
   "cell_type": "markdown",
   "id": "32c2a668-8248-470d-9d2f-153dd461cd61",
   "metadata": {},
   "source": [
    "### Média\n",
    "\n",
    "Seja $X$ uma variável quantitativa e $x_1,x_2,x_3, ...$ os valores assumidos por X. Define-se média de $\\overline{X}$ como sendo :\n",
    "\n",
    "\n",
    "$$\\overline{X} = \\frac{\\sum_{i=1}^{n}x_i}{n}= \\frac{x_1+ x_2 + x_3 +... +x_n}{n}$$"
   ]
  },
  {
   "cell_type": "code",
   "execution_count": 18,
   "id": "3d6a4deb-163b-4860-8beb-cfdbf7386514",
   "metadata": {},
   "outputs": [
    {
     "data": {
      "text/plain": [
       "177"
      ]
     },
     "execution_count": 18,
     "metadata": {},
     "output_type": "execute_result"
    }
   ],
   "source": [
    "df.Age.isna().sum()"
   ]
  },
  {
   "cell_type": "code",
   "execution_count": 9,
   "id": "e5ae72b2-93ac-42cb-8f98-b5e33c5f5d02",
   "metadata": {},
   "outputs": [
    {
     "data": {
      "text/plain": [
       "29.69911764705882"
      ]
     },
     "execution_count": 9,
     "metadata": {},
     "output_type": "execute_result"
    }
   ],
   "source": [
    "df.Age.mean()"
   ]
  },
  {
   "cell_type": "code",
   "execution_count": 19,
   "id": "63f15c54-2337-443f-af10-27233e8e36fe",
   "metadata": {},
   "outputs": [
    {
     "data": {
      "text/plain": [
       "29.69911764705882"
      ]
     },
     "execution_count": 19,
     "metadata": {},
     "output_type": "execute_result"
    }
   ],
   "source": [
    "df.Age.sum() / (len(df.Age) - 177)"
   ]
  },
  {
   "cell_type": "code",
   "execution_count": 20,
   "id": "e15c6aed-f4ef-4e7e-807b-4496906149e6",
   "metadata": {},
   "outputs": [],
   "source": [
    "arr = np.array([1, 2, 3, 4, 5])"
   ]
  },
  {
   "cell_type": "code",
   "execution_count": 22,
   "id": "37f0de67-9d38-481d-8044-56f6170f6d59",
   "metadata": {},
   "outputs": [
    {
     "data": {
      "text/plain": [
       "3.0"
      ]
     },
     "execution_count": 22,
     "metadata": {},
     "output_type": "execute_result"
    }
   ],
   "source": [
    "arr.mean()"
   ]
  },
  {
   "cell_type": "code",
   "execution_count": 21,
   "id": "f0a72378-8520-4129-841f-4553766d4033",
   "metadata": {},
   "outputs": [
    {
     "data": {
      "text/plain": [
       "3.0"
      ]
     },
     "execution_count": 21,
     "metadata": {},
     "output_type": "execute_result"
    }
   ],
   "source": [
    "sum(arr) / len(arr)"
   ]
  },
  {
   "cell_type": "markdown",
   "id": "f2d1625f-8348-4734-98a1-858582187df9",
   "metadata": {},
   "source": [
    "### Mediana\n",
    "A **mediana** de uma variável é um número tal que há o mesmo número de observações maiores e menores do que ele, ocupando assim a posição central da série de observações.\n",
    "\n",
    "- *Exemplo*\n",
    "\n",
    "i) 3,4,7,8,8 **mediana=7**       (CASO ÍMPAR)\n",
    "\n",
    "ii) 3,4,7,8,8,9 **mediana=(7+8)/2=7,5**   (CASO PAR)\n",
    "\n",
    "Logo, podemos definir \n",
    "\n",
    "- - Mediana de $X = X_{\\frac{n+1}{2}}$ `Se tamanho da amostra ímpar`\n",
    "\n",
    "\n",
    "- - Mediana de $X = \\frac{X_{\\frac{n}{2}}+ X_{\\frac{n+1}{2}}}{2}$ `Se tamanho da amostra par`\n",
    "\n",
    "Como os valores de **indice no python** começam em `0`, devemos nos atentar que a equação acima deve ficar como:\n",
    "\n",
    "- - Mediana de $X = X_{\\frac{n}{2}}$ `Se tamanho da amostra par`\n",
    "\n",
    "\n",
    "- - Mediana de $X = \\frac{X_{\\frac{n-1}{2}}+ X_{\\frac{n}{2}}}{2}$ `Se tamanho da amostra ímpar`"
   ]
  },
  {
   "cell_type": "code",
   "execution_count": 23,
   "id": "0cdfa312-b0a6-467a-82f5-afc11a8cff16",
   "metadata": {},
   "outputs": [
    {
     "data": {
      "text/plain": [
       "28.0"
      ]
     },
     "execution_count": 23,
     "metadata": {},
     "output_type": "execute_result"
    }
   ],
   "source": [
    "df.Age.median()"
   ]
  },
  {
   "cell_type": "markdown",
   "id": "eb43e0bd-b7aa-4b8e-b17c-a3a4085e7088",
   "metadata": {},
   "source": [
    "### Moda\n",
    "\n",
    "A **moda** é o valor que ocorre com **mais frequencia** em um conjunto de dados \n",
    "\n",
    "Dependendo do conjunto de dados, ele pode ser:\n",
    "\n",
    "- Sem moda: quando nenhum valor se repete \n",
    "\n",
    "- unimodal: Quando existe apenas um valor repetido com maior frequência \n",
    "\n",
    "- bimodal: quando existem dois valores com a mesma frequência\n",
    "\n",
    "- multimodal: quando existem mais de dois valores"
   ]
  },
  {
   "cell_type": "code",
   "execution_count": 54,
   "id": "0857d056-5c93-4400-b781-171e74ab37c0",
   "metadata": {},
   "outputs": [],
   "source": [
    "arr = pd.Series(np.array([1, 2, 2, 3, 3, 4, 5]))"
   ]
  },
  {
   "cell_type": "code",
   "execution_count": 55,
   "id": "c47eafc4-3e87-4a2c-a27c-c70e0bc563d3",
   "metadata": {},
   "outputs": [
    {
     "data": {
      "text/plain": [
       "0    2\n",
       "1    3\n",
       "dtype: int64"
      ]
     },
     "execution_count": 55,
     "metadata": {},
     "output_type": "execute_result"
    }
   ],
   "source": [
    "arr.mode()"
   ]
  },
  {
   "cell_type": "code",
   "execution_count": 24,
   "id": "88480452-2066-42c9-9563-611fdde7962d",
   "metadata": {},
   "outputs": [
    {
     "data": {
      "text/plain": [
       "0    24.0\n",
       "dtype: float64"
      ]
     },
     "execution_count": 24,
     "metadata": {},
     "output_type": "execute_result"
    }
   ],
   "source": [
    "df.Age.mode()"
   ]
  },
  {
   "cell_type": "markdown",
   "id": "4127d7d7-6ba6-4ffd-8c01-b390815f34d8",
   "metadata": {},
   "source": [
    "### Quartis\n",
    "\n",
    "Os quartis não são medidas de variabilidade, mas a partir deles, é possível construir o intervalo interquartilíco que é uma medida de variabilidade.\n",
    "Quartis (Q1, Q2 e Q3): São valores dados a partir do conjunto de observações ordenado em ordem crescente, que dividem os seus dados em quatro partes iguais. O primeiro quartil, Q1, é o número que deixa 25% das observações abaixo e 75% acima, enquanto que o terceiro quartil, Q3, deixa 75% das observações abaixo e 25% acima. Já Q2 é a mediana, deixa 50% das observações abaixo e 50% das observações acima.\n",
    "\n",
    "\n",
    "\n",
    "<img src=\"misc/quartis.png\" width=\"700\" height=\"700\" />"
   ]
  },
  {
   "cell_type": "code",
   "execution_count": 58,
   "id": "93507f06-746f-4a06-8217-35da53000759",
   "metadata": {},
   "outputs": [
    {
     "data": {
      "text/plain": [
       "20.125"
      ]
     },
     "execution_count": 58,
     "metadata": {},
     "output_type": "execute_result"
    }
   ],
   "source": [
    "df.Age.quantile(q=0.25)"
   ]
  },
  {
   "cell_type": "code",
   "execution_count": 60,
   "id": "432139f6-22f5-47a8-af16-614ce169834b",
   "metadata": {},
   "outputs": [
    {
     "data": {
      "text/plain": [
       "28.0"
      ]
     },
     "execution_count": 60,
     "metadata": {},
     "output_type": "execute_result"
    }
   ],
   "source": [
    "df.Age.quantile(q=0.50)"
   ]
  },
  {
   "cell_type": "code",
   "execution_count": 61,
   "id": "eea36b42-e025-4391-baad-80f07f9c6805",
   "metadata": {},
   "outputs": [
    {
     "data": {
      "text/plain": [
       "38.0"
      ]
     },
     "execution_count": 61,
     "metadata": {},
     "output_type": "execute_result"
    }
   ],
   "source": [
    "df.Age.quantile(q=0.75)"
   ]
  },
  {
   "cell_type": "code",
   "execution_count": 62,
   "id": "4c4843ef-1132-448a-991c-4c628df4a853",
   "metadata": {},
   "outputs": [
    {
     "data": {
      "text/plain": [
       "65.87"
      ]
     },
     "execution_count": 62,
     "metadata": {},
     "output_type": "execute_result"
    }
   ],
   "source": [
    "df.Age.quantile(q=0.99)"
   ]
  },
  {
   "cell_type": "code",
   "execution_count": 63,
   "id": "2de9788a-1f65-4566-9e51-66ceeb9a03f6",
   "metadata": {},
   "outputs": [
    {
     "data": {
      "text/plain": [
       "<AxesSubplot:xlabel='Age', ylabel='Density'>"
      ]
     },
     "execution_count": 63,
     "metadata": {},
     "output_type": "execute_result"
    },
    {
     "data": {
      "image/png": "[encoded data removed]",
      "text/plain": [
       "<Figure size 432x288 with 1 Axes>"
      ]
     },
     "metadata": {
      "needs_background": "light"
     },
     "output_type": "display_data"
    }
   ],
   "source": [
    "sns.kdeplot(df.Age)"
   ]
  },
  {
   "cell_type": "code",
   "execution_count": 71,
   "id": "05f9e851-ad4c-4009-a5d7-063b30d7033e",
   "metadata": {},
   "outputs": [
    {
     "data": {
      "text/plain": [
       "40.0"
      ]
     },
     "execution_count": 71,
     "metadata": {},
     "output_type": "execute_result"
    }
   ],
   "source": [
    "df.Age.quantile(q=0.78)"
   ]
  },
  {
   "cell_type": "code",
   "execution_count": 77,
   "id": "d538cb07-c26a-4960-a876-56a979c6307b",
   "metadata": {},
   "outputs": [
    {
     "data": {
      "text/plain": [
       "<matplotlib.lines.Line2D at 0x7f90683065b0>"
      ]
     },
     "execution_count": 77,
     "metadata": {},
     "output_type": "execute_result"
    },
    {
     "data": {
      "image/png": "[encoded data removed]",
      "text/plain": [
       "<Figure size 432x288 with 1 Axes>"
      ]
     },
     "metadata": {
      "needs_background": "light"
     },
     "output_type": "display_data"
    }
   ],
   "source": [
    "sns.kdeplot(df.Age, cumulative=True)\n",
    "\n",
    "plt.axhline(0.78, ls=\"--\", lw=1)\n",
    "plt.axvline(40, ls=\"--\", lw=1)"
   ]
  },
  {
   "cell_type": "markdown",
   "id": "8d73eae4-ca73-49f7-a704-0163c9a13302",
   "metadata": {},
   "source": [
    "##### Intervalo Interquartílico\n",
    "\n",
    "Por construção, aproximadamente metade dos dados estão entre o 1º e o 3º quartil, isto é, este também pode ser interpretado como um intervalo de valores tipicamente assumidos pelas observações. "
   ]
  },
  {
   "cell_type": "code",
   "execution_count": 79,
   "id": "825575be-943c-4b3f-af1c-d6e94cb3ba12",
   "metadata": {},
   "outputs": [
    {
     "data": {
      "text/plain": [
       "17.875"
      ]
     },
     "execution_count": 79,
     "metadata": {},
     "output_type": "execute_result"
    }
   ],
   "source": [
    "df.Age.quantile(0.75) - df.Age.quantile(0.25)"
   ]
  },
  {
   "cell_type": "markdown",
   "id": "b1ae0413-b67b-4f99-a700-36f1020c2846",
   "metadata": {},
   "source": [
    "## 3.2 Medidas de Dispersão"
   ]
  },
  {
   "cell_type": "markdown",
   "id": "e9fa2c7b-57b4-43e0-a0f9-98bb2fb33400",
   "metadata": {},
   "source": [
    "### Amplitude"
   ]
  },
  {
   "cell_type": "code",
   "execution_count": 80,
   "id": "d7263774-a534-4915-afde-daaf18a013bd",
   "metadata": {},
   "outputs": [
    {
     "data": {
      "text/plain": [
       "80.0"
      ]
     },
     "execution_count": 80,
     "metadata": {},
     "output_type": "execute_result"
    }
   ],
   "source": [
    "df.Age.max()"
   ]
  },
  {
   "cell_type": "code",
   "execution_count": 81,
   "id": "ed2a4173-f1c8-49fc-be90-e8dc6bfc4c01",
   "metadata": {},
   "outputs": [
    {
     "data": {
      "text/plain": [
       "0.42"
      ]
     },
     "execution_count": 81,
     "metadata": {},
     "output_type": "execute_result"
    }
   ],
   "source": [
    "df.Age.min()"
   ]
  },
  {
   "cell_type": "code",
   "execution_count": 84,
   "id": "1243997b-1842-48fc-8c50-a205f9c31353",
   "metadata": {},
   "outputs": [],
   "source": [
    "amplitude = df.Age.max() - df.Age.min()"
   ]
  },
  {
   "cell_type": "code",
   "execution_count": 85,
   "id": "6fbe4566-e1fc-40f4-b0af-5a71765096c3",
   "metadata": {},
   "outputs": [
    {
     "name": "stdout",
     "output_type": "stream",
     "text": [
      "79.58\n"
     ]
    }
   ],
   "source": [
    "print(amplitude)"
   ]
  },
  {
   "cell_type": "code",
   "execution_count": 87,
   "id": "39e8032d-a3af-49c1-9689-0f038474e21d",
   "metadata": {},
   "outputs": [],
   "source": [
    "normalizado = df.Age / amplitude"
   ]
  },
  {
   "cell_type": "code",
   "execution_count": 89,
   "id": "64c401b5-842a-4ea5-bff9-18cf391a6d60",
   "metadata": {},
   "outputs": [
    {
     "data": {
      "text/plain": [
       "1.0052777079668258"
      ]
     },
     "execution_count": 89,
     "metadata": {},
     "output_type": "execute_result"
    }
   ],
   "source": [
    "normalizado.max()"
   ]
  },
  {
   "cell_type": "code",
   "execution_count": 91,
   "id": "3cebb08c-3999-4c46-b6cd-21d62e60769d",
   "metadata": {},
   "outputs": [
    {
     "data": {
      "text/plain": [
       "0.005277707966825836"
      ]
     },
     "execution_count": 91,
     "metadata": {},
     "output_type": "execute_result"
    }
   ],
   "source": [
    "normalizado.min()"
   ]
  },
  {
   "cell_type": "markdown",
   "id": "c3f1d27b-9ed9-472f-aeed-b583d9e41261",
   "metadata": {},
   "source": [
    "### Variância & Desvio Padrão"
   ]
  },
  {
   "cell_type": "markdown",
   "id": "bcde03e5-6638-444a-ad21-df6b648dc44d",
   "metadata": {},
   "source": [
    "- *Exemplo*: suponha que você precisa de uma maquina que fabrique parafusos com 5cm de comprimento, e receba proposta de duas empresas interessadas em te vender uma maquina de fazer parafusos\n",
    "\n",
    "- - aqui são os resultados das duas maquinas :"
   ]
  },
  {
   "cell_type": "markdown",
   "id": "3f410ce5-81aa-46ba-9190-224c85a30854",
   "metadata": {},
   "source": [
    "$$ MAQUINA_1 = [3,3,5,7,7] $$"
   ]
  },
  {
   "cell_type": "markdown",
   "id": "1d1e9ebd-0e2b-462a-afbc-5a08b12c7626",
   "metadata": {},
   "source": [
    "$$ MAQUINA_2 = [4,4,5,6,6] $$"
   ]
  },
  {
   "cell_type": "markdown",
   "id": "b2c62ead-03bf-4429-89ec-4793e339403d",
   "metadata": {},
   "source": [
    "qual das duas maquinas você compraria ? "
   ]
  },
  {
   "cell_type": "code",
   "execution_count": 92,
   "id": "acf9ade6-ee92-41ec-a207-0c0d381733fd",
   "metadata": {},
   "outputs": [],
   "source": [
    "arr1 = np.array([3, 3, 5, 7, 7])\n",
    "arr2 = np.array([4, 4, 5, 6, 6])"
   ]
  },
  {
   "cell_type": "code",
   "execution_count": 93,
   "id": "66041cdf-5c19-4781-98e8-7fca05dabb0f",
   "metadata": {},
   "outputs": [
    {
     "data": {
      "text/plain": [
       "5.0"
      ]
     },
     "execution_count": 93,
     "metadata": {},
     "output_type": "execute_result"
    }
   ],
   "source": [
    "arr1.mean()"
   ]
  },
  {
   "cell_type": "code",
   "execution_count": 94,
   "id": "01d36f60-7644-46f4-b962-f51f8a3294fc",
   "metadata": {},
   "outputs": [
    {
     "data": {
      "text/plain": [
       "5.0"
      ]
     },
     "execution_count": 94,
     "metadata": {},
     "output_type": "execute_result"
    }
   ],
   "source": [
    "arr2.mean()"
   ]
  },
  {
   "cell_type": "code",
   "execution_count": 99,
   "id": "db9553be-ec2e-4e69-8e5a-6b36cd529e4e",
   "metadata": {},
   "outputs": [
    {
     "data": {
      "text/plain": [
       "3.2"
      ]
     },
     "execution_count": 99,
     "metadata": {},
     "output_type": "execute_result"
    }
   ],
   "source": [
    "arr1.var()"
   ]
  },
  {
   "cell_type": "code",
   "execution_count": 100,
   "id": "57c3a114-989e-430f-9d6a-f8d9fecea2a9",
   "metadata": {},
   "outputs": [
    {
     "data": {
      "text/plain": [
       "0.8"
      ]
     },
     "execution_count": 100,
     "metadata": {},
     "output_type": "execute_result"
    }
   ],
   "source": [
    "arr2.var()"
   ]
  },
  {
   "cell_type": "code",
   "execution_count": 102,
   "id": "b94e0420-881b-4012-a912-4f73be0a8523",
   "metadata": {},
   "outputs": [
    {
     "data": {
      "text/plain": [
       "1.7888543819998317"
      ]
     },
     "execution_count": 102,
     "metadata": {},
     "output_type": "execute_result"
    }
   ],
   "source": [
    "np.sqrt(arr1.var())"
   ]
  },
  {
   "cell_type": "code",
   "execution_count": 101,
   "id": "5cb88492-2231-41d0-998a-c8090af181df",
   "metadata": {},
   "outputs": [
    {
     "data": {
      "text/plain": [
       "1.7888543819998317"
      ]
     },
     "execution_count": 101,
     "metadata": {},
     "output_type": "execute_result"
    }
   ],
   "source": [
    "arr1.std()"
   ]
  },
  {
   "cell_type": "code",
   "execution_count": 103,
   "id": "d75394dc-efd1-44fd-8279-dc70d60cfbb9",
   "metadata": {},
   "outputs": [
    {
     "data": {
      "text/plain": [
       "14.526497332334044"
      ]
     },
     "execution_count": 103,
     "metadata": {},
     "output_type": "execute_result"
    }
   ],
   "source": [
    "df.Age.std()"
   ]
  },
  {
   "cell_type": "code",
   "execution_count": 106,
   "id": "7ba59925-8cd9-4e30-b835-075d10cc3c4b",
   "metadata": {},
   "outputs": [
    {
     "data": {
      "image/png": "[encoded data removed]",
      "text/plain": [
       "<Figure size 360x360 with 1 Axes>"
      ]
     },
     "metadata": {
      "needs_background": "light"
     },
     "output_type": "display_data"
    }
   ],
   "source": [
    "sns.displot(df.Age);"
   ]
  },
  {
   "cell_type": "markdown",
   "id": "6e1ce28c-1b37-4611-a19c-672d1f696a75",
   "metadata": {},
   "source": [
    "### Assimetria / Skewness\n",
    "\n",
    "É o **grau de desvio ou afastamento** da simetria de uma distribuição.Quando a curva é simétrica, a `média`,e a `mediana` e a moda coincidem,num mesmo ponto, de ordenada máxima, havendo um perfeito equilíbrio na distribuição. Quando o equilíbrio não acontece, isto é, a média, a mediana e a moda recaem em pontos diferentes da distribuição esta será assimétrica; enviesada a direita ou esquerda.\n",
    "\n",
    "<img src=\"misc/assimetria.png\" width=\"700\" height=\"700\"/>\n",
    "\n",
    "- - Distribuição assimétrica **Negativa ou enviesada a esquerda** - quando os valores se concentram na extremidade superior da escala e se distribuem gradativamente em direção à extremidade inferior.\n",
    "\n",
    "- - Distribuição assimétrica Positiva ou enviesada a direita quando os valores se concentram na extremidade inferior da escala e se distribuem gradativamente em direção à extremidade superior.\n",
    "\n",
    "Ex :\n",
    "\n",
    "$$[14,14,15,16,42] $$ \n",
    "- `42` valor descrepante que faz com que a média > mediana (**assimetria positiva**)\n",
    "\n",
    "$$[0,14,15,16,16] $$ \n",
    "- `0` valor descrepante que faz com que a média < mediana (**assimetria negativa**)"
   ]
  },
  {
   "cell_type": "code",
   "execution_count": 112,
   "id": "0c908e7c-f052-4f31-9a7e-18af405be978",
   "metadata": {},
   "outputs": [],
   "source": [
    "k = 200"
   ]
  },
  {
   "cell_type": "code",
   "execution_count": 116,
   "id": "ef5e445a-5646-4d71-81a9-adf222d6b91f",
   "metadata": {},
   "outputs": [
    {
     "data": {
      "text/plain": [
       "[101, 201, 400]"
      ]
     },
     "execution_count": 116,
     "metadata": {},
     "output_type": "execute_result"
    }
   ],
   "source": [
    "sorted([k+1, 2*k, 101])"
   ]
  },
  {
   "cell_type": "markdown",
   "id": "caad1e69-13a5-45ca-8426-abb4efa61d88",
   "metadata": {},
   "source": [
    "### Exercícios"
   ]
  },
  {
   "cell_type": "markdown",
   "id": "830bc7e4-4d24-4927-aba7-0ddf89a07de4",
   "metadata": {},
   "source": [
    "*a-Considere uma amostra K de 3 elementos: k+1, 2k, e 101. Para quais valores de K a mediana dessa amostra é igual a média* \n",
    "\n",
    "- - [1]\n",
    "- - [50]\n",
    "- - [15]\n",
    "- - [23]\n",
    "- - [100]\n",
    "- - [67][ok]\n",
    "- - [34][ok]"
   ]
  },
  {
   "cell_type": "code",
   "execution_count": 151,
   "id": "28fc2416-3b5e-4757-b713-7b824447d79d",
   "metadata": {},
   "outputs": [],
   "source": [
    "k = 100\n",
    "arr = np.array([k+1, 2*k, 101])"
   ]
  },
  {
   "cell_type": "code",
   "execution_count": 155,
   "id": "c7dc41f2-f8e5-46df-96b8-3af5e1f86d00",
   "metadata": {},
   "outputs": [],
   "source": [
    "k_possiveis = [1, 50, 15, 23, 100, 67, 34]"
   ]
  },
  {
   "cell_type": "code",
   "execution_count": 156,
   "id": "b8823a0d-7b94-48be-bb8d-9c21f32cfdfe",
   "metadata": {},
   "outputs": [],
   "source": [
    "valores_certos = []\n",
    "\n",
    "for k in k_possiveis:\n",
    "    arr = np.array([k+1, 2*k, 101])\n",
    "\n",
    "    media = arr.mean()\n",
    "    median = np.median(arr)\n",
    "    \n",
    "    if media == median:\n",
    "        valores_certos.append(k)"
   ]
  },
  {
   "cell_type": "code",
   "execution_count": 157,
   "id": "be685c64-8ee0-42ef-bd31-20bdf836887c",
   "metadata": {},
   "outputs": [
    {
     "data": {
      "text/plain": [
       "[67, 34]"
      ]
     },
     "execution_count": 157,
     "metadata": {},
     "output_type": "execute_result"
    }
   ],
   "source": [
    "valores_certos"
   ]
  },
  {
   "cell_type": "markdown",
   "id": "004eb8a8-ba64-48d4-ad64-fbe983288093",
   "metadata": {},
   "source": [
    "*b-Para quais valores de k(k+1,2k,101) tem exatamente uma moda. Selecione todos corretos*\n",
    "\n",
    "- - [1]\n",
    "- - [2]\n",
    "- - [3]\n",
    "- - [100]"
   ]
  },
  {
   "cell_type": "code",
   "execution_count": 178,
   "id": "7b6e2832-cba9-421b-a0cc-7a9c27a85f2e",
   "metadata": {},
   "outputs": [],
   "source": [
    "k = 100\n",
    "arr = np.array([k+1, 2*k, 101])"
   ]
  },
  {
   "cell_type": "code",
   "execution_count": 179,
   "id": "44d39aa7-c487-4ca6-8690-04567131b66e",
   "metadata": {},
   "outputs": [
    {
     "data": {
      "text/plain": [
       "array([101, 200, 101])"
      ]
     },
     "execution_count": 179,
     "metadata": {},
     "output_type": "execute_result"
    }
   ],
   "source": [
    "arr"
   ]
  },
  {
   "cell_type": "code",
   "execution_count": 180,
   "id": "c5e485ac-a712-41ce-aee9-858b38856871",
   "metadata": {},
   "outputs": [
    {
     "data": {
      "text/plain": [
       "0    101\n",
       "dtype: int64"
      ]
     },
     "execution_count": 180,
     "metadata": {},
     "output_type": "execute_result"
    }
   ],
   "source": [
    "pd.Series(arr).mode()"
   ]
  },
  {
   "cell_type": "markdown",
   "id": "8692955d-6cbb-48f5-b37d-6a55033c6060",
   "metadata": {},
   "source": [
    "*c-Para K=50 e a amostrak(k+1,2k,101), qual afirmação seguinte é verdadeira*\n",
    "\n",
    "- - [media > mediana]\n",
    "- - [mediana > media]"
   ]
  },
  {
   "cell_type": "code",
   "execution_count": 181,
   "id": "2debf456-6cf6-46d6-8d58-18a066ec1d0b",
   "metadata": {},
   "outputs": [],
   "source": [
    "k = 50\n",
    "arr = np.array([k+1, 2*k, 101])"
   ]
  },
  {
   "cell_type": "code",
   "execution_count": 182,
   "id": "2f89b2a9-d95e-414b-90c3-5b0b68ee6732",
   "metadata": {},
   "outputs": [
    {
     "data": {
      "text/plain": [
       "array([ 51, 100, 101])"
      ]
     },
     "execution_count": 182,
     "metadata": {},
     "output_type": "execute_result"
    }
   ],
   "source": [
    "arr"
   ]
  },
  {
   "cell_type": "code",
   "execution_count": 183,
   "id": "e0afc6f1-a068-4dfd-9f12-059d2aa86ec6",
   "metadata": {},
   "outputs": [
    {
     "data": {
      "text/plain": [
       "84.0"
      ]
     },
     "execution_count": 183,
     "metadata": {},
     "output_type": "execute_result"
    }
   ],
   "source": [
    "np.mean(arr)"
   ]
  },
  {
   "cell_type": "code",
   "execution_count": 184,
   "id": "5ab7e809-449c-43d0-b18f-cd35f89f9b1d",
   "metadata": {},
   "outputs": [
    {
     "data": {
      "text/plain": [
       "100.0"
      ]
     },
     "execution_count": 184,
     "metadata": {},
     "output_type": "execute_result"
    }
   ],
   "source": [
    "np.median(arr)"
   ]
  },
  {
   "cell_type": "markdown",
   "id": "d112ac58-2f05-4442-84a5-e56706381c6c",
   "metadata": {},
   "source": [
    "---"
   ]
  },
  {
   "cell_type": "markdown",
   "id": "b4ea21dd-4bed-436a-8858-11ae4ae19467",
   "metadata": {},
   "source": [
    "# 4. Tabelas"
   ]
  },
  {
   "cell_type": "markdown",
   "id": "097d117b-0fc7-43f0-8eb2-e58cdf6c16d1",
   "metadata": {},
   "source": [
    "## 4.1 Frequência\n",
    "\n",
    "A distribuição de frequências é um agrupamento de dados em classes, de tal forma que contabilizamos o número de ocorrências em cada classe. O número de ocorrências de uma determinada classe recebe o nome de frequência absoluta. O objetivo é apresentar os dados de uma maneira mais concisa e que nos permita extrair informação sobre seu comportamento. A seguir, apresentamos algumas definições necessárias à construção da distribuição de frequências.\n",
    "\n",
    "**Frequência absoluta (ƒi):** É o número de observações correspondente a cada classe. A frequência absoluta é, geralmente, chamada apenas de frequência.\n",
    "\n",
    "**Frequência relativa (ƒri):** É o quociente entre a frequência absoluta da classe correspondente e a soma das frequências (total observado), isto é, $ \\displaystyle f_{ri}=\\frac{f_i}{\\sum_{j}f_j} $ onde n representa o número total de observações.\n",
    "\n",
    "**Frequência percentual (pi):** É obtida multiplicando a frequência relativa por 100%.\n",
    "\n",
    "**Frequência acumulada:** É o total acumulado (soma) de todas as classes anteriores até a classe atual. Pode ser: frequência acumulada absoluta (Fi), frequência acumulada relativa (Fri), ou frequência acumulada percentual (Pi)."
   ]
  },
  {
   "cell_type": "code",
   "execution_count": 192,
   "id": "a164ade4-a937-40d3-9f90-5ff9c657dbbb",
   "metadata": {},
   "outputs": [
    {
     "data": {
      "text/html": [
       "<div>\n",
       "<style scoped>\n",
       "    .dataframe tbody tr th:only-of-type {\n",
       "        vertical-align: middle;\n",
       "    }\n",
       "\n",
       "    .dataframe tbody tr th {\n",
       "        vertical-align: top;\n",
       "    }\n",
       "\n",
       "    .dataframe thead th {\n",
       "        text-align: right;\n",
       "    }\n",
       "</style>\n",
       "<table border=\"1\" class=\"dataframe\">\n",
       "  <thead>\n",
       "    <tr style=\"text-align: right;\">\n",
       "      <th></th>\n",
       "      <th>PassengerId</th>\n",
       "      <th>Survived</th>\n",
       "      <th>Pclass</th>\n",
       "      <th>Name</th>\n",
       "      <th>Sex</th>\n",
       "      <th>Age</th>\n",
       "      <th>SibSp</th>\n",
       "      <th>Parch</th>\n",
       "      <th>Ticket</th>\n",
       "      <th>Fare</th>\n",
       "      <th>Cabin</th>\n",
       "      <th>Embarked</th>\n",
       "    </tr>\n",
       "  </thead>\n",
       "  <tbody>\n",
       "    <tr>\n",
       "      <th>0</th>\n",
       "      <td>1</td>\n",
       "      <td>0</td>\n",
       "      <td>3</td>\n",
       "      <td>Braund, Mr. Owen Harris</td>\n",
       "      <td>male</td>\n",
       "      <td>22.0</td>\n",
       "      <td>1</td>\n",
       "      <td>0</td>\n",
       "      <td>A/5 21171</td>\n",
       "      <td>7.2500</td>\n",
       "      <td>NaN</td>\n",
       "      <td>S</td>\n",
       "    </tr>\n",
       "    <tr>\n",
       "      <th>1</th>\n",
       "      <td>2</td>\n",
       "      <td>1</td>\n",
       "      <td>1</td>\n",
       "      <td>Cumings, Mrs. John Bradley (Florence Briggs Th...</td>\n",
       "      <td>female</td>\n",
       "      <td>38.0</td>\n",
       "      <td>1</td>\n",
       "      <td>0</td>\n",
       "      <td>PC 17599</td>\n",
       "      <td>71.2833</td>\n",
       "      <td>C85</td>\n",
       "      <td>C</td>\n",
       "    </tr>\n",
       "    <tr>\n",
       "      <th>2</th>\n",
       "      <td>3</td>\n",
       "      <td>1</td>\n",
       "      <td>3</td>\n",
       "      <td>Heikkinen, Miss. Laina</td>\n",
       "      <td>female</td>\n",
       "      <td>26.0</td>\n",
       "      <td>0</td>\n",
       "      <td>0</td>\n",
       "      <td>STON/O2. 3101282</td>\n",
       "      <td>7.9250</td>\n",
       "      <td>NaN</td>\n",
       "      <td>S</td>\n",
       "    </tr>\n",
       "    <tr>\n",
       "      <th>3</th>\n",
       "      <td>4</td>\n",
       "      <td>1</td>\n",
       "      <td>1</td>\n",
       "      <td>Futrelle, Mrs. Jacques Heath (Lily May Peel)</td>\n",
       "      <td>female</td>\n",
       "      <td>35.0</td>\n",
       "      <td>1</td>\n",
       "      <td>0</td>\n",
       "      <td>113803</td>\n",
       "      <td>53.1000</td>\n",
       "      <td>C123</td>\n",
       "      <td>S</td>\n",
       "    </tr>\n",
       "    <tr>\n",
       "      <th>4</th>\n",
       "      <td>5</td>\n",
       "      <td>0</td>\n",
       "      <td>3</td>\n",
       "      <td>Allen, Mr. William Henry</td>\n",
       "      <td>male</td>\n",
       "      <td>35.0</td>\n",
       "      <td>0</td>\n",
       "      <td>0</td>\n",
       "      <td>373450</td>\n",
       "      <td>8.0500</td>\n",
       "      <td>NaN</td>\n",
       "      <td>S</td>\n",
       "    </tr>\n",
       "  </tbody>\n",
       "</table>\n",
       "</div>"
      ],
      "text/plain": [
       "   PassengerId  Survived  Pclass  \\\n",
       "0            1         0       3   \n",
       "1            2         1       1   \n",
       "2            3         1       3   \n",
       "3            4         1       1   \n",
       "4            5         0       3   \n",
       "\n",
       "                                                Name     Sex   Age  SibSp  \\\n",
       "0                            Braund, Mr. Owen Harris    male  22.0      1   \n",
       "1  Cumings, Mrs. John Bradley (Florence Briggs Th...  female  38.0      1   \n",
       "2                             Heikkinen, Miss. Laina  female  26.0      0   \n",
       "3       Futrelle, Mrs. Jacques Heath (Lily May Peel)  female  35.0      1   \n",
       "4                           Allen, Mr. William Henry    male  35.0      0   \n",
       "\n",
       "   Parch            Ticket     Fare Cabin Embarked  \n",
       "0      0         A/5 21171   7.2500   NaN        S  \n",
       "1      0          PC 17599  71.2833   C85        C  \n",
       "2      0  STON/O2. 3101282   7.9250   NaN        S  \n",
       "3      0            113803  53.1000  C123        S  \n",
       "4      0            373450   8.0500   NaN        S  "
      ]
     },
     "execution_count": 192,
     "metadata": {},
     "output_type": "execute_result"
    }
   ],
   "source": [
    "df.head()"
   ]
  },
  {
   "cell_type": "code",
   "execution_count": 194,
   "id": "58f0fa62-336e-4023-a352-f73f816eef9f",
   "metadata": {},
   "outputs": [],
   "source": [
    "tab = pd.crosstab(index=df.Survived, columns=\"count\")"
   ]
  },
  {
   "cell_type": "code",
   "execution_count": 199,
   "id": "1fcee739-c2a2-441a-a2f1-6f23d4c9b42d",
   "metadata": {},
   "outputs": [
    {
     "data": {
      "text/html": [
       "<div>\n",
       "<style scoped>\n",
       "    .dataframe tbody tr th:only-of-type {\n",
       "        vertical-align: middle;\n",
       "    }\n",
       "\n",
       "    .dataframe tbody tr th {\n",
       "        vertical-align: top;\n",
       "    }\n",
       "\n",
       "    .dataframe thead th {\n",
       "        text-align: right;\n",
       "    }\n",
       "</style>\n",
       "<table border=\"1\" class=\"dataframe\">\n",
       "  <thead>\n",
       "    <tr style=\"text-align: right;\">\n",
       "      <th>col_0</th>\n",
       "      <th>count</th>\n",
       "    </tr>\n",
       "    <tr>\n",
       "      <th>Survived</th>\n",
       "      <th></th>\n",
       "    </tr>\n",
       "  </thead>\n",
       "  <tbody>\n",
       "    <tr>\n",
       "      <th>0</th>\n",
       "      <td>549</td>\n",
       "    </tr>\n",
       "    <tr>\n",
       "      <th>1</th>\n",
       "      <td>342</td>\n",
       "    </tr>\n",
       "  </tbody>\n",
       "</table>\n",
       "</div>"
      ],
      "text/plain": [
       "col_0     count\n",
       "Survived       \n",
       "0           549\n",
       "1           342"
      ]
     },
     "execution_count": 199,
     "metadata": {},
     "output_type": "execute_result"
    }
   ],
   "source": [
    "tab"
   ]
  },
  {
   "cell_type": "code",
   "execution_count": 198,
   "id": "6f954a8f-197b-40bd-84ab-5edd98c05292",
   "metadata": {},
   "outputs": [
    {
     "data": {
      "text/html": [
       "<div>\n",
       "<style scoped>\n",
       "    .dataframe tbody tr th:only-of-type {\n",
       "        vertical-align: middle;\n",
       "    }\n",
       "\n",
       "    .dataframe tbody tr th {\n",
       "        vertical-align: top;\n",
       "    }\n",
       "\n",
       "    .dataframe thead th {\n",
       "        text-align: right;\n",
       "    }\n",
       "</style>\n",
       "<table border=\"1\" class=\"dataframe\">\n",
       "  <thead>\n",
       "    <tr style=\"text-align: right;\">\n",
       "      <th>col_0</th>\n",
       "      <th>count</th>\n",
       "    </tr>\n",
       "    <tr>\n",
       "      <th>Survived</th>\n",
       "      <th></th>\n",
       "    </tr>\n",
       "  </thead>\n",
       "  <tbody>\n",
       "    <tr>\n",
       "      <th>0</th>\n",
       "      <td>0.616162</td>\n",
       "    </tr>\n",
       "    <tr>\n",
       "      <th>1</th>\n",
       "      <td>0.383838</td>\n",
       "    </tr>\n",
       "  </tbody>\n",
       "</table>\n",
       "</div>"
      ],
      "text/plain": [
       "col_0        count\n",
       "Survived          \n",
       "0         0.616162\n",
       "1         0.383838"
      ]
     },
     "execution_count": 198,
     "metadata": {},
     "output_type": "execute_result"
    }
   ],
   "source": [
    "tab / tab.sum()"
   ]
  },
  {
   "cell_type": "code",
   "execution_count": 201,
   "id": "4ce29d99-5a7c-4e31-a3ca-0a6e769073f8",
   "metadata": {},
   "outputs": [
    {
     "data": {
      "text/html": [
       "<div>\n",
       "<style scoped>\n",
       "    .dataframe tbody tr th:only-of-type {\n",
       "        vertical-align: middle;\n",
       "    }\n",
       "\n",
       "    .dataframe tbody tr th {\n",
       "        vertical-align: top;\n",
       "    }\n",
       "\n",
       "    .dataframe thead th {\n",
       "        text-align: right;\n",
       "    }\n",
       "</style>\n",
       "<table border=\"1\" class=\"dataframe\">\n",
       "  <thead>\n",
       "    <tr style=\"text-align: right;\">\n",
       "      <th>col_0</th>\n",
       "      <th>count</th>\n",
       "    </tr>\n",
       "    <tr>\n",
       "      <th>Survived</th>\n",
       "      <th></th>\n",
       "    </tr>\n",
       "  </thead>\n",
       "  <tbody>\n",
       "    <tr>\n",
       "      <th>0</th>\n",
       "      <td>61.616162</td>\n",
       "    </tr>\n",
       "    <tr>\n",
       "      <th>1</th>\n",
       "      <td>38.383838</td>\n",
       "    </tr>\n",
       "  </tbody>\n",
       "</table>\n",
       "</div>"
      ],
      "text/plain": [
       "col_0         count\n",
       "Survived           \n",
       "0         61.616162\n",
       "1         38.383838"
      ]
     },
     "execution_count": 201,
     "metadata": {},
     "output_type": "execute_result"
    }
   ],
   "source": [
    "tab / tab.sum() * 100"
   ]
  },
  {
   "cell_type": "markdown",
   "id": "7e0457bf-b3cf-491c-94e7-a6b8802cd532",
   "metadata": {},
   "source": [
    "## 4.1 Tabelas de Dupla Entrada/Contingência"
   ]
  },
  {
   "cell_type": "code",
   "execution_count": 215,
   "id": "86b2d27d-f8d4-4184-9e98-9444bf7a2cdc",
   "metadata": {},
   "outputs": [],
   "source": [
    "tab2 = pd.crosstab(index=df[\"Survived\"], columns=df[\"Sex\"], margins=True)"
   ]
  },
  {
   "cell_type": "code",
   "execution_count": 216,
   "id": "78806f44-fa77-40d1-8be8-24c289688cf4",
   "metadata": {},
   "outputs": [
    {
     "data": {
      "text/html": [
       "<div>\n",
       "<style scoped>\n",
       "    .dataframe tbody tr th:only-of-type {\n",
       "        vertical-align: middle;\n",
       "    }\n",
       "\n",
       "    .dataframe tbody tr th {\n",
       "        vertical-align: top;\n",
       "    }\n",
       "\n",
       "    .dataframe thead th {\n",
       "        text-align: right;\n",
       "    }\n",
       "</style>\n",
       "<table border=\"1\" class=\"dataframe\">\n",
       "  <thead>\n",
       "    <tr style=\"text-align: right;\">\n",
       "      <th>Sex</th>\n",
       "      <th>female</th>\n",
       "      <th>male</th>\n",
       "      <th>All</th>\n",
       "    </tr>\n",
       "    <tr>\n",
       "      <th>Survived</th>\n",
       "      <th></th>\n",
       "      <th></th>\n",
       "      <th></th>\n",
       "    </tr>\n",
       "  </thead>\n",
       "  <tbody>\n",
       "    <tr>\n",
       "      <th>0</th>\n",
       "      <td>0.257962</td>\n",
       "      <td>0.811092</td>\n",
       "      <td>0.616162</td>\n",
       "    </tr>\n",
       "    <tr>\n",
       "      <th>1</th>\n",
       "      <td>0.742038</td>\n",
       "      <td>0.188908</td>\n",
       "      <td>0.383838</td>\n",
       "    </tr>\n",
       "    <tr>\n",
       "      <th>All</th>\n",
       "      <td>1.000000</td>\n",
       "      <td>1.000000</td>\n",
       "      <td>1.000000</td>\n",
       "    </tr>\n",
       "  </tbody>\n",
       "</table>\n",
       "</div>"
      ],
      "text/plain": [
       "Sex         female      male       All\n",
       "Survived                              \n",
       "0         0.257962  0.811092  0.616162\n",
       "1         0.742038  0.188908  0.383838\n",
       "All       1.000000  1.000000  1.000000"
      ]
     },
     "execution_count": 216,
     "metadata": {},
     "output_type": "execute_result"
    }
   ],
   "source": [
    "tab2 / tab2.loc[\"All\"]"
   ]
  },
  {
   "cell_type": "code",
   "execution_count": 221,
   "id": "ad2a0345-41cc-4096-acd9-5ce475b33b8d",
   "metadata": {},
   "outputs": [],
   "source": [
    "tab_normalizada = tab / tab.sum()"
   ]
  },
  {
   "cell_type": "code",
   "execution_count": 223,
   "id": "cc6ff955-e5a3-4207-b9a3-311f754a7b1f",
   "metadata": {},
   "outputs": [],
   "source": [
    "t = pd.Series([1, 2, 3, 4, 2, 5, 7, 4, 5, 8])"
   ]
  },
  {
   "cell_type": "code",
   "execution_count": 227,
   "id": "3db526a1-92e7-4e70-b657-64ff94995a45",
   "metadata": {},
   "outputs": [],
   "source": [
    "t_normalizada = t / t.sum()"
   ]
  },
  {
   "cell_type": "code",
   "execution_count": 230,
   "id": "dbae11cf-5375-440b-98de-eccaef497adb",
   "metadata": {},
   "outputs": [
    {
     "data": {
      "text/plain": [
       "0    0.024390\n",
       "1    0.048780\n",
       "2    0.073171\n",
       "3    0.097561\n",
       "4    0.048780\n",
       "5    0.121951\n",
       "6    0.170732\n",
       "7    0.097561\n",
       "8    0.121951\n",
       "9    0.195122\n",
       "dtype: float64"
      ]
     },
     "execution_count": 230,
     "metadata": {},
     "output_type": "execute_result"
    }
   ],
   "source": [
    "t_normalizada"
   ]
  },
  {
   "cell_type": "code",
   "execution_count": 228,
   "id": "230dd22b-83b7-4fc7-a5fa-37ed55e5e7b2",
   "metadata": {},
   "outputs": [
    {
     "data": {
      "text/plain": [
       "0    0.024390\n",
       "1    0.073171\n",
       "2    0.146341\n",
       "3    0.243902\n",
       "4    0.292683\n",
       "5    0.414634\n",
       "6    0.585366\n",
       "7    0.682927\n",
       "8    0.804878\n",
       "9    1.000000\n",
       "dtype: float64"
      ]
     },
     "execution_count": 228,
     "metadata": {},
     "output_type": "execute_result"
    }
   ],
   "source": [
    "t_normalizada.cumsum()"
   ]
  },
  {
   "cell_type": "markdown",
   "id": "a9acd0d1-023e-446c-a06f-886354af6fad",
   "metadata": {},
   "source": [
    "---"
   ]
  },
  {
   "cell_type": "markdown",
   "id": "88d5871f-5947-43fc-9318-fe180fec58a8",
   "metadata": {},
   "source": [
    "# 5. Visualização de Dados"
   ]
  },
  {
   "cell_type": "markdown",
   "id": "cf037644-7bf6-4023-afa9-97e45d484d48",
   "metadata": {},
   "source": [
    "## 5.1 Histogramas"
   ]
  },
  {
   "cell_type": "code",
   "execution_count": 255,
   "id": "79d0cb71-8a4d-46b7-84a1-27c2fa71527b",
   "metadata": {},
   "outputs": [
    {
     "data": {
      "text/plain": [
       "<AxesSubplot:xlabel='Age', ylabel='Count'>"
      ]
     },
     "execution_count": 255,
     "metadata": {},
     "output_type": "execute_result"
    },
    {
     "data": {
      "image/png": "[encoded data removed]",
      "text/plain": [
       "<Figure size 432x288 with 1 Axes>"
      ]
     },
     "metadata": {
      "needs_background": "light"
     },
     "output_type": "display_data"
    }
   ],
   "source": [
    "sns.histplot(df.Age, stat=\"count\")"
   ]
  },
  {
   "cell_type": "code",
   "execution_count": 262,
   "id": "91b4289e-6d58-48fa-a8c6-577a014a2ba6",
   "metadata": {},
   "outputs": [
    {
     "data": {
      "text/plain": [
       "<AxesSubplot:xlabel='Age', ylabel='Probability'>"
      ]
     },
     "execution_count": 262,
     "metadata": {},
     "output_type": "execute_result"
    },
    {
     "data": {
      "image/png": "[encoded data removed]",
      "text/plain": [
       "<Figure size 432x288 with 1 Axes>"
      ]
     },
     "metadata": {
      "needs_background": "light"
     },
     "output_type": "display_data"
    }
   ],
   "source": [
    "sns.histplot(df.Age, stat=\"probability\", bins=8)"
   ]
  },
  {
   "cell_type": "code",
   "execution_count": 241,
   "id": "37c23652-1d1b-45c4-a304-308b0ae03c8c",
   "metadata": {},
   "outputs": [
    {
     "data": {
      "image/png": "[encoded data removed]",
      "text/plain": [
       "<Figure size 720x720 with 9 Axes>"
      ]
     },
     "metadata": {
      "needs_background": "light"
     },
     "output_type": "display_data"
    }
   ],
   "source": [
    "df.hist(figsize=(10, 10), bins=15, grid=False);"
   ]
  },
  {
   "cell_type": "markdown",
   "id": "9d7567c3-400a-4c01-aceb-a8d099a70c5a",
   "metadata": {},
   "source": [
    "## 5.2 Boxplot\n",
    "\n",
    "O boxplot (gráfico de caixa) é um gráfico utilizado para avaliar a distribuição empírica do dados. O boxplot é formado pelo primeiro e terceiro quartil e pela mediana. As hastes inferiores e superiores se estendem, respectivamente, do quartil inferior até o menor valor não inferior ao limite inferior e do quartil superior até o maior valor não superior ao limite superior. Os limites são calculados da forma abaixo\n",
    "\n",
    "Limite inferior: $ \\max\\{\\min(\\text{dados});Q_1-1,5(Q_3-Q_1)\\} $.\n",
    "\n",
    "Limite superior: $ \\min\\{\\max(\\text{dados});Q_3+1,5(Q_3-Q_1)\\} $.\n",
    "\n",
    "Para este caso, os pontos fora destes limites são considerados valores discrepantes (outliers) e são denotados por asterisco (*). A Figura  a seguir apresenta um exemplo do formato de um boxplot.\n",
    "\n",
    "![boxplot](misc/Elements_of_a_boxplot_pt.svg)\n",
    "\n",
    "O boxplot pode ainda ser utilizado para uma comparação visual entre dois ou mais grupos. Por exemplo, duas ou mais caixas são colocadas lado a lado e se compara a variabilidade entre elas, a mediana e assim por diante. Outro ponto importante é a diferença entre os quartis $ (Q_3 - Q_1) $ que é uma medida da variabilidade dos dados."
   ]
  },
  {
   "cell_type": "code",
   "execution_count": 292,
   "id": "1b16548b-1777-48b1-9cf4-be5f8987a7fb",
   "metadata": {},
   "outputs": [
    {
     "data": {
      "text/plain": [
       "Text(0, 0.5, 'Idade')"
      ]
     },
     "execution_count": 292,
     "metadata": {},
     "output_type": "execute_result"
    },
    {
     "data": {
      "image/png": "[encoded data removed]",
      "text/plain": [
       "<Figure size 216x576 with 1 Axes>"
      ]
     },
     "metadata": {
      "needs_background": "light"
     },
     "output_type": "display_data"
    }
   ],
   "source": [
    "fig, ax = plt.subplots(figsize=(3, 8))\n",
    "\n",
    "sns.boxplot(data=df.Age, ax=ax)\n",
    "\n",
    "ax.set_ylabel(\"Idade\")"
   ]
  },
  {
   "cell_type": "code",
   "execution_count": 296,
   "id": "eb10afd0-029c-425c-8757-56ab60051626",
   "metadata": {},
   "outputs": [
    {
     "data": {
      "text/plain": [
       "<AxesSubplot:xlabel='Sex', ylabel='Age'>"
      ]
     },
     "execution_count": 296,
     "metadata": {},
     "output_type": "execute_result"
    },
    {
     "data": {
      "image/png": "[encoded data removed]",
      "text/plain": [
       "<Figure size 720x432 with 1 Axes>"
      ]
     },
     "metadata": {
      "needs_background": "light"
     },
     "output_type": "display_data"
    }
   ],
   "source": [
    "fig, ax = plt.subplots(figsize=(10, 6))\n",
    "\n",
    "sns.violinplot(x=\"Sex\", y=\"Age\", hue=\"Survived\", data=df, palette=\"muted\", split=True, ax=ax)"
   ]
  },
  {
   "cell_type": "markdown",
   "id": "b4a30e79-299a-467d-9abd-c1d8ea359da1",
   "metadata": {},
   "source": [
    "---"
   ]
  },
  {
   "cell_type": "code",
   "execution_count": null,
   "id": "416edbf6-e8a2-4fcd-9c5c-38cc54e223db",
   "metadata": {},
   "outputs": [],
   "source": []
  }
 ],
 "metadata": {
  "kernelspec": {
   "display_name": "Python 3",
   "language": "python",
   "name": "python3"
  },
  "language_info": {
   "codemirror_mode": {
    "name": "ipython",
    "version": 3
   },
   "file_extension": ".py",
   "mimetype": "text/x-python",
   "name": "python",
   "nbconvert_exporter": "python",
   "pygments_lexer": "ipython3",
   "version": "3.8.8"
  }
 },
 "nbformat": 4,
 "nbformat_minor": 5
}
