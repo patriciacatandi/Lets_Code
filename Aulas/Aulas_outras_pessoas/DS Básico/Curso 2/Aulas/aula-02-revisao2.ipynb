{
 "cells": [
  {
   "cell_type": "markdown",
   "id": "c8812622-d080-404f-b893-627b8ce6fde4",
   "metadata": {},
   "source": [
    "# Stone V4 - Data Science"
   ]
  },
  {
   "cell_type": "markdown",
   "id": "cc6218d5-98cb-4094-98db-ace40511da69",
   "metadata": {},
   "source": [
    "---"
   ]
  },
  {
   "cell_type": "markdown",
   "id": "03f948e0-a5dd-4681-87cd-093bccbb22f7",
   "metadata": {},
   "source": [
    "**Data:** 31/08/2021 \\\n",
    "**Prof.:** Gabriel R. Freitas \\\n",
    "**E-mail:** gab.ribeiro.freitas@gmail.com\\\n",
    "**LinkedIn:** www.linkedin.com/in/grfreitas/"
   ]
  },
  {
   "cell_type": "markdown",
   "id": "d9cf653d-0ce4-436c-96cb-cab32211bec1",
   "metadata": {},
   "source": [
    "## Aula 2 - Revisão de Python"
   ]
  },
  {
   "cell_type": "markdown",
   "id": "55485fa3-afb3-4225-af7e-4b7e1fb74622",
   "metadata": {},
   "source": [
    "---"
   ]
  },
  {
   "cell_type": "markdown",
   "id": "4259804e-827e-483f-8abe-806c457a9a90",
   "metadata": {},
   "source": [
    "# Orientação a Objetos"
   ]
  },
  {
   "cell_type": "markdown",
   "id": "6f092677-4dbd-4b86-be7d-d8dda4ddc202",
   "metadata": {},
   "source": [
    "## Classes"
   ]
  },
  {
   "cell_type": "markdown",
   "id": "09d48222-6432-4cf0-8148-2a346ed1519e",
   "metadata": {},
   "source": [
    "#### Ideia Básica"
   ]
  },
  {
   "cell_type": "code",
   "execution_count": 24,
   "id": "94adada5-d849-45ea-9ce4-368c2111e1e4",
   "metadata": {},
   "outputs": [],
   "source": [
    "# Assistir a aula para entender a linha de raciocínio!\n",
    "class Aluno(nome, notas):\n",
    "\n",
    "    nome = \"Gabriel\"\n",
    "    notas = [10, 9, 8]\n",
    "\n",
    "    def calcula_media(self, lista):\n",
    "        return sum(lista) / len(lista)"
   ]
  },
  {
   "cell_type": "code",
   "execution_count": 29,
   "id": "2de66378-00a0-4549-b9ac-36d664645e17",
   "metadata": {},
   "outputs": [],
   "source": [
    "aluno = Aluno()"
   ]
  },
  {
   "cell_type": "code",
   "execution_count": 30,
   "id": "f758d8e1-8c78-432f-91c1-a2bbd3895883",
   "metadata": {},
   "outputs": [
    {
     "data": {
      "text/plain": [
       "'Gabriel'"
      ]
     },
     "execution_count": 30,
     "metadata": {},
     "output_type": "execute_result"
    }
   ],
   "source": [
    "aluno.nome"
   ]
  },
  {
   "cell_type": "code",
   "execution_count": 33,
   "id": "d239ab15-10f3-4e47-98d9-65dba285f00b",
   "metadata": {},
   "outputs": [
    {
     "data": {
      "text/plain": [
       "[10, 9, 8]"
      ]
     },
     "execution_count": 33,
     "metadata": {},
     "output_type": "execute_result"
    }
   ],
   "source": [
    "aluno.notas"
   ]
  },
  {
   "cell_type": "code",
   "execution_count": 32,
   "id": "5670ae44-1b7f-42ad-b724-80568d7474cd",
   "metadata": {},
   "outputs": [
    {
     "data": {
      "text/plain": [
       "2.0"
      ]
     },
     "execution_count": 32,
     "metadata": {},
     "output_type": "execute_result"
    }
   ],
   "source": [
    "aluno.calcula_media([1, 2, 3])"
   ]
  },
  {
   "cell_type": "markdown",
   "id": "83894889-670c-4a4d-9179-7bea972975a1",
   "metadata": {},
   "source": [
    "---\n",
    "### Exemplo de Aluno"
   ]
  },
  {
   "cell_type": "code",
   "execution_count": 128,
   "id": "59845a29-8f20-44ec-8353-69073634b703",
   "metadata": {},
   "outputs": [],
   "source": [
    "class Aluno:\n",
    "\n",
    "    def __init__(self, nome, notas):\n",
    "        self.nome = nome\n",
    "        self.notas = notas\n",
    "        self.calcula_media()\n",
    "        self.calcula_conceito()\n",
    "\n",
    "    def calcula_media(self):\n",
    "        self.media = sum(self.notas) / len(self.notas)\n",
    "\n",
    "    def calcula_conceito(self):\n",
    "        if self.media >= 9:\n",
    "            self.conceito = \"A\"\n",
    "        elif self.media >= 7:\n",
    "            self.conceito = \"B\"\n",
    "        elif self.media >= 5:\n",
    "            self.conceito = \"C\"\n",
    "        else:\n",
    "            self.conceito = \"D\""
   ]
  },
  {
   "cell_type": "code",
   "execution_count": 129,
   "id": "1c7d4535-eaa8-4f38-aeee-d905d39d067d",
   "metadata": {},
   "outputs": [],
   "source": [
    "leonardo = Aluno(nome=\"Leonardo\", notas=[10, 8, 9.5])"
   ]
  },
  {
   "cell_type": "code",
   "execution_count": 134,
   "id": "a2c1c39c-a04b-4393-ab06-82a83ea97d14",
   "metadata": {},
   "outputs": [],
   "source": [
    "anna = Aluno(nome=\"anna\", notas=[10, 9, 9])"
   ]
  },
  {
   "cell_type": "markdown",
   "id": "a0f5cebb-21f4-4b7a-8b8a-8ee88c2af52e",
   "metadata": {},
   "source": [
    "---\n",
    "#### Exercício - Construir um dicionário de objetos Aluno a partir de listas de nomes e notas"
   ]
  },
  {
   "cell_type": "code",
   "execution_count": 253,
   "id": "3e02d0c7-9f9b-4c96-9a6e-72400e882dca",
   "metadata": {},
   "outputs": [],
   "source": [
    "nomes = [\n",
    "    \"aline\",\n",
    "    \"andria\",\n",
    "    \"anna\",\n",
    "    \"juliana\",\n",
    "    \"pedro\",\n",
    "    \"leonardo\"\n",
    "]\n",
    "\n",
    "notas = [\n",
    "    [7, 8, 10],\n",
    "    [10, 8, 9],\n",
    "    [9, 8, 6],\n",
    "    [5, 9, 10],\n",
    "    [2, 10, 10],\n",
    "    [9, 8, 10],\n",
    "]"
   ]
  },
  {
   "cell_type": "code",
   "execution_count": 266,
   "id": "dc42ab20-802f-4dea-b0a7-0b02a1edfc99",
   "metadata": {},
   "outputs": [],
   "source": [
    "# Inicialização de um novo dicionário\n",
    "dic_de_alunos = {}\n",
    "\n",
    "# Iteração dentro do comprimento das listas\n",
    "for i in range(len(notas)):\n",
    "\n",
    "    # Captura do valor referente ao índice\n",
    "    nome = nomes[i]\n",
    "    nota = notas[i]\n",
    "\n",
    "    # Criação de nova chave no dicionário\n",
    "    # Chave = nome | Valor = objeto Aluno\n",
    "    dic_de_alunos[nome] = Aluno(nome=nome, notas=nota)"
   ]
  },
  {
   "cell_type": "code",
   "execution_count": 272,
   "id": "cd7c9071-935e-44cf-9e03-4cdac1c289a7",
   "metadata": {},
   "outputs": [
    {
     "name": "stdout",
     "output_type": "stream",
     "text": [
      "B\n"
     ]
    }
   ],
   "source": [
    "aline = dic_de_alunos[\"aline\"]\n",
    "print(aline.conceito)"
   ]
  },
  {
   "cell_type": "code",
   "execution_count": 251,
   "id": "ea612372-d7e1-49cd-91c8-9a88d9330253",
   "metadata": {},
   "outputs": [
    {
     "data": {
      "text/plain": [
       "7.333333333333333"
      ]
     },
     "execution_count": 251,
     "metadata": {},
     "output_type": "execute_result"
    }
   ],
   "source": [
    "dic_de_alunos[\"pedro\"].media"
   ]
  },
  {
   "cell_type": "code",
   "execution_count": 252,
   "id": "00608f26-1734-4a47-9e95-d019255d92d4",
   "metadata": {},
   "outputs": [
    {
     "data": {
      "text/plain": [
       "'B'"
      ]
     },
     "execution_count": 252,
     "metadata": {},
     "output_type": "execute_result"
    }
   ],
   "source": [
    "dic_de_alunos[\"pedro\"].conceito"
   ]
  },
  {
   "cell_type": "code",
   "execution_count": 246,
   "id": "c8524a6d-7c27-40be-8274-e37ecb526869",
   "metadata": {},
   "outputs": [
    {
     "data": {
      "text/plain": [
       "[2, 10, 10]"
      ]
     },
     "execution_count": 246,
     "metadata": {},
     "output_type": "execute_result"
    }
   ],
   "source": [
    "dic_de_alunos[\"pedro\"]"
   ]
  },
  {
   "cell_type": "markdown",
   "id": "92eb2797-f85b-47bc-b227-37c1935411d8",
   "metadata": {},
   "source": [
    "---"
   ]
  },
  {
   "cell_type": "code",
   "execution_count": null,
   "id": "4e406deb-2c27-4432-bf5e-7594ab81a2a8",
   "metadata": {},
   "outputs": [],
   "source": [
    "# Sintaxe 1\n",
    "class Bola:\n",
    "\n",
    "# Sintaxe 2\n",
    "class Bola(object):"
   ]
  },
  {
   "cell_type": "markdown",
   "id": "679f985e-8d50-452d-8780-594a9f07f902",
   "metadata": {},
   "source": [
    "### Exercício Classe Bola\n",
    "\n",
    "Construa uma classe Bola cujos atributos são raio e cor.\n",
    "Crie métodos para exibir o objeto (raio e cor), para calcular a área (obs. a área da esfera é 4*pi*r*r/3) e\n",
    "para calcular o volume (obs. o volume de uma esfera é 4*pi*r**3)."
   ]
  },
  {
   "cell_type": "code",
   "execution_count": 22,
   "id": "164986d1-6e78-4ae0-8b14-e0a145e24946",
   "metadata": {},
   "outputs": [],
   "source": [
    "import math"
   ]
  },
  {
   "cell_type": "code",
   "execution_count": 59,
   "id": "3952e184-033a-439c-8c49-96c80087871b",
   "metadata": {},
   "outputs": [
    {
     "name": "stdout",
     "output_type": "stream",
     "text": [
      "Bola vermelha de raio 5.\n"
     ]
    }
   ],
   "source": [
    "print(\"Bola vermelha de raio 5.\")"
   ]
  },
  {
   "cell_type": "code",
   "execution_count": 63,
   "id": "cd9a227c-db1f-4ad8-8e1d-de8c0386d4e6",
   "metadata": {},
   "outputs": [],
   "source": [
    "pi = math.pi\n",
    "\n",
    "class Bola(object):\n",
    "\n",
    "    def __init__(self, raio, cor):\n",
    "        self.raio = raio\n",
    "        self.cor = cor\n",
    "\n",
    "    def __repr__(self):\n",
    "        return f\"Bola {self.cor} de raio {self.raio}\"\n",
    "\n",
    "    def volume(self):\n",
    "        return 4 / 3 * pi * self.raio ** 3\n",
    "\n",
    "    def area(self):\n",
    "        return 4 * pi * self.raio ** 2"
   ]
  },
  {
   "cell_type": "code",
   "execution_count": 64,
   "id": "282777f8-193d-41f3-bd8d-66f182a9426d",
   "metadata": {},
   "outputs": [],
   "source": [
    "bola2 = Bola(10, \"azul\")"
   ]
  },
  {
   "cell_type": "code",
   "execution_count": 65,
   "id": "3501aaf6-bbb2-46a1-80c1-cf8ed151a016",
   "metadata": {},
   "outputs": [
    {
     "name": "stdout",
     "output_type": "stream",
     "text": [
      "Bola azul de raio 10\n"
     ]
    }
   ],
   "source": [
    "print(bola2)"
   ]
  },
  {
   "cell_type": "code",
   "execution_count": 38,
   "id": "9cec2874-0d9a-4ee4-8b65-7fadcc9ae27a",
   "metadata": {},
   "outputs": [
    {
     "data": {
      "text/plain": [
       "'azul'"
      ]
     },
     "execution_count": 38,
     "metadata": {},
     "output_type": "execute_result"
    }
   ],
   "source": [
    "bola2.cor"
   ]
  },
  {
   "cell_type": "code",
   "execution_count": 39,
   "id": "3942ce19-e6fb-4114-ba3e-ac3fae2e1a66",
   "metadata": {},
   "outputs": [
    {
     "data": {
      "text/plain": [
       "10"
      ]
     },
     "execution_count": 39,
     "metadata": {},
     "output_type": "execute_result"
    }
   ],
   "source": [
    "bola2.raio"
   ]
  },
  {
   "cell_type": "code",
   "execution_count": 40,
   "id": "e8d1d9dd-afc7-4537-ae8f-d130fb5dc59e",
   "metadata": {},
   "outputs": [
    {
     "data": {
      "text/plain": [
       "4188.790204786391"
      ]
     },
     "execution_count": 40,
     "metadata": {},
     "output_type": "execute_result"
    }
   ],
   "source": [
    "bola2.volume()"
   ]
  },
  {
   "cell_type": "code",
   "execution_count": 41,
   "id": "383448c6-e777-46ab-8b3b-a8da70186b24",
   "metadata": {},
   "outputs": [
    {
     "data": {
      "text/plain": [
       "1256.6370614359173"
      ]
     },
     "execution_count": 41,
     "metadata": {},
     "output_type": "execute_result"
    }
   ],
   "source": [
    "bola2.area()"
   ]
  },
  {
   "cell_type": "markdown",
   "id": "2e41049f-1d6b-4966-a70c-63e018924174",
   "metadata": {},
   "source": [
    "---"
   ]
  },
  {
   "cell_type": "markdown",
   "id": "69173937-1269-4b13-8a58-33899531ae2e",
   "metadata": {},
   "source": [
    "#### Exercício: Classe de Agenda e Contatos\n",
    "\n",
    "Crie uma modelagem de classes para uma Agenda capaz de armazenar contatos. Através dessa Agenda é possível incluir, remover, buscar e listar contatos.\n",
    "\n",
    "Contatos: nome, telefone"
   ]
  },
  {
   "cell_type": "code",
   "execution_count": 80,
   "id": "17ac2480-3ea7-4e8f-8048-d8d71f79306e",
   "metadata": {},
   "outputs": [],
   "source": [
    "# class Contato\n",
    "# class Agenda"
   ]
  },
  {
   "cell_type": "code",
   "execution_count": 301,
   "id": "78d96c3d-8069-43d1-8c58-8abf2170b956",
   "metadata": {},
   "outputs": [],
   "source": [
    "class Contato:\n",
    "    \n",
    "    def __init__(self, nome, telefone, endereco):\n",
    "        self.nome = nome\n",
    "        self.telefone = telefone\n",
    "        self.endereco = endereco\n",
    "\n",
    "    def __repr__(self):\n",
    "        return f\"\"\"\n",
    "        --------------------\n",
    "        Nome: {self.nome}\n",
    "        Telefone: {self.telefone}\n",
    "        Endereço: {self.endereco}\n",
    "        --------------------\n",
    "        \"\"\""
   ]
  },
  {
   "cell_type": "markdown",
   "id": "1c100005-ee46-4851-9ae6-e698bcd7f226",
   "metadata": {},
   "source": [
    "#### Com dicionário"
   ]
  },
  {
   "cell_type": "code",
   "execution_count": 302,
   "id": "c05c93bb-453e-4918-9633-b4628c4aaa89",
   "metadata": {},
   "outputs": [],
   "source": [
    "class Agenda:\n",
    "    \n",
    "    def __init__(self):\n",
    "        self.contatos = {}\n",
    "\n",
    "    def incluir(self, contato):\n",
    "        # dicionario[chave] = valor\n",
    "        self.contatos[contato.nome] = contato.telefone\n",
    "\n",
    "    def remover(self, contato):\n",
    "        # dicionario.pop(chave)\n",
    "        self.contatos.pop(contato.nome)\n",
    "\n",
    "    def busca_telefone(self, nome_que_quero_buscar):\n",
    "        for nome_na_lista in self.contatos.keys():\n",
    "            if nome_na_lista == nome_que_quero_buscar:\n",
    "                telefone = self.contatos[nome_que_quero_buscar]\n",
    "                return telefone\n",
    "\n",
    "    def listar_contatos(self):\n",
    "        print(self.contatos)\n",
    "        \n",
    "    def mandar_sms(self, nome, mensagem):\n",
    "        telefone = self.buscar(nome)\n",
    "        print(mensagem)\n",
    "        print('-' * 40)\n",
    "        print(f\"Mensagem enviada com sucesso para {telefone}!\")"
   ]
  },
  {
   "cell_type": "markdown",
   "id": "44d892aa-cdfa-4f94-9a25-bd9838db5492",
   "metadata": {},
   "source": [
    "#### Com lista"
   ]
  },
  {
   "cell_type": "code",
   "execution_count": 303,
   "id": "9209dfa0-ddfc-4a02-ab47-55c314825c07",
   "metadata": {},
   "outputs": [],
   "source": [
    "class Agenda:\n",
    "    \n",
    "    def __init__(self):\n",
    "        self.contatos = []\n",
    "\n",
    "    def incluir(self, contato):\n",
    "        # lista.append(valor)\n",
    "        self.contatos.append(contato)\n",
    "\n",
    "    def remover(self, contato):\n",
    "        # lista.remove(valor)\n",
    "        self.contatos.remove(contato)\n",
    "\n",
    "    def busca_telefone(self, nome_que_quero_buscar):\n",
    "        for contato in self.contatos:\n",
    "            if contato.nome == nome_que_quero_buscar:\n",
    "                return contato.telefone\n",
    "\n",
    "    def lista_contatos(self):\n",
    "        for contato in self.contatos:\n",
    "            print(contato)\n",
    "        \n",
    "    def mandar_sms(self, nome, mensagem):\n",
    "        telefone = self.buscar(nome)\n",
    "        print(mensagem)\n",
    "        print('-' * 40)\n",
    "        print(f\"Mensagem enviada com sucesso para {telefone}!\")"
   ]
  },
  {
   "cell_type": "markdown",
   "id": "e17cd8a3-b55e-43ee-950f-ee1185d5351c",
   "metadata": {},
   "source": [
    "pra cada nome dentro da minha agenda:\n",
    "   se o nome que estou lendo for igual ao que eu quero, pega o número"
   ]
  },
  {
   "cell_type": "code",
   "execution_count": 304,
   "id": "22f5495e-0c92-4113-bc4a-eb102a808714",
   "metadata": {},
   "outputs": [],
   "source": [
    "# Inicializaçào de um contato\n",
    "contato1 = Contato(nome=\"Gabriel\", telefone=\"123456\", endereco=\"rua numero 0\")\n",
    "contato2 = Contato(nome=\"Juliana\", telefone=\"1232093\", endereco=\"rua numero 1\")\n",
    "contato3 = Contato(nome=\"Anna\", telefone=\"18449\", endereco=\"rua numero 1\")\n",
    "contato4 = Contato(nome=\"Aline\", telefone=\"19023\", endereco=\"rua numero 1\")"
   ]
  },
  {
   "cell_type": "code",
   "execution_count": 305,
   "id": "5e2e5732-ba4b-4c27-8897-7367f6724dd5",
   "metadata": {},
   "outputs": [
    {
     "name": "stdout",
     "output_type": "stream",
     "text": [
      "\n",
      "        --------------------\n",
      "        Nome: Gabriel\n",
      "        Telefone: 123456\n",
      "        Endereço: rua numero 0\n",
      "        --------------------\n",
      "        \n"
     ]
    }
   ],
   "source": [
    "print(contato1)"
   ]
  },
  {
   "cell_type": "code",
   "execution_count": 295,
   "id": "24de0c6d-3454-4f6f-bb16-55d4a0080eb1",
   "metadata": {},
   "outputs": [
    {
     "data": {
      "text/plain": [
       "'Gabriel'"
      ]
     },
     "execution_count": 295,
     "metadata": {},
     "output_type": "execute_result"
    }
   ],
   "source": [
    "contato1.nome"
   ]
  },
  {
   "cell_type": "code",
   "execution_count": 296,
   "id": "1f204aa5-a4e0-43ad-95fc-9be35a6bfbb5",
   "metadata": {},
   "outputs": [],
   "source": [
    "contatos = [contato1, contato2, contato3, contato4]"
   ]
  },
  {
   "cell_type": "code",
   "execution_count": 297,
   "id": "4f6badca-4987-4ab3-aec9-89e7c5b35912",
   "metadata": {},
   "outputs": [],
   "source": [
    "# Inicialização de uma nova agenda\n",
    "agenda = Agenda()"
   ]
  },
  {
   "cell_type": "code",
   "execution_count": 298,
   "id": "f2240844-fe5f-426a-99c3-2374e79e1aef",
   "metadata": {},
   "outputs": [
    {
     "data": {
      "text/plain": [
       "[]"
      ]
     },
     "execution_count": 298,
     "metadata": {},
     "output_type": "execute_result"
    }
   ],
   "source": [
    "agenda.contatos"
   ]
  },
  {
   "cell_type": "code",
   "execution_count": 299,
   "id": "a3155adf-823a-4633-8497-aa30ca064b2a",
   "metadata": {},
   "outputs": [],
   "source": [
    "for contato in contatos:\n",
    "    agenda.incluir(contato)"
   ]
  },
  {
   "cell_type": "code",
   "execution_count": 300,
   "id": "eb7e2af9-5b38-488b-8cfa-60df41e9a462",
   "metadata": {},
   "outputs": [
    {
     "name": "stdout",
     "output_type": "stream",
     "text": [
      "\n",
      "        --------------------\n",
      "        Nome: Gabriel\n",
      "        Telefone: 123456\n",
      "        Endereço: rua numero 0\n",
      "        --------------------\n",
      "        \n",
      "\n",
      "        --------------------\n",
      "        Nome: Juliana\n",
      "        Telefone: 1232093\n",
      "        Endereço: rua numero 1\n",
      "        --------------------\n",
      "        \n",
      "\n",
      "        --------------------\n",
      "        Nome: Anna\n",
      "        Telefone: 18449\n",
      "        Endereço: rua numero 1\n",
      "        --------------------\n",
      "        \n",
      "\n",
      "        --------------------\n",
      "        Nome: Aline\n",
      "        Telefone: 19023\n",
      "        Endereço: rua numero 1\n",
      "        --------------------\n",
      "        \n"
     ]
    }
   ],
   "source": [
    "agenda.lista_contatos()"
   ]
  },
  {
   "cell_type": "code",
   "execution_count": 234,
   "id": "277d51eb-13b0-4e32-8f81-27bd97df04c1",
   "metadata": {},
   "outputs": [],
   "source": [
    "telefone = agenda.buscar(\"Anna\")"
   ]
  },
  {
   "cell_type": "code",
   "execution_count": 154,
   "id": "dd781fa9-30af-4871-96ed-341e3d96c0e5",
   "metadata": {},
   "outputs": [
    {
     "data": {
      "text/plain": [
       "'Gabriel'"
      ]
     },
     "execution_count": 154,
     "metadata": {},
     "output_type": "execute_result"
    }
   ],
   "source": [
    "agenda.contatos[\"Gabriel\"].nome"
   ]
  },
  {
   "cell_type": "code",
   "execution_count": 155,
   "id": "b5cf0946-4e01-41da-b40a-5634371aca7d",
   "metadata": {},
   "outputs": [
    {
     "data": {
      "text/plain": [
       "'123'"
      ]
     },
     "execution_count": 155,
     "metadata": {},
     "output_type": "execute_result"
    }
   ],
   "source": [
    "agenda.contatos[\"Gabriel\"].telefone"
   ]
  },
  {
   "cell_type": "code",
   "execution_count": 153,
   "id": "c9a3b32a-20e9-43ba-93fb-ad928c02299f",
   "metadata": {},
   "outputs": [
    {
     "data": {
      "text/plain": [
       "'rua numero 0'"
      ]
     },
     "execution_count": 153,
     "metadata": {},
     "output_type": "execute_result"
    }
   ],
   "source": [
    "agenda.contatos[\"Gabriel\"].endereco"
   ]
  },
  {
   "cell_type": "markdown",
   "id": "1996c34d-d5ab-400c-b52e-17f5a6047b40",
   "metadata": {},
   "source": [
    "---\n",
    "#### Iteráveis"
   ]
  },
  {
   "cell_type": "code",
   "execution_count": 154,
   "id": "b9abac4b-7eda-4163-b279-1dbd53280ad8",
   "metadata": {},
   "outputs": [],
   "source": [
    "for i in range(5):\n",
    "    x = i"
   ]
  },
  {
   "cell_type": "code",
   "execution_count": 155,
   "id": "94b1e7b5-9f65-43a2-be58-a75a2fcc33c3",
   "metadata": {},
   "outputs": [
    {
     "name": "stdout",
     "output_type": "stream",
     "text": [
      "4\n"
     ]
    }
   ],
   "source": [
    "print(x)"
   ]
  },
  {
   "cell_type": "code",
   "execution_count": 186,
   "id": "cd49465d-0434-44bb-82d2-47292378bb9e",
   "metadata": {},
   "outputs": [],
   "source": [
    "l = [1, 2, 3]"
   ]
  },
  {
   "cell_type": "code",
   "execution_count": 199,
   "id": "fee89209-143b-478f-aed2-4308936d792f",
   "metadata": {},
   "outputs": [],
   "source": [
    "iteravel = [1, 2, 3, 4, 5, 6, 7, 8, 9, 10]"
   ]
  },
  {
   "cell_type": "code",
   "execution_count": 201,
   "id": "0fe2ba75-be0a-4ec1-8973-4ef8382856f2",
   "metadata": {},
   "outputs": [
    {
     "data": {
      "text/plain": [
       "[1, 3, 5, 7, 9]"
      ]
     },
     "execution_count": 201,
     "metadata": {},
     "output_type": "execute_result"
    }
   ],
   "source": [
    "iteravel[0:len(iteravel):2]"
   ]
  },
  {
   "cell_type": "code",
   "execution_count": 202,
   "id": "cbdcd84a-19a0-4a6d-99aa-bf044c7fdbaa",
   "metadata": {},
   "outputs": [
    {
     "data": {
      "text/plain": [
       "[2, 4, 6, 8, 10]"
      ]
     },
     "execution_count": 202,
     "metadata": {},
     "output_type": "execute_result"
    }
   ],
   "source": [
    "iteravel[1:len(iteravel):2]"
   ]
  },
  {
   "cell_type": "markdown",
   "id": "42f452e5-7e6a-4124-8d4d-c9235ea62e11",
   "metadata": {},
   "source": [
    "---\n",
    "#### Criação de Chaves em Dicionários"
   ]
  },
  {
   "cell_type": "code",
   "execution_count": 167,
   "id": "493c6e76-4868-453c-8fb8-72484d23160c",
   "metadata": {},
   "outputs": [],
   "source": [
    "dicionario = {\n",
    "    \"nome\": \"maria\",\n",
    "    \"idade\": 18\n",
    "}"
   ]
  },
  {
   "cell_type": "code",
   "execution_count": 172,
   "id": "a92dcb1c-2c7b-46bc-9847-575aaccc3a74",
   "metadata": {},
   "outputs": [
    {
     "name": "stdout",
     "output_type": "stream",
     "text": [
      "nome\n",
      "idade\n"
     ]
    }
   ],
   "source": [
    "for chave in dicionario.keys():\n",
    "    print(chave)"
   ]
  },
  {
   "cell_type": "code",
   "execution_count": 168,
   "id": "35fdec30-3e8e-4920-8360-ba1a93f5e18e",
   "metadata": {},
   "outputs": [
    {
     "data": {
      "text/plain": [
       "dict_keys(['nome', 'idade'])"
      ]
     },
     "execution_count": 168,
     "metadata": {},
     "output_type": "execute_result"
    }
   ],
   "source": [
    "dicionario.keys()"
   ]
  },
  {
   "cell_type": "code",
   "execution_count": 170,
   "id": "c373750b-4b1f-41be-a894-035c8f6eab02",
   "metadata": {},
   "outputs": [
    {
     "data": {
      "text/plain": [
       "dict_values(['maria', 18])"
      ]
     },
     "execution_count": 170,
     "metadata": {},
     "output_type": "execute_result"
    }
   ],
   "source": [
    "dicionario.values()"
   ]
  },
  {
   "cell_type": "code",
   "execution_count": 171,
   "id": "482997dc-653e-481f-896a-a862c8b8e343",
   "metadata": {},
   "outputs": [
    {
     "data": {
      "text/plain": [
       "dict_items([('nome', 'maria'), ('idade', 18)])"
      ]
     },
     "execution_count": 171,
     "metadata": {},
     "output_type": "execute_result"
    }
   ],
   "source": [
    "dicionario.items()"
   ]
  },
  {
   "cell_type": "code",
   "execution_count": 163,
   "id": "5ad8a0aa-76da-4df6-8426-f4837cfad021",
   "metadata": {},
   "outputs": [
    {
     "data": {
      "text/plain": [
       "'maria'"
      ]
     },
     "execution_count": 163,
     "metadata": {},
     "output_type": "execute_result"
    }
   ],
   "source": [
    "dicionario.pop(\"nome\")"
   ]
  },
  {
   "cell_type": "code",
   "execution_count": 164,
   "id": "90c80903-4fa6-466f-a0e8-5961b37e25de",
   "metadata": {},
   "outputs": [
    {
     "data": {
      "text/plain": [
       "{}"
      ]
     },
     "execution_count": 164,
     "metadata": {},
     "output_type": "execute_result"
    }
   ],
   "source": [
    "dicionario"
   ]
  },
  {
   "cell_type": "code",
   "execution_count": null,
   "id": "3e1e9f81-374b-4652-ae4f-3cc65d1e7d0e",
   "metadata": {},
   "outputs": [],
   "source": []
  },
  {
   "cell_type": "code",
   "execution_count": 107,
   "id": "78903de7-69b2-4ab1-8ea9-8c2440762ee0",
   "metadata": {},
   "outputs": [],
   "source": [
    "dicionario_vazio = {}"
   ]
  },
  {
   "cell_type": "code",
   "execution_count": 109,
   "id": "9a47f894-d013-4087-9bc9-899f9b0dd106",
   "metadata": {},
   "outputs": [],
   "source": [
    "dicionario_vazio[\"juliana\"] = [10, 9, 8]"
   ]
  },
  {
   "cell_type": "code",
   "execution_count": 110,
   "id": "d4234f1e-06ad-4dae-9abd-58a008d6beec",
   "metadata": {},
   "outputs": [
    {
     "data": {
      "text/plain": [
       "{'juliana': [10, 9, 8]}"
      ]
     },
     "execution_count": 110,
     "metadata": {},
     "output_type": "execute_result"
    }
   ],
   "source": [
    "dicionario_vazio"
   ]
  },
  {
   "cell_type": "code",
   "execution_count": 157,
   "id": "024b2128-11bb-484f-b1dd-448e7412b87b",
   "metadata": {},
   "outputs": [
    {
     "data": {
      "text/plain": [
       "[10, 9, 8]"
      ]
     },
     "execution_count": 157,
     "metadata": {},
     "output_type": "execute_result"
    }
   ],
   "source": [
    "dicionario_vazio[\"juliana\"]"
   ]
  },
  {
   "cell_type": "code",
   "execution_count": 158,
   "id": "452d9e30-0915-4b93-8a38-2525a0db275c",
   "metadata": {},
   "outputs": [
    {
     "data": {
      "text/plain": [
       "{'juliana': [10, 9, 8]}"
      ]
     },
     "execution_count": 158,
     "metadata": {},
     "output_type": "execute_result"
    }
   ],
   "source": [
    "dicionario_vazio"
   ]
  },
  {
   "cell_type": "code",
   "execution_count": 159,
   "id": "fb065338-bf8a-435a-ab28-87e5869d31ee",
   "metadata": {},
   "outputs": [
    {
     "data": {
      "text/plain": [
       "[10, 9, 8]"
      ]
     },
     "execution_count": 159,
     "metadata": {},
     "output_type": "execute_result"
    }
   ],
   "source": [
    "dicionario_vazio.pop(\"juliana\")"
   ]
  },
  {
   "cell_type": "code",
   "execution_count": 160,
   "id": "3000ba6f-f457-4196-a966-441361c080a8",
   "metadata": {},
   "outputs": [
    {
     "data": {
      "text/plain": [
       "{}"
      ]
     },
     "execution_count": 160,
     "metadata": {},
     "output_type": "execute_result"
    }
   ],
   "source": [
    "dicionario_vazio"
   ]
  },
  {
   "cell_type": "code",
   "execution_count": null,
   "id": "f8e6c022-c24e-46ba-9053-12bffbcdd409",
   "metadata": {},
   "outputs": [],
   "source": []
  }
 ],
 "metadata": {
  "kernelspec": {
   "display_name": "Python 3",
   "language": "python",
   "name": "python3"
  },
  "language_info": {
   "codemirror_mode": {
    "name": "ipython",
    "version": 3
   },
   "file_extension": ".py",
   "mimetype": "text/x-python",
   "name": "python",
   "nbconvert_exporter": "python",
   "pygments_lexer": "ipython3",
   "version": "3.8.8"
  }
 },
 "nbformat": 4,
 "nbformat_minor": 5
}
