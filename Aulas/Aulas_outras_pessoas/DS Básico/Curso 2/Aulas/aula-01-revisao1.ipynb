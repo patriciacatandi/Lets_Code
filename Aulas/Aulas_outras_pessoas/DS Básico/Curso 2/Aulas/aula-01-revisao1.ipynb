{
 "cells": [
  {
   "cell_type": "markdown",
   "id": "b4ee0903-af4e-46ec-a37f-e5eab44e012e",
   "metadata": {},
   "source": [
    "# Stone V4 - Data Science"
   ]
  },
  {
   "cell_type": "markdown",
   "id": "96abc771-afbd-4a45-b3d6-b165f839edf1",
   "metadata": {},
   "source": [
    "---"
   ]
  },
  {
   "cell_type": "markdown",
   "id": "d42087c8-0ffa-43b3-b046-200d817fe6d2",
   "metadata": {},
   "source": [
    "**Data:** 31/08/2021 \\\n",
    "**Prof.:** Gabriel R. Freitas \\\n",
    "**E-mail:** gab.ribeiro.freitas@gmail.com\\\n",
    "**LinkedIn:** www.linkedin.com/in/grfreitas/"
   ]
  },
  {
   "cell_type": "markdown",
   "id": "f43ad4f5-f70f-474f-ace1-0a859dac6a32",
   "metadata": {},
   "source": [
    "## Aula 1 - Revisão de Python"
   ]
  },
  {
   "cell_type": "markdown",
   "id": "7c30fc1d-3ee7-4441-8ac2-10f561af7d45",
   "metadata": {},
   "source": [
    "---"
   ]
  },
  {
   "cell_type": "code",
   "execution_count": 1,
   "id": "64083620-9659-4ddb-b14c-8ce740f77841",
   "metadata": {},
   "outputs": [
    {
     "name": "stdout",
     "output_type": "stream",
     "text": [
      "Hello World!\n"
     ]
    }
   ],
   "source": [
    "print(\"Hello World!\")"
   ]
  },
  {
   "cell_type": "markdown",
   "id": "3a6d5d15-c8c9-4d75-a5c9-02df5c31e0c6",
   "metadata": {},
   "source": [
    "### Variáveis e Tipos"
   ]
  },
  {
   "cell_type": "code",
   "execution_count": 19,
   "id": "45d6834a-79f3-4817-b542-2726f36eb6b5",
   "metadata": {},
   "outputs": [
    {
     "data": {
      "text/plain": [
       "int"
      ]
     },
     "execution_count": 19,
     "metadata": {},
     "output_type": "execute_result"
    }
   ],
   "source": [
    "x = -4\n",
    "type(x)"
   ]
  },
  {
   "cell_type": "code",
   "execution_count": 22,
   "id": "5261f0d5-bea8-470a-a7ce-1d5d4ff914ae",
   "metadata": {},
   "outputs": [
    {
     "data": {
      "text/plain": [
       "float"
      ]
     },
     "execution_count": 22,
     "metadata": {},
     "output_type": "execute_result"
    }
   ],
   "source": [
    "y = -0.5\n",
    "type(y)"
   ]
  },
  {
   "cell_type": "code",
   "execution_count": 24,
   "id": "d83c5cd9-5db4-4202-8b66-8338709a7ae2",
   "metadata": {},
   "outputs": [
    {
     "data": {
      "text/plain": [
       "str"
      ]
     },
     "execution_count": 24,
     "metadata": {},
     "output_type": "execute_result"
    }
   ],
   "source": [
    "frase = \"O valor de x é\"\n",
    "type(frase)"
   ]
  },
  {
   "cell_type": "code",
   "execution_count": 82,
   "id": "5006872e-4763-44a7-87b7-bbd08514a3c2",
   "metadata": {},
   "outputs": [],
   "source": [
    "var = True"
   ]
  },
  {
   "cell_type": "code",
   "execution_count": 83,
   "id": "023f4b6d-9327-4969-a373-828c328d94bf",
   "metadata": {},
   "outputs": [
    {
     "data": {
      "text/plain": [
       "bool"
      ]
     },
     "execution_count": 83,
     "metadata": {},
     "output_type": "execute_result"
    }
   ],
   "source": [
    "type(var)"
   ]
  },
  {
   "cell_type": "markdown",
   "id": "0110f83c-9cd7-4501-94bb-5a47ae611cdb",
   "metadata": {},
   "source": [
    "#### Conversão de Tipos"
   ]
  },
  {
   "cell_type": "code",
   "execution_count": 29,
   "id": "965de84f-f505-4541-844e-eb64c5071510",
   "metadata": {},
   "outputs": [
    {
     "name": "stdout",
     "output_type": "stream",
     "text": [
      "-4\n"
     ]
    }
   ],
   "source": [
    "print(x)"
   ]
  },
  {
   "cell_type": "code",
   "execution_count": 25,
   "id": "909306b2-432f-462f-aa36-427776887815",
   "metadata": {},
   "outputs": [],
   "source": [
    "x_str = str(x)"
   ]
  },
  {
   "cell_type": "code",
   "execution_count": 26,
   "id": "1bcd2f9e-d8ba-4803-8e5d-6fb85d0465d8",
   "metadata": {},
   "outputs": [
    {
     "data": {
      "text/plain": [
       "str"
      ]
     },
     "execution_count": 26,
     "metadata": {},
     "output_type": "execute_result"
    }
   ],
   "source": [
    "type(x_str)"
   ]
  },
  {
   "cell_type": "code",
   "execution_count": 28,
   "id": "d278bc7f-30c4-4373-a007-f7a36681cfab",
   "metadata": {},
   "outputs": [
    {
     "ename": "TypeError",
     "evalue": "can only concatenate str (not \"int\") to str",
     "output_type": "error",
     "traceback": [
      "\u001b[0;31m---------------------------------------------------------------------------\u001b[0m",
      "\u001b[0;31mTypeError\u001b[0m                                 Traceback (most recent call last)",
      "\u001b[0;32m<ipython-input-28-54c368e542c1>\u001b[0m in \u001b[0;36m<module>\u001b[0;34m\u001b[0m\n\u001b[0;32m----> 1\u001b[0;31m \u001b[0;34m\"O valor de x é \"\u001b[0m \u001b[0;34m+\u001b[0m \u001b[0mx\u001b[0m\u001b[0;34m\u001b[0m\u001b[0;34m\u001b[0m\u001b[0m\n\u001b[0m",
      "\u001b[0;31mTypeError\u001b[0m: can only concatenate str (not \"int\") to str"
     ]
    }
   ],
   "source": [
    "\"O valor de x é \" + x"
   ]
  },
  {
   "cell_type": "code",
   "execution_count": 27,
   "id": "42683527-cbc0-48c8-ac90-64818d412cee",
   "metadata": {},
   "outputs": [
    {
     "data": {
      "text/plain": [
       "'O valor de x é -4'"
      ]
     },
     "execution_count": 27,
     "metadata": {},
     "output_type": "execute_result"
    }
   ],
   "source": [
    "\"O valor de x é \" + x_str"
   ]
  },
  {
   "cell_type": "code",
   "execution_count": 32,
   "id": "a7796013-2df2-458a-9263-3ca1302a94dd",
   "metadata": {},
   "outputs": [
    {
     "data": {
      "text/plain": [
       "float"
      ]
     },
     "execution_count": 32,
     "metadata": {},
     "output_type": "execute_result"
    }
   ],
   "source": [
    "x_float = float(x)\n",
    "type(x_float)"
   ]
  },
  {
   "cell_type": "code",
   "execution_count": 33,
   "id": "67bb8b28-77cc-4d68-a258-5051f9add541",
   "metadata": {},
   "outputs": [
    {
     "data": {
      "text/plain": [
       "-4.0"
      ]
     },
     "execution_count": 33,
     "metadata": {},
     "output_type": "execute_result"
    }
   ],
   "source": [
    "x_float"
   ]
  },
  {
   "cell_type": "code",
   "execution_count": 37,
   "id": "c7f4804d-6e86-491a-a9f5-799a25431686",
   "metadata": {},
   "outputs": [
    {
     "ename": "ValueError",
     "evalue": "invalid literal for int() with base 10: '5.0'",
     "output_type": "error",
     "traceback": [
      "\u001b[0;31m---------------------------------------------------------------------------\u001b[0m",
      "\u001b[0;31mValueError\u001b[0m                                Traceback (most recent call last)",
      "\u001b[0;32m<ipython-input-37-e0ba5ecd202e>\u001b[0m in \u001b[0;36m<module>\u001b[0;34m\u001b[0m\n\u001b[0;32m----> 1\u001b[0;31m \u001b[0mint\u001b[0m\u001b[0;34m(\u001b[0m\u001b[0;34m\"5.0\"\u001b[0m\u001b[0;34m)\u001b[0m\u001b[0;34m\u001b[0m\u001b[0;34m\u001b[0m\u001b[0m\n\u001b[0m",
      "\u001b[0;31mValueError\u001b[0m: invalid literal for int() with base 10: '5.0'"
     ]
    }
   ],
   "source": [
    "int(\"5.0\")"
   ]
  },
  {
   "cell_type": "code",
   "execution_count": 39,
   "id": "7d6077e7-be1a-4ae9-b196-230dde44da25",
   "metadata": {},
   "outputs": [
    {
     "data": {
      "text/plain": [
       "5"
      ]
     },
     "execution_count": 39,
     "metadata": {},
     "output_type": "execute_result"
    }
   ],
   "source": [
    "int(float(\"5.0\"))"
   ]
  },
  {
   "cell_type": "markdown",
   "id": "949143dc-5f13-443b-9d07-d0fd3354be6e",
   "metadata": {},
   "source": [
    "---"
   ]
  },
  {
   "cell_type": "markdown",
   "id": "3d1cb642-569b-4b5e-a1ab-ed62825d51ea",
   "metadata": {},
   "source": [
    "#### Exercício: Cálculo de IMC"
   ]
  },
  {
   "cell_type": "markdown",
   "id": "2c1c4a92-4786-4e20-bf2d-e6449ede728f",
   "metadata": {},
   "source": [
    "$IMC = peso / altura ** 2$"
   ]
  },
  {
   "cell_type": "code",
   "execution_count": 108,
   "id": "4dce1415-c764-45d4-b3fd-787e6e96d7c6",
   "metadata": {},
   "outputs": [
    {
     "name": "stdin",
     "output_type": "stream",
     "text": [
      "Qual a sua altura? 1.82\n",
      "Qual o seu peso? 120\n"
     ]
    }
   ],
   "source": [
    "altura = float(input(\"Qual a sua altura?\"))\n",
    "peso = float(input(\"Qual o seu peso?\"))\n",
    "imc = peso / altura ** 2"
   ]
  },
  {
   "cell_type": "code",
   "execution_count": 109,
   "id": "0bd2b5f6-5a4c-4a48-8cf3-48af96b34f0c",
   "metadata": {},
   "outputs": [
    {
     "data": {
      "text/plain": [
       "36.22750875498128"
      ]
     },
     "execution_count": 109,
     "metadata": {},
     "output_type": "execute_result"
    }
   ],
   "source": [
    "imc"
   ]
  },
  {
   "cell_type": "code",
   "execution_count": 67,
   "id": "5914b4e4-66d6-4251-894d-29e362989711",
   "metadata": {},
   "outputs": [],
   "source": [
    "s = f\"O seu IMC é {imc:.2f}\""
   ]
  },
  {
   "cell_type": "code",
   "execution_count": 68,
   "id": "a6b90cb6-a90e-4775-b21e-7d2e1bbf6172",
   "metadata": {},
   "outputs": [
    {
     "name": "stdout",
     "output_type": "stream",
     "text": [
      "O seu IMC é 26.73\n"
     ]
    }
   ],
   "source": [
    "print(s)"
   ]
  },
  {
   "cell_type": "markdown",
   "id": "d4427499-f864-4052-ab19-f1bf8d34c4ff",
   "metadata": {},
   "source": [
    "---"
   ]
  },
  {
   "cell_type": "markdown",
   "id": "c38979a2-97b7-4c32-8f2e-5bd592497372",
   "metadata": {},
   "source": [
    "### Operadores Lógicos"
   ]
  },
  {
   "cell_type": "code",
   "execution_count": 69,
   "id": "54672dea-6c22-412d-b464-f8df0e00498f",
   "metadata": {},
   "outputs": [],
   "source": [
    "numero = 10"
   ]
  },
  {
   "cell_type": "code",
   "execution_count": 73,
   "id": "b7733c2d-79a6-43ab-9682-ff26f9788c9e",
   "metadata": {},
   "outputs": [
    {
     "name": "stdout",
     "output_type": "stream",
     "text": [
      "10\n"
     ]
    }
   ],
   "source": [
    "print(numero)"
   ]
  },
  {
   "cell_type": "code",
   "execution_count": 71,
   "id": "78db059d-9714-4ab9-8b32-3b3ed9e3148e",
   "metadata": {},
   "outputs": [
    {
     "data": {
      "text/plain": [
       "True"
      ]
     },
     "execution_count": 71,
     "metadata": {},
     "output_type": "execute_result"
    }
   ],
   "source": [
    "numero == 10"
   ]
  },
  {
   "cell_type": "code",
   "execution_count": 72,
   "id": "b3a74934-ec1f-4889-a031-911cd582b0d1",
   "metadata": {},
   "outputs": [
    {
     "data": {
      "text/plain": [
       "False"
      ]
     },
     "execution_count": 72,
     "metadata": {},
     "output_type": "execute_result"
    }
   ],
   "source": [
    "numero != 10"
   ]
  },
  {
   "cell_type": "code",
   "execution_count": 74,
   "id": "d49afa66-5f8e-4193-bcc9-81dee3c19a99",
   "metadata": {},
   "outputs": [
    {
     "data": {
      "text/plain": [
       "True"
      ]
     },
     "execution_count": 74,
     "metadata": {},
     "output_type": "execute_result"
    }
   ],
   "source": [
    "numero < 15"
   ]
  },
  {
   "cell_type": "code",
   "execution_count": 75,
   "id": "7ab16239-e9dd-4f85-a70b-dd52b4a441ae",
   "metadata": {},
   "outputs": [
    {
     "data": {
      "text/plain": [
       "False"
      ]
     },
     "execution_count": 75,
     "metadata": {},
     "output_type": "execute_result"
    }
   ],
   "source": [
    "numero > 15"
   ]
  },
  {
   "cell_type": "code",
   "execution_count": 76,
   "id": "f120a3dc-e9a3-412d-838a-5a4c531cbb96",
   "metadata": {},
   "outputs": [
    {
     "data": {
      "text/plain": [
       "True"
      ]
     },
     "execution_count": 76,
     "metadata": {},
     "output_type": "execute_result"
    }
   ],
   "source": [
    "numero <= 11"
   ]
  },
  {
   "cell_type": "code",
   "execution_count": 80,
   "id": "5e2e25bc-96bd-47df-8fac-8dd1406b6a52",
   "metadata": {},
   "outputs": [
    {
     "data": {
      "text/plain": [
       "True"
      ]
     },
     "execution_count": 80,
     "metadata": {},
     "output_type": "execute_result"
    }
   ],
   "source": [
    "numero >= 9"
   ]
  },
  {
   "cell_type": "code",
   "execution_count": 85,
   "id": "ac1e71c3-25f6-47a2-ac35-53e51df0be7e",
   "metadata": {},
   "outputs": [],
   "source": [
    "a = True\n",
    "b = True\n",
    "c = False"
   ]
  },
  {
   "cell_type": "code",
   "execution_count": 86,
   "id": "778f3c63-30f9-4e8c-a02a-fd560920c3a1",
   "metadata": {},
   "outputs": [
    {
     "data": {
      "text/plain": [
       "True"
      ]
     },
     "execution_count": 86,
     "metadata": {},
     "output_type": "execute_result"
    }
   ],
   "source": [
    "a and b"
   ]
  },
  {
   "cell_type": "code",
   "execution_count": 87,
   "id": "28497877-5b5f-4366-ad4b-b1abbbad83c6",
   "metadata": {},
   "outputs": [
    {
     "data": {
      "text/plain": [
       "True"
      ]
     },
     "execution_count": 87,
     "metadata": {},
     "output_type": "execute_result"
    }
   ],
   "source": [
    "a or b"
   ]
  },
  {
   "cell_type": "code",
   "execution_count": 88,
   "id": "4272fff7-4e2a-4763-8b27-869978e98221",
   "metadata": {},
   "outputs": [
    {
     "data": {
      "text/plain": [
       "False"
      ]
     },
     "execution_count": 88,
     "metadata": {},
     "output_type": "execute_result"
    }
   ],
   "source": [
    "a and c"
   ]
  },
  {
   "cell_type": "code",
   "execution_count": 94,
   "id": "19a0ff01-f8c6-4ef4-b121-667ad5d87d2e",
   "metadata": {},
   "outputs": [
    {
     "data": {
      "text/plain": [
       "True"
      ]
     },
     "execution_count": 94,
     "metadata": {},
     "output_type": "execute_result"
    }
   ],
   "source": [
    "a or c"
   ]
  },
  {
   "cell_type": "code",
   "execution_count": 102,
   "id": "ad098117-bb8e-4446-983c-f1954382d40e",
   "metadata": {},
   "outputs": [],
   "source": [
    "igualdade_valor = (10 == 10.0)"
   ]
  },
  {
   "cell_type": "code",
   "execution_count": 105,
   "id": "36d29561-713d-4006-9b10-85793de540cb",
   "metadata": {},
   "outputs": [],
   "source": [
    "igualdade_tipo = (type(10) == type(10.0))"
   ]
  },
  {
   "cell_type": "code",
   "execution_count": 106,
   "id": "7d13a44f-292f-41ac-a01a-72ae98fee101",
   "metadata": {},
   "outputs": [
    {
     "data": {
      "text/plain": [
       "False"
      ]
     },
     "execution_count": 106,
     "metadata": {},
     "output_type": "execute_result"
    }
   ],
   "source": [
    "igualdade_valor and igualdade_tipo"
   ]
  },
  {
   "cell_type": "code",
   "execution_count": 107,
   "id": "2658f758-3433-4555-bebd-59d1ad482fd8",
   "metadata": {},
   "outputs": [
    {
     "data": {
      "text/plain": [
       "True"
      ]
     },
     "execution_count": 107,
     "metadata": {},
     "output_type": "execute_result"
    }
   ],
   "source": [
    "igualdade_valor or igualdade_tipo"
   ]
  },
  {
   "cell_type": "markdown",
   "id": "128a6627-6b6b-4226-b56b-67e9f937187f",
   "metadata": {},
   "source": [
    "## Iteradores"
   ]
  },
  {
   "cell_type": "code",
   "execution_count": 236,
   "id": "4a03a170-b8fc-4467-ba2b-53beda25edde",
   "metadata": {},
   "outputs": [],
   "source": [
    "valores = [10, 2, -10, 0]"
   ]
  },
  {
   "cell_type": "code",
   "execution_count": 237,
   "id": "172ce534-249b-47f7-9069-09824de1a6df",
   "metadata": {},
   "outputs": [
    {
     "name": "stdout",
     "output_type": "stream",
     "text": [
      "11\n",
      "3\n",
      "-9\n",
      "1\n"
     ]
    }
   ],
   "source": [
    "for valor in valores:\n",
    "    print(valor + 1)"
   ]
  },
  {
   "cell_type": "code",
   "execution_count": 251,
   "id": "98449238-d416-4488-81a0-874084a53b2c",
   "metadata": {},
   "outputs": [
    {
     "name": "stdout",
     "output_type": "stream",
     "text": [
      "0\n",
      "2\n",
      "4\n",
      "6\n",
      "8\n",
      "10\n",
      "12\n",
      "14\n",
      "16\n",
      "18\n"
     ]
    }
   ],
   "source": [
    "for numero in list(range(10)):\n",
    "    print(numero * 2)"
   ]
  },
  {
   "cell_type": "code",
   "execution_count": 255,
   "id": "a0b27259-5eb5-4229-84e8-fb311bd73c8e",
   "metadata": {},
   "outputs": [
    {
     "name": "stdout",
     "output_type": "stream",
     "text": [
      "p------\n",
      "y------\n",
      "t------\n",
      "h------\n",
      "o------\n",
      "n------\n"
     ]
    }
   ],
   "source": [
    "for char in \"python\":\n",
    "    print(char + \"------\")"
   ]
  },
  {
   "cell_type": "markdown",
   "id": "c226c190-4cd8-4514-8c85-9719b2cb27e6",
   "metadata": {},
   "source": [
    "# Sem map"
   ]
  },
  {
   "cell_type": "code",
   "execution_count": 314,
   "id": "ec9aa055-3478-48ab-b372-6062e4c4f385",
   "metadata": {},
   "outputs": [
    {
     "name": "stdout",
     "output_type": "stream",
     "text": [
      "['joão', 'andria', 'bárbara']\n"
     ]
    }
   ],
   "source": [
    "nomes_1 = [\"JOão\", \"AnDriA\", \"BáRBarA\"]\n",
    "\n",
    "nomes_minusculos_1 = []\n",
    "\n",
    "for nome in nomes_1:\n",
    "    nomes_minusculos_1.append(nome.lower())\n",
    "\n",
    "print(nomes_minusculos_1)"
   ]
  },
  {
   "cell_type": "markdown",
   "id": "338103ea-524a-47f3-adc9-6a53218a10c8",
   "metadata": {},
   "source": [
    "# Com map"
   ]
  },
  {
   "cell_type": "markdown",
   "id": "e1c4a51f-d3a8-4870-84c5-f2810633b94c",
   "metadata": {},
   "source": [
    "Comentário: map(func, lista)"
   ]
  },
  {
   "cell_type": "markdown",
   "id": "ea33f51b-3a80-403d-85a3-7611bc706067",
   "metadata": {},
   "source": [
    "#### Map com definição de função"
   ]
  },
  {
   "cell_type": "code",
   "execution_count": 2,
   "id": "5080b52a-3afb-42ce-8fea-ba020cf783f9",
   "metadata": {},
   "outputs": [],
   "source": [
    "nomes_2 = [\"JOão\", \"AnDriA\", \"BáRBarA\"]"
   ]
  },
  {
   "cell_type": "code",
   "execution_count": 3,
   "id": "3508f5a8-7cec-454f-bfc7-810d1894a15f",
   "metadata": {},
   "outputs": [
    {
     "data": {
      "text/plain": [
       "['JOão', 'AnDriA', 'BáRBarA']"
      ]
     },
     "execution_count": 3,
     "metadata": {},
     "output_type": "execute_result"
    }
   ],
   "source": [
    "nomes_2"
   ]
  },
  {
   "cell_type": "code",
   "execution_count": 4,
   "id": "a05938ca-a6bc-4a65-94d1-80c27ce286f4",
   "metadata": {},
   "outputs": [
    {
     "name": "stdout",
     "output_type": "stream",
     "text": [
      "['joão', 'andria', 'bárbara']\n"
     ]
    }
   ],
   "source": [
    "def gera_minusculo(nome):\n",
    "    return nome.lower()\n",
    "\n",
    "nomes_minusculos_2 = list(map(gera_minusculo, nomes_2))\n",
    "\n",
    "print(nomes_minusculos_2)"
   ]
  },
  {
   "cell_type": "markdown",
   "id": "3c1a06d2-dba1-4026-8b71-39cbcca871ce",
   "metadata": {},
   "source": [
    "#### Map com lambda"
   ]
  },
  {
   "cell_type": "code",
   "execution_count": 311,
   "id": "4578d0db-007b-4c38-819b-ba68ba4d7c1a",
   "metadata": {},
   "outputs": [],
   "source": [
    "nomes_3 = [\"JOão\", \"AnDriA\", \"BáRBarA\"]\n",
    "\n",
    "nomes_minusculos_3 = list(map(lambda s: s.lower(), nomes_2))\n",
    "\n",
    "print(nomes_minusculos_3)"
   ]
  },
  {
   "cell_type": "markdown",
   "id": "32f7dbda-7bd8-44a3-b78c-00281f855cdc",
   "metadata": {},
   "source": [
    "---"
   ]
  },
  {
   "cell_type": "code",
   "execution_count": 327,
   "id": "92b02e54-8b7a-4b02-965e-d622da2d8ad4",
   "metadata": {},
   "outputs": [],
   "source": [
    "lista_com_numeros = [1, 2, 3, 4, 5]"
   ]
  },
  {
   "cell_type": "code",
   "execution_count": 310,
   "id": "ab5ec65e-be8b-4c1b-a776-896010de6fda",
   "metadata": {},
   "outputs": [
    {
     "data": {
      "text/plain": [
       "[1, 4, 9, 16, 25]"
      ]
     },
     "execution_count": 310,
     "metadata": {},
     "output_type": "execute_result"
    }
   ],
   "source": [
    "list(map(lambda n: n ** 2, lista_com_numeros))"
   ]
  },
  {
   "cell_type": "markdown",
   "id": "05e9f77b-1bfe-4171-bd96-589139232a59",
   "metadata": {},
   "source": [
    "#### Exercício: Multiplicar uma lista por 10 usando map"
   ]
  },
  {
   "cell_type": "code",
   "execution_count": 328,
   "id": "cad5baad-4e7a-4061-9b5b-7212c0aae3ac",
   "metadata": {},
   "outputs": [
    {
     "name": "stdout",
     "output_type": "stream",
     "text": [
      "[1, 2, 3, 4, 5]\n"
     ]
    }
   ],
   "source": [
    "print(lista_com_numeros)"
   ]
  },
  {
   "cell_type": "code",
   "execution_count": 341,
   "id": "28d54998-e9ca-4997-bc8a-42dc5e9f3a3d",
   "metadata": {},
   "outputs": [
    {
     "data": {
      "text/plain": [
       "[10, 20, 30, 40, 50]"
      ]
     },
     "execution_count": 341,
     "metadata": {},
     "output_type": "execute_result"
    }
   ],
   "source": [
    "K = 10\n",
    "list(map(lambda n: n * K, lista_com_numeros))"
   ]
  },
  {
   "cell_type": "markdown",
   "id": "fc378759-88ee-4af2-91f1-66b5dc4f11de",
   "metadata": {},
   "source": [
    "---"
   ]
  },
  {
   "cell_type": "code",
   "execution_count": 265,
   "id": "76fac5af-f6c8-4c40-8956-df894d35480f",
   "metadata": {},
   "outputs": [
    {
     "data": {
      "text/plain": [
       "'PYTHON'"
      ]
     },
     "execution_count": 265,
     "metadata": {},
     "output_type": "execute_result"
    }
   ],
   "source": [
    "\"PyThOn\".upper()"
   ]
  },
  {
   "cell_type": "code",
   "execution_count": 266,
   "id": "08f6d7b4-ae85-452b-bc56-c2f98ffbc86b",
   "metadata": {},
   "outputs": [
    {
     "data": {
      "text/plain": [
       "'python'"
      ]
     },
     "execution_count": 266,
     "metadata": {},
     "output_type": "execute_result"
    }
   ],
   "source": [
    "\"PyThOn\".lower()"
   ]
  },
  {
   "cell_type": "markdown",
   "id": "1d61d586-b7ec-45d4-8ae1-77769576400d",
   "metadata": {},
   "source": [
    "---"
   ]
  },
  {
   "cell_type": "markdown",
   "id": "4ddd604b-63cf-4995-90b6-c623628162be",
   "metadata": {},
   "source": [
    "## Funções "
   ]
  },
  {
   "cell_type": "code",
   "execution_count": 5,
   "id": "931241a8-b31b-4ea8-95c1-09682015b930",
   "metadata": {},
   "outputs": [],
   "source": [
    "import math"
   ]
  },
  {
   "cell_type": "code",
   "execution_count": 6,
   "id": "a641c257-ed05-4066-b171-f8d511862138",
   "metadata": {},
   "outputs": [],
   "source": [
    "def multiplica_por_dois(n):\n",
    "    return n * 2"
   ]
  },
  {
   "cell_type": "code",
   "execution_count": 9,
   "id": "964fce00-55b2-4c14-8f6b-734d118c530a",
   "metadata": {},
   "outputs": [],
   "source": [
    "def func_def(x, y):\n",
    "    return math.sqrt(x ** 2 + y ** 2)"
   ]
  },
  {
   "cell_type": "code",
   "execution_count": 12,
   "id": "63366e07-8232-4242-b749-3c309e10e5ec",
   "metadata": {},
   "outputs": [
    {
     "data": {
      "text/plain": [
       "5.0990195135927845"
      ]
     },
     "execution_count": 12,
     "metadata": {},
     "output_type": "execute_result"
    }
   ],
   "source": [
    "func_def(1, 5)"
   ]
  },
  {
   "cell_type": "code",
   "execution_count": 212,
   "id": "2f8bcc59-2163-4c9a-90b6-265e29d19eaf",
   "metadata": {},
   "outputs": [],
   "source": [
    "func_lambda = lambda x, y: math.sqrt(x ** 2 + y ** 2)"
   ]
  },
  {
   "cell_type": "code",
   "execution_count": 213,
   "id": "116d7621-332e-466f-831d-b16e4b469972",
   "metadata": {},
   "outputs": [
    {
     "data": {
      "text/plain": [
       "2.23606797749979"
      ]
     },
     "execution_count": 213,
     "metadata": {},
     "output_type": "execute_result"
    }
   ],
   "source": [
    "func_lambda(1, 2)"
   ]
  },
  {
   "cell_type": "code",
   "execution_count": 221,
   "id": "602e57e8-eefe-420b-aab6-1cc8bbb0c50c",
   "metadata": {},
   "outputs": [],
   "source": [
    "lista = [10, 4, -3, 2]"
   ]
  },
  {
   "cell_type": "code",
   "execution_count": 224,
   "id": "d9a83c3e-1dda-4873-864f-715cb0b58068",
   "metadata": {},
   "outputs": [],
   "source": [
    "nova_lista = []\n",
    "for idx in range(len(lista)):\n",
    "    nova_lista.append(lista[idx] ** 2)"
   ]
  },
  {
   "cell_type": "code",
   "execution_count": 225,
   "id": "91fcd813-e83c-415f-84b1-6106a0e4af07",
   "metadata": {},
   "outputs": [
    {
     "data": {
      "text/plain": [
       "[100, 16, 9, 4]"
      ]
     },
     "execution_count": 225,
     "metadata": {},
     "output_type": "execute_result"
    }
   ],
   "source": [
    "nova_lista"
   ]
  },
  {
   "cell_type": "code",
   "execution_count": 226,
   "id": "e9e021e6-9a31-4766-be36-cde2b33259be",
   "metadata": {},
   "outputs": [],
   "source": [
    "def calcula_quadrado(n):\n",
    "    return n ** 2"
   ]
  },
  {
   "cell_type": "code",
   "execution_count": 235,
   "id": "3299b105-4ed4-456f-acd8-c9e850f28df8",
   "metadata": {},
   "outputs": [
    {
     "name": "stdout",
     "output_type": "stream",
     "text": [
      "[10, 4, -3, 2]\n"
     ]
    }
   ],
   "source": [
    "print(lista)"
   ]
  },
  {
   "cell_type": "code",
   "execution_count": 233,
   "id": "ac9807db-a030-45b3-ab55-1676b26ca8f7",
   "metadata": {},
   "outputs": [
    {
     "data": {
      "text/plain": [
       "[100, 16, 9, 4]"
      ]
     },
     "execution_count": 233,
     "metadata": {},
     "output_type": "execute_result"
    }
   ],
   "source": [
    "list(map(calcula_quadrado, lista))"
   ]
  },
  {
   "cell_type": "markdown",
   "id": "976a1fca-7457-4007-91e5-4a4416b5ce39",
   "metadata": {},
   "source": [
    "- Operadores Preguiçosos (Lazy): São operações que não realizam o cálculo no momento da execução."
   ]
  },
  {
   "cell_type": "code",
   "execution_count": 13,
   "id": "1f96e7da-2639-4030-b24e-540c7d27f02b",
   "metadata": {},
   "outputs": [],
   "source": [
    "import random"
   ]
  },
  {
   "cell_type": "code",
   "execution_count": 14,
   "id": "d5ef69a0-4760-4a24-aad2-d6ff2ff1e210",
   "metadata": {},
   "outputs": [],
   "source": [
    "def hello_1():\n",
    "\n",
    "    print(\"Hello World!\")"
   ]
  },
  {
   "cell_type": "code",
   "execution_count": 15,
   "id": "abb00cb2-f5d7-4353-8655-494d3617e6ce",
   "metadata": {},
   "outputs": [],
   "source": [
    "def hello_2():\n",
    "\n",
    "    print(\"Hello World!\")\n",
    "\n",
    "    return"
   ]
  },
  {
   "cell_type": "code",
   "execution_count": 16,
   "id": "4933e933-ad6c-4692-a03f-026e4fb092a3",
   "metadata": {},
   "outputs": [],
   "source": [
    "def calcula_quadrado(n):\n",
    "\n",
    "    resultado = n ** 2\n",
    "\n",
    "    return resultado"
   ]
  },
  {
   "cell_type": "code",
   "execution_count": 17,
   "id": "479ee2c8-8f3c-4aba-b221-032cddcd9eb4",
   "metadata": {},
   "outputs": [],
   "source": [
    "import random"
   ]
  },
  {
   "cell_type": "code",
   "execution_count": 18,
   "id": "a505d150-ae08-463c-b04e-dfd8bec3a05f",
   "metadata": {},
   "outputs": [],
   "source": [
    "def media(n1):\n",
    "\n",
    "    n2 = random.randint(0, 100)\n",
    "\n",
    "    print(n1, n2)\n",
    "\n",
    "    calculo = (n1 + n2) / 2\n",
    "\n",
    "    return calculo"
   ]
  },
  {
   "cell_type": "code",
   "execution_count": 19,
   "id": "dd2ba98f-12b6-45d6-bcac-c96295bebdbc",
   "metadata": {},
   "outputs": [],
   "source": [
    "def printa_mensagem(nome):\n",
    "    msg = f\"\"\"\n",
    "    -----------------------------------\n",
    "    Bem vindo ao jogo {nome}!\n",
    "    Gostaria de jogar de novo?\n",
    "    -----------------------------------\n",
    "    \"\"\"\n",
    "    print(msg)"
   ]
  },
  {
   "cell_type": "code",
   "execution_count": 20,
   "id": "ebb9898f-3e67-4ef4-8a17-4d73f47a032e",
   "metadata": {},
   "outputs": [
    {
     "name": "stdout",
     "output_type": "stream",
     "text": [
      "\n",
      "    -----------------------------------\n",
      "    Bem vindo ao jogo Gabriel!\n",
      "    Gostaria de jogar de novo?\n",
      "    -----------------------------------\n",
      "    \n"
     ]
    }
   ],
   "source": [
    "printa_mensagem(\"Gabriel\")"
   ]
  },
  {
   "cell_type": "code",
   "execution_count": 21,
   "id": "fb6eceed-7390-483b-af7e-5d74080d763e",
   "metadata": {},
   "outputs": [
    {
     "name": "stdout",
     "output_type": "stream",
     "text": [
      "\n",
      "    -----------------------------------\n",
      "    Bem vindo ao jogo Bárbara!\n",
      "    Gostaria de jogar de novo?\n",
      "    -----------------------------------\n",
      "    \n"
     ]
    }
   ],
   "source": [
    "printa_mensagem(\"Bárbara\")"
   ]
  },
  {
   "cell_type": "code",
   "execution_count": 22,
   "id": "6014fdb4-3405-4aed-8cc7-546b64f33cbd",
   "metadata": {},
   "outputs": [],
   "source": [
    "n = 60"
   ]
  },
  {
   "cell_type": "code",
   "execution_count": 23,
   "id": "e682632f-b47f-49a5-b9bb-59d6f62251fd",
   "metadata": {},
   "outputs": [
    {
     "name": "stdout",
     "output_type": "stream",
     "text": [
      "60 42\n"
     ]
    }
   ],
   "source": [
    "m = media(n)"
   ]
  },
  {
   "cell_type": "code",
   "execution_count": 24,
   "id": "969c4637-e9f2-492a-a090-83f95e88ac6d",
   "metadata": {},
   "outputs": [
    {
     "data": {
      "text/plain": [
       "51.0"
      ]
     },
     "execution_count": 24,
     "metadata": {},
     "output_type": "execute_result"
    }
   ],
   "source": [
    "m"
   ]
  },
  {
   "cell_type": "code",
   "execution_count": 25,
   "id": "6a6af84f-dbfc-4401-9150-8888aba45840",
   "metadata": {},
   "outputs": [],
   "source": [
    "c1 = calcula_quadrado(-100)"
   ]
  },
  {
   "cell_type": "code",
   "execution_count": 26,
   "id": "a60e7fff-0592-4d92-9637-c33d3505030b",
   "metadata": {},
   "outputs": [
    {
     "name": "stdout",
     "output_type": "stream",
     "text": [
      "10000\n"
     ]
    }
   ],
   "source": [
    "print(c1)"
   ]
  },
  {
   "cell_type": "code",
   "execution_count": 27,
   "id": "1ab66fa4-d669-482b-b553-e81a5622d142",
   "metadata": {},
   "outputs": [
    {
     "name": "stdout",
     "output_type": "stream",
     "text": [
      "Hello World!\n"
     ]
    }
   ],
   "source": [
    "h1 = hello_1()"
   ]
  },
  {
   "cell_type": "code",
   "execution_count": 28,
   "id": "f628ec31-db49-4c81-8a8f-bfde51b96def",
   "metadata": {},
   "outputs": [
    {
     "name": "stdout",
     "output_type": "stream",
     "text": [
      "None\n"
     ]
    }
   ],
   "source": [
    "print(h1)"
   ]
  },
  {
   "cell_type": "code",
   "execution_count": 29,
   "id": "9aee6d01-c6f5-4efa-8945-09267b93f502",
   "metadata": {},
   "outputs": [
    {
     "name": "stdout",
     "output_type": "stream",
     "text": [
      "Hello World!\n"
     ]
    }
   ],
   "source": [
    "h2 = hello_2()"
   ]
  },
  {
   "cell_type": "code",
   "execution_count": 136,
   "id": "a8f7f244-e52a-4591-a51d-9cc3aa7879fd",
   "metadata": {},
   "outputs": [
    {
     "name": "stdout",
     "output_type": "stream",
     "text": [
      "None\n"
     ]
    }
   ],
   "source": [
    "print(h2)"
   ]
  },
  {
   "cell_type": "code",
   "execution_count": 116,
   "id": "002e20d6-6640-4bfe-803c-3e95d17ab31d",
   "metadata": {},
   "outputs": [
    {
     "name": "stdout",
     "output_type": "stream",
     "text": [
      "Hello World!\n"
     ]
    }
   ],
   "source": [
    "hello()"
   ]
  },
  {
   "cell_type": "code",
   "execution_count": 239,
   "id": "fb69eb76-da44-4781-8446-704ff5509905",
   "metadata": {},
   "outputs": [],
   "source": [
    "def func(a):\n",
    "    print(type(a))"
   ]
  },
  {
   "cell_type": "code",
   "execution_count": 240,
   "id": "12b6b8ba-741e-45f4-8b35-44b5bdb58585",
   "metadata": {},
   "outputs": [
    {
     "name": "stdout",
     "output_type": "stream",
     "text": [
      "<class 'tuple'>\n"
     ]
    }
   ],
   "source": [
    "func((1, 2, 3))"
   ]
  },
  {
   "cell_type": "markdown",
   "id": "62010c02-5a8c-4258-a5a4-597a031bd844",
   "metadata": {},
   "source": [
    "#### Exercício: Soma e Multiplicação de Listas"
   ]
  },
  {
   "cell_type": "code",
   "execution_count": 30,
   "id": "e1eaa523-58cc-4f9e-a011-eee5b60fd608",
   "metadata": {},
   "outputs": [],
   "source": [
    "l1 = [1, 2, 3, 4]\n",
    "l2 = [5, 6, 7, 8]\n",
    "# l3_soma = [6, 8, 10, 12]\n",
    "# l3_mult = [5, 12, 21, 32]"
   ]
  },
  {
   "cell_type": "code",
   "execution_count": 31,
   "id": "a72b4994-bd00-4196-a71a-6b2faec71c44",
   "metadata": {},
   "outputs": [
    {
     "data": {
      "text/plain": [
       "range(0, 5)"
      ]
     },
     "execution_count": 31,
     "metadata": {},
     "output_type": "execute_result"
    }
   ],
   "source": [
    "# Mesma Coisa!\n",
    "range(5)\n",
    "range(0, 5)\n",
    "range(0, 5, 1)"
   ]
  },
  {
   "cell_type": "code",
   "execution_count": 32,
   "id": "8f6c71de-2b93-4e80-a708-e31ba7ed36dc",
   "metadata": {},
   "outputs": [
    {
     "data": {
      "text/plain": [
       "[0, 1, 2, 3, 4]"
      ]
     },
     "execution_count": 32,
     "metadata": {},
     "output_type": "execute_result"
    }
   ],
   "source": [
    "list(range(5))"
   ]
  },
  {
   "cell_type": "code",
   "execution_count": 33,
   "id": "a1258e5b-6d79-4de4-a49b-3cb99d89c91f",
   "metadata": {},
   "outputs": [],
   "source": [
    "l3 = []"
   ]
  },
  {
   "cell_type": "code",
   "execution_count": 34,
   "id": "504e2475-c7aa-431a-b0ab-b0feaddd0b0c",
   "metadata": {},
   "outputs": [],
   "source": [
    "l3.append(100)"
   ]
  },
  {
   "cell_type": "code",
   "execution_count": 35,
   "id": "b7929cd1-5524-4601-88b6-2656493234dd",
   "metadata": {},
   "outputs": [
    {
     "name": "stdout",
     "output_type": "stream",
     "text": [
      "[100]\n"
     ]
    }
   ],
   "source": [
    "print(l3)"
   ]
  },
  {
   "cell_type": "code",
   "execution_count": 37,
   "id": "de632b10-b74d-489e-8ed8-8622e260d21a",
   "metadata": {},
   "outputs": [
    {
     "name": "stdout",
     "output_type": "stream",
     "text": [
      "[1, 2, 3, 4]\n",
      "[5, 6, 7, 8]\n"
     ]
    }
   ],
   "source": [
    "print(l1)\n",
    "print(l2)"
   ]
  },
  {
   "cell_type": "code",
   "execution_count": 38,
   "id": "b1a3a53e-5a99-431c-9109-df0646740c7c",
   "metadata": {},
   "outputs": [],
   "source": [
    "def soma_listas(lista_1, lista_2):\n",
    "\n",
    "    if len(lista_1) != len(lista_2):\n",
    "        print(\"Opa, não faz sentido somar isso.\")\n",
    "        return\n",
    "\n",
    "    else:\n",
    "        nova_lista = []\n",
    "        for idx in range(len(lista_1)):\n",
    "            soma = lista_1[idx] + lista_2[idx]\n",
    "            nova_lista.append(soma)\n",
    "\n",
    "        return nova_lista"
   ]
  },
  {
   "cell_type": "code",
   "execution_count": 40,
   "id": "03a08cb8-3b2d-4100-bec2-e1bebcf9ac91",
   "metadata": {},
   "outputs": [
    {
     "data": {
      "text/plain": [
       "[6, 8, 10, 12]"
      ]
     },
     "execution_count": 40,
     "metadata": {},
     "output_type": "execute_result"
    }
   ],
   "source": [
    "soma_listas(l1, l2)"
   ]
  },
  {
   "cell_type": "code",
   "execution_count": 300,
   "id": "3e2e24b7-44c5-480d-9aa5-dcbcac8084f6",
   "metadata": {},
   "outputs": [],
   "source": [
    "def multiplica_listas(lista_1, lista_2):\n",
    "\n",
    "    if len(lista_1) != len(lista_2):\n",
    "        print(\"Opa, não faz sentido somar isso.\")\n",
    "        return\n",
    "\n",
    "    else:\n",
    "        nova_lista = []\n",
    "        for idx in range(len(lista_1)):\n",
    "            soma = lista_1[idx] * lista_2[idx]\n",
    "            nova_lista.append(soma)\n",
    "\n",
    "        return nova_lista"
   ]
  },
  {
   "cell_type": "code",
   "execution_count": 41,
   "id": "93aa9de6-2c56-45ca-90f8-9422f7b166e4",
   "metadata": {},
   "outputs": [],
   "source": [
    "def multiplica_por_escalar(lista, escalar=10):\n",
    "\n",
    "    nova_lista = []\n",
    "    for idx in range(len(lista)):\n",
    "        produto = lista[idx] * escalar\n",
    "        nova_lista.append(produto)\n",
    "\n",
    "    return nova_lista"
   ]
  },
  {
   "cell_type": "code",
   "execution_count": 351,
   "id": "309edbac-81a5-4ca2-a288-dc99e061280d",
   "metadata": {},
   "outputs": [
    {
     "data": {
      "text/plain": [
       "[5, 10, 15]"
      ]
     },
     "execution_count": 351,
     "metadata": {},
     "output_type": "execute_result"
    }
   ],
   "source": [
    "multiplica_por_escalar([1, 2, 3], 5)"
   ]
  },
  {
   "cell_type": "code",
   "execution_count": 5,
   "id": "bcc6d385-d86a-4cb6-960a-566d9071274b",
   "metadata": {},
   "outputs": [],
   "source": [
    "from ajuda import media"
   ]
  },
  {
   "cell_type": "code",
   "execution_count": 6,
   "id": "41c2610e-c30f-46cc-ad8f-2161080d8557",
   "metadata": {},
   "outputs": [
    {
     "data": {
      "text/plain": [
       "\u001b[0;31mSignature:\u001b[0m \u001b[0mmedia\u001b[0m\u001b[0;34m(\u001b[0m\u001b[0mlista\u001b[0m\u001b[0;34m)\u001b[0m\u001b[0;34m\u001b[0m\u001b[0;34m\u001b[0m\u001b[0m\n",
       "\u001b[0;31mDocstring:\u001b[0m Calcula a média de uma lista.\n",
       "\u001b[0;31mFile:\u001b[0m      ~/Lets-Code/turmas/Turma 773 - Stone/notebooks/ajuda.py\n",
       "\u001b[0;31mType:\u001b[0m      function\n"
      ]
     },
     "metadata": {},
     "output_type": "display_data"
    }
   ],
   "source": [
    "media?"
   ]
  },
  {
   "cell_type": "code",
   "execution_count": 7,
   "id": "afefa39a-1771-4b5e-a62a-ea8a5fc2db55",
   "metadata": {},
   "outputs": [
    {
     "data": {
      "text/plain": [
       "1.8333333333333333"
      ]
     },
     "execution_count": 7,
     "metadata": {},
     "output_type": "execute_result"
    }
   ],
   "source": [
    "lista = [1, 5, 7, 3, -5, 0]\n",
    "media(lista)"
   ]
  },
  {
   "cell_type": "code",
   "execution_count": 333,
   "id": "1e9dbe50-5c64-4eca-99ae-d1d3ee857dcd",
   "metadata": {},
   "outputs": [
    {
     "data": {
      "text/plain": [
       "[5, 10, 20]"
      ]
     },
     "execution_count": 333,
     "metadata": {},
     "output_type": "execute_result"
    }
   ],
   "source": [
    "multiplica_por_escalar([1, 2, 4], 5)"
   ]
  },
  {
   "cell_type": "markdown",
   "id": "a2fe5d4e-a500-4bf4-8e08-ce32d83e9a8a",
   "metadata": {},
   "source": [
    "---"
   ]
  },
  {
   "cell_type": "code",
   "execution_count": 323,
   "id": "96db304b-1407-495a-b162-d23383df42e7",
   "metadata": {},
   "outputs": [],
   "source": [
    "ns = [1, 3, 4, 5]"
   ]
  },
  {
   "cell_type": "code",
   "execution_count": 324,
   "id": "215d9b94-73bb-4228-b66d-6230ee781dbb",
   "metadata": {},
   "outputs": [],
   "source": [
    "res_multiplica = 1"
   ]
  },
  {
   "cell_type": "code",
   "execution_count": 325,
   "id": "0ac68107-54b6-4af1-b500-f74e5edfa0aa",
   "metadata": {},
   "outputs": [
    {
     "name": "stdout",
     "output_type": "stream",
     "text": [
      "1\n",
      "3\n",
      "12\n",
      "60\n"
     ]
    }
   ],
   "source": [
    "for n in ns:\n",
    "    res_multiplica = res_multiplica * n\n",
    "    print(res_multiplica)"
   ]
  },
  {
   "cell_type": "code",
   "execution_count": 318,
   "id": "adaf1290-0816-4c78-8be1-21c073040c98",
   "metadata": {},
   "outputs": [
    {
     "data": {
      "text/plain": [
       "60"
      ]
     },
     "execution_count": 318,
     "metadata": {},
     "output_type": "execute_result"
    }
   ],
   "source": [
    "res_multiplica"
   ]
  },
  {
   "cell_type": "code",
   "execution_count": 297,
   "id": "b61b86eb-0b6e-490b-8112-affb6591b05a",
   "metadata": {},
   "outputs": [
    {
     "name": "stdout",
     "output_type": "stream",
     "text": [
      "[1, 2, 3, 4]\n"
     ]
    }
   ],
   "source": [
    "print(l1)"
   ]
  },
  {
   "cell_type": "code",
   "execution_count": 298,
   "id": "0507bce1-a98d-40c6-b713-2b7e92bb6af2",
   "metadata": {},
   "outputs": [
    {
     "name": "stdout",
     "output_type": "stream",
     "text": [
      "[5, 6, 7, 8]\n"
     ]
    }
   ],
   "source": [
    "print(l2)"
   ]
  },
  {
   "cell_type": "code",
   "execution_count": 299,
   "id": "65c0c8a1-0c99-486e-ac82-c86264239222",
   "metadata": {},
   "outputs": [
    {
     "data": {
      "text/plain": [
       "[6, 8, 10, 12]"
      ]
     },
     "execution_count": 299,
     "metadata": {},
     "output_type": "execute_result"
    }
   ],
   "source": [
    "soma_listas(l1, l2)"
   ]
  },
  {
   "cell_type": "code",
   "execution_count": 301,
   "id": "53a90a5c-17e8-4fde-9766-3a604de53835",
   "metadata": {},
   "outputs": [
    {
     "data": {
      "text/plain": [
       "[5, 12, 21, 32]"
      ]
     },
     "execution_count": 301,
     "metadata": {},
     "output_type": "execute_result"
    }
   ],
   "source": [
    "multiplica_listas(l1, l2)"
   ]
  },
  {
   "cell_type": "code",
   "execution_count": 228,
   "id": "83d74524-3ef7-4c79-9eeb-f1b94f4082ef",
   "metadata": {},
   "outputs": [],
   "source": [
    "s1 = \"gabriel\"\n",
    "s2 = \"freitas\""
   ]
  },
  {
   "cell_type": "code",
   "execution_count": 229,
   "id": "56ee9b37-976d-4799-a2c0-53b525394883",
   "metadata": {},
   "outputs": [
    {
     "data": {
      "text/plain": [
       "'gabrielfreitas'"
      ]
     },
     "execution_count": 229,
     "metadata": {},
     "output_type": "execute_result"
    }
   ],
   "source": [
    "s1 + s2"
   ]
  },
  {
   "cell_type": "markdown",
   "id": "b4ac838b-e27c-4108-82b9-236aa624c308",
   "metadata": {},
   "source": [
    "---"
   ]
  },
  {
   "cell_type": "markdown",
   "id": "db34a146-5770-4924-83a7-6a71465cf10f",
   "metadata": {},
   "source": [
    "## Estruturas de Dados\n",
    "\n",
    "- Listas\n",
    "- Tuplas\n",
    "- Dicionários\n",
    "- Sets (\"conjuntos\")"
   ]
  },
  {
   "cell_type": "markdown",
   "id": "07f18dc7-78ee-4a71-b08c-e9ed8f9149cc",
   "metadata": {},
   "source": [
    "### Listas"
   ]
  },
  {
   "cell_type": "markdown",
   "id": "59a0f82a-d782-4840-836b-2fe84aa5a473",
   "metadata": {},
   "source": [
    "- Mutáveis (pode alterar valores do mesmo objeto)\n",
    "- Podem guardar tipos diferentes de dados\n",
    "- São iteráveis\n",
    "- São indexadas"
   ]
  },
  {
   "cell_type": "code",
   "execution_count": 42,
   "id": "4418eb76-d2ee-4006-b0ba-6d69de87b904",
   "metadata": {},
   "outputs": [],
   "source": [
    "l = []"
   ]
  },
  {
   "cell_type": "code",
   "execution_count": 43,
   "id": "c9fa797d-7026-4175-85c1-7d92af790cd2",
   "metadata": {},
   "outputs": [
    {
     "data": {
      "text/plain": [
       "[]"
      ]
     },
     "execution_count": 43,
     "metadata": {},
     "output_type": "execute_result"
    }
   ],
   "source": [
    "l"
   ]
  },
  {
   "cell_type": "code",
   "execution_count": 44,
   "id": "92ca42be-5af9-4f77-a77d-893ca2577f6e",
   "metadata": {},
   "outputs": [
    {
     "data": {
      "text/plain": [
       "0"
      ]
     },
     "execution_count": 44,
     "metadata": {},
     "output_type": "execute_result"
    }
   ],
   "source": [
    "len(l)"
   ]
  },
  {
   "cell_type": "code",
   "execution_count": 45,
   "id": "51d7aa3e-294f-4f90-99e1-f6d6fe7bb444",
   "metadata": {},
   "outputs": [
    {
     "data": {
      "text/plain": [
       "list"
      ]
     },
     "execution_count": 45,
     "metadata": {},
     "output_type": "execute_result"
    }
   ],
   "source": [
    "type(l)"
   ]
  },
  {
   "cell_type": "code",
   "execution_count": 46,
   "id": "2f42a1c1-cf9e-482c-8078-7ca5ddf01d82",
   "metadata": {},
   "outputs": [],
   "source": [
    "l.append(0)"
   ]
  },
  {
   "cell_type": "code",
   "execution_count": 47,
   "id": "6474dc51-c977-44cd-8e0c-a1467ed0ff2b",
   "metadata": {},
   "outputs": [
    {
     "data": {
      "text/plain": [
       "[0]"
      ]
     },
     "execution_count": 47,
     "metadata": {},
     "output_type": "execute_result"
    }
   ],
   "source": [
    "l"
   ]
  },
  {
   "cell_type": "code",
   "execution_count": 48,
   "id": "457642f2-8bd4-4873-96dd-7fe9aecad528",
   "metadata": {},
   "outputs": [],
   "source": [
    "l.append(1)"
   ]
  },
  {
   "cell_type": "code",
   "execution_count": 49,
   "id": "4a5ef060-0332-46a2-87aa-8835c53d0896",
   "metadata": {},
   "outputs": [
    {
     "data": {
      "text/plain": [
       "[0, 1]"
      ]
     },
     "execution_count": 49,
     "metadata": {},
     "output_type": "execute_result"
    }
   ],
   "source": [
    "l"
   ]
  },
  {
   "cell_type": "code",
   "execution_count": 147,
   "id": "3059304e-7f5c-4bc6-b067-545187a1e85c",
   "metadata": {},
   "outputs": [
    {
     "data": {
      "text/plain": [
       "1"
      ]
     },
     "execution_count": 147,
     "metadata": {},
     "output_type": "execute_result"
    }
   ],
   "source": [
    "len(l)"
   ]
  },
  {
   "cell_type": "code",
   "execution_count": 152,
   "id": "981f4d37-ec17-49e7-84c3-ecf46a6e99d2",
   "metadata": {},
   "outputs": [],
   "source": [
    "l_2 = list((1, 2, 3))"
   ]
  },
  {
   "cell_type": "code",
   "execution_count": 154,
   "id": "d2f7220e-eae5-4b89-b425-f14e78be99f7",
   "metadata": {},
   "outputs": [],
   "source": [
    "l_2 = list({1, 2, 3})"
   ]
  },
  {
   "cell_type": "code",
   "execution_count": 155,
   "id": "ebfe5f6e-d71a-4abe-940e-9120b9a6fea7",
   "metadata": {},
   "outputs": [
    {
     "data": {
      "text/plain": [
       "[1, 2, 3]"
      ]
     },
     "execution_count": 155,
     "metadata": {},
     "output_type": "execute_result"
    }
   ],
   "source": [
    "l_2"
   ]
  },
  {
   "cell_type": "code",
   "execution_count": 156,
   "id": "ac39e3f8-f1d4-4f8b-af74-4a5f1b2bf374",
   "metadata": {},
   "outputs": [
    {
     "data": {
      "text/plain": [
       "list"
      ]
     },
     "execution_count": 156,
     "metadata": {},
     "output_type": "execute_result"
    }
   ],
   "source": [
    "type(l_2)"
   ]
  },
  {
   "cell_type": "code",
   "execution_count": 157,
   "id": "84653194-ebdb-4f2e-a837-0c8d4f9e7dcd",
   "metadata": {},
   "outputs": [],
   "source": [
    "tupla = (1, 2, 3, 4)"
   ]
  },
  {
   "cell_type": "code",
   "execution_count": 166,
   "id": "87e0e43c-c5e4-4375-8738-b6b17fc644a0",
   "metadata": {},
   "outputs": [
    {
     "data": {
      "text/plain": [
       "[]"
      ]
     },
     "execution_count": 166,
     "metadata": {},
     "output_type": "execute_result"
    }
   ],
   "source": [
    "list()"
   ]
  },
  {
   "cell_type": "code",
   "execution_count": 167,
   "id": "a2ebfb66-d030-47a7-8e37-e47447a1775b",
   "metadata": {},
   "outputs": [
    {
     "data": {
      "text/plain": [
       "[1, 2, 3, 4]"
      ]
     },
     "execution_count": 167,
     "metadata": {},
     "output_type": "execute_result"
    }
   ],
   "source": [
    "list(tupla)"
   ]
  },
  {
   "cell_type": "code",
   "execution_count": 161,
   "id": "ec81d3f9-ac73-4de1-94e4-c56c70514564",
   "metadata": {},
   "outputs": [
    {
     "data": {
      "text/plain": [
       "{1, 2, 3, 4}"
      ]
     },
     "execution_count": 161,
     "metadata": {},
     "output_type": "execute_result"
    }
   ],
   "source": [
    "set(tupla)"
   ]
  },
  {
   "cell_type": "code",
   "execution_count": 163,
   "id": "f3a26847-3ede-4391-b1e6-f25cd32b727c",
   "metadata": {},
   "outputs": [
    {
     "ename": "TypeError",
     "evalue": "cannot convert dictionary update sequence element #0 to a sequence",
     "output_type": "error",
     "traceback": [
      "\u001b[0;31m---------------------------------------------------------------------------\u001b[0m",
      "\u001b[0;31mTypeError\u001b[0m                                 Traceback (most recent call last)",
      "\u001b[0;32m<ipython-input-163-0a2b15455c19>\u001b[0m in \u001b[0;36m<module>\u001b[0;34m\u001b[0m\n\u001b[0;32m----> 1\u001b[0;31m \u001b[0mdict\u001b[0m\u001b[0;34m(\u001b[0m\u001b[0mtupla\u001b[0m\u001b[0;34m)\u001b[0m\u001b[0;34m\u001b[0m\u001b[0;34m\u001b[0m\u001b[0m\n\u001b[0m",
      "\u001b[0;31mTypeError\u001b[0m: cannot convert dictionary update sequence element #0 to a sequence"
     ]
    }
   ],
   "source": [
    "dict(tupla)"
   ]
  },
  {
   "cell_type": "code",
   "execution_count": 164,
   "id": "96f392f1-1b48-4baa-8276-fcf95e65b4a7",
   "metadata": {},
   "outputs": [
    {
     "ename": "ValueError",
     "evalue": "invalid literal for int() with base 10: '5.0'",
     "output_type": "error",
     "traceback": [
      "\u001b[0;31m---------------------------------------------------------------------------\u001b[0m",
      "\u001b[0;31mValueError\u001b[0m                                Traceback (most recent call last)",
      "\u001b[0;32m<ipython-input-164-e0ba5ecd202e>\u001b[0m in \u001b[0;36m<module>\u001b[0;34m\u001b[0m\n\u001b[0;32m----> 1\u001b[0;31m \u001b[0mint\u001b[0m\u001b[0;34m(\u001b[0m\u001b[0;34m\"5.0\"\u001b[0m\u001b[0;34m)\u001b[0m\u001b[0;34m\u001b[0m\u001b[0;34m\u001b[0m\u001b[0m\n\u001b[0m",
      "\u001b[0;31mValueError\u001b[0m: invalid literal for int() with base 10: '5.0'"
     ]
    }
   ],
   "source": [
    "int(\"5.0\")"
   ]
  },
  {
   "cell_type": "code",
   "execution_count": 165,
   "id": "04b147bf-fc84-418f-a4b2-4c55fb384cf9",
   "metadata": {},
   "outputs": [
    {
     "data": {
      "text/plain": [
       "5.0"
      ]
     },
     "execution_count": 165,
     "metadata": {},
     "output_type": "execute_result"
    }
   ],
   "source": [
    "float(\"5.0\")"
   ]
  },
  {
   "cell_type": "markdown",
   "id": "fca6da1c-5b96-4fc4-a1da-1fbd903d127c",
   "metadata": {},
   "source": [
    "---"
   ]
  },
  {
   "cell_type": "code",
   "execution_count": 115,
   "id": "3cbc282c-6fd2-4448-80d4-90de956bffcd",
   "metadata": {},
   "outputs": [],
   "source": [
    "l1 = [1, 2, 3, 4]"
   ]
  },
  {
   "cell_type": "code",
   "execution_count": 116,
   "id": "8b9e023d-e186-4e9e-8a12-932756837ec0",
   "metadata": {},
   "outputs": [],
   "source": [
    "l2 = ['a', 'b', 'c']"
   ]
  },
  {
   "cell_type": "code",
   "execution_count": 117,
   "id": "65e5bb6f-0594-4ce3-9810-43f6c77e9bb3",
   "metadata": {},
   "outputs": [],
   "source": [
    "l3 = [1, 3, 'a', 5]"
   ]
  },
  {
   "cell_type": "code",
   "execution_count": 118,
   "id": "1b3a1830-c5a0-4cd7-b3ac-1d28ff6704fa",
   "metadata": {},
   "outputs": [],
   "source": [
    "l4 = [[1, 2, 3], 1, 'c', None, 5.0]"
   ]
  },
  {
   "cell_type": "code",
   "execution_count": 119,
   "id": "e6380649-111f-456e-a757-a2be5f8c1afa",
   "metadata": {},
   "outputs": [
    {
     "data": {
      "text/plain": [
       "[1, 2, 3, 4]"
      ]
     },
     "execution_count": 119,
     "metadata": {},
     "output_type": "execute_result"
    }
   ],
   "source": [
    "l1"
   ]
  },
  {
   "cell_type": "code",
   "execution_count": 120,
   "id": "35193038-99f5-4bf9-97c0-95c8a2684f91",
   "metadata": {},
   "outputs": [],
   "source": [
    "l1.append(5)"
   ]
  },
  {
   "cell_type": "code",
   "execution_count": 121,
   "id": "864cfc3a-d9de-47c2-b152-5ad8ca696773",
   "metadata": {},
   "outputs": [
    {
     "data": {
      "text/plain": [
       "[1, 2, 3, 4, 5]"
      ]
     },
     "execution_count": 121,
     "metadata": {},
     "output_type": "execute_result"
    }
   ],
   "source": [
    "l1"
   ]
  },
  {
   "cell_type": "code",
   "execution_count": 19,
   "id": "896528fe-532d-4584-9d20-56cf75f884dd",
   "metadata": {},
   "outputs": [
    {
     "data": {
      "text/plain": [
       "1"
      ]
     },
     "execution_count": 19,
     "metadata": {},
     "output_type": "execute_result"
    }
   ],
   "source": [
    "l1[0]"
   ]
  },
  {
   "cell_type": "code",
   "execution_count": 22,
   "id": "efd58e2c-1628-45e8-8863-0085900ff2dc",
   "metadata": {},
   "outputs": [
    {
     "data": {
      "text/plain": [
       "[1, 2, 3]"
      ]
     },
     "execution_count": 22,
     "metadata": {},
     "output_type": "execute_result"
    }
   ],
   "source": [
    "l1[0:3]"
   ]
  },
  {
   "cell_type": "code",
   "execution_count": 25,
   "id": "7ea1779d-ded9-47e0-b49a-4bb755eaf039",
   "metadata": {},
   "outputs": [
    {
     "data": {
      "text/plain": [
       "2"
      ]
     },
     "execution_count": 25,
     "metadata": {},
     "output_type": "execute_result"
    }
   ],
   "source": [
    "l1.index(3)"
   ]
  },
  {
   "cell_type": "code",
   "execution_count": 29,
   "id": "d0460e4b-29e7-4c69-aa12-bba2674eee7d",
   "metadata": {},
   "outputs": [],
   "source": [
    "notas = [5, 6, 7, 8, 10, 5, 3, 4]"
   ]
  },
  {
   "cell_type": "code",
   "execution_count": 30,
   "id": "0d2f4436-bc86-4e76-8b04-dd79f8556c70",
   "metadata": {},
   "outputs": [],
   "source": [
    "notas.append(9)"
   ]
  },
  {
   "cell_type": "code",
   "execution_count": 31,
   "id": "9900431d-edce-4e1c-93d9-985920f3dff6",
   "metadata": {},
   "outputs": [
    {
     "data": {
      "text/plain": [
       "[5, 6, 7, 8, 10, 5, 3, 4, 9]"
      ]
     },
     "execution_count": 31,
     "metadata": {},
     "output_type": "execute_result"
    }
   ],
   "source": [
    "notas"
   ]
  },
  {
   "cell_type": "markdown",
   "id": "f52cfe75-4f27-4ef4-aaeb-5f99eb9aa6e1",
   "metadata": {},
   "source": [
    "#### Tuplas"
   ]
  },
  {
   "cell_type": "markdown",
   "id": "bba98cd0-c970-48b3-8612-13a5fd3512b9",
   "metadata": {},
   "source": [
    "- Imutáveis (não é possível alterar elementos individuais)\n",
    "- Garante a ordem dos dados\n",
    "- Podem guardar tipos diferentes de dados\n",
    "- São iteráveis\n",
    "- São indexadas"
   ]
  },
  {
   "cell_type": "code",
   "execution_count": 35,
   "id": "0672fc16-dea7-486e-8f40-9d55f6f2a670",
   "metadata": {},
   "outputs": [],
   "source": [
    "t1 = (1, 2, 3)"
   ]
  },
  {
   "cell_type": "code",
   "execution_count": 36,
   "id": "cfa68628-2420-4e8c-a85e-37d7a12d196d",
   "metadata": {},
   "outputs": [],
   "source": [
    "t2 = ('x', 'y')"
   ]
  },
  {
   "cell_type": "code",
   "execution_count": 37,
   "id": "515ff064-3367-4aa5-bd7c-6aaadb7875c2",
   "metadata": {},
   "outputs": [],
   "source": [
    "t3 = (1, 3, 'x')"
   ]
  },
  {
   "cell_type": "code",
   "execution_count": 38,
   "id": "98e1387c-6cff-44d8-bc39-cf0d975bd29c",
   "metadata": {},
   "outputs": [],
   "source": [
    "lat = -42\n",
    "lon = 10\n",
    "\n",
    "coordenadas = (lat, lon)"
   ]
  },
  {
   "cell_type": "code",
   "execution_count": 39,
   "id": "3e9ecab6-d2f0-4f1a-9e58-2b50fbd945ec",
   "metadata": {
    "tags": []
   },
   "outputs": [],
   "source": [
    "x = 4\n",
    "y = 6"
   ]
  },
  {
   "cell_type": "code",
   "execution_count": 40,
   "id": "c209d3f9-cf16-41e0-af9e-71b8135784da",
   "metadata": {},
   "outputs": [],
   "source": [
    "ponto = (x, y)"
   ]
  },
  {
   "cell_type": "markdown",
   "id": "c21e64ff-f647-4fe1-948b-2a6a5cfbefba",
   "metadata": {},
   "source": [
    "#### Dicionários"
   ]
  },
  {
   "cell_type": "code",
   "execution_count": 43,
   "id": "9ecc471f-fe24-4445-b2fa-8dc85ef51626",
   "metadata": {},
   "outputs": [
    {
     "data": {
      "text/plain": [
       "[1, 5, 7, 3, -5, 0]"
      ]
     },
     "execution_count": 43,
     "metadata": {},
     "output_type": "execute_result"
    }
   ],
   "source": [
    "lista"
   ]
  },
  {
   "cell_type": "code",
   "execution_count": 44,
   "id": "01834464-1795-4a1c-82dd-12633af1a9eb",
   "metadata": {},
   "outputs": [
    {
     "data": {
      "text/plain": [
       "1"
      ]
     },
     "execution_count": 44,
     "metadata": {},
     "output_type": "execute_result"
    }
   ],
   "source": [
    "lista[0]"
   ]
  },
  {
   "cell_type": "code",
   "execution_count": 50,
   "id": "d35788a0-2e5a-4fb8-a6b8-68cbd6048f26",
   "metadata": {},
   "outputs": [],
   "source": [
    "idades = {\n",
    "    \"Gabriel\": 25,\n",
    "    \"João\": 30,\n",
    "    \"Mariana\": 20\n",
    "}"
   ]
  },
  {
   "cell_type": "code",
   "execution_count": 54,
   "id": "1b592f7c-8aad-42ac-ab68-88993d8828ab",
   "metadata": {},
   "outputs": [],
   "source": [
    "idades[\"Ana\"] = 25"
   ]
  },
  {
   "cell_type": "code",
   "execution_count": 55,
   "id": "b455f9ca-2c83-42e4-9968-175005e2dd99",
   "metadata": {},
   "outputs": [
    {
     "data": {
      "text/plain": [
       "25"
      ]
     },
     "execution_count": 55,
     "metadata": {},
     "output_type": "execute_result"
    }
   ],
   "source": [
    "idades[\"Ana\"]"
   ]
  },
  {
   "cell_type": "code",
   "execution_count": 56,
   "id": "1fec1393-274a-466d-8826-4ec930b39ab0",
   "metadata": {},
   "outputs": [
    {
     "name": "stdout",
     "output_type": "stream",
     "text": [
      "{'Gabriel': 25, 'João': 30, 'Mariana': 20, 'Ana': 25}\n"
     ]
    }
   ],
   "source": [
    "print(idades)"
   ]
  },
  {
   "cell_type": "code",
   "execution_count": 3,
   "id": "9959b383-8670-413c-a519-16de92e36efa",
   "metadata": {},
   "outputs": [],
   "source": [
    "usuarios = {\n",
    "    \"Gabriel\": {\n",
    "        \"idade\": 25,\n",
    "        \"profissao\": \"Cientista de Dados\",\n",
    "        \"cidade\": \"SP\"\n",
    "    },\n",
    "    \"João\": {\n",
    "        \"idade\": 30,\n",
    "        \"profissao\": \"Analista\",\n",
    "        \"cidade\": \"RJ\"\n",
    "    },\n",
    "    \"Mariana\": {\n",
    "        \"idade\": 20,\n",
    "        \"profissao\": \"Engenheira\",\n",
    "        \"cidade\": \"SP\"\n",
    "    }\n",
    "}"
   ]
  },
  {
   "cell_type": "code",
   "execution_count": 4,
   "id": "99a08c51-ec03-4c7e-8e58-e97d3ecf4363",
   "metadata": {},
   "outputs": [
    {
     "data": {
      "text/plain": [
       "{'idade': 25, 'profissao': 'Cientista de Dados', 'cidade': 'SP'}"
      ]
     },
     "execution_count": 4,
     "metadata": {},
     "output_type": "execute_result"
    }
   ],
   "source": [
    "usuarios[\"Gabriel\"]"
   ]
  },
  {
   "cell_type": "code",
   "execution_count": 176,
   "id": "f7bb89db-b926-40a7-9b4b-6890015da5ba",
   "metadata": {},
   "outputs": [],
   "source": [
    "def calcula_media(lista):\n",
    "    return sum(lista) / len(lista)"
   ]
  },
  {
   "cell_type": "code",
   "execution_count": 1,
   "id": "120ca034-9aa5-404c-8fca-ff51ce95975b",
   "metadata": {},
   "outputs": [
    {
     "ename": "NameError",
     "evalue": "name 'aluno' is not defined",
     "output_type": "error",
     "traceback": [
      "\u001b[0;31m---------------------------------------------------------------------------\u001b[0m",
      "\u001b[0;31mNameError\u001b[0m                                 Traceback (most recent call last)",
      "\u001b[0;32m<ipython-input-1-49f68f3f5123>\u001b[0m in \u001b[0;36m<module>\u001b[0;34m\u001b[0m\n\u001b[1;32m      2\u001b[0m     \u001b[0;34m\"nome\"\u001b[0m\u001b[0;34m:\u001b[0m \u001b[0;34m\"gabriel\"\u001b[0m\u001b[0;34m,\u001b[0m\u001b[0;34m\u001b[0m\u001b[0;34m\u001b[0m\u001b[0m\n\u001b[1;32m      3\u001b[0m     \u001b[0;34m\"notas\"\u001b[0m\u001b[0;34m:\u001b[0m \u001b[0;34m[\u001b[0m\u001b[0;36m10\u001b[0m\u001b[0;34m,\u001b[0m \u001b[0;36m9\u001b[0m\u001b[0;34m,\u001b[0m \u001b[0;36m8\u001b[0m\u001b[0;34m]\u001b[0m\u001b[0;34m,\u001b[0m\u001b[0;34m\u001b[0m\u001b[0;34m\u001b[0m\u001b[0m\n\u001b[0;32m----> 4\u001b[0;31m     \u001b[0;34m\"calcula_media\"\u001b[0m\u001b[0;34m:\u001b[0m \u001b[0msum\u001b[0m\u001b[0;34m(\u001b[0m\u001b[0maluno\u001b[0m\u001b[0;34m[\u001b[0m\u001b[0;34m\"notas\"\u001b[0m\u001b[0;34m]\u001b[0m\u001b[0;34m)\u001b[0m \u001b[0;34m/\u001b[0m \u001b[0mlen\u001b[0m\u001b[0;34m(\u001b[0m\u001b[0maluno\u001b[0m\u001b[0;34m[\u001b[0m\u001b[0;34m\"notas\"\u001b[0m\u001b[0;34m]\u001b[0m\u001b[0;34m)\u001b[0m\u001b[0;34m\u001b[0m\u001b[0;34m\u001b[0m\u001b[0m\n\u001b[0m\u001b[1;32m      5\u001b[0m }\n",
      "\u001b[0;31mNameError\u001b[0m: name 'aluno' is not defined"
     ]
    }
   ],
   "source": [
    "aluno = {\n",
    "    \"nome\": \"gabriel\",\n",
    "    \"notas\": [10, 9, 8],\n",
    "    \"calcula_media\": lambda lista: sum(lista) / len(lista)\n",
    "}"
   ]
  },
  {
   "cell_type": "code",
   "execution_count": 346,
   "id": "0048f3f4-f81e-4124-8241-c6e15e8d3dc5",
   "metadata": {},
   "outputs": [
    {
     "data": {
      "text/plain": [
       "9.0"
      ]
     },
     "execution_count": 346,
     "metadata": {},
     "output_type": "execute_result"
    }
   ],
   "source": [
    "aluno[\"calcula_media\"]"
   ]
  },
  {
   "cell_type": "code",
   "execution_count": 186,
   "id": "2e0a1f4d-c122-4d80-b5f6-98ac408f4590",
   "metadata": {},
   "outputs": [
    {
     "data": {
      "text/plain": [
       "'gabriel'"
      ]
     },
     "execution_count": 186,
     "metadata": {},
     "output_type": "execute_result"
    }
   ],
   "source": [
    "aluno[\"nome\"]"
   ]
  },
  {
   "cell_type": "code",
   "execution_count": 187,
   "id": "c794c887-d8f8-404e-8296-5c3eaaa7a055",
   "metadata": {},
   "outputs": [
    {
     "data": {
      "text/plain": [
       "[10, 9, 8]"
      ]
     },
     "execution_count": 187,
     "metadata": {},
     "output_type": "execute_result"
    }
   ],
   "source": [
    "aluno[\"notas\"]"
   ]
  },
  {
   "cell_type": "code",
   "execution_count": 188,
   "id": "332ccf2c-ad01-4788-89fd-1ec076db9f6b",
   "metadata": {},
   "outputs": [
    {
     "data": {
      "text/plain": [
       "<function __main__.calcula_media(lista)>"
      ]
     },
     "execution_count": 188,
     "metadata": {},
     "output_type": "execute_result"
    }
   ],
   "source": [
    "aluno[\"calcula_media\"]"
   ]
  },
  {
   "cell_type": "code",
   "execution_count": 174,
   "id": "1d4d873d-5675-4ddc-a0d6-f19add4bfa78",
   "metadata": {},
   "outputs": [],
   "source": [
    "func = dicionario_com_funcao[\"media\"]"
   ]
  },
  {
   "cell_type": "code",
   "execution_count": 175,
   "id": "81f3185e-3c1b-4302-b3c4-17c1b19e8ebc",
   "metadata": {},
   "outputs": [
    {
     "data": {
      "text/plain": [
       "2.0"
      ]
     },
     "execution_count": 175,
     "metadata": {},
     "output_type": "execute_result"
    }
   ],
   "source": [
    "func([1, 2, 3])"
   ]
  },
  {
   "cell_type": "code",
   "execution_count": 63,
   "id": "7731e6ae-7654-4936-ace8-391946bb18d9",
   "metadata": {},
   "outputs": [
    {
     "data": {
      "text/plain": [
       "'SP'"
      ]
     },
     "execution_count": 63,
     "metadata": {},
     "output_type": "execute_result"
    }
   ],
   "source": [
    "usuarios[\"Gabriel\"][\"cidade\"]"
   ]
  },
  {
   "cell_type": "code",
   "execution_count": 65,
   "id": "71c809aa-d8aa-40ac-99f5-8079da165db8",
   "metadata": {},
   "outputs": [
    {
     "data": {
      "text/plain": [
       "{'idade': 25, 'profissao': 'Cientista de Dados', 'cidade': 'SP'}"
      ]
     },
     "execution_count": 65,
     "metadata": {},
     "output_type": "execute_result"
    }
   ],
   "source": [
    "usuarios[\"Gabriel\"]"
   ]
  },
  {
   "cell_type": "code",
   "execution_count": 66,
   "id": "d6f18cf8-d478-4397-8476-9c27b8c9b935",
   "metadata": {},
   "outputs": [
    {
     "data": {
      "text/plain": [
       "{'idade': 25, 'profissao': 'Cientista de Dados', 'cidade': 'SP'}"
      ]
     },
     "execution_count": 66,
     "metadata": {},
     "output_type": "execute_result"
    }
   ],
   "source": [
    "usuarios.get(\"Gabriel\")"
   ]
  },
  {
   "cell_type": "code",
   "execution_count": 67,
   "id": "8ea5e2d7-7c0c-462c-8b6c-51926d490677",
   "metadata": {},
   "outputs": [
    {
     "ename": "KeyError",
     "evalue": "'Guilherme'",
     "output_type": "error",
     "traceback": [
      "\u001b[0;31m---------------------------------------------------------------------------\u001b[0m",
      "\u001b[0;31mKeyError\u001b[0m                                  Traceback (most recent call last)",
      "\u001b[0;32m<ipython-input-67-f5b9da651d15>\u001b[0m in \u001b[0;36m<module>\u001b[0;34m\u001b[0m\n\u001b[0;32m----> 1\u001b[0;31m \u001b[0musuarios\u001b[0m\u001b[0;34m[\u001b[0m\u001b[0;34m\"Guilherme\"\u001b[0m\u001b[0;34m]\u001b[0m\u001b[0;34m\u001b[0m\u001b[0;34m\u001b[0m\u001b[0m\n\u001b[0m",
      "\u001b[0;31mKeyError\u001b[0m: 'Guilherme'"
     ]
    }
   ],
   "source": [
    "usuarios[\"Guilherme\"]"
   ]
  },
  {
   "cell_type": "code",
   "execution_count": 78,
   "id": "37e62927-32df-4787-9711-0d28b20b8cd8",
   "metadata": {},
   "outputs": [],
   "source": [
    "retorno = usuarios.get(\"Guilherme\", -1)"
   ]
  },
  {
   "cell_type": "code",
   "execution_count": 87,
   "id": "9f1a8110-23c4-4b7c-9b35-a8c7670f0f01",
   "metadata": {},
   "outputs": [
    {
     "data": {
      "text/plain": [
       "{'idade': 25, 'profissao': 'Cientista de Dados', 'cidade': 'SP'}"
      ]
     },
     "execution_count": 87,
     "metadata": {},
     "output_type": "execute_result"
    }
   ],
   "source": [
    "usuarios.pop(\"Gabriel\")"
   ]
  },
  {
   "cell_type": "code",
   "execution_count": 85,
   "id": "e38d87b7-02e7-4ee3-821b-d023a6d600e0",
   "metadata": {},
   "outputs": [],
   "source": [
    "from pprint import pprint"
   ]
  },
  {
   "cell_type": "code",
   "execution_count": 88,
   "id": "c8acf524-445b-4472-baf4-c0df56462bbf",
   "metadata": {},
   "outputs": [
    {
     "name": "stdout",
     "output_type": "stream",
     "text": [
      "{'João': {'cidade': 'RJ', 'idade': 30, 'profissao': 'Analista'},\n",
      " 'Mariana': {'cidade': 'SP', 'idade': 20, 'profissao': 'Engenheira'}}\n"
     ]
    }
   ],
   "source": [
    "pprint(usuarios)"
   ]
  },
  {
   "cell_type": "code",
   "execution_count": 79,
   "id": "8385026e-6bbf-4048-9f7c-daae8f2ef6c6",
   "metadata": {},
   "outputs": [
    {
     "name": "stdout",
     "output_type": "stream",
     "text": [
      "-1\n"
     ]
    }
   ],
   "source": [
    "print(retorno)"
   ]
  },
  {
   "cell_type": "markdown",
   "id": "06622273-9e5d-4ae9-9de4-304c7c4d72e0",
   "metadata": {},
   "source": [
    "### Sets\n",
    "\n",
    "- Não são permitidos valores duplicados!\n",
    "- Não ordenado."
   ]
  },
  {
   "cell_type": "code",
   "execution_count": 126,
   "id": "72f39654-7dce-4024-a32b-a26f8fd80358",
   "metadata": {
    "tags": []
   },
   "outputs": [],
   "source": [
    "lista = [1, 2, 3]\n",
    "tupla = (1, 2, 3)\n",
    "dicionario = {'a': 0, 'b': 1}"
   ]
  },
  {
   "cell_type": "code",
   "execution_count": 127,
   "id": "b692c210-7480-4ecc-af1e-20f67197b88e",
   "metadata": {},
   "outputs": [],
   "source": [
    "# Sets\n",
    "set_ = {1, 2, 3}"
   ]
  },
  {
   "cell_type": "code",
   "execution_count": 110,
   "id": "f2439e7c-dbe9-4ce2-897d-80f4adf18266",
   "metadata": {},
   "outputs": [],
   "source": [
    "s1 = {1, 2, 3}"
   ]
  },
  {
   "cell_type": "code",
   "execution_count": 111,
   "id": "17abc8b4-e470-428e-b09d-65c43d3dd224",
   "metadata": {},
   "outputs": [],
   "source": [
    "s2 = {2, 3, 4, 5, 6}"
   ]
  },
  {
   "cell_type": "code",
   "execution_count": 112,
   "id": "01c08ed4-1ebe-4933-94c2-3bfe46f66d9e",
   "metadata": {},
   "outputs": [
    {
     "name": "stdout",
     "output_type": "stream",
     "text": [
      "{1, 2, 3}\n"
     ]
    }
   ],
   "source": [
    "print(s1)"
   ]
  },
  {
   "cell_type": "code",
   "execution_count": 122,
   "id": "abbb5fd2-c443-47de-88ac-af550eb0a3ee",
   "metadata": {},
   "outputs": [],
   "source": [
    "s3 = s1.intersection(s2)"
   ]
  },
  {
   "cell_type": "code",
   "execution_count": 123,
   "id": "b95db9a8-0088-4300-a436-1cf82a096534",
   "metadata": {},
   "outputs": [
    {
     "name": "stdout",
     "output_type": "stream",
     "text": [
      "{2, 3}\n"
     ]
    }
   ],
   "source": [
    "print(s3)"
   ]
  },
  {
   "cell_type": "code",
   "execution_count": 114,
   "id": "68b41f7a-1286-44a8-9fb6-691a20d6c812",
   "metadata": {},
   "outputs": [
    {
     "name": "stdout",
     "output_type": "stream",
     "text": [
      "{1, 2, 3}\n"
     ]
    }
   ],
   "source": [
    "print(s1)"
   ]
  },
  {
   "cell_type": "code",
   "execution_count": 124,
   "id": "38da5eab-cb01-4143-92ec-0a3bec94613a",
   "metadata": {},
   "outputs": [],
   "source": [
    "s4 = s1.union(s2)"
   ]
  },
  {
   "cell_type": "code",
   "execution_count": 125,
   "id": "dbfc526c-36aa-43df-8840-b18e277c3b88",
   "metadata": {},
   "outputs": [
    {
     "name": "stdout",
     "output_type": "stream",
     "text": [
      "{1, 2, 3, 4, 5, 6}\n"
     ]
    }
   ],
   "source": [
    "print(s4)"
   ]
  },
  {
   "cell_type": "code",
   "execution_count": 101,
   "id": "c0b1bf06-7399-4fcb-9e3b-93959e9c5ea1",
   "metadata": {},
   "outputs": [
    {
     "data": {
      "text/plain": [
       "{1}"
      ]
     },
     "execution_count": 101,
     "metadata": {},
     "output_type": "execute_result"
    }
   ],
   "source": [
    "s1 - s2"
   ]
  },
  {
   "cell_type": "code",
   "execution_count": 102,
   "id": "1b96030c-b1e2-48b2-9b60-7f8a625f891b",
   "metadata": {},
   "outputs": [
    {
     "data": {
      "text/plain": [
       "{4, 5, 6}"
      ]
     },
     "execution_count": 102,
     "metadata": {},
     "output_type": "execute_result"
    }
   ],
   "source": [
    "s2 - s1"
   ]
  },
  {
   "cell_type": "markdown",
   "id": "d86d8fea-ad6b-40c5-82eb-967e1036a44d",
   "metadata": {},
   "source": [
    "Exercício: Dada uma lista de números, criar uma nova lista **sem** valores duplicados."
   ]
  },
  {
   "cell_type": "code",
   "execution_count": 57,
   "id": "4440c241-b6bc-463f-b9e3-f48a5a044769",
   "metadata": {},
   "outputs": [],
   "source": [
    "lista_com_duplicados = [0, 0, 0, 1, 1, 2, 3, 4, 4, 5, 5, 5, 6, 7, 7]"
   ]
  },
  {
   "cell_type": "code",
   "execution_count": 137,
   "id": "3e5a241b-33af-4a66-b108-b34a1edda0d1",
   "metadata": {},
   "outputs": [],
   "source": [
    "lista_sem_duplicados = list(set(lista_com_duplicados))"
   ]
  },
  {
   "cell_type": "code",
   "execution_count": null,
   "id": "4b5e4308-d7b8-4420-ac77-f33372b6c6f4",
   "metadata": {},
   "outputs": [],
   "source": [
    "conjunto = set(lista_com_duplicados)\n",
    "lista_sem_duplicados = list(conjunto)"
   ]
  },
  {
   "cell_type": "code",
   "execution_count": 138,
   "id": "85cf40ed-0d61-4079-9366-5cd192c4247c",
   "metadata": {},
   "outputs": [
    {
     "data": {
      "text/plain": [
       "[0, 1, 2, 3, 4, 5, 6, 7]"
      ]
     },
     "execution_count": 138,
     "metadata": {},
     "output_type": "execute_result"
    }
   ],
   "source": [
    "lista_sem_duplicados"
   ]
  },
  {
   "cell_type": "code",
   "execution_count": 139,
   "id": "a0eebf2f-6bfd-4126-a5db-cfc83a224ab6",
   "metadata": {},
   "outputs": [
    {
     "data": {
      "text/plain": [
       "list"
      ]
     },
     "execution_count": 139,
     "metadata": {},
     "output_type": "execute_result"
    }
   ],
   "source": [
    "type(lista_sem_duplicados)"
   ]
  }
 ],
 "metadata": {
  "kernelspec": {
   "display_name": "Python 3",
   "language": "python",
   "name": "python3"
  },
  "language_info": {
   "codemirror_mode": {
    "name": "ipython",
    "version": 3
   },
   "file_extension": ".py",
   "mimetype": "text/x-python",
   "name": "python",
   "nbconvert_exporter": "python",
   "pygments_lexer": "ipython3",
   "version": "3.8.8"
  }
 },
 "nbformat": 4,
 "nbformat_minor": 5
}
