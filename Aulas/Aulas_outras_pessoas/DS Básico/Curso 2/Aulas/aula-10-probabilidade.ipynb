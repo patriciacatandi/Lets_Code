{
 "cells": [
  {
   "cell_type": "code",
   "execution_count": 469,
   "id": "bd5eae53-9e14-4edb-9b25-3780cd0990ca",
   "metadata": {},
   "outputs": [],
   "source": [
    "pilhas = [[2], [4, 1], [3]]"
   ]
  },
  {
   "cell_type": "code",
   "execution_count": 470,
   "id": "ed3ce91d-29b2-4726-aedd-5dc733a7c323",
   "metadata": {},
   "outputs": [],
   "source": [
    "max_len = max([len(k) for k in l])"
   ]
  },
  {
   "cell_type": "code",
   "execution_count": 471,
   "id": "b378c97e-d627-4123-815c-9b12c337201c",
   "metadata": {},
   "outputs": [],
   "source": [
    "_ = [pilha.append(\" \") for pilha in pilhas if len(pilha) < max_len]"
   ]
  },
  {
   "cell_type": "code",
   "execution_count": 473,
   "id": "0dde1f60-4175-48de-8aff-476d66081565",
   "metadata": {},
   "outputs": [
    {
     "name": "stdout",
     "output_type": "stream",
     "text": [
      "[[2, ' '], [4, 1], [3, ' ']]\n"
     ]
    }
   ],
   "source": [
    "print(pilhas)"
   ]
  },
  {
   "cell_type": "code",
   "execution_count": 477,
   "id": "4830818b-d53a-45a7-ab0b-7afd0a3d159b",
   "metadata": {},
   "outputs": [
    {
     "name": "stdout",
     "output_type": "stream",
     "text": [
      "  1   \n",
      "2 4 3 \n"
     ]
    }
   ],
   "source": [
    "for i in range(max_len-1, -1, -1):\n",
    "    for pilha in pilhas:\n",
    "        print(pilha[i], end=\" \")\n",
    "    print(\"\")"
   ]
  },
  {
   "cell_type": "code",
   "execution_count": null,
   "id": "42fad1c0-52c3-458a-a43b-f3d17f40b4ed",
   "metadata": {},
   "outputs": [],
   "source": []
  },
  {
   "cell_type": "code",
   "execution_count": null,
   "id": "c54112bb-0cf3-4a16-8be6-3526ab4ff355",
   "metadata": {},
   "outputs": [],
   "source": []
  },
  {
   "cell_type": "code",
   "execution_count": null,
   "id": "1cdec1a3-d4c8-4a9a-97ce-fafd3146ed2e",
   "metadata": {},
   "outputs": [],
   "source": []
  },
  {
   "cell_type": "code",
   "execution_count": 448,
   "id": "e081dac8-03de-4c6e-8d5a-260fa920e58c",
   "metadata": {},
   "outputs": [
    {
     "data": {
      "text/plain": [
       "array([[2, 0, 4],\n",
       "       [1, 3, 0]])"
      ]
     },
     "execution_count": 448,
     "metadata": {},
     "output_type": "execute_result"
    }
   ],
   "source": [
    "np.reshape(pilhas, (2, 3))"
   ]
  },
  {
   "cell_type": "code",
   "execution_count": null,
   "id": "627839d8-cf5e-4010-bf42-605ce673a2b9",
   "metadata": {},
   "outputs": [],
   "source": []
  },
  {
   "cell_type": "code",
   "execution_count": null,
   "id": "e949a966-c700-4e32-a602-9b0986173998",
   "metadata": {},
   "outputs": [],
   "source": []
  },
  {
   "cell_type": "code",
   "execution_count": null,
   "id": "69fb7b8a-6119-4c33-9986-51119ee44ae8",
   "metadata": {},
   "outputs": [],
   "source": []
  },
  {
   "cell_type": "code",
   "execution_count": 418,
   "id": "05fb8959-0b5c-49b3-8bc1-47807b6b2936",
   "metadata": {},
   "outputs": [
    {
     "data": {
      "text/plain": [
       "2"
      ]
     },
     "execution_count": 418,
     "metadata": {},
     "output_type": "execute_result"
    }
   ],
   "source": [
    "max_len"
   ]
  },
  {
   "cell_type": "code",
   "execution_count": null,
   "id": "ecfe8d07-2a1f-4264-bf2a-bba0aa4e9edb",
   "metadata": {},
   "outputs": [],
   "source": [
    "for i in range(max_len):\n",
    "    for pilha in pilhas:"
   ]
  },
  {
   "cell_type": "code",
   "execution_count": 430,
   "id": "09c64deb-9aa3-4238-a349-1d26438ec19d",
   "metadata": {},
   "outputs": [
    {
     "name": "stdout",
     "output_type": "stream",
     "text": [
      "2 4 3 /r\n",
      "1 /r\n"
     ]
    }
   ],
   "source": [
    "for i in range(max_len):\n",
    "    for pilha in pilhas:\n",
    "        try:\n",
    "            print(pilha[i], end=\" \")\n",
    "        except IndexError:\n",
    "            print(\"/r\")"
   ]
  },
  {
   "cell_type": "code",
   "execution_count": null,
   "id": "8540446d-0df6-400a-b9e0-298f500aeb3b",
   "metadata": {},
   "outputs": [],
   "source": [
    "for i in range(max_len):\n",
    "    for k "
   ]
  },
  {
   "cell_type": "code",
   "execution_count": null,
   "id": "b12b2575-d332-4fef-a4b0-c3d5c2e7be4c",
   "metadata": {},
   "outputs": [],
   "source": []
  },
  {
   "cell_type": "code",
   "execution_count": null,
   "id": "25d4ba7b-301c-46c1-b19f-c6b4845e492a",
   "metadata": {},
   "outputs": [],
   "source": []
  },
  {
   "cell_type": "code",
   "execution_count": null,
   "id": "6dd8f795-29d1-498f-b310-fa3d3bc5e490",
   "metadata": {},
   "outputs": [],
   "source": []
  },
  {
   "cell_type": "code",
   "execution_count": null,
   "id": "803ed38b-13f1-4943-b653-e7039637c4c0",
   "metadata": {},
   "outputs": [],
   "source": []
  },
  {
   "cell_type": "markdown",
   "id": "3dadac87-4169-4e39-99b8-50d72b35f884",
   "metadata": {},
   "source": [
    "# Stone V4 - Data Science"
   ]
  },
  {
   "cell_type": "markdown",
   "id": "aa48ac16-2766-4b16-ae34-cea34bc23824",
   "metadata": {},
   "source": [
    "---"
   ]
  },
  {
   "cell_type": "markdown",
   "id": "fa8b4044-c90e-4c39-b62d-08c2ca60361e",
   "metadata": {},
   "source": [
    "**Data:** 07/10/2021 \\\n",
    "**Prof.:** Gabriel R. Freitas"
   ]
  },
  {
   "cell_type": "code",
   "execution_count": 4,
   "id": "af4eada9-ad08-43b9-a9ab-188ec792ffdd",
   "metadata": {},
   "outputs": [],
   "source": [
    "import pandas as pd\n",
    "import numpy as np\n",
    "\n",
    "import random\n",
    "import statistics as st\n",
    "\n",
    "import seaborn as sns\n",
    "import matplotlib.pyplot as plt"
   ]
  },
  {
   "cell_type": "markdown",
   "id": "489dc355-ae91-46fc-8eaa-1431015d316b",
   "metadata": {},
   "source": [
    "# 1. Probabilidade"
   ]
  },
  {
   "cell_type": "markdown",
   "id": "407ed3d7-4a77-465b-a012-762e5be34a1e",
   "metadata": {},
   "source": [
    "### 1.1 Espaço Amostral\n",
    "\n",
    "Chamamos de espaço amostral ao conjunto de todos os resultados possíveis de um certo fenômeno aleatório. Ele é muitas vezes representado pela letra grega $\\omega$. Os subconjuntos de $\\omega$ são denominados eventos e representados pelas letras latinas maiúsculas A,B< ... . O conjunto vazio é denotado por $\\emptyset$.\n",
    "\n",
    "A união de dois eventos A e B, denotado por A U B representa a ocorrência de pelo menos um dos eventos A ou B. A intersecção do evento A com B, denotado por $A \\cap B$ é a ocorrência simultanea de A e B \n",
    "\n",
    "Dois eventos A e B são disjuntoss ou mutualmente exclusivos quando não têm elemento em comum. Isto é, $A \\cap B$ =  $\\emptyset$.\n",
    "\n",
    "\n",
    "Dizemos que A e B são complementares se sua união é o espaço amostral e sua intersecção é vazia. O complementar de A será representado por $A^{c}$"
   ]
  },
  {
   "cell_type": "markdown",
   "id": "b1f53089-0c7a-42d0-ada1-df78b2f75607",
   "metadata": {},
   "source": [
    "<center><img src=\"misc/venn.png\" width=\"500\" height=\"350\" /></center>"
   ]
  },
  {
   "cell_type": "markdown",
   "id": "90b2c1df-a53a-4aab-a2c0-41f2ea6b6fd2",
   "metadata": {},
   "source": [
    "**Exemplo:** \n",
    "\n",
    "    1.1 - Lançamos uma moeda duas vezes, se C indicar cara e R indicar coroa então temos um espaço amostral:\n",
    "    \n"
   ]
  },
  {
   "cell_type": "code",
   "execution_count": 25,
   "id": "11641202-8308-4133-a927-81253a3280e8",
   "metadata": {},
   "outputs": [],
   "source": [
    "w1 = [\"CC\", \"CR\", \"RR\", \"RC\"]"
   ]
  },
  {
   "cell_type": "code",
   "execution_count": 26,
   "id": "d837f242-044f-4bb8-92b0-8c74fded7ee0",
   "metadata": {},
   "outputs": [
    {
     "data": {
      "text/plain": [
       "['CC', 'CR', 'RR', 'RC']"
      ]
     },
     "execution_count": 26,
     "metadata": {},
     "output_type": "execute_result"
    }
   ],
   "source": [
    "w1"
   ]
  },
  {
   "cell_type": "code",
   "execution_count": 27,
   "id": "13fd670f-b504-4d1c-9ddb-210983b4495e",
   "metadata": {},
   "outputs": [],
   "source": [
    "eventos_com_r = 2\n",
    "eventos_totais = 4"
   ]
  },
  {
   "cell_type": "code",
   "execution_count": 28,
   "id": "645f846f-dce3-4875-9d07-e96fb4890b49",
   "metadata": {},
   "outputs": [
    {
     "data": {
      "text/plain": [
       "0.5"
      ]
     },
     "execution_count": 28,
     "metadata": {},
     "output_type": "execute_result"
    }
   ],
   "source": [
    "eventos_com_r / eventos_totais"
   ]
  },
  {
   "cell_type": "markdown",
   "id": "52d7cb08-ba62-4559-bef1-184c73cf3d5a",
   "metadata": {},
   "source": [
    "    1.2 - Uma fábrica produz determinado artigo. Da linha de produção são retirados 3 artigos, e cada um é classificado como bom (B), ou defeituoso (D). Um espaço amostral do experimento é:"
   ]
  },
  {
   "cell_type": "code",
   "execution_count": 33,
   "id": "7f97ac48-6415-4c60-842f-9ede8b5f8f95",
   "metadata": {},
   "outputs": [],
   "source": [
    "w2 = [\"BBB\", \"BBD\", \"BDB\", \"DBB\", \"DDB\", \"DBD\", \"BDD\", \"DDD\"]"
   ]
  },
  {
   "cell_type": "markdown",
   "id": "a3222ff1-39d9-4488-ab14-bf03121dc44f",
   "metadata": {},
   "source": [
    "Com exatamente duas defeituosas: 3/8 (37.5%)\n",
    "Com no mínimo duas defeituosas: 4/8 (50%)"
   ]
  },
  {
   "cell_type": "markdown",
   "id": "29fdb046-1c6e-46b4-a0bd-067dbb808839",
   "metadata": {},
   "source": [
    "    1.3 - Um dado de seis faces (honesto) é lançado 2 vezes. Qual a probabilidade da soma dos números resultantes ser maior que 8?"
   ]
  },
  {
   "cell_type": "code",
   "execution_count": 43,
   "id": "16bec891-6c4b-4a12-9961-8f8298bdec00",
   "metadata": {},
   "outputs": [],
   "source": [
    "possibilidades = []\n",
    "somas = []"
   ]
  },
  {
   "cell_type": "code",
   "execution_count": 44,
   "id": "688faa73-b2fd-42fd-8a86-518712c1eaf6",
   "metadata": {},
   "outputs": [],
   "source": [
    "for primeiro_dado in range(1, 7):\n",
    "    for segundo_dado in range(1, 7):\n",
    "\n",
    "        # Apenda uma tupla de possibilidades\n",
    "        possibilidade = (primeiro_dado, segundo_dado)\n",
    "        possibilidades.append(possibilidade)\n",
    "\n",
    "        # Apenda a soma dos valores dos dados\n",
    "        soma = primeiro_dado + segundo_dado\n",
    "        somas.append(soma)"
   ]
  },
  {
   "cell_type": "code",
   "execution_count": 47,
   "id": "cf24b8a0-b232-43cc-9e02-e54940e1b74e",
   "metadata": {},
   "outputs": [],
   "source": [
    "somas = np.array(somas)"
   ]
  },
  {
   "cell_type": "code",
   "execution_count": 52,
   "id": "98f68d89-302a-4db7-86d2-c12d6a4b25ec",
   "metadata": {},
   "outputs": [],
   "source": [
    "maiores_que_oito = len(somas[somas > 8])"
   ]
  },
  {
   "cell_type": "code",
   "execution_count": 53,
   "id": "934fef80-45ca-49a5-9b24-2d30f9e39307",
   "metadata": {},
   "outputs": [],
   "source": [
    "total = len(somas)"
   ]
  },
  {
   "cell_type": "code",
   "execution_count": 56,
   "id": "44656bef-0d4b-4f5c-9d90-1a170a8c6c55",
   "metadata": {},
   "outputs": [
    {
     "data": {
      "text/plain": [
       "0.2777777777777778"
      ]
     },
     "execution_count": 56,
     "metadata": {},
     "output_type": "execute_result"
    }
   ],
   "source": [
    "maiores_que_oito / total"
   ]
  },
  {
   "cell_type": "markdown",
   "id": "da7a1798-073b-423d-bcad-7af240757b83",
   "metadata": {},
   "source": [
    "### 1.2. Eventos Independentes & Probabilidade Condicional"
   ]
  },
  {
   "cell_type": "markdown",
   "id": "2ba05964-c2cf-42ef-aaa9-1905e6ba9d7c",
   "metadata": {},
   "source": [
    "#### Exercício - Idades/Compra"
   ]
  },
  {
   "cell_type": "code",
   "execution_count": 95,
   "id": "0c0f05a1-2985-4840-aeb7-ee5c8c9c690e",
   "metadata": {},
   "outputs": [
    {
     "data": {
      "text/plain": [
       "50"
      ]
     },
     "execution_count": 95,
     "metadata": {},
     "output_type": "execute_result"
    }
   ],
   "source": [
    "random.randint(2, 7) * 10"
   ]
  },
  {
   "cell_type": "code",
   "execution_count": 178,
   "id": "ac3fc261-6ea1-43fd-8010-e5f349f1621f",
   "metadata": {},
   "outputs": [],
   "source": [
    "contagens = []\n",
    "\n",
    "for _ in range(1000000):\n",
    "    contagens.append(random.random() < 0.32)"
   ]
  },
  {
   "cell_type": "code",
   "execution_count": 179,
   "id": "7966531e-5627-4b6a-8b57-638da0f7ac1e",
   "metadata": {},
   "outputs": [
    {
     "data": {
      "text/plain": [
       "320148"
      ]
     },
     "execution_count": 179,
     "metadata": {},
     "output_type": "execute_result"
    }
   ],
   "source": [
    "sum(contagens)"
   ]
  },
  {
   "cell_type": "code",
   "execution_count": 180,
   "id": "cf59651c-7728-4c7c-a439-21dfbaf29362",
   "metadata": {},
   "outputs": [
    {
     "data": {
      "text/plain": [
       "1000000"
      ]
     },
     "execution_count": 180,
     "metadata": {},
     "output_type": "execute_result"
    }
   ],
   "source": [
    "len(contagens)"
   ]
  },
  {
   "cell_type": "code",
   "execution_count": 181,
   "id": "ffc1e816-8a77-496c-acf2-83561a446893",
   "metadata": {},
   "outputs": [
    {
     "data": {
      "text/plain": [
       "0.320148"
      ]
     },
     "execution_count": 181,
     "metadata": {},
     "output_type": "execute_result"
    }
   ],
   "source": [
    "sum(contagens) / len(contagens)"
   ]
  },
  {
   "cell_type": "code",
   "execution_count": 64,
   "id": "b7161800-4da8-4c49-b9a9-d584ca0f1beb",
   "metadata": {},
   "outputs": [],
   "source": [
    "usuarios = {\n",
    "    20: 0,\n",
    "    30: 0,\n",
    "    40: 0,\n",
    "    50: 0,\n",
    "    60: 0,\n",
    "    70: 0    \n",
    "}"
   ]
  },
  {
   "cell_type": "code",
   "execution_count": 65,
   "id": "6a8a5388-99dd-4e7f-9cd5-7935d5253c2b",
   "metadata": {},
   "outputs": [],
   "source": [
    "compras = {\n",
    "    20: 0,\n",
    "    30: 0,\n",
    "    40: 0,\n",
    "    50: 0,\n",
    "    60: 0,\n",
    "    70: 0    \n",
    "}"
   ]
  },
  {
   "cell_type": "code",
   "execution_count": 182,
   "id": "7a4e4f0d-658c-4b6b-aed3-4d7ef14fe352",
   "metadata": {},
   "outputs": [],
   "source": [
    "total = 0"
   ]
  },
  {
   "cell_type": "code",
   "execution_count": 183,
   "id": "c4608e53-f8f8-478d-a62b-3c17b1aeb4b3",
   "metadata": {},
   "outputs": [],
   "source": [
    "N = 100000\n",
    "total = 0\n",
    "anos = [20, 30, 40, 50, 60, 70]\n",
    "\n",
    "for _ in range(N):\n",
    "    ano = random.choice(anos)\n",
    "    usuarios[ano] += 1\n",
    "\n",
    "    p_compra = ano / 100\n",
    "    \n",
    "    if random.random() < p_compra:\n",
    "        total += 1\n",
    "        compras[ano] += 1"
   ]
  },
  {
   "cell_type": "code",
   "execution_count": 184,
   "id": "1628f2ad-8d87-4549-bf6b-6f3c11869fe7",
   "metadata": {},
   "outputs": [
    {
     "data": {
      "text/plain": [
       "{20: 16684, 30: 16636, 40: 16611, 50: 16884, 60: 16650, 70: 16536}"
      ]
     },
     "execution_count": 184,
     "metadata": {},
     "output_type": "execute_result"
    }
   ],
   "source": [
    "usuarios"
   ]
  },
  {
   "cell_type": "code",
   "execution_count": 185,
   "id": "1c97f2a1-f45e-4240-81a6-35c1f82af06b",
   "metadata": {},
   "outputs": [
    {
     "data": {
      "text/plain": [
       "{20: 3329, 30: 4896, 40: 6609, 50: 8394, 60: 9975, 70: 11469}"
      ]
     },
     "execution_count": 185,
     "metadata": {},
     "output_type": "execute_result"
    }
   ],
   "source": [
    "compras"
   ]
  },
  {
   "cell_type": "code",
   "execution_count": 253,
   "id": "392f1c1b-1f77-44b6-85d4-913c4cbe14cd",
   "metadata": {},
   "outputs": [
    {
     "name": "stdout",
     "output_type": "stream",
     "text": [
      "P(compra | 30 anos) = 0.29430151478720845\n"
     ]
    }
   ],
   "source": [
    "# prob. de ter uma comprar dado que o usuário tem 30 anos\n",
    "\n",
    "p = compras[30] / usuarios[30]\n",
    "print(f\"P(compra | 30 anos) = {p}\")"
   ]
  },
  {
   "cell_type": "code",
   "execution_count": 262,
   "id": "411809e4-3bfc-4e7a-beb3-d5c5d0a7c237",
   "metadata": {},
   "outputs": [
    {
     "data": {
      "text/plain": [
       "0.16636"
      ]
     },
     "execution_count": 262,
     "metadata": {},
     "output_type": "execute_result"
    }
   ],
   "source": [
    "# prob. de uma compra ter sido realizada por um usuário de 30 anos\n",
    "usuarios[30] / N"
   ]
  },
  {
   "cell_type": "code",
   "execution_count": 267,
   "id": "2d94109f-2754-422b-b858-2ef254d28725",
   "metadata": {},
   "outputs": [],
   "source": [
    "numero_usuarios = N\n",
    "total_de_compras = total"
   ]
  },
  {
   "cell_type": "code",
   "execution_count": 276,
   "id": "cb066678-fb98-4cd7-8b10-9197c28378ac",
   "metadata": {},
   "outputs": [
    {
     "name": "stdout",
     "output_type": "stream",
     "text": [
      "0.44672\n"
     ]
    }
   ],
   "source": [
    "# prob. de qualquer usuário comprar o item\n",
    "r = total_de_compras / numero_usuarios\n",
    "print(r)"
   ]
  },
  {
   "cell_type": "markdown",
   "id": "bb660fb4-bd69-4f72-9574-6532faf46a8a",
   "metadata": {},
   "source": [
    "### 1.4 Distribuições"
   ]
  },
  {
   "cell_type": "markdown",
   "id": "82815d60-3f09-4cd6-af33-dd0e7dc0eb06",
   "metadata": {},
   "source": [
    "[Apresentação modelo RFM de distribuições probabilísticas.](https://docs.google.com/presentation/d/11xhS3nA9XH-VtO2qWKb8wUkQVN75cbcVlxTDQoifvSU/edit?usp=sharing)"
   ]
  },
  {
   "cell_type": "markdown",
   "id": "e50804d1-40b3-43fc-998d-2658184d59b3",
   "metadata": {
    "colab_type": "text",
    "id": "5cOy7DXW0TFN"
   },
   "source": [
    "**Distribuição Binomial**\n",
    "\n",
    "São n ensaios de Bernoulli com mesma probabilidade de sucesso e independentes, ou seja, o resultado de um ensaio não influencia no resultado de outro ensaio.\n",
    "\n",
    "Exemplo: uma moeda honesta é lançada 3 vezes. Cada lançamento é independente do outro e a probabilidade de cara (sucesso) será 0,5 em todos os lançamentos.\n",
    "\n",
    "Deste exemplo, podemos nos perguntar: dado que a moeda é lançada 3 vezes qual é a probabilidade de se obter duas caras? Indiquemos o sucesso (cara) por Se fracasso (coroa) por F. Então estamos interessados na probabilidade do evento:"
   ]
  },
  {
   "cell_type": "markdown",
   "id": "afd6c81e-250a-4da3-bf9b-37dc6f0683ec",
   "metadata": {},
   "source": [
    "**Distribuição de Poisson**\n",
    "\n",
    "É largamente empregada quando se deseja contar o número de eventos de certo tipo que ocorrem num intervalo de tempo.\n",
    "\n",
    "Exemplos:\n",
    "\n",
    "- Número de chamadas recebidas por um telefone durante 5 minutos;\n",
    "- Número de falhas de um computador num dia de operação."
   ]
  },
  {
   "cell_type": "markdown",
   "id": "288be10d-8a2e-40d7-93da-f6c7da74aa3a",
   "metadata": {},
   "source": [
    "**Distribuição Normal (Gaussiana, sino)**\n",
    "\n",
    "A curva de distribuição normal representa o comportamento de diversos processos nas empresas e muitos fenômenos comuns, como por exemplo, altura ou peso de uma população, a pressão sanguínea de um grupo de pessoas, o tempo que um grupo de estudantes gasta para realizar uma prova.\n",
    "\n",
    "A distribuição normal pode ser usada para aproximar distribuições discretas de probabilidade, como por exemplo a distribuição binomial. Além disso, a distribuição normal serve também como base para a inferência estatística clássica.  Nela, a média, mediana e moda dos dados possuem o mesmo valor. \n",
    "\n",
    "<center><img src=\"https://drive.google.com/uc?id=1tARyJcF351a8QhnQj6z4vkfkcv0FX2N-\" width=\"500\" height=\"450\" /></center>\n",
    "\n",
    "Usaremos a notação X ~ N($\\mu$,$\\sigma^2$) para representar uma V.A. com distribuição Normal de média $\\mu$ e variância $\\sigma^2$.\n",
    "\n",
    "Segundo o Teorema Central do Limite, para grandes amostras, independentemente da distribuição da variável de interesse, a distribuição das médias amostrais serão aproximadamente normalmente distribuídas, e tenderão a uma distribuição normal à medida que o tamanho de amostra crescer. \n",
    "\n",
    "$\\bar X$ ~ N($\\mu$,$\\frac{\\sigma^2}{\\sqrt{n}}$)\n",
    "\n",
    "Sendo n = tamanho amostral."
   ]
  },
  {
   "cell_type": "markdown",
   "id": "26e9436c-1d2c-4240-b4e9-73916e5266d0",
   "metadata": {},
   "source": [
    "### 1.5 Testes de Normalidade"
   ]
  },
  {
   "cell_type": "code",
   "execution_count": 279,
   "id": "fffd765d-b979-46b7-874a-de77c3bfff47",
   "metadata": {},
   "outputs": [],
   "source": [
    "df = pd.read_csv('dados/titanic.csv')"
   ]
  },
  {
   "cell_type": "code",
   "execution_count": 280,
   "id": "80b9b857-5479-4e0b-94e2-68fcebd64421",
   "metadata": {},
   "outputs": [
    {
     "data": {
      "text/html": [
       "<div>\n",
       "<style scoped>\n",
       "    .dataframe tbody tr th:only-of-type {\n",
       "        vertical-align: middle;\n",
       "    }\n",
       "\n",
       "    .dataframe tbody tr th {\n",
       "        vertical-align: top;\n",
       "    }\n",
       "\n",
       "    .dataframe thead th {\n",
       "        text-align: right;\n",
       "    }\n",
       "</style>\n",
       "<table border=\"1\" class=\"dataframe\">\n",
       "  <thead>\n",
       "    <tr style=\"text-align: right;\">\n",
       "      <th></th>\n",
       "      <th>PassengerId</th>\n",
       "      <th>Survived</th>\n",
       "      <th>Pclass</th>\n",
       "      <th>Name</th>\n",
       "      <th>Sex</th>\n",
       "      <th>Age</th>\n",
       "      <th>SibSp</th>\n",
       "      <th>Parch</th>\n",
       "      <th>Ticket</th>\n",
       "      <th>Fare</th>\n",
       "      <th>Cabin</th>\n",
       "      <th>Embarked</th>\n",
       "    </tr>\n",
       "  </thead>\n",
       "  <tbody>\n",
       "    <tr>\n",
       "      <th>0</th>\n",
       "      <td>1</td>\n",
       "      <td>0</td>\n",
       "      <td>3</td>\n",
       "      <td>Braund, Mr. Owen Harris</td>\n",
       "      <td>male</td>\n",
       "      <td>22.0</td>\n",
       "      <td>1</td>\n",
       "      <td>0</td>\n",
       "      <td>A/5 21171</td>\n",
       "      <td>7.2500</td>\n",
       "      <td>NaN</td>\n",
       "      <td>S</td>\n",
       "    </tr>\n",
       "    <tr>\n",
       "      <th>1</th>\n",
       "      <td>2</td>\n",
       "      <td>1</td>\n",
       "      <td>1</td>\n",
       "      <td>Cumings, Mrs. John Bradley (Florence Briggs Th...</td>\n",
       "      <td>female</td>\n",
       "      <td>38.0</td>\n",
       "      <td>1</td>\n",
       "      <td>0</td>\n",
       "      <td>PC 17599</td>\n",
       "      <td>71.2833</td>\n",
       "      <td>C85</td>\n",
       "      <td>C</td>\n",
       "    </tr>\n",
       "    <tr>\n",
       "      <th>2</th>\n",
       "      <td>3</td>\n",
       "      <td>1</td>\n",
       "      <td>3</td>\n",
       "      <td>Heikkinen, Miss. Laina</td>\n",
       "      <td>female</td>\n",
       "      <td>26.0</td>\n",
       "      <td>0</td>\n",
       "      <td>0</td>\n",
       "      <td>STON/O2. 3101282</td>\n",
       "      <td>7.9250</td>\n",
       "      <td>NaN</td>\n",
       "      <td>S</td>\n",
       "    </tr>\n",
       "    <tr>\n",
       "      <th>3</th>\n",
       "      <td>4</td>\n",
       "      <td>1</td>\n",
       "      <td>1</td>\n",
       "      <td>Futrelle, Mrs. Jacques Heath (Lily May Peel)</td>\n",
       "      <td>female</td>\n",
       "      <td>35.0</td>\n",
       "      <td>1</td>\n",
       "      <td>0</td>\n",
       "      <td>113803</td>\n",
       "      <td>53.1000</td>\n",
       "      <td>C123</td>\n",
       "      <td>S</td>\n",
       "    </tr>\n",
       "    <tr>\n",
       "      <th>4</th>\n",
       "      <td>5</td>\n",
       "      <td>0</td>\n",
       "      <td>3</td>\n",
       "      <td>Allen, Mr. William Henry</td>\n",
       "      <td>male</td>\n",
       "      <td>35.0</td>\n",
       "      <td>0</td>\n",
       "      <td>0</td>\n",
       "      <td>373450</td>\n",
       "      <td>8.0500</td>\n",
       "      <td>NaN</td>\n",
       "      <td>S</td>\n",
       "    </tr>\n",
       "  </tbody>\n",
       "</table>\n",
       "</div>"
      ],
      "text/plain": [
       "   PassengerId  Survived  Pclass  \\\n",
       "0            1         0       3   \n",
       "1            2         1       1   \n",
       "2            3         1       3   \n",
       "3            4         1       1   \n",
       "4            5         0       3   \n",
       "\n",
       "                                                Name     Sex   Age  SibSp  \\\n",
       "0                            Braund, Mr. Owen Harris    male  22.0      1   \n",
       "1  Cumings, Mrs. John Bradley (Florence Briggs Th...  female  38.0      1   \n",
       "2                             Heikkinen, Miss. Laina  female  26.0      0   \n",
       "3       Futrelle, Mrs. Jacques Heath (Lily May Peel)  female  35.0      1   \n",
       "4                           Allen, Mr. William Henry    male  35.0      0   \n",
       "\n",
       "   Parch            Ticket     Fare Cabin Embarked  \n",
       "0      0         A/5 21171   7.2500   NaN        S  \n",
       "1      0          PC 17599  71.2833   C85        C  \n",
       "2      0  STON/O2. 3101282   7.9250   NaN        S  \n",
       "3      0            113803  53.1000  C123        S  \n",
       "4      0            373450   8.0500   NaN        S  "
      ]
     },
     "execution_count": 280,
     "metadata": {},
     "output_type": "execute_result"
    }
   ],
   "source": [
    "df.head()"
   ]
  },
  {
   "cell_type": "code",
   "execution_count": 281,
   "id": "8ec99e21-a94b-4e51-8cfd-a097d0703bd9",
   "metadata": {},
   "outputs": [
    {
     "data": {
      "text/plain": [
       "0      22.0\n",
       "1      38.0\n",
       "2      26.0\n",
       "3      35.0\n",
       "4      35.0\n",
       "       ... \n",
       "886    27.0\n",
       "887    19.0\n",
       "888     NaN\n",
       "889    26.0\n",
       "890    32.0\n",
       "Name: Age, Length: 891, dtype: float64"
      ]
     },
     "execution_count": 281,
     "metadata": {},
     "output_type": "execute_result"
    }
   ],
   "source": [
    "df.Age"
   ]
  },
  {
   "cell_type": "markdown",
   "id": "9c28e2a8-7827-4368-8a42-95551c3a1bcb",
   "metadata": {},
   "source": [
    "#### Histograma"
   ]
  },
  {
   "cell_type": "code",
   "execution_count": 386,
   "id": "fa468453-2745-46b9-b819-e86d0b589ffa",
   "metadata": {},
   "outputs": [
    {
     "data": {
      "image/png": "[encoded data removed]",
      "text/plain": [
       "<Figure size 432x288 with 1 Axes>"
      ]
     },
     "metadata": {
      "needs_background": "light"
     },
     "output_type": "display_data"
    }
   ],
   "source": [
    "data_ficticio = 5 * np.random.randn(10000) + 50\n",
    "\n",
    "plt.hist(data_ficticio, bins=30);"
   ]
  },
  {
   "cell_type": "code",
   "execution_count": 346,
   "id": "94b2dc53-662b-4b3a-b543-a9c088f543da",
   "metadata": {},
   "outputs": [
    {
     "data": {
      "image/png": "[encoded data removed]",
      "text/plain": [
       "<Figure size 432x288 with 1 Axes>"
      ]
     },
     "metadata": {
      "needs_background": "light"
     },
     "output_type": "display_data"
    }
   ],
   "source": [
    "plt.hist(df.Age, bins=20);"
   ]
  },
  {
   "cell_type": "markdown",
   "id": "0d0172a3-67bb-4d40-8c90-9beebd659440",
   "metadata": {},
   "source": [
    "#### Quantile-Quantile (QQ) Plot"
   ]
  },
  {
   "cell_type": "code",
   "execution_count": 353,
   "id": "4092fae0-ae0c-40c3-af7a-31be62c2247b",
   "metadata": {},
   "outputs": [],
   "source": [
    "from statsmodels.graphics.gofplots import qqplot"
   ]
  },
  {
   "cell_type": "code",
   "execution_count": 387,
   "id": "bb60e2e9-f782-45df-98e2-b3005e354bc5",
   "metadata": {},
   "outputs": [
    {
     "data": {
      "image/png": "[encoded data removed]",
      "text/plain": [
       "<Figure size 432x288 with 1 Axes>"
      ]
     },
     "metadata": {
      "needs_background": "light"
     },
     "output_type": "display_data"
    }
   ],
   "source": [
    "qqplot(data_ficticio, line=\"s\");"
   ]
  },
  {
   "cell_type": "code",
   "execution_count": 359,
   "id": "1cca2a50-e033-43bf-bc9f-6878c500ca23",
   "metadata": {},
   "outputs": [
    {
     "data": {
      "image/png": "[encoded data removed]",
      "text/plain": [
       "<Figure size 432x288 with 1 Axes>"
      ]
     },
     "metadata": {
      "needs_background": "light"
     },
     "output_type": "display_data"
    }
   ],
   "source": [
    "qqplot(df.Age, line=\"s\");"
   ]
  },
  {
   "cell_type": "markdown",
   "id": "09f7f735-0b85-45d6-9d69-6f1af2dd7972",
   "metadata": {},
   "source": [
    "#### Shapiro-Wilk"
   ]
  },
  {
   "cell_type": "code",
   "execution_count": 360,
   "id": "4fd07444-780e-437d-850e-662913b47211",
   "metadata": {},
   "outputs": [],
   "source": [
    "from scipy.stats import shapiro"
   ]
  },
  {
   "cell_type": "code",
   "execution_count": 389,
   "id": "2f2399a2-b57f-476d-b90f-af1535f8ded0",
   "metadata": {},
   "outputs": [],
   "source": [
    "stat, p = shapiro(data_ficticio)"
   ]
  },
  {
   "cell_type": "code",
   "execution_count": 390,
   "id": "9a1d935b-59d8-42c5-83b7-56d4e91ec80b",
   "metadata": {},
   "outputs": [],
   "source": [
    "alpha = 0.05"
   ]
  },
  {
   "cell_type": "code",
   "execution_count": 391,
   "id": "bed4a19b-488c-49bb-ad5d-cfdb8c7ded1f",
   "metadata": {},
   "outputs": [
    {
     "name": "stdout",
     "output_type": "stream",
     "text": [
      "Amostra parece gaussiana (falhou em rejeitar hipótese nula)\n"
     ]
    }
   ],
   "source": [
    "if p > alpha:\n",
    "    print(\"Amostra parece gaussiana (falhou em rejeitar hipótese nula)\")\n",
    "else:\n",
    "    print(\"Amostra não parece gaussiana (rejeitou hipótese)\")"
   ]
  },
  {
   "cell_type": "code",
   "execution_count": 392,
   "id": "3e18bbe8-e0cd-472f-8c81-4e9f94705183",
   "metadata": {},
   "outputs": [],
   "source": [
    "stat, p = shapiro(df.Age)"
   ]
  },
  {
   "cell_type": "code",
   "execution_count": 393,
   "id": "b788b480-3c94-4d39-9abf-4be1f30a2b33",
   "metadata": {},
   "outputs": [],
   "source": [
    "alpha = 0.05"
   ]
  },
  {
   "cell_type": "code",
   "execution_count": 394,
   "id": "573fc340-6975-4231-a079-9054829011a0",
   "metadata": {},
   "outputs": [
    {
     "name": "stdout",
     "output_type": "stream",
     "text": [
      "Amostra parece gaussiana (falhou em rejeitar hipótese nula)\n"
     ]
    }
   ],
   "source": [
    "if p > alpha:\n",
    "    print(\"Amostra parece gaussiana (falhou em rejeitar hipótese nula)\")\n",
    "else:\n",
    "    print(\"Amostra não parece gaussiana (rejeitou hipótese)\")"
   ]
  },
  {
   "cell_type": "code",
   "execution_count": 411,
   "id": "3442e92a-b00d-499c-bb12-f5b1971ea3ad",
   "metadata": {},
   "outputs": [],
   "source": [
    "stat, p = shapiro(df.PassengerId)"
   ]
  },
  {
   "cell_type": "code",
   "execution_count": 412,
   "id": "8f30176e-16ce-44d7-9d56-d7ae91b32c18",
   "metadata": {},
   "outputs": [
    {
     "name": "stdout",
     "output_type": "stream",
     "text": [
      "Amostra não parece gaussiana (rejeitou hipótese)\n"
     ]
    }
   ],
   "source": [
    "if p > alpha:\n",
    "    print(\"Amostra parece gaussiana (falhou em rejeitar hipótese nula)\")\n",
    "else:\n",
    "    print(\"Amostra não parece gaussiana (rejeitou hipótese)\")"
   ]
  },
  {
   "cell_type": "code",
   "execution_count": 400,
   "id": "ed99d2c6-ec5a-45e4-ad03-19ce77d64bee",
   "metadata": {},
   "outputs": [
    {
     "data": {
      "image/png": "[encoded data removed]",
      "text/plain": [
       "<Figure size 432x288 with 1 Axes>"
      ]
     },
     "metadata": {
      "needs_background": "light"
     },
     "output_type": "display_data"
    }
   ],
   "source": [
    "plt.hist(df.Fare, bins=25);"
   ]
  },
  {
   "cell_type": "code",
   "execution_count": 402,
   "id": "6426c1f6-33b9-46de-98ab-cfa01b78125f",
   "metadata": {},
   "outputs": [],
   "source": [
    "stats, p = shapiro(df.Fare)"
   ]
  },
  {
   "cell_type": "code",
   "execution_count": 403,
   "id": "5d56975e-bdfe-4980-8e89-dc2b44fd7a64",
   "metadata": {},
   "outputs": [
    {
     "name": "stdout",
     "output_type": "stream",
     "text": [
      "Amostra não parece gaussiana (rejeitou hipótese)\n"
     ]
    }
   ],
   "source": [
    "if p > alpha:\n",
    "    print(\"Amostra parece gaussiana (falhou em rejeitar hipótese nula)\")\n",
    "else:\n",
    "    print(\"Amostra não parece gaussiana (rejeitou hipótese)\")"
   ]
  },
  {
   "cell_type": "markdown",
   "id": "71f8ddd7-a77a-4716-bb46-9d1e9a2986ff",
   "metadata": {},
   "source": [
    "##### Tuple Assignment"
   ]
  },
  {
   "cell_type": "code",
   "execution_count": 371,
   "id": "2c1b8e04-0133-49c9-a80f-dc87e28cb27f",
   "metadata": {},
   "outputs": [],
   "source": [
    "a, b, c = 1, 2, 3"
   ]
  },
  {
   "cell_type": "code",
   "execution_count": 374,
   "id": "98d0f20d-ada8-47c4-bb1c-b192fa7fbc5a",
   "metadata": {},
   "outputs": [
    {
     "data": {
      "text/plain": [
       "3"
      ]
     },
     "execution_count": 374,
     "metadata": {},
     "output_type": "execute_result"
    }
   ],
   "source": [
    "c"
   ]
  },
  {
   "cell_type": "code",
   "execution_count": 377,
   "id": "2da87b9a-dc94-486b-965f-b50f12de8539",
   "metadata": {},
   "outputs": [],
   "source": [
    "def func(dados):\n",
    "    # calcula teste estatístico se vê se o meu dado segue uma distribuição normal\n",
    "    return estatistica, p_valor"
   ]
  },
  {
   "cell_type": "code",
   "execution_count": 379,
   "id": "5c28d60c-e9e6-4bb7-ab38-f86d8d0f2d71",
   "metadata": {},
   "outputs": [],
   "source": [
    "x, y = func(3, 4)"
   ]
  },
  {
   "cell_type": "code",
   "execution_count": 380,
   "id": "d566d30c-d54f-4966-b049-a47240b9efa7",
   "metadata": {},
   "outputs": [
    {
     "data": {
      "text/plain": [
       "9"
      ]
     },
     "execution_count": 380,
     "metadata": {},
     "output_type": "execute_result"
    }
   ],
   "source": [
    "x"
   ]
  },
  {
   "cell_type": "code",
   "execution_count": 381,
   "id": "415a71e7-ff4d-4795-aad4-c416bc31d62c",
   "metadata": {},
   "outputs": [
    {
     "data": {
      "text/plain": [
       "16"
      ]
     },
     "execution_count": 381,
     "metadata": {},
     "output_type": "execute_result"
    }
   ],
   "source": [
    "y"
   ]
  }
 ],
 "metadata": {
  "kernelspec": {
   "display_name": "Python 3",
   "language": "python",
   "name": "python3"
  },
  "language_info": {
   "codemirror_mode": {
    "name": "ipython",
    "version": 3
   },
   "file_extension": ".py",
   "mimetype": "text/x-python",
   "name": "python",
   "nbconvert_exporter": "python",
   "pygments_lexer": "ipython3",
   "version": "3.8.8"
  }
 },
 "nbformat": 4,
 "nbformat_minor": 5
}
