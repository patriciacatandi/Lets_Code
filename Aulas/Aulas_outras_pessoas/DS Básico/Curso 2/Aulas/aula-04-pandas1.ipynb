{
 "cells": [
  {
   "cell_type": "markdown",
   "id": "591b5c9e-2259-406d-b9dd-b6231079c417",
   "metadata": {},
   "source": [
    "# Stone V4 - Data Science"
   ]
  },
  {
   "cell_type": "markdown",
   "id": "6cd85b4a-8951-4710-94c7-a89a89f1c1bf",
   "metadata": {},
   "source": [
    "---"
   ]
  },
  {
   "cell_type": "markdown",
   "id": "de352273-fe2c-4b6c-8aaa-d52a1eb27651",
   "metadata": {},
   "source": [
    "**Data:** 16/09/2021 \\\n",
    "**Prof.:** Gabriel R. Freitas \\\n",
    "**E-mail:** gab.ribeiro.freitas@gmail.com\\\n",
    "**LinkedIn:** www.linkedin.com/in/grfreitas/"
   ]
  },
  {
   "cell_type": "markdown",
   "id": "7df90301-1267-4afb-a4f8-41000d981fc6",
   "metadata": {},
   "source": [
    "# Aula 4 - Pandas [1/3]"
   ]
  },
  {
   "cell_type": "markdown",
   "id": "f2ea3332-9365-42f9-bdf8-c46e8aef893b",
   "metadata": {},
   "source": [
    "Pandas é uma biblioteca para análise de dados que facilita o trabalho com csvs, excel, etc."
   ]
  },
  {
   "cell_type": "markdown",
   "id": "5567f87e-631c-400b-a2ec-be89c1b2cb64",
   "metadata": {},
   "source": [
    "Como uma tabela de dados é estruturada:\n",
    "\n",
    "**- Colunas: pd.Series**\n",
    "\n",
    "**- Tabelas: pd.DataFrame**\n",
    "- Linhas: rows\n",
    "- Células: values"
   ]
  },
  {
   "cell_type": "code",
   "execution_count": 1,
   "id": "8407fb64-2688-4c33-8384-137096de5d1c",
   "metadata": {},
   "outputs": [],
   "source": [
    "import pandas as pd"
   ]
  },
  {
   "cell_type": "markdown",
   "id": "3fe5e9ac-0a9b-4d5b-99d2-1887f08efb26",
   "metadata": {},
   "source": [
    "#### Series"
   ]
  },
  {
   "cell_type": "code",
   "execution_count": 2,
   "id": "933a9a37-7ba1-4ef5-b6f8-af9be6dc13ab",
   "metadata": {},
   "outputs": [],
   "source": [
    "lista = [1, 2, 3, 4, 5, 6, 7]"
   ]
  },
  {
   "cell_type": "code",
   "execution_count": 3,
   "id": "9745e2ce-6e33-4a38-b61d-bac73eae1896",
   "metadata": {},
   "outputs": [],
   "source": [
    "series = pd.Series(lista)"
   ]
  },
  {
   "cell_type": "code",
   "execution_count": 4,
   "id": "a6784739-d807-42b5-a18e-a936ed2e8633",
   "metadata": {},
   "outputs": [
    {
     "data": {
      "text/plain": [
       "7"
      ]
     },
     "execution_count": 4,
     "metadata": {},
     "output_type": "execute_result"
    }
   ],
   "source": [
    "series.max()"
   ]
  },
  {
   "cell_type": "code",
   "execution_count": 5,
   "id": "47e38e75-f9cf-40be-a892-93683b23c33f",
   "metadata": {},
   "outputs": [
    {
     "data": {
      "text/plain": [
       "1"
      ]
     },
     "execution_count": 5,
     "metadata": {},
     "output_type": "execute_result"
    }
   ],
   "source": [
    "series.min()"
   ]
  },
  {
   "cell_type": "code",
   "execution_count": 6,
   "id": "0c14f897-4ac5-4b8f-99f3-b4b8c96db2ad",
   "metadata": {},
   "outputs": [
    {
     "data": {
      "text/plain": [
       "4.0"
      ]
     },
     "execution_count": 6,
     "metadata": {},
     "output_type": "execute_result"
    }
   ],
   "source": [
    "series.mean()"
   ]
  },
  {
   "cell_type": "code",
   "execution_count": 7,
   "id": "5ab7a21e-372e-471a-9cfc-ee4c6eb13a72",
   "metadata": {},
   "outputs": [
    {
     "data": {
      "text/plain": [
       "2.160246899469287"
      ]
     },
     "execution_count": 7,
     "metadata": {},
     "output_type": "execute_result"
    }
   ],
   "source": [
    "series.std()"
   ]
  },
  {
   "cell_type": "code",
   "execution_count": 8,
   "id": "690fbf7f-ccf1-4863-92b3-631cdf32f5ae",
   "metadata": {},
   "outputs": [
    {
     "data": {
      "text/plain": [
       "1"
      ]
     },
     "execution_count": 8,
     "metadata": {},
     "output_type": "execute_result"
    }
   ],
   "source": [
    "series[0]"
   ]
  },
  {
   "cell_type": "code",
   "execution_count": 9,
   "id": "0fccfe5a-28b0-4726-84f2-3bac892f3954",
   "metadata": {},
   "outputs": [
    {
     "data": {
      "text/plain": [
       "0    1\n",
       "1    2\n",
       "2    3\n",
       "3    4\n",
       "dtype: int64"
      ]
     },
     "execution_count": 9,
     "metadata": {},
     "output_type": "execute_result"
    }
   ],
   "source": [
    "series[0:4]"
   ]
  },
  {
   "cell_type": "code",
   "execution_count": 10,
   "id": "cf447529-8cac-4172-82c4-7a09f5c98e0d",
   "metadata": {},
   "outputs": [
    {
     "data": {
      "text/plain": [
       "0    1\n",
       "1    2\n",
       "2    3\n",
       "3    4\n",
       "4    5\n",
       "5    6\n",
       "6    7\n",
       "dtype: int64"
      ]
     },
     "execution_count": 10,
     "metadata": {},
     "output_type": "execute_result"
    }
   ],
   "source": [
    "series"
   ]
  },
  {
   "cell_type": "code",
   "execution_count": 11,
   "id": "e901abbb-1a51-4509-8247-2d72df77ca9b",
   "metadata": {},
   "outputs": [
    {
     "data": {
      "text/plain": [
       "7"
      ]
     },
     "execution_count": 11,
     "metadata": {},
     "output_type": "execute_result"
    }
   ],
   "source": [
    "len(series)"
   ]
  },
  {
   "cell_type": "code",
   "execution_count": 12,
   "id": "6eabb0db-e3ec-4990-a64a-2bbab2479b15",
   "metadata": {},
   "outputs": [
    {
     "data": {
      "text/plain": [
       "0    1\n",
       "1    2\n",
       "2    3\n",
       "dtype: int64"
      ]
     },
     "execution_count": 12,
     "metadata": {},
     "output_type": "execute_result"
    }
   ],
   "source": [
    "series.head(3)"
   ]
  },
  {
   "cell_type": "code",
   "execution_count": 13,
   "id": "f92ba0dc-49dd-4db1-891f-fe984e77f5f4",
   "metadata": {},
   "outputs": [
    {
     "data": {
      "text/plain": [
       "4    5\n",
       "5    6\n",
       "6    7\n",
       "dtype: int64"
      ]
     },
     "execution_count": 13,
     "metadata": {},
     "output_type": "execute_result"
    }
   ],
   "source": [
    "series.tail(3)"
   ]
  },
  {
   "cell_type": "code",
   "execution_count": 14,
   "id": "963d2620-841e-4eeb-9445-486f6037589d",
   "metadata": {},
   "outputs": [
    {
     "data": {
      "text/plain": [
       "6"
      ]
     },
     "execution_count": 14,
     "metadata": {},
     "output_type": "execute_result"
    }
   ],
   "source": [
    "series[5]"
   ]
  },
  {
   "cell_type": "code",
   "execution_count": 15,
   "id": "ab09ec42-1c83-4b14-9c9c-ce6417251cf6",
   "metadata": {},
   "outputs": [
    {
     "data": {
      "text/plain": [
       "0    1\n",
       "1    2\n",
       "2    3\n",
       "3    4\n",
       "4    5\n",
       "5    6\n",
       "6    7\n",
       "dtype: int64"
      ]
     },
     "execution_count": 15,
     "metadata": {},
     "output_type": "execute_result"
    }
   ],
   "source": [
    "series"
   ]
  },
  {
   "cell_type": "code",
   "execution_count": 16,
   "id": "1f4a6cf1-7753-4cf6-96a9-16520dc244ab",
   "metadata": {},
   "outputs": [
    {
     "data": {
      "text/plain": [
       "RangeIndex(start=0, stop=7, step=1)"
      ]
     },
     "execution_count": 16,
     "metadata": {},
     "output_type": "execute_result"
    }
   ],
   "source": [
    "series.index"
   ]
  },
  {
   "cell_type": "code",
   "execution_count": 17,
   "id": "f4d3c6e1-58bd-4607-a8f3-148f81c7a2ed",
   "metadata": {},
   "outputs": [
    {
     "data": {
      "text/plain": [
       "array([1, 2, 3, 4, 5, 6, 7])"
      ]
     },
     "execution_count": 17,
     "metadata": {},
     "output_type": "execute_result"
    }
   ],
   "source": [
    "series.values"
   ]
  },
  {
   "cell_type": "code",
   "execution_count": 18,
   "id": "4b19fc73-2b09-4792-8d6b-187cbb004254",
   "metadata": {},
   "outputs": [],
   "source": [
    "labels = [\"a\", \"b\", \"c\", \"d\", \"e\"]\n",
    "lista2 = [10, 20, 30, 50, 60] "
   ]
  },
  {
   "cell_type": "code",
   "execution_count": 19,
   "id": "2ab2e8d7-7a41-4942-9997-8b60c6d1afbd",
   "metadata": {},
   "outputs": [],
   "source": [
    "series2 = pd.Series(data=lista2, index=labels)"
   ]
  },
  {
   "cell_type": "code",
   "execution_count": 20,
   "id": "fd1d0be5-1b68-4eb1-a779-bc54c9a8c696",
   "metadata": {},
   "outputs": [
    {
     "data": {
      "text/plain": [
       "0    1\n",
       "1    2\n",
       "2    3\n",
       "3    4\n",
       "4    5\n",
       "5    6\n",
       "6    7\n",
       "dtype: int64"
      ]
     },
     "execution_count": 20,
     "metadata": {},
     "output_type": "execute_result"
    }
   ],
   "source": [
    "series"
   ]
  },
  {
   "cell_type": "code",
   "execution_count": 21,
   "id": "2d977637-51bc-44ee-aaab-9cc9e8a6a65a",
   "metadata": {},
   "outputs": [
    {
     "data": {
      "text/plain": [
       "a    10\n",
       "b    20\n",
       "c    30\n",
       "d    50\n",
       "e    60\n",
       "dtype: int64"
      ]
     },
     "execution_count": 21,
     "metadata": {},
     "output_type": "execute_result"
    }
   ],
   "source": [
    "series2"
   ]
  },
  {
   "cell_type": "code",
   "execution_count": 22,
   "id": "5f5fe8a7-a739-4b67-b74e-a69fad067a7b",
   "metadata": {},
   "outputs": [
    {
     "data": {
      "text/plain": [
       "10"
      ]
     },
     "execution_count": 22,
     "metadata": {},
     "output_type": "execute_result"
    }
   ],
   "source": [
    "series2[\"a\"]"
   ]
  },
  {
   "cell_type": "code",
   "execution_count": 23,
   "id": "466e4271-d827-4b6b-bf49-0e790a98129d",
   "metadata": {},
   "outputs": [
    {
     "data": {
      "text/plain": [
       "10"
      ]
     },
     "execution_count": 23,
     "metadata": {},
     "output_type": "execute_result"
    }
   ],
   "source": [
    "series2[0]"
   ]
  },
  {
   "cell_type": "code",
   "execution_count": 24,
   "id": "cbd1addf-c254-4952-aba1-90275ab1aaee",
   "metadata": {},
   "outputs": [
    {
     "data": {
      "text/plain": [
       "a    10\n",
       "b    20\n",
       "c    30\n",
       "d    50\n",
       "dtype: int64"
      ]
     },
     "execution_count": 24,
     "metadata": {},
     "output_type": "execute_result"
    }
   ],
   "source": [
    "series2[0:4]"
   ]
  },
  {
   "cell_type": "code",
   "execution_count": 25,
   "id": "4ea306ab-ef10-418d-bc33-32eaae0cb960",
   "metadata": {},
   "outputs": [
    {
     "data": {
      "text/plain": [
       "a    10\n",
       "b    20\n",
       "c    30\n",
       "d    50\n",
       "dtype: int64"
      ]
     },
     "execution_count": 25,
     "metadata": {},
     "output_type": "execute_result"
    }
   ],
   "source": [
    "series2[\"a\":\"d\"]"
   ]
  },
  {
   "cell_type": "code",
   "execution_count": 26,
   "id": "1fe1e317-eb3c-4be8-aae3-8384ca61f276",
   "metadata": {},
   "outputs": [],
   "source": [
    "# Series com dicionários\n",
    "dicionario = {\"A\": 10, \"B\": 100, \"C\": 1000}\n",
    "series3 = pd.Series(dicionario)"
   ]
  },
  {
   "cell_type": "code",
   "execution_count": 27,
   "id": "fce8eaa8-c6bc-4ccc-a36f-1728c417b5bc",
   "metadata": {},
   "outputs": [
    {
     "data": {
      "text/plain": [
       "10"
      ]
     },
     "execution_count": 27,
     "metadata": {},
     "output_type": "execute_result"
    }
   ],
   "source": [
    "series3[\"A\"]"
   ]
  },
  {
   "cell_type": "code",
   "execution_count": 28,
   "id": "03432dcf-0c88-457e-ba48-6416b08f4bc7",
   "metadata": {},
   "outputs": [],
   "source": [
    "# Operações com Series!\n",
    "dic1 = {\"Brasil\": 10, \"Colômbia\": 20, \"Equador\": 30}\n",
    "dic2 = {\"Brasil\": 10, \"Bolívia\": 20, \"Japão\": 10, \"Equador\": 50}"
   ]
  },
  {
   "cell_type": "code",
   "execution_count": 29,
   "id": "58159b69-af04-4769-8b41-7c7225215f88",
   "metadata": {},
   "outputs": [],
   "source": [
    "series1 = pd.Series(dic1)\n",
    "series2 = pd.Series(dic2)"
   ]
  },
  {
   "cell_type": "code",
   "execution_count": 30,
   "id": "7dcc29cf-8875-493b-a961-bdc7845e9881",
   "metadata": {},
   "outputs": [],
   "source": [
    "import numpy as np"
   ]
  },
  {
   "cell_type": "code",
   "execution_count": 31,
   "id": "3db98c86-2aac-42ab-8fe1-a702e9021164",
   "metadata": {},
   "outputs": [],
   "source": [
    "lista = [1, \"a\", [1, 2, 3]]"
   ]
  },
  {
   "cell_type": "code",
   "execution_count": 32,
   "id": "8ce0dfab-dd69-4862-8318-888f20fc7a1e",
   "metadata": {},
   "outputs": [
    {
     "name": "stdout",
     "output_type": "stream",
     "text": [
      "Brasil      10\n",
      "Colômbia    20\n",
      "Equador     30\n",
      "dtype: int64\n"
     ]
    }
   ],
   "source": [
    "print(series1)"
   ]
  },
  {
   "cell_type": "code",
   "execution_count": 33,
   "id": "214c4e5f-db38-4d4d-8686-af04d68cbd42",
   "metadata": {},
   "outputs": [
    {
     "name": "stdout",
     "output_type": "stream",
     "text": [
      "Brasil     10\n",
      "Bolívia    20\n",
      "Japão      10\n",
      "Equador    50\n",
      "dtype: int64\n"
     ]
    }
   ],
   "source": [
    "print(series2)"
   ]
  },
  {
   "cell_type": "code",
   "execution_count": 34,
   "id": "74d0be45-696b-4003-8bd3-391dc9cefd75",
   "metadata": {},
   "outputs": [
    {
     "data": {
      "text/plain": [
       "float"
      ]
     },
     "execution_count": 34,
     "metadata": {},
     "output_type": "execute_result"
    }
   ],
   "source": [
    "type(np.NaN)"
   ]
  },
  {
   "cell_type": "code",
   "execution_count": 35,
   "id": "997df065-34d6-4e0b-b07f-a7ee2fb98f2e",
   "metadata": {},
   "outputs": [],
   "source": [
    "series3 = series1 + series2"
   ]
  },
  {
   "cell_type": "code",
   "execution_count": 36,
   "id": "6c7a9adc-0c2a-4e0c-bd2f-c4f57b4484b8",
   "metadata": {},
   "outputs": [],
   "source": [
    "series4 = series3.astype(str)"
   ]
  },
  {
   "cell_type": "code",
   "execution_count": 37,
   "id": "94d8e499-ac45-4d2d-949e-bc18f9d36604",
   "metadata": {},
   "outputs": [
    {
     "data": {
      "text/plain": [
       "'20.0'"
      ]
     },
     "execution_count": 37,
     "metadata": {},
     "output_type": "execute_result"
    }
   ],
   "source": [
    "series4[\"Brasil\"]"
   ]
  },
  {
   "cell_type": "code",
   "execution_count": 38,
   "id": "1bf7d084-e778-4ed2-8278-67dffd4e5466",
   "metadata": {},
   "outputs": [
    {
     "data": {
      "text/plain": [
       "'nan'"
      ]
     },
     "execution_count": 38,
     "metadata": {},
     "output_type": "execute_result"
    }
   ],
   "source": [
    "series4[\"Bolívia\"]"
   ]
  },
  {
   "cell_type": "code",
   "execution_count": 39,
   "id": "3294fded-ccd0-45df-8668-5ea7de9a7ee8",
   "metadata": {},
   "outputs": [
    {
     "data": {
      "text/plain": [
       "array(['a', 'b', 'c', 'd', 'e'], dtype=object)"
      ]
     },
     "execution_count": 39,
     "metadata": {},
     "output_type": "execute_result"
    }
   ],
   "source": [
    "# Unique\n",
    "series1 = pd.Series(['a','b','c','a','d','e','c','a','e','d'])\n",
    "series1.unique()"
   ]
  },
  {
   "cell_type": "code",
   "execution_count": 40,
   "id": "5b387c4b-adec-48c6-b2ac-2b8e68662a28",
   "metadata": {},
   "outputs": [
    {
     "data": {
      "text/plain": [
       "5"
      ]
     },
     "execution_count": 40,
     "metadata": {},
     "output_type": "execute_result"
    }
   ],
   "source": [
    "# Número de valores únicos\n",
    "series1.nunique()"
   ]
  },
  {
   "cell_type": "code",
   "execution_count": 41,
   "id": "58d2c0cc-b155-43f4-b411-58985de289d2",
   "metadata": {},
   "outputs": [
    {
     "data": {
      "text/plain": [
       "a    3\n",
       "c    2\n",
       "d    2\n",
       "e    2\n",
       "b    1\n",
       "dtype: int64"
      ]
     },
     "execution_count": 41,
     "metadata": {},
     "output_type": "execute_result"
    }
   ],
   "source": [
    "# Contagem de cada um dos valores únicos\n",
    "series1.value_counts()"
   ]
  },
  {
   "cell_type": "code",
   "execution_count": 42,
   "id": "13dbf56c-4784-45a3-afde-57b7360ec42f",
   "metadata": {},
   "outputs": [
    {
     "data": {
      "text/plain": [
       "a    0.3\n",
       "c    0.2\n",
       "d    0.2\n",
       "e    0.2\n",
       "b    0.1\n",
       "dtype: float64"
      ]
     },
     "execution_count": 42,
     "metadata": {},
     "output_type": "execute_result"
    }
   ],
   "source": [
    "# Contagem de cada um dos valores únicos normalizada (soma 100%)\n",
    "series1.value_counts(normalize=True)"
   ]
  },
  {
   "cell_type": "code",
   "execution_count": 43,
   "id": "8b1e8b41-0852-4499-add1-e4a8263f4fbf",
   "metadata": {},
   "outputs": [
    {
     "data": {
      "text/plain": [
       "0    a\n",
       "3    a\n",
       "7    a\n",
       "dtype: object"
      ]
     },
     "execution_count": 43,
     "metadata": {},
     "output_type": "execute_result"
    }
   ],
   "source": [
    "# Máscara\n",
    "series1[series1 == \"a\"]"
   ]
  },
  {
   "cell_type": "markdown",
   "id": "efb4b2d7-0706-41fa-bb00-eb89aaba5ebf",
   "metadata": {},
   "source": [
    "Síntaxe diferente para comparações lógicas\n",
    "\n",
    "**| -> or \\\n",
    "& -> and**"
   ]
  },
  {
   "cell_type": "code",
   "execution_count": 44,
   "id": "3c4b448a-48bb-47e3-9845-caa9607be203",
   "metadata": {},
   "outputs": [
    {
     "data": {
      "text/plain": [
       "0    a\n",
       "1    b\n",
       "2    c\n",
       "3    a\n",
       "4    d\n",
       "5    e\n",
       "6    c\n",
       "7    a\n",
       "8    e\n",
       "9    d\n",
       "dtype: object"
      ]
     },
     "execution_count": 44,
     "metadata": {},
     "output_type": "execute_result"
    }
   ],
   "source": [
    "series1"
   ]
  },
  {
   "cell_type": "code",
   "execution_count": 45,
   "id": "d10cb251-0e37-4bbc-a405-379256f0f24b",
   "metadata": {},
   "outputs": [
    {
     "data": {
      "text/plain": [
       "0    a\n",
       "1    b\n",
       "3    a\n",
       "7    a\n",
       "dtype: object"
      ]
     },
     "execution_count": 45,
     "metadata": {},
     "output_type": "execute_result"
    }
   ],
   "source": [
    "series1[(series1 == \"a\") | (series1 == \"b\")]"
   ]
  },
  {
   "cell_type": "code",
   "execution_count": 46,
   "id": "85183e83-78fb-465d-8979-40563cbf9b66",
   "metadata": {},
   "outputs": [
    {
     "data": {
      "text/plain": [
       "0    a\n",
       "1    b\n",
       "3    a\n",
       "7    a\n",
       "dtype: object"
      ]
     },
     "execution_count": 46,
     "metadata": {},
     "output_type": "execute_result"
    }
   ],
   "source": [
    "series1[series1 <= \"b\"]"
   ]
  },
  {
   "cell_type": "code",
   "execution_count": 47,
   "id": "c2b98e6c-faa9-4bcb-ad5e-744b75dd72a8",
   "metadata": {},
   "outputs": [
    {
     "data": {
      "text/plain": [
       "0    a\n",
       "1    b\n",
       "2    c\n",
       "3    a\n",
       "4    d\n",
       "6    c\n",
       "7    a\n",
       "9    d\n",
       "dtype: object"
      ]
     },
     "execution_count": 47,
     "metadata": {},
     "output_type": "execute_result"
    }
   ],
   "source": [
    "lista_de_filtro = [\"a\", \"b\", \"c\", \"d\", \"f\"]\n",
    "series1[series1.isin(lista_de_filtro)]"
   ]
  },
  {
   "cell_type": "markdown",
   "id": "9432bc33-db27-418f-9841-e23918737a56",
   "metadata": {},
   "source": [
    "### DataFrames"
   ]
  },
  {
   "cell_type": "code",
   "execution_count": 48,
   "id": "9bddd17d-d449-4ad4-baeb-450098e7dfe0",
   "metadata": {},
   "outputs": [
    {
     "data": {
      "text/plain": [
       "pandas.core.frame.DataFrame"
      ]
     },
     "execution_count": 48,
     "metadata": {},
     "output_type": "execute_result"
    }
   ],
   "source": [
    "pd.DataFrame"
   ]
  },
  {
   "cell_type": "code",
   "execution_count": 49,
   "id": "a0ec48a8-c6f0-4ad0-99ba-c27134d2cdc9",
   "metadata": {},
   "outputs": [],
   "source": [
    "lista = np.random.rand(5, 3)"
   ]
  },
  {
   "cell_type": "code",
   "execution_count": 50,
   "id": "94d71b9a-261f-4bd1-b6c9-e633f0ed2ea3",
   "metadata": {},
   "outputs": [
    {
     "data": {
      "text/plain": [
       "(5, 3)"
      ]
     },
     "execution_count": 50,
     "metadata": {},
     "output_type": "execute_result"
    }
   ],
   "source": [
    "lista.shape"
   ]
  },
  {
   "cell_type": "code",
   "execution_count": 51,
   "id": "ce2895bc-fb4b-42b1-8b21-2c1caa3fd05d",
   "metadata": {},
   "outputs": [
    {
     "data": {
      "text/plain": [
       "array([[0.06096652, 0.87676447, 0.90182795],\n",
       "       [0.24336036, 0.63639307, 0.57781443],\n",
       "       [0.12094888, 0.1960146 , 0.07169075],\n",
       "       [0.9062168 , 0.14922836, 0.84772785],\n",
       "       [0.79795994, 0.78413434, 0.25670512]])"
      ]
     },
     "execution_count": 51,
     "metadata": {},
     "output_type": "execute_result"
    }
   ],
   "source": [
    "lista"
   ]
  },
  {
   "cell_type": "code",
   "execution_count": 52,
   "id": "d6f2d670-a309-4c90-9bad-10cb629eb2a2",
   "metadata": {},
   "outputs": [],
   "source": [
    "index = [\"a\", \"b\", \"c\", \"d\", \"e\"]\n",
    "columns = [\"x\", \"y\", \"z\"]\n",
    "\n",
    "df = pd.DataFrame(data=lista, index=index, columns=columns)"
   ]
  },
  {
   "cell_type": "code",
   "execution_count": 53,
   "id": "7de6afe8-5d4b-4eb8-9731-fbf7e2b4520e",
   "metadata": {},
   "outputs": [
    {
     "data": {
      "text/plain": [
       "a    0.060967\n",
       "b    0.243360\n",
       "c    0.120949\n",
       "d    0.906217\n",
       "e    0.797960\n",
       "Name: x, dtype: float64"
      ]
     },
     "execution_count": 53,
     "metadata": {},
     "output_type": "execute_result"
    }
   ],
   "source": [
    "df[\"x\"]"
   ]
  },
  {
   "cell_type": "code",
   "execution_count": 54,
   "id": "85e86841-ab3e-4929-ab39-a0495c56e17c",
   "metadata": {},
   "outputs": [
    {
     "data": {
      "text/plain": [
       "a    0.876764\n",
       "b    0.636393\n",
       "c    0.196015\n",
       "d    0.149228\n",
       "e    0.784134\n",
       "Name: y, dtype: float64"
      ]
     },
     "execution_count": 54,
     "metadata": {},
     "output_type": "execute_result"
    }
   ],
   "source": [
    "df[\"y\"]"
   ]
  },
  {
   "cell_type": "code",
   "execution_count": 55,
   "id": "aae1aefd-37e7-414f-8651-855a679fd2ee",
   "metadata": {},
   "outputs": [
    {
     "data": {
      "text/plain": [
       "pandas.core.series.Series"
      ]
     },
     "execution_count": 55,
     "metadata": {},
     "output_type": "execute_result"
    }
   ],
   "source": [
    "type(df[\"x\"])"
   ]
  },
  {
   "cell_type": "markdown",
   "id": "daf01fab-a3f0-4284-b0ee-767f1b0a709d",
   "metadata": {},
   "source": [
    "#### Adendo de Append num dicionário"
   ]
  },
  {
   "cell_type": "code",
   "execution_count": 56,
   "id": "bfc6b250-9ecb-426f-9fc7-a5bbbcf0d321",
   "metadata": {},
   "outputs": [],
   "source": [
    "dicionario_vazio = {}"
   ]
  },
  {
   "cell_type": "code",
   "execution_count": 57,
   "id": "61b1c7ff-2364-4f3f-afd7-9f30b021f73f",
   "metadata": {},
   "outputs": [
    {
     "data": {
      "text/plain": [
       "{}"
      ]
     },
     "execution_count": 57,
     "metadata": {},
     "output_type": "execute_result"
    }
   ],
   "source": [
    "dicionario_vazio"
   ]
  },
  {
   "cell_type": "code",
   "execution_count": 58,
   "id": "01dc01b8-8ae8-45ae-baf6-19fbace395ae",
   "metadata": {},
   "outputs": [],
   "source": [
    "dicionario_vazio[\"chave\"] = 10"
   ]
  },
  {
   "cell_type": "code",
   "execution_count": 59,
   "id": "76450980-92c7-4526-97e3-3aac1c2000ad",
   "metadata": {},
   "outputs": [
    {
     "data": {
      "text/plain": [
       "{'chave': 10}"
      ]
     },
     "execution_count": 59,
     "metadata": {},
     "output_type": "execute_result"
    }
   ],
   "source": [
    "dicionario_vazio"
   ]
  },
  {
   "cell_type": "markdown",
   "id": "8473fa7b-6428-4a52-b84c-c54e0ff8fcbf",
   "metadata": {},
   "source": [
    "---"
   ]
  },
  {
   "cell_type": "code",
   "execution_count": 60,
   "id": "80d3923a-c852-4183-bd0f-8712878b024e",
   "metadata": {},
   "outputs": [],
   "source": [
    "# criar nova coluna\n",
    "df[\"s1\"] = df[\"x\"] + df[\"y\"] + df[\"z\"]"
   ]
  },
  {
   "cell_type": "code",
   "execution_count": 61,
   "id": "dda6bd43-a7a5-4d82-a9dd-3b5bd39e7d13",
   "metadata": {},
   "outputs": [
    {
     "data": {
      "text/html": [
       "<div>\n",
       "<style scoped>\n",
       "    .dataframe tbody tr th:only-of-type {\n",
       "        vertical-align: middle;\n",
       "    }\n",
       "\n",
       "    .dataframe tbody tr th {\n",
       "        vertical-align: top;\n",
       "    }\n",
       "\n",
       "    .dataframe thead th {\n",
       "        text-align: right;\n",
       "    }\n",
       "</style>\n",
       "<table border=\"1\" class=\"dataframe\">\n",
       "  <thead>\n",
       "    <tr style=\"text-align: right;\">\n",
       "      <th></th>\n",
       "      <th>x</th>\n",
       "      <th>y</th>\n",
       "      <th>z</th>\n",
       "      <th>s1</th>\n",
       "    </tr>\n",
       "  </thead>\n",
       "  <tbody>\n",
       "    <tr>\n",
       "      <th>a</th>\n",
       "      <td>0.060967</td>\n",
       "      <td>0.876764</td>\n",
       "      <td>0.901828</td>\n",
       "      <td>1.839559</td>\n",
       "    </tr>\n",
       "    <tr>\n",
       "      <th>b</th>\n",
       "      <td>0.243360</td>\n",
       "      <td>0.636393</td>\n",
       "      <td>0.577814</td>\n",
       "      <td>1.457568</td>\n",
       "    </tr>\n",
       "    <tr>\n",
       "      <th>c</th>\n",
       "      <td>0.120949</td>\n",
       "      <td>0.196015</td>\n",
       "      <td>0.071691</td>\n",
       "      <td>0.388654</td>\n",
       "    </tr>\n",
       "    <tr>\n",
       "      <th>d</th>\n",
       "      <td>0.906217</td>\n",
       "      <td>0.149228</td>\n",
       "      <td>0.847728</td>\n",
       "      <td>1.903173</td>\n",
       "    </tr>\n",
       "    <tr>\n",
       "      <th>e</th>\n",
       "      <td>0.797960</td>\n",
       "      <td>0.784134</td>\n",
       "      <td>0.256705</td>\n",
       "      <td>1.838799</td>\n",
       "    </tr>\n",
       "  </tbody>\n",
       "</table>\n",
       "</div>"
      ],
      "text/plain": [
       "          x         y         z        s1\n",
       "a  0.060967  0.876764  0.901828  1.839559\n",
       "b  0.243360  0.636393  0.577814  1.457568\n",
       "c  0.120949  0.196015  0.071691  0.388654\n",
       "d  0.906217  0.149228  0.847728  1.903173\n",
       "e  0.797960  0.784134  0.256705  1.838799"
      ]
     },
     "execution_count": 61,
     "metadata": {},
     "output_type": "execute_result"
    }
   ],
   "source": [
    "df"
   ]
  },
  {
   "cell_type": "code",
   "execution_count": 62,
   "id": "0bb84626-e105-4235-965e-bd03c7c3dd7d",
   "metadata": {},
   "outputs": [],
   "source": [
    "# Métodos de soma e eixo\n",
    "# axis=0 -> faz referência à vertical\n",
    "# axis=1 -> faz referência à horizontal\n",
    "\n",
    "df[\"s2\"] = df.sum(axis=1)"
   ]
  },
  {
   "cell_type": "code",
   "execution_count": 63,
   "id": "dc2fdd7f-dc78-4b03-a4d9-6ba6396b2e84",
   "metadata": {},
   "outputs": [],
   "source": [
    "# Criando novas colunas com valores únicos\n",
    "df[\"DADOS BANCÁRIOS - XD001\"] = 0\n",
    "df[\"50DADOS BANCÁRIOS - XD001\"] = 0"
   ]
  },
  {
   "cell_type": "code",
   "execution_count": 64,
   "id": "62636458-439f-4286-a75e-08ddfacc6b96",
   "metadata": {},
   "outputs": [
    {
     "data": {
      "text/plain": [
       "a    0.060967\n",
       "b    0.243360\n",
       "c    0.120949\n",
       "d    0.906217\n",
       "e    0.797960\n",
       "Name: x, dtype: float64"
      ]
     },
     "execution_count": 64,
     "metadata": {},
     "output_type": "execute_result"
    }
   ],
   "source": [
    "df[\"x\"]"
   ]
  },
  {
   "cell_type": "code",
   "execution_count": 65,
   "id": "4e73e8e8-28a5-47ae-8e86-a6e164af7ec2",
   "metadata": {},
   "outputs": [
    {
     "data": {
      "text/plain": [
       "a    0.060967\n",
       "b    0.243360\n",
       "c    0.120949\n",
       "d    0.906217\n",
       "e    0.797960\n",
       "Name: x, dtype: float64"
      ]
     },
     "execution_count": 65,
     "metadata": {},
     "output_type": "execute_result"
    }
   ],
   "source": [
    "df.x"
   ]
  },
  {
   "cell_type": "code",
   "execution_count": 66,
   "id": "84593f15-1ee0-470f-a44a-f0e331d82762",
   "metadata": {},
   "outputs": [
    {
     "data": {
      "text/html": [
       "<div>\n",
       "<style scoped>\n",
       "    .dataframe tbody tr th:only-of-type {\n",
       "        vertical-align: middle;\n",
       "    }\n",
       "\n",
       "    .dataframe tbody tr th {\n",
       "        vertical-align: top;\n",
       "    }\n",
       "\n",
       "    .dataframe thead th {\n",
       "        text-align: right;\n",
       "    }\n",
       "</style>\n",
       "<table border=\"1\" class=\"dataframe\">\n",
       "  <thead>\n",
       "    <tr style=\"text-align: right;\">\n",
       "      <th></th>\n",
       "      <th>x</th>\n",
       "      <th>y</th>\n",
       "    </tr>\n",
       "  </thead>\n",
       "  <tbody>\n",
       "    <tr>\n",
       "      <th>a</th>\n",
       "      <td>0.060967</td>\n",
       "      <td>0.876764</td>\n",
       "    </tr>\n",
       "    <tr>\n",
       "      <th>b</th>\n",
       "      <td>0.243360</td>\n",
       "      <td>0.636393</td>\n",
       "    </tr>\n",
       "    <tr>\n",
       "      <th>c</th>\n",
       "      <td>0.120949</td>\n",
       "      <td>0.196015</td>\n",
       "    </tr>\n",
       "    <tr>\n",
       "      <th>d</th>\n",
       "      <td>0.906217</td>\n",
       "      <td>0.149228</td>\n",
       "    </tr>\n",
       "    <tr>\n",
       "      <th>e</th>\n",
       "      <td>0.797960</td>\n",
       "      <td>0.784134</td>\n",
       "    </tr>\n",
       "  </tbody>\n",
       "</table>\n",
       "</div>"
      ],
      "text/plain": [
       "          x         y\n",
       "a  0.060967  0.876764\n",
       "b  0.243360  0.636393\n",
       "c  0.120949  0.196015\n",
       "d  0.906217  0.149228\n",
       "e  0.797960  0.784134"
      ]
     },
     "execution_count": 66,
     "metadata": {},
     "output_type": "execute_result"
    }
   ],
   "source": [
    "# Chamando múltiplas colunas!\n",
    "df[[\"x\", \"y\"]]"
   ]
  },
  {
   "cell_type": "code",
   "execution_count": 67,
   "id": "515a54e2-f266-4030-bf44-abd71f719df4",
   "metadata": {},
   "outputs": [
    {
     "data": {
      "text/html": [
       "<div>\n",
       "<style scoped>\n",
       "    .dataframe tbody tr th:only-of-type {\n",
       "        vertical-align: middle;\n",
       "    }\n",
       "\n",
       "    .dataframe tbody tr th {\n",
       "        vertical-align: top;\n",
       "    }\n",
       "\n",
       "    .dataframe thead th {\n",
       "        text-align: right;\n",
       "    }\n",
       "</style>\n",
       "<table border=\"1\" class=\"dataframe\">\n",
       "  <thead>\n",
       "    <tr style=\"text-align: right;\">\n",
       "      <th></th>\n",
       "      <th>x</th>\n",
       "      <th>y</th>\n",
       "      <th>z</th>\n",
       "      <th>s1</th>\n",
       "      <th>s2</th>\n",
       "      <th>DADOS BANCÁRIOS - XD001</th>\n",
       "      <th>50DADOS BANCÁRIOS - XD001</th>\n",
       "    </tr>\n",
       "  </thead>\n",
       "  <tbody>\n",
       "    <tr>\n",
       "      <th>a</th>\n",
       "      <td>0.060967</td>\n",
       "      <td>0.876764</td>\n",
       "      <td>0.901828</td>\n",
       "      <td>1.839559</td>\n",
       "      <td>3.679118</td>\n",
       "      <td>0</td>\n",
       "      <td>0</td>\n",
       "    </tr>\n",
       "    <tr>\n",
       "      <th>b</th>\n",
       "      <td>0.243360</td>\n",
       "      <td>0.636393</td>\n",
       "      <td>0.577814</td>\n",
       "      <td>1.457568</td>\n",
       "      <td>2.915136</td>\n",
       "      <td>0</td>\n",
       "      <td>0</td>\n",
       "    </tr>\n",
       "    <tr>\n",
       "      <th>c</th>\n",
       "      <td>0.120949</td>\n",
       "      <td>0.196015</td>\n",
       "      <td>0.071691</td>\n",
       "      <td>0.388654</td>\n",
       "      <td>0.777308</td>\n",
       "      <td>0</td>\n",
       "      <td>0</td>\n",
       "    </tr>\n",
       "    <tr>\n",
       "      <th>d</th>\n",
       "      <td>0.906217</td>\n",
       "      <td>0.149228</td>\n",
       "      <td>0.847728</td>\n",
       "      <td>1.903173</td>\n",
       "      <td>3.806346</td>\n",
       "      <td>0</td>\n",
       "      <td>0</td>\n",
       "    </tr>\n",
       "    <tr>\n",
       "      <th>e</th>\n",
       "      <td>0.797960</td>\n",
       "      <td>0.784134</td>\n",
       "      <td>0.256705</td>\n",
       "      <td>1.838799</td>\n",
       "      <td>3.677599</td>\n",
       "      <td>0</td>\n",
       "      <td>0</td>\n",
       "    </tr>\n",
       "  </tbody>\n",
       "</table>\n",
       "</div>"
      ],
      "text/plain": [
       "          x         y         z        s1        s2  DADOS BANCÁRIOS - XD001  \\\n",
       "a  0.060967  0.876764  0.901828  1.839559  3.679118                        0   \n",
       "b  0.243360  0.636393  0.577814  1.457568  2.915136                        0   \n",
       "c  0.120949  0.196015  0.071691  0.388654  0.777308                        0   \n",
       "d  0.906217  0.149228  0.847728  1.903173  3.806346                        0   \n",
       "e  0.797960  0.784134  0.256705  1.838799  3.677599                        0   \n",
       "\n",
       "   50DADOS BANCÁRIOS - XD001  \n",
       "a                          0  \n",
       "b                          0  \n",
       "c                          0  \n",
       "d                          0  \n",
       "e                          0  "
      ]
     },
     "execution_count": 67,
     "metadata": {},
     "output_type": "execute_result"
    }
   ],
   "source": [
    "df"
   ]
  },
  {
   "cell_type": "code",
   "execution_count": 68,
   "id": "c786d0b2-dae8-4331-8c08-e375548bf9e4",
   "metadata": {},
   "outputs": [
    {
     "data": {
      "text/plain": [
       "0.060966517796814945"
      ]
     },
     "execution_count": 68,
     "metadata": {},
     "output_type": "execute_result"
    }
   ],
   "source": [
    "#.    idx, cols\n",
    "df.loc[\"a\", \"x\"]"
   ]
  },
  {
   "cell_type": "code",
   "execution_count": 69,
   "id": "0c1e8c80-ceb4-47e0-9c18-05a2be4a0a63",
   "metadata": {},
   "outputs": [
    {
     "data": {
      "text/html": [
       "<div>\n",
       "<style scoped>\n",
       "    .dataframe tbody tr th:only-of-type {\n",
       "        vertical-align: middle;\n",
       "    }\n",
       "\n",
       "    .dataframe tbody tr th {\n",
       "        vertical-align: top;\n",
       "    }\n",
       "\n",
       "    .dataframe thead th {\n",
       "        text-align: right;\n",
       "    }\n",
       "</style>\n",
       "<table border=\"1\" class=\"dataframe\">\n",
       "  <thead>\n",
       "    <tr style=\"text-align: right;\">\n",
       "      <th></th>\n",
       "      <th>x</th>\n",
       "      <th>y</th>\n",
       "    </tr>\n",
       "  </thead>\n",
       "  <tbody>\n",
       "    <tr>\n",
       "      <th>b</th>\n",
       "      <td>0.243360</td>\n",
       "      <td>0.636393</td>\n",
       "    </tr>\n",
       "    <tr>\n",
       "      <th>c</th>\n",
       "      <td>0.120949</td>\n",
       "      <td>0.196015</td>\n",
       "    </tr>\n",
       "    <tr>\n",
       "      <th>d</th>\n",
       "      <td>0.906217</td>\n",
       "      <td>0.149228</td>\n",
       "    </tr>\n",
       "  </tbody>\n",
       "</table>\n",
       "</div>"
      ],
      "text/plain": [
       "          x         y\n",
       "b  0.243360  0.636393\n",
       "c  0.120949  0.196015\n",
       "d  0.906217  0.149228"
      ]
     },
     "execution_count": 69,
     "metadata": {},
     "output_type": "execute_result"
    }
   ],
   "source": [
    "df.loc[\"b\":\"d\", \"x\":\"y\"]"
   ]
  },
  {
   "cell_type": "code",
   "execution_count": 70,
   "id": "9d24b405-954a-4f73-acae-1b7e5f51e3c7",
   "metadata": {},
   "outputs": [
    {
     "data": {
      "text/html": [
       "<div>\n",
       "<style scoped>\n",
       "    .dataframe tbody tr th:only-of-type {\n",
       "        vertical-align: middle;\n",
       "    }\n",
       "\n",
       "    .dataframe tbody tr th {\n",
       "        vertical-align: top;\n",
       "    }\n",
       "\n",
       "    .dataframe thead th {\n",
       "        text-align: right;\n",
       "    }\n",
       "</style>\n",
       "<table border=\"1\" class=\"dataframe\">\n",
       "  <thead>\n",
       "    <tr style=\"text-align: right;\">\n",
       "      <th></th>\n",
       "      <th>x</th>\n",
       "      <th>y</th>\n",
       "      <th>z</th>\n",
       "      <th>s1</th>\n",
       "      <th>s2</th>\n",
       "      <th>DADOS BANCÁRIOS - XD001</th>\n",
       "      <th>50DADOS BANCÁRIOS - XD001</th>\n",
       "    </tr>\n",
       "  </thead>\n",
       "  <tbody>\n",
       "    <tr>\n",
       "      <th>a</th>\n",
       "      <td>0.060967</td>\n",
       "      <td>0.876764</td>\n",
       "      <td>0.901828</td>\n",
       "      <td>1.839559</td>\n",
       "      <td>3.679118</td>\n",
       "      <td>0</td>\n",
       "      <td>0</td>\n",
       "    </tr>\n",
       "    <tr>\n",
       "      <th>b</th>\n",
       "      <td>0.243360</td>\n",
       "      <td>0.636393</td>\n",
       "      <td>0.577814</td>\n",
       "      <td>1.457568</td>\n",
       "      <td>2.915136</td>\n",
       "      <td>0</td>\n",
       "      <td>0</td>\n",
       "    </tr>\n",
       "    <tr>\n",
       "      <th>c</th>\n",
       "      <td>0.120949</td>\n",
       "      <td>0.196015</td>\n",
       "      <td>0.071691</td>\n",
       "      <td>0.388654</td>\n",
       "      <td>0.777308</td>\n",
       "      <td>0</td>\n",
       "      <td>0</td>\n",
       "    </tr>\n",
       "    <tr>\n",
       "      <th>d</th>\n",
       "      <td>0.906217</td>\n",
       "      <td>0.149228</td>\n",
       "      <td>0.847728</td>\n",
       "      <td>1.903173</td>\n",
       "      <td>3.806346</td>\n",
       "      <td>0</td>\n",
       "      <td>0</td>\n",
       "    </tr>\n",
       "    <tr>\n",
       "      <th>e</th>\n",
       "      <td>0.797960</td>\n",
       "      <td>0.784134</td>\n",
       "      <td>0.256705</td>\n",
       "      <td>1.838799</td>\n",
       "      <td>3.677599</td>\n",
       "      <td>0</td>\n",
       "      <td>0</td>\n",
       "    </tr>\n",
       "  </tbody>\n",
       "</table>\n",
       "</div>"
      ],
      "text/plain": [
       "          x         y         z        s1        s2  DADOS BANCÁRIOS - XD001  \\\n",
       "a  0.060967  0.876764  0.901828  1.839559  3.679118                        0   \n",
       "b  0.243360  0.636393  0.577814  1.457568  2.915136                        0   \n",
       "c  0.120949  0.196015  0.071691  0.388654  0.777308                        0   \n",
       "d  0.906217  0.149228  0.847728  1.903173  3.806346                        0   \n",
       "e  0.797960  0.784134  0.256705  1.838799  3.677599                        0   \n",
       "\n",
       "   50DADOS BANCÁRIOS - XD001  \n",
       "a                          0  \n",
       "b                          0  \n",
       "c                          0  \n",
       "d                          0  \n",
       "e                          0  "
      ]
     },
     "execution_count": 70,
     "metadata": {},
     "output_type": "execute_result"
    }
   ],
   "source": [
    "df"
   ]
  },
  {
   "cell_type": "code",
   "execution_count": 71,
   "id": "360694e7-86c9-4706-bb75-3d54296c2144",
   "metadata": {},
   "outputs": [
    {
     "data": {
      "text/html": [
       "<div>\n",
       "<style scoped>\n",
       "    .dataframe tbody tr th:only-of-type {\n",
       "        vertical-align: middle;\n",
       "    }\n",
       "\n",
       "    .dataframe tbody tr th {\n",
       "        vertical-align: top;\n",
       "    }\n",
       "\n",
       "    .dataframe thead th {\n",
       "        text-align: right;\n",
       "    }\n",
       "</style>\n",
       "<table border=\"1\" class=\"dataframe\">\n",
       "  <thead>\n",
       "    <tr style=\"text-align: right;\">\n",
       "      <th></th>\n",
       "      <th>y</th>\n",
       "      <th>z</th>\n",
       "    </tr>\n",
       "  </thead>\n",
       "  <tbody>\n",
       "    <tr>\n",
       "      <th>a</th>\n",
       "      <td>0.876764</td>\n",
       "      <td>0.901828</td>\n",
       "    </tr>\n",
       "    <tr>\n",
       "      <th>b</th>\n",
       "      <td>0.636393</td>\n",
       "      <td>0.577814</td>\n",
       "    </tr>\n",
       "    <tr>\n",
       "      <th>c</th>\n",
       "      <td>0.196015</td>\n",
       "      <td>0.071691</td>\n",
       "    </tr>\n",
       "    <tr>\n",
       "      <th>d</th>\n",
       "      <td>0.149228</td>\n",
       "      <td>0.847728</td>\n",
       "    </tr>\n",
       "    <tr>\n",
       "      <th>e</th>\n",
       "      <td>0.784134</td>\n",
       "      <td>0.256705</td>\n",
       "    </tr>\n",
       "  </tbody>\n",
       "</table>\n",
       "</div>"
      ],
      "text/plain": [
       "          y         z\n",
       "a  0.876764  0.901828\n",
       "b  0.636393  0.577814\n",
       "c  0.196015  0.071691\n",
       "d  0.149228  0.847728\n",
       "e  0.784134  0.256705"
      ]
     },
     "execution_count": 71,
     "metadata": {},
     "output_type": "execute_result"
    }
   ],
   "source": [
    "df.loc[:, [\"y\", \"z\"]]"
   ]
  },
  {
   "cell_type": "code",
   "execution_count": 72,
   "id": "ad282620-99a4-41f1-9644-b2801e152272",
   "metadata": {},
   "outputs": [
    {
     "data": {
      "text/plain": [
       "x                            0.120949\n",
       "y                            0.196015\n",
       "z                            0.071691\n",
       "s1                           0.388654\n",
       "s2                           0.777308\n",
       "DADOS BANCÁRIOS - XD001      0.000000\n",
       "50DADOS BANCÁRIOS - XD001    0.000000\n",
       "Name: c, dtype: float64"
      ]
     },
     "execution_count": 72,
     "metadata": {},
     "output_type": "execute_result"
    }
   ],
   "source": [
    "df.iloc[2]"
   ]
  },
  {
   "cell_type": "markdown",
   "id": "8115a9f3-a8e1-46f5-bcd4-c0a8771645ca",
   "metadata": {},
   "source": [
    "#### Diferenças de acesso"
   ]
  },
  {
   "cell_type": "code",
   "execution_count": 73,
   "id": "672fbedd-b567-40bb-a953-057d9292da2a",
   "metadata": {},
   "outputs": [
    {
     "data": {
      "text/plain": [
       "a    0.060967\n",
       "b    0.243360\n",
       "c    0.120949\n",
       "d    0.906217\n",
       "e    0.797960\n",
       "Name: x, dtype: float64"
      ]
     },
     "execution_count": 73,
     "metadata": {},
     "output_type": "execute_result"
    }
   ],
   "source": [
    "# Mais utilizada quando apenas queremos acessar os valores e não criar uma nova coluna!\n",
    "df.x"
   ]
  },
  {
   "cell_type": "code",
   "execution_count": 77,
   "id": "1bde9ac1-7d23-4b64-9a90-2c53988dcedb",
   "metadata": {},
   "outputs": [
    {
     "data": {
      "text/plain": [
       "a    0\n",
       "b    0\n",
       "c    0\n",
       "d    0\n",
       "e    0\n",
       "Name: DADOS BANCÁRIOS - XD001, dtype: int64"
      ]
     },
     "execution_count": 77,
     "metadata": {},
     "output_type": "execute_result"
    }
   ],
   "source": [
    "# Mais utilizada quando apenas queremos acessar os valores e não criar uma nova coluna!\n",
    "# SÓ QUE o nome da coluna possui caracteres que impossibilita a primeira maneira\n",
    "df['DADOS BANCÁRIOS - XD001']"
   ]
  },
  {
   "cell_type": "code",
   "execution_count": 78,
   "id": "dd584b5d-9b98-4f63-8730-2a21328b6182",
   "metadata": {},
   "outputs": [
    {
     "data": {
      "text/plain": [
       "a    0.060967\n",
       "b    0.243360\n",
       "c    0.120949\n",
       "d    0.906217\n",
       "e    0.797960\n",
       "Name: x, dtype: float64"
      ]
     },
     "execution_count": 78,
     "metadata": {},
     "output_type": "execute_result"
    }
   ],
   "source": [
    "# Mais utilizado quando vamos criar uma nova coluna\n",
    "df.loc[:, \"x\"]"
   ]
  },
  {
   "cell_type": "code",
   "execution_count": 79,
   "id": "ebd05c72-5472-4176-a2f1-fda049989342",
   "metadata": {},
   "outputs": [
    {
     "data": {
      "text/html": [
       "<div>\n",
       "<style scoped>\n",
       "    .dataframe tbody tr th:only-of-type {\n",
       "        vertical-align: middle;\n",
       "    }\n",
       "\n",
       "    .dataframe tbody tr th {\n",
       "        vertical-align: top;\n",
       "    }\n",
       "\n",
       "    .dataframe thead th {\n",
       "        text-align: right;\n",
       "    }\n",
       "</style>\n",
       "<table border=\"1\" class=\"dataframe\">\n",
       "  <thead>\n",
       "    <tr style=\"text-align: right;\">\n",
       "      <th></th>\n",
       "      <th>x</th>\n",
       "      <th>y</th>\n",
       "      <th>z</th>\n",
       "      <th>s1</th>\n",
       "      <th>s2</th>\n",
       "      <th>DADOS BANCÁRIOS - XD001</th>\n",
       "      <th>50DADOS BANCÁRIOS - XD001</th>\n",
       "    </tr>\n",
       "  </thead>\n",
       "  <tbody>\n",
       "    <tr>\n",
       "      <th>a</th>\n",
       "      <td>0.060967</td>\n",
       "      <td>0.876764</td>\n",
       "      <td>0.901828</td>\n",
       "      <td>1.839559</td>\n",
       "      <td>3.679118</td>\n",
       "      <td>0</td>\n",
       "      <td>0</td>\n",
       "    </tr>\n",
       "    <tr>\n",
       "      <th>b</th>\n",
       "      <td>0.243360</td>\n",
       "      <td>0.636393</td>\n",
       "      <td>0.577814</td>\n",
       "      <td>1.457568</td>\n",
       "      <td>2.915136</td>\n",
       "      <td>0</td>\n",
       "      <td>0</td>\n",
       "    </tr>\n",
       "    <tr>\n",
       "      <th>c</th>\n",
       "      <td>0.120949</td>\n",
       "      <td>0.196015</td>\n",
       "      <td>0.071691</td>\n",
       "      <td>0.388654</td>\n",
       "      <td>0.777308</td>\n",
       "      <td>0</td>\n",
       "      <td>0</td>\n",
       "    </tr>\n",
       "    <tr>\n",
       "      <th>d</th>\n",
       "      <td>0.906217</td>\n",
       "      <td>0.149228</td>\n",
       "      <td>0.847728</td>\n",
       "      <td>1.903173</td>\n",
       "      <td>3.806346</td>\n",
       "      <td>0</td>\n",
       "      <td>0</td>\n",
       "    </tr>\n",
       "    <tr>\n",
       "      <th>e</th>\n",
       "      <td>0.797960</td>\n",
       "      <td>0.784134</td>\n",
       "      <td>0.256705</td>\n",
       "      <td>1.838799</td>\n",
       "      <td>3.677599</td>\n",
       "      <td>0</td>\n",
       "      <td>0</td>\n",
       "    </tr>\n",
       "  </tbody>\n",
       "</table>\n",
       "</div>"
      ],
      "text/plain": [
       "          x         y         z        s1        s2  DADOS BANCÁRIOS - XD001  \\\n",
       "a  0.060967  0.876764  0.901828  1.839559  3.679118                        0   \n",
       "b  0.243360  0.636393  0.577814  1.457568  2.915136                        0   \n",
       "c  0.120949  0.196015  0.071691  0.388654  0.777308                        0   \n",
       "d  0.906217  0.149228  0.847728  1.903173  3.806346                        0   \n",
       "e  0.797960  0.784134  0.256705  1.838799  3.677599                        0   \n",
       "\n",
       "   50DADOS BANCÁRIOS - XD001  \n",
       "a                          0  \n",
       "b                          0  \n",
       "c                          0  \n",
       "d                          0  \n",
       "e                          0  "
      ]
     },
     "execution_count": 79,
     "metadata": {},
     "output_type": "execute_result"
    }
   ],
   "source": [
    "df"
   ]
  },
  {
   "cell_type": "code",
   "execution_count": 80,
   "id": "3fb27109-f7a2-42f2-b881-67c64e1f98b8",
   "metadata": {},
   "outputs": [],
   "source": [
    "# Deletando colunas -> axis=1\n",
    "df.drop(\"50DADOS BANCÁRIOS - XD001\", axis=1, inplace=True)"
   ]
  },
  {
   "cell_type": "code",
   "execution_count": 81,
   "id": "98828820-7909-401a-96f9-71978945868f",
   "metadata": {},
   "outputs": [
    {
     "data": {
      "text/html": [
       "<div>\n",
       "<style scoped>\n",
       "    .dataframe tbody tr th:only-of-type {\n",
       "        vertical-align: middle;\n",
       "    }\n",
       "\n",
       "    .dataframe tbody tr th {\n",
       "        vertical-align: top;\n",
       "    }\n",
       "\n",
       "    .dataframe thead th {\n",
       "        text-align: right;\n",
       "    }\n",
       "</style>\n",
       "<table border=\"1\" class=\"dataframe\">\n",
       "  <thead>\n",
       "    <tr style=\"text-align: right;\">\n",
       "      <th></th>\n",
       "      <th>x</th>\n",
       "      <th>y</th>\n",
       "      <th>z</th>\n",
       "      <th>s1</th>\n",
       "      <th>s2</th>\n",
       "      <th>DADOS BANCÁRIOS - XD001</th>\n",
       "    </tr>\n",
       "  </thead>\n",
       "  <tbody>\n",
       "    <tr>\n",
       "      <th>a</th>\n",
       "      <td>0.060967</td>\n",
       "      <td>0.876764</td>\n",
       "      <td>0.901828</td>\n",
       "      <td>1.839559</td>\n",
       "      <td>3.679118</td>\n",
       "      <td>0</td>\n",
       "    </tr>\n",
       "    <tr>\n",
       "      <th>b</th>\n",
       "      <td>0.243360</td>\n",
       "      <td>0.636393</td>\n",
       "      <td>0.577814</td>\n",
       "      <td>1.457568</td>\n",
       "      <td>2.915136</td>\n",
       "      <td>0</td>\n",
       "    </tr>\n",
       "    <tr>\n",
       "      <th>c</th>\n",
       "      <td>0.120949</td>\n",
       "      <td>0.196015</td>\n",
       "      <td>0.071691</td>\n",
       "      <td>0.388654</td>\n",
       "      <td>0.777308</td>\n",
       "      <td>0</td>\n",
       "    </tr>\n",
       "    <tr>\n",
       "      <th>d</th>\n",
       "      <td>0.906217</td>\n",
       "      <td>0.149228</td>\n",
       "      <td>0.847728</td>\n",
       "      <td>1.903173</td>\n",
       "      <td>3.806346</td>\n",
       "      <td>0</td>\n",
       "    </tr>\n",
       "    <tr>\n",
       "      <th>e</th>\n",
       "      <td>0.797960</td>\n",
       "      <td>0.784134</td>\n",
       "      <td>0.256705</td>\n",
       "      <td>1.838799</td>\n",
       "      <td>3.677599</td>\n",
       "      <td>0</td>\n",
       "    </tr>\n",
       "  </tbody>\n",
       "</table>\n",
       "</div>"
      ],
      "text/plain": [
       "          x         y         z        s1        s2  DADOS BANCÁRIOS - XD001\n",
       "a  0.060967  0.876764  0.901828  1.839559  3.679118                        0\n",
       "b  0.243360  0.636393  0.577814  1.457568  2.915136                        0\n",
       "c  0.120949  0.196015  0.071691  0.388654  0.777308                        0\n",
       "d  0.906217  0.149228  0.847728  1.903173  3.806346                        0\n",
       "e  0.797960  0.784134  0.256705  1.838799  3.677599                        0"
      ]
     },
     "execution_count": 81,
     "metadata": {},
     "output_type": "execute_result"
    }
   ],
   "source": [
    "df"
   ]
  },
  {
   "cell_type": "code",
   "execution_count": 82,
   "id": "fb9d541d-966b-4c06-b9a0-9942676456ba",
   "metadata": {},
   "outputs": [],
   "source": [
    "# Deletando linhas -> axis=0\n",
    "df.drop(\"a\", axis=0, inplace=True)"
   ]
  },
  {
   "cell_type": "code",
   "execution_count": 83,
   "id": "7f5def50-a46a-4bd3-98a0-6e4c76b5f877",
   "metadata": {},
   "outputs": [
    {
     "data": {
      "text/html": [
       "<div>\n",
       "<style scoped>\n",
       "    .dataframe tbody tr th:only-of-type {\n",
       "        vertical-align: middle;\n",
       "    }\n",
       "\n",
       "    .dataframe tbody tr th {\n",
       "        vertical-align: top;\n",
       "    }\n",
       "\n",
       "    .dataframe thead th {\n",
       "        text-align: right;\n",
       "    }\n",
       "</style>\n",
       "<table border=\"1\" class=\"dataframe\">\n",
       "  <thead>\n",
       "    <tr style=\"text-align: right;\">\n",
       "      <th></th>\n",
       "      <th>x</th>\n",
       "      <th>y</th>\n",
       "      <th>z</th>\n",
       "      <th>s1</th>\n",
       "      <th>s2</th>\n",
       "      <th>DADOS BANCÁRIOS - XD001</th>\n",
       "    </tr>\n",
       "  </thead>\n",
       "  <tbody>\n",
       "    <tr>\n",
       "      <th>b</th>\n",
       "      <td>0.243360</td>\n",
       "      <td>0.636393</td>\n",
       "      <td>0.577814</td>\n",
       "      <td>1.457568</td>\n",
       "      <td>2.915136</td>\n",
       "      <td>0</td>\n",
       "    </tr>\n",
       "    <tr>\n",
       "      <th>c</th>\n",
       "      <td>0.120949</td>\n",
       "      <td>0.196015</td>\n",
       "      <td>0.071691</td>\n",
       "      <td>0.388654</td>\n",
       "      <td>0.777308</td>\n",
       "      <td>0</td>\n",
       "    </tr>\n",
       "    <tr>\n",
       "      <th>d</th>\n",
       "      <td>0.906217</td>\n",
       "      <td>0.149228</td>\n",
       "      <td>0.847728</td>\n",
       "      <td>1.903173</td>\n",
       "      <td>3.806346</td>\n",
       "      <td>0</td>\n",
       "    </tr>\n",
       "    <tr>\n",
       "      <th>e</th>\n",
       "      <td>0.797960</td>\n",
       "      <td>0.784134</td>\n",
       "      <td>0.256705</td>\n",
       "      <td>1.838799</td>\n",
       "      <td>3.677599</td>\n",
       "      <td>0</td>\n",
       "    </tr>\n",
       "  </tbody>\n",
       "</table>\n",
       "</div>"
      ],
      "text/plain": [
       "          x         y         z        s1        s2  DADOS BANCÁRIOS - XD001\n",
       "b  0.243360  0.636393  0.577814  1.457568  2.915136                        0\n",
       "c  0.120949  0.196015  0.071691  0.388654  0.777308                        0\n",
       "d  0.906217  0.149228  0.847728  1.903173  3.806346                        0\n",
       "e  0.797960  0.784134  0.256705  1.838799  3.677599                        0"
      ]
     },
     "execution_count": 83,
     "metadata": {},
     "output_type": "execute_result"
    }
   ],
   "source": [
    "df"
   ]
  },
  {
   "cell_type": "code",
   "execution_count": 84,
   "id": "c80c410f-2813-4397-8016-7e56b431e9f3",
   "metadata": {},
   "outputs": [
    {
     "data": {
      "text/html": [
       "<div>\n",
       "<style scoped>\n",
       "    .dataframe tbody tr th:only-of-type {\n",
       "        vertical-align: middle;\n",
       "    }\n",
       "\n",
       "    .dataframe tbody tr th {\n",
       "        vertical-align: top;\n",
       "    }\n",
       "\n",
       "    .dataframe thead th {\n",
       "        text-align: right;\n",
       "    }\n",
       "</style>\n",
       "<table border=\"1\" class=\"dataframe\">\n",
       "  <thead>\n",
       "    <tr style=\"text-align: right;\">\n",
       "      <th></th>\n",
       "      <th>x</th>\n",
       "      <th>y</th>\n",
       "      <th>z</th>\n",
       "      <th>s1</th>\n",
       "      <th>s2</th>\n",
       "      <th>DADOS BANCÁRIOS - XD001</th>\n",
       "    </tr>\n",
       "  </thead>\n",
       "  <tbody>\n",
       "    <tr>\n",
       "      <th>b</th>\n",
       "      <td>0.243360</td>\n",
       "      <td>0.636393</td>\n",
       "      <td>0.577814</td>\n",
       "      <td>1.457568</td>\n",
       "      <td>2.915136</td>\n",
       "      <td>0</td>\n",
       "    </tr>\n",
       "    <tr>\n",
       "      <th>c</th>\n",
       "      <td>0.120949</td>\n",
       "      <td>0.196015</td>\n",
       "      <td>0.071691</td>\n",
       "      <td>0.388654</td>\n",
       "      <td>0.777308</td>\n",
       "      <td>0</td>\n",
       "    </tr>\n",
       "    <tr>\n",
       "      <th>d</th>\n",
       "      <td>0.906217</td>\n",
       "      <td>0.149228</td>\n",
       "      <td>0.847728</td>\n",
       "      <td>1.903173</td>\n",
       "      <td>3.806346</td>\n",
       "      <td>0</td>\n",
       "    </tr>\n",
       "    <tr>\n",
       "      <th>e</th>\n",
       "      <td>0.797960</td>\n",
       "      <td>0.784134</td>\n",
       "      <td>0.256705</td>\n",
       "      <td>1.838799</td>\n",
       "      <td>3.677599</td>\n",
       "      <td>0</td>\n",
       "    </tr>\n",
       "  </tbody>\n",
       "</table>\n",
       "</div>"
      ],
      "text/plain": [
       "          x         y         z        s1        s2  DADOS BANCÁRIOS - XD001\n",
       "b  0.243360  0.636393  0.577814  1.457568  2.915136                        0\n",
       "c  0.120949  0.196015  0.071691  0.388654  0.777308                        0\n",
       "d  0.906217  0.149228  0.847728  1.903173  3.806346                        0\n",
       "e  0.797960  0.784134  0.256705  1.838799  3.677599                        0"
      ]
     },
     "execution_count": 84,
     "metadata": {},
     "output_type": "execute_result"
    }
   ],
   "source": [
    "df"
   ]
  },
  {
   "cell_type": "code",
   "execution_count": 85,
   "id": "c201fed5-8ae1-4480-bbe5-a98ac8445d4b",
   "metadata": {},
   "outputs": [],
   "source": [
    "arr = np.random.rand(30, 6)\n",
    "columns = [\"x1\", \"x2\", \"x3\", \"x4\", \"x5\", \"x6\"]\n",
    "\n",
    "df = pd.DataFrame(arr, columns=columns)"
   ]
  },
  {
   "cell_type": "code",
   "execution_count": 86,
   "id": "a94f3e1a-55fc-4fd8-a7a3-3fe242b7926d",
   "metadata": {},
   "outputs": [],
   "source": [
    "# Filtros - Máscaras!\n",
    "df2 = df[df >= 0.5].copy()"
   ]
  },
  {
   "cell_type": "code",
   "execution_count": 87,
   "id": "235ff2da-acc0-4e62-bab6-14c4c626a89e",
   "metadata": {},
   "outputs": [
    {
     "data": {
      "text/html": [
       "<div>\n",
       "<style scoped>\n",
       "    .dataframe tbody tr th:only-of-type {\n",
       "        vertical-align: middle;\n",
       "    }\n",
       "\n",
       "    .dataframe tbody tr th {\n",
       "        vertical-align: top;\n",
       "    }\n",
       "\n",
       "    .dataframe thead th {\n",
       "        text-align: right;\n",
       "    }\n",
       "</style>\n",
       "<table border=\"1\" class=\"dataframe\">\n",
       "  <thead>\n",
       "    <tr style=\"text-align: right;\">\n",
       "      <th></th>\n",
       "      <th>x1</th>\n",
       "      <th>x2</th>\n",
       "      <th>x3</th>\n",
       "      <th>x4</th>\n",
       "      <th>x5</th>\n",
       "      <th>x6</th>\n",
       "    </tr>\n",
       "  </thead>\n",
       "  <tbody>\n",
       "    <tr>\n",
       "      <th>0</th>\n",
       "      <td>NaN</td>\n",
       "      <td>NaN</td>\n",
       "      <td>0.845779</td>\n",
       "      <td>0.606105</td>\n",
       "      <td>NaN</td>\n",
       "      <td>NaN</td>\n",
       "    </tr>\n",
       "    <tr>\n",
       "      <th>1</th>\n",
       "      <td>NaN</td>\n",
       "      <td>NaN</td>\n",
       "      <td>NaN</td>\n",
       "      <td>0.936082</td>\n",
       "      <td>NaN</td>\n",
       "      <td>NaN</td>\n",
       "    </tr>\n",
       "    <tr>\n",
       "      <th>2</th>\n",
       "      <td>0.940452</td>\n",
       "      <td>NaN</td>\n",
       "      <td>0.667884</td>\n",
       "      <td>0.980295</td>\n",
       "      <td>NaN</td>\n",
       "      <td>0.503808</td>\n",
       "    </tr>\n",
       "    <tr>\n",
       "      <th>3</th>\n",
       "      <td>0.514153</td>\n",
       "      <td>NaN</td>\n",
       "      <td>0.732632</td>\n",
       "      <td>0.835453</td>\n",
       "      <td>NaN</td>\n",
       "      <td>0.775345</td>\n",
       "    </tr>\n",
       "    <tr>\n",
       "      <th>4</th>\n",
       "      <td>0.536097</td>\n",
       "      <td>NaN</td>\n",
       "      <td>NaN</td>\n",
       "      <td>NaN</td>\n",
       "      <td>0.950144</td>\n",
       "      <td>NaN</td>\n",
       "    </tr>\n",
       "  </tbody>\n",
       "</table>\n",
       "</div>"
      ],
      "text/plain": [
       "         x1  x2        x3        x4        x5        x6\n",
       "0       NaN NaN  0.845779  0.606105       NaN       NaN\n",
       "1       NaN NaN       NaN  0.936082       NaN       NaN\n",
       "2  0.940452 NaN  0.667884  0.980295       NaN  0.503808\n",
       "3  0.514153 NaN  0.732632  0.835453       NaN  0.775345\n",
       "4  0.536097 NaN       NaN       NaN  0.950144       NaN"
      ]
     },
     "execution_count": 87,
     "metadata": {},
     "output_type": "execute_result"
    }
   ],
   "source": [
    "df2.head()"
   ]
  },
  {
   "cell_type": "code",
   "execution_count": 88,
   "id": "6561e130-4fdb-43fe-936d-26b06a78d856",
   "metadata": {},
   "outputs": [
    {
     "data": {
      "text/html": [
       "<div>\n",
       "<style scoped>\n",
       "    .dataframe tbody tr th:only-of-type {\n",
       "        vertical-align: middle;\n",
       "    }\n",
       "\n",
       "    .dataframe tbody tr th {\n",
       "        vertical-align: top;\n",
       "    }\n",
       "\n",
       "    .dataframe thead th {\n",
       "        text-align: right;\n",
       "    }\n",
       "</style>\n",
       "<table border=\"1\" class=\"dataframe\">\n",
       "  <thead>\n",
       "    <tr style=\"text-align: right;\">\n",
       "      <th></th>\n",
       "      <th>x1</th>\n",
       "      <th>x2</th>\n",
       "      <th>x3</th>\n",
       "      <th>x4</th>\n",
       "      <th>x5</th>\n",
       "      <th>x6</th>\n",
       "    </tr>\n",
       "  </thead>\n",
       "  <tbody>\n",
       "    <tr>\n",
       "      <th>2</th>\n",
       "      <td>0.940452</td>\n",
       "      <td>0.112129</td>\n",
       "      <td>0.667884</td>\n",
       "      <td>0.980295</td>\n",
       "      <td>0.287061</td>\n",
       "      <td>0.503808</td>\n",
       "    </tr>\n",
       "    <tr>\n",
       "      <th>8</th>\n",
       "      <td>0.945263</td>\n",
       "      <td>0.136917</td>\n",
       "      <td>0.541652</td>\n",
       "      <td>0.958419</td>\n",
       "      <td>0.353294</td>\n",
       "      <td>0.554857</td>\n",
       "    </tr>\n",
       "    <tr>\n",
       "      <th>19</th>\n",
       "      <td>0.953903</td>\n",
       "      <td>0.231982</td>\n",
       "      <td>0.458926</td>\n",
       "      <td>0.770054</td>\n",
       "      <td>0.283307</td>\n",
       "      <td>0.025079</td>\n",
       "    </tr>\n",
       "    <tr>\n",
       "      <th>22</th>\n",
       "      <td>0.974911</td>\n",
       "      <td>0.440515</td>\n",
       "      <td>0.770747</td>\n",
       "      <td>0.385909</td>\n",
       "      <td>0.642719</td>\n",
       "      <td>0.487224</td>\n",
       "    </tr>\n",
       "  </tbody>\n",
       "</table>\n",
       "</div>"
      ],
      "text/plain": [
       "          x1        x2        x3        x4        x5        x6\n",
       "2   0.940452  0.112129  0.667884  0.980295  0.287061  0.503808\n",
       "8   0.945263  0.136917  0.541652  0.958419  0.353294  0.554857\n",
       "19  0.953903  0.231982  0.458926  0.770054  0.283307  0.025079\n",
       "22  0.974911  0.440515  0.770747  0.385909  0.642719  0.487224"
      ]
     },
     "execution_count": 88,
     "metadata": {},
     "output_type": "execute_result"
    }
   ],
   "source": [
    "# x2 > 0.3\n",
    "df[df.x1 >= 0.9]"
   ]
  },
  {
   "cell_type": "code",
   "execution_count": 89,
   "id": "b21965a1-075e-44a2-a011-d061426a2353",
   "metadata": {},
   "outputs": [
    {
     "data": {
      "text/plain": [
       "6     0.904628\n",
       "9     0.208983\n",
       "14    0.274108\n",
       "17    0.758742\n",
       "18    0.998958\n",
       "20    0.794734\n",
       "29    0.417952\n",
       "Name: x5, dtype: float64"
      ]
     },
     "execution_count": 89,
     "metadata": {},
     "output_type": "execute_result"
    }
   ],
   "source": [
    "df.x5[df.x2 >= 0.7]"
   ]
  },
  {
   "cell_type": "markdown",
   "id": "2aac007b-0dfb-43c2-9eee-7d13e4639cb7",
   "metadata": {},
   "source": [
    "##### Adendo de Cópias!"
   ]
  },
  {
   "cell_type": "code",
   "execution_count": 90,
   "id": "12a0aab3-4727-4363-a5fc-d675b9950e45",
   "metadata": {},
   "outputs": [],
   "source": [
    "lista1 = [1, 2, 3]\n",
    "lista2 = lista1.copy()"
   ]
  },
  {
   "cell_type": "code",
   "execution_count": 91,
   "id": "02c59d97-3387-4fa6-84f0-073a3b9b19b6",
   "metadata": {},
   "outputs": [
    {
     "data": {
      "text/plain": [
       "[1, 2, 3]"
      ]
     },
     "execution_count": 91,
     "metadata": {},
     "output_type": "execute_result"
    }
   ],
   "source": [
    "lista1"
   ]
  },
  {
   "cell_type": "code",
   "execution_count": 92,
   "id": "ed92112b-b42f-43dd-8d95-246c494a316e",
   "metadata": {},
   "outputs": [
    {
     "data": {
      "text/plain": [
       "[1, 2, 3]"
      ]
     },
     "execution_count": 92,
     "metadata": {},
     "output_type": "execute_result"
    }
   ],
   "source": [
    "lista2"
   ]
  },
  {
   "cell_type": "code",
   "execution_count": 93,
   "id": "9c0caccf-c030-4198-993a-54355121aced",
   "metadata": {},
   "outputs": [],
   "source": [
    "lista2.append(0)"
   ]
  },
  {
   "cell_type": "code",
   "execution_count": 94,
   "id": "58875051-373a-479c-ad9a-358ab89c06f9",
   "metadata": {},
   "outputs": [
    {
     "name": "stdout",
     "output_type": "stream",
     "text": [
      "[1, 2, 3, 0]\n"
     ]
    }
   ],
   "source": [
    "print(lista2)"
   ]
  },
  {
   "cell_type": "code",
   "execution_count": 95,
   "id": "00890130-75bb-4aaa-8c70-8f4b20712717",
   "metadata": {},
   "outputs": [
    {
     "name": "stdout",
     "output_type": "stream",
     "text": [
      "[1, 2, 3]\n"
     ]
    }
   ],
   "source": [
    "print(lista1)"
   ]
  },
  {
   "cell_type": "markdown",
   "id": "3044a4cf-f6bf-4321-8b86-7b78a81aa15f",
   "metadata": {},
   "source": [
    "---"
   ]
  },
  {
   "cell_type": "code",
   "execution_count": 96,
   "id": "4b8f776f-fd9f-4495-aeea-be5676f7c1dd",
   "metadata": {},
   "outputs": [],
   "source": [
    "df = pd.DataFrame()"
   ]
  },
  {
   "cell_type": "code",
   "execution_count": 97,
   "id": "17b2cbee-4a3f-4bbd-99b9-26bb20ecc61d",
   "metadata": {},
   "outputs": [],
   "source": [
    "df.loc[:, \"nome\"] = pd.Series([\"Gabriel\", \"Aline\", \"Juliana\", \"Michel\", \"Leonardo\", \"Ana\"])\n",
    "df.loc[:, \"idade\"] = pd.Series([16, 26, 10, np.NaN, 23, np.NaN])\n",
    "df.loc[:, \"n\"] = pd.Series([1, 2, 3, 4, 5, 6])"
   ]
  },
  {
   "cell_type": "code",
   "execution_count": 98,
   "id": "6abb34b8-b7dc-4553-883c-68baf27fe078",
   "metadata": {},
   "outputs": [
    {
     "data": {
      "text/html": [
       "<div>\n",
       "<style scoped>\n",
       "    .dataframe tbody tr th:only-of-type {\n",
       "        vertical-align: middle;\n",
       "    }\n",
       "\n",
       "    .dataframe tbody tr th {\n",
       "        vertical-align: top;\n",
       "    }\n",
       "\n",
       "    .dataframe thead th {\n",
       "        text-align: right;\n",
       "    }\n",
       "</style>\n",
       "<table border=\"1\" class=\"dataframe\">\n",
       "  <thead>\n",
       "    <tr style=\"text-align: right;\">\n",
       "      <th></th>\n",
       "      <th>nome</th>\n",
       "      <th>idade</th>\n",
       "      <th>n</th>\n",
       "    </tr>\n",
       "  </thead>\n",
       "  <tbody>\n",
       "    <tr>\n",
       "      <th>1</th>\n",
       "      <td>Aline</td>\n",
       "      <td>26.0</td>\n",
       "      <td>2</td>\n",
       "    </tr>\n",
       "    <tr>\n",
       "      <th>4</th>\n",
       "      <td>Leonardo</td>\n",
       "      <td>23.0</td>\n",
       "      <td>5</td>\n",
       "    </tr>\n",
       "  </tbody>\n",
       "</table>\n",
       "</div>"
      ],
      "text/plain": [
       "       nome  idade  n\n",
       "1     Aline   26.0  2\n",
       "4  Leonardo   23.0  5"
      ]
     },
     "execution_count": 98,
     "metadata": {},
     "output_type": "execute_result"
    }
   ],
   "source": [
    "df[df.idade >= 18]"
   ]
  },
  {
   "cell_type": "code",
   "execution_count": 99,
   "id": "8f387130-ff28-4ace-8def-e0c0e73182b1",
   "metadata": {},
   "outputs": [
    {
     "data": {
      "text/plain": [
       "1       Aline\n",
       "4    Leonardo\n",
       "Name: nome, dtype: object"
      ]
     },
     "execution_count": 99,
     "metadata": {},
     "output_type": "execute_result"
    }
   ],
   "source": [
    "df.nome[df.idade >= 18]"
   ]
  },
  {
   "cell_type": "markdown",
   "id": "4092b2cc-23f9-43ef-aa85-381e46b455ae",
   "metadata": {},
   "source": [
    "---"
   ]
  },
  {
   "cell_type": "code",
   "execution_count": 100,
   "id": "c3a60a66-deb5-436b-b31b-679ad8e05c24",
   "metadata": {},
   "outputs": [
    {
     "data": {
      "text/html": [
       "<div>\n",
       "<style scoped>\n",
       "    .dataframe tbody tr th:only-of-type {\n",
       "        vertical-align: middle;\n",
       "    }\n",
       "\n",
       "    .dataframe tbody tr th {\n",
       "        vertical-align: top;\n",
       "    }\n",
       "\n",
       "    .dataframe thead th {\n",
       "        text-align: right;\n",
       "    }\n",
       "</style>\n",
       "<table border=\"1\" class=\"dataframe\">\n",
       "  <thead>\n",
       "    <tr style=\"text-align: right;\">\n",
       "      <th></th>\n",
       "      <th>nome</th>\n",
       "      <th>idade</th>\n",
       "      <th>n</th>\n",
       "    </tr>\n",
       "  </thead>\n",
       "  <tbody>\n",
       "    <tr>\n",
       "      <th>0</th>\n",
       "      <td>Gabriel</td>\n",
       "      <td>16.0</td>\n",
       "      <td>1</td>\n",
       "    </tr>\n",
       "    <tr>\n",
       "      <th>1</th>\n",
       "      <td>Aline</td>\n",
       "      <td>26.0</td>\n",
       "      <td>2</td>\n",
       "    </tr>\n",
       "    <tr>\n",
       "      <th>2</th>\n",
       "      <td>Juliana</td>\n",
       "      <td>10.0</td>\n",
       "      <td>3</td>\n",
       "    </tr>\n",
       "    <tr>\n",
       "      <th>3</th>\n",
       "      <td>Michel</td>\n",
       "      <td>NaN</td>\n",
       "      <td>4</td>\n",
       "    </tr>\n",
       "    <tr>\n",
       "      <th>4</th>\n",
       "      <td>Leonardo</td>\n",
       "      <td>23.0</td>\n",
       "      <td>5</td>\n",
       "    </tr>\n",
       "    <tr>\n",
       "      <th>5</th>\n",
       "      <td>Ana</td>\n",
       "      <td>NaN</td>\n",
       "      <td>6</td>\n",
       "    </tr>\n",
       "  </tbody>\n",
       "</table>\n",
       "</div>"
      ],
      "text/plain": [
       "       nome  idade  n\n",
       "0   Gabriel   16.0  1\n",
       "1     Aline   26.0  2\n",
       "2   Juliana   10.0  3\n",
       "3    Michel    NaN  4\n",
       "4  Leonardo   23.0  5\n",
       "5       Ana    NaN  6"
      ]
     },
     "execution_count": 100,
     "metadata": {},
     "output_type": "execute_result"
    }
   ],
   "source": [
    "df"
   ]
  },
  {
   "cell_type": "code",
   "execution_count": 101,
   "id": "90a17591-1b93-48d1-a208-a7f28af089a7",
   "metadata": {},
   "outputs": [
    {
     "data": {
      "text/plain": [
       "idade    18.75\n",
       "n         3.50\n",
       "dtype: float64"
      ]
     },
     "execution_count": 101,
     "metadata": {},
     "output_type": "execute_result"
    }
   ],
   "source": [
    "df.mean()"
   ]
  },
  {
   "cell_type": "code",
   "execution_count": 102,
   "id": "d6e2537a-fb7c-4ec7-9a1f-acdf1bd8fffd",
   "metadata": {},
   "outputs": [
    {
     "data": {
      "text/plain": [
       "18.75"
      ]
     },
     "execution_count": 102,
     "metadata": {},
     "output_type": "execute_result"
    }
   ],
   "source": [
    "df.idade.mean()"
   ]
  },
  {
   "cell_type": "code",
   "execution_count": 103,
   "id": "ce2103cc-781e-4128-bd5d-ac1997bdc5fc",
   "metadata": {},
   "outputs": [
    {
     "data": {
      "text/plain": [
       "19.5"
      ]
     },
     "execution_count": 103,
     "metadata": {},
     "output_type": "execute_result"
    }
   ],
   "source": [
    "df.idade.median()"
   ]
  },
  {
   "cell_type": "markdown",
   "id": "35cab632-5ab8-443e-9664-76db5b634621",
   "metadata": {},
   "source": [
    "### Nulos"
   ]
  },
  {
   "cell_type": "code",
   "execution_count": 104,
   "id": "d50a1172-2028-4057-b52c-27a43b9d5916",
   "metadata": {},
   "outputs": [
    {
     "data": {
      "text/html": [
       "<div>\n",
       "<style scoped>\n",
       "    .dataframe tbody tr th:only-of-type {\n",
       "        vertical-align: middle;\n",
       "    }\n",
       "\n",
       "    .dataframe tbody tr th {\n",
       "        vertical-align: top;\n",
       "    }\n",
       "\n",
       "    .dataframe thead th {\n",
       "        text-align: right;\n",
       "    }\n",
       "</style>\n",
       "<table border=\"1\" class=\"dataframe\">\n",
       "  <thead>\n",
       "    <tr style=\"text-align: right;\">\n",
       "      <th></th>\n",
       "      <th>nome</th>\n",
       "      <th>idade</th>\n",
       "      <th>n</th>\n",
       "    </tr>\n",
       "  </thead>\n",
       "  <tbody>\n",
       "    <tr>\n",
       "      <th>0</th>\n",
       "      <td>Gabriel</td>\n",
       "      <td>16.0</td>\n",
       "      <td>1</td>\n",
       "    </tr>\n",
       "    <tr>\n",
       "      <th>1</th>\n",
       "      <td>Aline</td>\n",
       "      <td>26.0</td>\n",
       "      <td>2</td>\n",
       "    </tr>\n",
       "    <tr>\n",
       "      <th>2</th>\n",
       "      <td>Juliana</td>\n",
       "      <td>10.0</td>\n",
       "      <td>3</td>\n",
       "    </tr>\n",
       "    <tr>\n",
       "      <th>3</th>\n",
       "      <td>Michel</td>\n",
       "      <td>NaN</td>\n",
       "      <td>4</td>\n",
       "    </tr>\n",
       "    <tr>\n",
       "      <th>4</th>\n",
       "      <td>Leonardo</td>\n",
       "      <td>23.0</td>\n",
       "      <td>5</td>\n",
       "    </tr>\n",
       "    <tr>\n",
       "      <th>5</th>\n",
       "      <td>Ana</td>\n",
       "      <td>NaN</td>\n",
       "      <td>6</td>\n",
       "    </tr>\n",
       "  </tbody>\n",
       "</table>\n",
       "</div>"
      ],
      "text/plain": [
       "       nome  idade  n\n",
       "0   Gabriel   16.0  1\n",
       "1     Aline   26.0  2\n",
       "2   Juliana   10.0  3\n",
       "3    Michel    NaN  4\n",
       "4  Leonardo   23.0  5\n",
       "5       Ana    NaN  6"
      ]
     },
     "execution_count": 104,
     "metadata": {},
     "output_type": "execute_result"
    }
   ],
   "source": [
    "df"
   ]
  },
  {
   "cell_type": "code",
   "execution_count": 109,
   "id": "729dc7d6-65af-4967-b63a-f88a85d517c4",
   "metadata": {},
   "outputs": [],
   "source": [
    "df.loc[df.nome == \"Gabriel\", \"idade\"] = 10"
   ]
  },
  {
   "cell_type": "code",
   "execution_count": 111,
   "id": "c3cacea2-33df-48e7-972c-6d9b886579f6",
   "metadata": {},
   "outputs": [
    {
     "data": {
      "text/html": [
       "<div>\n",
       "<style scoped>\n",
       "    .dataframe tbody tr th:only-of-type {\n",
       "        vertical-align: middle;\n",
       "    }\n",
       "\n",
       "    .dataframe tbody tr th {\n",
       "        vertical-align: top;\n",
       "    }\n",
       "\n",
       "    .dataframe thead th {\n",
       "        text-align: right;\n",
       "    }\n",
       "</style>\n",
       "<table border=\"1\" class=\"dataframe\">\n",
       "  <thead>\n",
       "    <tr style=\"text-align: right;\">\n",
       "      <th></th>\n",
       "      <th>nome</th>\n",
       "      <th>idade</th>\n",
       "      <th>n</th>\n",
       "    </tr>\n",
       "  </thead>\n",
       "  <tbody>\n",
       "    <tr>\n",
       "      <th>0</th>\n",
       "      <td>Gabriel</td>\n",
       "      <td>10.0</td>\n",
       "      <td>1</td>\n",
       "    </tr>\n",
       "    <tr>\n",
       "      <th>1</th>\n",
       "      <td>Aline</td>\n",
       "      <td>26.0</td>\n",
       "      <td>2</td>\n",
       "    </tr>\n",
       "    <tr>\n",
       "      <th>2</th>\n",
       "      <td>Juliana</td>\n",
       "      <td>10.0</td>\n",
       "      <td>3</td>\n",
       "    </tr>\n",
       "    <tr>\n",
       "      <th>3</th>\n",
       "      <td>Michel</td>\n",
       "      <td>NaN</td>\n",
       "      <td>4</td>\n",
       "    </tr>\n",
       "    <tr>\n",
       "      <th>4</th>\n",
       "      <td>Leonardo</td>\n",
       "      <td>23.0</td>\n",
       "      <td>5</td>\n",
       "    </tr>\n",
       "    <tr>\n",
       "      <th>5</th>\n",
       "      <td>Ana</td>\n",
       "      <td>NaN</td>\n",
       "      <td>6</td>\n",
       "    </tr>\n",
       "  </tbody>\n",
       "</table>\n",
       "</div>"
      ],
      "text/plain": [
       "       nome  idade  n\n",
       "0   Gabriel   10.0  1\n",
       "1     Aline   26.0  2\n",
       "2   Juliana   10.0  3\n",
       "3    Michel    NaN  4\n",
       "4  Leonardo   23.0  5\n",
       "5       Ana    NaN  6"
      ]
     },
     "execution_count": 111,
     "metadata": {},
     "output_type": "execute_result"
    }
   ],
   "source": [
    "df"
   ]
  },
  {
   "cell_type": "code",
   "execution_count": null,
   "id": "414864d6-8cde-43ef-8ddf-25335ab1f767",
   "metadata": {},
   "outputs": [],
   "source": []
  },
  {
   "cell_type": "code",
   "execution_count": null,
   "id": "532bf11d-e962-4edc-9f6a-6cfd5276acb8",
   "metadata": {},
   "outputs": [],
   "source": []
  }
 ],
 "metadata": {
  "kernelspec": {
   "display_name": "Python 3 (ipykernel)",
   "language": "python",
   "name": "python3"
  },
  "language_info": {
   "codemirror_mode": {
    "name": "ipython",
    "version": 3
   },
   "file_extension": ".py",
   "mimetype": "text/x-python",
   "name": "python",
   "nbconvert_exporter": "python",
   "pygments_lexer": "ipython3",
   "version": "3.8.10"
  }
 },
 "nbformat": 4,
 "nbformat_minor": 5
}
