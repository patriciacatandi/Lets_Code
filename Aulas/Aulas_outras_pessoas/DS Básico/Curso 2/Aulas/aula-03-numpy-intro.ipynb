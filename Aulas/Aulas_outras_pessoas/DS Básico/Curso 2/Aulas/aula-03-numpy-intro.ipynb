{
 "cells": [
  {
   "cell_type": "markdown",
   "id": "ffb50def-d54b-4e33-9c52-272486775de2",
   "metadata": {},
   "source": [
    "# Stone V4 - Data Science"
   ]
  },
  {
   "cell_type": "markdown",
   "id": "ea66584b-0918-4358-a0d0-1302bd643897",
   "metadata": {},
   "source": [
    "---"
   ]
  },
  {
   "cell_type": "markdown",
   "id": "2b4720a1-c0ee-4e71-9ed6-f56841aee480",
   "metadata": {},
   "source": [
    "**Data:** 14/09/2021 \\\n",
    "**Prof.:** Gabriel R. Freitas \\\n",
    "**E-mail:** gab.ribeiro.freitas@gmail.com\\\n",
    "**LinkedIn:** www.linkedin.com/in/grfreitas/"
   ]
  },
  {
   "cell_type": "markdown",
   "id": "09494618-754f-4371-ad74-d73ff05d8053",
   "metadata": {},
   "source": [
    "### Revisão\n",
    "\n",
    "#### List Comprehension"
   ]
  },
  {
   "cell_type": "code",
   "execution_count": 42,
   "id": "38c672d7-89c4-4589-abbd-7155a9a87d80",
   "metadata": {},
   "outputs": [],
   "source": [
    "lista = [1, 2, 3, 4, 5, 6]\n",
    "# retorno = [1, 4, 9, 16, 25]"
   ]
  },
  {
   "cell_type": "markdown",
   "id": "3e4948cd-349b-4bcc-b147-9d35310f3920",
   "metadata": {},
   "source": [
    "##### Exemplo 1"
   ]
  },
  {
   "cell_type": "code",
   "execution_count": 43,
   "id": "237b6b5f-18c4-4dd0-8381-f61eaace9844",
   "metadata": {},
   "outputs": [],
   "source": [
    "# Maneira 1 - For clássico\n",
    "lista_vazia = []\n",
    "for valor in lista:\n",
    "    lista_vazia.append(valor ** 2)"
   ]
  },
  {
   "cell_type": "code",
   "execution_count": 44,
   "id": "59c42620-1a7a-45b2-b063-53c0a676218e",
   "metadata": {},
   "outputs": [
    {
     "name": "stdout",
     "output_type": "stream",
     "text": [
      "[1, 2, 3, 4, 5, 6]\n"
     ]
    }
   ],
   "source": [
    "print(lista)"
   ]
  },
  {
   "cell_type": "code",
   "execution_count": 45,
   "id": "f1b3a00f-b15d-46fd-a8b6-fb5ec585e4e7",
   "metadata": {},
   "outputs": [
    {
     "name": "stdout",
     "output_type": "stream",
     "text": [
      "[1, 4, 9, 16, 25, 36]\n"
     ]
    }
   ],
   "source": [
    "print(lista_vazia)"
   ]
  },
  {
   "cell_type": "code",
   "execution_count": 46,
   "id": "7e5aa981-8c22-4cdb-8e3c-bd1b88be66b2",
   "metadata": {},
   "outputs": [
    {
     "data": {
      "text/plain": [
       "[1, 2, 3, 4, 5, 6]"
      ]
     },
     "execution_count": 46,
     "metadata": {},
     "output_type": "execute_result"
    }
   ],
   "source": [
    "lista"
   ]
  },
  {
   "cell_type": "code",
   "execution_count": 47,
   "id": "9e65846b-df3a-4e59-b975-72e9781c96f6",
   "metadata": {},
   "outputs": [
    {
     "data": {
      "text/plain": [
       "[1, 4, 9, 16, 25, 36]"
      ]
     },
     "execution_count": 47,
     "metadata": {},
     "output_type": "execute_result"
    }
   ],
   "source": [
    "# Maneira 2 - List Comprehension\n",
    "[valor ** 2 for valor in lista]"
   ]
  },
  {
   "cell_type": "markdown",
   "id": "55034767-9133-4a3d-bb0b-87b270f8481b",
   "metadata": {},
   "source": [
    "##### Exemplo 2"
   ]
  },
  {
   "cell_type": "code",
   "execution_count": 48,
   "id": "4ec44fe8-5a6d-49cb-a2e4-c69b7296dd6d",
   "metadata": {},
   "outputs": [
    {
     "data": {
      "text/plain": [
       "[1, 2, 3, 4, 5, 6]"
      ]
     },
     "execution_count": 48,
     "metadata": {},
     "output_type": "execute_result"
    }
   ],
   "source": [
    "lista"
   ]
  },
  {
   "cell_type": "code",
   "execution_count": 55,
   "id": "e938e776-eaa2-435a-a10d-4bf84871488c",
   "metadata": {},
   "outputs": [],
   "source": [
    "# Maneira 1 - For clássico\n",
    "lista_vazia = []\n",
    "for valor in lista:\n",
    "    if valor % 2 == 0:\n",
    "        lista_vazia.append(valor ** 2)"
   ]
  },
  {
   "cell_type": "code",
   "execution_count": 68,
   "id": "87a6391c-c18a-4fb7-a01a-c211ed65e7d7",
   "metadata": {},
   "outputs": [
    {
     "data": {
      "text/plain": [
       "[1, 9, 25]"
      ]
     },
     "execution_count": 68,
     "metadata": {},
     "output_type": "execute_result"
    }
   ],
   "source": [
    "# Maneira 2 - List Comprehension\n",
    "[valor ** 2 for valor in lista if valor % 2 == 1]"
   ]
  },
  {
   "cell_type": "code",
   "execution_count": 69,
   "id": "366a0cd9-1167-4ec8-8063-6da9a43ee34d",
   "metadata": {},
   "outputs": [
    {
     "data": {
      "text/plain": [
       "[0, 4, 0, 16, 0, 36]"
      ]
     },
     "execution_count": 69,
     "metadata": {},
     "output_type": "execute_result"
    }
   ],
   "source": [
    "# Com else\n",
    "[valor ** 2 if valor % 2 == 0 else 0 for valor in lista]"
   ]
  },
  {
   "cell_type": "markdown",
   "id": "7ea2db02-6954-4a10-bebb-8c7cf41dba6f",
   "metadata": {},
   "source": [
    "---"
   ]
  },
  {
   "cell_type": "markdown",
   "id": "fcff3e68-de17-4929-8f71-a37d2a0c8aa3",
   "metadata": {},
   "source": [
    "### Exercício"
   ]
  },
  {
   "cell_type": "code",
   "execution_count": null,
   "id": "9d4dd188-2eb6-4c09-9dfd-12c046c7f0eb",
   "metadata": {},
   "outputs": [],
   "source": [
    "valores = tuple(int(input('Digite valores '))for c in range(1, 5))"
   ]
  },
  {
   "cell_type": "code",
   "execution_count": 75,
   "id": "e5f7026d-77f6-4253-b68b-b7dc0958248a",
   "metadata": {},
   "outputs": [
    {
     "name": "stdout",
     "output_type": "stream",
     "text": [
      "O numero nove aparece 1 vezes\n"
     ]
    }
   ],
   "source": [
    "print(f'O numero nove aparece {valores.count(4)} vezes')"
   ]
  },
  {
   "cell_type": "code",
   "execution_count": null,
   "id": "15003764-95c2-4a0f-b2f9-989267c99d9e",
   "metadata": {},
   "outputs": [],
   "source": [
    "print(f'Valor 3 foi digitado pela primeira vez na {valores.index(3)+1}º posição' if 3 in valores else 'Não foi digitado valor 3')"
   ]
  },
  {
   "cell_type": "code",
   "execution_count": null,
   "id": "743bbb06-a344-4fb8-b79e-3e8f50dba62b",
   "metadata": {},
   "outputs": [],
   "source": [
    "print('Valores pares digitados foram', end=' ')"
   ]
  },
  {
   "cell_type": "code",
   "execution_count": 83,
   "id": "3de65e06-14b3-48de-87fc-2cff6eb45644",
   "metadata": {},
   "outputs": [
    {
     "data": {
      "text/plain": [
       "{2, 4}"
      ]
     },
     "execution_count": 83,
     "metadata": {},
     "output_type": "execute_result"
    }
   ],
   "source": [
    "{n for n in valores if n % 2 == 0}"
   ]
  },
  {
   "cell_type": "code",
   "execution_count": 84,
   "id": "db1b12f1-2fba-4150-8b69-fac0476fb84b",
   "metadata": {},
   "outputs": [
    {
     "data": {
      "text/plain": [
       "[2, 4]"
      ]
     },
     "execution_count": 84,
     "metadata": {},
     "output_type": "execute_result"
    }
   ],
   "source": [
    "[n for n in valores if n % 2 == 0]"
   ]
  },
  {
   "cell_type": "code",
   "execution_count": 91,
   "id": "f2e09c45-aa73-462c-bf15-5c5d4d6ac57f",
   "metadata": {},
   "outputs": [
    {
     "data": {
      "text/plain": [
       "(2, 4)"
      ]
     },
     "execution_count": 91,
     "metadata": {},
     "output_type": "execute_result"
    }
   ],
   "source": [
    "tuple(n for n in valores if n % 2 == 0)"
   ]
  },
  {
   "cell_type": "markdown",
   "id": "7c975ff4-f6e5-4f1d-9220-6e28b5d1e5b3",
   "metadata": {},
   "source": [
    "# Aula 3 - Numpy"
   ]
  },
  {
   "cell_type": "code",
   "execution_count": 93,
   "id": "1c3306a6-fc2a-4d52-a601-47c757ab8d42",
   "metadata": {},
   "outputs": [],
   "source": [
    "# Numerical Python\n",
    "# Biblioteca de manipulação de arrays que se baseia principalmente em álgebra linear!\n",
    "import numpy as np"
   ]
  },
  {
   "cell_type": "code",
   "execution_count": 104,
   "id": "0e2309e1-2261-4c8a-915d-8b96605a665c",
   "metadata": {},
   "outputs": [],
   "source": [
    "# criando listas numpy a partir de listas de python!\n",
    "lista = [1, 2, 3, 4, 5]\n",
    "lista2 = [6, 7, 8, 9, 10]\n",
    "lista_np = np.array(lista)\n",
    "lista_np2 = np.array(lista2)"
   ]
  },
  {
   "cell_type": "markdown",
   "id": "666336b0-d17e-4c70-8fe8-d6830dfcb8ce",
   "metadata": {},
   "source": [
    "#### Operações "
   ]
  },
  {
   "cell_type": "code",
   "execution_count": 111,
   "id": "e6e343c8-0b55-4ac7-8040-f34bbfc149a5",
   "metadata": {},
   "outputs": [
    {
     "data": {
      "text/plain": [
       "130"
      ]
     },
     "execution_count": 111,
     "metadata": {},
     "output_type": "execute_result"
    }
   ],
   "source": [
    "# Multiplicação\n",
    "lista_np * lista_np2"
   ]
  },
  {
   "cell_type": "code",
   "execution_count": 105,
   "id": "c9895d25-e403-4605-9ceb-db4b69cb1a6d",
   "metadata": {
    "tags": []
   },
   "outputs": [
    {
     "data": {
      "text/plain": [
       "[1, 2, 3, 4, 5, 1, 2, 3, 4, 5, 1, 2, 3, 4, 5, 1, 2, 3, 4, 5, 1, 2, 3, 4, 5]"
      ]
     },
     "execution_count": 105,
     "metadata": {},
     "output_type": "execute_result"
    }
   ],
   "source": [
    "lista * 5"
   ]
  },
  {
   "cell_type": "code",
   "execution_count": 119,
   "id": "92ce30fa-404d-4f52-9bd2-7d950b68df24",
   "metadata": {},
   "outputs": [
    {
     "data": {
      "text/plain": [
       "array([1, 2, 3, 4, 5])"
      ]
     },
     "execution_count": 119,
     "metadata": {},
     "output_type": "execute_result"
    }
   ],
   "source": [
    "lista_np"
   ]
  },
  {
   "cell_type": "code",
   "execution_count": 106,
   "id": "3d316d75-59d3-42a3-9316-19439f716fe0",
   "metadata": {},
   "outputs": [
    {
     "data": {
      "text/plain": [
       "array([ 5, 10, 15, 20, 25])"
      ]
     },
     "execution_count": 106,
     "metadata": {},
     "output_type": "execute_result"
    }
   ],
   "source": [
    "lista_np * 5"
   ]
  },
  {
   "cell_type": "code",
   "execution_count": 107,
   "id": "b9f1c539-35c8-47e4-baad-1f92d48d3417",
   "metadata": {},
   "outputs": [
    {
     "data": {
      "text/plain": [
       "array([ 1,  4,  9, 16, 25])"
      ]
     },
     "execution_count": 107,
     "metadata": {},
     "output_type": "execute_result"
    }
   ],
   "source": [
    "lista_np ** 2"
   ]
  },
  {
   "cell_type": "code",
   "execution_count": 109,
   "id": "9c196756-f747-44e5-b9d0-e0f6d1798a09",
   "metadata": {},
   "outputs": [
    {
     "name": "stdout",
     "output_type": "stream",
     "text": [
      "[1 2 3 4 5]\n",
      "[ 6  7  8  9 10]\n"
     ]
    }
   ],
   "source": [
    "print(lista_np)\n",
    "print(lista_np2)"
   ]
  },
  {
   "cell_type": "code",
   "execution_count": 282,
   "id": "3ef1d8df-286f-41ad-8f21-7c8fc429f3ed",
   "metadata": {},
   "outputs": [],
   "source": [
    "import numpy as np"
   ]
  },
  {
   "cell_type": "code",
   "execution_count": 288,
   "id": "0d0dce8c-f0ab-4632-947d-198a03334ca0",
   "metadata": {},
   "outputs": [
    {
     "data": {
      "text/plain": [
       "3.141592653589793"
      ]
     },
     "execution_count": 288,
     "metadata": {},
     "output_type": "execute_result"
    }
   ],
   "source": [
    "np.pi"
   ]
  },
  {
   "cell_type": "code",
   "execution_count": 290,
   "id": "23ef3f01-deac-4113-b7f2-6f2b90c4ee7f",
   "metadata": {},
   "outputs": [
    {
     "data": {
      "text/plain": [
       "1.4142135623730951"
      ]
     },
     "execution_count": 290,
     "metadata": {},
     "output_type": "execute_result"
    }
   ],
   "source": [
    "np.sqrt(2)"
   ]
  },
  {
   "cell_type": "code",
   "execution_count": 292,
   "id": "00408187-7798-4554-ae3e-40a047ca53bf",
   "metadata": {},
   "outputs": [
    {
     "data": {
      "text/plain": [
       "2.718281828459045"
      ]
     },
     "execution_count": 292,
     "metadata": {},
     "output_type": "execute_result"
    }
   ],
   "source": [
    "np.e"
   ]
  },
  {
   "cell_type": "code",
   "execution_count": 293,
   "id": "71aa29c6-b6fb-4f92-ab53-5fa321a2a383",
   "metadata": {},
   "outputs": [
    {
     "data": {
      "text/plain": [
       "1.0"
      ]
     },
     "execution_count": 293,
     "metadata": {},
     "output_type": "execute_result"
    }
   ],
   "source": [
    "# log base natural (ln)\n",
    "np.log(np.e)"
   ]
  },
  {
   "cell_type": "markdown",
   "id": "af445b1c-ef30-4914-8d1b-5fd76cb61472",
   "metadata": {},
   "source": [
    "v1 = [a, b, c]\n",
    "v2 = [d, e, f]\n",
    "\n",
    "produto_escalar = a * d + b * e + c * f"
   ]
  },
  {
   "cell_type": "code",
   "execution_count": 110,
   "id": "a400c9db-c9c9-4839-8f52-337b6e9ae9c4",
   "metadata": {},
   "outputs": [
    {
     "data": {
      "text/plain": [
       "130"
      ]
     },
     "execution_count": 110,
     "metadata": {},
     "output_type": "execute_result"
    }
   ],
   "source": [
    "# Produto Escalar\n",
    "np.dot(lista_np, lista_np2)"
   ]
  },
  {
   "cell_type": "code",
   "execution_count": 114,
   "id": "592fc7f5-803a-48a7-9429-6fae6b095455",
   "metadata": {},
   "outputs": [
    {
     "data": {
      "text/plain": [
       "array([0., 0., 0., 0., 0., 0., 0., 0., 0., 0.])"
      ]
     },
     "execution_count": 114,
     "metadata": {},
     "output_type": "execute_result"
    }
   ],
   "source": [
    "# Cria array de zeros!\n",
    "zeros = np.zeros(10)\n",
    "zeros"
   ]
  },
  {
   "cell_type": "code",
   "execution_count": 116,
   "id": "7dd51c3c-1742-4247-9e92-c8ce1aef641b",
   "metadata": {},
   "outputs": [
    {
     "data": {
      "text/plain": [
       "array([1., 1., 1., 1., 1., 1., 1., 1., 1., 1.])"
      ]
     },
     "execution_count": 116,
     "metadata": {},
     "output_type": "execute_result"
    }
   ],
   "source": [
    "# Cria array de uns!\n",
    "uns = np.ones(10)\n",
    "uns"
   ]
  },
  {
   "cell_type": "code",
   "execution_count": 122,
   "id": "aab562f6-892a-4651-9be8-28cdce1a85b0",
   "metadata": {},
   "outputs": [
    {
     "data": {
      "text/plain": [
       "array([5., 5., 5., 5., 5., 5., 5., 5., 5., 5.])"
      ]
     },
     "execution_count": 122,
     "metadata": {},
     "output_type": "execute_result"
    }
   ],
   "source": [
    "# Cria array de um mesmo número\n",
    "cincos = np.ones(10) * 5\n",
    "cincos"
   ]
  },
  {
   "cell_type": "code",
   "execution_count": 128,
   "id": "dd1b0e56-e18f-4720-9d64-14d84af750ae",
   "metadata": {},
   "outputs": [
    {
     "data": {
      "text/plain": [
       "array([0, 1, 2, 3, 4, 5, 6, 7, 8, 9])"
      ]
     },
     "execution_count": 128,
     "metadata": {},
     "output_type": "execute_result"
    }
   ],
   "source": [
    "# Criando array com sequência\n",
    "lista10 = np.arange(0, 10)\n",
    "lista10"
   ]
  },
  {
   "cell_type": "code",
   "execution_count": 133,
   "id": "63cef4f9-67c9-4594-a152-f8b44640992d",
   "metadata": {},
   "outputs": [
    {
     "data": {
      "text/plain": [
       "array([0. , 0.1, 0.2, 0.3, 0.4, 0.5, 0.6, 0.7, 0.8, 0.9, 1. , 1.1, 1.2,\n",
       "       1.3, 1.4, 1.5, 1.6, 1.7, 1.8, 1.9, 2. , 2.1, 2.2, 2.3, 2.4, 2.5,\n",
       "       2.6, 2.7, 2.8, 2.9, 3. , 3.1, 3.2, 3.3, 3.4, 3.5, 3.6, 3.7, 3.8,\n",
       "       3.9, 4. , 4.1, 4.2, 4.3, 4.4, 4.5, 4.6, 4.7, 4.8, 4.9, 5. , 5.1,\n",
       "       5.2, 5.3, 5.4, 5.5, 5.6, 5.7, 5.8, 5.9, 6. , 6.1, 6.2, 6.3, 6.4,\n",
       "       6.5, 6.6, 6.7, 6.8, 6.9, 7. , 7.1, 7.2, 7.3, 7.4, 7.5, 7.6, 7.7,\n",
       "       7.8, 7.9, 8. , 8.1, 8.2, 8.3, 8.4, 8.5, 8.6, 8.7, 8.8, 8.9, 9. ,\n",
       "       9.1, 9.2, 9.3, 9.4, 9.5, 9.6, 9.7, 9.8, 9.9])"
      ]
     },
     "execution_count": 133,
     "metadata": {},
     "output_type": "execute_result"
    }
   ],
   "source": [
    "# Criando array com sequência e um passo\n",
    "lista10_2 = np.arange(0, 10, 0.1)\n",
    "lista10_2"
   ]
  },
  {
   "cell_type": "code",
   "execution_count": 141,
   "id": "477a2e15-39f4-4cb2-831f-3fa744edc656",
   "metadata": {},
   "outputs": [
    {
     "data": {
      "text/plain": [
       "array([0. , 0.1, 0.2, 0.3, 0.4, 0.5, 0.6, 0.7, 0.8, 0.9, 1. ])"
      ]
     },
     "execution_count": 141,
     "metadata": {},
     "output_type": "execute_result"
    }
   ],
   "source": [
    "# Criando array de sequencia com número de pontos entre os limites!\n",
    "# Linear Space\n",
    "#.        min  max  # de pontos\n",
    "np.linspace(0, 1, 11)"
   ]
  },
  {
   "cell_type": "code",
   "execution_count": 146,
   "id": "7a492ce8-0cd9-4ac6-962d-9cd5548f3f03",
   "metadata": {},
   "outputs": [
    {
     "data": {
      "text/plain": [
       "\u001b[0;31mDocstring:\u001b[0m\n",
       "rand(d0, d1, ..., dn)\n",
       "\n",
       "Random values in a given shape.\n",
       "\n",
       ".. note::\n",
       "    This is a convenience function for users porting code from Matlab,\n",
       "    and wraps `random_sample`. That function takes a\n",
       "    tuple to specify the size of the output, which is consistent with\n",
       "    other NumPy functions like `numpy.zeros` and `numpy.ones`.\n",
       "\n",
       "Create an array of the given shape and populate it with\n",
       "random samples from a uniform distribution\n",
       "over ``[0, 1)``.\n",
       "\n",
       "Parameters\n",
       "----------\n",
       "d0, d1, ..., dn : int, optional\n",
       "    The dimensions of the returned array, must be non-negative.\n",
       "    If no argument is given a single Python float is returned.\n",
       "\n",
       "Returns\n",
       "-------\n",
       "out : ndarray, shape ``(d0, d1, ..., dn)``\n",
       "    Random values.\n",
       "\n",
       "See Also\n",
       "--------\n",
       "random\n",
       "\n",
       "Examples\n",
       "--------\n",
       ">>> np.random.rand(3,2)\n",
       "array([[ 0.14022471,  0.96360618],  #random\n",
       "       [ 0.37601032,  0.25528411],  #random\n",
       "       [ 0.49313049,  0.94909878]]) #random\n",
       "\u001b[0;31mType:\u001b[0m      builtin_function_or_method\n"
      ]
     },
     "metadata": {},
     "output_type": "display_data"
    }
   ],
   "source": [
    "np.random.rand?"
   ]
  },
  {
   "cell_type": "code",
   "execution_count": 166,
   "id": "517e6ab8-8e6c-4e54-9d91-9fcb9e9e152b",
   "metadata": {},
   "outputs": [
    {
     "data": {
      "text/plain": [
       "array([0.15850349, 0.81718328, 0.46374617, 0.58084584, 0.63488213,\n",
       "       0.75814205, 0.89005446, 0.99395095, 0.88405962, 0.03413648])"
      ]
     },
     "execution_count": 166,
     "metadata": {},
     "output_type": "execute_result"
    }
   ],
   "source": [
    "# Cria array aleatórios entre 0 e 1 de maneira uniforme!\n",
    "aleatorio = np.random.rand(10)\n",
    "aleatorio"
   ]
  },
  {
   "cell_type": "code",
   "execution_count": 167,
   "id": "3a4f59df-a86d-4b7a-967e-b4f2dbeca795",
   "metadata": {},
   "outputs": [
    {
     "data": {
      "text/plain": [
       "array([9.00704226, 4.87625119, 4.12774501, 1.97530057, 8.61356252,\n",
       "       3.73639712, 8.12887429, 3.40426764, 0.52896959, 1.57027844])"
      ]
     },
     "execution_count": 167,
     "metadata": {},
     "output_type": "execute_result"
    }
   ],
   "source": [
    "# Cria array aleatórios entre 0 e 10 de maneira uniforme!\n",
    "aleatorio10 = np.random.rand(10) * 10\n",
    "aleatorio10"
   ]
  },
  {
   "cell_type": "code",
   "execution_count": 237,
   "id": "6e521eff-77a8-42ea-aba5-e1bbede4b9d9",
   "metadata": {},
   "outputs": [
    {
     "data": {
      "text/plain": [
       "array([ 7, 10,  2,  8,  5,  6,  6,  3,  7, 10])"
      ]
     },
     "execution_count": 237,
     "metadata": {},
     "output_type": "execute_result"
    }
   ],
   "source": [
    "# Cria array de inteiros aleatórios\n",
    "array1 = np.random.randint(1, 11, 10)\n",
    "array1"
   ]
  },
  {
   "cell_type": "code",
   "execution_count": 217,
   "id": "322c2cb9-90a1-4d6a-93d2-41dd9790555d",
   "metadata": {},
   "outputs": [
    {
     "data": {
      "text/plain": [
       "array([ 2, 33, 89, 81, 66,  4, 12, 70, 14, 93])"
      ]
     },
     "execution_count": 217,
     "metadata": {},
     "output_type": "execute_result"
    }
   ],
   "source": [
    "# Gerar números aleatórios sem repetição!\n",
    "np.random.choice(np.arange(1, 101), 10)"
   ]
  },
  {
   "cell_type": "markdown",
   "id": "2743be1c-4f1e-4063-b6cd-e43f024c0594",
   "metadata": {},
   "source": [
    "#### Indexação"
   ]
  },
  {
   "cell_type": "code",
   "execution_count": 178,
   "id": "06aeec37-8fd6-4063-878e-00eee317339d",
   "metadata": {},
   "outputs": [
    {
     "data": {
      "text/plain": [
       "array([ 5,  7,  5,  6,  2, 10,  5, 10,  5,  8])"
      ]
     },
     "execution_count": 178,
     "metadata": {},
     "output_type": "execute_result"
    }
   ],
   "source": [
    "lista1"
   ]
  },
  {
   "cell_type": "code",
   "execution_count": 177,
   "id": "5d076bca-0af7-4732-ab89-cfef872f41c6",
   "metadata": {},
   "outputs": [
    {
     "data": {
      "text/plain": [
       "5"
      ]
     },
     "execution_count": 177,
     "metadata": {},
     "output_type": "execute_result"
    }
   ],
   "source": [
    "lista1[0]"
   ]
  },
  {
   "cell_type": "code",
   "execution_count": 192,
   "id": "9cacfa65-7f1e-4d55-986d-52963422aecd",
   "metadata": {},
   "outputs": [
    {
     "data": {
      "text/plain": [
       "8"
      ]
     },
     "execution_count": 192,
     "metadata": {},
     "output_type": "execute_result"
    }
   ],
   "source": [
    "lista1[-1]"
   ]
  },
  {
   "cell_type": "code",
   "execution_count": 223,
   "id": "eace4eac-39aa-457c-b2db-0c0706f0d8a8",
   "metadata": {},
   "outputs": [
    {
     "data": {
      "text/plain": [
       "array([ 7,  6, 10, 10,  8])"
      ]
     },
     "execution_count": 223,
     "metadata": {},
     "output_type": "execute_result"
    }
   ],
   "source": [
    "#   idx1 idx2 passo\n",
    "lista1[1:10:2]"
   ]
  },
  {
   "cell_type": "markdown",
   "id": "2c49baab-ff10-49b9-a683-c477acc153db",
   "metadata": {},
   "source": [
    "### Métodos do numpy de arrays!"
   ]
  },
  {
   "cell_type": "code",
   "execution_count": 238,
   "id": "22555ef3-d80f-4f0f-8866-f93b9e372989",
   "metadata": {},
   "outputs": [
    {
     "data": {
      "text/plain": [
       "array([ 7, 10,  2,  8,  5,  6,  6,  3,  7, 10])"
      ]
     },
     "execution_count": 238,
     "metadata": {},
     "output_type": "execute_result"
    }
   ],
   "source": [
    "array1"
   ]
  },
  {
   "cell_type": "code",
   "execution_count": 243,
   "id": "8dacd1f0-c2ef-4937-857c-30a491a6a5d3",
   "metadata": {},
   "outputs": [
    {
     "data": {
      "text/plain": [
       "10"
      ]
     },
     "execution_count": 243,
     "metadata": {},
     "output_type": "execute_result"
    }
   ],
   "source": [
    "array1.max()"
   ]
  },
  {
   "cell_type": "code",
   "execution_count": 247,
   "id": "99b34a60-ab2d-4c8e-b965-a0854003a13e",
   "metadata": {},
   "outputs": [
    {
     "data": {
      "text/plain": [
       "1"
      ]
     },
     "execution_count": 247,
     "metadata": {},
     "output_type": "execute_result"
    }
   ],
   "source": [
    "array1.argmax()"
   ]
  },
  {
   "cell_type": "code",
   "execution_count": 244,
   "id": "74f3a3f0-a64d-481b-8ab8-1114cd77d311",
   "metadata": {},
   "outputs": [
    {
     "data": {
      "text/plain": [
       "2"
      ]
     },
     "execution_count": 244,
     "metadata": {},
     "output_type": "execute_result"
    }
   ],
   "source": [
    "array1.min()"
   ]
  },
  {
   "cell_type": "code",
   "execution_count": 248,
   "id": "89d5b78a-d175-4f4a-ac5e-c6f707da1153",
   "metadata": {},
   "outputs": [
    {
     "data": {
      "text/plain": [
       "2"
      ]
     },
     "execution_count": 248,
     "metadata": {},
     "output_type": "execute_result"
    }
   ],
   "source": [
    "array1.argmin()"
   ]
  },
  {
   "cell_type": "code",
   "execution_count": 241,
   "id": "f6ce4f90-b5e7-4370-a509-1eed8f3e8eb9",
   "metadata": {},
   "outputs": [
    {
     "data": {
      "text/plain": [
       "64"
      ]
     },
     "execution_count": 241,
     "metadata": {},
     "output_type": "execute_result"
    }
   ],
   "source": [
    "array1.sum()"
   ]
  },
  {
   "cell_type": "code",
   "execution_count": 246,
   "id": "456d1d8a-fb0f-4a84-b82c-9404fcb9fcc5",
   "metadata": {},
   "outputs": [
    {
     "data": {
      "text/plain": [
       "6.4"
      ]
     },
     "execution_count": 246,
     "metadata": {},
     "output_type": "execute_result"
    }
   ],
   "source": [
    "array1.mean()"
   ]
  },
  {
   "cell_type": "code",
   "execution_count": 249,
   "id": "0ddd4eb5-ce2d-4c7d-aa98-0ba3a42b9705",
   "metadata": {},
   "outputs": [
    {
     "data": {
      "text/plain": [
       "2.4979991993593593"
      ]
     },
     "execution_count": 249,
     "metadata": {},
     "output_type": "execute_result"
    }
   ],
   "source": [
    "array1.std()"
   ]
  },
  {
   "cell_type": "code",
   "execution_count": 257,
   "id": "8d4858a6-1f66-454e-90fd-441d97f8e958",
   "metadata": {},
   "outputs": [],
   "source": [
    "# Ordenação - operação inplace!\n",
    "array1.sort()"
   ]
  },
  {
   "cell_type": "code",
   "execution_count": 264,
   "id": "7f1eb084-9e6b-40d5-8302-c6ee904eee04",
   "metadata": {},
   "outputs": [
    {
     "name": "stdout",
     "output_type": "stream",
     "text": [
      "[ 2  3  5  6  6  7  7  8 10 10]\n"
     ]
    }
   ],
   "source": [
    "print(array1)"
   ]
  },
  {
   "cell_type": "code",
   "execution_count": 270,
   "id": "c968c4c0-d141-40df-b289-c913fb0f0ca3",
   "metadata": {},
   "outputs": [
    {
     "data": {
      "text/plain": [
       "dtype('int64')"
      ]
     },
     "execution_count": 270,
     "metadata": {},
     "output_type": "execute_result"
    }
   ],
   "source": [
    "array1.dtype"
   ]
  },
  {
   "cell_type": "code",
   "execution_count": 273,
   "id": "4661390d-8f3d-4ae6-ae33-a72a8f730490",
   "metadata": {},
   "outputs": [],
   "source": [
    "array1 = array1.astype(float)"
   ]
  },
  {
   "cell_type": "code",
   "execution_count": 274,
   "id": "35bd8ea3-0c14-42b1-9dc2-f670da9f3f87",
   "metadata": {},
   "outputs": [
    {
     "name": "stdout",
     "output_type": "stream",
     "text": [
      "[ 2.  3.  5.  6.  6.  7.  7.  8. 10. 10.]\n"
     ]
    }
   ],
   "source": [
    "print(array1)"
   ]
  },
  {
   "cell_type": "code",
   "execution_count": 275,
   "id": "b961e8d2-94e5-481a-9d44-10f503db626f",
   "metadata": {},
   "outputs": [
    {
     "data": {
      "text/plain": [
       "dtype('float64')"
      ]
     },
     "execution_count": 275,
     "metadata": {},
     "output_type": "execute_result"
    }
   ],
   "source": [
    "array1.dtype"
   ]
  },
  {
   "cell_type": "markdown",
   "id": "3e4ea8c8-f91a-4115-9dbe-fa6b95d169a1",
   "metadata": {},
   "source": [
    "### Matrizes"
   ]
  },
  {
   "cell_type": "code",
   "execution_count": 378,
   "id": "3dec7dc1-5fb9-4ada-b1be-439114f57e25",
   "metadata": {},
   "outputs": [],
   "source": [
    "listaD1 = np.linspace(0, 100, 20)\n",
    "listaD2 = np.linspace(0, 50, 20)"
   ]
  },
  {
   "cell_type": "code",
   "execution_count": 379,
   "id": "09a6a323-7075-4104-9dbe-2a516df97467",
   "metadata": {},
   "outputs": [
    {
     "data": {
      "text/plain": [
       "array([  0.        ,   5.26315789,  10.52631579,  15.78947368,\n",
       "        21.05263158,  26.31578947,  31.57894737,  36.84210526,\n",
       "        42.10526316,  47.36842105,  52.63157895,  57.89473684,\n",
       "        63.15789474,  68.42105263,  73.68421053,  78.94736842,\n",
       "        84.21052632,  89.47368421,  94.73684211, 100.        ])"
      ]
     },
     "execution_count": 379,
     "metadata": {},
     "output_type": "execute_result"
    }
   ],
   "source": [
    "listaD1"
   ]
  },
  {
   "cell_type": "code",
   "execution_count": 380,
   "id": "c17b3c2d-ff8d-417d-b7d2-b4e57fc5f0fa",
   "metadata": {},
   "outputs": [
    {
     "data": {
      "text/plain": [
       "array([ 0.        ,  2.63157895,  5.26315789,  7.89473684, 10.52631579,\n",
       "       13.15789474, 15.78947368, 18.42105263, 21.05263158, 23.68421053,\n",
       "       26.31578947, 28.94736842, 31.57894737, 34.21052632, 36.84210526,\n",
       "       39.47368421, 42.10526316, 44.73684211, 47.36842105, 50.        ])"
      ]
     },
     "execution_count": 380,
     "metadata": {},
     "output_type": "execute_result"
    }
   ],
   "source": [
    "listaD2"
   ]
  },
  {
   "cell_type": "code",
   "execution_count": 381,
   "id": "946cd833-b43e-4c9b-90c0-fa66aa85833d",
   "metadata": {},
   "outputs": [],
   "source": [
    "listaD1 = listaD1.reshape(4, 5)\n",
    "listaD2 = listaD2.reshape(4, 5)"
   ]
  },
  {
   "cell_type": "code",
   "execution_count": 382,
   "id": "3c4db5a7-d477-4685-bbf3-76c2fa422a25",
   "metadata": {},
   "outputs": [
    {
     "data": {
      "text/plain": [
       "array([[  0.        ,   5.26315789,  10.52631579,  15.78947368,\n",
       "         21.05263158],\n",
       "       [ 26.31578947,  31.57894737,  36.84210526,  42.10526316,\n",
       "         47.36842105],\n",
       "       [ 52.63157895,  57.89473684,  63.15789474,  68.42105263,\n",
       "         73.68421053],\n",
       "       [ 78.94736842,  84.21052632,  89.47368421,  94.73684211,\n",
       "        100.        ]])"
      ]
     },
     "execution_count": 382,
     "metadata": {},
     "output_type": "execute_result"
    }
   ],
   "source": [
    "listaD1"
   ]
  },
  {
   "cell_type": "code",
   "execution_count": 383,
   "id": "81e9a855-cd3d-4235-a4c3-c19c8c1145b7",
   "metadata": {},
   "outputs": [
    {
     "data": {
      "text/plain": [
       "array([[ 0.        ,  2.63157895,  5.26315789,  7.89473684, 10.52631579],\n",
       "       [13.15789474, 15.78947368, 18.42105263, 21.05263158, 23.68421053],\n",
       "       [26.31578947, 28.94736842, 31.57894737, 34.21052632, 36.84210526],\n",
       "       [39.47368421, 42.10526316, 44.73684211, 47.36842105, 50.        ]])"
      ]
     },
     "execution_count": 383,
     "metadata": {},
     "output_type": "execute_result"
    }
   ],
   "source": [
    "listaD2"
   ]
  },
  {
   "cell_type": "code",
   "execution_count": 385,
   "id": "8f69ec43-c4a1-46c2-9289-e7c074a2990e",
   "metadata": {},
   "outputs": [
    {
     "name": "stdout",
     "output_type": "stream",
     "text": [
      "[[   0.           13.85041551   55.40166205  124.65373961  221.6066482 ]\n",
      " [ 346.26038781  498.61495845  678.67036011  886.4265928  1121.88365651]\n",
      " [1385.04155125 1675.90027701 1994.4598338  2340.72022161 2714.68144044]\n",
      " [3116.3434903  3545.70637119 4002.7700831  4487.53462604 5000.        ]]\n"
     ]
    }
   ],
   "source": [
    "print(listaD1 * listaD2)"
   ]
  },
  {
   "cell_type": "code",
   "execution_count": 314,
   "id": "be49f33f-897c-4123-b5a3-5775db739527",
   "metadata": {},
   "outputs": [],
   "source": [
    "# Reshape               m  n\n",
    "matriz = listaD.reshape(3, 4)"
   ]
  },
  {
   "cell_type": "code",
   "execution_count": 315,
   "id": "05820c5e-00d5-4857-be8c-c22bc5e8b735",
   "metadata": {},
   "outputs": [
    {
     "data": {
      "text/plain": [
       "array([[ 0,  2,  4,  6],\n",
       "       [ 8, 10, 12, 14],\n",
       "       [16, 18, 20, 22]])"
      ]
     },
     "execution_count": 315,
     "metadata": {},
     "output_type": "execute_result"
    }
   ],
   "source": [
    "matriz"
   ]
  },
  {
   "cell_type": "code",
   "execution_count": 386,
   "id": "2ae25b07-718a-4ab5-a35b-e29bde3fa93c",
   "metadata": {},
   "outputs": [],
   "source": [
    "# Matrizes a partir de listas!\n",
    "listas = [\n",
    "    [1, 2, 3],\n",
    "    [4, 5, 6],\n",
    "    [7, 8, 9]\n",
    "]"
   ]
  },
  {
   "cell_type": "code",
   "execution_count": 388,
   "id": "5e1fe23e-b0af-48e3-9121-343cc676e385",
   "metadata": {
    "tags": []
   },
   "outputs": [
    {
     "data": {
      "text/plain": [
       "(3, 3)"
      ]
     },
     "execution_count": 388,
     "metadata": {},
     "output_type": "execute_result"
    }
   ],
   "source": [
    "np.array(listas).shape"
   ]
  },
  {
   "cell_type": "code",
   "execution_count": 391,
   "id": "6ba6f935-b4aa-4fa0-8631-9382a3735bd4",
   "metadata": {},
   "outputs": [
    {
     "data": {
      "text/plain": [
       "array([[1., 0., 0., 0., 0.],\n",
       "       [0., 1., 0., 0., 0.],\n",
       "       [0., 0., 1., 0., 0.],\n",
       "       [0., 0., 0., 1., 0.],\n",
       "       [0., 0., 0., 0., 1.]])"
      ]
     },
     "execution_count": 391,
     "metadata": {},
     "output_type": "execute_result"
    }
   ],
   "source": [
    "# Matrizes identidade\n",
    "np.eye(5)"
   ]
  },
  {
   "cell_type": "code",
   "execution_count": 395,
   "id": "bea70222-d86b-4a9f-83ba-84b5b1f213fe",
   "metadata": {},
   "outputs": [
    {
     "data": {
      "text/plain": [
       "array([[0., 0., 0., 0., 0., 0.],\n",
       "       [0., 0., 0., 0., 0., 0.],\n",
       "       [0., 0., 0., 0., 0., 0.],\n",
       "       [0., 0., 0., 0., 0., 0.],\n",
       "       [0., 0., 0., 0., 0., 0.]])"
      ]
     },
     "execution_count": 395,
     "metadata": {},
     "output_type": "execute_result"
    }
   ],
   "source": [
    "# Matrizes de zeros\n",
    "np.zeros((5, 6))"
   ]
  },
  {
   "cell_type": "code",
   "execution_count": 407,
   "id": "2b91245e-1395-4bae-97db-06c858eba6c6",
   "metadata": {},
   "outputs": [],
   "source": [
    "listaD1 = np.random.randint(1, 100, 30)\n",
    "listaD1 = listaD1.reshape(6, 5)"
   ]
  },
  {
   "cell_type": "code",
   "execution_count": 408,
   "id": "952e6182-ed94-484e-a137-5d25892e5aa5",
   "metadata": {},
   "outputs": [
    {
     "name": "stdout",
     "output_type": "stream",
     "text": [
      "[[97  3 59 27 95]\n",
      " [96 75 43 95  8]\n",
      " [93 90 41 26  1]\n",
      " [23 71 68 68 34]\n",
      " [ 8 95 81 10 45]\n",
      " [21  8 45 82 53]]\n"
     ]
    }
   ],
   "source": [
    "print(listaD1)"
   ]
  },
  {
   "cell_type": "code",
   "execution_count": 409,
   "id": "3c377ac3-6e83-474d-991c-2cad1a194fe9",
   "metadata": {},
   "outputs": [
    {
     "data": {
      "text/plain": [
       "array([[97,  3, 59, 27, 95],\n",
       "       [96, 75, 43, 95,  8],\n",
       "       [93, 90, 41, 26,  1],\n",
       "       [23, 71, 68, 68, 34],\n",
       "       [ 8, 95, 81, 10, 45],\n",
       "       [21,  8, 45, 82, 53]])"
      ]
     },
     "execution_count": 409,
     "metadata": {},
     "output_type": "execute_result"
    }
   ],
   "source": [
    "listaD1"
   ]
  },
  {
   "cell_type": "code",
   "execution_count": null,
   "id": "2ad5cd16-b9bb-4afe-aad2-8046e8fb535d",
   "metadata": {},
   "outputs": [],
   "source": [
    "[90, 41, 26],\n",
    "[71, 68, 68],\n",
    "[95, 81, 10]"
   ]
  },
  {
   "cell_type": "code",
   "execution_count": 435,
   "id": "43c7d513-bcc6-4df9-b242-e9ae5c8315e1",
   "metadata": {},
   "outputs": [
    {
     "data": {
      "text/plain": [
       "array([[90, 41, 26,  1],\n",
       "       [71, 68, 68, 34],\n",
       "       [95, 81, 10, 45],\n",
       "       [ 8, 45, 82, 53]])"
      ]
     },
     "execution_count": 435,
     "metadata": {},
     "output_type": "execute_result"
    }
   ],
   "source": [
    "listaD1[2:6, 1:5]"
   ]
  },
  {
   "cell_type": "code",
   "execution_count": 437,
   "id": "0204f1ac-4223-4bf0-bff1-bc4c6f9755b9",
   "metadata": {},
   "outputs": [
    {
     "data": {
      "text/plain": [
       "array([[90, 41, 26,  1],\n",
       "       [71, 68, 68, 34],\n",
       "       [95, 81, 10, 45],\n",
       "       [ 8, 45, 82, 53]])"
      ]
     },
     "execution_count": 437,
     "metadata": {},
     "output_type": "execute_result"
    }
   ],
   "source": [
    "listaD1[2:6, 1:5]"
   ]
  },
  {
   "cell_type": "code",
   "execution_count": 439,
   "id": "34efad46-a4df-40af-8cbd-bc66dcd92455",
   "metadata": {},
   "outputs": [
    {
     "data": {
      "text/plain": [
       "array([[90, 41, 26,  1],\n",
       "       [95, 81, 10, 45]])"
      ]
     },
     "execution_count": 439,
     "metadata": {},
     "output_type": "execute_result"
    }
   ],
   "source": [
    "listaD1[2:6:2, 1:5]"
   ]
  },
  {
   "cell_type": "code",
   "execution_count": 441,
   "id": "0de5a09e-79b8-4494-b133-31e1198c82ed",
   "metadata": {},
   "outputs": [
    {
     "data": {
      "text/plain": [
       "array([[90, 26],\n",
       "       [95, 10]])"
      ]
     },
     "execution_count": 441,
     "metadata": {},
     "output_type": "execute_result"
    }
   ],
   "source": [
    "listaD1[2:6:2, 1:5:2]"
   ]
  },
  {
   "cell_type": "code",
   "execution_count": 442,
   "id": "5298fdcd-b52c-40e8-b84e-8f8aa4d34fcb",
   "metadata": {},
   "outputs": [
    {
     "data": {
      "text/plain": [
       "array([[71, 68, 68],\n",
       "       [95, 81, 10]])"
      ]
     },
     "execution_count": 442,
     "metadata": {},
     "output_type": "execute_result"
    }
   ],
   "source": [
    "listaD1[3:5, 1:4]"
   ]
  },
  {
   "cell_type": "markdown",
   "id": "0e7fbd9f-2859-4a5a-bcab-c812b7e9c116",
   "metadata": {},
   "source": [
    "---"
   ]
  },
  {
   "cell_type": "markdown",
   "id": "cddbd869-7a5f-4a32-8303-2dec9610877a",
   "metadata": {},
   "source": [
    "#### Máscaras"
   ]
  },
  {
   "cell_type": "markdown",
   "id": "b3117971-f11c-47e9-a4c7-c27d5bbf3cbd",
   "metadata": {},
   "source": [
    "Uma máscara é um array de verdadeiros e falsos que corresponde à alguma condição lógica. "
   ]
  },
  {
   "cell_type": "code",
   "execution_count": 443,
   "id": "121af9f2-7dec-4645-9091-a2d13d2edc37",
   "metadata": {},
   "outputs": [
    {
     "data": {
      "text/plain": [
       "True"
      ]
     },
     "execution_count": 443,
     "metadata": {},
     "output_type": "execute_result"
    }
   ],
   "source": [
    "True"
   ]
  },
  {
   "cell_type": "code",
   "execution_count": 444,
   "id": "6416cc30-1e72-4deb-b6be-15f0de791f56",
   "metadata": {},
   "outputs": [
    {
     "data": {
      "text/plain": [
       "False"
      ]
     },
     "execution_count": 444,
     "metadata": {},
     "output_type": "execute_result"
    }
   ],
   "source": [
    "False"
   ]
  },
  {
   "cell_type": "code",
   "execution_count": 462,
   "id": "b99ba0b8-d2da-43b8-b4fc-a3095d77e156",
   "metadata": {},
   "outputs": [],
   "source": [
    "array = np.random.randint(1, 101, 20)"
   ]
  },
  {
   "cell_type": "code",
   "execution_count": 463,
   "id": "79d54ff4-2324-481c-af08-c49d51e0da47",
   "metadata": {},
   "outputs": [
    {
     "data": {
      "text/plain": [
       "array([94, 44, 32, 82, 94, 91, 70, 40, 64, 58, 97, 74,  6, 93, 39, 78, 27,\n",
       "       31, 51, 45])"
      ]
     },
     "execution_count": 463,
     "metadata": {},
     "output_type": "execute_result"
    }
   ],
   "source": [
    "array"
   ]
  },
  {
   "cell_type": "code",
   "execution_count": 464,
   "id": "917bb5b6-61b4-4881-90d8-1785e3284633",
   "metadata": {},
   "outputs": [
    {
     "name": "stdout",
     "output_type": "stream",
     "text": [
      "[False  True  True False False False False  True False False False False\n",
      "  True False  True False  True  True False  True]\n"
     ]
    }
   ],
   "source": [
    "# Máscara\n",
    "mask = array < 50\n",
    "print(mask)\n",
    "menor_que_50 = array[mask]"
   ]
  },
  {
   "cell_type": "code",
   "execution_count": 483,
   "id": "8bcbe130-b06e-4391-9f2a-aef5ffd1e505",
   "metadata": {},
   "outputs": [],
   "source": [
    "maior_que_50 = array[array >= 50]"
   ]
  },
  {
   "cell_type": "code",
   "execution_count": 484,
   "id": "6fa8738b-61f1-49aa-aaf1-16f91dbdd7c6",
   "metadata": {},
   "outputs": [
    {
     "data": {
      "text/plain": [
       "array([94, 94, 91, 97,  6, 93])"
      ]
     },
     "execution_count": 484,
     "metadata": {},
     "output_type": "execute_result"
    }
   ],
   "source": [
    "array[(array >= 90) | (array <= 10)]"
   ]
  },
  {
   "cell_type": "code",
   "execution_count": 485,
   "id": "e8a6f701-37f3-41cd-aa81-26f0ea57a92a",
   "metadata": {},
   "outputs": [
    {
     "data": {
      "text/plain": [
       "array([94, 44, 32, 82, 94, 91, 70, 40, 64, 58, 97, 74,  6, 93, 39, 78, 27,\n",
       "       31, 51, 45])"
      ]
     },
     "execution_count": 485,
     "metadata": {},
     "output_type": "execute_result"
    }
   ],
   "source": [
    "# Exercício >= Pegar números pares de um array numpy!\n",
    "array"
   ]
  },
  {
   "cell_type": "code",
   "execution_count": 487,
   "id": "3b1b3469-873a-48b3-9e4d-bf2adc6cd8d9",
   "metadata": {},
   "outputs": [
    {
     "data": {
      "text/plain": [
       "array([94, 44, 32, 82, 94, 70, 40, 64, 58, 74,  6, 78])"
      ]
     },
     "execution_count": 487,
     "metadata": {},
     "output_type": "execute_result"
    }
   ],
   "source": [
    "array[array % 2 == 0]"
   ]
  },
  {
   "cell_type": "code",
   "execution_count": 488,
   "id": "309ba743-f686-4754-98a0-8e5d26fb9e7a",
   "metadata": {},
   "outputs": [
    {
     "data": {
      "text/plain": [
       "array([ True,  True,  True,  True,  True, False,  True,  True,  True,\n",
       "        True, False,  True,  True, False, False,  True, False, False,\n",
       "       False, False])"
      ]
     },
     "execution_count": 488,
     "metadata": {},
     "output_type": "execute_result"
    }
   ],
   "source": [
    "array % 2 == 0"
   ]
  },
  {
   "cell_type": "markdown",
   "id": "4c4929c3-4f82-45d3-aa34-e5b0c5a43420",
   "metadata": {},
   "source": [
    "---"
   ]
  }
 ],
 "metadata": {
  "kernelspec": {
   "display_name": "Python 3 (ipykernel)",
   "language": "python",
   "name": "python3"
  },
  "language_info": {
   "codemirror_mode": {
    "name": "ipython",
    "version": 3
   },
   "file_extension": ".py",
   "mimetype": "text/x-python",
   "name": "python",
   "nbconvert_exporter": "python",
   "pygments_lexer": "ipython3",
   "version": "3.8.10"
  }
 },
 "nbformat": 4,
 "nbformat_minor": 5
}
