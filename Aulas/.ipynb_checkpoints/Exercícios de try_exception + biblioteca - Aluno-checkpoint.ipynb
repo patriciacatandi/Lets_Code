{
 "cells": [
  {
   "cell_type": "markdown",
   "metadata": {},
   "source": [
    "1. Escreva um código que receba um inteiro e retorne a exponencial desse número caso ele  seja par e caso seja um ímpar retorne um print informando que esse número não é par utilizando um try/except <br>\n",
    "Dica: utilize assert num % 2 == 0"
   ]
  },
  {
   "cell_type": "code",
   "execution_count": null,
   "metadata": {},
   "outputs": [],
   "source": [
    "import math\n",
    "try:\n",
    "    num = int(input(\"Enter a number: \"))\n",
    "    assert num % 2 == 0\n",
    "except:\n",
    "    print(\"Not an even number!\")\n",
    "else:\n",
    "    print(math.exp(num))"
   ]
  },
  {
   "cell_type": "markdown",
   "metadata": {},
   "source": [
    "2. Suponha que você está trabalhando em uma empresa de saúde e seu chefe pediu para você criar uma função que receba de entrada a altura e peso de uma pessoa e retorne o IMC dela. <br>\n",
    "Essas entradas serão imputadas pelos usuários de uma página web, devido à isso, trate os possíveis erros de entrada na sua função e retorne para o usuário se ele está saudável, com sobrepeso ou abaixo do peso de acordo com as seguintes regras: <br>\n",
    "18.5 <= imc <= 24.9 - saudável <br>\n",
    "imc >= 25 -  sobrepeso <br>\n",
    "imc < 18.5 - abaixo do peso"
   ]
  },
  {
   "cell_type": "code",
   "execution_count": 71,
   "metadata": {},
   "outputs": [],
   "source": [
    "def calcular_imc(altura, peso):\n",
    "    \"\"\" Calcular o índice de massa corporal (imc) \"\"\"\n",
    "    return peso / altura**2\n",
    "\n",
    "\n",
    "def classificar_imc(imc):\n",
    "    \"\"\" Classificar o imc \"\"\"\n",
    "    if 18.5 <= imc <= 24.9:\n",
    "        return 'Saudavel'\n",
    "\n",
    "    if imc >= 25:\n",
    "        return 'Acima do peso'\n",
    "\n",
    "    return 'Abaixo do peso'\n",
    "\n",
    "def main():\n",
    "    try:\n",
    "        altura = float(input('Sua altura em metros:'))\n",
    "        peso = float(input('Seu peso em quilogramas:'))\n",
    "\n",
    "    except:\n",
    "        \n",
    "    else:\n",
    "        \n",
    "main()"
   ]
  },
  {
   "cell_type": "markdown",
   "metadata": {},
   "source": [
    "3.  Suponha que uma área de negócios deva enviar para o seu código uma lista com a seguinte ordem de dados: Nome (str), idade (int), e-mail (str) e data de nascimento (YYYY-MM-DD). <br>\n",
    "Crie um código que trate possíveis erros de formatação dessa lista. <br>\n",
    "Obs 1: Não se esqueça de garantir que a lista tenha 4 elementos. <br>\n",
    "Obs 2 (desafio): Garanta que o e-mail tenha o símbolo **@**"
   ]
  },
  {
   "cell_type": "code",
   "execution_count": 45,
   "metadata": {},
   "outputs": [
    {
     "name": "stdout",
     "output_type": "stream",
     "text": [
      "Caught this error: Exception('Entrada deve conter 4 elementos',)\n"
     ]
    }
   ],
   "source": [
    "# Básico\n",
    "import re\n",
    "lista = ['33', 33, 'paty', '2004-12-12']\n",
    "\n",
    "try:\n",
    "    e_mail = lista[2]\n",
    "    if len(lista) != 4:\n",
    "        raise Exception(\"Entrada deve conter 4 elementos\")\n",
    "    else:\n",
    "        if type(lista[0]) != str:\n",
    "            raise Exception(\"Nome tem que ser uma string\")\n",
    "        if type(lista[1]) != int:\n",
    "            raise Exception(\"Idade tem que ser um inteiro\")\n",
    "        if type(e_mail) != str:\n",
    "            raise Exception(\"E-mail tem que ser string\")\n",
    "        else:\n",
    "            if len(re.findall(r\"\\@\",e_mail)) == 0:\n",
    "                raise Exception(\"E-mail tem que ter @\")\n",
    "        if type(lista[3]) != str:\n",
    "            raise Exception(\"tem que ser string data\")\n",
    "\n",
    "except Exception as error:\n",
    "    print('Caught this error: ' + repr(error))\n",
    "        \n"
   ]
  },
  {
   "cell_type": "code",
   "execution_count": 58,
   "metadata": {},
   "outputs": [
    {
     "data": {
      "text/plain": [
       "datetime.datetime(2021, 10, 5, 0, 0)"
      ]
     },
     "execution_count": 58,
     "metadata": {},
     "output_type": "execute_result"
    }
   ],
   "source": [
    "datetime.datetime.strptime('2021-10-05', '%Y-%m-%d')"
   ]
  },
  {
   "cell_type": "code",
   "execution_count": 4,
   "metadata": {},
   "outputs": [
    {
     "name": "stdout",
     "output_type": "stream",
     "text": [
      "Caught this ValueError: ValueError('Idade tem que ser um inteiro',)\n"
     ]
    }
   ],
   "source": [
    "import re\n",
    "import datetime\n",
    "lista = ['33', 33, 'paty@', '1']\n",
    "\n",
    "try:\n",
    "    nome = lista[0]\n",
    "    idade = lista[1]\n",
    "    e_mail = lista[2]\n",
    "    data_nascimento = lista[3]\n",
    "    \n",
    "    if len(lista) != 4:\n",
    "        raise Exception(\"Entrada deve conter 4 elementos\")\n",
    "    else:\n",
    "        assert type(nome) == str, \"Nome tem que ser uma string\"\n",
    "\n",
    "        if type(idade) != int:\n",
    "            raise ValueError(\"Idade tem que ser um inteiro\")\n",
    "\n",
    "        if type(e_mail) != str:\n",
    "            raise ValueError(\"E-mail tem que ser string\")\n",
    "        else:\n",
    "            if len(re.findall(r\"\\@\",e_mail)) == 0:\n",
    "                raise Exception(\"E-mail tem que ter @\")\n",
    "\n",
    "        if type(data_nascimento) != str:\n",
    "            raise TypeError\n",
    "        \n",
    "        try:\n",
    "            datetime.datetime.strptime(data_nascimento, '%Y-%m-%d')\n",
    "        except ValueError:\n",
    "            raise ValueError(\"Incorrect data format, should be YYYY-MM-DD\")\n",
    "\n",
    "except ValueError as error:\n",
    "    print('Caught this ValueError: ' + repr(error))\n",
    "except Exception as error:\n",
    "    print('Caught this Exception: ' + repr(error))\n",
    "\n"
   ]
  },
  {
   "cell_type": "markdown",
   "metadata": {},
   "source": [
    "4. Considere que você possua em um dicionário o nome de um cliente com seu respectivo e-mail. Crie um código com try/except que peça o nome do cliente e retorne o e-mail dele caso esse cliente esteja em sua base de dados. Caso o nome não exista na base continue pedindo um nome válido e crie uma saída do loop caso a pessoa digitando desista de usar seu programa.\n",
    "\n",
    "\n",
    "<br>\n",
    "Exemplo de dados dos seus clientes:\n",
    "<br>\n",
    "clients = {\n",
    "    'brian': 'brian@letscode.com',\n",
    "    'billy': 'billy@letscode.com',\n",
    "    'bruna': 'bruna@letscode.com'\n",
    "}"
   ]
  },
  {
   "cell_type": "code",
   "execution_count": null,
   "metadata": {},
   "outputs": [],
   "source": []
  }
 ],
 "metadata": {
  "kernelspec": {
   "display_name": "Python 3",
   "language": "python",
   "name": "python3"
  },
  "language_info": {
   "codemirror_mode": {
    "name": "ipython",
    "version": 3
   },
   "file_extension": ".py",
   "mimetype": "text/x-python",
   "name": "python",
   "nbconvert_exporter": "python",
   "pygments_lexer": "ipython3",
   "version": "3.6.9"
  }
 },
 "nbformat": 4,
 "nbformat_minor": 2
}
