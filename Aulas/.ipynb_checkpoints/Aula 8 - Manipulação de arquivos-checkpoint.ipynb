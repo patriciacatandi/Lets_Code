{
 "cells": [
  {
   "cell_type": "markdown",
   "metadata": {},
   "source": [
    "# Aula 10 - Manipulação de arquivos\n",
    "\n",
    "Na aula de hoje, vamos explorar os seguintes tópicos em Python:\n",
    "\n",
    "- 1) Arquivos em Python\n",
    "- 2) Arquivos csv\n",
    "\n",
    "_______\n",
    "\n",
    "### Objetivos\n",
    "\n",
    "Apresentar o conceito, importância e operacional do uso de arquivos em Python, explicitando como ler, modificar e escrever arquivos; <br>\n",
    "Apresentar o conceito de CSV, e brevemente a biblioteca de i/o de csv - não focar muito na leitura/escrita, pois o pandas será utilizado para isso!\n",
    "\n",
    "### Habilidades a serem desenvolvidas\n",
    "\n",
    "Ao final da aula o aluno deve:\n",
    "\n",
    "- Conhecer o conceito e importância do uso de arquivos;\n",
    "- Saber como criar, modificar e ler arquivos;\n",
    "- Conhecer sobre o formato csv e como trabalhar com ele."
   ]
  },
  {
   "cell_type": "markdown",
   "metadata": {},
   "source": [
    "____\n",
    "____"
   ]
  },
  {
   "cell_type": "markdown",
   "metadata": {},
   "source": [
    "## 1) Arquivos em Python\n",
    "\n",
    "Todos os programas que fizemos até o momento tinham variáveis, input e output **temporários**, guardados na memória RAM do computador **enquanto o programa é executado**.\n",
    "\n",
    "Após o programa ser finalizado, todas as variáveis, inputs e outputs eram perdidos.\n",
    "\n",
    "Muitas vezes queremos que esses valores sejam armazenados, que os dados processados pelo programa sejam preservados. O termo para esta característica é **persistência de dados**.\n",
    "\n",
    "A persistência se dá através de **arquivos**: documentos criados para **armazenar dados em uma memória permanente**, como o **disco rígido**, um **USB** ou um **servidor web**."
   ]
  },
  {
   "cell_type": "markdown",
   "metadata": {},
   "source": [
    "O Python têm algumas funções padrão para a manipulação de arquivos. Vamos vê-las!"
   ]
  },
  {
   "cell_type": "markdown",
   "metadata": {},
   "source": [
    "A função `open()` é usada pra abrir arquivos existentes ou criar um arquivo novo. \n",
    "\n",
    "O primeiro argumento a ser passado é o caminho do arquivo, com seu nome (se apenas o nome do arquivo for passado, isso é interpretado como o arquivo estando na mesma pasta que o código!); e o segundo é o modo de operação. Os modos são:\n",
    "\n",
    "- `r` -\tlê um arquivo existente\n",
    "- `w` -\tcria um novo arquivo ou sobrescreve um existente\n",
    "- `a` -\tcria um novo arquivo ou adiciona informações ao seu final (append)\n",
    "- `+` -\tao ser combinado com outros modos, permite alteração de arquivo já existente (ex: `r+` abre um arquivo existente e permite modificá-lo)\n",
    "\n",
    "O argumento de **modo de operação não é obrigatório** e o Python assume o `r` como **default**.\n",
    "\n",
    "O terceiro argumento é o \"encoding\", que dá a codificação do arquivo. \n",
    "O encoding é a representação dos caracteres no qual é atribuído um número diferente para cada um. Pra evitar problemas, é legal sempre usar `encoding=\"utf-8\"`"
   ]
  },
  {
   "cell_type": "code",
   "execution_count": 9,
   "metadata": {},
   "outputs": [],
   "source": [
    "arquivo = open(\"ola.txt\", \"w\", encoding=\"utf-8\")"
   ]
  },
  {
   "cell_type": "markdown",
   "metadata": {},
   "source": [
    "Se analisarmos a variável \"arquivo\" (é o return da função \"open\"), note que há algumas coisas estranhas... É assim que o python entende seu arquivo, mas não precisa se preocupar com isso"
   ]
  },
  {
   "cell_type": "code",
   "execution_count": 3,
   "metadata": {},
   "outputs": [
    {
     "name": "stdout",
     "output_type": "stream",
     "text": [
      "<_io.TextIOWrapper name='ola.txt' mode='w' encoding='utf-8'>\n"
     ]
    }
   ],
   "source": [
    "print(arquivo)"
   ]
  },
  {
   "cell_type": "markdown",
   "metadata": {},
   "source": [
    "Uma vez aberto o arquivo, podemos escrever alguma coisa nele. Para isso, usamos a função `write()`\n",
    "\n",
    "Essa função aceita apenas um argumento, que é o que você quer escrever no arquivo"
   ]
  },
  {
   "cell_type": "code",
   "execution_count": 10,
   "metadata": {},
   "outputs": [
    {
     "data": {
      "text/plain": [
       "16"
      ]
     },
     "execution_count": 10,
     "metadata": {},
     "output_type": "execute_result"
    }
   ],
   "source": [
    "arquivo.write(\"olá, mundo de novo!!!!!!\")\n",
    "arquivo.write(\"olá, let's code!\")"
   ]
  },
  {
   "cell_type": "markdown",
   "metadata": {},
   "source": [
    "Após abrirmos (ou criarmos) um arquivo, e fazer as operações desejadas com ele, devemos fechá-lo usando a função `close()`. Essa etapa é importante por 2 motivos:\n",
    "\n",
    "- Se alteramos o arquivo mas não o fechamos, as alterações não serão salvas.\n",
    "- Se esquecermos de fechar um arquivo, outros programas podem ter problemas de acesso a ele.\n",
    "\n",
    "Por isso, **nunca se esqueca de fechar os arquivos abertos!**"
   ]
  },
  {
   "cell_type": "code",
   "execution_count": 11,
   "metadata": {},
   "outputs": [],
   "source": [
    "arquivo.close()"
   ]
  },
  {
   "cell_type": "markdown",
   "metadata": {},
   "source": [
    "__Fazendo todas as operações em uma única célula__"
   ]
  },
  {
   "cell_type": "code",
   "execution_count": 16,
   "metadata": {},
   "outputs": [],
   "source": [
    "f = open(\"ola.txt\", \"w\", encoding=\"utf-8\")\n",
    "f.write(\"olá, mundo!!!!!!\")\n",
    "f.write(\"olá, let's code!\")\n",
    "\n",
    "f.close()"
   ]
  },
  {
   "cell_type": "markdown",
   "metadata": {},
   "source": [
    "Repare que os textos foram considerados como pertencentes a mesma linha. Para que ele interprete as linhas separadamente precisamos finalizar com um caracter especial denominado **EOL (End of Line)** como o `\\n`. Eles indicam que a linha atual acabou e o início de uma nova linha."
   ]
  },
  {
   "cell_type": "code",
   "execution_count": 14,
   "metadata": {},
   "outputs": [],
   "source": [
    "f = open(\"ola.txt\", \"a\", encoding=\"utf-8\")\n",
    "f.write(\"olá, mundo!!!!!!\\n\")\n",
    "f.write(\"olá, let's code!\")\n",
    "\n",
    "f.close()"
   ]
  },
  {
   "cell_type": "markdown",
   "metadata": {},
   "source": [
    "Vamos escrever mais algumas coisas no nosso arquivo...\n",
    "\n",
    "Como o arquivo já existe, vamos tentar usar o modo \"r\"..."
   ]
  },
  {
   "cell_type": "code",
   "execution_count": 16,
   "metadata": {},
   "outputs": [],
   "source": [
    "# como o arquivo já existe, vamos usar o modo de leitura, \"r\"\n",
    "arquivo = open(\"ola.txt\", \"r\", encoding=\"utf-8\")\n",
    "\n"
   ]
  },
  {
   "cell_type": "code",
   "execution_count": 17,
   "metadata": {},
   "outputs": [
    {
     "ename": "UnsupportedOperation",
     "evalue": "not writable",
     "output_type": "error",
     "traceback": [
      "\u001b[0;31m---------------------------------------------------------------------------\u001b[0m",
      "\u001b[0;31mUnsupportedOperation\u001b[0m                      Traceback (most recent call last)",
      "\u001b[0;32m<ipython-input-17-61559eea0910>\u001b[0m in \u001b[0;36m<module>\u001b[0;34m\u001b[0m\n\u001b[0;32m----> 1\u001b[0;31m \u001b[0marquivo\u001b[0m\u001b[0;34m.\u001b[0m\u001b[0mwrite\u001b[0m\u001b[0;34m(\u001b[0m\u001b[0;34m'Minha segunda frase'\u001b[0m\u001b[0;34m)\u001b[0m\u001b[0;34m\u001b[0m\u001b[0;34m\u001b[0m\u001b[0m\n\u001b[0m\u001b[1;32m      2\u001b[0m \u001b[0;34m\u001b[0m\u001b[0m\n\u001b[1;32m      3\u001b[0m \u001b[0marquivo\u001b[0m\u001b[0;34m.\u001b[0m\u001b[0mclose\u001b[0m\u001b[0;34m(\u001b[0m\u001b[0;34m)\u001b[0m\u001b[0;34m\u001b[0m\u001b[0;34m\u001b[0m\u001b[0m\n",
      "\u001b[0;31mUnsupportedOperation\u001b[0m: not writable"
     ]
    }
   ],
   "source": [
    "arquivo.write('Minha segunda frase') \n",
    "\n",
    "arquivo.close()"
   ]
  },
  {
   "cell_type": "markdown",
   "metadata": {},
   "source": [
    "Note que encontramos um erro, pois o modo \"r\" permite **apenas a leitura do arquivo**\n",
    "\n",
    "Se queremos escrever algo nele, usamos o \"r+\""
   ]
  },
  {
   "cell_type": "code",
   "execution_count": 18,
   "metadata": {},
   "outputs": [],
   "source": [
    "# modo r+, pra poder escrever no arquivo\n",
    "arquivo = open(\"ola.txt\", \"r+\", encoding=\"utf-8\")\n",
    "\n",
    "arquivo.write('Minha segunda frase') \n",
    "\n",
    "arquivo.close()"
   ]
  },
  {
   "cell_type": "markdown",
   "metadata": {},
   "source": [
    "Note, no entanto, que se usarmos o modo \"r+\", o write substitui o conteúdo anterior da primeira linha do arquivo!\n",
    "\n",
    "Para corrigir isso, usamos o modo \"a\", que permite escrever AO FIM do arquivo"
   ]
  },
  {
   "cell_type": "code",
   "execution_count": 20,
   "metadata": {},
   "outputs": [],
   "source": [
    "# modo a, pra poder escrever ao fim do arquivo coisas novas\n",
    "arquivo = open(\"ola.txt\", \"a\", encoding=\"utf-8\")\n",
    "\n",
    "arquivo.write('\\nMinha segunda frase') \n",
    "\n",
    "arquivo.close()"
   ]
  },
  {
   "cell_type": "markdown",
   "metadata": {},
   "source": [
    "Se quisermos escrever em uma sequência de novas linhas, usamos um loop seguido de \"\\n\":"
   ]
  },
  {
   "cell_type": "code",
   "execution_count": 21,
   "metadata": {},
   "outputs": [],
   "source": [
    "# modo a, pra poder escrever ao fim do arquivo coisas novas\n",
    "arquivo = open(\"ola.txt\", \"a\", encoding=\"utf-8\")\n",
    "\n",
    "for i in range(5):\n",
    "    \n",
    "    arquivo.write(str(i) + \" - olá mundo!!\\n\")\n",
    "\n",
    "arquivo.close()"
   ]
  },
  {
   "cell_type": "code",
   "execution_count": 22,
   "metadata": {},
   "outputs": [
    {
     "name": "stdout",
     "output_type": "stream",
     "text": [
      "oi\n"
     ]
    }
   ],
   "source": [
    "# Exercício (5 min):\n",
    "# Crie um arquivo nomes.txt e salve os itens da lista 'nomes' em linhas separadas:\n",
    "    \n",
    "nomes = [\"André\", \"João\", \"Maria\"]\n",
    "\n",
    "with open('teste.txt', 'w', encoding='utf-8') as teste:\n",
    "    teste.write('\\n'.join(['André', 'João', 'Maria']))\n",
    "print('oi')\n"
   ]
  },
  {
   "cell_type": "code",
   "execution_count": 61,
   "metadata": {},
   "outputs": [],
   "source": [
    "nomes = [\"André\", \"João\", \"Maria\"]\n",
    "\n",
    "arquivo = open(\"exercicio.txt\", \"a\", encoding=\"utf-8\")\n",
    "for i in nomes:\n",
    "    arquivo.write(\"|\" + i )\n",
    "\n",
    "arquivo.close()"
   ]
  },
  {
   "cell_type": "code",
   "execution_count": 62,
   "metadata": {},
   "outputs": [
    {
     "data": {
      "text/plain": [
       "['André', 'João', 'Maria', 'André', 'João', 'Maria']"
      ]
     },
     "execution_count": 62,
     "metadata": {},
     "output_type": "execute_result"
    }
   ],
   "source": [
    "arquivo = open(\"exercicio.txt\", \"r\", encoding=\"utf-8\")\n",
    "arquivo.seek(0)\n",
    "teste_pipe = arquivo.read()\n",
    "\n",
    "arquivo.close()\n",
    "\n",
    "teste_pipe.split('|')"
   ]
  },
  {
   "cell_type": "markdown",
   "metadata": {},
   "source": [
    "### Armazenar dados em variável\n",
    "\n",
    "Para armazenar os dados do arquivo em uma variável do python utilizamos a função `read()`"
   ]
  },
  {
   "cell_type": "code",
   "execution_count": 24,
   "metadata": {},
   "outputs": [],
   "source": [
    "# modo r para a leitura\n",
    "arquivo = open('ola.txt', 'r', encoding=\"utf-8\")\n",
    "\n",
    "conteudo = arquivo.read()"
   ]
  },
  {
   "cell_type": "code",
   "execution_count": 27,
   "metadata": {},
   "outputs": [
    {
     "data": {
      "text/plain": [
       "\"Minha segunda fraselá, let's code!olá, mundo!!!!!!\\nolá, let's code!Minha segunda frase\\nMinha segunda frase0 - olá mundo!!\\n1 - olá mundo!!\\n2 - olá mundo!!\\n3 - olá mundo!!\\n4 - olá mundo!!\\n\""
      ]
     },
     "execution_count": 27,
     "metadata": {},
     "output_type": "execute_result"
    }
   ],
   "source": [
    "conteudo"
   ]
  },
  {
   "cell_type": "code",
   "execution_count": 29,
   "metadata": {},
   "outputs": [
    {
     "data": {
      "text/plain": [
       "str"
      ]
     },
     "execution_count": 29,
     "metadata": {},
     "output_type": "execute_result"
    }
   ],
   "source": [
    "type(conteudo)"
   ]
  },
  {
   "cell_type": "code",
   "execution_count": 31,
   "metadata": {},
   "outputs": [
    {
     "data": {
      "text/plain": [
       "[\"Minha segunda fraselá, let's code!olá, mundo!!!!!!\",\n",
       " \"olá, let's code!Minha segunda frase\",\n",
       " 'Minha segunda frase0 - olá mundo!!',\n",
       " '1 - olá mundo!!',\n",
       " '2 - olá mundo!!',\n",
       " '3 - olá mundo!!',\n",
       " '4 - olá mundo!!',\n",
       " '']"
      ]
     },
     "execution_count": 31,
     "metadata": {},
     "output_type": "execute_result"
    }
   ],
   "source": [
    "conteudo.split('\\n')"
   ]
  },
  {
   "cell_type": "code",
   "execution_count": 32,
   "metadata": {},
   "outputs": [
    {
     "data": {
      "text/plain": [
       "[\"Minha segunda fraselá, let's code!olá, mundo!!!!!!\",\n",
       " \"olá, let's code!Minha segunda frase\",\n",
       " 'Minha segunda frase0 - olá mundo!!',\n",
       " '1 - olá mundo!!',\n",
       " '2 - olá mundo!!',\n",
       " '3 - olá mundo!!',\n",
       " '4 - olá mundo!!',\n",
       " '']"
      ]
     },
     "execution_count": 32,
     "metadata": {},
     "output_type": "execute_result"
    }
   ],
   "source": [
    "conteudo_lista = conteudo.split(\"\\n\")\n",
    "\n",
    "conteudo_lista"
   ]
  },
  {
   "cell_type": "code",
   "execution_count": 35,
   "metadata": {},
   "outputs": [
    {
     "data": {
      "text/plain": [
       "''"
      ]
     },
     "execution_count": 35,
     "metadata": {},
     "output_type": "execute_result"
    }
   ],
   "source": [
    "conteudo_lista[-1]"
   ]
  },
  {
   "cell_type": "markdown",
   "metadata": {},
   "source": [
    "A função `read()` lê o que estiver no arquivo em forma de uma string!\n",
    "\n",
    "As quebras de linha serão, portanto, armazenadas como \"\\n\"."
   ]
  },
  {
   "cell_type": "code",
   "execution_count": 36,
   "metadata": {},
   "outputs": [
    {
     "data": {
      "text/plain": [
       "[\"Minha segunda fraselá, let's code!olá, mundo!!!!!!\\n\",\n",
       " \"olá, let's code!Minha segunda frase\\n\",\n",
       " 'Minha segunda frase0 - olá mundo!!\\n',\n",
       " '1 - olá mundo!!\\n',\n",
       " '2 - olá mundo!!\\n',\n",
       " '3 - olá mundo!!\\n',\n",
       " '4 - olá mundo!!\\n']"
      ]
     },
     "execution_count": 36,
     "metadata": {},
     "output_type": "execute_result"
    }
   ],
   "source": [
    "f = open(\"ola.txt\", \"r\", encoding=\"utf-8\")\n",
    "\n",
    "lista_de_linhas = []\n",
    "\n",
    "# aqui, o python entende que ele deve percorrer cada linha do arquivo!\n",
    "for elemento in f:\n",
    "      \n",
    "    lista_de_linhas.append(elemento)\n",
    "    \n",
    "f.close()\n",
    "\n",
    "lista_de_linhas"
   ]
  },
  {
   "cell_type": "code",
   "execution_count": 40,
   "metadata": {},
   "outputs": [
    {
     "data": {
      "text/plain": [
       "'1 - olá mundo!!\\n'"
      ]
     },
     "execution_count": 40,
     "metadata": {},
     "output_type": "execute_result"
    }
   ],
   "source": [
    "lista_de_linhas[3]"
   ]
  },
  {
   "cell_type": "code",
   "execution_count": 63,
   "metadata": {},
   "outputs": [
    {
     "data": {
      "text/plain": [
       "[\"Minha segunda fraselá, let's code!olá, mundo!!!!!!\\n\",\n",
       " \"olá, let's code!Minha segunda frase\\n\",\n",
       " 'Minha segunda frase0 - olá mundo!!\\n',\n",
       " '1 - olá mundo!!\\n',\n",
       " '2 - olá mundo!!\\n',\n",
       " '3 - olá mundo!!\\n',\n",
       " '4 - olá mundo!!\\n']"
      ]
     },
     "execution_count": 63,
     "metadata": {},
     "output_type": "execute_result"
    }
   ],
   "source": [
    "# usando compreensão de listas!\n",
    "\n",
    "f = open(\"ola.txt\", \"r\", encoding=\"utf-8\")\n",
    "\n",
    "lista = [x for x in f if x != '']\n",
    "\n",
    "f.close()\n",
    "\n",
    "lista"
   ]
  },
  {
   "cell_type": "markdown",
   "metadata": {},
   "source": [
    "Uma maneira de lermos o arquivo todo como lista é utilizando  o readlines()"
   ]
  },
  {
   "cell_type": "code",
   "execution_count": 42,
   "metadata": {},
   "outputs": [
    {
     "data": {
      "text/plain": [
       "[\"Minha segunda fraselá, let's code!olá, mundo!!!!!!\\n\",\n",
       " \"olá, let's code!Minha segunda frase\\n\",\n",
       " 'Minha segunda frase0 - olá mundo!!\\n',\n",
       " '1 - olá mundo!!\\n',\n",
       " '2 - olá mundo!!\\n',\n",
       " '3 - olá mundo!!\\n',\n",
       " '4 - olá mundo!!\\n']"
      ]
     },
     "execution_count": 42,
     "metadata": {},
     "output_type": "execute_result"
    }
   ],
   "source": [
    "f = open(\"ola.txt\", \"r\", encoding=\"utf-8\")\n",
    "\n",
    "ler_lista = f.readlines()\n",
    "\n",
    "f.close()\n",
    "\n",
    "ler_lista"
   ]
  },
  {
   "cell_type": "code",
   "execution_count": 32,
   "metadata": {},
   "outputs": [
    {
     "data": {
      "text/plain": [
       "['olá, mundo!!!!!!\\n',\n",
       " \"olá, let's code!\\n\",\n",
       " 'Minha quarta frase\\n',\n",
       " 'Nova frase']"
      ]
     },
     "execution_count": 32,
     "metadata": {},
     "output_type": "execute_result"
    }
   ],
   "source": [
    "with open(\"ola.txt\", \"r\", encoding=\"utf-8\") as f:\n",
    "    ler_lista = f.readlines()\n",
    "\n",
    "ler_lista"
   ]
  },
  {
   "cell_type": "code",
   "execution_count": 39,
   "metadata": {},
   "outputs": [
    {
     "data": {
      "text/plain": [
       "'alo alo\\num dois testando\\\\ntres quatro'"
      ]
     },
     "execution_count": 39,
     "metadata": {},
     "output_type": "execute_result"
    }
   ],
   "source": [
    "f = open(\"teste_2.txt\", \"r\")\n",
    "teste_2 = f.read()\n",
    "f.close()\n",
    "teste_2"
   ]
  },
  {
   "cell_type": "code",
   "execution_count": 69,
   "metadata": {},
   "outputs": [
    {
     "data": {
      "text/plain": [
       "['André', 'João', 'Maria', 'André', 'João', 'Maria']"
      ]
     },
     "execution_count": 69,
     "metadata": {},
     "output_type": "execute_result"
    }
   ],
   "source": [
    "f = open(\"exercicio.txt\", \"r\", encoding=\"utf-8\")\n",
    "\n",
    "lista = f.read().split(\"|\")\n",
    "\n",
    "f.close()\n",
    "\n",
    "[l for l in lista if l != '']\n",
    "\n"
   ]
  },
  {
   "cell_type": "code",
   "execution_count": 73,
   "metadata": {},
   "outputs": [
    {
     "data": {
      "text/plain": [
       "'.alo alo\\num dois testando\\\\ntres quatro'"
      ]
     },
     "execution_count": 73,
     "metadata": {},
     "output_type": "execute_result"
    }
   ],
   "source": [
    "'.alo alo\\num dois testando\\\\ntres quatro.'.rstrip(\".\")"
   ]
  },
  {
   "cell_type": "markdown",
   "metadata": {},
   "source": [
    "### Armazenando valores numéricos"
   ]
  },
  {
   "cell_type": "code",
   "execution_count": 76,
   "metadata": {},
   "outputs": [
    {
     "ename": "TypeError",
     "evalue": "write() argument must be str, not list",
     "output_type": "error",
     "traceback": [
      "\u001b[0;31m---------------------------------------------------------------------------\u001b[0m",
      "\u001b[0;31mTypeError\u001b[0m                                 Traceback (most recent call last)",
      "\u001b[0;32m<ipython-input-76-0897ee9aa22e>\u001b[0m in \u001b[0;36m<module>\u001b[0;34m\u001b[0m\n\u001b[1;32m      3\u001b[0m \u001b[0mf\u001b[0m \u001b[0;34m=\u001b[0m \u001b[0mopen\u001b[0m\u001b[0;34m(\u001b[0m\u001b[0;34m\"minhas_notas.txt\"\u001b[0m\u001b[0;34m,\u001b[0m \u001b[0;34m\"w\"\u001b[0m\u001b[0;34m,\u001b[0m \u001b[0mencoding\u001b[0m\u001b[0;34m=\u001b[0m\u001b[0;34m\"utf-8\"\u001b[0m\u001b[0;34m)\u001b[0m\u001b[0;34m\u001b[0m\u001b[0;34m\u001b[0m\u001b[0m\n\u001b[1;32m      4\u001b[0m \u001b[0;34m\u001b[0m\u001b[0m\n\u001b[0;32m----> 5\u001b[0;31m \u001b[0mf\u001b[0m\u001b[0;34m.\u001b[0m\u001b[0mwrite\u001b[0m\u001b[0;34m(\u001b[0m\u001b[0mnotas\u001b[0m\u001b[0;34m)\u001b[0m\u001b[0;34m\u001b[0m\u001b[0;34m\u001b[0m\u001b[0m\n\u001b[0m\u001b[1;32m      6\u001b[0m \u001b[0;34m\u001b[0m\u001b[0m\n\u001b[1;32m      7\u001b[0m \u001b[0mf\u001b[0m\u001b[0;34m.\u001b[0m\u001b[0mclose\u001b[0m\u001b[0;34m(\u001b[0m\u001b[0;34m)\u001b[0m\u001b[0;34m\u001b[0m\u001b[0;34m\u001b[0m\u001b[0m\n",
      "\u001b[0;31mTypeError\u001b[0m: write() argument must be str, not list"
     ]
    }
   ],
   "source": [
    "notas = [8, 7, 6, 10, 10, 8]\n",
    "\n",
    "f = open(\"minhas_notas.txt\", \"w\", encoding=\"utf-8\")\n",
    "\n",
    "f.write(notas) \n",
    "\n",
    "f.close()"
   ]
  },
  {
   "cell_type": "markdown",
   "metadata": {},
   "source": [
    "Com o `write()` só é possível escrever strings! Então, vamos ter que modificar um pouco o programa..."
   ]
  },
  {
   "cell_type": "code",
   "execution_count": 79,
   "metadata": {},
   "outputs": [],
   "source": [
    "notas = [8, 7, 5, 6, 4, 6]\n",
    "\n",
    "f = open(\"notas.txt\", \"w\", encoding=\"utf-8\")\n",
    "\n",
    "for elemento in notas:\n",
    "    \n",
    "    f.write(str(elemento) + \"\\n\")\n",
    "    \n",
    "f.close()"
   ]
  },
  {
   "cell_type": "markdown",
   "metadata": {},
   "source": [
    "Também temos método para salvar todos os elementos de uma lista de uma única vez `writelines`"
   ]
  },
  {
   "cell_type": "code",
   "execution_count": 81,
   "metadata": {},
   "outputs": [],
   "source": [
    "notas = [8, 7, 5, 6, 4, 6]\n",
    "\n",
    "f = open(\"notas.txt\", \"w\", encoding=\"utf-8\")\n",
    "f.writelines([str(elemento) + \"\\n\" for elemento in notas])\n",
    "f.close()"
   ]
  },
  {
   "cell_type": "markdown",
   "metadata": {},
   "source": [
    "Agora vamos ler o arquivo e calcular a média das notas armazenadas!"
   ]
  },
  {
   "cell_type": "code",
   "execution_count": 82,
   "metadata": {
    "scrolled": true
   },
   "outputs": [
    {
     "data": {
      "text/plain": [
       "'8\\n7\\n5\\n6\\n4\\n6\\n'"
      ]
     },
     "execution_count": 82,
     "metadata": {},
     "output_type": "execute_result"
    }
   ],
   "source": [
    "f = open(\"notas.txt\", \"r\", encoding=\"utf-8\")\n",
    "\n",
    "string_de_notas = f.read()\n",
    "\n",
    "string_de_notas"
   ]
  },
  {
   "cell_type": "code",
   "execution_count": 87,
   "metadata": {},
   "outputs": [
    {
     "name": "stdout",
     "output_type": "stream",
     "text": [
      "['8', '7', '5', '6', '4', '6', '']\n"
     ]
    }
   ],
   "source": [
    "lista_de_notas = string_de_notas.split('\\n')\n",
    "\n",
    "print(lista_de_notas)\n"
   ]
  },
  {
   "cell_type": "code",
   "execution_count": 90,
   "metadata": {},
   "outputs": [
    {
     "data": {
      "text/plain": [
       "[8, 7, 5, 6, 4, 6]"
      ]
     },
     "execution_count": 90,
     "metadata": {},
     "output_type": "execute_result"
    }
   ],
   "source": [
    "[int(elemento) for elemento in lista_de_notas if elemento != '']"
   ]
  },
  {
   "cell_type": "code",
   "execution_count": 86,
   "metadata": {},
   "outputs": [
    {
     "name": "stdout",
     "output_type": "stream",
     "text": [
      "[8, 7, 5, 6, 4, 6]\n",
      "6.0\n"
     ]
    }
   ],
   "source": [
    "# usando compreensão de lista (list comprehension)\n",
    "lista_de_inteiros = [int(elementos) for elementos in lista_de_notas if elementos != '']\n",
    "\n",
    "print(lista_de_inteiros)\n",
    "\n",
    "media = sum(lista_de_inteiros)/len(lista_de_inteiros)\n",
    "\n",
    "print(media)\n",
    "\n",
    "f.close()"
   ]
  },
  {
   "cell_type": "markdown",
   "metadata": {},
   "source": [
    "Apesar de termos tratado sobre as funções acima, existem **bibliotecas específicas** para a leitura/escrita de determinados tipos de arquivos.\n",
    "\n",
    "Na prática, é muito mais conveniente usarmos estas bibliotecas, a depender do tipo de arquivo que desejamos ler/escrever!"
   ]
  },
  {
   "cell_type": "markdown",
   "metadata": {},
   "source": [
    "____\n",
    "____"
   ]
  },
  {
   "cell_type": "markdown",
   "metadata": {},
   "source": [
    "## 2) Arquivos CSV\n",
    "\n",
    "Um tipo de arquivo muito comum é o **csv**\n",
    "\n",
    "A sigla CSV significa **Comma-Separated Values**, ou **\"valores separados por vírgula\"**. \n",
    "\n",
    "Este formato é uma forma padrão de representar tabelas usando arquivos de texto simples: cada elemento é separado por uma vírgula (ou ponto-e-vírgula, ou, qualquer outro separador), e cada linha é separada por uma quebra de linha. "
   ]
  },
  {
   "cell_type": "markdown",
   "metadata": {},
   "source": [
    "Em Python, podemos entender um arquivo CSV como uma lista de listas. \n",
    "\n",
    "Imagine que queremos armazenar um arquivo csv. Começamos com uma lista de listas:"
   ]
  },
  {
   "cell_type": "code",
   "execution_count": 91,
   "metadata": {},
   "outputs": [],
   "source": [
    "tabela = [['Aluno', 'Nota 1', 'Nota 2', 'Presença'],\n",
    "          ['Luke', 7, 9, 15],\n",
    "          ['Han', 4, 7, 10],\n",
    "          ['Leia', 9, 9, 16]]"
   ]
  },
  {
   "cell_type": "code",
   "execution_count": 95,
   "metadata": {},
   "outputs": [
    {
     "data": {
      "text/plain": [
       "['Han', 4, 7, 10]"
      ]
     },
     "execution_count": 95,
     "metadata": {},
     "output_type": "execute_result"
    }
   ],
   "source": [
    "tabela[2]"
   ]
  },
  {
   "cell_type": "markdown",
   "metadata": {},
   "source": [
    "Pode não ser tão simples escrever esta lista de listas em um arquivo usando a função write(), como vimos antes, né?\n",
    "\n",
    "Para trabalhar com arquivos csv, vamos utilizar a biblioteca `csv` do python!\n",
    "\n",
    "Desta biblioteca, vamo usar duas funções:\n",
    "\n",
    "- **função de escrita**: `csv.writer().writerows()`\n",
    "\n",
    "- **função de leitura**: `csv.reader()`"
   ]
  },
  {
   "cell_type": "code",
   "execution_count": 96,
   "metadata": {},
   "outputs": [],
   "source": [
    "import csv"
   ]
  },
  {
   "cell_type": "markdown",
   "metadata": {},
   "source": [
    "Primeiramente, criamos o arquivo, como fizemos antes"
   ]
  },
  {
   "cell_type": "code",
   "execution_count": 97,
   "metadata": {},
   "outputs": [],
   "source": [
    "# cria o arquivo CSV\n",
    "arquivo = open('alunos_star_wars.csv', 'w', encoding=\"utf-8\")"
   ]
  },
  {
   "cell_type": "markdown",
   "metadata": {},
   "source": [
    "Depois, utilizamos a função \"writer\" da biblioteca \"csv\", juntamente da função \"writerows\" para escrever a lista de listas ao arquivo:"
   ]
  },
  {
   "cell_type": "code",
   "execution_count": 98,
   "metadata": {},
   "outputs": [],
   "source": [
    "csv.writer(arquivo, delimiter=';', lineterminator='\\n').writerows(tabela)"
   ]
  },
  {
   "cell_type": "markdown",
   "metadata": {},
   "source": [
    "A primeira parte, \n",
    "\n",
    "```python\n",
    "csv.writer(arquivo, delimiter=';', lineterminator='\\n')\n",
    "```\n",
    "\n",
    "Indica:\n",
    "\n",
    "- em que arquivo você quer escrever\n",
    "- como que você vai separar os valores (neste caso, com \";\")\n",
    "- como vc vai separar as diferentes linhas do arquivo (neste caso, com \"\\n\")\n",
    "\n",
    "A segunda parte, indica quais os dados que você quer escrever no arquivo (no caso, a lista de listas \"tabela\"):\n",
    "\n",
    "```python\n",
    "writerows(tabela)\n",
    "```"
   ]
  },
  {
   "cell_type": "markdown",
   "metadata": {},
   "source": [
    "Fechando o arquivo"
   ]
  },
  {
   "cell_type": "code",
   "execution_count": 99,
   "metadata": {},
   "outputs": [],
   "source": [
    "arquivo.close()"
   ]
  },
  {
   "cell_type": "markdown",
   "metadata": {},
   "source": [
    "Tudo junto:"
   ]
  },
  {
   "cell_type": "code",
   "execution_count": 102,
   "metadata": {},
   "outputs": [],
   "source": [
    "import csv\n",
    "\n",
    "lista_de_listas = [['Aluno', 'Nota 1', 'Nota 2', 'Presenças'],\n",
    "          ['Luke', 7, 9],\n",
    "          ['Han', 4, 7.7, 10],\n",
    "          ['Leia', 9, 9, 16]]\n",
    "\n",
    "arquivo = open('alunos_star_wars.csv', 'w', encoding=\"utf-8\")\n",
    "\n",
    "csv.writer(arquivo, delimiter=',', lineterminator='\\n').writerows(lista_de_listas)\n",
    "\n",
    "arquivo.close()"
   ]
  },
  {
   "cell_type": "markdown",
   "metadata": {},
   "source": [
    "E como lemos este arquivo?"
   ]
  },
  {
   "cell_type": "markdown",
   "metadata": {},
   "source": [
    "Para isso, temos que utilizar a função `reader()` da biblioteca csv:\n",
    "\n",
    "```python\n",
    "csv.reader(f, delimiter=';', lineterminator='\\n')\n",
    "```\n",
    "\n",
    "Essa função tem como argumentos:\n",
    "\n",
    "- o arquivo aberto (no caso, a variável \"f\");\n",
    "- o separador entre os valores (no caso, \";\");\n",
    "- o separador de linhas (no caso, \"\\n\");\n",
    "\n",
    "Aí, basta iterar neste objeto com o for para popular a lista de listas \"planilha\":"
   ]
  },
  {
   "cell_type": "code",
   "execution_count": 103,
   "metadata": {},
   "outputs": [],
   "source": [
    "f = open(\"alunos_star_wars.csv\", \"r\", encoding=\"utf-8\")\n",
    "\n",
    "leitor = csv.reader(f, delimiter=',', lineterminator='\\n')\n"
   ]
  },
  {
   "cell_type": "code",
   "execution_count": 104,
   "metadata": {},
   "outputs": [
    {
     "data": {
      "text/plain": [
       "<_csv.reader at 0x7fde441343c8>"
      ]
     },
     "execution_count": 104,
     "metadata": {},
     "output_type": "execute_result"
    }
   ],
   "source": [
    "leitor"
   ]
  },
  {
   "cell_type": "code",
   "execution_count": 105,
   "metadata": {},
   "outputs": [
    {
     "name": "stdout",
     "output_type": "stream",
     "text": [
      "[['Aluno', 'Nota 1', 'Nota 2', 'Presenças'], ['Luke', '7', '9'], ['Han', '4', '7.7', '10'], ['Leia', '9', '9', '16']]\n"
     ]
    }
   ],
   "source": [
    "\n",
    "planilha = []\n",
    "\n",
    "for linha in leitor:\n",
    "    \n",
    "    planilha.append(linha)\n",
    "    \n",
    "f.close()\n",
    "\n",
    "print(planilha)"
   ]
  },
  {
   "cell_type": "code",
   "execution_count": 107,
   "metadata": {},
   "outputs": [
    {
     "data": {
      "text/plain": [
       "[['Aluno', 'Nota 1', 'Nota 2', 'Presenças'],\n",
       " ['Luke', '7', '9'],\n",
       " ['Han', '4', '7.7', '10'],\n",
       " ['Leia', '9', '9', '16']]"
      ]
     },
     "execution_count": 107,
     "metadata": {},
     "output_type": "execute_result"
    }
   ],
   "source": [
    "planilha"
   ]
  },
  {
   "cell_type": "markdown",
   "metadata": {},
   "source": [
    "Com list compreension"
   ]
  },
  {
   "cell_type": "code",
   "execution_count": 110,
   "metadata": {},
   "outputs": [
    {
     "name": "stdout",
     "output_type": "stream",
     "text": [
      "[['Aluno', 'Nota 1', 'Nota 2', 'Presenças'], ['Luke', '7', '9'], ['Han', '4', '7.7', '10'], ['Leia', '9', '9', '16']]\n"
     ]
    }
   ],
   "source": [
    "f =  open(\"alunos_star_wars.csv\", \"r\", encoding=\"utf-8\")\n",
    "\n",
    "leitor = csv.reader(f, delimiter=',', lineterminator='\\n')\n",
    "planilha = [linha for linha in leitor]\n",
    "\n",
    "f.close()\n",
    "\n",
    "print(planilha)"
   ]
  },
  {
   "cell_type": "code",
   "execution_count": 114,
   "metadata": {},
   "outputs": [
    {
     "name": "stdout",
     "output_type": "stream",
     "text": [
      "[['Aluno', 'Nota 1', 'Nota 2', 'Presenças'], ['Luke', '7', '9'], ['Han', '4', '7.7', '10'], ['Leia', '9', '9', '16']]\n"
     ]
    }
   ],
   "source": [
    "with open(\"alunos_star_wars.csv\", \"r\", encoding=\"utf-8\") as f:\n",
    "\n",
    "    leitor = csv.reader(f, delimiter=',', lineterminator='\\n')\n",
    "    planilha = [linha for linha in leitor]\n",
    "    \n",
    "print(planilha)"
   ]
  },
  {
   "cell_type": "markdown",
   "metadata": {},
   "source": [
    "E se quisermos extrair apenas os nomes dos alunos?"
   ]
  },
  {
   "cell_type": "code",
   "execution_count": 116,
   "metadata": {},
   "outputs": [
    {
     "data": {
      "text/plain": [
       "['Luke', 'Han', 'Leia']"
      ]
     },
     "execution_count": 116,
     "metadata": {},
     "output_type": "execute_result"
    }
   ],
   "source": [
    "[item[0] for item in planilha if item[0] != 'Aluno']"
   ]
  },
  {
   "cell_type": "markdown",
   "metadata": {},
   "source": [
    "__Vamos agora processar esse arquivo que acabamos de ler?__\n",
    "\n",
    "Imagina que queremos calcular qual é a média de determinado aluno, a partir do seu nome!\n",
    "\n",
    "Com a função `index()` em um **list comprehension** podemos encontrar qual a posição na lista de determinado aluno:"
   ]
  },
  {
   "cell_type": "markdown",
   "metadata": {},
   "source": [
    "Por exemplo, o aluno \"Han\", está na posição de índice 2:"
   ]
  },
  {
   "cell_type": "code",
   "execution_count": 127,
   "metadata": {},
   "outputs": [
    {
     "data": {
      "text/plain": [
       "['Han', '4', '7.7', '10']"
      ]
     },
     "execution_count": 127,
     "metadata": {},
     "output_type": "execute_result"
    }
   ],
   "source": [
    "planilha[[item[0] for item in planilha].index(\"Han\")]"
   ]
  },
  {
   "cell_type": "markdown",
   "metadata": {},
   "source": [
    "Agora, basta passar esse índice para a lista de listas (que chamamos de \"planilha\"), pra acessarmos a linha correspondente ao Han:"
   ]
  },
  {
   "cell_type": "code",
   "execution_count": 123,
   "metadata": {},
   "outputs": [
    {
     "data": {
      "text/plain": [
       "['Han', '4', '7.7', '10']"
      ]
     },
     "execution_count": 123,
     "metadata": {},
     "output_type": "execute_result"
    }
   ],
   "source": [
    "planilha[2]"
   ]
  },
  {
   "cell_type": "code",
   "execution_count": 134,
   "metadata": {},
   "outputs": [
    {
     "data": {
      "text/plain": [
       "['Luke', '7', '9']"
      ]
     },
     "execution_count": 134,
     "metadata": {},
     "output_type": "execute_result"
    }
   ],
   "source": [
    "planilha[[item[0] for item in planilha].index(\"Luke\")]"
   ]
  },
  {
   "cell_type": "markdown",
   "metadata": {},
   "source": [
    "Legal! Agora, sabemos que as posições de índice 1 e 2 **desta lista** são, respectivamente, a nota1 e a nota2! \n",
    "\n",
    "Ou seja, podemos capturar as notas (já as transformando para float!), e aí calcular a média "
   ]
  },
  {
   "cell_type": "code",
   "execution_count": 128,
   "metadata": {},
   "outputs": [
    {
     "name": "stdout",
     "output_type": "stream",
     "text": [
      "['Han', '4', '7.7', '10']\n"
     ]
    }
   ],
   "source": [
    "linha_do_aluno = planilha[[item[0] for item in planilha].index(\"Han\")]\n",
    "print(linha_do_aluno)"
   ]
  },
  {
   "cell_type": "code",
   "execution_count": 129,
   "metadata": {},
   "outputs": [
    {
     "data": {
      "text/plain": [
       "5.85"
      ]
     },
     "execution_count": 129,
     "metadata": {},
     "output_type": "execute_result"
    }
   ],
   "source": [
    "nota1 = float(linha_do_aluno[1])\n",
    "\n",
    "nota2 = float(linha_do_aluno[2])\n",
    "\n",
    "media = (nota1 + nota2)/2\n",
    "\n",
    "media"
   ]
  },
  {
   "cell_type": "code",
   "execution_count": 138,
   "metadata": {},
   "outputs": [
    {
     "data": {
      "text/plain": [
       "6.925"
      ]
     },
     "execution_count": 138,
     "metadata": {},
     "output_type": "execute_result"
    }
   ],
   "source": [
    "# media geral\n",
    "notas_prova_1 = [float(item[1]) for item in planilha[1:]][:2]\n",
    "\n",
    "notas_prova_2 = [float(item[2]) for item in planilha[1:]][:2]\n",
    "\n",
    "(sum(notas_prova_1)+sum(notas_prova_2))/(len(notas_prova_1)+len(notas_prova_2))"
   ]
  },
  {
   "cell_type": "code",
   "execution_count": 139,
   "metadata": {},
   "outputs": [
    {
     "data": {
      "text/plain": [
       "[7.0, 4.0]"
      ]
     },
     "execution_count": 139,
     "metadata": {},
     "output_type": "execute_result"
    }
   ],
   "source": [
    "notas_prova_1"
   ]
  },
  {
   "cell_type": "markdown",
   "metadata": {},
   "source": [
    "Vamos agora fazer todas as operações acima, mas solicitando ao usuário a média de qual aluno ele deseja:"
   ]
  },
  {
   "cell_type": "code",
   "execution_count": 142,
   "metadata": {},
   "outputs": [
    {
     "name": "stdout",
     "output_type": "stream",
     "text": [
      "Que aluno? Luke\n",
      "['7', '9']\n",
      "\n",
      "A média do aluno Luke é: 8.0\n"
     ]
    }
   ],
   "source": [
    "aluno = input(\"Que aluno? \")\n",
    "\n",
    "linha_do_aluno = planilha[[item[0] for item in planilha].index(aluno)][1:3]\n",
    "print(linha_do_aluno)\n",
    "\n",
    "media = (float(linha_do_aluno[0]) + float(linha_do_aluno[1]))/len(linha_do_aluno)\n",
    "\n",
    "print(\"\\nA média do aluno\", aluno, \"é:\", media)"
   ]
  },
  {
   "cell_type": "markdown",
   "metadata": {},
   "source": [
    "É possíver fazer o **processamento de arquivos** de forma muito mais simples e natural do que foi feito acima, ao utilizarmos uma biblioteca própria para isso: o [pandas](https://pandas.pydata.org/)! "
   ]
  },
  {
   "cell_type": "code",
   "execution_count": 144,
   "metadata": {},
   "outputs": [
    {
     "data": {
      "text/plain": [
       "[['Aluno', 'Nota 1', 'Nota 2', 'Presenças'],\n",
       " ['Luke', '7', '9'],\n",
       " ['Han', '4', '7.7', '10'],\n",
       " ['Leia', '9', '9', '16']]"
      ]
     },
     "execution_count": 144,
     "metadata": {},
     "output_type": "execute_result"
    }
   ],
   "source": [
    "planilha"
   ]
  },
  {
   "cell_type": "code",
   "execution_count": 143,
   "metadata": {},
   "outputs": [
    {
     "data": {
      "text/html": [
       "<div>\n",
       "<style scoped>\n",
       "    .dataframe tbody tr th:only-of-type {\n",
       "        vertical-align: middle;\n",
       "    }\n",
       "\n",
       "    .dataframe tbody tr th {\n",
       "        vertical-align: top;\n",
       "    }\n",
       "\n",
       "    .dataframe thead th {\n",
       "        text-align: right;\n",
       "    }\n",
       "</style>\n",
       "<table border=\"1\" class=\"dataframe\">\n",
       "  <thead>\n",
       "    <tr style=\"text-align: right;\">\n",
       "      <th></th>\n",
       "      <th>Aluno</th>\n",
       "      <th>Nota 1</th>\n",
       "      <th>Nota 2</th>\n",
       "      <th>Presenças</th>\n",
       "    </tr>\n",
       "  </thead>\n",
       "  <tbody>\n",
       "    <tr>\n",
       "      <th>0</th>\n",
       "      <td>Luke</td>\n",
       "      <td>7</td>\n",
       "      <td>9.0</td>\n",
       "      <td>NaN</td>\n",
       "    </tr>\n",
       "    <tr>\n",
       "      <th>1</th>\n",
       "      <td>Han</td>\n",
       "      <td>4</td>\n",
       "      <td>7.7</td>\n",
       "      <td>10.0</td>\n",
       "    </tr>\n",
       "    <tr>\n",
       "      <th>2</th>\n",
       "      <td>Leia</td>\n",
       "      <td>9</td>\n",
       "      <td>9.0</td>\n",
       "      <td>16.0</td>\n",
       "    </tr>\n",
       "  </tbody>\n",
       "</table>\n",
       "</div>"
      ],
      "text/plain": [
       "  Aluno  Nota 1  Nota 2  Presenças\n",
       "0  Luke       7     9.0        NaN\n",
       "1   Han       4     7.7       10.0\n",
       "2  Leia       9     9.0       16.0"
      ]
     },
     "execution_count": 143,
     "metadata": {},
     "output_type": "execute_result"
    }
   ],
   "source": [
    "# !pip install pandas\n",
    "import pandas as pd\n",
    "df = pd.read_csv(\"alunos_star_wars.csv\")\n",
    "df"
   ]
  },
  {
   "cell_type": "code",
   "execution_count": 147,
   "metadata": {},
   "outputs": [
    {
     "data": {
      "text/plain": [
       "6.666666666666667"
      ]
     },
     "execution_count": 147,
     "metadata": {},
     "output_type": "execute_result"
    }
   ],
   "source": [
    "df['Nota 1'].mean()"
   ]
  },
  {
   "cell_type": "code",
   "execution_count": 148,
   "metadata": {},
   "outputs": [
    {
     "data": {
      "text/plain": [
       "pandas.core.frame.DataFrame"
      ]
     },
     "execution_count": 148,
     "metadata": {},
     "output_type": "execute_result"
    }
   ],
   "source": [
    "type(df)"
   ]
  },
  {
   "cell_type": "markdown",
   "metadata": {},
   "source": [
    "# 3. Exercícios"
   ]
  },
  {
   "cell_type": "markdown",
   "metadata": {},
   "source": [
    "**1.** Salve as notas_alunos em um arquivo csv com o mesmo nome"
   ]
  },
  {
   "cell_type": "code",
   "execution_count": 1,
   "metadata": {},
   "outputs": [],
   "source": [
    "notas_alunos = [['jose', 10, 8, 9.5, 8.8, 10],\n",
    "                ['pedro', 9.8, 9.2, 9.0, 8.8, 9.1],\n",
    "                ['suzana', 8, 7.1, 7.5, 8.2, 7.9],\n",
    "                ['gisela', 10, 9.6, 8.9, 9.4, 9.7],\n",
    "                ['joao', 7.5, 7.9, 8.0, 9.1, 7.3]]"
   ]
  },
  {
   "cell_type": "code",
   "execution_count": 7,
   "metadata": {},
   "outputs": [],
   "source": [
    "import csv\n",
    "arquivo = open('notas_alunos.csv', 'w', encoding=\"utf-8\")\n",
    "\n",
    "csv.writer(arquivo, delimiter=',', lineterminator='\\n').writerows(notas_alunos)\n",
    "arquivo.close()"
   ]
  },
  {
   "cell_type": "markdown",
   "metadata": {},
   "source": [
    "**2.** Adicione ao arquivo notas_alunos.csv as notas das seguintes alunas: <br>\n",
    "    mariana: 9.8, 10, 9.7, 9.0, 9.2 <br>\n",
    "    luciana: 9.5, 8.7, 10, 9.4, 9.6"
   ]
  },
  {
   "cell_type": "code",
   "execution_count": 8,
   "metadata": {},
   "outputs": [],
   "source": [
    "novas_notas = [['mariana', 9.8, 10, 9.7, 9.0, 9.2], ['luciana', 9.5, 8.7, 10, 9.4, 9.6]]\n",
    "\n",
    "arquivo = open('notas_alunos.csv', 'a', encoding=\"utf-8\")\n",
    "\n",
    "csv.writer(arquivo, delimiter=',', lineterminator='\\n').writerows(novas_notas)\n",
    "arquivo.close()"
   ]
  },
  {
   "cell_type": "markdown",
   "metadata": {},
   "source": [
    "**3.** Leia o arquivo notas_alunos.csv e retorne a nota média de cada um deles"
   ]
  },
  {
   "cell_type": "code",
   "execution_count": 15,
   "metadata": {},
   "outputs": [
    {
     "name": "stdout",
     "output_type": "stream",
     "text": [
      "[['jose', 9.26], ['pedro', 9.18], ['suzana', 7.74], ['gisela', 9.52], ['joao', 7.959999999999999], ['mariana', 9.540000000000001], ['luciana', 9.440000000000001]]\n"
     ]
    }
   ],
   "source": [
    "arquivo = open('notas_alunos.csv', 'r', encoding=\"utf-8\")\n",
    "\n",
    "read_csv = csv.reader(arquivo, delimiter=',', lineterminator='\\n')\n",
    "\n",
    "extract_text = [x for x in read_csv]\n",
    "\n",
    "\n",
    "notas_medias = [[item[0], sum([float(i) for i in item[1:]])/5] for item in extract_text]\n",
    "\n",
    "print(notas_medias)\n",
    "\n",
    "notas_medias_dict = {item[0]: sum([float(i) for i in item[1:]])/5 for item in extract_text}\n",
    "\n",
    "arquivo.close()"
   ]
  },
  {
   "cell_type": "code",
   "execution_count": 16,
   "metadata": {},
   "outputs": [],
   "source": [
    "# salva notas_medias_alunos\n",
    "arquivo = open('notas_medias_alunos.csv', 'w', encoding=\"utf-8\")\n",
    "\n",
    "csv.writer(arquivo, delimiter=',', lineterminator='\\n').writerows(notas_medias)\n",
    "arquivo.close()"
   ]
  },
  {
   "cell_type": "code",
   "execution_count": 18,
   "metadata": {},
   "outputs": [],
   "source": [
    "# testando salvar booleanos\n",
    "\n",
    "booleanos = [[True, 1], [False, 0]]\n",
    "arquivo = open('booleanos.csv', 'w', encoding=\"utf-8\")\n",
    "\n",
    "csv.writer(arquivo, delimiter=',', lineterminator='\\n').writerows(booleanos)\n",
    "arquivo.close()"
   ]
  },
  {
   "cell_type": "code",
   "execution_count": 19,
   "metadata": {},
   "outputs": [
    {
     "data": {
      "text/plain": [
       "[['True', '1'], ['False', '0']]"
      ]
     },
     "execution_count": 19,
     "metadata": {},
     "output_type": "execute_result"
    }
   ],
   "source": [
    "# testando ler booleanos\n",
    "arquivo = open('booleanos.csv', 'r', encoding=\"utf-8\")\n",
    "\n",
    "read_csv = csv.reader(arquivo, delimiter=',', lineterminator='\\n')\n",
    "\n",
    "extract_text = [x for x in read_csv]\n",
    "extract_text"
   ]
  },
  {
   "cell_type": "markdown",
   "metadata": {},
   "source": [
    "____\n",
    "____\n",
    "____\n",
    "____"
   ]
  }
 ],
 "metadata": {
  "kernelspec": {
   "display_name": "Python 3",
   "language": "python",
   "name": "python3"
  },
  "language_info": {
   "codemirror_mode": {
    "name": "ipython",
    "version": 3
   },
   "file_extension": ".py",
   "mimetype": "text/x-python",
   "name": "python",
   "nbconvert_exporter": "python",
   "pygments_lexer": "ipython3",
   "version": "3.6.9"
  }
 },
 "nbformat": 4,
 "nbformat_minor": 4
}
