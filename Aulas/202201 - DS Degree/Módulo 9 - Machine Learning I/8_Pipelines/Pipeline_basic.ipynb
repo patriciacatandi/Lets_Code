{
 "cells": [
  {
   "cell_type": "markdown",
   "metadata": {},
   "source": [
    "# Pipeline\n",
    "\n",
    "[Pipeline](https://scikit-learn.org/stable/modules/generated/sklearn.pipeline.Pipeline.html) é uma classe do sklearn que permite aplicar uma sequência de transformações em um estimador final. <br>\n",
    "Para isso, os passos intermediários devem ter implementados métodos de `fit` e `transform` enquanto o estimador final só precisa ter o `fit` implementado. <br>\n",
    "O propósito do `pipeline` é:\n",
    "- reunir várias etapas para serem validadas de forma cruzada (cross-validation) ao definir parâmetros diferentes\n",
    "- ajudar a criar códigos que possuam um padrão que possa ser facilmente entendido e compartilhando entre times de cientista e engenheiro de dados.\n",
    "\n",
    "<img src=\"images/pipeline.png\" text=\"https://nbviewer.org/github/rasbt/python-machine-learning-book/blob/master/code/ch06/ch06.ipynb#Combining-transformers-and-estimators-in-a-pipeline\">\n",
    "\n"
   ]
  },
  {
   "cell_type": "markdown",
   "metadata": {},
   "source": [
    "## Machine learning pipeline\n",
    "\n",
    "Como é a sequência de processos necessários para implementar um modelo de Machine Learning?\n",
    "<br><br>\n",
    "<div>\n",
    "    <img src=\"https://s3-sa-east-1.amazonaws.com/lcpi/aa5c334b-5b94-49da-b8b5-43966a5b87d0.png\" width=700>\n",
    "</div>\n",
    "<br><br>"
   ]
  },
  {
   "cell_type": "code",
   "execution_count": 2,
   "metadata": {},
   "outputs": [],
   "source": [
    "import numpy as np\n",
    "import pandas as pd\n",
    "import matplotlib.pyplot as plt\n",
    "import seaborn as sns"
   ]
  },
  {
   "cell_type": "code",
   "execution_count": 3,
   "metadata": {},
   "outputs": [],
   "source": [
    "# Continuamos pegando o dataset iris, que é simples e já vimos ele antes.\n",
    "# Mas agora, eu adicionei alguns espaços nulos aleatoriamente.\n",
    "df = pd.read_csv('../data/iris_with_nulls.csv')"
   ]
  },
  {
   "cell_type": "code",
   "execution_count": 4,
   "metadata": {},
   "outputs": [
    {
     "data": {
      "text/plain": [
       "(150, 5)"
      ]
     },
     "execution_count": 4,
     "metadata": {},
     "output_type": "execute_result"
    }
   ],
   "source": [
    "# Vamos ver as dimensões dele\n",
    "df.shape"
   ]
  },
  {
   "cell_type": "code",
   "execution_count": 5,
   "metadata": {},
   "outputs": [
    {
     "name": "stdout",
     "output_type": "stream",
     "text": [
      "<class 'pandas.core.frame.DataFrame'>\n",
      "RangeIndex: 150 entries, 0 to 149\n",
      "Data columns (total 5 columns):\n",
      " #   Column        Non-Null Count  Dtype  \n",
      "---  ------        --------------  -----  \n",
      " 0   sepal_length  146 non-null    float64\n",
      " 1   sepal_width   146 non-null    float64\n",
      " 2   petal_length  149 non-null    float64\n",
      " 3   petal_width   144 non-null    float64\n",
      " 4   species       150 non-null    object \n",
      "dtypes: float64(4), object(1)\n",
      "memory usage: 6.0+ KB\n"
     ]
    }
   ],
   "source": [
    "# Observe que cada feature tem pelo menos 1 nulo (afinal, non-null delas é menor que 150)\n",
    "df.info()"
   ]
  },
  {
   "cell_type": "code",
   "execution_count": 6,
   "metadata": {},
   "outputs": [
    {
     "data": {
      "text/plain": [
       "sepal_length    4\n",
       "sepal_width     4\n",
       "petal_length    1\n",
       "petal_width     6\n",
       "species         0\n",
       "dtype: int64"
      ]
     },
     "execution_count": 6,
     "metadata": {},
     "output_type": "execute_result"
    }
   ],
   "source": [
    "# Confirmando quantos nulos temos em cada coluna\n",
    "df.isnull().sum()"
   ]
  },
  {
   "cell_type": "markdown",
   "metadata": {},
   "source": [
    "Eu vou querer, para rodar meu algoritmo de machine learning, transformar minha \"target\" (que é \"species\"), em um número ordinal, (0, 1 ou 2). Eu posso rodar isso no treino e na validação, sem muito problema.\n",
    "<br><br><br>\n",
    "Já para as minhas features, eu quero seguir os seguintes passos de pré-processamento,\n",
    "1. \"padronizar\" as minhas features (ou \"normalizar\", deixar elas com média 0 e desvio padrão 1),\n",
    "2. adicionar a mediana em qualquer valor nulo,\n",
    "3. aí sim, rodar meu modelo.\n",
    "\n",
    "Neste caso, note que eu preciso \"treinar\" os passos (1), (2) e (3) todos na base de treino, e depois só aplicar eles na base de validação."
   ]
  },
  {
   "cell_type": "code",
   "execution_count": 7,
   "metadata": {},
   "outputs": [],
   "source": [
    "# vamos primeiro separar em features e target\n",
    "X = df.drop(columns=['species'])\n",
    "y = df.species"
   ]
  },
  {
   "cell_type": "code",
   "execution_count": 8,
   "metadata": {},
   "outputs": [],
   "source": [
    "# Agora, vamos transformar as labels em números, 0, 1 ou 2\n",
    "from sklearn.preprocessing import LabelEncoder\n",
    "\n",
    "label_encoder = LabelEncoder()\n",
    "y_enc = label_encoder.fit_transform(y)"
   ]
  },
  {
   "cell_type": "code",
   "execution_count": 9,
   "metadata": {},
   "outputs": [
    {
     "name": "stdout",
     "output_type": "stream",
     "text": [
      "0    Iris-setosa\n",
      "1    Iris-setosa\n",
      "2    Iris-setosa\n",
      "3    Iris-setosa\n",
      "4    Iris-setosa\n",
      "5    Iris-setosa\n",
      "6    Iris-setosa\n",
      "7    Iris-setosa\n",
      "8    Iris-setosa\n",
      "9    Iris-setosa\n",
      "Name: species, dtype: object\n",
      "\n",
      "[0 0 0 0 0 0 0 0 0 0]\n"
     ]
    }
   ],
   "source": [
    "print(y[:10])\n",
    "print('')\n",
    "print(y_enc[:10])"
   ]
  },
  {
   "cell_type": "code",
   "execution_count": 10,
   "metadata": {},
   "outputs": [],
   "source": [
    "# Para os passos de processamento das features, faremos todos juntos, com um Pipeline.\n",
    "from sklearn.pipeline import Pipeline"
   ]
  },
  {
   "cell_type": "code",
   "execution_count": 11,
   "metadata": {},
   "outputs": [],
   "source": [
    "from sklearn.impute import SimpleImputer\n",
    "from sklearn.preprocessing import StandardScaler\n",
    "from sklearn.neighbors import KNeighborsClassifier\n",
    "\n",
    "# O SimpleImputer vai me ajudar a colocar a mediana.\n",
    "# O StandardScaler vai padronizar as features.\n",
    "# Meu modelo vai ser o KNN."
   ]
  },
  {
   "cell_type": "markdown",
   "metadata": {},
   "source": [
    "Como utilizar: <br>\n",
    "O Pipeline é construído com uma lista de pares (key, value) nos quais a key é uma string que contém um nome para o step escolhido e o valor é o objeto da classe:"
   ]
  },
  {
   "cell_type": "code",
   "execution_count": 12,
   "metadata": {},
   "outputs": [],
   "source": [
    "pipe_knn = Pipeline([('scaler', StandardScaler()),\n",
    "                     ('imputer', SimpleImputer(strategy='median')),\n",
    "                     ('model', KNeighborsClassifier(n_neighbors=7))])"
   ]
  },
  {
   "cell_type": "markdown",
   "metadata": {},
   "source": [
    "Os passos do pipeline podem ser acessados pelos índices ou passando a key:"
   ]
  },
  {
   "cell_type": "code",
   "execution_count": 13,
   "metadata": {},
   "outputs": [
    {
     "data": {
      "text/plain": [
       "StandardScaler()"
      ]
     },
     "execution_count": 13,
     "metadata": {},
     "output_type": "execute_result"
    }
   ],
   "source": [
    "pipe_knn[0]"
   ]
  },
  {
   "cell_type": "code",
   "execution_count": 14,
   "metadata": {},
   "outputs": [
    {
     "data": {
      "text/plain": [
       "SimpleImputer(strategy='median')"
      ]
     },
     "execution_count": 14,
     "metadata": {},
     "output_type": "execute_result"
    }
   ],
   "source": [
    "pipe_knn['imputer']"
   ]
  },
  {
   "cell_type": "code",
   "execution_count": 15,
   "metadata": {},
   "outputs": [
    {
     "data": {
      "text/html": [
       "<style>#sk-511b07c2-d6a0-4916-ab6c-db6d776595f1 {color: black;background-color: white;}#sk-511b07c2-d6a0-4916-ab6c-db6d776595f1 pre{padding: 0;}#sk-511b07c2-d6a0-4916-ab6c-db6d776595f1 div.sk-toggleable {background-color: white;}#sk-511b07c2-d6a0-4916-ab6c-db6d776595f1 label.sk-toggleable__label {cursor: pointer;display: block;width: 100%;margin-bottom: 0;padding: 0.3em;box-sizing: border-box;text-align: center;}#sk-511b07c2-d6a0-4916-ab6c-db6d776595f1 label.sk-toggleable__label-arrow:before {content: \"▸\";float: left;margin-right: 0.25em;color: #696969;}#sk-511b07c2-d6a0-4916-ab6c-db6d776595f1 label.sk-toggleable__label-arrow:hover:before {color: black;}#sk-511b07c2-d6a0-4916-ab6c-db6d776595f1 div.sk-estimator:hover label.sk-toggleable__label-arrow:before {color: black;}#sk-511b07c2-d6a0-4916-ab6c-db6d776595f1 div.sk-toggleable__content {max-height: 0;max-width: 0;overflow: hidden;text-align: left;background-color: #f0f8ff;}#sk-511b07c2-d6a0-4916-ab6c-db6d776595f1 div.sk-toggleable__content pre {margin: 0.2em;color: black;border-radius: 0.25em;background-color: #f0f8ff;}#sk-511b07c2-d6a0-4916-ab6c-db6d776595f1 input.sk-toggleable__control:checked~div.sk-toggleable__content {max-height: 200px;max-width: 100%;overflow: auto;}#sk-511b07c2-d6a0-4916-ab6c-db6d776595f1 input.sk-toggleable__control:checked~label.sk-toggleable__label-arrow:before {content: \"▾\";}#sk-511b07c2-d6a0-4916-ab6c-db6d776595f1 div.sk-estimator input.sk-toggleable__control:checked~label.sk-toggleable__label {background-color: #d4ebff;}#sk-511b07c2-d6a0-4916-ab6c-db6d776595f1 div.sk-label input.sk-toggleable__control:checked~label.sk-toggleable__label {background-color: #d4ebff;}#sk-511b07c2-d6a0-4916-ab6c-db6d776595f1 input.sk-hidden--visually {border: 0;clip: rect(1px 1px 1px 1px);clip: rect(1px, 1px, 1px, 1px);height: 1px;margin: -1px;overflow: hidden;padding: 0;position: absolute;width: 1px;}#sk-511b07c2-d6a0-4916-ab6c-db6d776595f1 div.sk-estimator {font-family: monospace;background-color: #f0f8ff;border: 1px dotted black;border-radius: 0.25em;box-sizing: border-box;margin-bottom: 0.5em;}#sk-511b07c2-d6a0-4916-ab6c-db6d776595f1 div.sk-estimator:hover {background-color: #d4ebff;}#sk-511b07c2-d6a0-4916-ab6c-db6d776595f1 div.sk-parallel-item::after {content: \"\";width: 100%;border-bottom: 1px solid gray;flex-grow: 1;}#sk-511b07c2-d6a0-4916-ab6c-db6d776595f1 div.sk-label:hover label.sk-toggleable__label {background-color: #d4ebff;}#sk-511b07c2-d6a0-4916-ab6c-db6d776595f1 div.sk-serial::before {content: \"\";position: absolute;border-left: 1px solid gray;box-sizing: border-box;top: 2em;bottom: 0;left: 50%;}#sk-511b07c2-d6a0-4916-ab6c-db6d776595f1 div.sk-serial {display: flex;flex-direction: column;align-items: center;background-color: white;padding-right: 0.2em;padding-left: 0.2em;}#sk-511b07c2-d6a0-4916-ab6c-db6d776595f1 div.sk-item {z-index: 1;}#sk-511b07c2-d6a0-4916-ab6c-db6d776595f1 div.sk-parallel {display: flex;align-items: stretch;justify-content: center;background-color: white;}#sk-511b07c2-d6a0-4916-ab6c-db6d776595f1 div.sk-parallel::before {content: \"\";position: absolute;border-left: 1px solid gray;box-sizing: border-box;top: 2em;bottom: 0;left: 50%;}#sk-511b07c2-d6a0-4916-ab6c-db6d776595f1 div.sk-parallel-item {display: flex;flex-direction: column;position: relative;background-color: white;}#sk-511b07c2-d6a0-4916-ab6c-db6d776595f1 div.sk-parallel-item:first-child::after {align-self: flex-end;width: 50%;}#sk-511b07c2-d6a0-4916-ab6c-db6d776595f1 div.sk-parallel-item:last-child::after {align-self: flex-start;width: 50%;}#sk-511b07c2-d6a0-4916-ab6c-db6d776595f1 div.sk-parallel-item:only-child::after {width: 0;}#sk-511b07c2-d6a0-4916-ab6c-db6d776595f1 div.sk-dashed-wrapped {border: 1px dashed gray;margin: 0 0.4em 0.5em 0.4em;box-sizing: border-box;padding-bottom: 0.4em;background-color: white;position: relative;}#sk-511b07c2-d6a0-4916-ab6c-db6d776595f1 div.sk-label label {font-family: monospace;font-weight: bold;background-color: white;display: inline-block;line-height: 1.2em;}#sk-511b07c2-d6a0-4916-ab6c-db6d776595f1 div.sk-label-container {position: relative;z-index: 2;text-align: center;}#sk-511b07c2-d6a0-4916-ab6c-db6d776595f1 div.sk-container {/* jupyter's `normalize.less` sets `[hidden] { display: none; }` but bootstrap.min.css set `[hidden] { display: none !important; }` so we also need the `!important` here to be able to override the default hidden behavior on the sphinx rendered scikit-learn.org. See: https://github.com/scikit-learn/scikit-learn/issues/21755 */display: inline-block !important;position: relative;}#sk-511b07c2-d6a0-4916-ab6c-db6d776595f1 div.sk-text-repr-fallback {display: none;}</style><div id=\"sk-511b07c2-d6a0-4916-ab6c-db6d776595f1\" class=\"sk-top-container\"><div class=\"sk-text-repr-fallback\"><pre>Pipeline(steps=[(&#x27;scaler&#x27;, StandardScaler()),\n",
       "                (&#x27;imputer&#x27;, SimpleImputer(strategy=&#x27;median&#x27;)),\n",
       "                (&#x27;model&#x27;, KNeighborsClassifier(n_neighbors=7))])</pre><b>Please rerun this cell to show the HTML repr or trust the notebook.</b></div><div class=\"sk-container\" hidden><div class=\"sk-item sk-dashed-wrapped\"><div class=\"sk-label-container\"><div class=\"sk-label sk-toggleable\"><input class=\"sk-toggleable__control sk-hidden--visually\" id=\"f3d3c0cd-853d-40da-85bc-95c132a61f62\" type=\"checkbox\" ><label for=\"f3d3c0cd-853d-40da-85bc-95c132a61f62\" class=\"sk-toggleable__label sk-toggleable__label-arrow\">Pipeline</label><div class=\"sk-toggleable__content\"><pre>Pipeline(steps=[(&#x27;scaler&#x27;, StandardScaler()),\n",
       "                (&#x27;imputer&#x27;, SimpleImputer(strategy=&#x27;median&#x27;)),\n",
       "                (&#x27;model&#x27;, KNeighborsClassifier(n_neighbors=7))])</pre></div></div></div><div class=\"sk-serial\"><div class=\"sk-item\"><div class=\"sk-estimator sk-toggleable\"><input class=\"sk-toggleable__control sk-hidden--visually\" id=\"65c917c7-b44f-4856-ba34-34c81fbd95db\" type=\"checkbox\" ><label for=\"65c917c7-b44f-4856-ba34-34c81fbd95db\" class=\"sk-toggleable__label sk-toggleable__label-arrow\">StandardScaler</label><div class=\"sk-toggleable__content\"><pre>StandardScaler()</pre></div></div></div><div class=\"sk-item\"><div class=\"sk-estimator sk-toggleable\"><input class=\"sk-toggleable__control sk-hidden--visually\" id=\"939592d6-6747-4aad-b695-92b6c75db585\" type=\"checkbox\" ><label for=\"939592d6-6747-4aad-b695-92b6c75db585\" class=\"sk-toggleable__label sk-toggleable__label-arrow\">SimpleImputer</label><div class=\"sk-toggleable__content\"><pre>SimpleImputer(strategy=&#x27;median&#x27;)</pre></div></div></div><div class=\"sk-item\"><div class=\"sk-estimator sk-toggleable\"><input class=\"sk-toggleable__control sk-hidden--visually\" id=\"d465af35-9ae3-4091-a5ea-65ec23ebab65\" type=\"checkbox\" ><label for=\"d465af35-9ae3-4091-a5ea-65ec23ebab65\" class=\"sk-toggleable__label sk-toggleable__label-arrow\">KNeighborsClassifier</label><div class=\"sk-toggleable__content\"><pre>KNeighborsClassifier(n_neighbors=7)</pre></div></div></div></div></div></div></div>"
      ],
      "text/plain": [
       "Pipeline(steps=[('scaler', StandardScaler()),\n",
       "                ('imputer', SimpleImputer(strategy='median')),\n",
       "                ('model', KNeighborsClassifier(n_neighbors=7))])"
      ]
     },
     "execution_count": 15,
     "metadata": {},
     "output_type": "execute_result"
    }
   ],
   "source": [
    "# Podemos visualizar nosso pipe\n",
    "from sklearn import set_config\n",
    "set_config(display=\"diagram\")\n",
    "pipe_knn  # click on the diagram below to see the details of each step"
   ]
  },
  {
   "cell_type": "code",
   "execution_count": 16,
   "metadata": {},
   "outputs": [],
   "source": [
    "# Agora vamos separar em treino e validação - Estratégia \"Holdout set\"\n",
    "from sklearn.model_selection import train_test_split\n",
    "\n",
    "X_train, X_val, y_train, y_val = train_test_split(X, y_enc, test_size=0.3, stratify=y_enc)"
   ]
  },
  {
   "cell_type": "code",
   "execution_count": 17,
   "metadata": {},
   "outputs": [
    {
     "data": {
      "text/html": [
       "<style>#sk-0f01e1b2-cd32-431d-ade2-d4a43ecf1970 {color: black;background-color: white;}#sk-0f01e1b2-cd32-431d-ade2-d4a43ecf1970 pre{padding: 0;}#sk-0f01e1b2-cd32-431d-ade2-d4a43ecf1970 div.sk-toggleable {background-color: white;}#sk-0f01e1b2-cd32-431d-ade2-d4a43ecf1970 label.sk-toggleable__label {cursor: pointer;display: block;width: 100%;margin-bottom: 0;padding: 0.3em;box-sizing: border-box;text-align: center;}#sk-0f01e1b2-cd32-431d-ade2-d4a43ecf1970 label.sk-toggleable__label-arrow:before {content: \"▸\";float: left;margin-right: 0.25em;color: #696969;}#sk-0f01e1b2-cd32-431d-ade2-d4a43ecf1970 label.sk-toggleable__label-arrow:hover:before {color: black;}#sk-0f01e1b2-cd32-431d-ade2-d4a43ecf1970 div.sk-estimator:hover label.sk-toggleable__label-arrow:before {color: black;}#sk-0f01e1b2-cd32-431d-ade2-d4a43ecf1970 div.sk-toggleable__content {max-height: 0;max-width: 0;overflow: hidden;text-align: left;background-color: #f0f8ff;}#sk-0f01e1b2-cd32-431d-ade2-d4a43ecf1970 div.sk-toggleable__content pre {margin: 0.2em;color: black;border-radius: 0.25em;background-color: #f0f8ff;}#sk-0f01e1b2-cd32-431d-ade2-d4a43ecf1970 input.sk-toggleable__control:checked~div.sk-toggleable__content {max-height: 200px;max-width: 100%;overflow: auto;}#sk-0f01e1b2-cd32-431d-ade2-d4a43ecf1970 input.sk-toggleable__control:checked~label.sk-toggleable__label-arrow:before {content: \"▾\";}#sk-0f01e1b2-cd32-431d-ade2-d4a43ecf1970 div.sk-estimator input.sk-toggleable__control:checked~label.sk-toggleable__label {background-color: #d4ebff;}#sk-0f01e1b2-cd32-431d-ade2-d4a43ecf1970 div.sk-label input.sk-toggleable__control:checked~label.sk-toggleable__label {background-color: #d4ebff;}#sk-0f01e1b2-cd32-431d-ade2-d4a43ecf1970 input.sk-hidden--visually {border: 0;clip: rect(1px 1px 1px 1px);clip: rect(1px, 1px, 1px, 1px);height: 1px;margin: -1px;overflow: hidden;padding: 0;position: absolute;width: 1px;}#sk-0f01e1b2-cd32-431d-ade2-d4a43ecf1970 div.sk-estimator {font-family: monospace;background-color: #f0f8ff;border: 1px dotted black;border-radius: 0.25em;box-sizing: border-box;margin-bottom: 0.5em;}#sk-0f01e1b2-cd32-431d-ade2-d4a43ecf1970 div.sk-estimator:hover {background-color: #d4ebff;}#sk-0f01e1b2-cd32-431d-ade2-d4a43ecf1970 div.sk-parallel-item::after {content: \"\";width: 100%;border-bottom: 1px solid gray;flex-grow: 1;}#sk-0f01e1b2-cd32-431d-ade2-d4a43ecf1970 div.sk-label:hover label.sk-toggleable__label {background-color: #d4ebff;}#sk-0f01e1b2-cd32-431d-ade2-d4a43ecf1970 div.sk-serial::before {content: \"\";position: absolute;border-left: 1px solid gray;box-sizing: border-box;top: 2em;bottom: 0;left: 50%;}#sk-0f01e1b2-cd32-431d-ade2-d4a43ecf1970 div.sk-serial {display: flex;flex-direction: column;align-items: center;background-color: white;padding-right: 0.2em;padding-left: 0.2em;}#sk-0f01e1b2-cd32-431d-ade2-d4a43ecf1970 div.sk-item {z-index: 1;}#sk-0f01e1b2-cd32-431d-ade2-d4a43ecf1970 div.sk-parallel {display: flex;align-items: stretch;justify-content: center;background-color: white;}#sk-0f01e1b2-cd32-431d-ade2-d4a43ecf1970 div.sk-parallel::before {content: \"\";position: absolute;border-left: 1px solid gray;box-sizing: border-box;top: 2em;bottom: 0;left: 50%;}#sk-0f01e1b2-cd32-431d-ade2-d4a43ecf1970 div.sk-parallel-item {display: flex;flex-direction: column;position: relative;background-color: white;}#sk-0f01e1b2-cd32-431d-ade2-d4a43ecf1970 div.sk-parallel-item:first-child::after {align-self: flex-end;width: 50%;}#sk-0f01e1b2-cd32-431d-ade2-d4a43ecf1970 div.sk-parallel-item:last-child::after {align-self: flex-start;width: 50%;}#sk-0f01e1b2-cd32-431d-ade2-d4a43ecf1970 div.sk-parallel-item:only-child::after {width: 0;}#sk-0f01e1b2-cd32-431d-ade2-d4a43ecf1970 div.sk-dashed-wrapped {border: 1px dashed gray;margin: 0 0.4em 0.5em 0.4em;box-sizing: border-box;padding-bottom: 0.4em;background-color: white;position: relative;}#sk-0f01e1b2-cd32-431d-ade2-d4a43ecf1970 div.sk-label label {font-family: monospace;font-weight: bold;background-color: white;display: inline-block;line-height: 1.2em;}#sk-0f01e1b2-cd32-431d-ade2-d4a43ecf1970 div.sk-label-container {position: relative;z-index: 2;text-align: center;}#sk-0f01e1b2-cd32-431d-ade2-d4a43ecf1970 div.sk-container {/* jupyter's `normalize.less` sets `[hidden] { display: none; }` but bootstrap.min.css set `[hidden] { display: none !important; }` so we also need the `!important` here to be able to override the default hidden behavior on the sphinx rendered scikit-learn.org. See: https://github.com/scikit-learn/scikit-learn/issues/21755 */display: inline-block !important;position: relative;}#sk-0f01e1b2-cd32-431d-ade2-d4a43ecf1970 div.sk-text-repr-fallback {display: none;}</style><div id=\"sk-0f01e1b2-cd32-431d-ade2-d4a43ecf1970\" class=\"sk-top-container\"><div class=\"sk-text-repr-fallback\"><pre>Pipeline(steps=[(&#x27;scaler&#x27;, StandardScaler()),\n",
       "                (&#x27;imputer&#x27;, SimpleImputer(strategy=&#x27;median&#x27;)),\n",
       "                (&#x27;model&#x27;, KNeighborsClassifier(n_neighbors=7))])</pre><b>Please rerun this cell to show the HTML repr or trust the notebook.</b></div><div class=\"sk-container\" hidden><div class=\"sk-item sk-dashed-wrapped\"><div class=\"sk-label-container\"><div class=\"sk-label sk-toggleable\"><input class=\"sk-toggleable__control sk-hidden--visually\" id=\"91fd7723-b890-4629-9a56-dd5da3fea0bf\" type=\"checkbox\" ><label for=\"91fd7723-b890-4629-9a56-dd5da3fea0bf\" class=\"sk-toggleable__label sk-toggleable__label-arrow\">Pipeline</label><div class=\"sk-toggleable__content\"><pre>Pipeline(steps=[(&#x27;scaler&#x27;, StandardScaler()),\n",
       "                (&#x27;imputer&#x27;, SimpleImputer(strategy=&#x27;median&#x27;)),\n",
       "                (&#x27;model&#x27;, KNeighborsClassifier(n_neighbors=7))])</pre></div></div></div><div class=\"sk-serial\"><div class=\"sk-item\"><div class=\"sk-estimator sk-toggleable\"><input class=\"sk-toggleable__control sk-hidden--visually\" id=\"66c2fc9c-5c2e-478e-9fe3-31243335c9e6\" type=\"checkbox\" ><label for=\"66c2fc9c-5c2e-478e-9fe3-31243335c9e6\" class=\"sk-toggleable__label sk-toggleable__label-arrow\">StandardScaler</label><div class=\"sk-toggleable__content\"><pre>StandardScaler()</pre></div></div></div><div class=\"sk-item\"><div class=\"sk-estimator sk-toggleable\"><input class=\"sk-toggleable__control sk-hidden--visually\" id=\"e7284aa7-da81-4d2c-b761-6061a9463b60\" type=\"checkbox\" ><label for=\"e7284aa7-da81-4d2c-b761-6061a9463b60\" class=\"sk-toggleable__label sk-toggleable__label-arrow\">SimpleImputer</label><div class=\"sk-toggleable__content\"><pre>SimpleImputer(strategy=&#x27;median&#x27;)</pre></div></div></div><div class=\"sk-item\"><div class=\"sk-estimator sk-toggleable\"><input class=\"sk-toggleable__control sk-hidden--visually\" id=\"6c4d241c-0370-4f2c-a62b-16a6ef084be6\" type=\"checkbox\" ><label for=\"6c4d241c-0370-4f2c-a62b-16a6ef084be6\" class=\"sk-toggleable__label sk-toggleable__label-arrow\">KNeighborsClassifier</label><div class=\"sk-toggleable__content\"><pre>KNeighborsClassifier(n_neighbors=7)</pre></div></div></div></div></div></div></div>"
      ],
      "text/plain": [
       "Pipeline(steps=[('scaler', StandardScaler()),\n",
       "                ('imputer', SimpleImputer(strategy='median')),\n",
       "                ('model', KNeighborsClassifier(n_neighbors=7))])"
      ]
     },
     "execution_count": 17,
     "metadata": {},
     "output_type": "execute_result"
    }
   ],
   "source": [
    "# Vamos rodar nosso pipeline no treino\n",
    "pipe_knn.fit(X_train, y_train)"
   ]
  },
  {
   "cell_type": "markdown",
   "metadata": {},
   "source": []
  },
  {
   "cell_type": "code",
   "execution_count": 18,
   "metadata": {},
   "outputs": [
    {
     "name": "stdout",
     "output_type": "stream",
     "text": [
      "10\n"
     ]
    }
   ],
   "source": [
    "# O que ele fez no fim, afinal??? Bem, ele aplicou os passos que pedimos.\n",
    "\n",
    "# Primeiro, o Standard scaler. Ele viu como fazer média 0 e variância 1. Agora ele pode só transformar.\n",
    "X_transformado = pipe_knn.named_steps['scaler'].transform(X_train)\n",
    "\n",
    "# Nota que ainda teremos nulos.\n",
    "print(np.isnan(X_transformado).sum())"
   ]
  },
  {
   "cell_type": "code",
   "execution_count": 19,
   "metadata": {},
   "outputs": [
    {
     "name": "stdout",
     "output_type": "stream",
     "text": [
      "0\n"
     ]
    }
   ],
   "source": [
    "# Depois, ele achou qual a mediana dos dados. O SimpleImputer pode então preencher os nulos.\n",
    "X_sem_nulos = pipe_knn.named_steps['imputer'].transform(X_transformado)\n",
    "\n",
    "# Nota que não teremos nulos.\n",
    "print(np.isnan(X_sem_nulos).sum())"
   ]
  },
  {
   "cell_type": "code",
   "execution_count": 20,
   "metadata": {},
   "outputs": [
    {
     "name": "stdout",
     "output_type": "stream",
     "text": [
      "[0 0 1 1 2 2 0 0 1 2]\n"
     ]
    }
   ],
   "source": [
    "# Por fim, ele treinou o KNN no resultado. Assim, o KNN pode só usar o predict.\n",
    "y_pred_train = pipe_knn.named_steps['model'].predict(X_sem_nulos)\n",
    "\n",
    "print(y_pred_train[:10])"
   ]
  },
  {
   "cell_type": "code",
   "execution_count": 21,
   "metadata": {},
   "outputs": [
    {
     "name": "stdout",
     "output_type": "stream",
     "text": [
      "[0 0 1 1 2 2 0 0 1 2]\n"
     ]
    }
   ],
   "source": [
    "# De uma vez só:\n",
    "y_pred_train = pipe_knn.predict(X_train)\n",
    "\n",
    "print(y_pred_train[:10])"
   ]
  },
  {
   "cell_type": "code",
   "execution_count": 22,
   "metadata": {},
   "outputs": [
    {
     "name": "stdout",
     "output_type": "stream",
     "text": [
      "              precision    recall  f1-score   support\n",
      "\n",
      "           0       1.00      1.00      1.00        15\n",
      "           1       1.00      1.00      1.00        15\n",
      "           2       1.00      1.00      1.00        15\n",
      "\n",
      "    accuracy                           1.00        45\n",
      "   macro avg       1.00      1.00      1.00        45\n",
      "weighted avg       1.00      1.00      1.00        45\n",
      "\n"
     ]
    }
   ],
   "source": [
    "# Agora avaliamos o modelo no nosso conjunto de validação.\n",
    "from sklearn.metrics import classification_report\n",
    "\n",
    "y_pred_val = pipe_knn.predict(X_val)\n",
    "\n",
    "print(classification_report(y_val, y_pred_val))"
   ]
  },
  {
   "cell_type": "markdown",
   "metadata": {},
   "source": [
    "Por que isso é poderoso?\n",
    "\n",
    "Imagina se quiséssemos fazer validação cruzada. Nesse caso, para cada fold que escolhermos como validação, teriamos que refazer cada passo na \"base de treino da vez\",\n",
    "1. achar a média e a variância daquela base de treino, para padronizar as features,\n",
    "2. achar a mediana daquela base de treino, e preencher os nulos,\n",
    "3. aí sim, treinamos o modelo na base de treino, e medimos a qualidade no fold de validação da vez.\n",
    "\n",
    "Mas usando Pipeline, a gente não precisa fazer tudo passo a passo. O Pipeline se encarrega de fazer tudo de uma vez para nós. É como se o nosso \"modelo\" agora fosse o pipeline completo. "
   ]
  },
  {
   "cell_type": "code",
   "execution_count": 23,
   "metadata": {},
   "outputs": [],
   "source": [
    "pipe_knn_cv = Pipeline([('scaler_cv', StandardScaler()),\n",
    "                        ('imputer_cv', SimpleImputer(strategy='median')),\n",
    "                        ('model_cv', KNeighborsClassifier(n_neighbors=7))])"
   ]
  },
  {
   "cell_type": "code",
   "execution_count": 24,
   "metadata": {},
   "outputs": [],
   "source": [
    "from sklearn.model_selection import cross_validate"
   ]
  },
  {
   "cell_type": "markdown",
   "metadata": {},
   "source": [
    "Fazendo um exemplo mais simples: Queremos apenas a acurácia (que é global, não é uma pra cada classe)"
   ]
  },
  {
   "cell_type": "code",
   "execution_count": 25,
   "metadata": {},
   "outputs": [
    {
     "data": {
      "text/plain": [
       "{'fit_time': array([0.00355434, 0.00307631, 0.00356078, 0.00252557, 0.00286222]),\n",
       " 'score_time': array([0.00232053, 0.00266004, 0.00172997, 0.00187612, 0.00191689]),\n",
       " 'test_score': array([0.96666667, 0.96666667, 0.93333333, 0.9       , 1.        ])}"
      ]
     },
     "execution_count": 25,
     "metadata": {},
     "output_type": "execute_result"
    }
   ],
   "source": [
    "cross_validate(pipe_knn_cv, X, y_enc, scoring='accuracy', cv=5)"
   ]
  },
  {
   "cell_type": "markdown",
   "metadata": {},
   "source": [
    "Fazendo um exemplo mais complexo: Eu quero a precision e o recall de cada classe."
   ]
  },
  {
   "cell_type": "code",
   "execution_count": 26,
   "metadata": {},
   "outputs": [],
   "source": [
    "from sklearn.metrics import precision_score, recall_score, f1_score, accuracy_score, make_scorer"
   ]
  },
  {
   "cell_type": "code",
   "execution_count": 27,
   "metadata": {},
   "outputs": [],
   "source": [
    "scoring = {'Precision label 0':make_scorer(precision_score, labels=[0], average='micro'),\n",
    "           'Precision label 1':make_scorer(precision_score, labels=[1], average='micro'),\n",
    "           'Precision label 2':make_scorer(precision_score, labels=[2], average='micro'),\n",
    "           'Recall label 0':make_scorer(recall_score, labels=[0], average='micro'),\n",
    "           'Recall label 1':make_scorer(recall_score, labels=[1], average='micro'),\n",
    "           'Recall label 2':make_scorer(recall_score, labels=[2], average='micro')}"
   ]
  },
  {
   "cell_type": "code",
   "execution_count": 28,
   "metadata": {},
   "outputs": [
    {
     "data": {
      "text/plain": [
       "{'fit_time': array([0.00326705, 0.00300932, 0.00296378, 0.00245476, 0.00304914]),\n",
       " 'score_time': array([0.00394011, 0.00484538, 0.00334835, 0.00374985, 0.00359035]),\n",
       " 'test_Precision label 0': array([1., 1., 1., 1., 1.]),\n",
       " 'test_Precision label 1': array([0.90909091, 0.90909091, 1.        , 0.81818182, 1.        ]),\n",
       " 'test_Precision label 2': array([1.        , 1.        , 0.83333333, 0.88888889, 1.        ]),\n",
       " 'test_Recall label 0': array([1., 1., 1., 1., 1.]),\n",
       " 'test_Recall label 1': array([1. , 1. , 0.8, 0.9, 1. ]),\n",
       " 'test_Recall label 2': array([0.9, 0.9, 1. , 0.8, 1. ])}"
      ]
     },
     "execution_count": 28,
     "metadata": {},
     "output_type": "execute_result"
    }
   ],
   "source": [
    "cross_validate(pipe_knn_cv, X, y_enc, scoring=scoring, cv=5)"
   ]
  },
  {
   "cell_type": "markdown",
   "metadata": {},
   "source": [
    "## Bibliografia e Aprofundamento\n",
    "- [Python Machine Learning Book](https://github.com/rasbt/python-machine-learning-book-3rd-edition)\n",
    "- [Documentação](https://scikit-learn.org/stable/modules/compose.html)\n",
    "- [ColumnTransformer](https://scikit-learn.org/stable/modules/compose.html#columntransformer-for-heterogeneous-data)\n",
    "- [FeatureUnion](https://scikit-learn.org/stable/modules/compose.html#featureunion-composite-feature-spaces)"
   ]
  },
  {
   "cell_type": "code",
   "execution_count": null,
   "metadata": {},
   "outputs": [],
   "source": []
  }
 ],
 "metadata": {
  "interpreter": {
   "hash": "5ca4efd453f89b69dfc80cbb5ef222b3d24fc169b1efe916ea8f932329929361"
  },
  "kernelspec": {
   "display_name": "Python (DataScience)",
   "language": "python",
   "name": "python3"
  },
  "language_info": {
   "codemirror_mode": {
    "name": "ipython",
    "version": 3
   },
   "file_extension": ".py",
   "mimetype": "text/x-python",
   "name": "python",
   "nbconvert_exporter": "python",
   "pygments_lexer": "ipython3",
   "version": "3.9.5"
  }
 },
 "nbformat": 4,
 "nbformat_minor": 2
}
