{
 "cells": [
  {
   "cell_type": "markdown",
   "metadata": {},
   "source": [
    "# Aula de Machine Learning"
   ]
  },
  {
   "cell_type": "markdown",
   "metadata": {},
   "source": [
    "## 1. Introdução\n",
    "\n",
    "> Você trabalha no banco XYZ, tentando reter clientes que estão parando de usar os serviços financeiros do banco e saindo para a concorrência (você quer evitar \"churn\"). Cada vez você pega um punhado de fichas de clientes que estão sem usar os serviços há algum tempo, e tenta avaliar o que fazer para retê-los. Bem, você é humano, então existe um limite de quantas fichas você consegue analisar de cada vez. Será que não teria como aumentar a escala desse trabalho, e diminuir de forma mais significativa a evasão de clientes?\n",
    "\n",
    "Um ser humano não consegue dar conta de escalar tanto análises de clientes. Talvez você consiga fazer até 12 fichas por hora, mas o banco tem milhões de clientes. Nesse ritmo, em 10 anos você mal analisaria 400mil fichas. \n",
    "\n",
    "Como automatizar essa sua análise? Você claramente __segue alguma regra específica__ pra escolher em quais clientes atuar para evitar churn, e como atuar, mas essa __regra é muito difícil de escrever explicitamente__. Essa é a situação perfeita para usarmos __Aprendizado de Máquina__\n",
    "\n",
    "> Machine learning (ML) é uma categoria de algorítimos que recebem dados como input e conseguem prever outputs baseados em análises estatísticas sem serem explicitamente programados.\n",
    "\n",
    "### 1.1 Diferença entre IA, ML e DP\n",
    "\n",
    "<img src=\"images/AI-segments.png\"  style=\"width: 600px\"/>\n",
    "<br>\n",
    "\n",
    "#### E DS? <br>\n",
    "<img src='images/ml-ai-ds.jpg' style='width:500px'>\n",
    "<br>\n",
    "\n",
    "## 2. Tipos de ML\n",
    "Machine Learning pode ser em grande parte classificado em 3 tipos de algorítimos:\n",
    "1. **Aprendizado Supervisionado** - algoritimos desenhados para aprender utilizando exemplos. O nome \"supervisionado\" deriva da ideia desse tipo de modelo ter um professor supervisionando os resultados.\n",
    "2. **Aprendizado não Supervisionado** - algoritimo aprende através da observação dos dados e procura padrões ou relações entre eles para a criação dos clusters.\n",
    "3. **Aprendizado por Reforço** - é a habilidade de um agente de interagir com o ambiente e encontrar qual é a melhor saída. Ele segue o conceito de tentativa e erro na aprendizagem. O agente é recompensado ou penalizado dependendo se a resposta está certa ou errada. Uma vez treinados ele está pronto para prever em novos dados.\n",
    "<br>\n",
    "<img src=\"images/machine-learning.jpg\"  style=\"width: 500px\" />\n",
    "<br>\n",
    "Fonte: https://www.ceralytics.com/3-types-of-machine-learning/\n"
   ]
  },
  {
   "cell_type": "markdown",
   "metadata": {},
   "source": [
    "[![Vídeo do Aprendizado por reforço jogando Mario]({image-url})](https://youtu.be/05rEefXlmhI} \"Mario\")"
   ]
  },
  {
   "cell_type": "markdown",
   "metadata": {},
   "source": [
    "## 3. Qual o processo que devo seguir? Como criar uma solução com aprendizado de máquina"
   ]
  },
  {
   "cell_type": "markdown",
   "metadata": {},
   "source": [
    "<div>\n",
    "    <img src=\"images/fluxo_ml.png\" width=600>\n",
    "</div>"
   ]
  },
  {
   "cell_type": "markdown",
   "metadata": {},
   "source": [
    "Vamos descrever cada etapa desse fluxo. <br>\n",
    "(Pegando como referência as excelentes aulas do Prof. Sandro Saoring, aqui da Let's Code)"
   ]
  },
  {
   "cell_type": "markdown",
   "metadata": {},
   "source": [
    "### 3.1. Estude o problema"
   ]
  },
  {
   "cell_type": "markdown",
   "metadata": {},
   "source": [
    "O **ponto de partida** e talvez a etapa mais importante de todo o uso de Machine Learning é definirmos bem a nossa tarefa ou **problema que queremos resolver**!\n",
    "\n",
    ">**O que o modelo precisará prever e como ele fará isso?** \n",
    "\n",
    "Entenda que o modelo/modelagem seria uma espécie de **representação da realidade**, onde queremos traduzir certos aspectos em uma **equação matemática** em resumo. Para responder a essa pergunta, você deverá ter uma noção de qual **conjunto de dados/dataset** irá utilizar na sua programação. Seja esses dados vindo de Excel, imagens ou até mesmo tweet, primeiro passo é conhecer os seus dados.\n",
    "<br>\n",
    "<img src=\"images/estude_problema.png\" width=500>"
   ]
  },
  {
   "cell_type": "markdown",
   "metadata": {},
   "source": [
    "### 3.2. Dados "
   ]
  },
  {
   "cell_type": "markdown",
   "metadata": {},
   "source": [
    "A **segunda etapa** é a **preparação desse modelo** e isso conseguimos fazer reunindo as informações necessárias do dataset que definimos, sabendo que as informações precisam ser **claras** e **precisas**. Ou seja:\n",
    "\n",
    "> *Se a sua base de dados não for correta, o seu modelo também não será!*"
   ]
  },
  {
   "cell_type": "markdown",
   "metadata": {},
   "source": [
    "### 3.3. Treinar o Algoritmo de Aprendizado\n",
    "#### 3.3.1. Escolhendo o modelo"
   ]
  },
  {
   "cell_type": "markdown",
   "metadata": {},
   "source": [
    "Por fim, devemos **escolhermos o algoritmo de previsão**, definindo a forma que queremos que o nosso modelo use para prever dados. Existe inúmeros tipos de algoritmos que podemos utilizar, conforme a ilustração a seguir: \n",
    "\n",
    "<img src=\"https://scikit-learn.org/stable/_static/ml_map.png\" width=900>\n",
    "\n",
    "*Obs.: [Clique Aqui](https://scikit-learn.org/stable/tutorial/machine_learning_map/index.html) para a versão interativa online com links para as páginas de cada estimador!*\n",
    "\n",
    "Mas a priori focaremos em explicar alguns dos tipos **mais comuns de algoritmos** para Machine Learning que são: **Classificação**, **Regressão** e **Clusterização**."
   ]
  },
  {
   "cell_type": "markdown",
   "metadata": {},
   "source": [
    "### 3.3.2 Principais modelagens para cada tipo de ML\n",
    "<br>\n",
    "<img src=\"images/ML12.png\"  style=\"width: 700px\" />\n",
    "\n",
    "#### 3.3.2.1 Diferenças\n",
    "\n",
    "\n",
    "Critério | Supervisionado | Não Supervisionado | Reforço |\n",
    "| :-: | :-: | :-: | :-: |\n",
    "| Definição | O computador aprende utilizando **dados com labels** | O modelo é treinado em **dados sem label** e sem nenhuma orientação | Um agente interage com seu ambiente performando ações e **aprendendo com os erros ou recompensas** |\n",
    "| Tipo de problema | Regressão e classificação | Associação e clusterização | Baseado em recompensas |\n",
    "| Treino | Com supervisão externa | Sem supervisão | Sem supervisão | \n",
    "| Abordagem | Encontra funções de mapeamento que partem dos inputs para os outputs | Entende padrões e descobre os outputs | Segue o método de tentativa e erro |\n"
   ]
  },
  {
   "cell_type": "markdown",
   "metadata": {},
   "source": [
    "#### 3.3.2.2 Modelos Não Supervisionados: Clusterização\n",
    "\n",
    "Este tipo de problema consiste em agrupar itens semelhantes, isto é, criar grupos (ou clusters) dos dados que são parecidos entre si.\n",
    " <br> <br>\n",
    "Problemas como estes podem aparecer em diversos contextos:\n",
    " <br>\n",
    "* Identificação de tipos de clientes parecidos, para o direcionamento de marketing;\n",
    "* Agrupamento de cidades próximas para melhor logística de entrega de produtos;\n",
    "* Identificação de padrões climáticos;\n",
    "* Identificação de genes relacionados à determinada doença,\n",
    "...e muitas outros!\n",
    " <br> <br>\n",
    "Por exemplo, só de olhar pros dados plotados a seguir, fica fácil de identificar 4 grupos distintos, não é mesmo? <br>\n",
    "<img src=\"images/ML1.png\"/>"
   ]
  },
  {
   "cell_type": "markdown",
   "metadata": {},
   "source": [
    "#### 3.3.2.3. Modelos Supervisionados: Classificação e Regressão\n",
    "\n",
    "<img src=\"images/regxclass.png\"  style=\"width: 600px\" /> <br>\n",
    "\n",
    "Fonte: https://medium.com/machina-sapiens/algoritmos-de-aprendizagem-de-m%C3%A1quina-qual-deles-escolher-67040ad68737\n",
    "\n",
    "| Classificação | Regressão |\n",
    "| :-: | :-: |\n",
    "| Predição são labels de classe discreta | Predição é uma quantidade contínua |\n",
    "| Podemos ter classificação binária ou multiclasse | Regressão múltipla: várias variáveis de input |\n",
    "| Busca-se uma fronteira de decisão | Busca-se curva com o melhor fit |\n",
    "|Métricas de erro: Acurácia, Precisão, Revocação, F1 | Métricas de erro: MAE, MSE, $R^2$ |\n",
    "|Ex: predizer se um aluno vai passar de ano ou não | Ex: Predizer a a nota de um aluno |\n",
    "\n",
    "\n",
    "**Problemas de Classificação:** deseja-se determinar a que **categoria** (ou **classe**) dentro de um conjunto de categorias uma dada observação pertence, com base em suas features. Nesse tipo de problema, o **target é uma classe**.\n",
    "\n",
    "Exemplos de problemas de classificação:\n",
    "\n",
    "* Detecção de e-mails SPAM: um e-mail é SPAM ou não?\n",
    "    * Features: palavras contidas no corpo do e-mail; remetente; assunto;\n",
    "* Detecção de doenças: que codição médica a pessoa tem?\n",
    "    * Features: sintomas fisiológicos; resultados de exames (medidas de variáveis biológicas);\n",
    "* Detecção do tipo de documento: secreto, confidencial ou não-sensível?\n",
    "    * Features: palavras no corpo do texto; título;\n",
    "* Detecção de fraudes de cartão de crédito: uma operação é fraudulenta ou não?\n",
    "    * Features: histórico de transações; hora, local e frequência das transações; tipo de compra;\n",
    "* Modelo de risco de crédito: qual é a chance de determinada pessoa não pagar seu empréstimo?\n",
    "    * Features: histórico de pagamento; score de crédito; <br>\n",
    "    \n",
    "**Problemas de Regressão:** deseja-se encontrar uma **quantidade**. Nesse tipo de problema, o **target é um valor numérico**.\n",
    "\n",
    "Exemplos de problemas de regressão:\n",
    "\n",
    "* Previsão de demanda: Quantos produtos venderemos no próximo mês?\n",
    "    * Features: quantidade vendida em meses anteriores; mês do ano; quantidade de feriados;\n",
    "* Limite de crédito: Qual o valor máximo que podemos dar para cada cliente?\n",
    "    * Features: histórico de transações; histórico de pagamentos;\n",
    "* Previsão de chuva: Quantos produtos venderemos no próximo mês?\n",
    "    * Features: quantidade vendida em meses anteriores; mês do ano; quantidade de feriados;\n",
    "\n"
   ]
  },
  {
   "cell_type": "markdown",
   "metadata": {},
   "source": [
    "## 3.3.3. Fazendo o treinamento"
   ]
  },
  {
   "cell_type": "markdown",
   "metadata": {},
   "source": [
    "Agora que introduzimos o básico do básico sobre Machine Learning, uma etapa primordial é entender como funciona o processo de desenvolvimento de modelo. Abaixo temos um esquema do processo de modelagem e a definição dos principais tópicos:"
   ]
  },
  {
   "cell_type": "markdown",
   "metadata": {},
   "source": [
    "<img src=\"https://techblog.cdiscount.com/assets/images/DataScience/automl/ML_process.png\" width=650>"
   ]
  },
  {
   "cell_type": "markdown",
   "metadata": {},
   "source": [
    "- **Separação dos dados em treino, validação e teste**: Cada uma das etapas serão definidas a seguir, mas o importante a entender aqui é que a partir do nossos dados, iremos dividí-lo para alimentar cada uma das etapas sejam elas: treino, validação e teste. Durante o curso iremos abordar de que formas podemos fazer isso!\n",
    "\n",
    "<img src=\"images/splitting-data-set.png\" width=400>\n",
    "\n",
    "- **Conjunto de dados de treino**: são os dados utilizados para a construção do modelo, os dados que o modelo utilizará \"para aprender\";\n",
    "\n",
    "\n",
    "- **Treinamento do modelo**: é a etapa em que cálculos matemáticos são feitos para que a equação que descreve o modelo seja criada! É assim que \"o modelo aprende!\";\n",
    "\n",
    "\n",
    "- **Conjunto de dados de validação**: conjunto de dados usados para testar o modelo e aprimorar a sua performance, seja na seleção de hyperparâmetros/seleção de modelo;\n",
    "\n",
    "\n",
    "- **Seleção de hiperparâmetros/seleção de modelo**: etapa em que os hiperperâmetros que constituem o modelo são selecionados. Aqui, técnicas como **grid search** e **cross validation** são muito importantes! Falaremos disso mais tarde.\n",
    "\n",
    "\n",
    "- **Conjunto de dados de teste**: conjunto de dados utilizado para testar o modelo após ele ter sido treinado. Essa é a melhor forma de simular o modelo em produção ou podemos dizer \"na vida real\", onde o nosso modelo será testado com dados que ele nunca viu;\n",
    "\n",
    "\n",
    "- **Avaliação**: forma de avaliar a performance do modelo. Há várias métricas e formas diferentes de avaliação, que conheceremos melhor mais tarde."
   ]
  },
  {
   "cell_type": "markdown",
   "metadata": {},
   "source": [
    "Nas aulas seguintes vamos estudar os diversos exemplos de algoritmos e como fazer o processo de modelagem.\n",
    "\n",
    "Veremos que, de forma geral, o processo consiste em:\n",
    "\n",
    "- 0) Fazer todo o processo de limpeza e avaliação da base, EDA, etc., etc.\n",
    "\n",
    "\n",
    "- 1) Importar a **classe do algoritmo que se deseja treinar**\n",
    "        - Usaremos quase sempre a biblioteca [scikit-learn](https://scikit-learn.org/stable/)\n",
    "    \n",
    "  \n",
    "- 2) Instanciar a classe do algoritmo, **escolhendo os hiperparâmetros desejados**\n",
    "        - Para a primeira versão do modelo, pode ser uma boa escolha utilizar os parâmetros default;\n",
    "        - Veremos mais pra frente como escolher os parâmetros adequadamente;\n",
    "    \n",
    "   \n",
    "- 3) Separe os dados em **dados de treino** e **dados de teste**.\n",
    "        - Em alguns casos, pode ser interessante criar também um conjunto de **dados de validação**\n",
    "        - Para fazer a separação, usamos o [train_test_split](https://scikit-learn.org/stable/modules/generated/sklearn.model_selection.train_test_split.html)\n",
    "    \n",
    "    \n",
    "- 4) Treine o modelo, usando **os dados de treino**\n",
    "\n",
    "\n",
    "- 5) Use o modelo treinado para **fazer previsões** usando os **dados de teste** (ou **de validação**)\n",
    "\n",
    "\n",
    "- 6) **Avalie a performance do modelo com base nas previsões acima**\n",
    "\n",
    "\n",
    "- 7) Se necessário, reinicie o ciclo!\n",
    "\n",
    "\n",
    "- 8) Quando o modelo estiver suficientemente bom, faça o **deploy**"
   ]
  }
 ],
 "metadata": {
  "kernelspec": {
   "display_name": "Python 3",
   "language": "python",
   "name": "python3"
  },
  "language_info": {
   "codemirror_mode": {
    "name": "ipython",
    "version": 3
   },
   "file_extension": ".py",
   "mimetype": "text/x-python",
   "name": "python",
   "nbconvert_exporter": "python",
   "pygments_lexer": "ipython3",
   "version": "3.9.5"
  }
 },
 "nbformat": 4,
 "nbformat_minor": 4
}
