{
 "cells": [
  {
   "cell_type": "markdown",
   "metadata": {},
   "source": [
    "# Aula de Machine Learning"
   ]
  },
  {
   "cell_type": "code",
   "execution_count": 1,
   "metadata": {},
   "outputs": [
    {
     "data": {
      "text/plain": [
       "['machine-learning.jpg', 'AI-segments.png']"
      ]
     },
     "execution_count": 1,
     "metadata": {},
     "output_type": "execute_result"
    }
   ],
   "source": [
    "import os\n",
    "os.listdir('images')"
   ]
  },
  {
   "cell_type": "markdown",
   "metadata": {},
   "source": [
    "## 1. Introdução\n",
    "\n",
    "Machine learning (ML) é uma categoria de algorítimos que recebem dados como input e conseguem prever outputs baseados em análises estatísticas sem serem explicitamente programados.\n",
    "\n",
    "### 1.1 Diferença entre IA, ML e DP\n",
    "\n",
    "<img src=\"images/AI-segments.png\"  style=\"width: 600px\"/>\n",
    "\n",
    "\n",
    "## 2. Tipos de ML\n",
    "Machine Learning pode ser em grande parte classificado em 3 tipos de algorítimos:\n",
    "1. **Aprendizado Supervisionado** - algoritimos desenhados para aprender utilizando exemplos. O nome \"supervisionado\" deriva da ideia desse tipo de modelo ter um professor supervisionando os resultados.\n",
    "2. **Aprendizado não Supervisionado** - algoritimo aprende através da observação dos dados e procura padrões ou relações entre eles para a criação dos clusters.\n",
    "3. **Aprendizado por Reforço** - é a habilidade de um agente de interagir com o ambiente e encontrar qual é a melhor saída. Ele segue o conceito de tentativa e erro na aprendizagem. O agente é recompensado ou penalizado dependendo se a resposta está certa ou errada. Uma vez treinados ele está pronto para prever em novos dados.\n",
    "<br>\n",
    "<img src=\"images/machine-learning.jpg\"  style=\"width: 500px\" />\n",
    "<br>\n",
    "Fonte: https://www.ceralytics.com/3-types-of-machine-learning/\n"
   ]
  },
  {
   "cell_type": "markdown",
   "metadata": {},
   "source": [
    "[![Vídeo do Aprendizado por reforço jogando Mario]({image-url})](https://youtu.be/05rEefXlmhI} \"Mario\")"
   ]
  },
  {
   "cell_type": "markdown",
   "metadata": {},
   "source": [
    "## 3. Principais modelagens para cada tipo de ML\n",
    "<br>\n",
    "<img src=\"images/ML12.png\"  style=\"width: 700px\" />"
   ]
  },
  {
   "cell_type": "markdown",
   "metadata": {},
   "source": [
    "## 4. Modelos Não Supervisionados: Clusterização\n",
    "### 1. Introdução <br>\n",
    "Um dos problemas que podem ser resolvidos com Machine Learning é o da clusterização!\n",
    " <br>  <br>\n",
    "Este tipo de problema consiste em agrupar itens semelhantes, isto é, criar grupos (ou clusters) dos dados que são parecidos entre si.\n",
    " <br> <br>\n",
    "Problemas como estes podem aparecer em diversos contextos:\n",
    " <br>\n",
    "* Identificação de tipos de clientes parecidos, para o direcionamento de marketing;\n",
    "* Agrupamento de cidades próximas para melhor logística de entrega de produtos;\n",
    "* Identificação de padrões climáticos;\n",
    "* Identificação de genes relacionados à determinada doença,\n",
    "...e muitas outros!\n",
    " <br> <br>\n",
    "Por exemplo, só de olhar pros dados plotados a seguir, fica fácil de identificar 4 grupos distintos, não é mesmo?"
   ]
  },
  {
   "cell_type": "markdown",
   "metadata": {},
   "source": [
    "<img src=\"images/ML1.png\"/>"
   ]
  },
  {
   "cell_type": "markdown",
   "metadata": {},
   "source": [
    "Mas, como o computador pode identificar estes grupos?\n",
    "<br><br>\n",
    "Para isso, podemos usar o k-means, um dos mais simples algoritmos de clusterização.\n",
    "<br><br>\n",
    "### 2. k-means\n",
    "O k-means é utilizado para a determinação de um número k de clusters em nossos dados (mais a frente explicamos melhor como escolher o melhor valor de k)\n",
    "<br><br>\n",
    "O primeiro passo pra aplicar o k-means é:\n",
    "\n",
    "* Determinar o número k de clusters! <br>\n",
    "\n",
    "Se plotarmos nossos dados, como no gráfico acima, fica claro que devemos ter k = 4, não é mesmo?\n",
    "<br><br>\n",
    "Uma vez determinado o número k de clusters, podemos construir nosso modelo!\n",
    "<br><br>\n",
    "\n",
    "#### 2.1 E como o k-means funciona?\n",
    "Uma vez escolhido o número de clusters, o k-means segue as seguintes etapas:\n",
    "\n",
    "1) k pontos são escolhidos aleatoriamente como sendo os centróides dos clusters (centróide é o centro do cluster);\n",
    "\n",
    "2) Para cada ponto, vamos calcular qual é a distância entre ele e os k centróides. Aquele centróide que estiver mais perto, será o cluster ao qual este ponto pertencerá. Fazemos isso para todos os pontos!\n",
    "<img src=\"images/kmeans_example.png\"  style=\"width: 400px\" />\n",
    "\n",
    "3) Ao fim do passo 2, teremos k clusters, cada um com seu centróide, e todos os pontos pertencerão a determinado cluster!\n",
    "\n",
    "4) Uma vez que temos os clusters, calculamos qual é de fato o centro de cada um deles. Isso é feito tomando a média da posição de todos os pontos;\n",
    "\n",
    "5) Após determinar os novos k centróides, repetimos o processo!\n",
    "\n",
    "6) E o processo se repete até que os centróides não mudem mais. Quando esta convergência for alcançada (ou após o número determinado de iterações), o algoritmo termina!\n",
    "\n",
    "<img src=\"images/k_means.904b38d_slow.gif\"  style=\"width: 600px\" />\n",
    "<br>\n",
    "Fonte: https://ml-explained.com/blog/kmeans-explained\n",
    "\n",
    "<br>\n",
    "\n",
    "#### 2.2 Como construir um modelo de k-means em Python?\n",
    "Primeiramente, lemos nossos dados e os armazenamos na variável X. Para os dados acima, usamos um dataset do próprio sklearn:\n"
   ]
  },
  {
   "cell_type": "code",
   "execution_count": 25,
   "metadata": {},
   "outputs": [],
   "source": [
    "# importar pandas, seaborn e matplotlib.pyplot\n",
    "import pandas as pd\n",
    "import seaborn as sns\n",
    "import matplotlib.pyplot as plt"
   ]
  },
  {
   "cell_type": "code",
   "execution_count": 2,
   "metadata": {},
   "outputs": [],
   "source": [
    "# !pip install scikit-learn"
   ]
  },
  {
   "cell_type": "code",
   "execution_count": 2,
   "metadata": {},
   "outputs": [],
   "source": [
    "#importamos o dataset\n",
    "from sklearn.datasets import make_blobs\n",
    "\n",
    "#armazenamos o dataset na variável X\n",
    "X, _ = make_blobs(n_samples=300, centers=4, cluster_std=0.60, random_state=0)"
   ]
  },
  {
   "cell_type": "markdown",
   "metadata": {},
   "source": [
    "Note que temos apenas as features dos dados (no caso, coordenadas x e y). Iso caracteriza um problema de clusterização não-supervisionado: quando nossos dados não têm targets, apenas features!\n",
    "\n",
    "Depois, importamos a classe do modelo do sklearn:"
   ]
  },
  {
   "cell_type": "code",
   "execution_count": 35,
   "metadata": {},
   "outputs": [],
   "source": [
    "from sklearn.cluster import KMeans"
   ]
  },
  {
   "cell_type": "markdown",
   "metadata": {},
   "source": [
    "Fixamos o número k de clusters, após determiná-lo (veja a parte 2.2 pra outras formas de determinar o k!)"
   ]
  },
  {
   "cell_type": "code",
   "execution_count": 36,
   "metadata": {},
   "outputs": [],
   "source": [
    "k = 4"
   ]
  },
  {
   "cell_type": "markdown",
   "metadata": {},
   "source": [
    "Para instanciar o modelo, fazemos:"
   ]
  },
  {
   "cell_type": "code",
   "execution_count": 37,
   "metadata": {},
   "outputs": [],
   "source": [
    "kmeans = KMeans(n_clusters = k, max_iter = 1000)"
   ]
  },
  {
   "cell_type": "markdown",
   "metadata": {},
   "source": [
    "Temos vários argumentos na classe, mas os principais, que mostramos acima, são:\n",
    "\n",
    "* n_clusters: quantos clusters queremos (o número k);\n",
    "* max_iter: é o número máximos de iterações que o algoritmo fará, se ele não convergir antes disso. É uma boa ideia não colocar um número tão grande, ou o algoritmo pode ficar bem lento. Algo da ordem de 1000, em geral é uma boa escolha.\n",
    "\n",
    "Por fim, pra fitar o modelo, fazemos:"
   ]
  },
  {
   "cell_type": "code",
   "execution_count": 38,
   "metadata": {},
   "outputs": [],
   "source": [
    "clusters = kmeans.fit_predict(X)"
   ]
  },
  {
   "cell_type": "markdown",
   "metadata": {},
   "source": [
    "Isto retorna uma lista com número de elementos igual ao número de pontos do dataset, e com valores entre 0 e k-1, indicando qual é o número do cluster (a contagem começa com zero).\n",
    "\n",
    "No nosso caso, como k = 4, teremos os clusters 0, 1, 2 e 3.\n",
    "\n",
    "Pra visualizarmos os clusters, podemos fazer:"
   ]
  },
  {
   "cell_type": "code",
   "execution_count": 30,
   "metadata": {},
   "outputs": [
    {
     "name": "stderr",
     "output_type": "stream",
     "text": [
      "/home/coder/.local/lib/python3.7/site-packages/seaborn/_decorators.py:43: FutureWarning: Pass the following variables as keyword args: x, y. From version 0.12, the only valid positional argument will be `data`, and passing other arguments without an explicit keyword will result in an error or misinterpretation.\n",
      "  FutureWarning\n"
     ]
    },
    {
     "data": {
      "text/plain": [
       "<matplotlib.axes._subplots.AxesSubplot at 0x7f5da109f198>"
      ]
     },
     "execution_count": 30,
     "metadata": {},
     "output_type": "execute_result"
    },
    {
     "data": {
      "image/png": "[encoded data removed]",
      "text/plain": [
       "<Figure size 432x288 with 1 Axes>"
      ]
     },
     "metadata": {
      "needs_background": "light"
     },
     "output_type": "display_data"
    }
   ],
   "source": [
    "#aqui eu crio um dataframe com as coordenadas dos pontos (\"x\" e \"y\"), e com as labels dos clusters\n",
    "clustered_data = pd.concat([pd.DataFrame(X), pd.Series(clusters)],axis=1)\n",
    "\n",
    "#aqui eu renomeio as colunas do dataframe\n",
    "clustered_data.columns = ['x','y','cluster']\n",
    "\n",
    "#aqui eu faço o scatterplot\n",
    "sns.scatterplot(clustered_data[\"x\"], clustered_data[\"y\"], hue = clustered_data[\"cluster\"])"
   ]
  },
  {
   "cell_type": "markdown",
   "metadata": {},
   "source": [
    "Bem legal, não é mesmo? :)\n",
    "\n",
    "### 2.2 - Determinando o k\n",
    "\n",
    "<img src=\"images/choose_k_value.jpeg\"  style=\"width: 800px\" /> <br>\n",
    "Fonte: https://ml-explained.com/blog/kmeans-explained\n",
    "\n",
    "Mas e se não for tão fácil de plotar os dados para determinar o k?\n",
    "\n",
    "Pode ser que não consigamos visualizar nossos dados em 2D, se, por exemplo, tivermos mais de 3 features em nossos dados...\n",
    "\n",
    "Neste caso, podemos usar o **método do cotovelo**, que consiste em rodar o k-means várias vezes, para diferentes valores de k, e depois plotar um gráfico da inércia.\n",
    "\n",
    "A inércia, ou mais conhecida como **WCSS** (Within-Cluster-Sum-of-Squares) que significa \"soma de quadrados intra-cluster\", é calculada como a soma das distâncias (ao quadrado) entre os pontos e os centróides dos clusters.\n",
    "\n",
    "Quanto menor o WCSS, mais eficiente foi a clusterização, **mas até certo ponto!**\n",
    "\n",
    "Conforme o número de clusters (k) aumenta, o WCSS diminui, sendo mínimo quando cada ponto é seu próprio cluster isolado (o que não é nada útil, pois se cada ponto for um cluster, não há clusterização alguma!).\n",
    "\n",
    "Assim, o que queremos não é encontrar um k que minimize o WCSS, mas sim um k **a partir do qual o WCSS para de decrescer tão rapidamente!**\n",
    "\n",
    "Quando encontramos este k, encontramos o número ideal de clusters!\n",
    "\n",
    "Ao plotarmos o WCSS (inércia) em função de k, o que buscaremos será então o valor de k onde o gráfico deixa de ser tão inclinado. Esses pontos são visualizados como \"quinas\", ou **cotovelos** no gráfico -- e daí vem o nome do método!\n",
    "\n",
    "Para aplicar o método, fazemos:"
   ]
  },
  {
   "cell_type": "code",
   "execution_count": 46,
   "metadata": {},
   "outputs": [
    {
     "data": {
      "image/png": "[encoded data removed]",
      "text/plain": [
       "<Figure size 432x288 with 1 Axes>"
      ]
     },
     "metadata": {
      "needs_background": "light"
     },
     "output_type": "display_data"
    }
   ],
   "source": [
    "#inicializamos uma lista vazia para armazenar a inercia de cada modelo com um k diferente\n",
    "#a inercia é a soma dos quadrados das distâncias dos pontos ao cluster mais próximo, e funciona como uma espécie de erro.\n",
    "inercia = []\n",
    "\n",
    "#criamos um iterável para os valores de k que vamos testar. Neste caso, testaremos de 1 a 10!\n",
    "lista_k = range(1, 11)\n",
    "\n",
    "#aqui vamos somente fitar o modelo para cada um dos k e atualizar nossa lista de inercias\n",
    "for k in lista_k:\n",
    "    #aqui fitamos o modelo\n",
    "    kmeans = KMeans(n_clusters=k).fit(X)\n",
    "\n",
    "    #aqui apendamos a inercia do modelo com o k atual à nossa lista\n",
    "    #a inercia é a propriedade \".inertia_\" do modelo!\n",
    "    inercia.append(kmeans.inertia_)\n",
    "\n",
    "# Aqui plotamos a inercia em função do k!\n",
    "plt.plot(range(1, 11), inercia)\n",
    "plt.title('Método do Cotovelo')\n",
    "plt.xlabel('Número de Clusters')\n",
    "#a inercia também é chamada de WCSS\n",
    "plt.ylabel('WCSS')\n",
    "plt.show()"
   ]
  },
  {
   "cell_type": "markdown",
   "metadata": {},
   "source": [
    "O valor de k mais adequado é aquele em que o gráfico tem uma \"quina\" bem abrupta: no exemplo acima, k = 4, como já sabíamos!"
   ]
  },
  {
   "cell_type": "markdown",
   "metadata": {},
   "source": [
    "### 3 Quando uso algoritmos de clusterização, e em que casos eles não são uma boa ideia?\n",
    "De certa forma, algoritmos de clusterização podem ser vistos como classificadores, uma vez que os clusters podem caracterizar um grupo, ou uma classe.\n",
    "\n",
    "No entanto, há uma diferença bem importante entre problemas de classificação e clusterização:\n",
    "\n",
    "* **Problemas de classificação** em geral são **supervisionados**, isto é, os dados que utilizamos têm tanto as features como os **targets**. Em outras palavras, neste tipo de problema, sabemos de antemão quais são as classes de interesse!\n",
    "\n",
    "* **Problemas de clusterização**, por outro lado, são **não-supervisionados**. ou seja, os dados **não têm targets**, temos apenas as features! O nosso objetivo é justamente descobrir **alguma estrutura de agrupamento nos dados**, mas sem qualquer informação prévia quanto aos grupos a serem formados.\n",
    "\n",
    "Foi exatamente o caso do nosso exemplo: nós tínhamos apenas as features dos dados (coordenadas x e y), e **nenhuma informação quanto aos grupos que seriam formados**.\n",
    "\n",
    "Foi só depois que fizemos a análise exploratória dos dados (plot), que pudemos identificar alguma estrutura (4 clusters), para então aplicar o k-means!\n",
    "\n",
    "Assim sendo, via de regra, a utilização ou não de algoritmos de clusterização, além do tipo de problema, depende dos dados disponíveis:\n",
    "\n",
    "Se os dados são **previamente classificados (temos features e targets)**, a melhor estratégia é usar **algoritmos de classificação** (regressão logística, árvores, SVM, etc.);\n",
    "\n",
    "Mas, se os dados **não são previamente classificados (temos apenas as features)**, a melhor estratégia é usar **algoritmos de clusterização** (k-means, DBSCAN, hierarchical clustering, etc.)"
   ]
  },
  {
   "cell_type": "markdown",
   "metadata": {},
   "source": [
    "## 5. Modelos Supervisionados: Classificação e Regressão\n",
    "### 1. Introdução\n",
    "\n",
    "<img src=\"images/regxclass.png\"  style=\"width: 400px\" /> <br>\n",
    "\n",
    "Fonte: https://medium.com/machina-sapiens/algoritmos-de-aprendizagem-de-m%C3%A1quina-qual-deles-escolher-67040ad68737\n",
    "\n"
   ]
  },
  {
   "cell_type": "markdown",
   "metadata": {},
   "source": [
    "| Classificação | Regressão |\n",
    "| :-: | :-: |\n",
    "| Predição são labels de classe discreta | Predição é uma quantidade contínua |\n",
    "| Podemos ter classificação binária ou multiclasse | Regressão múltipla: várias variáveis de input |\n",
    "| Busca-se uma fronteira de decisão | Busca-se curva com o melhor fit |\n",
    "|Métricas de erro: Acurácia, Precisão, Revocação, F1 | Métricas de erro: MAE, MSE, $R^2$ |\n",
    "|Ex: predizer se um aluno vai passar de ano ou não | Ex: Predizer a a nota de um aluno |"
   ]
  },
  {
   "cell_type": "markdown",
   "metadata": {},
   "source": [
    "Problemas de Classificação: deseja-se determinar a que **categoria** (ou **classe**) dentro de um conjunto de categorias uma dada observação pertence, com base em suas features. Nesse tipo de problema, o **target é uma classe**.\n",
    "\n",
    "Exemplos de problemas de classificação:\n",
    "\n",
    "* Detecção de e-mails SPAM: um e-mail é SPAM ou não?;\n",
    "    * Features: palavras contidas no corpo do e-mail; remetente; assunto;\n",
    "* Detecção de doenças: que codição médica a pessoa tem?\n",
    "    * Features: sintomas fisiológicos; resultados de exames (medidas de variáveis biológicas);\n",
    "* Detecção do tipo de documento: secreto, confidencial ou não-sensível?\n",
    "    * Features: palavras no corpo do texto; título;\n",
    "* Detecção de fraudes de cartão de crédito: uma operação é fraudulenta ou não?;\n",
    "    * Features: histórico de transações; hora, local e frequência das transações; tipo de compra;\n",
    "* Modelo de risco de crédito: qual é a chance de determinada pessoa não pagar seu empréstimo?\n",
    "    * Features: histórico de pagamento; score de crédito; <br>\n",
    "    \n",
    "Para resolver problemas de classificação, construímos um classificador: modelo que tem como input as features (contínuas ou discretas) e como output uma entre as classes (discretas).\n"
   ]
  },
  {
   "cell_type": "markdown",
   "metadata": {},
   "source": [
    "## Classificação: KNN e métricas de avaliação\n",
    "#### 1. KNN\n",
    "KNN vem do inglês **K nearest neighbours**, isto é, **K vizinhos mais próximos**.\n",
    "\n",
    "#### 1.1 Introdução Intuitiva\n",
    "Um modelo bastante conhecido e intuitivo é o algoritmo do Vizinho Mais Próximo, que é um modelo baseado na proximidade entre os elementos.\n",
    "\n",
    "A hipótese que baseia esse tipo de modelo é que:\n",
    "\n",
    "* **Observações similares** tendem a estar concentradas em uma mesma região, isto é, **próximos entre si**;\n",
    "\n",
    "* De forma análoga, **dados não similares** estão **mais distantes entre si**.\n",
    "\n",
    "Podemos observar esse efeito acontecendo claramente no conjunto de dados Iris: <br>\n",
    "<img src=\"images/ML5.png\" style=\"width: 600px\" />"
   ]
  },
  {
   "cell_type": "markdown",
   "metadata": {},
   "source": [
    "## 1.2. O Vizinho Mais Próximo\n",
    "O algoritmo do vizinho mais próximos **classifica um novo objeto** com base nos exemplos do conjunto de treinamento que **são mais próximos a ele**.\n",
    "\n",
    "Cada objeto representa um ponto no espaço, o qual é definido pelo conjunto de features disponíveis para o modelo.\n",
    "\n",
    "Podemos calcular a distância entre dois pontos usando a fórmula da **distância Euclidiana**, definida como\n",
    "\n",
    "<br>\n",
    "$ d(x_i,x_j)=\\sqrt{∑(x_i−x_j)^2} $\n",
    "<br>\n",
    "    \n",
    "onde xi e xj são dois pontos num espaço com d features; $x_i$ e $x_j$ são os valores dos l-ésimo atributo de xi e xj, respectivamente.\n",
    "\n",
    "Dessa forma, num modelo de classificação, a classe predita para uma nova instância será aquela do vizinho mais próximo a essa nova instâcia.\n",
    "\n",
    "<img src=\"images/ML6.png\" style=\"width: 300px\" />\n",
    "\n",
    "Nesse modelo, a fase de treinamento consiste apenas na leitura dos dados de treino, sendo por esse motivo conhecido como um algoritmo preguiçoso: todos os cálculos necessários são realizados apenas no momento de predição.\n",
    "\n",
    "### 1.3. Os k Vizinhos Mais Próximos\n",
    "Podemos estender o algoritmo do Vizinho Mais Próximo ao utilizar uma vizinhança maior, ou seja, os k vizinhos mais próximos, ao invés de considerarmos um único vizinho.\n",
    "\n",
    "Para a classe da observação avaliada, é **escolhida a classe predominante (moda) dos k vizinhos mais próximos da observação**.\n",
    "\n",
    "<img src=\"images/algoritmo_passo_a_passo.png\"  style=\"width: 700px\" />\n",
    "\n",
    "Porém, quando a variável resposta for contínua, não faz sentido calcular a moda. Nesses casos, utilizamos estatísticas próprias para variáveis contínuas, como **média e mediana**.\n",
    "\n",
    "É importante salientar também que o **KNN é altamente sensível a escalas**. Variáveis com magnitudes muito maiores que outras vão ter grande influência no resultado da previsão.\n",
    "\n",
    "Desta forma, um **pré-processamento** importante a ser feito é a **normalização ou padronização das features**.\n",
    "\n",
    "### 1.4. Exemplo Prático"
   ]
  },
  {
   "cell_type": "code",
   "execution_count": 73,
   "metadata": {},
   "outputs": [],
   "source": [
    "# Importar lib\n",
    "from sklearn.neighbors import KNeighborsClassifier\n",
    "\n",
    "# Abrir conjunto de dados\n",
    "dataset = pd.read_csv('titanic.csv')\n",
    "\n",
    "# Definir variável target\n",
    "target = 'Survived'\n",
    "\n",
    "# Eliminar variáveis categóricas + PassengerId\n",
    "dataset.drop(['Name','Sex','Ticket','Cabin','Embarked','PassengerId'], axis=1, inplace=True)\n",
    "\n",
    "#Eliminar nulos\n",
    "dataset.dropna(inplace=True)\n",
    "\n",
    "# Separar as variáveis independentes do target\n",
    "X = dataset.drop([target], axis=1)       # Variáveis independentes\n",
    "y = dataset[[target]]                    # Variável dependente / target  "
   ]
  },
  {
   "cell_type": "markdown",
   "metadata": {},
   "source": [
    "Quando treinamos um modelo é necessário testá-lo em um conjunto de teste. Isso ajuda a validar o quanto seu modelo consegue generalizar e a ajustar melhor o modelo.\n",
    "\n",
    "<img src=\"images/splitting-data-set.png\"  style=\"width: 500px\" />"
   ]
  },
  {
   "cell_type": "code",
   "execution_count": 74,
   "metadata": {},
   "outputs": [
    {
     "name": "stdout",
     "output_type": "stream",
     "text": [
      "Tamanho do treino:  (571, 5)\n",
      "Tamanho do teste:  (143, 5)\n"
     ]
    }
   ],
   "source": [
    "# Separa um dataset para treino e outro para teste (80/20)\n",
    "from sklearn.model_selection import train_test_split\n",
    "X_train, X_test, y_train, y_test = train_test_split(X, y, test_size = 0.20, random_state = 0)\n",
    "\n",
    "print(\"Tamanho do treino: \", X_train.shape)\n",
    "print(\"Tamanho do teste: \", X_test.shape)"
   ]
  },
  {
   "cell_type": "code",
   "execution_count": 1,
   "metadata": {},
   "outputs": [],
   "source": [
    "# Instancia o modelo considerando 3 vizinhos mais próximos e distância euclidiana p=2\n",
    "k=3 # quantidade de vizinhos \n",
    "\n",
    "clf = KNeighborsClassifier(n_neighbors=k, \n",
    "                           p=2) # use p=2 para distância euclidiana\n",
    "# dá um fit no modelo\n",
    "clf.fit(X_train, y_train)\n",
    "\n",
    "# Predizendo no dataset de teste\n",
    "y_pred = clf.predict(X_test)\n",
    "y_pred[:5]"
   ]
  },
  {
   "cell_type": "markdown",
   "metadata": {},
   "source": [
    "## 2. Métricas de avaliação\n",
    "Como podemos mensurar a qualidade do modelo? Ou, se treinarmos vários modelos diferentes, como determinar qual é o melhor?\n",
    "\n",
    "Para responder a estas perguntas, utilizamos as **métricas de avaliação** de modelos de classificação.\n",
    "\n",
    "Existem diversas formas de realizar tais avaliações, cada uma observando o problema de um ponto de vista diferente.\n",
    "\n",
    "### 2.1 Acurácia\n",
    "Também conhecida como **taxa de acerto**, essa medida de desempenho traz a proporção de acertos sobre o total de observações:\n",
    "\n",
    "$$\n",
    "\\frac{VP + VN}{VP + VN + FP + FN}\n",
    "$$ \n",
    "\n",
    "na qual:\n",
    "<br>\n",
    "* VP representa a quantidade de Verdadeiro Positivo: classes 1 que foram previstas como 1\n",
    "* VN representa a quantidade de Verdadeiro Negativo: classes 0 que foram previstas como 0\n",
    "* FP representa a quantidade de Falso Positivo: classes 0 que foram previstas como 1\n",
    "* FN representa a quantidade de Falso Negativo: classes 1 que foram previstas como 0\n",
    "\n",
    "A taxa de acerto é um número *limitado entre 0 e 1*. Quanto *maior for o seu valor, mais acurado é o modelo M*.\n",
    "\n",
    "\n",
    "### 2.2 Matriz de Confusão\n",
    "Uma alternativa para visualizar o desempenho de um modelo é analisar sua matriz de confusão, que ilustra o número de predições corretas e incorretas para cada classe do modelo.\n",
    "\n",
    "* As linhas dessa matriz representam as classes verdadeiras;\n",
    "\n",
    "* As colunas representam as classes preditas pelo modelo.\n",
    "\n",
    "Logo, cada elemento $ m_{ij} $ de uma matriz de confusão M apresenta o número de exemplos da classe **i** classificados como classe **j**.\n",
    "\n",
    "Dessa forma, os elementos na **diagonal principal** indicam as classificações feitas de forma **correta**, enquanto os **outros elementos** são os classificados de forma **incorreta**.\n",
    "\n",
    "<img src=\"images/ML8.png\" style=\"width: 300px\" />\n",
    "\n",
    "Por meio dela, temos as medidas quantitativas de quais classes possuem maior dificuldade de serem corretamente classificadas, se existe alguma \"confusão\" recorrente entre duas classes e mais uma série de medidas quantitativas sobre o modelo, como veremos a seguir.\n"
   ]
  },
  {
   "cell_type": "code",
   "execution_count": 85,
   "metadata": {},
   "outputs": [
    {
     "name": "stdout",
     "output_type": "stream",
     "text": [
      "Acurácia do modelo: 68.5%\n"
     ]
    },
    {
     "data": {
      "image/png": "[encoded data removed]",
      "text/plain": [
       "<Figure size 432x288 with 2 Axes>"
      ]
     },
     "metadata": {
      "needs_background": "light"
     },
     "output_type": "display_data"
    }
   ],
   "source": [
    "# Importar accuracy_score e plot_confusion_matrix do sklearn.metrics \n",
    "from sklearn.metrics import accuracy_score, plot_confusion_matrix\n",
    "\n",
    "# Calcular a acurácia utilizando o accuracy_score\n",
    "ac = accuracy_score(y_test, y_pred)\n",
    "\n",
    "print(f\"Acurácia do modelo: {ac:.1%}\")\n",
    "\n",
    "plot_confusion_matrix(clf, X_test, y_test);"
   ]
  },
  {
   "cell_type": "markdown",
   "metadata": {},
   "source": [
    "Pronto! Agora você tem um modelo de KNN para usar de baseline"
   ]
  },
  {
   "cell_type": "markdown",
   "metadata": {},
   "source": [
    "### Bibliografia\n",
    "https://www.slideshare.net/jorisschelfaut/knn-154482179 <br>\n",
    "https://www.kaggle.com/rakeshrau/social-network-ads <br>\n",
    "https://realpython.com/knn-python/ <br>\n",
    "https://cambridgecoding.wordpress.com/\n",
    "https://www.cs.cornell.edu/courses/cs4780/2018fa/lectures/lecturenote02_kNN.html"
   ]
  },
  {
   "cell_type": "code",
   "execution_count": null,
   "metadata": {},
   "outputs": [],
   "source": []
  }
 ],
 "metadata": {
  "kernelspec": {
   "display_name": "Python 3",
   "language": "python",
   "name": "python3"
  },
  "language_info": {
   "codemirror_mode": {
    "name": "ipython",
    "version": 3
   },
   "file_extension": ".py",
   "mimetype": "text/x-python",
   "name": "python",
   "nbconvert_exporter": "python",
   "pygments_lexer": "ipython3",
   "version": "3.9.5"
  }
 },
 "nbformat": 4,
 "nbformat_minor": 4
}
