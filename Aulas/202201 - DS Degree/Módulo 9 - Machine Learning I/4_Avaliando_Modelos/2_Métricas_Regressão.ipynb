{
 "cells": [
  {
   "cell_type": "markdown",
   "metadata": {},
   "source": [
    "# Aula 2.1 - Árvores de Decisão pt2\n",
    "\n",
    "Continuando a nossa aula de árvores de decisão, hoje vamos focar em árvores de decisão para problemas de regressão.\n",
    "\n",
    "- 1) Como adaptar o algoritmo das árvores de decisão para problemas de regressão?\n",
    "- 2) Como avaliar meu modelo final de regressão? "
   ]
  },
  {
   "cell_type": "markdown",
   "metadata": {},
   "source": [
    "## 1) Árvores de Decisão para Regressão"
   ]
  },
  {
   "cell_type": "markdown",
   "metadata": {},
   "source": [
    "Quando tínhamos o problema de classificação, nossa ideia era:<br>\n",
    "<br>\n",
    "\n",
    "<div style=\"background-color:rgba(0, 0, 0, 0.0470588); padding:10px 0; font-family:monospace;\">\n",
    "| 1. Criar uma árvore de decisão em cima das minhas \"features\" e dos meus \"labels\". <br>\n",
    "| &nbsp;&nbsp; | Para decidir os splits automaticamente, usamos critérios de impureza (Gini, entropia)  <br>\n",
    "| <br>\n",
    "| 2. A classe prevista para um novo caso é dada pela folha que o novo ponto irá cair. <br>\n",
    "| &nbsp;&nbsp; | A gente percorre a árvore, usando os dados desse novo ponto, e onde ela cair no fim (a folha final) decide a classe dela. <br>\n",
    "</div>"
   ]
  },
  {
   "cell_type": "markdown",
   "metadata": {},
   "source": [
    "<br><br>"
   ]
  },
  {
   "cell_type": "markdown",
   "metadata": {},
   "source": [
    "A gente pode adaptar essa ideia para __problemas de regressão__. <br>\n",
    "<br>\n",
    "<div style=\"background-color:rgba(0, 0, 0, 0.0470588); padding:10px 0; font-family:monospace;\">\n",
    "| 1. Criar uma árvore de decisão em cima das minhas \"features\" e dos meus \"labels\". <br>\n",
    "| &nbsp;&nbsp; | Para decidir os splits automaticamente, usamos o quanto teríamos de erro se parássemos naquele nó. <br>\n",
    "| <br>\n",
    "| 2. O valor previsto para um novo caso é o valor da folha que o novo ponto irá cair. <br>\n",
    "| &nbsp;&nbsp; | A gente percorre a árvore, usando os dados desse novo ponto, e onde ela cair no fim (a folha final) decide o valor dele. <br>\n",
    "</div>\n"
   ]
  },
  {
   "cell_type": "markdown",
   "metadata": {},
   "source": [
    "Tivemos então que adaptar 2 pontos importantes:\n",
    "1. Como decidir o split da árvore\n",
    "2. Como decidir o valor final do nó\n",
    "\n",
    "Vamos ver com um exemplo como faríamos isso."
   ]
  },
  {
   "cell_type": "code",
   "execution_count": 3,
   "metadata": {},
   "outputs": [],
   "source": [
    "# importe as principais bibliotecas para ciência de dados\n",
    "import numpy as np\n",
    "import pandas as pd\n",
    "import matplotlib.pyplot as plt\n",
    "import seaborn as sns"
   ]
  },
  {
   "cell_type": "markdown",
   "metadata": {},
   "source": [
    "Vamos começar pelo ponto 2:<br>\n",
    "A gente vai assumir que o __valor previsto para uma dada região é a média dos valores dos pontos de treino que estavam naquela região__."
   ]
  },
  {
   "cell_type": "code",
   "execution_count": 4,
   "metadata": {},
   "outputs": [],
   "source": [
    "# Vamos pegar alguns pontos de exemplo\n",
    "pontos = np.array([[1.0, 0.92],\n",
    "                   [1.5, 0.51],\n",
    "                   [2.0, -0.10],\n",
    "                   [2.5, -0.02],\n",
    "                   [3.0, 0.93],\n",
    "                   [3.5, 2.18]])"
   ]
  },
  {
   "cell_type": "code",
   "execution_count": 3,
   "metadata": {},
   "outputs": [
    {
     "data": {
      "image/png": "[encoded data removed]",
      "text/plain": [
       "<Figure size 432x288 with 1 Axes>"
      ]
     },
     "metadata": {
      "needs_background": "light"
     },
     "output_type": "display_data"
    },
    {
     "data": {
      "image/png": "[encoded data removed]",
      "text/plain": [
       "<Figure size 432x288 with 1 Axes>"
      ]
     },
     "metadata": {
      "needs_background": "light"
     },
     "output_type": "display_data"
    }
   ],
   "source": [
    "# Vamos desenhar eles, com um possível split inicial.\n",
    "plt.title('Dados')\n",
    "plt.scatter(pontos[:,0], pontos[:,1])\n",
    "plt.xlabel('feature')\n",
    "plt.ylabel('target')\n",
    "plt.show()\n",
    "\n",
    "plt.title('Após 1º split')\n",
    "plt.scatter(pontos[:,0], pontos[:,1])\n",
    "plt.axvline(2.7, color='red')\n",
    "plt.xlabel('feature')\n",
    "plt.ylabel('target')\n",
    "plt.show()"
   ]
  },
  {
   "cell_type": "markdown",
   "metadata": {},
   "source": [
    "<font size=3> <b> Exercício 1: </b> </font>\n",
    "\n",
    "1. Quais seriam os valores previstos do nó $ feature <= 2.7 $ (à esquerda da reta) se utilizássemos a média?\n",
    "2. Quais seriam os valores previstos do nó $ feature > 2.7 $ (à esquerda da reta) se utilizássemos a média?\n",
    "3. Esses valores previstos são bons? Como podemos fazer essa avaliação?\n",
    "4. Qual era o melhor lugar para colocarmos aquela reta vermelha?\n",
    "5. Onde você colocaria uma segunda quebra?"
   ]
  },
  {
   "cell_type": "markdown",
   "metadata": {},
   "source": [
    "<br><br>"
   ]
  },
  {
   "cell_type": "code",
   "execution_count": 1,
   "metadata": {},
   "outputs": [],
   "source": [
    "# Resp:\n",
    "# 1. \n",
    "filtro = pontos[:, 0] <= 2.7\n",
    "np.mean(pontos[filtro, 1])\n",
    "\n",
    "# 2.\n",
    "filtro = pontos[:, 0] > 2.7\n",
    "np.mean(pontos[filtro, 1])"
   ]
  },
  {
   "cell_type": "markdown",
   "metadata": {},
   "source": [
    "\n",
    "Nossa função ficou da forma:\n",
    "\n",
    "$$ y = \\left\\{\n",
    "\\begin{array}{ll}\n",
    "    0.33 & , feature <= 2.7 \\\\\n",
    "    1.55 & , feature > 2.7\n",
    "\\end{array} \n",
    "\\right.  $$"
   ]
  },
  {
   "cell_type": "markdown",
   "metadata": {},
   "source": [
    "<br><br>"
   ]
  },
  {
   "cell_type": "markdown",
   "metadata": {},
   "source": [
    "O que vamos fazer então é:\n",
    "- Vamos escolher os splits que diminuíem a nossa métrica de erro\n",
    "- Os valores que cada folha final da nossa árvore vai prever é a média de todos os pontos de treino que ficaram nela ao final.\n"
   ]
  },
  {
   "cell_type": "markdown",
   "metadata": {},
   "source": [
    "Vamos considerar uma única feature gerada por uma função seno com ruído Gaussiano: se fizermos várias quebras na decision tree poderemos obter uma boa aproximação da curva real. \n",
    "\n",
    "<img src=\"images/decision-stump-1.png\" style=\"width:400px\" text=\"https://bradleyboehmke.github.io/HOML/DT.html\">\n",
    "<img src=\"images/decision-stump-2.png\" style=\"width:400px\" />\n",
    "\n",
    "<br>\n",
    "<img src=\"images/depth-3-decision-tree-1.png\" style=\"width:400px\" />\n",
    "<img src=\"images/depth-3-decision-tree-2.png\" style=\"width:400px\" />\n",
    "<br>\n",
    "<img src=\"images/deep-overfit-tree-1.png\" style=\"width:400px\"/>\n",
    "<img src=\"images/deep-overfit-tree-2.png\" style=\"width:400px\"/>\n",
    "\n",
    "Isso nos leva à duas perguntas: \n",
    "* Como eu escolho qual é o melhor?\n",
    "* Quando parar? Isso são cenas dos próximos capítulos"
   ]
  },
  {
   "cell_type": "markdown",
   "metadata": {},
   "source": [
    "## 2) Avaliando modelos de regressão"
   ]
  },
  {
   "cell_type": "markdown",
   "metadata": {},
   "source": [
    "No caso de modelos de regressão, a gente quer ver o quão próximo o valor que a gente prevê está do valor real. É quase impossível \"cravar\" os valores e muitas vezes não é necessário. \n",
    "\n",
    "Para calcular o erro do modelo precisamos, de alguma forma, comparar o valor real $y_i$ da nossa amostra com o valor previsto $\\hat{y}_i$.\n",
    "Esse método de avaliar o quão bom nosso modelo se adequa ao dataset é chamado de função custo (cost function). Se nossa função custo der um valor muito alto saberemos que a predição não foi muito boa.\n",
    "\n",
    "<div>\n",
    "    <img src=\"images/erro_regressao.svg\" width=800 align=\"center\">\n",
    "</div>\n",
    "\n",
    "Vamos supor que estamos tentando prever o valor de casas de uma certa cidade. Para a primeira casa, que vale de BRL 150.000,00, nosso modelo previu um valor de BRL 145.000,00. \n",
    "\n",
    "Para a segunda, cujo valor é BRL 100.000,00, foi previsto BRL 105.000,00.\n",
    "\n",
    "Como ficaria o erro médio do nosso modelo?\n",
    "\n",
    "Na previsão da primeira casa o erro seria $e_1 = 150.000 - 145.000 = 5.000$ <br>\n",
    "Na previsão da segunda casa o erro seria  $e_2 = 100.000 - 105.000 = -5.000$ <br>\n",
    "\n",
    "Logo a média dos erros daria $ (-5000 + 5000)/2 = 0 $. <br>\n",
    "\n",
    "Pra evitar isso, podemos elevar os erros ao quadrado ou pegar o valor absoluto deles.\n",
    "\n",
    "\n",
    "- __MSE, Mean Squared Error__ (erro médio quadrático) <br>\n",
    "É o valor médio do quadrado de todos os nossos erros:\n",
    "\n",
    "$$ MSE = \\frac{1}{N}\\sum_{i=1}^{N} (y_i - \\hat{y}_i)^2 $$\n",
    "\n",
    "onde $i$ percorre os pontos do nosso conjunto, $y_i$ é o valor real de um dado ponto e $\\hat{y}_i$ é o valor que estamos prevendo.\n",
    "\n",
    "O fato de calcularmos o valor quadrático tem o efeito de inflar ou ampliar grandes erros. Ou seja, quanto maior a diferença entre os valores previstos e esperados, maior o erro quadrado resultante. <br>\n",
    "Isso tem o efeito de “punir” modelos com erros maiores quando o MSE é usado como uma função de perda (loss function). Também tem o efeito de “punir” os modelos ao inflar a pontuação média de erro quando usada como métrica.\n",
    "\n",
    "Por exemplo: um erro de 10 será 100x pior que um erro de 1 devido à essa atribuição de pesos distinta para valores maiores.\n",
    "\n",
    "Em um modelo perfeito o MSE daria 0, o que significa que todas as predições batem com os valores reais. Não há limite para o valor máximo do MSE.  <br>\n",
    "\n",
    "> Um bom valor de MSE é específico para cada dataset.\n",
    "> Uma boa prática é criar um modelo para ser sua baseline utilizando um modelo simples, como por exemplo, prevendo o valor médio do target. Sabendo o valor do MSE para o modelo naive, seu objetivo será obter um MSE menor.\n",
    "\n",
    "\n",
    "A unidade de medida do MSE é dada no seu valor quadrado. Por exemplo: se a unidade do nosso target é em reais o MSE terá a unidade em reais². É devido à isso que, em geral, preferimos utilizar o Root Mean Squared error.\n",
    "\n",
    "\n",
    "- __RMSE, Root Mean Squared Error__ (raiz do erro quadrático médio)<br>\n",
    "$$RMSE = \\sqrt{MSE}$$\n",
    "\n",
    "É comum utilizarmos o MSE como loss function e o RMSE para reportar a performance."
   ]
  },
  {
   "cell_type": "markdown",
   "metadata": {},
   "source": [
    "- __MAE, Mean Absolute Error__ (erro absoluto médio):\n",
    "$$ MAE = \\frac{1}{N} \\sum_{i=1}^{N} |y_i - \\hat{y}_i| = \\frac{1}{N} \\sum_{i=1}^{N} |\\text{erro}_i|$$\n",
    "\n",
    "<br><br>\n",
    "\n",
    "Uma vez que estamos calculando os valores absolutos, todos os erros terão um peso em uma mesma escala linear. Isso faz com que a MAE seja mais robusta a outliers do que a MSE.\n",
    "\n",
    "<img src=\"images/Comparison-of-the-MSE-MAE-and-Huber-losses.png\" style=\"width:500px\"/>\n",
    "\n",
    "\n",
    "- __Huber__ : <br>\n",
    "\n",
    "Essa loss function consegue balancear o que há de melhor entre a MSE e a MAE: <br>\n",
    " - para valores menores do que $\\delta$ use a MSE; para valores maiores use MAE.\n",
    "\n",
    "\n",
    "<img src=\"images/huber.png\" style=\"width:400px\"/>\n",
    "\n",
    "\n",
    "- $R^2$, __coeficiente de determinação__ : <br>\n",
    "Existe uma terceira métrica que as pessoas usam, que é o $R^2$ (conhecido como __coeficiente de determinação__). Ele é definido como <br><br>\n",
    "\n",
    "$$R^2 = 1 - \\frac{\\sum_i \\text{erro}_i^2}{\\sum_i y_i - \\bar{y}}$$ "
   ]
  },
  {
   "cell_type": "markdown",
   "metadata": {},
   "source": [
    "\n",
    "onde $\\bar{y}$ é o valor médio dos valores (\"labels\", \"target\") do meu conjunto, e $i$ percorre todos os pontos do conjunto. Em geral, eu recomendo não usar $R^2$. Ele tem uma série de fraquezas, e pode levar a enganos.\n",
    "\n",
    "O MAE, assim como o RMSE, possuia as unidades de erro na mesma unidade do target que está sendo predito.\n",
    "\n",
    "Eu vou mostrar ele aqui nesse notebook, mas no futuro, não devo mais usar.\n",
    "\n",
    "É difícil explicar em mais detalhes sem conhecimentos mais sólidos, mas quem tiver mais conhecimento estatístico e quiser entender mais, fica uma referência: [Cosma Shalizi](https://www.stat.cmu.edu/~cshalizi/mreg/15/lectures/10/lecture-10.pdf) (olhe a página 17 e 18)"
   ]
  },
  {
   "cell_type": "markdown",
   "metadata": {},
   "source": [
    "### Dataset"
   ]
  },
  {
   "cell_type": "code",
   "execution_count": 13,
   "metadata": {},
   "outputs": [
    {
     "name": "stderr",
     "output_type": "stream",
     "text": [
      "/home/patricia/Documentos/escritorio_dados/venv/lib/python3.9/site-packages/sklearn/utils/deprecation.py:87: FutureWarning: Function load_boston is deprecated; `load_boston` is deprecated in 1.0 and will be removed in 1.2.\n",
      "\n",
      "    The Boston housing prices dataset has an ethical problem. You can refer to\n",
      "    the documentation of this function for further details.\n",
      "\n",
      "    The scikit-learn maintainers therefore strongly discourage the use of this\n",
      "    dataset unless the purpose of the code is to study and educate about\n",
      "    ethical issues in data science and machine learning.\n",
      "\n",
      "    In this special case, you can fetch the dataset from the original\n",
      "    source::\n",
      "\n",
      "        import pandas as pd\n",
      "        import numpy as np\n",
      "\n",
      "\n",
      "        data_url = \"http://lib.stat.cmu.edu/datasets/boston\"\n",
      "        raw_df = pd.read_csv(data_url, sep=\"\\s+\", skiprows=22, header=None)\n",
      "        data = np.hstack([raw_df.values[::2, :], raw_df.values[1::2, :2]])\n",
      "        target = raw_df.values[1::2, 2]\n",
      "\n",
      "    Alternative datasets include the California housing dataset (i.e.\n",
      "    :func:`~sklearn.datasets.fetch_california_housing`) and the Ames housing\n",
      "    dataset. You can load the datasets as follows::\n",
      "\n",
      "        from sklearn.datasets import fetch_california_housing\n",
      "        housing = fetch_california_housing()\n",
      "\n",
      "    for the California housing dataset and::\n",
      "\n",
      "        from sklearn.datasets import fetch_openml\n",
      "        housing = fetch_openml(name=\"house_prices\", as_frame=True)\n",
      "\n",
      "    for the Ames housing dataset.\n",
      "    \n",
      "  warnings.warn(msg, category=FutureWarning)\n"
     ]
    }
   ],
   "source": [
    "from sklearn.datasets import load_boston\n",
    "dados = load_boston()\n",
    "X = pd.DataFrame(data=dados['data'], columns=dados['feature_names'])\n",
    "y = pd.Series(data=dados['target'],name='price')"
   ]
  },
  {
   "cell_type": "code",
   "execution_count": 14,
   "metadata": {},
   "outputs": [
    {
     "name": "stdout",
     "output_type": "stream",
     "text": [
      ".. _boston_dataset:\n",
      "\n",
      "Boston house prices dataset\n",
      "---------------------------\n",
      "\n",
      "**Data Set Characteristics:**  \n",
      "\n",
      "    :Number of Instances: 506 \n",
      "\n",
      "    :Number of Attributes: 13 numeric/categorical predictive. Median Value (attribute 14) is usually the target.\n",
      "\n",
      "    :Attribute Information (in order):\n",
      "        - CRIM     per capita crime rate by town\n",
      "        - ZN       proportion of residential land zoned for lots over 25,000 sq.ft.\n",
      "        - INDUS    proportion of non-retail business acres per town\n",
      "        - CHAS     Charles River dummy variable (= 1 if tract bounds river; 0 otherwise)\n",
      "        - NOX      nitric oxides concentration (parts per 10 million)\n",
      "        - RM       average number of rooms per dwelling\n",
      "        - AGE      proportion of owner-occupied units built prior to 1940\n",
      "        - DIS      weighted distances to five Boston employment centres\n",
      "        - RAD      index of accessibility to radial highways\n",
      "        - TAX      full-value property-tax rate per $10,000\n",
      "        - PTRATIO  pupil-teacher ratio by town\n",
      "        - B        1000(Bk - 0.63)^2 where Bk is the proportion of black people by town\n",
      "        - LSTAT    % lower status of the population\n",
      "        - MEDV     Median value of owner-occupied homes in $1000's\n",
      "\n",
      "    :Missing Attribute Values: None\n",
      "\n",
      "    :Creator: Harrison, D. and Rubinfeld, D.L.\n",
      "\n",
      "This is a copy of UCI ML housing dataset.\n",
      "https://archive.ics.uci.edu/ml/machine-learning-databases/housing/\n",
      "\n",
      "\n",
      "This dataset was taken from the StatLib library which is maintained at Carnegie Mellon University.\n",
      "\n",
      "The Boston house-price data of Harrison, D. and Rubinfeld, D.L. 'Hedonic\n",
      "prices and the demand for clean air', J. Environ. Economics & Management,\n",
      "vol.5, 81-102, 1978.   Used in Belsley, Kuh & Welsch, 'Regression diagnostics\n",
      "...', Wiley, 1980.   N.B. Various transformations are used in the table on\n",
      "pages 244-261 of the latter.\n",
      "\n",
      "The Boston house-price data has been used in many machine learning papers that address regression\n",
      "problems.   \n",
      "     \n",
      ".. topic:: References\n",
      "\n",
      "   - Belsley, Kuh & Welsch, 'Regression diagnostics: Identifying Influential Data and Sources of Collinearity', Wiley, 1980. 244-261.\n",
      "   - Quinlan,R. (1993). Combining Instance-Based and Model-Based Learning. In Proceedings on the Tenth International Conference of Machine Learning, 236-243, University of Massachusetts, Amherst. Morgan Kaufmann.\n",
      "\n"
     ]
    }
   ],
   "source": [
    "print(dados['DESCR'])"
   ]
  },
  {
   "cell_type": "code",
   "execution_count": 15,
   "metadata": {},
   "outputs": [
    {
     "name": "stdout",
     "output_type": "stream",
     "text": [
      "(506, 13)\n"
     ]
    }
   ],
   "source": [
    "print(X.shape)"
   ]
  },
  {
   "cell_type": "code",
   "execution_count": 16,
   "metadata": {},
   "outputs": [
    {
     "data": {
      "text/html": [
       "<div>\n",
       "<style scoped>\n",
       "    .dataframe tbody tr th:only-of-type {\n",
       "        vertical-align: middle;\n",
       "    }\n",
       "\n",
       "    .dataframe tbody tr th {\n",
       "        vertical-align: top;\n",
       "    }\n",
       "\n",
       "    .dataframe thead th {\n",
       "        text-align: right;\n",
       "    }\n",
       "</style>\n",
       "<table border=\"1\" class=\"dataframe\">\n",
       "  <thead>\n",
       "    <tr style=\"text-align: right;\">\n",
       "      <th></th>\n",
       "      <th>CRIM</th>\n",
       "      <th>ZN</th>\n",
       "      <th>INDUS</th>\n",
       "      <th>CHAS</th>\n",
       "      <th>NOX</th>\n",
       "      <th>RM</th>\n",
       "      <th>AGE</th>\n",
       "      <th>DIS</th>\n",
       "      <th>RAD</th>\n",
       "      <th>TAX</th>\n",
       "      <th>PTRATIO</th>\n",
       "      <th>B</th>\n",
       "      <th>LSTAT</th>\n",
       "    </tr>\n",
       "  </thead>\n",
       "  <tbody>\n",
       "    <tr>\n",
       "      <th>0</th>\n",
       "      <td>0.00632</td>\n",
       "      <td>18.0</td>\n",
       "      <td>2.31</td>\n",
       "      <td>0.0</td>\n",
       "      <td>0.538</td>\n",
       "      <td>6.575</td>\n",
       "      <td>65.2</td>\n",
       "      <td>4.0900</td>\n",
       "      <td>1.0</td>\n",
       "      <td>296.0</td>\n",
       "      <td>15.3</td>\n",
       "      <td>396.90</td>\n",
       "      <td>4.98</td>\n",
       "    </tr>\n",
       "    <tr>\n",
       "      <th>1</th>\n",
       "      <td>0.02731</td>\n",
       "      <td>0.0</td>\n",
       "      <td>7.07</td>\n",
       "      <td>0.0</td>\n",
       "      <td>0.469</td>\n",
       "      <td>6.421</td>\n",
       "      <td>78.9</td>\n",
       "      <td>4.9671</td>\n",
       "      <td>2.0</td>\n",
       "      <td>242.0</td>\n",
       "      <td>17.8</td>\n",
       "      <td>396.90</td>\n",
       "      <td>9.14</td>\n",
       "    </tr>\n",
       "    <tr>\n",
       "      <th>2</th>\n",
       "      <td>0.02729</td>\n",
       "      <td>0.0</td>\n",
       "      <td>7.07</td>\n",
       "      <td>0.0</td>\n",
       "      <td>0.469</td>\n",
       "      <td>7.185</td>\n",
       "      <td>61.1</td>\n",
       "      <td>4.9671</td>\n",
       "      <td>2.0</td>\n",
       "      <td>242.0</td>\n",
       "      <td>17.8</td>\n",
       "      <td>392.83</td>\n",
       "      <td>4.03</td>\n",
       "    </tr>\n",
       "    <tr>\n",
       "      <th>3</th>\n",
       "      <td>0.03237</td>\n",
       "      <td>0.0</td>\n",
       "      <td>2.18</td>\n",
       "      <td>0.0</td>\n",
       "      <td>0.458</td>\n",
       "      <td>6.998</td>\n",
       "      <td>45.8</td>\n",
       "      <td>6.0622</td>\n",
       "      <td>3.0</td>\n",
       "      <td>222.0</td>\n",
       "      <td>18.7</td>\n",
       "      <td>394.63</td>\n",
       "      <td>2.94</td>\n",
       "    </tr>\n",
       "    <tr>\n",
       "      <th>4</th>\n",
       "      <td>0.06905</td>\n",
       "      <td>0.0</td>\n",
       "      <td>2.18</td>\n",
       "      <td>0.0</td>\n",
       "      <td>0.458</td>\n",
       "      <td>7.147</td>\n",
       "      <td>54.2</td>\n",
       "      <td>6.0622</td>\n",
       "      <td>3.0</td>\n",
       "      <td>222.0</td>\n",
       "      <td>18.7</td>\n",
       "      <td>396.90</td>\n",
       "      <td>5.33</td>\n",
       "    </tr>\n",
       "  </tbody>\n",
       "</table>\n",
       "</div>"
      ],
      "text/plain": [
       "      CRIM    ZN  INDUS  CHAS    NOX     RM   AGE     DIS  RAD    TAX  \\\n",
       "0  0.00632  18.0   2.31   0.0  0.538  6.575  65.2  4.0900  1.0  296.0   \n",
       "1  0.02731   0.0   7.07   0.0  0.469  6.421  78.9  4.9671  2.0  242.0   \n",
       "2  0.02729   0.0   7.07   0.0  0.469  7.185  61.1  4.9671  2.0  242.0   \n",
       "3  0.03237   0.0   2.18   0.0  0.458  6.998  45.8  6.0622  3.0  222.0   \n",
       "4  0.06905   0.0   2.18   0.0  0.458  7.147  54.2  6.0622  3.0  222.0   \n",
       "\n",
       "   PTRATIO       B  LSTAT  \n",
       "0     15.3  396.90   4.98  \n",
       "1     17.8  396.90   9.14  \n",
       "2     17.8  392.83   4.03  \n",
       "3     18.7  394.63   2.94  \n",
       "4     18.7  396.90   5.33  "
      ]
     },
     "execution_count": 16,
     "metadata": {},
     "output_type": "execute_result"
    }
   ],
   "source": [
    "X.head()"
   ]
  },
  {
   "cell_type": "code",
   "execution_count": 17,
   "metadata": {},
   "outputs": [
    {
     "name": "stdout",
     "output_type": "stream",
     "text": [
      "<class 'pandas.core.frame.DataFrame'>\n",
      "RangeIndex: 506 entries, 0 to 505\n",
      "Data columns (total 13 columns):\n",
      " #   Column   Non-Null Count  Dtype  \n",
      "---  ------   --------------  -----  \n",
      " 0   CRIM     506 non-null    float64\n",
      " 1   ZN       506 non-null    float64\n",
      " 2   INDUS    506 non-null    float64\n",
      " 3   CHAS     506 non-null    float64\n",
      " 4   NOX      506 non-null    float64\n",
      " 5   RM       506 non-null    float64\n",
      " 6   AGE      506 non-null    float64\n",
      " 7   DIS      506 non-null    float64\n",
      " 8   RAD      506 non-null    float64\n",
      " 9   TAX      506 non-null    float64\n",
      " 10  PTRATIO  506 non-null    float64\n",
      " 11  B        506 non-null    float64\n",
      " 12  LSTAT    506 non-null    float64\n",
      "dtypes: float64(13)\n",
      "memory usage: 51.5 KB\n"
     ]
    }
   ],
   "source": [
    "X.info()"
   ]
  },
  {
   "cell_type": "code",
   "execution_count": 18,
   "metadata": {},
   "outputs": [
    {
     "data": {
      "text/plain": [
       "count    506.000000\n",
       "mean      22.532806\n",
       "std        9.197104\n",
       "min        5.000000\n",
       "25%       17.025000\n",
       "50%       21.200000\n",
       "75%       25.000000\n",
       "max       50.000000\n",
       "Name: price, dtype: float64"
      ]
     },
     "execution_count": 18,
     "metadata": {},
     "output_type": "execute_result"
    }
   ],
   "source": [
    "y.describe()"
   ]
  },
  {
   "cell_type": "code",
   "execution_count": 19,
   "metadata": {},
   "outputs": [],
   "source": [
    "X['CHAS'] = X['CHAS'].astype(int)"
   ]
  },
  {
   "cell_type": "code",
   "execution_count": 20,
   "metadata": {},
   "outputs": [],
   "source": [
    "# Sempre começar com a nossa famosa separação treino e validação\n",
    "from sklearn.model_selection import train_test_split"
   ]
  },
  {
   "cell_type": "code",
   "execution_count": 21,
   "metadata": {},
   "outputs": [],
   "source": [
    "X_train, X_val, y_train, y_val = train_test_split(X, y, \n",
    "                                                  test_size=0.3)"
   ]
  },
  {
   "cell_type": "code",
   "execution_count": 22,
   "metadata": {},
   "outputs": [],
   "source": [
    "# Agora a gente treina nossa árvore de decisão para regressão\n",
    "from sklearn.tree import DecisionTreeRegressor"
   ]
  },
  {
   "cell_type": "code",
   "execution_count": 23,
   "metadata": {},
   "outputs": [],
   "source": [
    "# Instanciar a classe do modelo\n",
    "model_tree = DecisionTreeRegressor()"
   ]
  },
  {
   "cell_type": "code",
   "execution_count": 24,
   "metadata": {},
   "outputs": [
    {
     "data": {
      "text/plain": [
       "DecisionTreeRegressor()"
      ]
     },
     "execution_count": 24,
     "metadata": {},
     "output_type": "execute_result"
    }
   ],
   "source": [
    "# Treina o modelo\n",
    "model_tree.fit(X_train, y_train)"
   ]
  },
  {
   "cell_type": "code",
   "execution_count": 25,
   "metadata": {},
   "outputs": [],
   "source": [
    "# Faz predições no conjunto de validação\n",
    "y_pred = model_tree.predict(X_val)"
   ]
  },
  {
   "cell_type": "code",
   "execution_count": 26,
   "metadata": {},
   "outputs": [
    {
     "name": "stdout",
     "output_type": "stream",
     "text": [
      "[20.4 20.4 16.8 26.4 13.8 19.4 24.5 16.1 10.2 15.2 23.6 50.  20.1 20.\n",
      " 18.3 12.7 27.9 32.  22.6 50.  14.1 10.9 23.2 12.1 38.7 48.8 27.9 27.5\n",
      " 32.2 22.6 22.5 12.6 32.4 19.4 19.6  7.2 21.5 20.2 14.5 21.5 14.4 32.2\n",
      " 34.7 23.8 12.5 18.5 24.5 21.5 10.2 18.7 33.3 15.6 33.3 22.8 26.4 14.1\n",
      " 14.3 20.7 34.9 10.9  8.3 26.6 22.5 10.2 24.5 21.7 18.9 14.  50.  24.8\n",
      " 48.8 48.8 27.9 19.7 20.5 22.  21.2 14.1 23.5  8.5 19.  11.7 25.2 20.2\n",
      "  7.2 22.8 18.  15.  26.4 50.  17.3 22.5 27.1 17.4 50.  25.2 50.  24.5\n",
      " 20.1 19.5 14.3 29.8 17.3 20.4 24.5 14.6 12.8 17.5 14.1 27.5 20.  24.4\n",
      " 14.3 50.  13.4 15.2 22.8 34.7 23.8 20.2 23.1 19.6 21.6 21.7 16.5 24.7\n",
      " 19.5 23.  16.5 22.6 22.2 24.5 21.2 14.9 50.  16.7 22.9 27.9 23.2 33.1\n",
      " 16.1 20.1 14.5 17.5 10.8  8.7 29.8 37.  24.5 20.6 26.6 19.6]\n"
     ]
    }
   ],
   "source": [
    "print(y_pred)"
   ]
  },
  {
   "cell_type": "code",
   "execution_count": null,
   "metadata": {},
   "outputs": [
    {
     "data": {
      "image/png": "[encoded data removed]",
      "text/plain": [
       "<Figure size 1440x720 with 1 Axes>"
      ]
     },
     "metadata": {},
     "output_type": "display_data"
    }
   ],
   "source": [
    "# Como ficou a árvore?\n",
    "from sklearn.tree import plot_tree\n",
    "plt.figure(figsize=(20, 10))\n",
    "plot_tree(model_tree, feature_names=X_train.columns, max_depth=3, fontsize=9, filled=True)\n",
    "plt.show()\n"
   ]
  },
  {
   "cell_type": "code",
   "execution_count": 28,
   "metadata": {},
   "outputs": [],
   "source": [
    "from sklearn.metrics import mean_squared_error, mean_absolute_error, r2_score"
   ]
  },
  {
   "cell_type": "code",
   "execution_count": 31,
   "metadata": {},
   "outputs": [
    {
     "name": "stdout",
     "output_type": "stream",
     "text": [
      "Métricas para a Previsão:\n",
      "MAE:   2.666\n",
      "MSE:   13.34\n",
      "RMSE:  3.652\n",
      "R^2:   0.851\n"
     ]
    }
   ],
   "source": [
    "# Print das Métricas\n",
    "print('Métricas para a Previsão:')\n",
    "print('MAE:  ', np.round(mean_absolute_error(y_val, y_pred), decimals=3))\n",
    "print('MSE:  ', np.round(mean_squared_error(y_val, y_pred), decimals=3))\n",
    "print('RMSE: ', np.round(mean_squared_error(y_val, y_pred, squared=False), decimals=3))\n",
    "print('R^2:  ', np.round(r2_score(y_val, y_pred), decimals=3))"
   ]
  },
  {
   "cell_type": "code",
   "execution_count": 46,
   "metadata": {},
   "outputs": [
    {
     "data": {
      "text/plain": [
       "<AxesSubplot:xlabel='price'>"
      ]
     },
     "execution_count": 46,
     "metadata": {},
     "output_type": "execute_result"
    },
    {
     "data": {
      "image/png": "[encoded data removed]",
      "text/plain": [
       "<Figure size 432x288 with 1 Axes>"
      ]
     },
     "metadata": {
      "needs_background": "light"
     },
     "output_type": "display_data"
    }
   ],
   "source": [
    "num_range = np.arange(0,50, 1)\n",
    "sns.scatterplot(y = y_pred, x = y_val)\n",
    "sns.lineplot(x=num_range, y=num_range, color='red', markers='-')\n"
   ]
  },
  {
   "cell_type": "code",
   "execution_count": null,
   "metadata": {},
   "outputs": [],
   "source": [
    "# !pip install dtreeviz             # install dtreeviz for sklearn\n",
    "# !pip install dtreeviz[xgboost]    # install XGBoost related dependency\n",
    "# !pip install dtreeviz[pyspark]    # install pyspark related dependency\n",
    "# !pip install dtreeviz[lightgbm]   # install LightGBM related dependency"
   ]
  },
  {
   "cell_type": "code",
   "execution_count": null,
   "metadata": {},
   "outputs": [
    {
     "name": "stderr",
     "output_type": "stream",
     "text": [
      "/home/patricia/Documentos/escritorio_dados/venv/lib/python3.9/site-packages/sklearn/base.py:450: UserWarning: X does not have valid feature names, but DecisionTreeRegressor was fitted with feature names\n",
      "  warnings.warn(\n"
     ]
    }
   ],
   "source": [
    "from dtreeviz.trees import dtreeviz\n",
    "\n",
    "model_tree = DecisionTreeRegressor(max_depth=3)\n",
    "model_tree.fit(X_train, y_train)\n",
    "\n",
    "viz = dtreeviz(model_tree,\n",
    "               X_train,\n",
    "               y_train,\n",
    "               target_name='price',\n",
    "               feature_names=X_train.columns)\n",
    "\n",
    "viz.view()      "
   ]
  },
  {
   "cell_type": "code",
   "execution_count": null,
   "metadata": {},
   "outputs": [],
   "source": [
    "viz.view()"
   ]
  },
  {
   "cell_type": "markdown",
   "metadata": {},
   "source": [
    "Não é só o MSE que podemos escolher, existem outros critérios de split também. Se olharmos a documentação do scikit-learn, lá fala de 4 que podemos usar:\n",
    "\n",
    "> criterion : {\"mse\", \"friedman_mse\", \"mae\", \"poisson\"}, default=\"mse\"<br>\n",
    "  \n",
    ">   The function to measure the quality of a split. Supported criteria\n",
    "    are \"mse\" for the mean squared error, which is equal to variance\n",
    "    reduction as feature selection criterion and minimizes the L2 loss\n",
    "    using the mean of each terminal node, \"friedman_mse\", which uses mean\n",
    "    squared error with Friedman's improvement score for potential splits,\n",
    "    \"mae\" for the mean absolute error, which minimizes the L1 loss using\n",
    "    the median of each terminal node, and \"poisson\" which uses reduction in\n",
    "    Poisson deviance to find splits."
   ]
  },
  {
   "cell_type": "markdown",
   "metadata": {},
   "source": [
    "<font size=3> <b> Exercício 2: </b> </font>\n",
    "\n",
    "\n",
    "Tente reproduzir o que fizemos aqui para outro modelo de regressão.\n",
    "\n",
    "- As métricas melhoram ou pioram? <br>\n",
    "- Olhando o RMSE, qual modelo você usaria? <br>\n",
    "- Qual vai ser o RMSE no conjunto de testes? <br>"
   ]
  },
  {
   "cell_type": "code",
   "execution_count": null,
   "metadata": {},
   "outputs": [],
   "source": [
    "# Pegando o modelo de regressão linear do sklearn\n",
    "from sklearn.linear_model import LinearRegression"
   ]
  },
  {
   "cell_type": "code",
   "execution_count": null,
   "metadata": {},
   "outputs": [],
   "source": [
    "model_lin = LinearRegression()"
   ]
  },
  {
   "cell_type": "code",
   "execution_count": null,
   "metadata": {},
   "outputs": [],
   "source": [
    "# Como fazemos para treinar ele na base de treino? E para calcular os erros na base de validação?"
   ]
  },
  {
   "cell_type": "code",
   "execution_count": null,
   "metadata": {},
   "outputs": [],
   "source": [
    "# Qual melhor modelo? Como calcular o RMSE dele na base de testes?"
   ]
  },
  {
   "cell_type": "code",
   "execution_count": null,
   "metadata": {},
   "outputs": [],
   "source": [
    "# Vamos treinar o modelo escolhido usando TODOS os dados disponíveis.\n",
    "# Esse é o cara final que iríamos salvar e usar depois no dia a dia do negócio."
   ]
  },
  {
   "cell_type": "markdown",
   "metadata": {},
   "source": [
    "## Tarefa"
   ]
  },
  {
   "cell_type": "markdown",
   "metadata": {},
   "source": [
    "Vamos testar usar nossas árvores de decisão de regressão para o conjunto de dados \"Ames Housing\". Esse é um conjunto com diversas vendas de casas realizadas em Ames - Iowa.\n",
    "\n",
    "O objetivo é prever o valor da venda de uma casa (SalePrice) com base nas features escolhidas. O conjunto de dados já foi previamente separado em treino e teste. Assim, só precisa tomar cuidado em separar o treino da validação.\n",
    "\n",
    "Objetivos:\n",
    "> Compare a qualidade preditiva da árvore de decisão para três conjuntos diferentes de variáveis (estes conjuntos podem ter interseções, ou seja, variáveis em comum). \n",
    "> Compare qual melhor modelo, entre uma árvore de decisão e outro modelo de regressão."
   ]
  },
  {
   "cell_type": "code",
   "execution_count": null,
   "metadata": {},
   "outputs": [],
   "source": []
  },
  {
   "cell_type": "code",
   "execution_count": null,
   "metadata": {},
   "outputs": [],
   "source": []
  },
  {
   "cell_type": "code",
   "execution_count": null,
   "metadata": {},
   "outputs": [],
   "source": []
  },
  {
   "cell_type": "markdown",
   "metadata": {},
   "source": [
    "Loss functions provide more than just a static representation of how your model is performing—they’re how your algorithms fit data in the first place. Most machine learning algorithms use some sort of loss function in the process of optimization, or finding the best parameters (weights) for your data.\n",
    "\n",
    "For a simple example, consider linear regression. In traditional “least squares” regression, the line of best fit is determined through none other than MSE (hence the least squares moniker)! For each set of weights that the model tries, the MSE is calculated across all input examples. The model then optimizes the MSE functions—or in other words, makes it the lowest possible—through the use of an optimizer algorithm like Gradient Descent."
   ]
  },
  {
   "cell_type": "markdown",
   "metadata": {},
   "source": [
    "## Bibliografia e aprofundamento\n",
    "- [Métricas](https://scikit-learn.org/stable/modules/model_evaluation.html#scoring-parameter)\n",
    "- [Outras métricas](https://www.dataquest.io/blog/understanding-regression-error-metrics/) <br>\n",
    "- [Scikit-Learn: Outras métricas de erro para regressão](https://scikit-learn.org/stable/modules/classes.html#regression-metrics) <br>\n",
    "- [Biblioteca de visualização da árvore de decisão dtreeviz](https://github.com/parrt/dtreeviz) <br>"
   ]
  },
  {
   "cell_type": "markdown",
   "metadata": {},
   "source": []
  }
 ],
 "metadata": {
  "kernelspec": {
   "display_name": "Python 3 (ipykernel)",
   "language": "python",
   "name": "python3"
  },
  "language_info": {
   "codemirror_mode": {
    "name": "ipython",
    "version": 3
   },
   "file_extension": ".py",
   "mimetype": "text/x-python",
   "name": "python",
   "nbconvert_exporter": "python",
   "pygments_lexer": "ipython3",
   "version": "3.9.5"
  }
 },
 "nbformat": 4,
 "nbformat_minor": 2
}
