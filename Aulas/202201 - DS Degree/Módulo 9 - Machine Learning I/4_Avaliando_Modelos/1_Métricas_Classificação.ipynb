{
 "cells": [
  {
   "cell_type": "markdown",
   "metadata": {},
   "source": [
    "## 2. Métricas de avaliação\n",
    "Como podemos mensurar a qualidade do modelo? Ou, se treinarmos vários modelos diferentes, como determinar qual é o melhor?\n",
    "\n",
    "Para responder a estas perguntas, utilizamos as **métricas de avaliação** de modelos de classificação.\n",
    "\n",
    "Em um problema de classificação binária podemos ter as seguintes denominações:\n",
    "<br>\n",
    "* TP representa a quantidade de True Positive (Verdadeiro Positivo): classes 1 que foram previstas como 1\n",
    "* TN representa a quantidade de True Negative (Verdadeiro Negativo): classes 0 que foram previstas como 0\n",
    "* FP representa a quantidade de False Positive (Falso Positivo): classes 0 que foram previstas como 1\n",
    "* FN representa a quantidade de False Negative (Falso Negativo): classes 1 que foram previstas como 0\n",
    "\n",
    "<img src=\"images/compare.png\" />\n",
    "\n",
    "Existem diversas formas de realizar tais avaliações, cada uma observando o problema de um ponto de vista diferente.\n",
    "\n",
    "\n",
    "### 2.1 Acurácia\n",
    "*No geral, com que frequência o classificador acerta?* <br> <br>\n",
    "Também conhecida como **taxa de acerto**, essa medida de desempenho traz a proporção de acertos sobre o total de observações:\n",
    "\n",
    "$$\n",
    "\\frac{VP + VN}{VP + VN + FP + FN}\n",
    "$$ \n",
    "\n",
    "\n",
    "A taxa de acerto é um número *limitado entre 0 e 1*. Quanto *maior for o seu valor, mais acurado é o modelo M*.\n",
    "\n",
    "**Problema da acurácia (Null acurracy)** <br>\n",
    "Esse problema ocorre quando temos classes desbalanceadas. <br>\n",
    "\n",
    "Exemplo: Suponha um problema de classificação binária no qual 130 amostras são da classe 0 e 62 são da classe 1, ou seja, 67.7% dos nossos dados pertencem à classe 0.  <br> \n",
    "Isso significa que um modelo dumb que sempre desse 0 como resposta, estaria certo em 68% dos casos. <br>\n",
    "É importante sabermos esse valor para utilizar como baseline dos nossos modelos.\n"
   ]
  },
  {
   "cell_type": "markdown",
   "metadata": {},
   "source": [
    "### 2.2 Matriz de Confusão\n",
    "Uma alternativa para visualizar o desempenho de um modelo é analisar sua matriz de confusão, que ilustra o número de predições corretas e incorretas para cada classe do modelo.\n",
    "\n",
    "* As linhas dessa matriz representam as classes verdadeiras;\n",
    "\n",
    "* As colunas representam as classes preditas pelo modelo.\n",
    "\n",
    "Logo, cada elemento $ m_{ij} $ de uma matriz de confusão M apresenta o número de exemplos da classe **i** classificados como classe **j**.\n",
    "\n",
    "Dessa forma, os elementos na **diagonal principal** indicam as classificações feitas de forma **correta**, enquanto os **outros elementos** são os classificados de forma **incorreta**.\n",
    "\n",
    "<img src=\"images/matriz_confusao_explicada.svg\"  style=\"width:600px\" />\n",
    "\n",
    "Por meio dela, temos as medidas quantitativas de quais classes possuem maior dificuldade de serem corretamente classificadas, se existe alguma \"confusão\" recorrente entre duas classes e mais uma série de medidas quantitativas sobre o modelo, como veremos a seguir."
   ]
  },
  {
   "cell_type": "code",
   "execution_count": 85,
   "metadata": {},
   "outputs": [
    {
     "name": "stdout",
     "output_type": "stream",
     "text": [
      "Acurácia do modelo: 68.5%\n"
     ]
    },
    {
     "data": {
      "image/png": "[encoded data removed]",
      "text/plain": [
       "<Figure size 432x288 with 2 Axes>"
      ]
     },
     "metadata": {
      "needs_background": "light"
     },
     "output_type": "display_data"
    }
   ],
   "source": [
    "# Importar accuracy_score e plot_confusion_matrix do sklearn.metrics \n",
    "from sklearn.metrics import accuracy_score, plot_confusion_matrix\n",
    "\n",
    "# Calcular a acurácia utilizando o accuracy_score\n",
    "ac = accuracy_score(y_test, y_pred)\n",
    "\n",
    "print(f\"Acurácia do modelo: {ac:.1%}\")\n",
    "\n",
    "plot_confusion_matrix(clf, X_test, y_test);"
   ]
  },
  {
   "cell_type": "markdown",
   "metadata": {},
   "source": [
    "<img src=\"images/metricas_classificacao.svg\"  style=\"width:600px\" />\n",
    "\n",
    "### 2.3 Precision\n",
    "*When a positive value is predicted, how often is the prediction correct? How \"precise\" is the classifier when predicting positive instances?*\n",
    "\n",
    "> Definição: Precisão mede quantas amostras preditas como positivas eram de fato positivas\n",
    "     \n",
    "$$ Precision = \\frac{TP}{TP+FP}  $$\n",
    "\n",
    "O Precision varia entre 0 e 1.\n",
    "\n",
    "Quando utilizar:\n",
    "- você precisa restringir o número de FP\n",
    "- não há preocupação com os FN (já que eles são ignorados)\n",
    "- você quer ter certeza de que quando o modelo prediz um positivo ele de fato é positivo\n",
    "\n",
    "Exemplo: <br>\n",
    "- Uma indústria farmaceutica criou um novo teste de gravidez e quer que seu teste identifique corretamente quando a pessoa está grávida. Não há tanta preocupação com os FN pois em algum outro momento a gravidez será descoberta."
   ]
  },
  {
   "cell_type": "markdown",
   "metadata": {},
   "source": [
    "### 2.4 Recall / Sensitividade / True Positive Rate (TPR) <br>\n",
    "*Quão sensível é o classificador em prever instâncias positivas?* <br>\n",
    "*Dos valores preditos como positivos, quantos estavam de fato corretos?* <br>\n",
    "\n",
    "> Definição: De todos os casos positivos, quantos conseguimos identificar?\n",
    "\n",
    " O Recall varia entre 0 e 1.\n",
    "\n",
    "$$ Recall = \\frac{TP}{TP+FN} $$\n",
    "\n",
    "Quando utilizar: \n",
    "- você precisa restringir o número de FN\n",
    "- não há preocupação com os FP (já que eles são ignorados na fórmula)\n",
    "- você quer obter o maior número de valores positivos\n",
    "\n",
    "Exemplo:\n",
    "- Uma empresa farmaceutica que produz teste de detecção de câncer decide por usar o Recall a fim de reduzir os FN o máximo possível.\n",
    "\n",
    "\n",
    "### 2.5 Matriz de Confusão não binária\n",
    "<img src=\"images/matriz_3x3.svg\"  style=\"width:600px\" />\n"
   ]
  },
  {
   "cell_type": "markdown",
   "metadata": {},
   "source": [
    "## Qual métrica devo escolher?\n",
    "\n",
    "    Choice of metric depends on your business objective\n",
    "        Identify if FP or FN is more important to reduce\n",
    "        Choose metric with relevant variable (FP or FN in the equation)\n",
    "    Spam filter (positive class is \"spam\"):\n",
    "        Optimize for precision or specificity\n",
    "            precision\n",
    "                false positive as variable\n",
    "            specificity\n",
    "                false positive as variable\n",
    "        Because false negatives (spam goes to the inbox) are more acceptable than false positives (non-spam is caught by the spam filter)\n",
    "    Fraudulent transaction detector (positive class is \"fraud\"):\n",
    "        Optimize for sensitivity\n",
    "            FN as a variable\n",
    "        Because false positives (normal transactions that are flagged as possible fraud) are more acceptable than false negatives (fraudulent transactions that are not detected)\n"
   ]
  },
  {
   "cell_type": "markdown",
   "metadata": {},
   "source": [
    "## Precision-Recall Tradeoff\n",
    "Em geral, maximizar a precisão gera uma redução no valor de recall e vice-versa. Como resolver"
   ]
  },
  {
   "cell_type": "markdown",
   "metadata": {},
   "source": [
    "### F1 - Score\n",
    "É uma média harmônica entre Precision e Recall que penaliza quando um dos dois (ou ambos) é muito baixo (devido à multiplicação desses scores no numerador). O F1 varia entre 0 e 1.\n",
    "\n",
    "$$F1 = \\frac{2* Recall * Precision}{Recall + Precision}$$\n",
    "\n"
   ]
  },
  {
   "cell_type": "markdown",
   "metadata": {},
   "source": [
    "print(metrics.recall_score(y_test, y_pred_class))"
   ]
  },
  {
   "cell_type": "markdown",
   "metadata": {},
   "source": [
    "### Especificidade / True Negative Rate (TNR)\n",
    "*Quão sensível é o classificador em prever instâncias negativas?* <br>\n",
    "*Dos valores preditos como negativos, quantos estavam de fato corretos?* <br>\n",
    "$$specificity = \\frac{TN}{TN + FP} = 1-FPR$$"
   ]
  },
  {
   "cell_type": "markdown",
   "metadata": {},
   "source": [
    "\n",
    "## 2.4. Curva ROC\n",
    "Uma forma alternativa e comum de avaliar classificadores em problemas binários é por meio do uso das curvas ROC (Receiving Operating Characteristics).\n",
    "\n",
    "Seu gráfico é bidimensional: <br>\n",
    "        * eixo y -  True Positive Rate (TPR) = Recall <br>\n",
    "        * eixo x -  False Positive Rate (FPR) = (1 - Specificity) <br>\n",
    "\n",
    "Para um modelo genérico a curva ROC é parecida com a da figura a seguir:\n",
    "\n",
    "<img src=\"images/ROCAUC.png\"  style=\"width: 500px\" />\n",
    "\n",
    "Em resumo, a curva representa a relação entre a TPR e a FPR e quanto maior a **área abaixo da curva (AUC - Area Under Curve)** melhor é o modelo.\n",
    "<br>\n",
    "Para plotar essa curva nós precisamos setar diferentes valores de threshold que definem a qual classe pertence cada amostra e calcular qual o valor de TPR e FPR para esse threshold. Considere um problema de duas classes cada um com 100 amostras cujo gráfico de probabilidades se encontra abaixo. Selecionamos 7 thresholds distintos que irão definir à qual classe percence aquela amostra cujos valores estão exemplificados nas figuras.\n",
    "\n",
    "<img src=\"images/prob example.png\"  style=\"width: 1000px\" />\n",
    "\n",
    "\n",
    "| Threshold |                     Descrição                      | TPR = tp/tp+fn  | FPR = 1 - tn/fp+tn | \n",
    "|-----------|----------------------------------------------------|-----------------|-------------------|\n",
    "|     0     | Todas as amostras são classificadas como Positivas | 100/(100+0) = 1 | 1 - 0/(100+0) = 1 |\n",
    "|    100    | Todas as amostras são classificadas como Negativas | 0/(0+100) = 0   | 1 - 100/(0+100) = 0 |\n",
    "\n",
    "Idealmente queremos reduzir a quantidade de amostras classificadas incorretamente (FP e FN) e ao mesmo tempo tentar deixar a curva o mais próximo de TPR=1 e FPR=0 até que todas as amostras TP tenham sido classificadas. Dependendo da curva obtida com o modelo podemos classificá-lo de acordo com sua performance.\n",
    "\n",
    "<img src=\"images/ROCAUC2.png\"  style=\"width: 500px\" />\n",
    "\n",
    "Se um modelo se encontra na diagonal, dizemos que ele possui comportamento similar ao lançamento de uma moeda não viciada e temos um modelo aleatório.\n",
    "\n",
    "*Modelos abaixo dessa linha são piores que o aleatório, enquanto que acima são modelos melhores que o aleatório.*\n",
    "\n",
    "* Se um modelo está na **ponta superior esquerda** (chamada de céu ROC), dizemos que é um **modelo perfeito**;\n",
    "* Se está na **ponta superior direita ou inferior esqueda**, o modelo sempre classificará novos itens como positivos ou negativos, respectivamente;\n",
    "* Se está na **ponta inferior direita** (chamada de inferno ROC), esse modelo estará **sempre errando**.\n",
    "\n",
    "\n",
    "<img src=\"images/1341805045.jpg\" text=\"Fonte: www.datasciencecentral.com/roc-curve-explained-in-one-picture\"/>\n",
    "\n",
    "<br>\n",
    "\n",
    "### Comparando modelos distintos\n",
    "Com essa métrica também conseguimos comparar modelos distintos sendo o melhor deles aquele que se aproxima de TPR=1:\n",
    "\n",
    "<img src=\"images/compare_models.png\"  style=\"width: 500px\" />\n",
    "\n",
    "*Quando não há interseções entre as curvas de dois modelos, significa que o modelo que possui sua curva mais próxima do céu ROC é o que oferece melhor desempenho.*\n",
    "\n",
    "Ao existir cruzamentos, cada um terá um desempenho melhor que o outro de acordo com a região.\n",
    "\n",
    "## AUC-ROC (Area Under the ROC Curve)\n",
    "\n",
    "Entretanto, o mais comum é a determinação da **área abaixo da curva ROC (AUC-ROC)** para cada modelo e compará-los com essa medida única, que é compreendida entre 0 e 1:\n",
    "\n",
    "* Valores próximos de 1 são considerados os melhores;\n",
    "* Valores próximos a 0,5 são considerados aleatórios.\n",
    "<br>\n",
    "A AUC-ROC trás duas grandes vantagens:\n",
    "\n",
    "* Mede a qualidade da predição do modelo independente do threshold;\n",
    "* Robustez contra o desbalanceamento.\n",
    "\n",
    "Modelos com maior AUC conseguem discriminar melhor entre as classes.\n",
    "\n",
    "ROC AUC also tends to be dominated by the \"high FPR\" points. Depending on the application, these points may be the least relevant. Consider the case where the model is used to refer high-risk transactions to experts who will conduct further vetting. There may only be enough humans to assess 50 transactions per unit time; since the most highly-ranked transactions occur on the \"left hand\" size of the ROC curve by definition, this is also the region with the lowest area. So by looking at the whole AUC, you're optimistically biasing your results upwards, i.e. ROC AUC is buoyed by the observations \"to the right\" of the actual set of observations which humans will vet. (Illustration is simple. Draw a vertical line at FPR<0.5 on any ROC curve. The area to left is higher for all such vertical lines.) To avoid this, some people use partial ROC AUC, which has its own host of problems, chief among them that software implementations tend to assume that you're interested in truncation at some value of FPR. But in the case that you care about the top n transactions, this approach is obviously wrong because the top n transactions will happen at different FPR values for different classifiers. Standardization of partial AUC (to preserve the property that AUC < 0.5 is worse than random, 1 is perfect, 0 is worthless) incurs further difficulties.\n",
    "\n",
    "A AUC deve ser utilizada em classificações binárias. Para multi-classes podemos usar o one-to-rest AUC.\n",
    "<br>\n",
    "\n",
    "\n"
   ]
  },
  {
   "cell_type": "markdown",
   "metadata": {},
   "source": [
    "## Bibliografia:\n",
    "- [ROC-AUC](https://github.com/tunanottechnical/Jupyter-Workings/blob/master/Machine%20Learning%20in%20Mineral%20Exploration%20-%20Understanding%20Classification%20Evaluation%20Metrics.ipynb) <br>\n",
    "- [Métricas](https://www.kaggle.com/code/reighns/tutorial-on-machine-learning-metrics/notebook) <br>\n",
    "- [Google Crash Course](https://developers.google.com/machine-learning/crash-course/classification/precision-and-recall) <br>\n",
    " <br>\n",
    "\n",
    "\n",
    "## Material de Aprofundamento\n",
    "- [PR-Curve](https://www.kaggle.com/code/reighns/tutorial-on-machine-learning-metrics/notebook) <br>\n",
    "- [Adjusting the classification threshold](https://www.ritchieng.com/machine-learning-evaluate-classification-model/) <br>\n",
    "- [Gini](https://yassineelkhal.medium.com/confusion-matrix-auc-and-roc-curve-and-gini-clearly-explained-221788618eb2)\n",
    "- [Métricas](https://scikit-learn.org/stable/modules/model_evaluation.html#scoring-parameter)"
   ]
  },
  {
   "cell_type": "markdown",
   "metadata": {},
   "source": []
  }
 ],
 "metadata": {
  "kernelspec": {
   "display_name": "Python 3",
   "language": "python",
   "name": "python3"
  },
  "language_info": {
   "codemirror_mode": {
    "name": "ipython",
    "version": 3
   },
   "file_extension": ".py",
   "mimetype": "text/x-python",
   "name": "python",
   "nbconvert_exporter": "python",
   "pygments_lexer": "ipython3",
   "version": "3.9.5"
  }
 },
 "nbformat": 4,
 "nbformat_minor": 4
}
