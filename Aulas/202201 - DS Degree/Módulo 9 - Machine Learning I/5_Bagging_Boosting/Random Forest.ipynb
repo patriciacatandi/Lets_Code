{
 "cells": [
  {
   "cell_type": "markdown",
   "metadata": {},
   "source": [
    "## Ensemble: Bagging x Boosting x Stacking"
   ]
  },
  {
   "cell_type": "markdown",
   "metadata": {},
   "source": [
    "Ensemble nada mais é do que a sabedoria da maioria. Aqui combinamos vários modelos mais simples em um único modelo robusto a fim de reduzir o viés, variância e/ou aumentar a acurácia.\n",
    "<br>\n",
    "\n",
    "\n",
    "## Tipos de Ensemble:\n",
    "- __1. Bagging (short for bootstrap aggregation)__: Treina paralelamente N modelos mais fracos (geralmente do mesmo tipo - homogênio) com N subsets distintos criados com amostragem randômica e reposição. Cada modelo é avaliado na fase de teste com o label definido pela moda (classificação) ou pela média dos valores (regressão). Os métodos de Bagging reduzem a variância da predição. <br>\n",
    "Algoritimos  famosos: Random Forest <br>\n",
    "<img src='images/bagging.png' style=\"width:600px\"  text=\"http://cheatsheets.aqeel-anwar.com\" />  \n",
    "<br>\n",
    "<br>\n",
    "- __2. Boosting__: Treina N modelos mais fracos (geralmente do mesmo tipo - homogênio) de forma sequencial. Os pontos que foram classificados erroneamente recebem um peso maior para entrar no próximo modelo. Na fase de teste, cada modelo é avaliado com base do erro de teste de cada modelo, a predição é feita com um peso sobre a votação. Os métodos de Boosting reduzem o viés da predição. <br>\n",
    "Algoritimos  famosos: AdaBoost, Gradient Boosting, XGBoost, CatBoost, LightGBM (Light Gradient Boosting Machine) <br>\n",
    "<img src='images/boosting.png' style=\"width:600px\" text=\"Fonte: http://cheatsheets.aqeel-anwar.com\" />\n",
    "<br>\n",
    "<br>\n",
    "- __3. Stacking__: Treina N modelos mais fracos (geralmente de tipos distintos - heterogênio) em um subset do conjunto de dados. Uma vez que os modelos foram treinados, cria-se um novo modelo (meta learning) para combinar a saída de cada um dos modelos mais fracos resultando na predição final. Isso é feito no segundo subset dos dados. Na fase de teste, cada modelo mais fraco faz sua predição independentemente e esses labels entram como features do meta learner para gerar a predição final.\n",
    "<br>\n",
    "<img src='images/stacking.png' style=\"width:600px\" text=\"Fonte: http://cheatsheets.aqeel-anwar.com\" />\n",
    "<br>\n",
    "<br>\n",
    "\n",
    "##### Resumo:\n",
    "<img src='images/comparison_img.png' style=\"width:600px\" text=\"Fonte: https://quantdare.com/what-is-the-difference-between-bagging-and-boosting\" />\n",
    "\n",
    "<img src='images/comparison.png' style=\"width:600px\" />\n"
   ]
  },
  {
   "cell_type": "markdown",
   "metadata": {},
   "source": []
  },
  {
   "cell_type": "markdown",
   "metadata": {},
   "source": [
    "## Bagging: Random Forest\n",
    "\n",
    "Uma técnica muito interessante baseada em árvores é o **Random Forest**. O random forest faz um ensemble de modelos de árvore de decisão, mas com uma melhoria: __cada vez que fazemos um split das árvores de decisão, apenas uma amostra aleatória das features é comparada para escolher o split__ (max_features e bootstrap_features).\n",
    "\n",
    "Dessa forma, cada árvoe será treinada em um dataset diferente (devido ao bootstrap) e assim, cada modelo cometerá erros em diferentes lugares gerando um viés e uma variância diferente para cada um. Com a etapa de agregação, média na regressão e moda na classificação, tanto o viés quanto a variância são reduzidos. Com isso as RFs atacam o principal problema das DTs que é a variância.\n",
    "\n",
    "<img src=\"images/rf.png\" width=800>\n",
    "\n",
    "No final de todo o processo de construção das árvores, as features mais importantes terão uma probabilidade maior de aparecer próximas às raízes das árvores (root), enquanto features menos importantes aparecerão próximas aos nós finais (leaves). Dessa forma, é possível estimar a importância de uma feature calulando a profundidade média em que ela aparece ao longo de todas as árvores.\n",
    "\n",
    "Agora pensem: é ruim termos duas variáveis muito correlacionas nesse tipo de modelagem?"
   ]
  },
  {
   "cell_type": "markdown",
   "metadata": {},
   "source": [
    "[Documentação do RF](https://scikit-learn.org/stable/modules/generated/sklearn.ensemble.RandomForestClassifier.html)"
   ]
  },
  {
   "cell_type": "markdown",
   "metadata": {},
   "source": [
    "#### Pré-processamento dos dados"
   ]
  },
  {
   "cell_type": "code",
   "execution_count": 1,
   "metadata": {
    "ExecuteTime": {
     "end_time": "2021-01-13T23:09:50.460468Z",
     "start_time": "2021-01-13T23:09:42.579330Z"
    }
   },
   "outputs": [],
   "source": [
    "import pandas as pd\n",
    "import numpy as np\n",
    "import matplotlib.pyplot as plt\n",
    "import seaborn as sns\n",
    "\n",
    "import warnings\n",
    "warnings.filterwarnings(\"ignore\")"
   ]
  },
  {
   "cell_type": "code",
   "execution_count": 22,
   "metadata": {},
   "outputs": [
    {
     "data": {
      "text/html": [
       "<div>\n",
       "<style scoped>\n",
       "    .dataframe tbody tr th:only-of-type {\n",
       "        vertical-align: middle;\n",
       "    }\n",
       "\n",
       "    .dataframe tbody tr th {\n",
       "        vertical-align: top;\n",
       "    }\n",
       "\n",
       "    .dataframe thead th {\n",
       "        text-align: right;\n",
       "    }\n",
       "</style>\n",
       "<table border=\"1\" class=\"dataframe\">\n",
       "  <thead>\n",
       "    <tr style=\"text-align: right;\">\n",
       "      <th></th>\n",
       "      <th>age</th>\n",
       "      <th>job</th>\n",
       "      <th>marital</th>\n",
       "      <th>education</th>\n",
       "      <th>default</th>\n",
       "      <th>balance</th>\n",
       "      <th>housing</th>\n",
       "      <th>loan</th>\n",
       "      <th>contact</th>\n",
       "      <th>day</th>\n",
       "      <th>month</th>\n",
       "      <th>duration</th>\n",
       "      <th>campaign</th>\n",
       "      <th>pdays</th>\n",
       "      <th>previous</th>\n",
       "      <th>poutcome</th>\n",
       "      <th>Target</th>\n",
       "    </tr>\n",
       "  </thead>\n",
       "  <tbody>\n",
       "    <tr>\n",
       "      <th>0</th>\n",
       "      <td>58</td>\n",
       "      <td>management</td>\n",
       "      <td>married</td>\n",
       "      <td>tertiary</td>\n",
       "      <td>no</td>\n",
       "      <td>2143</td>\n",
       "      <td>yes</td>\n",
       "      <td>no</td>\n",
       "      <td>unknown</td>\n",
       "      <td>5</td>\n",
       "      <td>may</td>\n",
       "      <td>261</td>\n",
       "      <td>1</td>\n",
       "      <td>-1</td>\n",
       "      <td>0</td>\n",
       "      <td>unknown</td>\n",
       "      <td>no</td>\n",
       "    </tr>\n",
       "    <tr>\n",
       "      <th>1</th>\n",
       "      <td>44</td>\n",
       "      <td>technician</td>\n",
       "      <td>single</td>\n",
       "      <td>secondary</td>\n",
       "      <td>no</td>\n",
       "      <td>29</td>\n",
       "      <td>yes</td>\n",
       "      <td>no</td>\n",
       "      <td>unknown</td>\n",
       "      <td>5</td>\n",
       "      <td>may</td>\n",
       "      <td>151</td>\n",
       "      <td>1</td>\n",
       "      <td>-1</td>\n",
       "      <td>0</td>\n",
       "      <td>unknown</td>\n",
       "      <td>no</td>\n",
       "    </tr>\n",
       "    <tr>\n",
       "      <th>2</th>\n",
       "      <td>33</td>\n",
       "      <td>entrepreneur</td>\n",
       "      <td>married</td>\n",
       "      <td>secondary</td>\n",
       "      <td>no</td>\n",
       "      <td>2</td>\n",
       "      <td>yes</td>\n",
       "      <td>yes</td>\n",
       "      <td>unknown</td>\n",
       "      <td>5</td>\n",
       "      <td>may</td>\n",
       "      <td>76</td>\n",
       "      <td>1</td>\n",
       "      <td>-1</td>\n",
       "      <td>0</td>\n",
       "      <td>unknown</td>\n",
       "      <td>no</td>\n",
       "    </tr>\n",
       "    <tr>\n",
       "      <th>3</th>\n",
       "      <td>47</td>\n",
       "      <td>blue-collar</td>\n",
       "      <td>married</td>\n",
       "      <td>unknown</td>\n",
       "      <td>no</td>\n",
       "      <td>1506</td>\n",
       "      <td>yes</td>\n",
       "      <td>no</td>\n",
       "      <td>unknown</td>\n",
       "      <td>5</td>\n",
       "      <td>may</td>\n",
       "      <td>92</td>\n",
       "      <td>1</td>\n",
       "      <td>-1</td>\n",
       "      <td>0</td>\n",
       "      <td>unknown</td>\n",
       "      <td>no</td>\n",
       "    </tr>\n",
       "    <tr>\n",
       "      <th>4</th>\n",
       "      <td>33</td>\n",
       "      <td>unknown</td>\n",
       "      <td>single</td>\n",
       "      <td>unknown</td>\n",
       "      <td>no</td>\n",
       "      <td>1</td>\n",
       "      <td>no</td>\n",
       "      <td>no</td>\n",
       "      <td>unknown</td>\n",
       "      <td>5</td>\n",
       "      <td>may</td>\n",
       "      <td>198</td>\n",
       "      <td>1</td>\n",
       "      <td>-1</td>\n",
       "      <td>0</td>\n",
       "      <td>unknown</td>\n",
       "      <td>no</td>\n",
       "    </tr>\n",
       "  </tbody>\n",
       "</table>\n",
       "</div>"
      ],
      "text/plain": [
       "   age           job  marital  education default  balance housing loan  \\\n",
       "0   58    management  married   tertiary      no     2143     yes   no   \n",
       "1   44    technician   single  secondary      no       29     yes   no   \n",
       "2   33  entrepreneur  married  secondary      no        2     yes  yes   \n",
       "3   47   blue-collar  married    unknown      no     1506     yes   no   \n",
       "4   33       unknown   single    unknown      no        1      no   no   \n",
       "\n",
       "   contact  day month  duration  campaign  pdays  previous poutcome Target  \n",
       "0  unknown    5   may       261         1     -1         0  unknown     no  \n",
       "1  unknown    5   may       151         1     -1         0  unknown     no  \n",
       "2  unknown    5   may        76         1     -1         0  unknown     no  \n",
       "3  unknown    5   may        92         1     -1         0  unknown     no  \n",
       "4  unknown    5   may       198         1     -1         0  unknown     no  "
      ]
     },
     "execution_count": 22,
     "metadata": {},
     "output_type": "execute_result"
    }
   ],
   "source": [
    "df = pd.read_csv(\"../data/bank-full.csv\") \n",
    "df.head()"
   ]
  },
  {
   "cell_type": "code",
   "execution_count": 24,
   "metadata": {},
   "outputs": [
    {
     "data": {
      "text/plain": [
       "Index(['job', 'marital', 'education', 'default', 'housing', 'loan', 'contact',\n",
       "       'month', 'poutcome', 'Target'],\n",
       "      dtype='object')"
      ]
     },
     "execution_count": 24,
     "metadata": {},
     "output_type": "execute_result"
    }
   ],
   "source": [
    "# Selecionar as colunas categóricas\n",
    "cat_columns = df.select_dtypes(['object']).columns\n",
    "\n",
    "cat_columns\n"
   ]
  },
  {
   "cell_type": "code",
   "execution_count": 26,
   "metadata": {},
   "outputs": [
    {
     "name": "stdout",
     "output_type": "stream",
     "text": [
      "job: ['management' 'technician' 'entrepreneur' 'blue-collar' 'unknown'\n",
      " 'retired' 'admin.' 'services' 'self-employed' 'unemployed' 'housemaid'\n",
      " 'student']\n",
      "marital: ['married' 'single' 'divorced']\n",
      "education: ['tertiary' 'secondary' 'unknown' 'primary']\n",
      "default: ['no' 'yes']\n",
      "housing: ['yes' 'no']\n",
      "loan: ['no' 'yes']\n",
      "contact: ['unknown' 'cellular' 'telephone']\n",
      "month: ['may' 'jun' 'jul' 'aug' 'oct' 'nov' 'dec' 'jan' 'feb' 'mar' 'apr' 'sep']\n",
      "poutcome: ['unknown' 'failure' 'other' 'success']\n",
      "Target: ['no' 'yes']\n"
     ]
    },
    {
     "data": {
      "text/plain": [
       "[None, None, None, None, None, None, None, None, None, None]"
      ]
     },
     "execution_count": 26,
     "metadata": {},
     "output_type": "execute_result"
    }
   ],
   "source": [
    "# Printa valores de cada coluna categórica\n",
    "[print(f\"{c}: {df[c].unique()}\") for c in cat_columns]"
   ]
  },
  {
   "cell_type": "code",
   "execution_count": 29,
   "metadata": {},
   "outputs": [],
   "source": [
    "# Converte colunas categóricas em numéricas\n",
    "df[cat_columns] = df[cat_columns].astype('category').apply(lambda x: x.cat.codes)"
   ]
  },
  {
   "cell_type": "code",
   "execution_count": 30,
   "metadata": {},
   "outputs": [
    {
     "data": {
      "text/html": [
       "<div>\n",
       "<style scoped>\n",
       "    .dataframe tbody tr th:only-of-type {\n",
       "        vertical-align: middle;\n",
       "    }\n",
       "\n",
       "    .dataframe tbody tr th {\n",
       "        vertical-align: top;\n",
       "    }\n",
       "\n",
       "    .dataframe thead th {\n",
       "        text-align: right;\n",
       "    }\n",
       "</style>\n",
       "<table border=\"1\" class=\"dataframe\">\n",
       "  <thead>\n",
       "    <tr style=\"text-align: right;\">\n",
       "      <th></th>\n",
       "      <th>age</th>\n",
       "      <th>job</th>\n",
       "      <th>marital</th>\n",
       "      <th>education</th>\n",
       "      <th>default</th>\n",
       "      <th>balance</th>\n",
       "      <th>housing</th>\n",
       "      <th>loan</th>\n",
       "      <th>contact</th>\n",
       "      <th>day</th>\n",
       "      <th>month</th>\n",
       "      <th>duration</th>\n",
       "      <th>campaign</th>\n",
       "      <th>pdays</th>\n",
       "      <th>previous</th>\n",
       "      <th>poutcome</th>\n",
       "      <th>Target</th>\n",
       "    </tr>\n",
       "  </thead>\n",
       "  <tbody>\n",
       "    <tr>\n",
       "      <th>0</th>\n",
       "      <td>58</td>\n",
       "      <td>4</td>\n",
       "      <td>1</td>\n",
       "      <td>2</td>\n",
       "      <td>0</td>\n",
       "      <td>2143</td>\n",
       "      <td>1</td>\n",
       "      <td>0</td>\n",
       "      <td>2</td>\n",
       "      <td>5</td>\n",
       "      <td>8</td>\n",
       "      <td>261</td>\n",
       "      <td>1</td>\n",
       "      <td>-1</td>\n",
       "      <td>0</td>\n",
       "      <td>3</td>\n",
       "      <td>0</td>\n",
       "    </tr>\n",
       "    <tr>\n",
       "      <th>1</th>\n",
       "      <td>44</td>\n",
       "      <td>9</td>\n",
       "      <td>2</td>\n",
       "      <td>1</td>\n",
       "      <td>0</td>\n",
       "      <td>29</td>\n",
       "      <td>1</td>\n",
       "      <td>0</td>\n",
       "      <td>2</td>\n",
       "      <td>5</td>\n",
       "      <td>8</td>\n",
       "      <td>151</td>\n",
       "      <td>1</td>\n",
       "      <td>-1</td>\n",
       "      <td>0</td>\n",
       "      <td>3</td>\n",
       "      <td>0</td>\n",
       "    </tr>\n",
       "    <tr>\n",
       "      <th>2</th>\n",
       "      <td>33</td>\n",
       "      <td>2</td>\n",
       "      <td>1</td>\n",
       "      <td>1</td>\n",
       "      <td>0</td>\n",
       "      <td>2</td>\n",
       "      <td>1</td>\n",
       "      <td>1</td>\n",
       "      <td>2</td>\n",
       "      <td>5</td>\n",
       "      <td>8</td>\n",
       "      <td>76</td>\n",
       "      <td>1</td>\n",
       "      <td>-1</td>\n",
       "      <td>0</td>\n",
       "      <td>3</td>\n",
       "      <td>0</td>\n",
       "    </tr>\n",
       "    <tr>\n",
       "      <th>3</th>\n",
       "      <td>47</td>\n",
       "      <td>1</td>\n",
       "      <td>1</td>\n",
       "      <td>3</td>\n",
       "      <td>0</td>\n",
       "      <td>1506</td>\n",
       "      <td>1</td>\n",
       "      <td>0</td>\n",
       "      <td>2</td>\n",
       "      <td>5</td>\n",
       "      <td>8</td>\n",
       "      <td>92</td>\n",
       "      <td>1</td>\n",
       "      <td>-1</td>\n",
       "      <td>0</td>\n",
       "      <td>3</td>\n",
       "      <td>0</td>\n",
       "    </tr>\n",
       "    <tr>\n",
       "      <th>4</th>\n",
       "      <td>33</td>\n",
       "      <td>11</td>\n",
       "      <td>2</td>\n",
       "      <td>3</td>\n",
       "      <td>0</td>\n",
       "      <td>1</td>\n",
       "      <td>0</td>\n",
       "      <td>0</td>\n",
       "      <td>2</td>\n",
       "      <td>5</td>\n",
       "      <td>8</td>\n",
       "      <td>198</td>\n",
       "      <td>1</td>\n",
       "      <td>-1</td>\n",
       "      <td>0</td>\n",
       "      <td>3</td>\n",
       "      <td>0</td>\n",
       "    </tr>\n",
       "  </tbody>\n",
       "</table>\n",
       "</div>"
      ],
      "text/plain": [
       "   age  job  marital  education  default  balance  housing  loan  contact  \\\n",
       "0   58    4        1          2        0     2143        1     0        2   \n",
       "1   44    9        2          1        0       29        1     0        2   \n",
       "2   33    2        1          1        0        2        1     1        2   \n",
       "3   47    1        1          3        0     1506        1     0        2   \n",
       "4   33   11        2          3        0        1        0     0        2   \n",
       "\n",
       "   day  month  duration  campaign  pdays  previous  poutcome  Target  \n",
       "0    5      8       261         1     -1         0         3       0  \n",
       "1    5      8       151         1     -1         0         3       0  \n",
       "2    5      8        76         1     -1         0         3       0  \n",
       "3    5      8        92         1     -1         0         3       0  \n",
       "4    5      8       198         1     -1         0         3       0  "
      ]
     },
     "execution_count": 30,
     "metadata": {},
     "output_type": "execute_result"
    }
   ],
   "source": [
    "df.head()"
   ]
  },
  {
   "cell_type": "code",
   "execution_count": 59,
   "metadata": {},
   "outputs": [],
   "source": [
    "#### Separar feature e target\n",
    "y = df['Target'].copy()\n",
    "x = df.drop('Target', axis=1).copy()"
   ]
  },
  {
   "cell_type": "code",
   "execution_count": 60,
   "metadata": {},
   "outputs": [],
   "source": [
    "#### particionar dados\n",
    "from sklearn.model_selection import train_test_split \n",
    "\n",
    "x_train, x_test, y_train, y_test = train_test_split(x, y, stratify=y, test_size=0.2, random_state=42) "
   ]
  },
  {
   "cell_type": "code",
   "execution_count": 61,
   "metadata": {
    "ExecuteTime": {
     "end_time": "2021-01-14T00:17:58.938005Z",
     "start_time": "2021-01-14T00:17:58.933966Z"
    }
   },
   "outputs": [],
   "source": [
    "# Vamos importar o modelo de classificação do Random Forest da biblioteca do sklearn.ensemble\n",
    "from sklearn.ensemble import RandomForestClassifier"
   ]
  },
  {
   "cell_type": "code",
   "execution_count": 81,
   "metadata": {
    "ExecuteTime": {
     "end_time": "2021-01-14T00:23:12.896000Z",
     "start_time": "2021-01-14T00:23:05.630906Z"
    }
   },
   "outputs": [],
   "source": [
    "# Instancia a classe do modelo\n",
    "model_rf = RandomForestClassifier(random_state=42)\n",
    "\n",
    "# Faz o treino na base de treino\n",
    "model_rf.fit(x_train, y_train)\n",
    "\n",
    "# Faz a predição do modelo treinado na base de teste\n",
    "y_pred_rf = model_rf.predict(x_test)"
   ]
  },
  {
   "cell_type": "code",
   "execution_count": 90,
   "metadata": {},
   "outputs": [
    {
     "data": {
      "text/plain": [
       "{'bootstrap': True,\n",
       " 'ccp_alpha': 0.0,\n",
       " 'class_weight': None,\n",
       " 'criterion': 'gini',\n",
       " 'max_depth': None,\n",
       " 'max_features': 'auto',\n",
       " 'max_leaf_nodes': None,\n",
       " 'max_samples': None,\n",
       " 'min_impurity_decrease': 0.0,\n",
       " 'min_samples_leaf': 1,\n",
       " 'min_samples_split': 2,\n",
       " 'min_weight_fraction_leaf': 0.0,\n",
       " 'n_estimators': 100,\n",
       " 'n_jobs': None,\n",
       " 'oob_score': False,\n",
       " 'random_state': 42,\n",
       " 'verbose': 0,\n",
       " 'warm_start': False}"
      ]
     },
     "execution_count": 90,
     "metadata": {},
     "output_type": "execute_result"
    }
   ],
   "source": [
    "# Obter parâmetros utilizados no modelo com o get_params\n",
    "model_rf.get_params()"
   ]
  },
  {
   "cell_type": "code",
   "execution_count": 94,
   "metadata": {},
   "outputs": [
    {
     "data": {
      "text/plain": [
       "array([[0.96, 0.04],\n",
       "       [0.94, 0.06],\n",
       "       [0.98, 0.02],\n",
       "       ...,\n",
       "       [0.78, 0.22],\n",
       "       [1.  , 0.  ],\n",
       "       [1.  , 0.  ]])"
      ]
     },
     "execution_count": 94,
     "metadata": {},
     "output_type": "execute_result"
    }
   ],
   "source": [
    "# Obter probabilidades estimadas para cada classe\n",
    "model_rf.predict_proba(x_test)"
   ]
  },
  {
   "cell_type": "markdown",
   "metadata": {},
   "source": [
    "#### Avaliar o modelo"
   ]
  },
  {
   "cell_type": "code",
   "execution_count": 63,
   "metadata": {},
   "outputs": [
    {
     "data": {
      "text/plain": [
       "0    7985\n",
       "1    1058\n",
       "Name: Target, dtype: int64"
      ]
     },
     "execution_count": 63,
     "metadata": {},
     "output_type": "execute_result"
    }
   ],
   "source": [
    "y_test.value_counts()"
   ]
  },
  {
   "cell_type": "code",
   "execution_count": 68,
   "metadata": {
    "ExecuteTime": {
     "end_time": "2021-01-14T00:23:13.029226Z",
     "start_time": "2021-01-14T00:23:12.992545Z"
    }
   },
   "outputs": [
    {
     "name": "stdout",
     "output_type": "stream",
     "text": [
      "              precision    recall  f1-score   support\n",
      "\n",
      "           0       0.93      0.97      0.95      7985\n",
      "           1       0.66      0.42      0.51      1058\n",
      "\n",
      "    accuracy                           0.91      9043\n",
      "   macro avg       0.79      0.69      0.73      9043\n",
      "weighted avg       0.89      0.91      0.90      9043\n",
      "\n"
     ]
    }
   ],
   "source": [
    "# Importa classes que serão utilizadas do sklearn.metrics\n",
    "from sklearn.metrics import ConfusionMatrixDisplay, classification_report, confusion_matrix\n",
    "\n",
    "# Gera o classification_report para o teste\n",
    "print(classification_report(y_test, y_pred_rf))"
   ]
  },
  {
   "cell_type": "code",
   "execution_count": 82,
   "metadata": {},
   "outputs": [
    {
     "data": {
      "text/plain": [
       "<sklearn.metrics._plot.confusion_matrix.ConfusionMatrixDisplay at 0x7f275be59d90>"
      ]
     },
     "execution_count": 82,
     "metadata": {},
     "output_type": "execute_result"
    },
    {
     "data": {
      "image/png": "[encoded data removed]",
      "text/plain": [
       "<Figure size 432x288 with 2 Axes>"
      ]
     },
     "metadata": {
      "needs_background": "light"
     },
     "output_type": "display_data"
    }
   ],
   "source": [
    "# Calcula a confusion_matrix para o teste\n",
    "cm_rf = confusion_matrix(y_test, y_pred_rf)\n",
    "\n",
    "# Plota a confusion matrix\n",
    "ConfusionMatrixDisplay(cm_rf).plot()"
   ]
  },
  {
   "cell_type": "markdown",
   "metadata": {},
   "source": [
    "### Boosting: XGBoost\n",
    "Cada vez que o XGBoost acrescenta uma nova árvore no ensemble, ele a usa para corrigIr os erros residuais do último grupo de árvores. <br>\n",
    "[Documentação](https://xgboost.readthedocs.io/en/stable/python/python_api.html#module-xgboost.sklearn)"
   ]
  },
  {
   "cell_type": "markdown",
   "metadata": {},
   "source": [
    "<img src=\"https://miro.medium.com/max/953/1*wpVgt07J_TeH3jEdc3A50g.png\" width=700 />"
   ]
  },
  {
   "cell_type": "code",
   "execution_count": 71,
   "metadata": {},
   "outputs": [
    {
     "name": "stdout",
     "output_type": "stream",
     "text": [
      "[11:22:18] WARNING: ../src/learner.cc:1115: Starting in XGBoost 1.3.0, the default evaluation metric used with the objective 'binary:logistic' was changed from 'error' to 'logloss'. Explicitly set eval_metric if you'd like to restore the old behavior.\n"
     ]
    },
    {
     "data": {
      "text/plain": [
       "XGBClassifier(base_score=0.5, booster='gbtree', colsample_bylevel=1,\n",
       "              colsample_bynode=1, colsample_bytree=1, enable_categorical=False,\n",
       "              gamma=0, gpu_id=-1, importance_type=None,\n",
       "              interaction_constraints='', learning_rate=0.300000012,\n",
       "              max_delta_step=0, max_depth=6, min_child_weight=1, missing=nan,\n",
       "              monotone_constraints='()', n_estimators=100, n_jobs=8,\n",
       "              num_parallel_tree=1, predictor='auto', random_state=0,\n",
       "              reg_alpha=0, reg_lambda=1, scale_pos_weight=1, subsample=1,\n",
       "              tree_method='exact', validate_parameters=1, verbosity=None)"
      ]
     },
     "execution_count": 71,
     "metadata": {},
     "output_type": "execute_result"
    }
   ],
   "source": [
    "# Vamos importar o modelo de classificação do XGBoost da biblioteca do xgboost\n",
    "from xgboost import XGBClassifier\n",
    "\n",
    "# Instancia a classe do modelo\n",
    "xgb = XGBClassifier()\n",
    "\n",
    "# Faz o treino na base de treino\n",
    "xgb.fit(x_train, y_train)"
   ]
  },
  {
   "cell_type": "markdown",
   "metadata": {},
   "source": [
    "### Avaliar modelo"
   ]
  },
  {
   "cell_type": "code",
   "execution_count": 73,
   "metadata": {},
   "outputs": [
    {
     "name": "stdout",
     "output_type": "stream",
     "text": [
      "              precision    recall  f1-score   support\n",
      "\n",
      "           0       0.93      0.96      0.95      7985\n",
      "           1       0.63      0.47      0.54      1058\n",
      "\n",
      "    accuracy                           0.91      9043\n",
      "   macro avg       0.78      0.72      0.74      9043\n",
      "weighted avg       0.90      0.91      0.90      9043\n",
      "\n"
     ]
    }
   ],
   "source": [
    "# Faz a predição do modelo treinado na base de teste\n",
    "y_pred_xgb = xgb.predict(x_test)\n",
    "\n",
    "# Verifica o modelo com o classification_report\n",
    "print(classification_report(y_test, y_pred_xgb))"
   ]
  },
  {
   "cell_type": "code",
   "execution_count": 83,
   "metadata": {},
   "outputs": [
    {
     "data": {
      "text/plain": [
       "<sklearn.metrics._plot.confusion_matrix.ConfusionMatrixDisplay at 0x7f275bdba370>"
      ]
     },
     "execution_count": 83,
     "metadata": {},
     "output_type": "execute_result"
    },
    {
     "data": {
      "image/png": "[encoded data removed]",
      "text/plain": [
       "<Figure size 432x288 with 2 Axes>"
      ]
     },
     "metadata": {
      "needs_background": "light"
     },
     "output_type": "display_data"
    }
   ],
   "source": [
    "# Calcula a confusion_matrix para o teste\n",
    "cm_xgb = confusion_matrix(y_test, y_pred_xgb)\n",
    "\n",
    "# Plota a confusion matrix\n",
    "ConfusionMatrixDisplay(cm_xgb).plot()"
   ]
  },
  {
   "cell_type": "markdown",
   "metadata": {},
   "source": [
    "## Feature importance"
   ]
  },
  {
   "cell_type": "code",
   "execution_count": 75,
   "metadata": {
    "ExecuteTime": {
     "end_time": "2021-01-14T00:46:32.924968Z",
     "start_time": "2021-01-14T00:46:32.918899Z"
    },
    "scrolled": true
   },
   "outputs": [
    {
     "data": {
      "text/plain": [
       "<AxesSubplot:title={'center':'Feature importance'}, xlabel='F score', ylabel='Features'>"
      ]
     },
     "execution_count": 75,
     "metadata": {},
     "output_type": "execute_result"
    },
    {
     "data": {
      "image/png": "[encoded data removed]",
      "text/plain": [
       "<Figure size 432x288 with 1 Axes>"
      ]
     },
     "metadata": {
      "needs_background": "light"
     },
     "output_type": "display_data"
    }
   ],
   "source": [
    "# Importa o método plot_importance do xgboost\n",
    "from xgboost import plot_importance\n",
    "\n",
    "plot_importance(xgb)"
   ]
  },
  {
   "cell_type": "code",
   "execution_count": 88,
   "metadata": {},
   "outputs": [
    {
     "data": {
      "image/svg+xml": "<?xml version=\"1.0\" encoding=\"UTF-8\" standalone=\"no\"?>\n<!DOCTYPE svg PUBLIC \"-//W3C//DTD SVG 1.1//EN\"\n \"http://www.w3.org/Graphics/SVG/1.1/DTD/svg11.dtd\">\n<!-- Generated by graphviz version 2.43.0 (0)\n -->\n<!-- Title: %3 Pages: 1 -->\n<svg width=\"12184pt\" height=\"566pt\"\n viewBox=\"0.00 0.00 12183.93 566.00\" xmlns=\"http://www.w3.org/2000/svg\" xmlns:xlink=\"http://www.w3.org/1999/xlink\">\n<g id=\"graph0\" class=\"graph\" transform=\"scale(1 1) rotate(0) translate(4 562)\">\n<title>%3</title>\n<polygon fill=\"white\" stroke=\"transparent\" points=\"-4,4 -4,-562 12179.93,-562 12179.93,4 -4,4\"/>\n<!-- 0 -->\n<g id=\"node1\" class=\"node\">\n<title>0</title>\n<ellipse fill=\"none\" stroke=\"black\" cx=\"6130.09\" cy=\"-540\" rx=\"84.49\" ry=\"18\"/>\n<text text-anchor=\"middle\" x=\"6130.09\" y=\"-536.3\" font-family=\"Times,serif\" font-size=\"14.00\">duration&lt;521.5</text>\n</g>\n<!-- 1 -->\n<g id=\"node2\" class=\"node\">\n<title>1</title>\n<ellipse fill=\"none\" stroke=\"black\" cx=\"4154.09\" cy=\"-453\" rx=\"63.09\" ry=\"18\"/>\n<text text-anchor=\"middle\" x=\"4154.09\" y=\"-449.3\" font-family=\"Times,serif\" font-size=\"14.00\">month&lt;9.5</text>\n</g>\n<!-- 0&#45;&gt;1 -->\n<g id=\"edge1\" class=\"edge\">\n<title>0&#45;&gt;1</title>\n<path fill=\"none\" stroke=\"#0000ff\" d=\"M6048.01,-535.47C5723.48,-521.51 4532.68,-470.29 4226.34,-457.11\"/>\n<polygon fill=\"#0000ff\" stroke=\"#0000ff\" points=\"4226.38,-453.61 4216.24,-456.67 4226.08,-460.6 4226.38,-453.61\"/>\n<text text-anchor=\"middle\" x=\"5305.59\" y=\"-492.8\" font-family=\"Times,serif\" font-size=\"14.00\">yes, missing</text>\n</g>\n<!-- 2 -->\n<g id=\"node3\" class=\"node\">\n<title>2</title>\n<ellipse fill=\"none\" stroke=\"black\" cx=\"7371.09\" cy=\"-453\" rx=\"84.49\" ry=\"18\"/>\n<text text-anchor=\"middle\" x=\"7371.09\" y=\"-449.3\" font-family=\"Times,serif\" font-size=\"14.00\">duration&lt;827.5</text>\n</g>\n<!-- 0&#45;&gt;2 -->\n<g id=\"edge2\" class=\"edge\">\n<title>0&#45;&gt;2</title>\n<path fill=\"none\" stroke=\"#ff0000\" d=\"M6209.14,-533.59C6429.43,-518.5 7049.3,-476.04 7281.65,-460.13\"/>\n<polygon fill=\"#ff0000\" stroke=\"#ff0000\" points=\"7282.01,-463.61 7291.75,-459.43 7281.53,-456.63 7282.01,-463.61\"/>\n<text text-anchor=\"middle\" x=\"6834.09\" y=\"-492.8\" font-family=\"Times,serif\" font-size=\"14.00\">no</text>\n</g>\n<!-- 3 -->\n<g id=\"node4\" class=\"node\">\n<title>3</title>\n<ellipse fill=\"none\" stroke=\"black\" cx=\"2247.09\" cy=\"-366\" rx=\"55.79\" ry=\"18\"/>\n<text text-anchor=\"middle\" x=\"2247.09\" y=\"-362.3\" font-family=\"Times,serif\" font-size=\"14.00\">age&lt;60.5</text>\n</g>\n<!-- 1&#45;&gt;3 -->\n<g id=\"edge3\" class=\"edge\">\n<title>1&#45;&gt;3</title>\n<path fill=\"none\" stroke=\"#0000ff\" d=\"M4092.26,-449.24C3805.39,-436.46 2605.59,-382.98 2312.09,-369.9\"/>\n<polygon fill=\"#0000ff\" stroke=\"#0000ff\" points=\"2312.18,-366.4 2302.03,-369.45 2311.87,-373.39 2312.18,-366.4\"/>\n<text text-anchor=\"middle\" x=\"3359.59\" y=\"-405.8\" font-family=\"Times,serif\" font-size=\"14.00\">yes, missing</text>\n</g>\n<!-- 4 -->\n<g id=\"node5\" class=\"node\">\n<title>4</title>\n<ellipse fill=\"none\" stroke=\"black\" cx=\"4154.09\" cy=\"-366\" rx=\"84.49\" ry=\"18\"/>\n<text text-anchor=\"middle\" x=\"4154.09\" y=\"-362.3\" font-family=\"Times,serif\" font-size=\"14.00\">duration&lt;130.5</text>\n</g>\n<!-- 1&#45;&gt;4 -->\n<g id=\"edge4\" class=\"edge\">\n<title>1&#45;&gt;4</title>\n<path fill=\"none\" stroke=\"#ff0000\" d=\"M4154.09,-434.8C4154.09,-423.16 4154.09,-407.55 4154.09,-394.24\"/>\n<polygon fill=\"#ff0000\" stroke=\"#ff0000\" points=\"4157.59,-394.18 4154.09,-384.18 4150.59,-394.18 4157.59,-394.18\"/>\n<text text-anchor=\"middle\" x=\"4163.09\" y=\"-405.8\" font-family=\"Times,serif\" font-size=\"14.00\">no</text>\n</g>\n<!-- 5 -->\n<g id=\"node60\" class=\"node\">\n<title>5</title>\n<ellipse fill=\"none\" stroke=\"black\" cx=\"7371.09\" cy=\"-366\" rx=\"67.69\" ry=\"18\"/>\n<text text-anchor=\"middle\" x=\"7371.09\" y=\"-362.3\" font-family=\"Times,serif\" font-size=\"14.00\">contact&lt;1.5</text>\n</g>\n<!-- 2&#45;&gt;5 -->\n<g id=\"edge59\" class=\"edge\">\n<title>2&#45;&gt;5</title>\n<path fill=\"none\" stroke=\"#0000ff\" d=\"M7371.09,-434.8C7371.09,-423.16 7371.09,-407.55 7371.09,-394.24\"/>\n<polygon fill=\"#0000ff\" stroke=\"#0000ff\" points=\"7374.59,-394.18 7371.09,-384.18 7367.59,-394.18 7374.59,-394.18\"/>\n<text text-anchor=\"middle\" x=\"7415.59\" y=\"-405.8\" font-family=\"Times,serif\" font-size=\"14.00\">yes, missing</text>\n</g>\n<!-- 6 -->\n<g id=\"node61\" class=\"node\">\n<title>6</title>\n<ellipse fill=\"none\" stroke=\"black\" cx=\"9848.09\" cy=\"-366\" rx=\"67.69\" ry=\"18\"/>\n<text text-anchor=\"middle\" x=\"9848.09\" y=\"-362.3\" font-family=\"Times,serif\" font-size=\"14.00\">contact&lt;0.5</text>\n</g>\n<!-- 2&#45;&gt;6 -->\n<g id=\"edge60\" class=\"edge\">\n<title>2&#45;&gt;6</title>\n<path fill=\"none\" stroke=\"#ff0000\" d=\"M7453.86,-449.16C7833.43,-436.13 9404.8,-382.21 9771.39,-369.63\"/>\n<polygon fill=\"#ff0000\" stroke=\"#ff0000\" points=\"9771.75,-373.12 9781.62,-369.28 9771.51,-366.13 9771.75,-373.12\"/>\n<text text-anchor=\"middle\" x=\"8767.09\" y=\"-405.8\" font-family=\"Times,serif\" font-size=\"14.00\">no</text>\n</g>\n<!-- 7 -->\n<g id=\"node6\" class=\"node\">\n<title>7</title>\n<ellipse fill=\"none\" stroke=\"black\" cx=\"1200.09\" cy=\"-279\" rx=\"60.39\" ry=\"18\"/>\n<text text-anchor=\"middle\" x=\"1200.09\" y=\"-275.3\" font-family=\"Times,serif\" font-size=\"14.00\">pdays&lt;8.5</text>\n</g>\n<!-- 3&#45;&gt;7 -->\n<g id=\"edge5\" class=\"edge\">\n<title>3&#45;&gt;7</title>\n<path fill=\"none\" stroke=\"#0000ff\" d=\"M2193.37,-360.64C2017.93,-346.4 1461.97,-301.26 1267.8,-285.5\"/>\n<polygon fill=\"#0000ff\" stroke=\"#0000ff\" points=\"1267.98,-282 1257.73,-284.68 1267.42,-288.98 1267.98,-282\"/>\n<text text-anchor=\"middle\" x=\"1831.59\" y=\"-318.8\" font-family=\"Times,serif\" font-size=\"14.00\">yes, missing</text>\n</g>\n<!-- 8 -->\n<g id=\"node7\" class=\"node\">\n<title>8</title>\n<ellipse fill=\"none\" stroke=\"black\" cx=\"2247.09\" cy=\"-279\" rx=\"84.49\" ry=\"18\"/>\n<text text-anchor=\"middle\" x=\"2247.09\" y=\"-275.3\" font-family=\"Times,serif\" font-size=\"14.00\">duration&lt;207.5</text>\n</g>\n<!-- 3&#45;&gt;8 -->\n<g id=\"edge6\" class=\"edge\">\n<title>3&#45;&gt;8</title>\n<path fill=\"none\" stroke=\"#ff0000\" d=\"M2247.09,-347.8C2247.09,-336.16 2247.09,-320.55 2247.09,-307.24\"/>\n<polygon fill=\"#ff0000\" stroke=\"#ff0000\" points=\"2250.59,-307.18 2247.09,-297.18 2243.59,-307.18 2250.59,-307.18\"/>\n<text text-anchor=\"middle\" x=\"2256.09\" y=\"-318.8\" font-family=\"Times,serif\" font-size=\"14.00\">no</text>\n</g>\n<!-- 9 -->\n<g id=\"node36\" class=\"node\">\n<title>9</title>\n<ellipse fill=\"none\" stroke=\"black\" cx=\"4012.09\" cy=\"-279\" rx=\"78.79\" ry=\"18\"/>\n<text text-anchor=\"middle\" x=\"4012.09\" y=\"-275.3\" font-family=\"Times,serif\" font-size=\"14.00\">duration&lt;78.5</text>\n</g>\n<!-- 4&#45;&gt;9 -->\n<g id=\"edge35\" class=\"edge\">\n<title>4&#45;&gt;9</title>\n<path fill=\"none\" stroke=\"#0000ff\" d=\"M4127.05,-348.81C4104.54,-335.34 4072.33,-316.06 4047.72,-301.33\"/>\n<polygon fill=\"#0000ff\" stroke=\"#0000ff\" points=\"4049.41,-298.26 4039.03,-296.13 4045.82,-304.27 4049.41,-298.26\"/>\n<text text-anchor=\"middle\" x=\"4136.59\" y=\"-318.8\" font-family=\"Times,serif\" font-size=\"14.00\">yes, missing</text>\n</g>\n<!-- 10 -->\n<g id=\"node37\" class=\"node\">\n<title>10</title>\n<ellipse fill=\"none\" stroke=\"black\" cx=\"4686.09\" cy=\"-279\" rx=\"84.49\" ry=\"18\"/>\n<text text-anchor=\"middle\" x=\"4686.09\" y=\"-275.3\" font-family=\"Times,serif\" font-size=\"14.00\">duration&lt;201.5</text>\n</g>\n<!-- 4&#45;&gt;10 -->\n<g id=\"edge36\" class=\"edge\">\n<title>4&#45;&gt;10</title>\n<path fill=\"none\" stroke=\"#ff0000\" d=\"M4219.59,-354.53C4318.64,-338.71 4506.03,-308.77 4610.65,-292.05\"/>\n<polygon fill=\"#ff0000\" stroke=\"#ff0000\" points=\"4611.49,-295.46 4620.82,-290.43 4610.39,-288.55 4611.49,-295.46\"/>\n<text text-anchor=\"middle\" x=\"4461.09\" y=\"-318.8\" font-family=\"Times,serif\" font-size=\"14.00\">no</text>\n</g>\n<!-- 15 -->\n<g id=\"node8\" class=\"node\">\n<title>15</title>\n<ellipse fill=\"none\" stroke=\"black\" cx=\"645.09\" cy=\"-192\" rx=\"84.49\" ry=\"18\"/>\n<text text-anchor=\"middle\" x=\"645.09\" y=\"-188.3\" font-family=\"Times,serif\" font-size=\"14.00\">duration&lt;314.5</text>\n</g>\n<!-- 7&#45;&gt;15 -->\n<g id=\"edge7\" class=\"edge\">\n<title>7&#45;&gt;15</title>\n<path fill=\"none\" stroke=\"#0000ff\" d=\"M1147.63,-269.97C1049.14,-254.88 836.18,-222.27 721.66,-204.73\"/>\n<polygon fill=\"#0000ff\" stroke=\"#0000ff\" points=\"721.98,-201.24 711.57,-203.18 720.92,-208.15 721.98,-201.24\"/>\n<text text-anchor=\"middle\" x=\"1000.59\" y=\"-231.8\" font-family=\"Times,serif\" font-size=\"14.00\">yes, missing</text>\n</g>\n<!-- 16 -->\n<g id=\"node9\" class=\"node\">\n<title>16</title>\n<ellipse fill=\"none\" stroke=\"black\" cx=\"1200.09\" cy=\"-192\" rx=\"78.79\" ry=\"18\"/>\n<text text-anchor=\"middle\" x=\"1200.09\" y=\"-188.3\" font-family=\"Times,serif\" font-size=\"14.00\">poutcome&lt;1.5</text>\n</g>\n<!-- 7&#45;&gt;16 -->\n<g id=\"edge8\" class=\"edge\">\n<title>7&#45;&gt;16</title>\n<path fill=\"none\" stroke=\"#ff0000\" d=\"M1200.09,-260.8C1200.09,-249.16 1200.09,-233.55 1200.09,-220.24\"/>\n<polygon fill=\"#ff0000\" stroke=\"#ff0000\" points=\"1203.59,-220.18 1200.09,-210.18 1196.59,-220.18 1203.59,-220.18\"/>\n<text text-anchor=\"middle\" x=\"1209.09\" y=\"-231.8\" font-family=\"Times,serif\" font-size=\"14.00\">no</text>\n</g>\n<!-- 17 -->\n<g id=\"node22\" class=\"node\">\n<title>17</title>\n<ellipse fill=\"none\" stroke=\"black\" cx=\"2174.09\" cy=\"-192\" rx=\"84.49\" ry=\"18\"/>\n<text text-anchor=\"middle\" x=\"2174.09\" y=\"-188.3\" font-family=\"Times,serif\" font-size=\"14.00\">duration&lt;126.5</text>\n</g>\n<!-- 8&#45;&gt;17 -->\n<g id=\"edge21\" class=\"edge\">\n<title>8&#45;&gt;17</title>\n<path fill=\"none\" stroke=\"#0000ff\" d=\"M2232.67,-261.21C2221.97,-248.75 2207.22,-231.57 2195.2,-217.57\"/>\n<polygon fill=\"#0000ff\" stroke=\"#0000ff\" points=\"2197.65,-215.06 2188.48,-209.76 2192.34,-219.63 2197.65,-215.06\"/>\n<text text-anchor=\"middle\" x=\"2259.59\" y=\"-231.8\" font-family=\"Times,serif\" font-size=\"14.00\">yes, missing</text>\n</g>\n<!-- 18 -->\n<g id=\"node23\" class=\"node\">\n<title>18</title>\n<ellipse fill=\"none\" stroke=\"black\" cx=\"2714.09\" cy=\"-192\" rx=\"78.79\" ry=\"18\"/>\n<text text-anchor=\"middle\" x=\"2714.09\" y=\"-188.3\" font-family=\"Times,serif\" font-size=\"14.00\">poutcome&lt;1.5</text>\n</g>\n<!-- 8&#45;&gt;18 -->\n<g id=\"edge22\" class=\"edge\">\n<title>8&#45;&gt;18</title>\n<path fill=\"none\" stroke=\"#ff0000\" d=\"M2309.11,-266.71C2396.03,-250.89 2553.64,-222.2 2644.48,-205.67\"/>\n<polygon fill=\"#ff0000\" stroke=\"#ff0000\" points=\"2645.2,-209.1 2654.41,-203.86 2643.94,-202.21 2645.2,-209.1\"/>\n<text text-anchor=\"middle\" x=\"2518.09\" y=\"-231.8\" font-family=\"Times,serif\" font-size=\"14.00\">no</text>\n</g>\n<!-- 31 -->\n<g id=\"node10\" class=\"node\">\n<title>31</title>\n<ellipse fill=\"none\" stroke=\"black\" cx=\"318.09\" cy=\"-105\" rx=\"63.09\" ry=\"18\"/>\n<text text-anchor=\"middle\" x=\"318.09\" y=\"-101.3\" font-family=\"Times,serif\" font-size=\"14.00\">month&lt;0.5</text>\n</g>\n<!-- 15&#45;&gt;31 -->\n<g id=\"edge9\" class=\"edge\">\n<title>15&#45;&gt;31</title>\n<path fill=\"none\" stroke=\"#0000ff\" d=\"M593.64,-177.63C533.5,-161.99 434.38,-136.23 372.85,-120.23\"/>\n<polygon fill=\"#0000ff\" stroke=\"#0000ff\" points=\"373.5,-116.79 362.94,-117.66 371.74,-123.56 373.5,-116.79\"/>\n<text text-anchor=\"middle\" x=\"546.59\" y=\"-144.8\" font-family=\"Times,serif\" font-size=\"14.00\">yes, missing</text>\n</g>\n<!-- 32 -->\n<g id=\"node11\" class=\"node\">\n<title>32</title>\n<ellipse fill=\"none\" stroke=\"black\" cx=\"645.09\" cy=\"-105\" rx=\"67.69\" ry=\"18\"/>\n<text text-anchor=\"middle\" x=\"645.09\" y=\"-101.3\" font-family=\"Times,serif\" font-size=\"14.00\">contact&lt;1.5</text>\n</g>\n<!-- 15&#45;&gt;32 -->\n<g id=\"edge10\" class=\"edge\">\n<title>15&#45;&gt;32</title>\n<path fill=\"none\" stroke=\"#ff0000\" d=\"M645.09,-173.8C645.09,-162.16 645.09,-146.55 645.09,-133.24\"/>\n<polygon fill=\"#ff0000\" stroke=\"#ff0000\" points=\"648.59,-133.18 645.09,-123.18 641.59,-133.18 648.59,-133.18\"/>\n<text text-anchor=\"middle\" x=\"654.09\" y=\"-144.8\" font-family=\"Times,serif\" font-size=\"14.00\">no</text>\n</g>\n<!-- 33 -->\n<g id=\"node16\" class=\"node\">\n<title>33</title>\n<ellipse fill=\"none\" stroke=\"black\" cx=\"1128.09\" cy=\"-105\" rx=\"72.29\" ry=\"18\"/>\n<text text-anchor=\"middle\" x=\"1128.09\" y=\"-101.3\" font-family=\"Times,serif\" font-size=\"14.00\">pdays&lt;374.5</text>\n</g>\n<!-- 16&#45;&gt;33 -->\n<g id=\"edge15\" class=\"edge\">\n<title>16&#45;&gt;33</title>\n<path fill=\"none\" stroke=\"#0000ff\" d=\"M1179.71,-174.47C1173.42,-168.92 1166.67,-162.48 1161.09,-156 1154.61,-148.48 1148.37,-139.61 1143.1,-131.45\"/>\n<polygon fill=\"#0000ff\" stroke=\"#0000ff\" points=\"1146.06,-129.59 1137.79,-122.97 1140.13,-133.3 1146.06,-129.59\"/>\n<text text-anchor=\"middle\" x=\"1205.59\" y=\"-144.8\" font-family=\"Times,serif\" font-size=\"14.00\">yes, missing</text>\n</g>\n<!-- 34 -->\n<g id=\"node17\" class=\"node\">\n<title>34</title>\n<ellipse fill=\"none\" stroke=\"black\" cx=\"1303.09\" cy=\"-105\" rx=\"84.49\" ry=\"18\"/>\n<text text-anchor=\"middle\" x=\"1303.09\" y=\"-101.3\" font-family=\"Times,serif\" font-size=\"14.00\">duration&lt;136.5</text>\n</g>\n<!-- 16&#45;&gt;34 -->\n<g id=\"edge16\" class=\"edge\">\n<title>16&#45;&gt;34</title>\n<path fill=\"none\" stroke=\"#ff0000\" d=\"M1224.77,-174.78C1233.01,-169.09 1242.12,-162.49 1250.09,-156 1259.95,-147.97 1270.24,-138.53 1279.11,-130.03\"/>\n<polygon fill=\"#ff0000\" stroke=\"#ff0000\" points=\"1281.75,-132.35 1286.48,-122.87 1276.87,-127.33 1281.75,-132.35\"/>\n<text text-anchor=\"middle\" x=\"1276.09\" y=\"-144.8\" font-family=\"Times,serif\" font-size=\"14.00\">no</text>\n</g>\n<!-- 61 -->\n<g id=\"node12\" class=\"node\">\n<title>61</title>\n<ellipse fill=\"none\" stroke=\"black\" cx=\"100.09\" cy=\"-18\" rx=\"100.18\" ry=\"18\"/>\n<text text-anchor=\"middle\" x=\"100.09\" y=\"-14.3\" font-family=\"Times,serif\" font-size=\"14.00\">leaf=&#45;0.444155872</text>\n</g>\n<!-- 31&#45;&gt;61 -->\n<g id=\"edge11\" class=\"edge\">\n<title>31&#45;&gt;61</title>\n<path fill=\"none\" stroke=\"#0000ff\" d=\"M280.92,-90.21C263.87,-83.83 243.43,-76.12 225.09,-69 199.52,-59.08 171.14,-47.75 147.88,-38.38\"/>\n<polygon fill=\"#0000ff\" stroke=\"#0000ff\" points=\"149.17,-35.13 138.58,-34.63 146.55,-41.62 149.17,-35.13\"/>\n<text text-anchor=\"middle\" x=\"269.59\" y=\"-57.8\" font-family=\"Times,serif\" font-size=\"14.00\">yes, missing</text>\n</g>\n<!-- 62 -->\n<g id=\"node13\" class=\"node\">\n<title>62</title>\n<ellipse fill=\"none\" stroke=\"black\" cx=\"318.09\" cy=\"-18\" rx=\"100.18\" ry=\"18\"/>\n<text text-anchor=\"middle\" x=\"318.09\" y=\"-14.3\" font-family=\"Times,serif\" font-size=\"14.00\">leaf=&#45;0.573276341</text>\n</g>\n<!-- 31&#45;&gt;62 -->\n<g id=\"edge12\" class=\"edge\">\n<title>31&#45;&gt;62</title>\n<path fill=\"none\" stroke=\"#ff0000\" d=\"M318.09,-86.8C318.09,-75.16 318.09,-59.55 318.09,-46.24\"/>\n<polygon fill=\"#ff0000\" stroke=\"#ff0000\" points=\"321.59,-46.18 318.09,-36.18 314.59,-46.18 321.59,-46.18\"/>\n<text text-anchor=\"middle\" x=\"327.09\" y=\"-57.8\" font-family=\"Times,serif\" font-size=\"14.00\">no</text>\n</g>\n<!-- 63 -->\n<g id=\"node14\" class=\"node\">\n<title>63</title>\n<ellipse fill=\"none\" stroke=\"black\" cx=\"536.09\" cy=\"-18\" rx=\"100.18\" ry=\"18\"/>\n<text text-anchor=\"middle\" x=\"536.09\" y=\"-14.3\" font-family=\"Times,serif\" font-size=\"14.00\">leaf=&#45;0.406727374</text>\n</g>\n<!-- 32&#45;&gt;63 -->\n<g id=\"edge13\" class=\"edge\">\n<title>32&#45;&gt;63</title>\n<path fill=\"none\" stroke=\"#0000ff\" d=\"M624.33,-87.81C607.65,-74.8 584.02,-56.38 565.41,-41.86\"/>\n<polygon fill=\"#0000ff\" stroke=\"#0000ff\" points=\"567.56,-39.1 557.52,-35.71 563.25,-44.62 567.56,-39.1\"/>\n<text text-anchor=\"middle\" x=\"642.59\" y=\"-57.8\" font-family=\"Times,serif\" font-size=\"14.00\">yes, missing</text>\n</g>\n<!-- 64 -->\n<g id=\"node15\" class=\"node\">\n<title>64</title>\n<ellipse fill=\"none\" stroke=\"black\" cx=\"754.09\" cy=\"-18\" rx=\"100.18\" ry=\"18\"/>\n<text text-anchor=\"middle\" x=\"754.09\" y=\"-14.3\" font-family=\"Times,serif\" font-size=\"14.00\">leaf=&#45;0.562346518</text>\n</g>\n<!-- 32&#45;&gt;64 -->\n<g id=\"edge14\" class=\"edge\">\n<title>32&#45;&gt;64</title>\n<path fill=\"none\" stroke=\"#ff0000\" d=\"M666.69,-87.71C674.42,-81.85 683.17,-75.16 691.09,-69 702.34,-60.26 714.62,-50.55 725.33,-42.02\"/>\n<polygon fill=\"#ff0000\" stroke=\"#ff0000\" points=\"727.54,-44.74 733.18,-35.77 723.17,-39.27 727.54,-44.74\"/>\n<text text-anchor=\"middle\" x=\"718.09\" y=\"-57.8\" font-family=\"Times,serif\" font-size=\"14.00\">no</text>\n</g>\n<!-- 65 -->\n<g id=\"node18\" class=\"node\">\n<title>65</title>\n<ellipse fill=\"none\" stroke=\"black\" cx=\"972.09\" cy=\"-18\" rx=\"100.18\" ry=\"18\"/>\n<text text-anchor=\"middle\" x=\"972.09\" y=\"-14.3\" font-family=\"Times,serif\" font-size=\"14.00\">leaf=&#45;0.509518266</text>\n</g>\n<!-- 33&#45;&gt;65 -->\n<g id=\"edge17\" class=\"edge\">\n<title>33&#45;&gt;65</title>\n<path fill=\"none\" stroke=\"#0000ff\" d=\"M1085.77,-90.3C1070.34,-84.59 1053.02,-77.34 1038.09,-69 1024.56,-61.44 1010.72,-51.38 999.23,-42.26\"/>\n<polygon fill=\"#0000ff\" stroke=\"#0000ff\" points=\"1001.29,-39.42 991.32,-35.84 996.88,-44.86 1001.29,-39.42\"/>\n<text text-anchor=\"middle\" x=\"1082.59\" y=\"-57.8\" font-family=\"Times,serif\" font-size=\"14.00\">yes, missing</text>\n</g>\n<!-- 66 -->\n<g id=\"node19\" class=\"node\">\n<title>66</title>\n<ellipse fill=\"none\" stroke=\"black\" cx=\"1134.09\" cy=\"-18\" rx=\"44.39\" ry=\"18\"/>\n<text text-anchor=\"middle\" x=\"1134.09\" y=\"-14.3\" font-family=\"Times,serif\" font-size=\"14.00\">leaf=&#45;0</text>\n</g>\n<!-- 33&#45;&gt;66 -->\n<g id=\"edge18\" class=\"edge\">\n<title>33&#45;&gt;66</title>\n<path fill=\"none\" stroke=\"#ff0000\" d=\"M1129.31,-86.8C1130.13,-75.16 1131.23,-59.55 1132.17,-46.24\"/>\n<polygon fill=\"#ff0000\" stroke=\"#ff0000\" points=\"1135.67,-46.4 1132.88,-36.18 1128.68,-45.9 1135.67,-46.4\"/>\n<text text-anchor=\"middle\" x=\"1141.09\" y=\"-57.8\" font-family=\"Times,serif\" font-size=\"14.00\">no</text>\n</g>\n<!-- 67 -->\n<g id=\"node20\" class=\"node\">\n<title>67</title>\n<ellipse fill=\"none\" stroke=\"black\" cx=\"1296.09\" cy=\"-18\" rx=\"100.18\" ry=\"18\"/>\n<text text-anchor=\"middle\" x=\"1296.09\" y=\"-14.3\" font-family=\"Times,serif\" font-size=\"14.00\">leaf=&#45;0.350289047</text>\n</g>\n<!-- 34&#45;&gt;67 -->\n<g id=\"edge19\" class=\"edge\">\n<title>34&#45;&gt;67</title>\n<path fill=\"none\" stroke=\"#0000ff\" d=\"M1301.67,-86.8C1300.72,-75.16 1299.43,-59.55 1298.33,-46.24\"/>\n<polygon fill=\"#0000ff\" stroke=\"#0000ff\" points=\"1301.81,-45.85 1297.51,-36.18 1294.84,-46.43 1301.81,-45.85\"/>\n<text text-anchor=\"middle\" x=\"1344.59\" y=\"-57.8\" font-family=\"Times,serif\" font-size=\"14.00\">yes, missing</text>\n</g>\n<!-- 68 -->\n<g id=\"node21\" class=\"node\">\n<title>68</title>\n<ellipse fill=\"none\" stroke=\"black\" cx=\"1505.09\" cy=\"-18\" rx=\"90.98\" ry=\"18\"/>\n<text text-anchor=\"middle\" x=\"1505.09\" y=\"-14.3\" font-family=\"Times,serif\" font-size=\"14.00\">leaf=0.22699824</text>\n</g>\n<!-- 34&#45;&gt;68 -->\n<g id=\"edge20\" class=\"edge\">\n<title>34&#45;&gt;68</title>\n<path fill=\"none\" stroke=\"#ff0000\" d=\"M1342.69,-89.08C1358.44,-83.02 1376.69,-75.84 1393.09,-69 1415.93,-59.47 1441.11,-48.29 1461.8,-38.92\"/>\n<polygon fill=\"#ff0000\" stroke=\"#ff0000\" points=\"1463.31,-42.08 1470.97,-34.76 1460.41,-35.71 1463.31,-42.08\"/>\n<text text-anchor=\"middle\" x=\"1437.09\" y=\"-57.8\" font-family=\"Times,serif\" font-size=\"14.00\">no</text>\n</g>\n<!-- 35 -->\n<g id=\"node24\" class=\"node\">\n<title>35</title>\n<ellipse fill=\"none\" stroke=\"black\" cx=\"1932.09\" cy=\"-105\" rx=\"73.39\" ry=\"18\"/>\n<text text-anchor=\"middle\" x=\"1932.09\" y=\"-101.3\" font-family=\"Times,serif\" font-size=\"14.00\">previous&lt;2.5</text>\n</g>\n<!-- 17&#45;&gt;35 -->\n<g id=\"edge23\" class=\"edge\">\n<title>17&#45;&gt;35</title>\n<path fill=\"none\" stroke=\"#0000ff\" d=\"M2132.21,-176.29C2090.46,-161.63 2026.32,-139.1 1981.96,-123.51\"/>\n<polygon fill=\"#0000ff\" stroke=\"#0000ff\" points=\"1982.84,-120.12 1972.25,-120.11 1980.52,-126.72 1982.84,-120.12\"/>\n<text text-anchor=\"middle\" x=\"2112.59\" y=\"-144.8\" font-family=\"Times,serif\" font-size=\"14.00\">yes, missing</text>\n</g>\n<!-- 36 -->\n<g id=\"node25\" class=\"node\">\n<title>36</title>\n<ellipse fill=\"none\" stroke=\"black\" cx=\"2174.09\" cy=\"-105\" rx=\"78.79\" ry=\"18\"/>\n<text text-anchor=\"middle\" x=\"2174.09\" y=\"-101.3\" font-family=\"Times,serif\" font-size=\"14.00\">poutcome&lt;0.5</text>\n</g>\n<!-- 17&#45;&gt;36 -->\n<g id=\"edge24\" class=\"edge\">\n<title>17&#45;&gt;36</title>\n<path fill=\"none\" stroke=\"#ff0000\" d=\"M2174.09,-173.8C2174.09,-162.16 2174.09,-146.55 2174.09,-133.24\"/>\n<polygon fill=\"#ff0000\" stroke=\"#ff0000\" points=\"2177.59,-133.18 2174.09,-123.18 2170.59,-133.18 2177.59,-133.18\"/>\n<text text-anchor=\"middle\" x=\"2183.09\" y=\"-144.8\" font-family=\"Times,serif\" font-size=\"14.00\">no</text>\n</g>\n<!-- 37 -->\n<g id=\"node30\" class=\"node\">\n<title>37</title>\n<ellipse fill=\"none\" stroke=\"black\" cx=\"2714.09\" cy=\"-105\" rx=\"55.79\" ry=\"18\"/>\n<text text-anchor=\"middle\" x=\"2714.09\" y=\"-101.3\" font-family=\"Times,serif\" font-size=\"14.00\">day&lt;11.5</text>\n</g>\n<!-- 18&#45;&gt;37 -->\n<g id=\"edge29\" class=\"edge\">\n<title>18&#45;&gt;37</title>\n<path fill=\"none\" stroke=\"#0000ff\" d=\"M2714.09,-173.8C2714.09,-162.16 2714.09,-146.55 2714.09,-133.24\"/>\n<polygon fill=\"#0000ff\" stroke=\"#0000ff\" points=\"2717.59,-133.18 2714.09,-123.18 2710.59,-133.18 2717.59,-133.18\"/>\n<text text-anchor=\"middle\" x=\"2758.59\" y=\"-144.8\" font-family=\"Times,serif\" font-size=\"14.00\">yes, missing</text>\n</g>\n<!-- 38 -->\n<g id=\"node31\" class=\"node\">\n<title>38</title>\n<ellipse fill=\"none\" stroke=\"black\" cx=\"3037.09\" cy=\"-105\" rx=\"57.69\" ry=\"18\"/>\n<text text-anchor=\"middle\" x=\"3037.09\" y=\"-101.3\" font-family=\"Times,serif\" font-size=\"14.00\">pdays&lt;26</text>\n</g>\n<!-- 18&#45;&gt;38 -->\n<g id=\"edge30\" class=\"edge\">\n<title>18&#45;&gt;38</title>\n<path fill=\"none\" stroke=\"#ff0000\" d=\"M2763.85,-177.91C2823.7,-162.16 2923.69,-135.84 2984.69,-119.79\"/>\n<polygon fill=\"#ff0000\" stroke=\"#ff0000\" points=\"2985.72,-123.14 2994.5,-117.21 2983.94,-116.37 2985.72,-123.14\"/>\n<text text-anchor=\"middle\" x=\"2904.09\" y=\"-144.8\" font-family=\"Times,serif\" font-size=\"14.00\">no</text>\n</g>\n<!-- 69 -->\n<g id=\"node26\" class=\"node\">\n<title>69</title>\n<ellipse fill=\"none\" stroke=\"black\" cx=\"1714.09\" cy=\"-18\" rx=\"100.18\" ry=\"18\"/>\n<text text-anchor=\"middle\" x=\"1714.09\" y=\"-14.3\" font-family=\"Times,serif\" font-size=\"14.00\">leaf=&#45;0.506976783</text>\n</g>\n<!-- 35&#45;&gt;69 -->\n<g id=\"edge25\" class=\"edge\">\n<title>35&#45;&gt;69</title>\n<path fill=\"none\" stroke=\"#0000ff\" d=\"M1893.11,-89.53C1876.44,-83.29 1856.78,-75.87 1839.09,-69 1813.52,-59.08 1785.14,-47.75 1761.88,-38.38\"/>\n<polygon fill=\"#0000ff\" stroke=\"#0000ff\" points=\"1763.17,-35.13 1752.58,-34.63 1760.55,-41.62 1763.17,-35.13\"/>\n<text text-anchor=\"middle\" x=\"1883.59\" y=\"-57.8\" font-family=\"Times,serif\" font-size=\"14.00\">yes, missing</text>\n</g>\n<!-- 70 -->\n<g id=\"node27\" class=\"node\">\n<title>70</title>\n<ellipse fill=\"none\" stroke=\"black\" cx=\"1932.09\" cy=\"-18\" rx=\"100.18\" ry=\"18\"/>\n<text text-anchor=\"middle\" x=\"1932.09\" y=\"-14.3\" font-family=\"Times,serif\" font-size=\"14.00\">leaf=&#45;0.257142872</text>\n</g>\n<!-- 35&#45;&gt;70 -->\n<g id=\"edge26\" class=\"edge\">\n<title>35&#45;&gt;70</title>\n<path fill=\"none\" stroke=\"#ff0000\" d=\"M1932.09,-86.8C1932.09,-75.16 1932.09,-59.55 1932.09,-46.24\"/>\n<polygon fill=\"#ff0000\" stroke=\"#ff0000\" points=\"1935.59,-46.18 1932.09,-36.18 1928.59,-46.18 1935.59,-46.18\"/>\n<text text-anchor=\"middle\" x=\"1941.09\" y=\"-57.8\" font-family=\"Times,serif\" font-size=\"14.00\">no</text>\n</g>\n<!-- 71 -->\n<g id=\"node28\" class=\"node\">\n<title>71</title>\n<ellipse fill=\"none\" stroke=\"black\" cx=\"2150.09\" cy=\"-18\" rx=\"100.18\" ry=\"18\"/>\n<text text-anchor=\"middle\" x=\"2150.09\" y=\"-14.3\" font-family=\"Times,serif\" font-size=\"14.00\">leaf=&#45;0.514285743</text>\n</g>\n<!-- 36&#45;&gt;71 -->\n<g id=\"edge27\" class=\"edge\">\n<title>36&#45;&gt;71</title>\n<path fill=\"none\" stroke=\"#0000ff\" d=\"M2169.23,-86.8C2165.92,-75.05 2161.45,-59.24 2157.67,-45.84\"/>\n<polygon fill=\"#0000ff\" stroke=\"#0000ff\" points=\"2161.03,-44.85 2154.94,-36.18 2154.29,-46.75 2161.03,-44.85\"/>\n<text text-anchor=\"middle\" x=\"2208.59\" y=\"-57.8\" font-family=\"Times,serif\" font-size=\"14.00\">yes, missing</text>\n</g>\n<!-- 72 -->\n<g id=\"node29\" class=\"node\">\n<title>72</title>\n<ellipse fill=\"none\" stroke=\"black\" cx=\"2368.09\" cy=\"-18\" rx=\"100.18\" ry=\"18\"/>\n<text text-anchor=\"middle\" x=\"2368.09\" y=\"-14.3\" font-family=\"Times,serif\" font-size=\"14.00\">leaf=&#45;0.143558294</text>\n</g>\n<!-- 36&#45;&gt;72 -->\n<g id=\"edge28\" class=\"edge\">\n<title>36&#45;&gt;72</title>\n<path fill=\"none\" stroke=\"#ff0000\" d=\"M2210.53,-88.86C2225.05,-82.76 2241.9,-75.63 2257.09,-69 2279.17,-59.37 2303.59,-48.41 2323.88,-39.21\"/>\n<polygon fill=\"#ff0000\" stroke=\"#ff0000\" points=\"2325.53,-42.3 2333.19,-34.98 2322.64,-35.93 2325.53,-42.3\"/>\n<text text-anchor=\"middle\" x=\"2300.09\" y=\"-57.8\" font-family=\"Times,serif\" font-size=\"14.00\">no</text>\n</g>\n<!-- 73 -->\n<g id=\"node32\" class=\"node\">\n<title>73</title>\n<ellipse fill=\"none\" stroke=\"black\" cx=\"2586.09\" cy=\"-18\" rx=\"100.18\" ry=\"18\"/>\n<text text-anchor=\"middle\" x=\"2586.09\" y=\"-14.3\" font-family=\"Times,serif\" font-size=\"14.00\">leaf=&#45;0.310344815</text>\n</g>\n<!-- 37&#45;&gt;73 -->\n<g id=\"edge31\" class=\"edge\">\n<title>37&#45;&gt;73</title>\n<path fill=\"none\" stroke=\"#0000ff\" d=\"M2690.91,-88.61C2671.07,-75.43 2642.24,-56.29 2619.84,-41.41\"/>\n<polygon fill=\"#0000ff\" stroke=\"#0000ff\" points=\"2621.56,-38.35 2611.29,-35.73 2617.68,-44.18 2621.56,-38.35\"/>\n<text text-anchor=\"middle\" x=\"2702.59\" y=\"-57.8\" font-family=\"Times,serif\" font-size=\"14.00\">yes, missing</text>\n</g>\n<!-- 74 -->\n<g id=\"node33\" class=\"node\">\n<title>74</title>\n<ellipse fill=\"none\" stroke=\"black\" cx=\"2810.09\" cy=\"-18\" rx=\"105.88\" ry=\"18\"/>\n<text text-anchor=\"middle\" x=\"2810.09\" y=\"-14.3\" font-family=\"Times,serif\" font-size=\"14.00\">leaf=&#45;0.0162162166</text>\n</g>\n<!-- 37&#45;&gt;74 -->\n<g id=\"edge32\" class=\"edge\">\n<title>37&#45;&gt;74</title>\n<path fill=\"none\" stroke=\"#ff0000\" d=\"M2732.6,-87.61C2747.02,-74.84 2767.24,-56.94 2783.41,-42.62\"/>\n<polygon fill=\"#ff0000\" stroke=\"#ff0000\" points=\"2785.81,-45.17 2790.98,-35.92 2781.17,-39.93 2785.81,-45.17\"/>\n<text text-anchor=\"middle\" x=\"2777.09\" y=\"-57.8\" font-family=\"Times,serif\" font-size=\"14.00\">no</text>\n</g>\n<!-- 75 -->\n<g id=\"node34\" class=\"node\">\n<title>75</title>\n<ellipse fill=\"none\" stroke=\"black\" cx=\"3037.09\" cy=\"-18\" rx=\"102.88\" ry=\"18\"/>\n<text text-anchor=\"middle\" x=\"3037.09\" y=\"-14.3\" font-family=\"Times,serif\" font-size=\"14.00\">leaf=0.0391959809</text>\n</g>\n<!-- 38&#45;&gt;75 -->\n<g id=\"edge33\" class=\"edge\">\n<title>38&#45;&gt;75</title>\n<path fill=\"none\" stroke=\"#0000ff\" d=\"M3037.09,-86.8C3037.09,-75.16 3037.09,-59.55 3037.09,-46.24\"/>\n<polygon fill=\"#0000ff\" stroke=\"#0000ff\" points=\"3040.59,-46.18 3037.09,-36.18 3033.59,-46.18 3040.59,-46.18\"/>\n<text text-anchor=\"middle\" x=\"3081.59\" y=\"-57.8\" font-family=\"Times,serif\" font-size=\"14.00\">yes, missing</text>\n</g>\n<!-- 76 -->\n<g id=\"node35\" class=\"node\">\n<title>76</title>\n<ellipse fill=\"none\" stroke=\"black\" cx=\"3255.09\" cy=\"-18\" rx=\"96.68\" ry=\"18\"/>\n<text text-anchor=\"middle\" x=\"3255.09\" y=\"-14.3\" font-family=\"Times,serif\" font-size=\"14.00\">leaf=0.387341797</text>\n</g>\n<!-- 38&#45;&gt;76 -->\n<g id=\"edge34\" class=\"edge\">\n<title>38&#45;&gt;76</title>\n<path fill=\"none\" stroke=\"#ff0000\" d=\"M3072.93,-90.71C3090.23,-84.24 3111.27,-76.3 3130.09,-69 3155.66,-59.08 3184.05,-47.75 3207.3,-38.38\"/>\n<polygon fill=\"#ff0000\" stroke=\"#ff0000\" points=\"3208.63,-41.62 3216.6,-34.63 3206.02,-35.13 3208.63,-41.62\"/>\n<text text-anchor=\"middle\" x=\"3177.09\" y=\"-57.8\" font-family=\"Times,serif\" font-size=\"14.00\">no</text>\n</g>\n<!-- 19 -->\n<g id=\"node38\" class=\"node\">\n<title>19</title>\n<ellipse fill=\"none\" stroke=\"black\" cx=\"3827.09\" cy=\"-192\" rx=\"100.18\" ry=\"18\"/>\n<text text-anchor=\"middle\" x=\"3827.09\" y=\"-188.3\" font-family=\"Times,serif\" font-size=\"14.00\">leaf=&#45;0.578181803</text>\n</g>\n<!-- 9&#45;&gt;19 -->\n<g id=\"edge37\" class=\"edge\">\n<title>9&#45;&gt;19</title>\n<path fill=\"none\" stroke=\"#0000ff\" d=\"M3970.39,-263.7C3954.17,-257.77 3935.56,-250.53 3919.09,-243 3900.4,-234.45 3880.27,-223.7 3863.63,-214.36\"/>\n<polygon fill=\"#0000ff\" stroke=\"#0000ff\" points=\"3865.19,-211.23 3854.77,-209.34 3861.74,-217.32 3865.19,-211.23\"/>\n<text text-anchor=\"middle\" x=\"3963.59\" y=\"-231.8\" font-family=\"Times,serif\" font-size=\"14.00\">yes, missing</text>\n</g>\n<!-- 20 -->\n<g id=\"node39\" class=\"node\">\n<title>20</title>\n<ellipse fill=\"none\" stroke=\"black\" cx=\"4012.09\" cy=\"-192\" rx=\"66.89\" ry=\"18\"/>\n<text text-anchor=\"middle\" x=\"4012.09\" y=\"-188.3\" font-family=\"Times,serif\" font-size=\"14.00\">marital&lt;0.5</text>\n</g>\n<!-- 9&#45;&gt;20 -->\n<g id=\"edge38\" class=\"edge\">\n<title>9&#45;&gt;20</title>\n<path fill=\"none\" stroke=\"#ff0000\" d=\"M4012.09,-260.8C4012.09,-249.16 4012.09,-233.55 4012.09,-220.24\"/>\n<polygon fill=\"#ff0000\" stroke=\"#ff0000\" points=\"4015.59,-220.18 4012.09,-210.18 4008.59,-220.18 4015.59,-220.18\"/>\n<text text-anchor=\"middle\" x=\"4021.09\" y=\"-231.8\" font-family=\"Times,serif\" font-size=\"14.00\">no</text>\n</g>\n<!-- 21 -->\n<g id=\"node46\" class=\"node\">\n<title>21</title>\n<ellipse fill=\"none\" stroke=\"black\" cx=\"4686.09\" cy=\"-192\" rx=\"55.79\" ry=\"18\"/>\n<text text-anchor=\"middle\" x=\"4686.09\" y=\"-188.3\" font-family=\"Times,serif\" font-size=\"14.00\">day&lt;14.5</text>\n</g>\n<!-- 10&#45;&gt;21 -->\n<g id=\"edge45\" class=\"edge\">\n<title>10&#45;&gt;21</title>\n<path fill=\"none\" stroke=\"#0000ff\" d=\"M4686.09,-260.8C4686.09,-249.16 4686.09,-233.55 4686.09,-220.24\"/>\n<polygon fill=\"#0000ff\" stroke=\"#0000ff\" points=\"4689.59,-220.18 4686.09,-210.18 4682.59,-220.18 4689.59,-220.18\"/>\n<text text-anchor=\"middle\" x=\"4730.59\" y=\"-231.8\" font-family=\"Times,serif\" font-size=\"14.00\">yes, missing</text>\n</g>\n<!-- 22 -->\n<g id=\"node47\" class=\"node\">\n<title>22</title>\n<ellipse fill=\"none\" stroke=\"black\" cx=\"5334.09\" cy=\"-192\" rx=\"78.79\" ry=\"18\"/>\n<text text-anchor=\"middle\" x=\"5334.09\" y=\"-188.3\" font-family=\"Times,serif\" font-size=\"14.00\">poutcome&lt;1.5</text>\n</g>\n<!-- 10&#45;&gt;22 -->\n<g id=\"edge46\" class=\"edge\">\n<title>10&#45;&gt;22</title>\n<path fill=\"none\" stroke=\"#ff0000\" d=\"M4756.05,-268.82C4878.57,-252.75 5130.95,-219.65 5257.79,-203.01\"/>\n<polygon fill=\"#ff0000\" stroke=\"#ff0000\" points=\"5258.36,-206.46 5267.82,-201.69 5257.45,-199.52 5258.36,-206.46\"/>\n<text text-anchor=\"middle\" x=\"5058.09\" y=\"-231.8\" font-family=\"Times,serif\" font-size=\"14.00\">no</text>\n</g>\n<!-- 39 -->\n<g id=\"node40\" class=\"node\">\n<title>39</title>\n<ellipse fill=\"none\" stroke=\"black\" cx=\"3685.09\" cy=\"-105\" rx=\"78.79\" ry=\"18\"/>\n<text text-anchor=\"middle\" x=\"3685.09\" y=\"-101.3\" font-family=\"Times,serif\" font-size=\"14.00\">poutcome&lt;1.5</text>\n</g>\n<!-- 20&#45;&gt;39 -->\n<g id=\"edge39\" class=\"edge\">\n<title>20&#45;&gt;39</title>\n<path fill=\"none\" stroke=\"#0000ff\" d=\"M3965.59,-178.91C3907.59,-163.84 3808.36,-138.04 3744.8,-121.52\"/>\n<polygon fill=\"#0000ff\" stroke=\"#0000ff\" points=\"3745.48,-118.08 3734.92,-118.95 3743.71,-124.85 3745.48,-118.08\"/>\n<text text-anchor=\"middle\" x=\"3913.59\" y=\"-144.8\" font-family=\"Times,serif\" font-size=\"14.00\">yes, missing</text>\n</g>\n<!-- 40 -->\n<g id=\"node41\" class=\"node\">\n<title>40</title>\n<ellipse fill=\"none\" stroke=\"black\" cx=\"4012.09\" cy=\"-105\" rx=\"55.79\" ry=\"18\"/>\n<text text-anchor=\"middle\" x=\"4012.09\" y=\"-101.3\" font-family=\"Times,serif\" font-size=\"14.00\">day&lt;26.5</text>\n</g>\n<!-- 20&#45;&gt;40 -->\n<g id=\"edge40\" class=\"edge\">\n<title>20&#45;&gt;40</title>\n<path fill=\"none\" stroke=\"#ff0000\" d=\"M4012.09,-173.8C4012.09,-162.16 4012.09,-146.55 4012.09,-133.24\"/>\n<polygon fill=\"#ff0000\" stroke=\"#ff0000\" points=\"4015.59,-133.18 4012.09,-123.18 4008.59,-133.18 4015.59,-133.18\"/>\n<text text-anchor=\"middle\" x=\"4021.09\" y=\"-144.8\" font-family=\"Times,serif\" font-size=\"14.00\">no</text>\n</g>\n<!-- 77 -->\n<g id=\"node42\" class=\"node\">\n<title>77</title>\n<ellipse fill=\"none\" stroke=\"black\" cx=\"3470.09\" cy=\"-18\" rx=\"100.18\" ry=\"18\"/>\n<text text-anchor=\"middle\" x=\"3470.09\" y=\"-14.3\" font-family=\"Times,serif\" font-size=\"14.00\">leaf=&#45;0.400000036</text>\n</g>\n<!-- 39&#45;&gt;77 -->\n<g id=\"edge41\" class=\"edge\">\n<title>39&#45;&gt;77</title>\n<path fill=\"none\" stroke=\"#0000ff\" d=\"M3645.17,-89.26C3628.69,-83.11 3609.43,-75.81 3592.09,-69 3567.21,-59.22 3539.63,-47.95 3517,-38.6\"/>\n<polygon fill=\"#0000ff\" stroke=\"#0000ff\" points=\"3518.2,-35.31 3507.62,-34.71 3515.52,-41.77 3518.2,-35.31\"/>\n<text text-anchor=\"middle\" x=\"3636.59\" y=\"-57.8\" font-family=\"Times,serif\" font-size=\"14.00\">yes, missing</text>\n</g>\n<!-- 78 -->\n<g id=\"node43\" class=\"node\">\n<title>78</title>\n<ellipse fill=\"none\" stroke=\"black\" cx=\"3685.09\" cy=\"-18\" rx=\"96.68\" ry=\"18\"/>\n<text text-anchor=\"middle\" x=\"3685.09\" y=\"-14.3\" font-family=\"Times,serif\" font-size=\"14.00\">leaf=0.200000018</text>\n</g>\n<!-- 39&#45;&gt;78 -->\n<g id=\"edge42\" class=\"edge\">\n<title>39&#45;&gt;78</title>\n<path fill=\"none\" stroke=\"#ff0000\" d=\"M3685.09,-86.8C3685.09,-75.16 3685.09,-59.55 3685.09,-46.24\"/>\n<polygon fill=\"#ff0000\" stroke=\"#ff0000\" points=\"3688.59,-46.18 3685.09,-36.18 3681.59,-46.18 3688.59,-46.18\"/>\n<text text-anchor=\"middle\" x=\"3694.09\" y=\"-57.8\" font-family=\"Times,serif\" font-size=\"14.00\">no</text>\n</g>\n<!-- 79 -->\n<g id=\"node44\" class=\"node\">\n<title>79</title>\n<ellipse fill=\"none\" stroke=\"black\" cx=\"3900.09\" cy=\"-18\" rx=\"100.18\" ry=\"18\"/>\n<text text-anchor=\"middle\" x=\"3900.09\" y=\"-14.3\" font-family=\"Times,serif\" font-size=\"14.00\">leaf=&#45;0.432167828</text>\n</g>\n<!-- 40&#45;&gt;79 -->\n<g id=\"edge43\" class=\"edge\">\n<title>40&#45;&gt;79</title>\n<path fill=\"none\" stroke=\"#0000ff\" d=\"M3991.29,-88.21C3974.09,-75.16 3949.46,-56.47 3930.12,-41.79\"/>\n<polygon fill=\"#0000ff\" stroke=\"#0000ff\" points=\"3932.01,-38.83 3921.93,-35.57 3927.78,-44.41 3932.01,-38.83\"/>\n<text text-anchor=\"middle\" x=\"4007.59\" y=\"-57.8\" font-family=\"Times,serif\" font-size=\"14.00\">yes, missing</text>\n</g>\n<!-- 80 -->\n<g id=\"node45\" class=\"node\">\n<title>80</title>\n<ellipse fill=\"none\" stroke=\"black\" cx=\"4124.09\" cy=\"-18\" rx=\"105.88\" ry=\"18\"/>\n<text text-anchor=\"middle\" x=\"4124.09\" y=\"-14.3\" font-family=\"Times,serif\" font-size=\"14.00\">leaf=&#45;0.0600000024</text>\n</g>\n<!-- 40&#45;&gt;80 -->\n<g id=\"edge44\" class=\"edge\">\n<title>40&#45;&gt;80</title>\n<path fill=\"none\" stroke=\"#ff0000\" d=\"M4032.89,-88.21C4049.98,-75.25 4074.41,-56.7 4093.69,-42.08\"/>\n<polygon fill=\"#ff0000\" stroke=\"#ff0000\" points=\"4096.01,-44.7 4101.86,-35.87 4091.78,-39.13 4096.01,-44.7\"/>\n<text text-anchor=\"middle\" x=\"4084.09\" y=\"-57.8\" font-family=\"Times,serif\" font-size=\"14.00\">no</text>\n</g>\n<!-- 41 -->\n<g id=\"node48\" class=\"node\">\n<title>41</title>\n<ellipse fill=\"none\" stroke=\"black\" cx=\"4578.09\" cy=\"-105\" rx=\"55.79\" ry=\"18\"/>\n<text text-anchor=\"middle\" x=\"4578.09\" y=\"-101.3\" font-family=\"Times,serif\" font-size=\"14.00\">age&lt;33.5</text>\n</g>\n<!-- 21&#45;&gt;41 -->\n<g id=\"edge47\" class=\"edge\">\n<title>21&#45;&gt;41</title>\n<path fill=\"none\" stroke=\"#0000ff\" d=\"M4665.45,-175.01C4657.79,-169.06 4649.03,-162.24 4641.09,-156 4629.63,-146.99 4617.04,-137.02 4606.15,-128.36\"/>\n<polygon fill=\"#0000ff\" stroke=\"#0000ff\" points=\"4608.2,-125.52 4598.2,-122.04 4603.84,-131 4608.2,-125.52\"/>\n<text text-anchor=\"middle\" x=\"4685.59\" y=\"-144.8\" font-family=\"Times,serif\" font-size=\"14.00\">yes, missing</text>\n</g>\n<!-- 42 -->\n<g id=\"node49\" class=\"node\">\n<title>42</title>\n<ellipse fill=\"none\" stroke=\"black\" cx=\"4793.09\" cy=\"-105\" rx=\"77.99\" ry=\"18\"/>\n<text text-anchor=\"middle\" x=\"4793.09\" y=\"-101.3\" font-family=\"Times,serif\" font-size=\"14.00\">campaign&lt;1.5</text>\n</g>\n<!-- 21&#45;&gt;42 -->\n<g id=\"edge48\" class=\"edge\">\n<title>21&#45;&gt;42</title>\n<path fill=\"none\" stroke=\"#ff0000\" d=\"M4706.22,-175.01C4722.6,-162 4745.92,-143.47 4764.28,-128.88\"/>\n<polygon fill=\"#ff0000\" stroke=\"#ff0000\" points=\"4766.67,-131.46 4772.33,-122.5 4762.32,-125.98 4766.67,-131.46\"/>\n<text text-anchor=\"middle\" x=\"4755.09\" y=\"-144.8\" font-family=\"Times,serif\" font-size=\"14.00\">no</text>\n</g>\n<!-- 43 -->\n<g id=\"node54\" class=\"node\">\n<title>43</title>\n<ellipse fill=\"none\" stroke=\"black\" cx=\"5334.09\" cy=\"-105\" rx=\"84.49\" ry=\"18\"/>\n<text text-anchor=\"middle\" x=\"5334.09\" y=\"-101.3\" font-family=\"Times,serif\" font-size=\"14.00\">duration&lt;272.5</text>\n</g>\n<!-- 22&#45;&gt;43 -->\n<g id=\"edge53\" class=\"edge\">\n<title>22&#45;&gt;43</title>\n<path fill=\"none\" stroke=\"#0000ff\" d=\"M5334.09,-173.8C5334.09,-162.16 5334.09,-146.55 5334.09,-133.24\"/>\n<polygon fill=\"#0000ff\" stroke=\"#0000ff\" points=\"5337.59,-133.18 5334.09,-123.18 5330.59,-133.18 5337.59,-133.18\"/>\n<text text-anchor=\"middle\" x=\"5378.59\" y=\"-144.8\" font-family=\"Times,serif\" font-size=\"14.00\">yes, missing</text>\n</g>\n<!-- 44 -->\n<g id=\"node55\" class=\"node\">\n<title>44</title>\n<ellipse fill=\"none\" stroke=\"black\" cx=\"5659.09\" cy=\"-105\" rx=\"66.09\" ry=\"18\"/>\n<text text-anchor=\"middle\" x=\"5659.09\" y=\"-101.3\" font-family=\"Times,serif\" font-size=\"14.00\">pdays&lt;70.5</text>\n</g>\n<!-- 22&#45;&gt;44 -->\n<g id=\"edge54\" class=\"edge\">\n<title>22&#45;&gt;44</title>\n<path fill=\"none\" stroke=\"#ff0000\" d=\"M5383.81,-178C5442.93,-162.54 5541.35,-136.79 5603.1,-120.64\"/>\n<polygon fill=\"#ff0000\" stroke=\"#ff0000\" points=\"5604.27,-123.95 5613.06,-118.04 5602.5,-117.18 5604.27,-123.95\"/>\n<text text-anchor=\"middle\" x=\"5525.09\" y=\"-144.8\" font-family=\"Times,serif\" font-size=\"14.00\">no</text>\n</g>\n<!-- 81 -->\n<g id=\"node50\" class=\"node\">\n<title>81</title>\n<ellipse fill=\"none\" stroke=\"black\" cx=\"4354.09\" cy=\"-18\" rx=\"105.88\" ry=\"18\"/>\n<text text-anchor=\"middle\" x=\"4354.09\" y=\"-14.3\" font-family=\"Times,serif\" font-size=\"14.00\">leaf=&#45;0.0461538509</text>\n</g>\n<!-- 41&#45;&gt;81 -->\n<g id=\"edge49\" class=\"edge\">\n<title>41&#45;&gt;81</title>\n<path fill=\"none\" stroke=\"#0000ff\" d=\"M4543.19,-90.91C4525.73,-84.35 4504.29,-76.28 4485.09,-69 4458.46,-58.91 4428.82,-47.6 4404.48,-38.29\"/>\n<polygon fill=\"#0000ff\" stroke=\"#0000ff\" points=\"4405.67,-35 4395.08,-34.7 4403.17,-41.54 4405.67,-35\"/>\n<text text-anchor=\"middle\" x=\"4529.59\" y=\"-57.8\" font-family=\"Times,serif\" font-size=\"14.00\">yes, missing</text>\n</g>\n<!-- 82 -->\n<g id=\"node51\" class=\"node\">\n<title>82</title>\n<ellipse fill=\"none\" stroke=\"black\" cx=\"4578.09\" cy=\"-18\" rx=\"100.18\" ry=\"18\"/>\n<text text-anchor=\"middle\" x=\"4578.09\" y=\"-14.3\" font-family=\"Times,serif\" font-size=\"14.00\">leaf=&#45;0.413793117</text>\n</g>\n<!-- 41&#45;&gt;82 -->\n<g id=\"edge50\" class=\"edge\">\n<title>41&#45;&gt;82</title>\n<path fill=\"none\" stroke=\"#ff0000\" d=\"M4578.09,-86.8C4578.09,-75.16 4578.09,-59.55 4578.09,-46.24\"/>\n<polygon fill=\"#ff0000\" stroke=\"#ff0000\" points=\"4581.59,-46.18 4578.09,-36.18 4574.59,-46.18 4581.59,-46.18\"/>\n<text text-anchor=\"middle\" x=\"4587.09\" y=\"-57.8\" font-family=\"Times,serif\" font-size=\"14.00\">no</text>\n</g>\n<!-- 83 -->\n<g id=\"node52\" class=\"node\">\n<title>83</title>\n<ellipse fill=\"none\" stroke=\"black\" cx=\"4793.09\" cy=\"-18\" rx=\"96.68\" ry=\"18\"/>\n<text text-anchor=\"middle\" x=\"4793.09\" y=\"-14.3\" font-family=\"Times,serif\" font-size=\"14.00\">leaf=0.129113927</text>\n</g>\n<!-- 42&#45;&gt;83 -->\n<g id=\"edge51\" class=\"edge\">\n<title>42&#45;&gt;83</title>\n<path fill=\"none\" stroke=\"#0000ff\" d=\"M4793.09,-86.8C4793.09,-75.16 4793.09,-59.55 4793.09,-46.24\"/>\n<polygon fill=\"#0000ff\" stroke=\"#0000ff\" points=\"4796.59,-46.18 4793.09,-36.18 4789.59,-46.18 4796.59,-46.18\"/>\n<text text-anchor=\"middle\" x=\"4837.59\" y=\"-57.8\" font-family=\"Times,serif\" font-size=\"14.00\">yes, missing</text>\n</g>\n<!-- 84 -->\n<g id=\"node53\" class=\"node\">\n<title>84</title>\n<ellipse fill=\"none\" stroke=\"black\" cx=\"5008.09\" cy=\"-18\" rx=\"100.18\" ry=\"18\"/>\n<text text-anchor=\"middle\" x=\"5008.09\" y=\"-14.3\" font-family=\"Times,serif\" font-size=\"14.00\">leaf=&#45;0.140425533</text>\n</g>\n<!-- 42&#45;&gt;84 -->\n<g id=\"edge52\" class=\"edge\">\n<title>42&#45;&gt;84</title>\n<path fill=\"none\" stroke=\"#ff0000\" d=\"M4832.56,-89.44C4849.13,-83.24 4868.59,-75.88 4886.09,-69 4910.98,-59.22 4938.55,-47.95 4961.18,-38.6\"/>\n<polygon fill=\"#ff0000\" stroke=\"#ff0000\" points=\"4962.66,-41.77 4970.56,-34.71 4959.98,-35.31 4962.66,-41.77\"/>\n<text text-anchor=\"middle\" x=\"4933.09\" y=\"-57.8\" font-family=\"Times,serif\" font-size=\"14.00\">no</text>\n</g>\n<!-- 85 -->\n<g id=\"node56\" class=\"node\">\n<title>85</title>\n<ellipse fill=\"none\" stroke=\"black\" cx=\"5226.09\" cy=\"-18\" rx=\"100.18\" ry=\"18\"/>\n<text text-anchor=\"middle\" x=\"5226.09\" y=\"-14.3\" font-family=\"Times,serif\" font-size=\"14.00\">leaf=&#45;0.159183681</text>\n</g>\n<!-- 43&#45;&gt;85 -->\n<g id=\"edge55\" class=\"edge\">\n<title>43&#45;&gt;85</title>\n<path fill=\"none\" stroke=\"#0000ff\" d=\"M5312.54,-87.31C5305.1,-81.53 5296.72,-74.99 5289.09,-69 5277.89,-60.2 5265.62,-50.48 5254.9,-41.96\"/>\n<polygon fill=\"#0000ff\" stroke=\"#0000ff\" points=\"5257.06,-39.2 5247.05,-35.72 5252.7,-44.68 5257.06,-39.2\"/>\n<text text-anchor=\"middle\" x=\"5333.59\" y=\"-57.8\" font-family=\"Times,serif\" font-size=\"14.00\">yes, missing</text>\n</g>\n<!-- 86 -->\n<g id=\"node57\" class=\"node\">\n<title>86</title>\n<ellipse fill=\"none\" stroke=\"black\" cx=\"5441.09\" cy=\"-18\" rx=\"96.68\" ry=\"18\"/>\n<text text-anchor=\"middle\" x=\"5441.09\" y=\"-14.3\" font-family=\"Times,serif\" font-size=\"14.00\">leaf=0.129113927</text>\n</g>\n<!-- 43&#45;&gt;86 -->\n<g id=\"edge56\" class=\"edge\">\n<title>43&#45;&gt;86</title>\n<path fill=\"none\" stroke=\"#ff0000\" d=\"M5354.98,-87.41C5371.22,-74.51 5393.95,-56.45 5411.98,-42.13\"/>\n<polygon fill=\"#ff0000\" stroke=\"#ff0000\" points=\"5414.24,-44.8 5419.89,-35.84 5409.89,-39.32 5414.24,-44.8\"/>\n<text text-anchor=\"middle\" x=\"5403.09\" y=\"-57.8\" font-family=\"Times,serif\" font-size=\"14.00\">no</text>\n</g>\n<!-- 87 -->\n<g id=\"node58\" class=\"node\">\n<title>87</title>\n<ellipse fill=\"none\" stroke=\"black\" cx=\"5659.09\" cy=\"-18\" rx=\"102.88\" ry=\"18\"/>\n<text text-anchor=\"middle\" x=\"5659.09\" y=\"-14.3\" font-family=\"Times,serif\" font-size=\"14.00\">leaf=0.0596858673</text>\n</g>\n<!-- 44&#45;&gt;87 -->\n<g id=\"edge57\" class=\"edge\">\n<title>44&#45;&gt;87</title>\n<path fill=\"none\" stroke=\"#0000ff\" d=\"M5659.09,-86.8C5659.09,-75.16 5659.09,-59.55 5659.09,-46.24\"/>\n<polygon fill=\"#0000ff\" stroke=\"#0000ff\" points=\"5662.59,-46.18 5659.09,-36.18 5655.59,-46.18 5662.59,-46.18\"/>\n<text text-anchor=\"middle\" x=\"5703.59\" y=\"-57.8\" font-family=\"Times,serif\" font-size=\"14.00\">yes, missing</text>\n</g>\n<!-- 88 -->\n<g id=\"node59\" class=\"node\">\n<title>88</title>\n<ellipse fill=\"none\" stroke=\"black\" cx=\"5877.09\" cy=\"-18\" rx=\"96.68\" ry=\"18\"/>\n<text text-anchor=\"middle\" x=\"5877.09\" y=\"-14.3\" font-family=\"Times,serif\" font-size=\"14.00\">leaf=0.371428609</text>\n</g>\n<!-- 44&#45;&gt;88 -->\n<g id=\"edge58\" class=\"edge\">\n<title>44&#45;&gt;88</title>\n<path fill=\"none\" stroke=\"#ff0000\" d=\"M5696.72,-90.04C5713.67,-83.7 5733.92,-76.05 5752.09,-69 5777.66,-59.08 5806.05,-47.75 5829.3,-38.38\"/>\n<polygon fill=\"#ff0000\" stroke=\"#ff0000\" points=\"5830.63,-41.62 5838.6,-34.63 5828.02,-35.13 5830.63,-41.62\"/>\n<text text-anchor=\"middle\" x=\"5799.09\" y=\"-57.8\" font-family=\"Times,serif\" font-size=\"14.00\">no</text>\n</g>\n<!-- 11 -->\n<g id=\"node62\" class=\"node\">\n<title>11</title>\n<ellipse fill=\"none\" stroke=\"black\" cx=\"7151.09\" cy=\"-279\" rx=\"84.49\" ry=\"18\"/>\n<text text-anchor=\"middle\" x=\"7151.09\" y=\"-275.3\" font-family=\"Times,serif\" font-size=\"14.00\">duration&lt;647.5</text>\n</g>\n<!-- 5&#45;&gt;11 -->\n<g id=\"edge61\" class=\"edge\">\n<title>5&#45;&gt;11</title>\n<path fill=\"none\" stroke=\"#0000ff\" d=\"M7334.27,-350.77C7297.35,-336.51 7240.31,-314.47 7199.69,-298.78\"/>\n<polygon fill=\"#0000ff\" stroke=\"#0000ff\" points=\"7200.85,-295.47 7190.26,-295.13 7198.33,-302 7200.85,-295.47\"/>\n<text text-anchor=\"middle\" x=\"7319.59\" y=\"-318.8\" font-family=\"Times,serif\" font-size=\"14.00\">yes, missing</text>\n</g>\n<!-- 12 -->\n<g id=\"node63\" class=\"node\">\n<title>12</title>\n<ellipse fill=\"none\" stroke=\"black\" cx=\"7883.09\" cy=\"-279\" rx=\"84.49\" ry=\"18\"/>\n<text text-anchor=\"middle\" x=\"7883.09\" y=\"-275.3\" font-family=\"Times,serif\" font-size=\"14.00\">duration&lt;668.5</text>\n</g>\n<!-- 5&#45;&gt;12 -->\n<g id=\"edge62\" class=\"edge\">\n<title>5&#45;&gt;12</title>\n<path fill=\"none\" stroke=\"#ff0000\" d=\"M7426.86,-355.74C7519.41,-340.38 7704.8,-309.6 7808.5,-292.38\"/>\n<polygon fill=\"#ff0000\" stroke=\"#ff0000\" points=\"7809.29,-295.8 7818.58,-290.71 7808.15,-288.89 7809.29,-295.8\"/>\n<text text-anchor=\"middle\" x=\"7667.09\" y=\"-318.8\" font-family=\"Times,serif\" font-size=\"14.00\">no</text>\n</g>\n<!-- 13 -->\n<g id=\"node90\" class=\"node\">\n<title>13</title>\n<ellipse fill=\"none\" stroke=\"black\" cx=\"9848.09\" cy=\"-279\" rx=\"55.79\" ry=\"18\"/>\n<text text-anchor=\"middle\" x=\"9848.09\" y=\"-275.3\" font-family=\"Times,serif\" font-size=\"14.00\">age&lt;54.5</text>\n</g>\n<!-- 6&#45;&gt;13 -->\n<g id=\"edge89\" class=\"edge\">\n<title>6&#45;&gt;13</title>\n<path fill=\"none\" stroke=\"#0000ff\" d=\"M9848.09,-347.8C9848.09,-336.16 9848.09,-320.55 9848.09,-307.24\"/>\n<polygon fill=\"#0000ff\" stroke=\"#0000ff\" points=\"9851.59,-307.18 9848.09,-297.18 9844.59,-307.18 9851.59,-307.18\"/>\n<text text-anchor=\"middle\" x=\"9892.59\" y=\"-318.8\" font-family=\"Times,serif\" font-size=\"14.00\">yes, missing</text>\n</g>\n<!-- 14 -->\n<g id=\"node91\" class=\"node\">\n<title>14</title>\n<ellipse fill=\"none\" stroke=\"black\" cx=\"10868.09\" cy=\"-279\" rx=\"80.69\" ry=\"18\"/>\n<text text-anchor=\"middle\" x=\"10868.09\" y=\"-275.3\" font-family=\"Times,serif\" font-size=\"14.00\">balance&lt;816.5</text>\n</g>\n<!-- 6&#45;&gt;14 -->\n<g id=\"edge90\" class=\"edge\">\n<title>6&#45;&gt;14</title>\n<path fill=\"none\" stroke=\"#ff0000\" d=\"M9911.51,-359.71C10087.98,-345.01 10584.83,-303.61 10783.98,-287.01\"/>\n<polygon fill=\"#ff0000\" stroke=\"#ff0000\" points=\"10784.42,-290.48 10794.09,-286.17 10783.84,-283.51 10784.42,-290.48\"/>\n<text text-anchor=\"middle\" x=\"10429.09\" y=\"-318.8\" font-family=\"Times,serif\" font-size=\"14.00\">no</text>\n</g>\n<!-- 23 -->\n<g id=\"node64\" class=\"node\">\n<title>23</title>\n<ellipse fill=\"none\" stroke=\"black\" cx=\"6607.09\" cy=\"-192\" rx=\"69.59\" ry=\"18\"/>\n<text text-anchor=\"middle\" x=\"6607.09\" y=\"-188.3\" font-family=\"Times,serif\" font-size=\"14.00\">housing&lt;0.5</text>\n</g>\n<!-- 11&#45;&gt;23 -->\n<g id=\"edge63\" class=\"edge\">\n<title>11&#45;&gt;23</title>\n<path fill=\"none\" stroke=\"#0000ff\" d=\"M7085.2,-267.7C6981.31,-251.47 6780.45,-220.09 6675.2,-203.64\"/>\n<polygon fill=\"#0000ff\" stroke=\"#0000ff\" points=\"6675.43,-200.14 6665.01,-202.05 6674.35,-207.05 6675.43,-200.14\"/>\n<text text-anchor=\"middle\" x=\"6956.59\" y=\"-231.8\" font-family=\"Times,serif\" font-size=\"14.00\">yes, missing</text>\n</g>\n<!-- 24 -->\n<g id=\"node65\" class=\"node\">\n<title>24</title>\n<ellipse fill=\"none\" stroke=\"black\" cx=\"7151.09\" cy=\"-192\" rx=\"51.99\" ry=\"18\"/>\n<text text-anchor=\"middle\" x=\"7151.09\" y=\"-188.3\" font-family=\"Times,serif\" font-size=\"14.00\">pdays&lt;0</text>\n</g>\n<!-- 11&#45;&gt;24 -->\n<g id=\"edge64\" class=\"edge\">\n<title>11&#45;&gt;24</title>\n<path fill=\"none\" stroke=\"#ff0000\" d=\"M7151.09,-260.8C7151.09,-249.16 7151.09,-233.55 7151.09,-220.24\"/>\n<polygon fill=\"#ff0000\" stroke=\"#ff0000\" points=\"7154.59,-220.18 7151.09,-210.18 7147.59,-220.18 7154.59,-220.18\"/>\n<text text-anchor=\"middle\" x=\"7160.09\" y=\"-231.8\" font-family=\"Times,serif\" font-size=\"14.00\">no</text>\n</g>\n<!-- 25 -->\n<g id=\"node78\" class=\"node\">\n<title>25</title>\n<ellipse fill=\"none\" stroke=\"black\" cx=\"7883.09\" cy=\"-192\" rx=\"75.29\" ry=\"18\"/>\n<text text-anchor=\"middle\" x=\"7883.09\" y=\"-188.3\" font-family=\"Times,serif\" font-size=\"14.00\">campaign&lt;14</text>\n</g>\n<!-- 12&#45;&gt;25 -->\n<g id=\"edge77\" class=\"edge\">\n<title>12&#45;&gt;25</title>\n<path fill=\"none\" stroke=\"#0000ff\" d=\"M7883.09,-260.8C7883.09,-249.16 7883.09,-233.55 7883.09,-220.24\"/>\n<polygon fill=\"#0000ff\" stroke=\"#0000ff\" points=\"7886.59,-220.18 7883.09,-210.18 7879.59,-220.18 7886.59,-220.18\"/>\n<text text-anchor=\"middle\" x=\"7927.59\" y=\"-231.8\" font-family=\"Times,serif\" font-size=\"14.00\">yes, missing</text>\n</g>\n<!-- 26 -->\n<g id=\"node79\" class=\"node\">\n<title>26</title>\n<ellipse fill=\"none\" stroke=\"black\" cx=\"8240.09\" cy=\"-192\" rx=\"55.79\" ry=\"18\"/>\n<text text-anchor=\"middle\" x=\"8240.09\" y=\"-188.3\" font-family=\"Times,serif\" font-size=\"14.00\">age&lt;33.5</text>\n</g>\n<!-- 12&#45;&gt;26 -->\n<g id=\"edge78\" class=\"edge\">\n<title>12&#45;&gt;26</title>\n<path fill=\"none\" stroke=\"#ff0000\" d=\"M7937.31,-265.09C8004.85,-249.01 8119.5,-221.71 8186.66,-205.72\"/>\n<polygon fill=\"#ff0000\" stroke=\"#ff0000\" points=\"8187.7,-209.07 8196.62,-203.35 8186.08,-202.26 8187.7,-209.07\"/>\n<text text-anchor=\"middle\" x=\"8092.09\" y=\"-231.8\" font-family=\"Times,serif\" font-size=\"14.00\">no</text>\n</g>\n<!-- 45 -->\n<g id=\"node66\" class=\"node\">\n<title>45</title>\n<ellipse fill=\"none\" stroke=\"black\" cx=\"6283.09\" cy=\"-105\" rx=\"66.09\" ry=\"18\"/>\n<text text-anchor=\"middle\" x=\"6283.09\" y=\"-101.3\" font-family=\"Times,serif\" font-size=\"14.00\">pdays&lt;83.5</text>\n</g>\n<!-- 23&#45;&gt;45 -->\n<g id=\"edge65\" class=\"edge\">\n<title>23&#45;&gt;45</title>\n<path fill=\"none\" stroke=\"#0000ff\" d=\"M6559.98,-178.64C6501.25,-163.23 6401.03,-136.94 6338.63,-120.57\"/>\n<polygon fill=\"#0000ff\" stroke=\"#0000ff\" points=\"6339.51,-117.18 6328.95,-118.03 6337.73,-123.95 6339.51,-117.18\"/>\n<text text-anchor=\"middle\" x=\"6509.59\" y=\"-144.8\" font-family=\"Times,serif\" font-size=\"14.00\">yes, missing</text>\n</g>\n<!-- 46 -->\n<g id=\"node67\" class=\"node\">\n<title>46</title>\n<ellipse fill=\"none\" stroke=\"black\" cx=\"6607.09\" cy=\"-105\" rx=\"63.09\" ry=\"18\"/>\n<text text-anchor=\"middle\" x=\"6607.09\" y=\"-101.3\" font-family=\"Times,serif\" font-size=\"14.00\">month&lt;5.5</text>\n</g>\n<!-- 23&#45;&gt;46 -->\n<g id=\"edge66\" class=\"edge\">\n<title>23&#45;&gt;46</title>\n<path fill=\"none\" stroke=\"#ff0000\" d=\"M6607.09,-173.8C6607.09,-162.16 6607.09,-146.55 6607.09,-133.24\"/>\n<polygon fill=\"#ff0000\" stroke=\"#ff0000\" points=\"6610.59,-133.18 6607.09,-123.18 6603.59,-133.18 6610.59,-133.18\"/>\n<text text-anchor=\"middle\" x=\"6616.09\" y=\"-144.8\" font-family=\"Times,serif\" font-size=\"14.00\">no</text>\n</g>\n<!-- 47 -->\n<g id=\"node72\" class=\"node\">\n<title>47</title>\n<ellipse fill=\"none\" stroke=\"black\" cx=\"7040.09\" cy=\"-105\" rx=\"69.59\" ry=\"18\"/>\n<text text-anchor=\"middle\" x=\"7040.09\" y=\"-101.3\" font-family=\"Times,serif\" font-size=\"14.00\">housing&lt;0.5</text>\n</g>\n<!-- 24&#45;&gt;47 -->\n<g id=\"edge71\" class=\"edge\">\n<title>24&#45;&gt;47</title>\n<path fill=\"none\" stroke=\"#0000ff\" d=\"M7130.73,-175.41C7113.61,-162.3 7088.92,-143.39 7069.62,-128.62\"/>\n<polygon fill=\"#0000ff\" stroke=\"#0000ff\" points=\"7071.52,-125.66 7061.46,-122.36 7067.27,-131.22 7071.52,-125.66\"/>\n<text text-anchor=\"middle\" x=\"7147.59\" y=\"-144.8\" font-family=\"Times,serif\" font-size=\"14.00\">yes, missing</text>\n</g>\n<!-- 48 -->\n<g id=\"node73\" class=\"node\">\n<title>48</title>\n<ellipse fill=\"none\" stroke=\"black\" cx=\"7261.09\" cy=\"-105\" rx=\"78.79\" ry=\"18\"/>\n<text text-anchor=\"middle\" x=\"7261.09\" y=\"-101.3\" font-family=\"Times,serif\" font-size=\"14.00\">poutcome&lt;1.5</text>\n</g>\n<!-- 24&#45;&gt;48 -->\n<g id=\"edge72\" class=\"edge\">\n<title>24&#45;&gt;48</title>\n<path fill=\"none\" stroke=\"#ff0000\" d=\"M7171.27,-175.41C7188.23,-162.3 7212.71,-143.39 7231.82,-128.62\"/>\n<polygon fill=\"#ff0000\" stroke=\"#ff0000\" points=\"7234.15,-131.24 7239.92,-122.36 7229.87,-125.71 7234.15,-131.24\"/>\n<text text-anchor=\"middle\" x=\"7222.09\" y=\"-144.8\" font-family=\"Times,serif\" font-size=\"14.00\">no</text>\n</g>\n<!-- 89 -->\n<g id=\"node68\" class=\"node\">\n<title>89</title>\n<ellipse fill=\"none\" stroke=\"black\" cx=\"6080.09\" cy=\"-18\" rx=\"88.28\" ry=\"18\"/>\n<text text-anchor=\"middle\" x=\"6080.09\" y=\"-14.3\" font-family=\"Times,serif\" font-size=\"14.00\">leaf=&#45;0.1586207</text>\n</g>\n<!-- 45&#45;&gt;89 -->\n<g id=\"edge67\" class=\"edge\">\n<title>45&#45;&gt;89</title>\n<path fill=\"none\" stroke=\"#0000ff\" d=\"M6244.86,-90.26C6227.97,-84.03 6207.94,-76.4 6190.09,-69 6167.68,-59.7 6143.06,-48.6 6122.81,-39.22\"/>\n<polygon fill=\"#0000ff\" stroke=\"#0000ff\" points=\"6124.08,-35.95 6113.54,-34.9 6121.13,-42.3 6124.08,-35.95\"/>\n<text text-anchor=\"middle\" x=\"6234.59\" y=\"-57.8\" font-family=\"Times,serif\" font-size=\"14.00\">yes, missing</text>\n</g>\n<!-- 90 -->\n<g id=\"node69\" class=\"node\">\n<title>90</title>\n<ellipse fill=\"none\" stroke=\"black\" cx=\"6283.09\" cy=\"-18\" rx=\"96.68\" ry=\"18\"/>\n<text text-anchor=\"middle\" x=\"6283.09\" y=\"-14.3\" font-family=\"Times,serif\" font-size=\"14.00\">leaf=0.204545468</text>\n</g>\n<!-- 45&#45;&gt;90 -->\n<g id=\"edge68\" class=\"edge\">\n<title>45&#45;&gt;90</title>\n<path fill=\"none\" stroke=\"#ff0000\" d=\"M6283.09,-86.8C6283.09,-75.16 6283.09,-59.55 6283.09,-46.24\"/>\n<polygon fill=\"#ff0000\" stroke=\"#ff0000\" points=\"6286.59,-46.18 6283.09,-36.18 6279.59,-46.18 6286.59,-46.18\"/>\n<text text-anchor=\"middle\" x=\"6292.09\" y=\"-57.8\" font-family=\"Times,serif\" font-size=\"14.00\">no</text>\n</g>\n<!-- 91 -->\n<g id=\"node70\" class=\"node\">\n<title>91</title>\n<ellipse fill=\"none\" stroke=\"black\" cx=\"6498.09\" cy=\"-18\" rx=\"100.18\" ry=\"18\"/>\n<text text-anchor=\"middle\" x=\"6498.09\" y=\"-14.3\" font-family=\"Times,serif\" font-size=\"14.00\">leaf=&#45;0.341886818</text>\n</g>\n<!-- 46&#45;&gt;91 -->\n<g id=\"edge69\" class=\"edge\">\n<title>46&#45;&gt;91</title>\n<path fill=\"none\" stroke=\"#0000ff\" d=\"M6586.33,-87.81C6569.65,-74.8 6546.02,-56.38 6527.41,-41.86\"/>\n<polygon fill=\"#0000ff\" stroke=\"#0000ff\" points=\"6529.56,-39.1 6519.52,-35.71 6525.25,-44.62 6529.56,-39.1\"/>\n<text text-anchor=\"middle\" x=\"6604.59\" y=\"-57.8\" font-family=\"Times,serif\" font-size=\"14.00\">yes, missing</text>\n</g>\n<!-- 92 -->\n<g id=\"node71\" class=\"node\">\n<title>92</title>\n<ellipse fill=\"none\" stroke=\"black\" cx=\"6716.09\" cy=\"-18\" rx=\"100.18\" ry=\"18\"/>\n<text text-anchor=\"middle\" x=\"6716.09\" y=\"-14.3\" font-family=\"Times,serif\" font-size=\"14.00\">leaf=&#45;0.149458483</text>\n</g>\n<!-- 46&#45;&gt;92 -->\n<g id=\"edge70\" class=\"edge\">\n<title>46&#45;&gt;92</title>\n<path fill=\"none\" stroke=\"#ff0000\" d=\"M6628.69,-87.71C6636.42,-81.85 6645.17,-75.16 6653.09,-69 6664.34,-60.26 6676.62,-50.55 6687.33,-42.02\"/>\n<polygon fill=\"#ff0000\" stroke=\"#ff0000\" points=\"6689.54,-44.74 6695.18,-35.77 6685.17,-39.27 6689.54,-44.74\"/>\n<text text-anchor=\"middle\" x=\"6680.09\" y=\"-57.8\" font-family=\"Times,serif\" font-size=\"14.00\">no</text>\n</g>\n<!-- 93 -->\n<g id=\"node74\" class=\"node\">\n<title>93</title>\n<ellipse fill=\"none\" stroke=\"black\" cx=\"6878.09\" cy=\"-18\" rx=\"44.39\" ry=\"18\"/>\n<text text-anchor=\"middle\" x=\"6878.09\" y=\"-14.3\" font-family=\"Times,serif\" font-size=\"14.00\">leaf=&#45;0</text>\n</g>\n<!-- 47&#45;&gt;93 -->\n<g id=\"edge73\" class=\"edge\">\n<title>47&#45;&gt;93</title>\n<path fill=\"none\" stroke=\"#0000ff\" d=\"M6997.38,-90.62C6981.2,-84.87 6962.89,-77.5 6947.09,-69 6932.27,-61.03 6917,-50.27 6904.6,-40.77\"/>\n<polygon fill=\"#0000ff\" stroke=\"#0000ff\" points=\"6906.55,-37.86 6896.52,-34.45 6902.24,-43.37 6906.55,-37.86\"/>\n<text text-anchor=\"middle\" x=\"6991.59\" y=\"-57.8\" font-family=\"Times,serif\" font-size=\"14.00\">yes, missing</text>\n</g>\n<!-- 94 -->\n<g id=\"node75\" class=\"node\">\n<title>94</title>\n<ellipse fill=\"none\" stroke=\"black\" cx=\"7040.09\" cy=\"-18\" rx=\"100.18\" ry=\"18\"/>\n<text text-anchor=\"middle\" x=\"7040.09\" y=\"-14.3\" font-family=\"Times,serif\" font-size=\"14.00\">leaf=&#45;0.132885918</text>\n</g>\n<!-- 47&#45;&gt;94 -->\n<g id=\"edge74\" class=\"edge\">\n<title>47&#45;&gt;94</title>\n<path fill=\"none\" stroke=\"#ff0000\" d=\"M7040.09,-86.8C7040.09,-75.16 7040.09,-59.55 7040.09,-46.24\"/>\n<polygon fill=\"#ff0000\" stroke=\"#ff0000\" points=\"7043.59,-46.18 7040.09,-36.18 7036.59,-46.18 7043.59,-46.18\"/>\n<text text-anchor=\"middle\" x=\"7049.09\" y=\"-57.8\" font-family=\"Times,serif\" font-size=\"14.00\">no</text>\n</g>\n<!-- 95 -->\n<g id=\"node76\" class=\"node\">\n<title>95</title>\n<ellipse fill=\"none\" stroke=\"black\" cx=\"7261.09\" cy=\"-18\" rx=\"102.88\" ry=\"18\"/>\n<text text-anchor=\"middle\" x=\"7261.09\" y=\"-14.3\" font-family=\"Times,serif\" font-size=\"14.00\">leaf=0.0311688315</text>\n</g>\n<!-- 48&#45;&gt;95 -->\n<g id=\"edge75\" class=\"edge\">\n<title>48&#45;&gt;95</title>\n<path fill=\"none\" stroke=\"#0000ff\" d=\"M7261.09,-86.8C7261.09,-75.16 7261.09,-59.55 7261.09,-46.24\"/>\n<polygon fill=\"#0000ff\" stroke=\"#0000ff\" points=\"7264.59,-46.18 7261.09,-36.18 7257.59,-46.18 7264.59,-46.18\"/>\n<text text-anchor=\"middle\" x=\"7305.59\" y=\"-57.8\" font-family=\"Times,serif\" font-size=\"14.00\">yes, missing</text>\n</g>\n<!-- 96 -->\n<g id=\"node77\" class=\"node\">\n<title>96</title>\n<ellipse fill=\"none\" stroke=\"black\" cx=\"7479.09\" cy=\"-18\" rx=\"96.68\" ry=\"18\"/>\n<text text-anchor=\"middle\" x=\"7479.09\" y=\"-14.3\" font-family=\"Times,serif\" font-size=\"14.00\">leaf=0.404081643</text>\n</g>\n<!-- 48&#45;&gt;96 -->\n<g id=\"edge76\" class=\"edge\">\n<title>48&#45;&gt;96</title>\n<path fill=\"none\" stroke=\"#ff0000\" d=\"M7300.53,-89.36C7317.1,-83.16 7336.56,-75.8 7354.09,-69 7379.66,-59.08 7408.05,-47.75 7431.3,-38.38\"/>\n<polygon fill=\"#ff0000\" stroke=\"#ff0000\" points=\"7432.63,-41.62 7440.6,-34.63 7430.02,-35.13 7432.63,-41.62\"/>\n<text text-anchor=\"middle\" x=\"7401.09\" y=\"-57.8\" font-family=\"Times,serif\" font-size=\"14.00\">no</text>\n</g>\n<!-- 49 -->\n<g id=\"node80\" class=\"node\">\n<title>49</title>\n<ellipse fill=\"none\" stroke=\"black\" cx=\"7794.09\" cy=\"-105\" rx=\"55.79\" ry=\"18\"/>\n<text text-anchor=\"middle\" x=\"7794.09\" y=\"-101.3\" font-family=\"Times,serif\" font-size=\"14.00\">age&lt;45.5</text>\n</g>\n<!-- 25&#45;&gt;49 -->\n<g id=\"edge79\" class=\"edge\">\n<title>25&#45;&gt;49</title>\n<path fill=\"none\" stroke=\"#0000ff\" d=\"M7852.89,-175.38C7844,-169.96 7834.64,-163.37 7827.09,-156 7819.87,-148.96 7813.39,-140.08 7808.12,-131.77\"/>\n<polygon fill=\"#0000ff\" stroke=\"#0000ff\" points=\"7811.05,-129.85 7802.9,-123.08 7805.05,-133.45 7811.05,-129.85\"/>\n<text text-anchor=\"middle\" x=\"7871.59\" y=\"-144.8\" font-family=\"Times,serif\" font-size=\"14.00\">yes, missing</text>\n</g>\n<!-- 50 -->\n<g id=\"node81\" class=\"node\">\n<title>50</title>\n<ellipse fill=\"none\" stroke=\"black\" cx=\"7971.09\" cy=\"-105\" rx=\"102.88\" ry=\"18\"/>\n<text text-anchor=\"middle\" x=\"7971.09\" y=\"-101.3\" font-family=\"Times,serif\" font-size=\"14.00\">leaf=0.0545454584</text>\n</g>\n<!-- 25&#45;&gt;50 -->\n<g id=\"edge80\" class=\"edge\">\n<title>25&#45;&gt;50</title>\n<path fill=\"none\" stroke=\"#ff0000\" d=\"M7900.84,-174.33C7906.96,-168.55 7913.85,-162.01 7920.09,-156 7928.71,-147.7 7938.07,-138.56 7946.4,-130.38\"/>\n<polygon fill=\"#ff0000\" stroke=\"#ff0000\" points=\"7949.02,-132.71 7953.7,-123.2 7944.12,-127.72 7949.02,-132.71\"/>\n<text text-anchor=\"middle\" x=\"7944.09\" y=\"-144.8\" font-family=\"Times,serif\" font-size=\"14.00\">no</text>\n</g>\n<!-- 51 -->\n<g id=\"node84\" class=\"node\">\n<title>51</title>\n<ellipse fill=\"none\" stroke=\"black\" cx=\"8240.09\" cy=\"-105\" rx=\"68.79\" ry=\"18\"/>\n<text text-anchor=\"middle\" x=\"8240.09\" y=\"-101.3\" font-family=\"Times,serif\" font-size=\"14.00\">balance&lt;&#45;71</text>\n</g>\n<!-- 26&#45;&gt;51 -->\n<g id=\"edge83\" class=\"edge\">\n<title>26&#45;&gt;51</title>\n<path fill=\"none\" stroke=\"#0000ff\" d=\"M8240.09,-173.8C8240.09,-162.16 8240.09,-146.55 8240.09,-133.24\"/>\n<polygon fill=\"#0000ff\" stroke=\"#0000ff\" points=\"8243.59,-133.18 8240.09,-123.18 8236.59,-133.18 8243.59,-133.18\"/>\n<text text-anchor=\"middle\" x=\"8284.59\" y=\"-144.8\" font-family=\"Times,serif\" font-size=\"14.00\">yes, missing</text>\n</g>\n<!-- 52 -->\n<g id=\"node85\" class=\"node\">\n<title>52</title>\n<ellipse fill=\"none\" stroke=\"black\" cx=\"8536.09\" cy=\"-105\" rx=\"46.59\" ry=\"18\"/>\n<text text-anchor=\"middle\" x=\"8536.09\" y=\"-101.3\" font-family=\"Times,serif\" font-size=\"14.00\">day&lt;25</text>\n</g>\n<!-- 26&#45;&gt;52 -->\n<g id=\"edge84\" class=\"edge\">\n<title>26&#45;&gt;52</title>\n<path fill=\"none\" stroke=\"#ff0000\" d=\"M8280.32,-179.45C8334.9,-163.78 8432.18,-135.84 8489.75,-119.31\"/>\n<polygon fill=\"#ff0000\" stroke=\"#ff0000\" points=\"8491.03,-122.58 8499.67,-116.46 8489.09,-115.85 8491.03,-122.58\"/>\n<text text-anchor=\"middle\" x=\"8415.09\" y=\"-144.8\" font-family=\"Times,serif\" font-size=\"14.00\">no</text>\n</g>\n<!-- 97 -->\n<g id=\"node82\" class=\"node\">\n<title>97</title>\n<ellipse fill=\"none\" stroke=\"black\" cx=\"7688.09\" cy=\"-18\" rx=\"94.48\" ry=\"18\"/>\n<text text-anchor=\"middle\" x=\"7688.09\" y=\"-14.3\" font-family=\"Times,serif\" font-size=\"14.00\">leaf=&#45;0.36786887</text>\n</g>\n<!-- 49&#45;&gt;97 -->\n<g id=\"edge81\" class=\"edge\">\n<title>49&#45;&gt;97</title>\n<path fill=\"none\" stroke=\"#0000ff\" d=\"M7774.15,-88.01C7758.03,-75.08 7735.11,-56.71 7716.98,-42.17\"/>\n<polygon fill=\"#0000ff\" stroke=\"#0000ff\" points=\"7719.02,-39.31 7709.03,-35.79 7714.64,-44.77 7719.02,-39.31\"/>\n<text text-anchor=\"middle\" x=\"7792.59\" y=\"-57.8\" font-family=\"Times,serif\" font-size=\"14.00\">yes, missing</text>\n</g>\n<!-- 98 -->\n<g id=\"node83\" class=\"node\">\n<title>98</title>\n<ellipse fill=\"none\" stroke=\"black\" cx=\"7900.09\" cy=\"-18\" rx=\"100.18\" ry=\"18\"/>\n<text text-anchor=\"middle\" x=\"7900.09\" y=\"-14.3\" font-family=\"Times,serif\" font-size=\"14.00\">leaf=&#45;0.497435927</text>\n</g>\n<!-- 49&#45;&gt;98 -->\n<g id=\"edge82\" class=\"edge\">\n<title>49&#45;&gt;98</title>\n<path fill=\"none\" stroke=\"#ff0000\" d=\"M7815.83,-88.25C7823.86,-82.32 7832.97,-75.46 7841.09,-69 7851.79,-60.5 7863.31,-50.85 7873.3,-42.31\"/>\n<polygon fill=\"#ff0000\" stroke=\"#ff0000\" points=\"7875.64,-44.92 7880.95,-35.75 7871.08,-39.61 7875.64,-44.92\"/>\n<text text-anchor=\"middle\" x=\"7869.09\" y=\"-57.8\" font-family=\"Times,serif\" font-size=\"14.00\">no</text>\n</g>\n<!-- 99 -->\n<g id=\"node86\" class=\"node\">\n<title>99</title>\n<ellipse fill=\"none\" stroke=\"black\" cx=\"8109.09\" cy=\"-18\" rx=\"90.98\" ry=\"18\"/>\n<text text-anchor=\"middle\" x=\"8109.09\" y=\"-14.3\" font-family=\"Times,serif\" font-size=\"14.00\">leaf=0.24000001</text>\n</g>\n<!-- 51&#45;&gt;99 -->\n<g id=\"edge85\" class=\"edge\">\n<title>51&#45;&gt;99</title>\n<path fill=\"none\" stroke=\"#0000ff\" d=\"M8213.33,-88.29C8203.44,-82.37 8192.18,-75.49 8182.09,-69 8168.45,-60.22 8153.63,-50.17 8140.94,-41.4\"/>\n<polygon fill=\"#0000ff\" stroke=\"#0000ff\" points=\"8142.74,-38.39 8132.53,-35.56 8138.75,-44.14 8142.74,-38.39\"/>\n<text text-anchor=\"middle\" x=\"8226.59\" y=\"-57.8\" font-family=\"Times,serif\" font-size=\"14.00\">yes, missing</text>\n</g>\n<!-- 100 -->\n<g id=\"node87\" class=\"node\">\n<title>100</title>\n<ellipse fill=\"none\" stroke=\"black\" cx=\"8318.09\" cy=\"-18\" rx=\"100.18\" ry=\"18\"/>\n<text text-anchor=\"middle\" x=\"8318.09\" y=\"-14.3\" font-family=\"Times,serif\" font-size=\"14.00\">leaf=&#45;0.109090917</text>\n</g>\n<!-- 51&#45;&gt;100 -->\n<g id=\"edge86\" class=\"edge\">\n<title>51&#45;&gt;100</title>\n<path fill=\"none\" stroke=\"#ff0000\" d=\"M8255.5,-87.21C8266.96,-74.72 8282.78,-57.48 8295.65,-43.46\"/>\n<polygon fill=\"#ff0000\" stroke=\"#ff0000\" points=\"8298.26,-45.78 8302.45,-36.05 8293.11,-41.05 8298.26,-45.78\"/>\n<text text-anchor=\"middle\" x=\"8293.09\" y=\"-57.8\" font-family=\"Times,serif\" font-size=\"14.00\">no</text>\n</g>\n<!-- 101 -->\n<g id=\"node88\" class=\"node\">\n<title>101</title>\n<ellipse fill=\"none\" stroke=\"black\" cx=\"8536.09\" cy=\"-18\" rx=\"100.18\" ry=\"18\"/>\n<text text-anchor=\"middle\" x=\"8536.09\" y=\"-14.3\" font-family=\"Times,serif\" font-size=\"14.00\">leaf=&#45;0.337748349</text>\n</g>\n<!-- 52&#45;&gt;101 -->\n<g id=\"edge87\" class=\"edge\">\n<title>52&#45;&gt;101</title>\n<path fill=\"none\" stroke=\"#0000ff\" d=\"M8536.09,-86.8C8536.09,-75.16 8536.09,-59.55 8536.09,-46.24\"/>\n<polygon fill=\"#0000ff\" stroke=\"#0000ff\" points=\"8539.59,-46.18 8536.09,-36.18 8532.59,-46.18 8539.59,-46.18\"/>\n<text text-anchor=\"middle\" x=\"8580.59\" y=\"-57.8\" font-family=\"Times,serif\" font-size=\"14.00\">yes, missing</text>\n</g>\n<!-- 102 -->\n<g id=\"node89\" class=\"node\">\n<title>102</title>\n<ellipse fill=\"none\" stroke=\"black\" cx=\"8754.09\" cy=\"-18\" rx=\"100.18\" ry=\"18\"/>\n<text text-anchor=\"middle\" x=\"8754.09\" y=\"-14.3\" font-family=\"Times,serif\" font-size=\"14.00\">leaf=&#45;0.100000009</text>\n</g>\n<!-- 52&#45;&gt;102 -->\n<g id=\"edge88\" class=\"edge\">\n<title>52&#45;&gt;102</title>\n<path fill=\"none\" stroke=\"#ff0000\" d=\"M8568.86,-91.85C8586.71,-85.19 8609.15,-76.74 8629.09,-69 8654.66,-59.08 8683.05,-47.75 8706.3,-38.38\"/>\n<polygon fill=\"#ff0000\" stroke=\"#ff0000\" points=\"8707.63,-41.62 8715.6,-34.63 8705.02,-35.13 8707.63,-41.62\"/>\n<text text-anchor=\"middle\" x=\"8676.09\" y=\"-57.8\" font-family=\"Times,serif\" font-size=\"14.00\">no</text>\n</g>\n<!-- 27 -->\n<g id=\"node92\" class=\"node\">\n<title>27</title>\n<ellipse fill=\"none\" stroke=\"black\" cx=\"9486.09\" cy=\"-192\" rx=\"78.79\" ry=\"18\"/>\n<text text-anchor=\"middle\" x=\"9486.09\" y=\"-188.3\" font-family=\"Times,serif\" font-size=\"14.00\">poutcome&lt;1.5</text>\n</g>\n<!-- 13&#45;&gt;27 -->\n<g id=\"edge91\" class=\"edge\">\n<title>13&#45;&gt;27</title>\n<path fill=\"none\" stroke=\"#0000ff\" d=\"M9804.43,-267.75C9740.76,-252.8 9622.09,-224.93 9549,-207.77\"/>\n<polygon fill=\"#0000ff\" stroke=\"#0000ff\" points=\"9549.54,-204.3 9539,-205.42 9547.94,-211.12 9549.54,-204.3\"/>\n<text text-anchor=\"middle\" x=\"9733.59\" y=\"-231.8\" font-family=\"Times,serif\" font-size=\"14.00\">yes, missing</text>\n</g>\n<!-- 28 -->\n<g id=\"node93\" class=\"node\">\n<title>28</title>\n<ellipse fill=\"none\" stroke=\"black\" cx=\"10030.09\" cy=\"-192\" rx=\"52.79\" ry=\"18\"/>\n<text text-anchor=\"middle\" x=\"10030.09\" y=\"-188.3\" font-family=\"Times,serif\" font-size=\"14.00\">loan&lt;0.5</text>\n</g>\n<!-- 13&#45;&gt;28 -->\n<g id=\"edge92\" class=\"edge\">\n<title>13&#45;&gt;28</title>\n<path fill=\"none\" stroke=\"#ff0000\" d=\"M9878.55,-263.77C9909.45,-249.34 9957.38,-226.96 9991.04,-211.24\"/>\n<polygon fill=\"#ff0000\" stroke=\"#ff0000\" points=\"9992.56,-214.39 10000.13,-206.99 9989.59,-208.05 9992.56,-214.39\"/>\n<text text-anchor=\"middle\" x=\"9959.09\" y=\"-231.8\" font-family=\"Times,serif\" font-size=\"14.00\">no</text>\n</g>\n<!-- 29 -->\n<g id=\"node106\" class=\"node\">\n<title>29</title>\n<ellipse fill=\"none\" stroke=\"black\" cx=\"10868.09\" cy=\"-192\" rx=\"55.79\" ry=\"18\"/>\n<text text-anchor=\"middle\" x=\"10868.09\" y=\"-188.3\" font-family=\"Times,serif\" font-size=\"14.00\">day&lt;29.5</text>\n</g>\n<!-- 14&#45;&gt;29 -->\n<g id=\"edge105\" class=\"edge\">\n<title>14&#45;&gt;29</title>\n<path fill=\"none\" stroke=\"#0000ff\" d=\"M10868.09,-260.8C10868.09,-249.16 10868.09,-233.55 10868.09,-220.24\"/>\n<polygon fill=\"#0000ff\" stroke=\"#0000ff\" points=\"10871.59,-220.18 10868.09,-210.18 10864.59,-220.18 10871.59,-220.18\"/>\n<text text-anchor=\"middle\" x=\"10912.59\" y=\"-231.8\" font-family=\"Times,serif\" font-size=\"14.00\">yes, missing</text>\n</g>\n<!-- 30 -->\n<g id=\"node107\" class=\"node\">\n<title>30</title>\n<ellipse fill=\"none\" stroke=\"black\" cx=\"11516.09\" cy=\"-192\" rx=\"86.38\" ry=\"18\"/>\n<text text-anchor=\"middle\" x=\"11516.09\" y=\"-188.3\" font-family=\"Times,serif\" font-size=\"14.00\">balance&lt;9004.5</text>\n</g>\n<!-- 14&#45;&gt;30 -->\n<g id=\"edge106\" class=\"edge\">\n<title>14&#45;&gt;30</title>\n<path fill=\"none\" stroke=\"#ff0000\" d=\"M10935.6,-269.14C11055.54,-253.41 11305.26,-220.66 11434.56,-203.69\"/>\n<polygon fill=\"#ff0000\" stroke=\"#ff0000\" points=\"11435.34,-207.12 11444.8,-202.35 11434.43,-200.18 11435.34,-207.12\"/>\n<text text-anchor=\"middle\" x=\"11240.09\" y=\"-231.8\" font-family=\"Times,serif\" font-size=\"14.00\">no</text>\n</g>\n<!-- 53 -->\n<g id=\"node94\" class=\"node\">\n<title>53</title>\n<ellipse fill=\"none\" stroke=\"black\" cx=\"9190.09\" cy=\"-105\" rx=\"75.29\" ry=\"18\"/>\n<text text-anchor=\"middle\" x=\"9190.09\" y=\"-101.3\" font-family=\"Times,serif\" font-size=\"14.00\">duration&lt;974</text>\n</g>\n<!-- 27&#45;&gt;53 -->\n<g id=\"edge93\" class=\"edge\">\n<title>27&#45;&gt;53</title>\n<path fill=\"none\" stroke=\"#0000ff\" d=\"M9439.19,-177.53C9386.75,-162.47 9301.87,-138.1 9246.02,-122.06\"/>\n<polygon fill=\"#0000ff\" stroke=\"#0000ff\" points=\"9246.86,-118.66 9236.29,-119.27 9244.93,-125.39 9246.86,-118.66\"/>\n<text text-anchor=\"middle\" x=\"9400.59\" y=\"-144.8\" font-family=\"Times,serif\" font-size=\"14.00\">yes, missing</text>\n</g>\n<!-- 54 -->\n<g id=\"node95\" class=\"node\">\n<title>54</title>\n<ellipse fill=\"none\" stroke=\"black\" cx=\"9486.09\" cy=\"-105\" rx=\"90.18\" ry=\"18\"/>\n<text text-anchor=\"middle\" x=\"9486.09\" y=\"-101.3\" font-family=\"Times,serif\" font-size=\"14.00\">duration&lt;1221.5</text>\n</g>\n<!-- 27&#45;&gt;54 -->\n<g id=\"edge94\" class=\"edge\">\n<title>27&#45;&gt;54</title>\n<path fill=\"none\" stroke=\"#ff0000\" d=\"M9486.09,-173.8C9486.09,-162.16 9486.09,-146.55 9486.09,-133.24\"/>\n<polygon fill=\"#ff0000\" stroke=\"#ff0000\" points=\"9489.59,-133.18 9486.09,-123.18 9482.59,-133.18 9489.59,-133.18\"/>\n<text text-anchor=\"middle\" x=\"9495.09\" y=\"-144.8\" font-family=\"Times,serif\" font-size=\"14.00\">no</text>\n</g>\n<!-- 55 -->\n<g id=\"node100\" class=\"node\">\n<title>55</title>\n<ellipse fill=\"none\" stroke=\"black\" cx=\"10030.09\" cy=\"-105\" rx=\"55.79\" ry=\"18\"/>\n<text text-anchor=\"middle\" x=\"10030.09\" y=\"-101.3\" font-family=\"Times,serif\" font-size=\"14.00\">day&lt;22.5</text>\n</g>\n<!-- 28&#45;&gt;55 -->\n<g id=\"edge99\" class=\"edge\">\n<title>28&#45;&gt;55</title>\n<path fill=\"none\" stroke=\"#0000ff\" d=\"M10030.09,-173.8C10030.09,-162.16 10030.09,-146.55 10030.09,-133.24\"/>\n<polygon fill=\"#0000ff\" stroke=\"#0000ff\" points=\"10033.59,-133.18 10030.09,-123.18 10026.59,-133.18 10033.59,-133.18\"/>\n<text text-anchor=\"middle\" x=\"10074.59\" y=\"-144.8\" font-family=\"Times,serif\" font-size=\"14.00\">yes, missing</text>\n</g>\n<!-- 56 -->\n<g id=\"node101\" class=\"node\">\n<title>56</title>\n<ellipse fill=\"none\" stroke=\"black\" cx=\"10212.09\" cy=\"-105\" rx=\"78.79\" ry=\"18\"/>\n<text text-anchor=\"middle\" x=\"10212.09\" y=\"-101.3\" font-family=\"Times,serif\" font-size=\"14.00\">education&lt;0.5</text>\n</g>\n<!-- 28&#45;&gt;56 -->\n<g id=\"edge100\" class=\"edge\">\n<title>28&#45;&gt;56</title>\n<path fill=\"none\" stroke=\"#ff0000\" d=\"M10066.39,-178.79C10083.8,-172.57 10104.79,-164.52 10123.09,-156 10141.22,-147.56 10160.66,-136.84 10176.73,-127.5\"/>\n<polygon fill=\"#ff0000\" stroke=\"#ff0000\" points=\"10178.93,-130.27 10185.77,-122.18 10175.38,-124.23 10178.93,-130.27\"/>\n<text text-anchor=\"middle\" x=\"10160.09\" y=\"-144.8\" font-family=\"Times,serif\" font-size=\"14.00\">no</text>\n</g>\n<!-- 103 -->\n<g id=\"node96\" class=\"node\">\n<title>103</title>\n<ellipse fill=\"none\" stroke=\"black\" cx=\"8969.09\" cy=\"-18\" rx=\"96.68\" ry=\"18\"/>\n<text text-anchor=\"middle\" x=\"8969.09\" y=\"-14.3\" font-family=\"Times,serif\" font-size=\"14.00\">leaf=0.171428591</text>\n</g>\n<!-- 53&#45;&gt;103 -->\n<g id=\"edge95\" class=\"edge\">\n<title>53&#45;&gt;103</title>\n<path fill=\"none\" stroke=\"#0000ff\" d=\"M9151.14,-89.46C9134.47,-83.21 9114.81,-75.79 9097.09,-69 9070.95,-58.98 9041.89,-47.64 9018.07,-38.3\"/>\n<polygon fill=\"#0000ff\" stroke=\"#0000ff\" points=\"9019.13,-34.95 9008.54,-34.56 9016.57,-41.47 9019.13,-34.95\"/>\n<text text-anchor=\"middle\" x=\"9141.59\" y=\"-57.8\" font-family=\"Times,serif\" font-size=\"14.00\">yes, missing</text>\n</g>\n<!-- 104 -->\n<g id=\"node97\" class=\"node\">\n<title>104</title>\n<ellipse fill=\"none\" stroke=\"black\" cx=\"9190.09\" cy=\"-18\" rx=\"105.88\" ry=\"18\"/>\n<text text-anchor=\"middle\" x=\"9190.09\" y=\"-14.3\" font-family=\"Times,serif\" font-size=\"14.00\">leaf=&#45;0.0206896551</text>\n</g>\n<!-- 53&#45;&gt;104 -->\n<g id=\"edge96\" class=\"edge\">\n<title>53&#45;&gt;104</title>\n<path fill=\"none\" stroke=\"#ff0000\" d=\"M9190.09,-86.8C9190.09,-75.16 9190.09,-59.55 9190.09,-46.24\"/>\n<polygon fill=\"#ff0000\" stroke=\"#ff0000\" points=\"9193.59,-46.18 9190.09,-36.18 9186.59,-46.18 9193.59,-46.18\"/>\n<text text-anchor=\"middle\" x=\"9199.09\" y=\"-57.8\" font-family=\"Times,serif\" font-size=\"14.00\">no</text>\n</g>\n<!-- 105 -->\n<g id=\"node98\" class=\"node\">\n<title>105</title>\n<ellipse fill=\"none\" stroke=\"black\" cx=\"9405.09\" cy=\"-18\" rx=\"90.98\" ry=\"18\"/>\n<text text-anchor=\"middle\" x=\"9405.09\" y=\"-14.3\" font-family=\"Times,serif\" font-size=\"14.00\">leaf=0.16299212</text>\n</g>\n<!-- 54&#45;&gt;105 -->\n<g id=\"edge97\" class=\"edge\">\n<title>54&#45;&gt;105</title>\n<path fill=\"none\" stroke=\"#0000ff\" d=\"M9470.09,-87.21C9458.11,-74.63 9441.54,-57.25 9428.14,-43.18\"/>\n<polygon fill=\"#0000ff\" stroke=\"#0000ff\" points=\"9430.49,-40.58 9421.06,-35.76 9425.43,-45.41 9430.49,-40.58\"/>\n<text text-anchor=\"middle\" x=\"9495.59\" y=\"-57.8\" font-family=\"Times,serif\" font-size=\"14.00\">yes, missing</text>\n</g>\n<!-- 106 -->\n<g id=\"node99\" class=\"node\">\n<title>106</title>\n<ellipse fill=\"none\" stroke=\"black\" cx=\"9611.09\" cy=\"-18\" rx=\"96.68\" ry=\"18\"/>\n<text text-anchor=\"middle\" x=\"9611.09\" y=\"-14.3\" font-family=\"Times,serif\" font-size=\"14.00\">leaf=0.289552242</text>\n</g>\n<!-- 54&#45;&gt;106 -->\n<g id=\"edge98\" class=\"edge\">\n<title>54&#45;&gt;106</title>\n<path fill=\"none\" stroke=\"#ff0000\" d=\"M9514.17,-87.81C9523.79,-82.07 9534.53,-75.43 9544.09,-69 9556.69,-60.53 9570.18,-50.63 9581.73,-41.89\"/>\n<polygon fill=\"#ff0000\" stroke=\"#ff0000\" points=\"9583.93,-44.61 9589.75,-35.76 9579.68,-39.05 9583.93,-44.61\"/>\n<text text-anchor=\"middle\" x=\"9574.09\" y=\"-57.8\" font-family=\"Times,serif\" font-size=\"14.00\">no</text>\n</g>\n<!-- 107 -->\n<g id=\"node102\" class=\"node\">\n<title>107</title>\n<ellipse fill=\"none\" stroke=\"black\" cx=\"9829.09\" cy=\"-18\" rx=\"102.88\" ry=\"18\"/>\n<text text-anchor=\"middle\" x=\"9829.09\" y=\"-14.3\" font-family=\"Times,serif\" font-size=\"14.00\">leaf=0.0222222228</text>\n</g>\n<!-- 55&#45;&gt;107 -->\n<g id=\"edge101\" class=\"edge\">\n<title>55&#45;&gt;107</title>\n<path fill=\"none\" stroke=\"#0000ff\" d=\"M9996.95,-90.27C9981.48,-83.84 9962.83,-76.06 9946.09,-69 9922.69,-59.12 9896.71,-48.03 9875.18,-38.81\"/>\n<polygon fill=\"#0000ff\" stroke=\"#0000ff\" points=\"9876.51,-35.57 9865.94,-34.85 9873.75,-42.01 9876.51,-35.57\"/>\n<text text-anchor=\"middle\" x=\"9990.59\" y=\"-57.8\" font-family=\"Times,serif\" font-size=\"14.00\">yes, missing</text>\n</g>\n<!-- 108 -->\n<g id=\"node103\" class=\"node\">\n<title>108</title>\n<ellipse fill=\"none\" stroke=\"black\" cx=\"10050.09\" cy=\"-18\" rx=\"100.18\" ry=\"18\"/>\n<text text-anchor=\"middle\" x=\"10050.09\" y=\"-14.3\" font-family=\"Times,serif\" font-size=\"14.00\">leaf=&#45;0.300000012</text>\n</g>\n<!-- 55&#45;&gt;108 -->\n<g id=\"edge102\" class=\"edge\">\n<title>55&#45;&gt;108</title>\n<path fill=\"none\" stroke=\"#ff0000\" d=\"M10034.14,-86.8C10036.88,-75.16 10040.55,-59.55 10043.68,-46.24\"/>\n<polygon fill=\"#ff0000\" stroke=\"#ff0000\" points=\"10047.17,-46.71 10046.05,-36.18 10040.35,-45.11 10047.17,-46.71\"/>\n<text text-anchor=\"middle\" x=\"10051.09\" y=\"-57.8\" font-family=\"Times,serif\" font-size=\"14.00\">no</text>\n</g>\n<!-- 109 -->\n<g id=\"node104\" class=\"node\">\n<title>109</title>\n<ellipse fill=\"none\" stroke=\"black\" cx=\"10212.09\" cy=\"-18\" rx=\"44.39\" ry=\"18\"/>\n<text text-anchor=\"middle\" x=\"10212.09\" y=\"-14.3\" font-family=\"Times,serif\" font-size=\"14.00\">leaf=&#45;0</text>\n</g>\n<!-- 56&#45;&gt;109 -->\n<g id=\"edge103\" class=\"edge\">\n<title>56&#45;&gt;109</title>\n<path fill=\"none\" stroke=\"#0000ff\" d=\"M10212.09,-86.8C10212.09,-75.16 10212.09,-59.55 10212.09,-46.24\"/>\n<polygon fill=\"#0000ff\" stroke=\"#0000ff\" points=\"10215.59,-46.18 10212.09,-36.18 10208.59,-46.18 10215.59,-46.18\"/>\n<text text-anchor=\"middle\" x=\"10256.59\" y=\"-57.8\" font-family=\"Times,serif\" font-size=\"14.00\">yes, missing</text>\n</g>\n<!-- 110 -->\n<g id=\"node105\" class=\"node\">\n<title>110</title>\n<ellipse fill=\"none\" stroke=\"black\" cx=\"10371.09\" cy=\"-18\" rx=\"96.68\" ry=\"18\"/>\n<text text-anchor=\"middle\" x=\"10371.09\" y=\"-14.3\" font-family=\"Times,serif\" font-size=\"14.00\">leaf=0.400000036</text>\n</g>\n<!-- 56&#45;&gt;110 -->\n<g id=\"edge104\" class=\"edge\">\n<title>56&#45;&gt;110</title>\n<path fill=\"none\" stroke=\"#ff0000\" d=\"M10256.78,-90.13C10272.49,-84.5 10289.99,-77.33 10305.09,-69 10318.76,-61.46 10332.72,-51.31 10344.25,-42.13\"/>\n<polygon fill=\"#ff0000\" stroke=\"#ff0000\" points=\"10346.64,-44.7 10352.18,-35.67 10342.22,-39.27 10346.64,-44.7\"/>\n<text text-anchor=\"middle\" x=\"10337.09\" y=\"-57.8\" font-family=\"Times,serif\" font-size=\"14.00\">no</text>\n</g>\n<!-- 57 -->\n<g id=\"node108\" class=\"node\">\n<title>57</title>\n<ellipse fill=\"none\" stroke=\"black\" cx=\"10786.09\" cy=\"-105\" rx=\"66.89\" ry=\"18\"/>\n<text text-anchor=\"middle\" x=\"10786.09\" y=\"-101.3\" font-family=\"Times,serif\" font-size=\"14.00\">marital&lt;0.5</text>\n</g>\n<!-- 29&#45;&gt;57 -->\n<g id=\"edge107\" class=\"edge\">\n<title>29&#45;&gt;57</title>\n<path fill=\"none\" stroke=\"#0000ff\" d=\"M10852.28,-174.61C10840.11,-161.99 10823.1,-144.36 10809.37,-130.13\"/>\n<polygon fill=\"#0000ff\" stroke=\"#0000ff\" points=\"10811.59,-127.4 10802.13,-122.63 10806.56,-132.26 10811.59,-127.4\"/>\n<text text-anchor=\"middle\" x=\"10876.59\" y=\"-144.8\" font-family=\"Times,serif\" font-size=\"14.00\">yes, missing</text>\n</g>\n<!-- 58 -->\n<g id=\"node109\" class=\"node\">\n<title>58</title>\n<ellipse fill=\"none\" stroke=\"black\" cx=\"11001.09\" cy=\"-105\" rx=\"71.49\" ry=\"18\"/>\n<text text-anchor=\"middle\" x=\"11001.09\" y=\"-101.3\" font-family=\"Times,serif\" font-size=\"14.00\">balance&lt;393</text>\n</g>\n<!-- 29&#45;&gt;58 -->\n<g id=\"edge108\" class=\"edge\">\n<title>29&#45;&gt;58</title>\n<path fill=\"none\" stroke=\"#ff0000\" d=\"M10893.17,-175.83C10903.15,-169.74 10914.7,-162.6 10925.09,-156 10939.41,-146.89 10955.1,-136.62 10968.49,-127.77\"/>\n<polygon fill=\"#ff0000\" stroke=\"#ff0000\" points=\"10970.52,-130.63 10976.92,-122.18 10966.65,-124.79 10970.52,-130.63\"/>\n<text text-anchor=\"middle\" x=\"10958.09\" y=\"-144.8\" font-family=\"Times,serif\" font-size=\"14.00\">no</text>\n</g>\n<!-- 59 -->\n<g id=\"node114\" class=\"node\">\n<title>59</title>\n<ellipse fill=\"none\" stroke=\"black\" cx=\"11516.09\" cy=\"-105\" rx=\"77.99\" ry=\"18\"/>\n<text text-anchor=\"middle\" x=\"11516.09\" y=\"-101.3\" font-family=\"Times,serif\" font-size=\"14.00\">campaign&lt;5.5</text>\n</g>\n<!-- 30&#45;&gt;59 -->\n<g id=\"edge113\" class=\"edge\">\n<title>30&#45;&gt;59</title>\n<path fill=\"none\" stroke=\"#0000ff\" d=\"M11516.09,-173.8C11516.09,-162.16 11516.09,-146.55 11516.09,-133.24\"/>\n<polygon fill=\"#0000ff\" stroke=\"#0000ff\" points=\"11519.59,-133.18 11516.09,-123.18 11512.59,-133.18 11519.59,-133.18\"/>\n<text text-anchor=\"middle\" x=\"11560.59\" y=\"-144.8\" font-family=\"Times,serif\" font-size=\"14.00\">yes, missing</text>\n</g>\n<!-- 60 -->\n<g id=\"node115\" class=\"node\">\n<title>60</title>\n<ellipse fill=\"none\" stroke=\"black\" cx=\"11864.09\" cy=\"-105\" rx=\"90.18\" ry=\"18\"/>\n<text text-anchor=\"middle\" x=\"11864.09\" y=\"-101.3\" font-family=\"Times,serif\" font-size=\"14.00\">duration&lt;1253.5</text>\n</g>\n<!-- 30&#45;&gt;60 -->\n<g id=\"edge114\" class=\"edge\">\n<title>30&#45;&gt;60</title>\n<path fill=\"none\" stroke=\"#ff0000\" d=\"M11570.08,-177.81C11632.01,-162.69 11733.46,-137.91 11799.51,-121.77\"/>\n<polygon fill=\"#ff0000\" stroke=\"#ff0000\" points=\"11800.51,-125.13 11809.4,-119.36 11798.85,-118.33 11800.51,-125.13\"/>\n<text text-anchor=\"middle\" x=\"11720.09\" y=\"-144.8\" font-family=\"Times,serif\" font-size=\"14.00\">no</text>\n</g>\n<!-- 111 -->\n<g id=\"node110\" class=\"node\">\n<title>111</title>\n<ellipse fill=\"none\" stroke=\"black\" cx=\"10577.09\" cy=\"-18\" rx=\"90.98\" ry=\"18\"/>\n<text text-anchor=\"middle\" x=\"10577.09\" y=\"-14.3\" font-family=\"Times,serif\" font-size=\"14.00\">leaf=0.13636364</text>\n</g>\n<!-- 57&#45;&gt;111 -->\n<g id=\"edge109\" class=\"edge\">\n<title>57&#45;&gt;111</title>\n<path fill=\"none\" stroke=\"#0000ff\" d=\"M10747.93,-90.1C10731.05,-83.83 10711.01,-76.23 10693.09,-69 10669.26,-59.39 10642.95,-48.1 10621.41,-38.69\"/>\n<polygon fill=\"#0000ff\" stroke=\"#0000ff\" points=\"10622.76,-35.45 10612.19,-34.64 10619.94,-41.86 10622.76,-35.45\"/>\n<text text-anchor=\"middle\" x=\"10737.59\" y=\"-57.8\" font-family=\"Times,serif\" font-size=\"14.00\">yes, missing</text>\n</g>\n<!-- 112 -->\n<g id=\"node111\" class=\"node\">\n<title>112</title>\n<ellipse fill=\"none\" stroke=\"black\" cx=\"10786.09\" cy=\"-18\" rx=\"100.18\" ry=\"18\"/>\n<text text-anchor=\"middle\" x=\"10786.09\" y=\"-14.3\" font-family=\"Times,serif\" font-size=\"14.00\">leaf=&#45;0.134482771</text>\n</g>\n<!-- 57&#45;&gt;112 -->\n<g id=\"edge110\" class=\"edge\">\n<title>57&#45;&gt;112</title>\n<path fill=\"none\" stroke=\"#ff0000\" d=\"M10786.09,-86.8C10786.09,-75.16 10786.09,-59.55 10786.09,-46.24\"/>\n<polygon fill=\"#ff0000\" stroke=\"#ff0000\" points=\"10789.59,-46.18 10786.09,-36.18 10782.59,-46.18 10789.59,-46.18\"/>\n<text text-anchor=\"middle\" x=\"10795.09\" y=\"-57.8\" font-family=\"Times,serif\" font-size=\"14.00\">no</text>\n</g>\n<!-- 113 -->\n<g id=\"node112\" class=\"node\">\n<title>113</title>\n<ellipse fill=\"none\" stroke=\"black\" cx=\"11001.09\" cy=\"-18\" rx=\"96.68\" ry=\"18\"/>\n<text text-anchor=\"middle\" x=\"11001.09\" y=\"-14.3\" font-family=\"Times,serif\" font-size=\"14.00\">leaf=0.381818205</text>\n</g>\n<!-- 58&#45;&gt;113 -->\n<g id=\"edge111\" class=\"edge\">\n<title>58&#45;&gt;113</title>\n<path fill=\"none\" stroke=\"#0000ff\" d=\"M11001.09,-86.8C11001.09,-75.16 11001.09,-59.55 11001.09,-46.24\"/>\n<polygon fill=\"#0000ff\" stroke=\"#0000ff\" points=\"11004.59,-46.18 11001.09,-36.18 10997.59,-46.18 11004.59,-46.18\"/>\n<text text-anchor=\"middle\" x=\"11045.59\" y=\"-57.8\" font-family=\"Times,serif\" font-size=\"14.00\">yes, missing</text>\n</g>\n<!-- 114 -->\n<g id=\"node113\" class=\"node\">\n<title>114</title>\n<ellipse fill=\"none\" stroke=\"black\" cx=\"11219.09\" cy=\"-18\" rx=\"102.88\" ry=\"18\"/>\n<text text-anchor=\"middle\" x=\"11219.09\" y=\"-14.3\" font-family=\"Times,serif\" font-size=\"14.00\">leaf=0.0666666701</text>\n</g>\n<!-- 58&#45;&gt;114 -->\n<g id=\"edge112\" class=\"edge\">\n<title>58&#45;&gt;114</title>\n<path fill=\"none\" stroke=\"#ff0000\" d=\"M11039.62,-89.7C11056.38,-83.43 11076.24,-75.93 11094.09,-69 11119.56,-59.11 11147.83,-47.83 11171.04,-38.49\"/>\n<polygon fill=\"#ff0000\" stroke=\"#ff0000\" points=\"11172.36,-41.73 11180.32,-34.75 11169.74,-35.24 11172.36,-41.73\"/>\n<text text-anchor=\"middle\" x=\"11141.09\" y=\"-57.8\" font-family=\"Times,serif\" font-size=\"14.00\">no</text>\n</g>\n<!-- 115 -->\n<g id=\"node116\" class=\"node\">\n<title>115</title>\n<ellipse fill=\"none\" stroke=\"black\" cx=\"11437.09\" cy=\"-18\" rx=\"96.68\" ry=\"18\"/>\n<text text-anchor=\"middle\" x=\"11437.09\" y=\"-14.3\" font-family=\"Times,serif\" font-size=\"14.00\">leaf=0.097674422</text>\n</g>\n<!-- 59&#45;&gt;115 -->\n<g id=\"edge115\" class=\"edge\">\n<title>59&#45;&gt;115</title>\n<path fill=\"none\" stroke=\"#0000ff\" d=\"M11500.48,-87.21C11488.87,-74.72 11472.85,-57.48 11459.82,-43.46\"/>\n<polygon fill=\"#0000ff\" stroke=\"#0000ff\" points=\"11462.31,-40.99 11452.94,-36.05 11457.18,-45.76 11462.31,-40.99\"/>\n<text text-anchor=\"middle\" x=\"11526.59\" y=\"-57.8\" font-family=\"Times,serif\" font-size=\"14.00\">yes, missing</text>\n</g>\n<!-- 116 -->\n<g id=\"node117\" class=\"node\">\n<title>116</title>\n<ellipse fill=\"none\" stroke=\"black\" cx=\"11649.09\" cy=\"-18\" rx=\"96.68\" ry=\"18\"/>\n<text text-anchor=\"middle\" x=\"11649.09\" y=\"-14.3\" font-family=\"Times,serif\" font-size=\"14.00\">leaf=0.420000017</text>\n</g>\n<!-- 59&#45;&gt;116 -->\n<g id=\"edge116\" class=\"edge\">\n<title>59&#45;&gt;116</title>\n<path fill=\"none\" stroke=\"#ff0000\" d=\"M11543.61,-88.13C11553.6,-82.24 11564.93,-75.44 11575.09,-69 11588.92,-60.23 11603.94,-50.19 11616.81,-41.41\"/>\n<polygon fill=\"#ff0000\" stroke=\"#ff0000\" points=\"11619.06,-44.11 11625.33,-35.57 11615.1,-38.34 11619.06,-44.11\"/>\n<text text-anchor=\"middle\" x=\"11607.09\" y=\"-57.8\" font-family=\"Times,serif\" font-size=\"14.00\">no</text>\n</g>\n<!-- 117 -->\n<g id=\"node118\" class=\"node\">\n<title>117</title>\n<ellipse fill=\"none\" stroke=\"black\" cx=\"11864.09\" cy=\"-18\" rx=\"100.18\" ry=\"18\"/>\n<text text-anchor=\"middle\" x=\"11864.09\" y=\"-14.3\" font-family=\"Times,serif\" font-size=\"14.00\">leaf=&#45;0.400000036</text>\n</g>\n<!-- 60&#45;&gt;117 -->\n<g id=\"edge117\" class=\"edge\">\n<title>60&#45;&gt;117</title>\n<path fill=\"none\" stroke=\"#0000ff\" d=\"M11864.09,-86.8C11864.09,-75.16 11864.09,-59.55 11864.09,-46.24\"/>\n<polygon fill=\"#0000ff\" stroke=\"#0000ff\" points=\"11867.59,-46.18 11864.09,-36.18 11860.59,-46.18 11867.59,-46.18\"/>\n<text text-anchor=\"middle\" x=\"11908.59\" y=\"-57.8\" font-family=\"Times,serif\" font-size=\"14.00\">yes, missing</text>\n</g>\n<!-- 118 -->\n<g id=\"node119\" class=\"node\">\n<title>118</title>\n<ellipse fill=\"none\" stroke=\"black\" cx=\"12079.09\" cy=\"-18\" rx=\"96.68\" ry=\"18\"/>\n<text text-anchor=\"middle\" x=\"12079.09\" y=\"-14.3\" font-family=\"Times,serif\" font-size=\"14.00\">leaf=0.150000006</text>\n</g>\n<!-- 60&#45;&gt;118 -->\n<g id=\"edge118\" class=\"edge\">\n<title>60&#45;&gt;118</title>\n<path fill=\"none\" stroke=\"#ff0000\" d=\"M11904.93,-88.92C11921.2,-82.84 11940.07,-75.69 11957.09,-69 11981.98,-59.22 12009.55,-47.95 12032.18,-38.6\"/>\n<polygon fill=\"#ff0000\" stroke=\"#ff0000\" points=\"12033.66,-41.77 12041.56,-34.71 12030.98,-35.31 12033.66,-41.77\"/>\n<text text-anchor=\"middle\" x=\"12003.09\" y=\"-57.8\" font-family=\"Times,serif\" font-size=\"14.00\">no</text>\n</g>\n</g>\n</svg>\n",
      "text/plain": [
       "<graphviz.sources.Source at 0x7f2789f7ecd0>"
      ]
     },
     "execution_count": 88,
     "metadata": {},
     "output_type": "execute_result"
    }
   ],
   "source": [
    "# Importa o método to_graphviz do xgboost\n",
    "from xgboost import to_graphviz\n",
    "\n",
    "to_graphviz(xgb)"
   ]
  },
  {
   "cell_type": "code",
   "execution_count": 76,
   "metadata": {},
   "outputs": [
    {
     "data": {
      "image/png": "[encoded data removed]",
      "text/plain": [
       "<Figure size 432x288 with 1 Axes>"
      ]
     },
     "metadata": {
      "needs_background": "light"
     },
     "output_type": "display_data"
    }
   ],
   "source": [
    "features = x.columns\n",
    "importances = model_rf.feature_importances_\n",
    "indices = np.argsort(importances)\n",
    "\n",
    "plt.title('Feature Importances')\n",
    "plt.barh(range(len(indices)), importances[indices], color='b', align='center')\n",
    "plt.yticks(range(len(indices)), [features[i] for i in indices])\n",
    "plt.xlabel('Relative Importance')\n",
    "plt.show()"
   ]
  },
  {
   "cell_type": "markdown",
   "metadata": {},
   "source": [
    "Podemos criar modelos menos complexos selecionando as features mais importantes:"
   ]
  },
  {
   "cell_type": "code",
   "execution_count": 77,
   "metadata": {},
   "outputs": [],
   "source": [
    "# Vamos considerar apenas as 3 features mais importantes\n",
    "x_importance = x[['duration', 'balance', 'age']]\n",
    "\n",
    "#### particionar dados\n",
    "from sklearn.model_selection import train_test_split \n",
    "\n",
    "x_train, x_test, y_train, y_test = train_test_split(x_importance, y, stratify=y, test_size=0.2, random_state=42) \n"
   ]
  },
  {
   "cell_type": "code",
   "execution_count": 78,
   "metadata": {},
   "outputs": [],
   "source": [
    "model_rf = RandomForestClassifier(n_estimators=50, random_state=42)\n",
    "model_rf.fit(x_train, y_train)\n",
    "y_pred_rf = model_rf.predict(x_test)"
   ]
  },
  {
   "cell_type": "code",
   "execution_count": 79,
   "metadata": {},
   "outputs": [
    {
     "data": {
      "text/plain": [
       "<sklearn.metrics._plot.confusion_matrix.ConfusionMatrixDisplay at 0x7f2789e9de20>"
      ]
     },
     "execution_count": 79,
     "metadata": {},
     "output_type": "execute_result"
    },
    {
     "data": {
      "image/png": "[encoded data removed]",
      "text/plain": [
       "<Figure size 432x288 with 2 Axes>"
      ]
     },
     "metadata": {
      "needs_background": "light"
     },
     "output_type": "display_data"
    }
   ],
   "source": [
    "cm = confusion_matrix(y_test, y_pred_rf)\n",
    "ConfusionMatrixDisplay(cm).plot()"
   ]
  },
  {
   "cell_type": "code",
   "execution_count": 80,
   "metadata": {},
   "outputs": [
    {
     "name": "stdout",
     "output_type": "stream",
     "text": [
      "              precision    recall  f1-score   support\n",
      "\n",
      "           0       0.90      0.97      0.93      7985\n",
      "           1       0.47      0.22      0.30      1058\n",
      "\n",
      "    accuracy                           0.88      9043\n",
      "   macro avg       0.69      0.60      0.62      9043\n",
      "weighted avg       0.85      0.88      0.86      9043\n",
      "\n"
     ]
    }
   ],
   "source": [
    "print(classification_report(y_test, y_pred_rf))"
   ]
  },
  {
   "cell_type": "markdown",
   "metadata": {},
   "source": [
    "## Vantagens e Desvantagens\n",
    "__Vantagens:__\n",
    "* Geralmente fornecem modelos com alta acurácia (classificação)\n",
    "* Necessita de pouco tratamento dos dados (modelos de árvore são muito pouco sensíveis ao scaling, mas vc pode tentar!)\n",
    "* Conseguem lidar com dados faltantes (dois métodos: média dos valores para repor variáveis contínuas e  computa proximity-weighted average)\n",
    "* Fornece uma estimativa da importancia das features\n",
    "* São robustos aos [outliers](https://stats.stackexchange.com/questions/187200/how-are-random-forests-not-sensitive-to-outliers) nas variáveis independentes e conseguem lidar com eles automaticamente (tendem a isolar os outliers)\n",
    "* Podem ser usados na seleção de features\n",
    "* Conseguem construir fronteiras de decisão não-lineares\n",
    "* Os dados não precisam seguir uma distribuição normal (como em modelos lineares), mas vale testar!\n",
    "* Lidam bem com uma quantidade muito grande de dados e features\n",
    "\n",
    "__Desvantagens:__\n",
    "* No RF, AdaBoost e XGBoost as variáveis categóricas não ordinais devem ser convertidas para dummie ([mean encoding](https://towardsdatascience.com/why-you-should-try-mean-encoding-17057262cd0))\n",
    "* Não é recomendado utilizar nenhum modelo que depende do bagging em problemas com classes desbalanceados. Em dados extremamente desbalanceados existe uma probabilidade significativa de uma amostra ser selecionada com poucas ou nenhuma amostra da classe minoritária.\n",
    "* Não é muitor recomendado na extrapolação de dados (suponha a predição de preço de casas. Se sua regressão linear foi treinada com casas até 4 quartos e no teste aparece uma de 8 você consegue extrapolar e prever de forma consistente. Com os modelos de árvore não.)\n",
    "* Em geral, não lidam bem com dados muito esparsos.\n",
    "* É menos interpretável que uma regressão linear ou uma árvore de decisão, por exemplo.\n"
   ]
  },
  {
   "cell_type": "markdown",
   "metadata": {},
   "source": [
    "## Bibliografia e Aprofundamento\n",
    "- [Problemas com as variáveis dummie](https://towardsdatascience.com/one-hot-encoding-is-making-your-tree-based-ensembles-worse-heres-why-d64b282b5769)\n",
    "- [When to avoid RF](https://stats.stackexchange.com/questions/112148/when-to-avoid-random-forest)\n",
    "- [Very skewed data](https://stats.stackexchange.com/questions/172842/best-practices-with-data-wrangling-before-running-random-forest-predictions)\n",
    "- [Como RF lida com missing](https://www.numpyninja.com/post/all-about-random-forests-and-handling-missing-values-in-them)\n",
    "- [Feature Importance x Feature Permutation](https://scikit-learn.org/stable/auto_examples/ensemble/plot_forest_importances.html#sphx-glr-auto-examples-ensemble-plot-forest-importances-py)\n",
    "- [Out-of-bag error](https://en.wikipedia.org/wiki/Out-of-bag_error)\n",
    "- [OOB error vs. test set error](https://uc-r.github.io/random_forests)\n",
    "- [Principais dúvidas no XGBoost](https://towardsdatascience.com/20-burning-xgboost-faqs-answered-to-use-the-library-like-a-pro-f8013b8df3e4)"
   ]
  },
  {
   "cell_type": "markdown",
   "metadata": {},
   "source": []
  }
 ],
 "metadata": {
  "kernelspec": {
   "display_name": "Python 3 (ipykernel)",
   "language": "python",
   "name": "python3"
  },
  "language_info": {
   "codemirror_mode": {
    "name": "ipython",
    "version": 3
   },
   "file_extension": ".py",
   "mimetype": "text/x-python",
   "name": "python",
   "nbconvert_exporter": "python",
   "pygments_lexer": "ipython3",
   "version": "3.9.5"
  },
  "toc": {
   "base_numbering": 1,
   "nav_menu": {},
   "number_sections": true,
   "sideBar": true,
   "skip_h1_title": false,
   "title_cell": "Table of Contents",
   "title_sidebar": "Contents",
   "toc_cell": false,
   "toc_position": {
    "height": "calc(100% - 180px)",
    "left": "10px",
    "top": "150px",
    "width": "259.188px"
   },
   "toc_section_display": true,
   "toc_window_display": false
  },
  "varInspector": {
   "cols": {
    "lenName": 16,
    "lenType": 16,
    "lenVar": 40
   },
   "kernels_config": {
    "python": {
     "delete_cmd_postfix": "",
     "delete_cmd_prefix": "del ",
     "library": "var_list.py",
     "varRefreshCmd": "print(var_dic_list())"
    },
    "r": {
     "delete_cmd_postfix": ") ",
     "delete_cmd_prefix": "rm(",
     "library": "var_list.r",
     "varRefreshCmd": "cat(var_dic_list()) "
    }
   },
   "types_to_exclude": [
    "module",
    "function",
    "builtin_function_or_method",
    "instance",
    "_Feature"
   ],
   "window_display": false
  }
 },
 "nbformat": 4,
 "nbformat_minor": 2
}
