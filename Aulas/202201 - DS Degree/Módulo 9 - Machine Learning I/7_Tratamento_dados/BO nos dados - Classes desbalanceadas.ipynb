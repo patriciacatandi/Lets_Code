{
 "cells": [
  {
   "cell_type": "markdown",
   "metadata": {
    "toc": true
   },
   "source": [
    "<h1>Table of Contents<span class=\"tocSkip\"></span></h1>\n",
    "<div class=\"toc\"><ul class=\"toc-item\"><li><span><a href=\"#Formulação-teórica\" data-toc-modified-id=\"Formulação-teórica-1\"><span class=\"toc-item-num\">1&nbsp;&nbsp;</span>Formulação teórica</a></span><ul class=\"toc-item\"><li><span><a href=\"#Estrutura\" data-toc-modified-id=\"Estrutura-1.1\"><span class=\"toc-item-num\">1.1&nbsp;&nbsp;</span>Estrutura</a></span><ul class=\"toc-item\"><li><span><a href=\"#Como-fazer-uma-ramificação\" data-toc-modified-id=\"Como-fazer-uma-ramificação-1.1.1\"><span class=\"toc-item-num\">1.1.1&nbsp;&nbsp;</span>Como fazer uma ramificação</a></span></li><li><span><a href=\"#Exemplo-da-estrutura\" data-toc-modified-id=\"Exemplo-da-estrutura-1.1.2\"><span class=\"toc-item-num\">1.1.2&nbsp;&nbsp;</span>Exemplo da estrutura</a></span></li></ul></li><li><span><a href=\"#Exemplo\" data-toc-modified-id=\"Exemplo-1.2\"><span class=\"toc-item-num\">1.2&nbsp;&nbsp;</span>Exemplo</a></span></li></ul></li><li><span><a href=\"#Formulação-prática:-árvore-de-decisão\" data-toc-modified-id=\"Formulação-prática:-árvore-de-decisão-2\"><span class=\"toc-item-num\">2&nbsp;&nbsp;</span>Formulação prática: árvore de decisão</a></span><ul class=\"toc-item\"><li><span><a href=\"#Análise-exploratória\" data-toc-modified-id=\"Análise-exploratória-2.1\"><span class=\"toc-item-num\">2.1&nbsp;&nbsp;</span>Análise exploratória</a></span></li><li><span><a href=\"#Tratamento-de-dados\" data-toc-modified-id=\"Tratamento-de-dados-2.2\"><span class=\"toc-item-num\">2.2&nbsp;&nbsp;</span>Tratamento de dados</a></span></li><li><span><a href=\"#Classificação\" data-toc-modified-id=\"Classificação-2.3\"><span class=\"toc-item-num\">2.3&nbsp;&nbsp;</span>Classificação</a></span></li><li><span><a href=\"#Avaliar-modelo\" data-toc-modified-id=\"Avaliar-modelo-2.4\"><span class=\"toc-item-num\">2.4&nbsp;&nbsp;</span>Avaliar modelo</a></span></li><li><span><a href=\"#Balanceamento-dos-dados\" data-toc-modified-id=\"Balanceamento-dos-dados-2.5\"><span class=\"toc-item-num\">2.5&nbsp;&nbsp;</span>Balanceamento dos dados</a></span></li><li><span><a href=\"#Exercício---treinar-e-avaliar-resultados-para-as-técnicas-de-subamostragem\" data-toc-modified-id=\"Exercício---treinar-e-avaliar-resultados-para-as-técnicas-de-subamostragem-2.6\"><span class=\"toc-item-num\">2.6&nbsp;&nbsp;</span>Exercício - treinar e avaliar resultados para as técnicas de subamostragem</a></span></li></ul></li></ul></div>"
   ]
  },
  {
   "cell_type": "markdown",
   "metadata": {},
   "source": [
    "# Balanceamento dos dados\n",
    "\n",
    "1. Undersampling: diminuir a quantidade de amostras da classe majoritária para igualar a minoritária\n",
    "2. Upsampling: aumentar a quantidade de amostras da classe minoritãria para igualar com a majoritária\n",
    "\n",
    "![Title](imgs/resampling.png)\n",
    "\n",
    "*OBSERVAÇÃO*: fazer balanceamento apenas entre as amostras de treinamento!!!"
   ]
  },
  {
   "cell_type": "code",
   "execution_count": 47,
   "metadata": {},
   "outputs": [],
   "source": [
    "###### Oversampling"
   ]
  },
  {
   "cell_type": "code",
   "execution_count": 98,
   "metadata": {},
   "outputs": [
    {
     "name": "stdout",
     "output_type": "stream",
     "text": [
      "Original dataset shape Counter({0: 31937, 1: 4231})\n",
      "Original dataset shape Counter({0: 31937, 1: 31937})\n"
     ]
    }
   ],
   "source": [
    "from imblearn.over_sampling import SMOTE \n",
    "from collections import Counter\n",
    "\n",
    "print('Original dataset shape %s' % Counter(y_train))\n",
    "sm = SMOTE(random_state=42)\n",
    "X_res, y_res = sm.fit_resample(x_train, y_train)\n",
    "print('Original dataset shape %s' % Counter(y_res))"
   ]
  },
  {
   "cell_type": "code",
   "execution_count": 46,
   "metadata": {},
   "outputs": [
    {
     "name": "stdout",
     "output_type": "stream",
     "text": [
      "Original dataset shape Counter({0: 29972, 1: 3936})\n",
      "Original dataset shape Counter({0: 29972, 1: 29972})\n"
     ]
    }
   ],
   "source": [
    "from imblearn.over_sampling import RandomOverSampler \n",
    "from collections import Counter\n",
    "\n",
    "print('Original dataset shape %s' % Counter(y_train))\n",
    "sm = RandomOverSampler(random_state=42)\n",
    "X_res, y_res = sm.fit_resample(x_train, y_train)\n",
    "print('Original dataset shape %s' % Counter(y_res))"
   ]
  },
  {
   "cell_type": "code",
   "execution_count": 48,
   "metadata": {},
   "outputs": [
    {
     "name": "stdout",
     "output_type": "stream",
     "text": [
      "Original dataset shape Counter({0: 29972, 1: 3936})\n",
      "Original dataset shape Counter({0: 29972, 1: 29172})\n"
     ]
    }
   ],
   "source": [
    "from imblearn.over_sampling import ADASYN \n",
    "from collections import Counter\n",
    "\n",
    "print('Original dataset shape %s' % Counter(y_train))\n",
    "sm = ADASYN(random_state=42)\n",
    "X_res, y_res = sm.fit_resample(x_train, y_train)\n",
    "print('Original dataset shape %s' % Counter(y_res))"
   ]
  },
  {
   "cell_type": "code",
   "execution_count": 49,
   "metadata": {},
   "outputs": [],
   "source": [
    "###### Undersampling"
   ]
  },
  {
   "cell_type": "code",
   "execution_count": 50,
   "metadata": {},
   "outputs": [
    {
     "name": "stdout",
     "output_type": "stream",
     "text": [
      "Original dataset shape Counter({0: 29972, 1: 3936})\n",
      "Original dataset shape Counter({0: 3936, 1: 3936})\n"
     ]
    }
   ],
   "source": [
    "from imblearn.under_sampling import RandomUnderSampler \n",
    "from collections import Counter\n",
    "\n",
    "print('Original dataset shape %s' % Counter(y_train))\n",
    "sm = RandomUnderSampler(random_state=42)\n",
    "X_res, y_res = sm.fit_resample(x_train, y_train)\n",
    "print('Original dataset shape %s' % Counter(y_res))"
   ]
  },
  {
   "cell_type": "code",
   "execution_count": 51,
   "metadata": {},
   "outputs": [
    {
     "name": "stdout",
     "output_type": "stream",
     "text": [
      "Original dataset shape Counter({0: 29972, 1: 3936})\n",
      "Original dataset shape Counter({0: 29072, 1: 3936})\n"
     ]
    }
   ],
   "source": [
    "from imblearn.under_sampling import TomekLinks \n",
    "from collections import Counter\n",
    "\n",
    "print('Original dataset shape %s' % Counter(y_train))\n",
    "sm = TomekLinks()\n",
    "X_res, y_res = sm.fit_resample(x_train, y_train)\n",
    "print('Original dataset shape %s' % Counter(y_res))"
   ]
  },
  {
   "cell_type": "code",
   "execution_count": 52,
   "metadata": {},
   "outputs": [],
   "source": [
    "##### Up + Downsampling"
   ]
  },
  {
   "cell_type": "code",
   "execution_count": 53,
   "metadata": {},
   "outputs": [
    {
     "name": "stdout",
     "output_type": "stream",
     "text": [
      "Original dataset shape Counter({0: 29972, 1: 3936})\n",
      "Original dataset shape Counter({1: 29157, 0: 24339})\n"
     ]
    }
   ],
   "source": [
    "from imblearn.combine import SMOTEENN \n",
    "from collections import Counter\n",
    "\n",
    "print('Original dataset shape %s' % Counter(y_train))\n",
    "sm = SMOTEENN()\n",
    "X_res, y_res = sm.fit_resample(x_train, y_train)\n",
    "print('Original dataset shape %s' % Counter(y_res))"
   ]
  },
  {
   "cell_type": "code",
   "execution_count": 54,
   "metadata": {},
   "outputs": [
    {
     "name": "stdout",
     "output_type": "stream",
     "text": [
      "Original dataset shape Counter({0: 29972, 1: 3936})\n",
      "Original dataset shape Counter({0: 29889, 1: 29889})\n"
     ]
    }
   ],
   "source": [
    "from imblearn.combine import SMOTETomek \n",
    "from collections import Counter\n",
    "\n",
    "print('Original dataset shape %s' % Counter(y_train))\n",
    "sm = SMOTETomek(random_state=42)\n",
    "X_res, y_res = sm.fit_resample(x_train, y_train)\n",
    "print('Original dataset shape %s' % Counter(y_res))"
   ]
  },
  {
   "cell_type": "markdown",
   "metadata": {},
   "source": [
    "#### Exercício - treinar e avaliar resultados para as técnicas de subamostragem "
   ]
  },
  {
   "cell_type": "code",
   "execution_count": 99,
   "metadata": {},
   "outputs": [],
   "source": [
    "from sklearn.tree import DecisionTreeClassifier, plot_tree \n",
    "\n",
    "#Criando modelo de classificação\n",
    "model = DecisionTreeClassifier()\n",
    "#Treinando modelo\n",
    "model.fit(X_res, y_res)\n",
    "#Predizendo dados \n",
    "y_pred = model.predict(x_test)"
   ]
  },
  {
   "cell_type": "code",
   "execution_count": 100,
   "metadata": {},
   "outputs": [
    {
     "name": "stdout",
     "output_type": "stream",
     "text": [
      "              precision    recall  f1-score   support\n",
      "\n",
      "           0       0.97      0.82      0.88      7985\n",
      "           1       0.36      0.79      0.50      1058\n",
      "\n",
      "    accuracy                           0.81      9043\n",
      "   macro avg       0.67      0.80      0.69      9043\n",
      "weighted avg       0.90      0.81      0.84      9043\n",
      "\n"
     ]
    }
   ],
   "source": [
    "from sklearn.linear_model import LogisticRegression\n",
    "\n",
    "logreg = LogisticRegression() # cria o objeto\n",
    "logreg.fit(X_res,y_res) # da um fit (treinar o modelo)\n",
    "y_pred = logreg.predict(x_test) # da um predict (fazer as predições)\n",
    "\n",
    "print(classification_report(y_test, y_pred))"
   ]
  },
  {
   "cell_type": "code",
   "execution_count": 88,
   "metadata": {},
   "outputs": [
    {
     "name": "stdout",
     "output_type": "stream",
     "text": [
      "              precision    recall  f1-score   support\n",
      "\n",
      "           0       0.92      0.83      0.87      7985\n",
      "           1       0.26      0.44      0.33      1058\n",
      "\n",
      "    accuracy                           0.79      9043\n",
      "   macro avg       0.59      0.64      0.60      9043\n",
      "weighted avg       0.84      0.79      0.81      9043\n",
      "\n"
     ]
    }
   ],
   "source": [
    "from sklearn.metrics import plot_confusion_matrix, classification_report \n",
    "\n",
    "print(classification_report(y_test, y_pred))"
   ]
  },
  {
   "cell_type": "code",
   "execution_count": null,
   "metadata": {},
   "outputs": [],
   "source": [
    "#### Etapas para modelagem\n",
    "\n",
    "1. Investigação da base\n",
    " - matriz de correlação, entende os atributos, balanceamento dos dados\n",
    "2. Transformação de dados numéricos\n",
    "   - one hot encoding \n",
    "   - label encoder \n",
    "3. Normalização dos dados\n",
    "   - distribuição de dados mt distinta\n",
    "4. Balanceamento\n",
    "  - Oversampling ou undersampling\n",
    "5. Particionar a base de dados\n",
    "  - Treino (modelagem) - x_train\n",
    "  - Teste (x_test, y_test)\n",
    "5. Treina o algoritmo\n",
    "  - x_train\n",
    "  - encontrar padrões com base no x_train\n",
    "6. Teste\n",
    "  - Usar X_test para prever novas amostras\n",
    "  - Gerar y_pred\n",
    "  - Avaliação de desempenho\n",
    "    - Comparar o y_test e y_pred"
   ]
  },
  {
   "cell_type": "markdown",
   "metadata": {},
   "source": [
    "## Material extra de estudo\n",
    "[Comparação computacional do tempo de treino entre Gini e Entropia](https://quantdare.com/decision-trees-gini-vs-entropy/) <br>\n",
    "[4 formas de visualizar a árvore de decisão](https://mljar.com/blog/visualize-decision-tree/) <br>"
   ]
  },
  {
   "cell_type": "markdown",
   "metadata": {},
   "source": [
    "### Plotando o decision boundarie\n"
   ]
  },
  {
   "cell_type": "markdown",
   "metadata": {},
   "source": [
    "\n",
    "import itertools\n",
    "\n",
    "def plot_classification_model_2d(x_range, y_range, model, resolution=200):\n",
    "    x_vals = np.linspace(x_range[0], x_range[1], resolution)\n",
    "    y_vals = np.linspace(y_range[0], y_range[1], resolution)    \n",
    "    \n",
    "    points = np.array(list(itertools.product(x_vals, y_vals)))\n",
    "    \n",
    "    labels = model.predict(points)\n",
    "    \n",
    "    xx = points[:,0].reshape(resolution, resolution)\n",
    "    yy = points[:,1].reshape(resolution, resolution)\n",
    "    \n",
    "    # Ajustando os contornos para o desenho final\n",
    "    Z = labels.reshape(xx.shape)\n",
    "    cs = plt.contourf(xx, yy, Z, cmap=plt.cm.rainbow)\n",
    "    \n",
    "    plt.axhline(0, color='black')\n",
    "    plt.axvline(0, color='black')\n",
    "\n",
    "\n",
    "\n",
    "plot_classification_model_2d([0,8], [0,3], model)\n",
    "plt.scatter(X_train.values[:,0], X_train.values[:,1], c=y_train.values.flatten())"
   ]
  },
  {
   "cell_type": "markdown",
   "metadata": {},
   "source": []
  }
 ],
 "metadata": {
  "kernelspec": {
   "display_name": "Python 3 (ipykernel)",
   "language": "python",
   "name": "python3"
  },
  "language_info": {
   "codemirror_mode": {
    "name": "ipython",
    "version": 3
   },
   "file_extension": ".py",
   "mimetype": "text/x-python",
   "name": "python",
   "nbconvert_exporter": "python",
   "pygments_lexer": "ipython3",
   "version": "3.9.5"
  },
  "toc": {
   "base_numbering": 1,
   "nav_menu": {},
   "number_sections": true,
   "sideBar": true,
   "skip_h1_title": false,
   "title_cell": "Table of Contents",
   "title_sidebar": "Contents",
   "toc_cell": true,
   "toc_position": {},
   "toc_section_display": true,
   "toc_window_display": false
  }
 },
 "nbformat": 4,
 "nbformat_minor": 4
}
