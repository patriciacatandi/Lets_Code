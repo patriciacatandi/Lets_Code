{
 "cells": [
  {
   "cell_type": "markdown",
   "metadata": {
    "ExecuteTime": {
     "end_time": "2020-10-07T20:48:32.080322Z",
     "start_time": "2020-10-07T20:48:32.062373Z"
    }
   },
   "source": [
    "# Histogram with Plotly.Express: Complete guide\n",
    "Fonte: https://github.com/vaclavdekanovsky/data-analysis-in-examples/blob/master/Vizualizations/Plotly/Histogram/Histograms.ipynb\n",
    "Notebook to complement the article: https://towardsdatascience.com/histograms-with-plotly-express-complete-guide-d483656c5ad7"
   ]
  },
  {
   "cell_type": "code",
   "execution_count": 1,
   "metadata": {},
   "outputs": [],
   "source": [
    "import plotly.express as px\n",
    "import pandas as pd\n",
    "import numpy as np"
   ]
  },
  {
   "cell_type": "markdown",
   "metadata": {},
   "source": [
    "# load preprocessed data\n",
    "We will work with a long data frame - categorical columns has one line per combination of `Country Name`, `Country Code`, `years` and `Region` and each row contain 2 values:\n",
    "\n",
    "* `visitors` - the number of tourist which visited this country in the year\n",
    "* `receipts` - how much these tourist have spent in the country in that year\n",
    "\n",
    "We have values for 215 countries for years 1995-2018\n",
    "\n",
    "Data were preprocessed using - https://github.com/vaclavdekanovsky/data-analysis-in-examples/blob/master/Vizualizations/Plotly/Preprocess/Preprocessing.ipynb"
   ]
  },
  {
   "cell_type": "code",
   "execution_count": 71,
   "metadata": {},
   "outputs": [],
   "source": [
    "# First run the preprocessing notebook\n",
    "# https://github.com/vaclavdekanovsky/data-analysis-in-examples/blob/master/Vizualizations/Plotly/Preprocess/Preprocessing.ipynb\n",
    "# then load the preprocessed pickles\n",
    "long_df = pd.read_pickle(\"../Preprocess/long.plk\")\n",
    "yr2018 = long_df[long_df[\"years\"]==\"2018\"]\n",
    "spfrit = long_df[long_df[\"Country Name\"].isin([\"Spain\",\"France\",\"Italy\"])]\n",
    "sptuar = long_df[long_df[\"Country Name\"].isin([\"Spain\",\"Turkey\",\"Aruba\"])]"
   ]
  },
  {
   "cell_type": "code",
   "execution_count": 3,
   "metadata": {},
   "outputs": [
    {
     "name": "stdout",
     "output_type": "stream",
     "text": [
      "(215, 6) (5160, 6)\n"
     ]
    }
   ],
   "source": [
    "print(yr2018.shape,long_df.shape)"
   ]
  },
  {
   "cell_type": "code",
   "execution_count": 4,
   "metadata": {},
   "outputs": [
    {
     "data": {
      "text/html": [
       "<div>\n",
       "<style scoped>\n",
       "    .dataframe tbody tr th:only-of-type {\n",
       "        vertical-align: middle;\n",
       "    }\n",
       "\n",
       "    .dataframe tbody tr th {\n",
       "        vertical-align: top;\n",
       "    }\n",
       "\n",
       "    .dataframe thead th {\n",
       "        text-align: right;\n",
       "    }\n",
       "</style>\n",
       "<table border=\"1\" class=\"dataframe\">\n",
       "  <thead>\n",
       "    <tr style=\"text-align: right;\">\n",
       "      <th></th>\n",
       "      <th>Country Name</th>\n",
       "      <th>Country Code</th>\n",
       "      <th>Region</th>\n",
       "      <th>years</th>\n",
       "      <th>visitors</th>\n",
       "      <th>receipts</th>\n",
       "    </tr>\n",
       "  </thead>\n",
       "  <tbody>\n",
       "    <tr>\n",
       "      <th>58</th>\n",
       "      <td>Spain</td>\n",
       "      <td>ESP</td>\n",
       "      <td>Europe &amp; Central Asia</td>\n",
       "      <td>1995</td>\n",
       "      <td>32971000.0</td>\n",
       "      <td>2.736900e+10</td>\n",
       "    </tr>\n",
       "    <tr>\n",
       "      <th>63</th>\n",
       "      <td>France</td>\n",
       "      <td>FRA</td>\n",
       "      <td>Europe &amp; Central Asia</td>\n",
       "      <td>1995</td>\n",
       "      <td>60033000.0</td>\n",
       "      <td>3.129500e+10</td>\n",
       "    </tr>\n",
       "    <tr>\n",
       "      <th>94</th>\n",
       "      <td>Italy</td>\n",
       "      <td>ITA</td>\n",
       "      <td>Europe &amp; Central Asia</td>\n",
       "      <td>1995</td>\n",
       "      <td>31052000.0</td>\n",
       "      <td>3.041100e+10</td>\n",
       "    </tr>\n",
       "    <tr>\n",
       "      <th>5003</th>\n",
       "      <td>Spain</td>\n",
       "      <td>ESP</td>\n",
       "      <td>Europe &amp; Central Asia</td>\n",
       "      <td>2018</td>\n",
       "      <td>82773000.0</td>\n",
       "      <td>8.125000e+10</td>\n",
       "    </tr>\n",
       "    <tr>\n",
       "      <th>5008</th>\n",
       "      <td>France</td>\n",
       "      <td>FRA</td>\n",
       "      <td>Europe &amp; Central Asia</td>\n",
       "      <td>2018</td>\n",
       "      <td>89322000.0</td>\n",
       "      <td>7.312500e+10</td>\n",
       "    </tr>\n",
       "    <tr>\n",
       "      <th>5039</th>\n",
       "      <td>Italy</td>\n",
       "      <td>ITA</td>\n",
       "      <td>Europe &amp; Central Asia</td>\n",
       "      <td>2018</td>\n",
       "      <td>61567200.0</td>\n",
       "      <td>5.160200e+10</td>\n",
       "    </tr>\n",
       "    <tr>\n",
       "      <th>764</th>\n",
       "      <td>Morocco</td>\n",
       "      <td>MAR</td>\n",
       "      <td>Middle East &amp; North Africa</td>\n",
       "      <td>1998</td>\n",
       "      <td>3095000.0</td>\n",
       "      <td>1.934000e+09</td>\n",
       "    </tr>\n",
       "    <tr>\n",
       "      <th>3986</th>\n",
       "      <td>Latvia</td>\n",
       "      <td>LVA</td>\n",
       "      <td>Europe &amp; Central Asia</td>\n",
       "      <td>2013</td>\n",
       "      <td>1536000.0</td>\n",
       "      <td>8.650000e+08</td>\n",
       "    </tr>\n",
       "    <tr>\n",
       "      <th>2418</th>\n",
       "      <td>Dominican Republic</td>\n",
       "      <td>DOM</td>\n",
       "      <td>Latin America &amp; Caribbean</td>\n",
       "      <td>2006</td>\n",
       "      <td>3965000.0</td>\n",
       "      <td>3.917000e+09</td>\n",
       "    </tr>\n",
       "  </tbody>\n",
       "</table>\n",
       "</div>"
      ],
      "text/plain": [
       "            Country Name Country Code                      Region years  \\\n",
       "58                 Spain          ESP       Europe & Central Asia  1995   \n",
       "63                France          FRA       Europe & Central Asia  1995   \n",
       "94                 Italy          ITA       Europe & Central Asia  1995   \n",
       "5003               Spain          ESP       Europe & Central Asia  2018   \n",
       "5008              France          FRA       Europe & Central Asia  2018   \n",
       "5039               Italy          ITA       Europe & Central Asia  2018   \n",
       "764              Morocco          MAR  Middle East & North Africa  1998   \n",
       "3986              Latvia          LVA       Europe & Central Asia  2013   \n",
       "2418  Dominican Republic          DOM   Latin America & Caribbean  2006   \n",
       "\n",
       "        visitors      receipts  \n",
       "58    32971000.0  2.736900e+10  \n",
       "63    60033000.0  3.129500e+10  \n",
       "94    31052000.0  3.041100e+10  \n",
       "5003  82773000.0  8.125000e+10  \n",
       "5008  89322000.0  7.312500e+10  \n",
       "5039  61567200.0  5.160200e+10  \n",
       "764    3095000.0  1.934000e+09  \n",
       "3986   1536000.0  8.650000e+08  \n",
       "2418   3965000.0  3.917000e+09  "
      ]
     },
     "execution_count": 4,
     "metadata": {},
     "output_type": "execute_result"
    }
   ],
   "source": [
    "pd.concat([spfrit.head(3), spfrit.tail(3),long_df.sample(3)])"
   ]
  },
  {
   "cell_type": "markdown",
   "metadata": {},
   "source": [
    "# Range histograms\n",
    "Ranged histogram is the most typical usecase. We split the values into several bins (of the same size) and count the number of occurances in each bin. For our dataset, if we look on year 2018 and split data into 10 bins we see that: \n",
    "\n",
    "* 133 counties were visited by 0-9.9M tourists\n",
    "* 23 countries were visited by 10-19.9M tourists\n",
    "* 5 counties by 20-29.9M tourists\n",
    "* etc."
   ]
  },
  {
   "cell_type": "code",
   "execution_count": 5,
   "metadata": {},
   "outputs": [
    {
     "data": {
      "text/plain": [
       "(Country Name            Afghanistan\n",
       " Country Code                    ABW\n",
       " Region          East Asia & Pacific\n",
       " years                          2018\n",
       " visitors                          0\n",
       " receipts                          0\n",
       " dtype: object,\n",
       " 89322000.0)"
      ]
     },
     "execution_count": 5,
     "metadata": {},
     "output_type": "execute_result"
    }
   ],
   "source": [
    "yr2018.min(), yr2018[\"visitors\"].max()"
   ]
  },
  {
   "cell_type": "code",
   "execution_count": null,
   "metadata": {},
   "outputs": [],
   "source": [
    "# Here we use a column with categorical data\n",
    "fig = px.histogram(yr2018, x=\"visitors\")\n",
    "#fig.update_layout(yaxis_title=\"Number of Countries\")\n",
    "fig.show()"
   ]
  },
  {
   "cell_type": "markdown",
   "metadata": {},
   "source": [
    "# categorical histograms\n",
    "You can also bin the data based on a categorical value. You specify the category in parameter `x`. "
   ]
  },
  {
   "cell_type": "code",
   "execution_count": null,
   "metadata": {},
   "outputs": [],
   "source": [
    "# Here we use a column with categorical data\n",
    "fig = px.histogram(yr2018, x=\"Region\", title=\"Regional Histogram\")\n",
    "fig.update_traces(text=\"x\")\n",
    "fig.show()"
   ]
  },
  {
   "cell_type": "markdown",
   "metadata": {},
   "source": [
    "We can try to do histogram over the years, but this will show 215 counts in each year, because we have 215 data points for each country every year."
   ]
  },
  {
   "cell_type": "code",
   "execution_count": null,
   "metadata": {},
   "outputs": [],
   "source": [
    "fig = px.histogram(long_df, x=\"years\", title=\"Yearly Histogram\")\n",
    "fig.show()"
   ]
  },
  {
   "cell_type": "markdown",
   "metadata": {},
   "source": [
    "Plotly histograms use count as default function, but if you specify `y` as a numerical column (e.g. number of visitors), plotly automatically changes the `histfunc` to sum."
   ]
  },
  {
   "cell_type": "code",
   "execution_count": null,
   "metadata": {},
   "outputs": [],
   "source": [
    "fig = px.histogram(long_df, \n",
    "                   x=\"years\", \n",
    "                   y=\"visitors\",\n",
    "                   title=\"Yearly Histogram - years a integers\",\n",
    "                   )\n",
    "fig.show()"
   ]
  },
  {
   "cell_type": "code",
   "execution_count": null,
   "metadata": {},
   "outputs": [],
   "source": [
    "long_df_2 = long_df.copy()\n",
    "long_df_2[\"years\"] = pd.to_datetime(long_df_2[\"years\"], format=\"%Y\")\n",
    "fig = px.histogram(long_df_2, \n",
    "                   x=\"years\", \n",
    "                   y=\"visitors\",\n",
    "                   title=\"Yearly Histogram - years as dates\", \n",
    "                   nbins=5)\n",
    "fig.show()"
   ]
  },
  {
   "cell_type": "markdown",
   "metadata": {},
   "source": [
    "# Parameters\n",
    "Histogram function has many parameters, let's review them one by one.\n",
    "\n",
    "## Color\n",
    "If you specify a categorical column as color parameter, each bar will be split into several colors reflecting this category. Plotly will automatically add an interactive legent. You can click the legend to toggle on/off that category from the chart."
   ]
  },
  {
   "cell_type": "code",
   "execution_count": null,
   "metadata": {},
   "outputs": [],
   "source": [
    "# color parameter allow to split the histogram bar into categories differentiated by a color.\n",
    "fig = px.histogram(yr2018, x=\"visitors\", nbins=10, color=\"Region\", title=\"Visitors per region\")\n",
    "fig.show()"
   ]
  },
  {
   "cell_type": "markdown",
   "metadata": {},
   "source": [
    "Because histogram is actually a bar chart, you can use the barmode options too. \n",
    "\n",
    "* `group` - shows histogram as grouped bar chart\n",
    "* `overlay` - displays the semi-transparent bars on the top of each other\n",
    "* `stack` - stacks the bars on the top of each other"
   ]
  },
  {
   "cell_type": "code",
   "execution_count": null,
   "metadata": {},
   "outputs": [],
   "source": [
    "for barmode in [\"stack\", \"overlay\", \"group\"]:\n",
    "    \n",
    "    fig = px.histogram(sptuar, \n",
    "                       x=\"visitors\", \n",
    "                       nbins=20, \n",
    "                       color=\"Country Name\", \n",
    "                       barmode=barmode,\n",
    "                        title=f\"Visitors in Aruba, Spain, Turkey - {barmode}\")\n",
    "    fig.show()"
   ]
  },
  {
   "cell_type": "markdown",
   "metadata": {},
   "source": [
    "Plotly consider `years` to be an integer value so it bins it into groups e.g. 1995-1999. You can direct the engine to consider the years as categories with `fig.update_xaxes(type='category')` and  each year will become a separate bin. "
   ]
  },
  {
   "cell_type": "code",
   "execution_count": null,
   "metadata": {},
   "outputs": [],
   "source": [
    "for barmode in [\"stack\", \"overlay\", \"group\"]:\n",
    "    \n",
    "    fig = px.histogram(sptuar, \n",
    "                       x=\"years\", \n",
    "                       y=\"visitors\", \n",
    "                       nbins=3, \n",
    "                       color=\"Country Name\", \n",
    "                       barmode=barmode,\n",
    "                        title=f\"Visitors in Aruba, Spain, Turkey - {barmode}\")\n",
    "    fig.update_layout(yaxis_title=\"Number of Visitors\")\n",
    "    fig.update_xaxes(type='category')\n",
    "    fig.show()"
   ]
  },
  {
   "cell_type": "code",
   "execution_count": null,
   "metadata": {},
   "outputs": [],
   "source": [
    "fig = px.histogram(sptuar, \n",
    "            x=\"years\", \n",
    "            y=\"visitors\", \n",
    "            color=\"Country Name\", \n",
    "            barmode=barmode,\n",
    "            title=f\"Visitors in Aruba, Spain, Turkey - {barmode}\")\n",
    "fig.update_layout(yaxis_title=\"Number of Visitors\")\n",
    "fig.update_xaxes(type='category')\n",
    "fig.show()"
   ]
  },
  {
   "cell_type": "markdown",
   "metadata": {},
   "source": [
    "## Parameter nbins\n",
    "This parameter sets the number of bins on the chart. "
   ]
  },
  {
   "cell_type": "code",
   "execution_count": null,
   "metadata": {},
   "outputs": [],
   "source": [
    "for nbins in [3,5,10,20]:\n",
    "    fig = px.histogram(yr2018, x=\"visitors\", nbins=nbins, title=f\"{nbins} bins\")\n",
    "    fig.update_layout(yaxis_title=\"Number of Countries\")\n",
    "    fig.show()"
   ]
  },
  {
   "cell_type": "markdown",
   "metadata": {},
   "source": [
    "The parameter is though a bit unreliable. In our case:\n",
    "\n",
    "* nbins = 3 - 2 bins\n",
    "* nbins = 5 - 5 bins\n",
    "* nbins = 10 - 9 bins\n",
    "* nbins = 20 - 18 bins\n",
    "\n",
    "Nbins cannot be used on the categorical columns. However it can be used on categories which can be interpreted as integers - eg. years. "
   ]
  },
  {
   "cell_type": "code",
   "execution_count": null,
   "metadata": {},
   "outputs": [],
   "source": [
    "fig = px.histogram(yr2018, x=\"Region\", title=\"Regional Histogram\", nbins=20)\n",
    "fig.update_layout(yaxis_title=\"Number of Countries\")\n",
    "fig.show()"
   ]
  },
  {
   "cell_type": "code",
   "execution_count": null,
   "metadata": {},
   "outputs": [],
   "source": [
    "fig = px.histogram(yr2018, x=\"Region\", title=\"Regional Histogram\", nbins=20)\n",
    "fig.update_layout(yaxis_title=\"Number of Countries\")\n",
    "fig.show()"
   ]
  },
  {
   "cell_type": "code",
   "execution_count": null,
   "metadata": {},
   "outputs": [],
   "source": [
    "for nbins in [3,5,10,20]:\n",
    "    \n",
    "    fig = px.histogram(spfrit, \n",
    "                       x=\"years\", \n",
    "                       y=\"visitors\", \n",
    "                       nbins=nbins, \n",
    "                       color=\"Country Name\", \n",
    "                       barmode=\"stack\",\n",
    "                       title=f\"Visitors in Spain, France, Italy - {nbins} bins\")\n",
    "    fig.update_layout(yaxis_title=\"Number of Visitors\")\n",
    "    fig.show()"
   ]
  },
  {
   "cell_type": "markdown",
   "metadata": {},
   "source": [
    "Again the bins are calculated somewhat strange. It's related to the number of categories. We have 24 years starting at 1995, but plotly moves the starts from 1990, 1994 or 1995 so that there is always the same number of years in the bin.\n",
    "\n",
    "* nbins = 3 - 3 bins (1990-1999, 2000-2009, 2010-2019)\n",
    "* nbins = 5 - 5 bins (95-99, 00-04, 05-09, 10-14, 15-19) \n",
    "* nbins = 10 - 5 bins (95-99, 00-04, 05-09, 10-14, 15-19)\n",
    "* nbins = 20 - 13 bins (94-95, 96-97, 98-99, 00-01 ...)"
   ]
  },
  {
   "cell_type": "markdown",
   "metadata": {},
   "source": [
    "## Parameter histfunc\n",
    "Determintes how the hight of the histogram's bar is calculated if it's `count`, `sum`, `avg`, `min` or `max`"
   ]
  },
  {
   "cell_type": "code",
   "execution_count": null,
   "metadata": {},
   "outputs": [],
   "source": [
    "for histfunc in [\"count\",\"sum\",\"avg\",\"min\",\"max\"]:\n",
    "    fig = px.histogram(yr2018, \n",
    "                   x=\"visitors\", \n",
    "                   y=\"visitors\",\n",
    "                   histfunc=histfunc,\n",
    "                   title=f\"histfunc = {histfunc}\")\n",
    "    #fig.update_layout(yaxis_title=\"Number of Countries\")\n",
    "    fig.show()"
   ]
  },
  {
   "cell_type": "code",
   "execution_count": null,
   "metadata": {},
   "outputs": [],
   "source": [
    "histfunc = \"min\"\n",
    "fig = px.histogram(yr2018, \n",
    "                   x=\"Region\", \n",
    "                   y=\"visitors\",\n",
    "                   histfunc=histfunc,\n",
    "                   title=f\"histfunc = {histfunc}\")\n",
    "#fig.update_layout(yaxis_title=\"Number of Countries\")\n",
    "fig.show()"
   ]
  },
  {
   "cell_type": "code",
   "execution_count": null,
   "metadata": {},
   "outputs": [],
   "source": [
    "for histfunc in [\"count\",\"sum\",\"avg\",\"min\",\"max\"]:\n",
    "    fig = px.histogram(yr2018, \n",
    "                       x=\"Region\",\n",
    "                       y=\"visitors\",\n",
    "                       histfunc=histfunc,\n",
    "                       title=f\"histfunc = {histfunc}\")\n",
    "\n",
    "    fig.show()"
   ]
  },
  {
   "cell_type": "markdown",
   "metadata": {},
   "source": [
    "## Parameter Cumulative"
   ]
  },
  {
   "cell_type": "code",
   "execution_count": null,
   "metadata": {},
   "outputs": [],
   "source": [
    "for cumulative in [False, True]:\n",
    "    fig = px.histogram(yr2018, x=\"visitors\", cumulative=cumulative, title=f\"Cumulative {cumulative} histogram\"\n",
    "                      ,color_discrete_sequence=[\"#ff5757\"])\n",
    "    fig.show()"
   ]
  },
  {
   "cell_type": "markdown",
   "metadata": {},
   "source": [
    "## Parameter Barnorm\n",
    "Barnorm makes sense only if you have multiple categories differentiated by the color parameter. You can display the actual value of each group (e.g. number of visitors in Spain, France and Italy) or their fraction - how many percent represent particular color group. `Fraction` displays the values in the range of 0-1 while `percentage` in the range 0-100.\n",
    "In case of `stacked` chart, the fraction version always has 0-1 on the y-axis. If you have grouped chart, the height of the bars remains the same, but the labels and grids on the y-axis gets renamed. "
   ]
  },
  {
   "cell_type": "code",
   "execution_count": null,
   "metadata": {},
   "outputs": [],
   "source": [
    "for barnorm in [None, 'fraction', 'percent']:\n",
    "    fig = px.histogram(spfrit, \n",
    "                       x=\"years\",\n",
    "                       y=\"visitors\",\n",
    "                       color=\"Country Name\",\n",
    "                       barmode=\"stack\",\n",
    "                       barnorm=barnorm, \n",
    "                       title=f\"Barnorm {barnorm} histogram\")\n",
    "    if barnorm==\"percent\":\n",
    "        fig.update_layout(yaxis={\"tickfont\":{\"size\":18}, \"ticksuffix\":\"%\"})\n",
    "    else:\n",
    "        fig.update_layout(yaxis={\"tickfont\":{\"size\":18}})\n",
    "    fig.show()"
   ]
  },
  {
   "cell_type": "code",
   "execution_count": null,
   "metadata": {},
   "outputs": [],
   "source": [
    "for barnorm in [None, 'fraction', 'percent']:\n",
    "    fig = px.histogram(spfrit, \n",
    "                       x=\"years\",\n",
    "                       y=\"visitors\",\n",
    "                       color=\"Country Name\",\n",
    "                       barmode=\"group\",\n",
    "                       barnorm=barnorm, \n",
    "                       title=f\"Barnorm {barnorm} histogram\")\n",
    "    fig.update_layout(yaxis={\"tickfont\":{\"size\":18}})\n",
    "    fig.show()"
   ]
  },
  {
   "cell_type": "markdown",
   "metadata": {},
   "source": [
    "## histnorm"
   ]
  },
  {
   "cell_type": "code",
   "execution_count": null,
   "metadata": {},
   "outputs": [],
   "source": [
    "for histnorm in [None, 'percent', 'probability', 'density', 'probability density']:\n",
    "    fig = px.histogram(yr2018, \n",
    "                       x=\"visitors\", \n",
    "                       histnorm=histnorm, \n",
    "                       title=f\"Histnorm {histnorm} histogram\",\n",
    "                      cumulative=True)\n",
    "    fig.show()"
   ]
  },
  {
   "cell_type": "code",
   "execution_count": null,
   "metadata": {},
   "outputs": [],
   "source": [
    "for histnorm in [None, 'percent', 'probability', 'density', 'probability density']:\n",
    "    fig = px.histogram(spfrit, \n",
    "                       x=\"years\",\n",
    "                       y=\"visitors\",\n",
    "                       color=\"Country Name\",\n",
    "                       barmode=\"group\",\n",
    "                       histnorm=histnorm, \n",
    "                       title=f\"Histnorm {histnorm} histogram\",\n",
    "                      cumulative=False)\n",
    "    fig.show()"
   ]
  },
  {
   "cell_type": "code",
   "execution_count": null,
   "metadata": {},
   "outputs": [],
   "source": [
    "histnorm = None\n",
    "fig = px.histogram(spfrit, \n",
    "                       x=\"years\",\n",
    "                       y=\"visitors\",\n",
    "                       color=\"Country Name\",\n",
    "                       barmode=\"group\",\n",
    "                       histnorm=histnorm, \n",
    "                       title=f\"Histnorm {histnorm} histogram\",\n",
    "                      cumulative=False)\n",
    "fig.update_layout(yaxis={\"tickfont\":{\"size\":18}})\n",
    "fig.show()"
   ]
  },
  {
   "cell_type": "markdown",
   "metadata": {},
   "source": [
    "## category_orders Parameter"
   ]
  },
  {
   "cell_type": "code",
   "execution_count": null,
   "metadata": {},
   "outputs": [],
   "source": [
    "fig = px.histogram(spfrit, \n",
    "                       x=\"years\",\n",
    "                       y=\"visitors\",\n",
    "                       color=\"Country Name\",\n",
    "                       barmode=\"group\",\n",
    "                       title=f\"Ordered Italy, Spain, France\",\n",
    "                       category_orders={\"Country Name\":[\"Italy\",\"Spain\",\"France\"]}\n",
    "                      )\n",
    "fig.show()"
   ]
  },
  {
   "cell_type": "code",
   "execution_count": null,
   "metadata": {},
   "outputs": [],
   "source": [
    "fig = px.histogram(spfrit, \n",
    "                       x=\"years\",\n",
    "                       y=\"visitors\",\n",
    "                       color=\"Country Name\",\n",
    "                       barmode=\"group\",\n",
    "                       title=f\"Ordered France, Spain, Italy\",\n",
    "                       category_orders={\"Country Name\":[\"France\",\"Spain\",\"Italy\"]}\n",
    "                      )\n",
    "fig.show()"
   ]
  },
  {
   "cell_type": "markdown",
   "metadata": {},
   "source": [
    "## Parameter range_x and range_y\n",
    "Zooms the chart into particular range. Ranges must always by specified as two values - min and max range, so they cannot be used to the categorical bins."
   ]
  },
  {
   "cell_type": "code",
   "execution_count": null,
   "metadata": {},
   "outputs": [],
   "source": [
    "fig = px.histogram(long_df, \n",
    "                   x=\"years\", \n",
    "                   y=\"receipts\", \n",
    "                   range_x=[\"2009\",\"2018\"],\n",
    "                   title=\"Yearly Histogram\",\n",
    "                  )\n",
    "#fig.update_xaxes(type='category')\n",
    "fig.show()"
   ]
  },
  {
   "cell_type": "code",
   "execution_count": null,
   "metadata": {},
   "outputs": [],
   "source": [
    "fig = px.histogram(long_df, \n",
    "                   x=\"years\", \n",
    "                   y=\"receipts\", \n",
    "                   range_x=[\"2016\",\"2018\"],\n",
    "                   title=\"Yearly Histogram\",\n",
    "                  )\n",
    "#fig.update_xaxes(type='category')\n",
    "fig.show()"
   ]
  },
  {
   "cell_type": "code",
   "execution_count": null,
   "metadata": {},
   "outputs": [],
   "source": [
    "fig = px.histogram(long_df, \n",
    "                   x=\"years\", \n",
    "                   y=\"receipts\", \n",
    "                   range_x=[\"2016\",\"2018\"],\n",
    "                   title=\"Yearly Histogram\",\n",
    "                   color_discrete_sequence=[\"#ff913d\"]\n",
    "                  )\n",
    "#fig.update_xaxes(type='category',tickfont={\"size\":20})\n",
    "\n",
    "fig.show()"
   ]
  },
  {
   "cell_type": "code",
   "execution_count": null,
   "metadata": {},
   "outputs": [],
   "source": [
    "fig = px.histogram(yr2018, \n",
    "                   x=\"visitors\", \n",
    "                   range_x=[0,30_000_000],\n",
    "                   range_y=[0,50],\n",
    "                   title=\"Yearly Histogram\",\n",
    "                  )\n",
    "fig.show()"
   ]
  },
  {
   "cell_type": "markdown",
   "metadata": {},
   "source": [
    "## Parameter color_discrete_sequence\n",
    "color_discrete_sequence allow to set a color for each distinct category (specified by the color parameter). If `color` is empty, all the bars have the first color in the list. "
   ]
  },
  {
   "cell_type": "code",
   "execution_count": null,
   "metadata": {},
   "outputs": [],
   "source": [
    "fig = px.histogram(yr2018, \n",
    "                   x=\"visitors\", \n",
    "                   title=\"2018 Visitors\",\n",
    "                   # we have only one category so everything is lightgreen\n",
    "                   color_discrete_sequence=[\"lightgreen\", \"black\"]\n",
    "                  )\n",
    "fig.show()"
   ]
  },
  {
   "cell_type": "code",
   "execution_count": null,
   "metadata": {},
   "outputs": [],
   "source": [
    "fig = px.histogram(spfrit, \n",
    "                       x=\"years\",\n",
    "                       y=\"visitors\",\n",
    "                       color=\"Country Name\",\n",
    "                       barmode=\"group\",\n",
    "                       title=f\"Color_discrete_sequence for multiple bars\",\n",
    "                       category_orders={\"Country Name\":[\"Italy\",\"Spain\",\"France\"]},\n",
    "                       # if you provide only one color, each bar will use it\n",
    "                       # color_discrete_sequence=[\"yellow\" ]\n",
    "                       color_discrete_sequence=[\"yellow\", \"black\", \"lightgreen\" ]\n",
    "                      )\n",
    "fig.show()"
   ]
  },
  {
   "cell_type": "code",
   "execution_count": null,
   "metadata": {},
   "outputs": [],
   "source": [
    "# using plotly predefined sequence\n",
    "fig = px.histogram(spfrit, \n",
    "                       x=\"years\",\n",
    "                       y=\"visitors\",\n",
    "                       color=\"Country Name\",\n",
    "                       barmode=\"group\",\n",
    "                       title=f\"Using build-in colors\",\n",
    "                       category_orders={\"Country Name\":[\"Italy\",\"Spain\",\"France\"]},\n",
    "                       color_discrete_sequence=px.colors.qualitative.Pastel2\n",
    "                      )\n",
    "fig.show()"
   ]
  },
  {
   "cell_type": "markdown",
   "metadata": {},
   "source": [
    "## Parameter color_discrete_map"
   ]
  },
  {
   "cell_type": "code",
   "execution_count": null,
   "metadata": {},
   "outputs": [],
   "source": [
    "## Parameter color_discrete_map\n",
    "fig = px.histogram(spfrit, \n",
    "                       x=\"years\",\n",
    "                       y=\"visitors\",\n",
    "                       color=\"Country Name\",\n",
    "                       barmode=\"group\",\n",
    "                       title=f\"Color_discrete_map\",\n",
    "                       category_orders={\"Country Name\":[\"Italy\",\"Spain\",\"France\"]},\n",
    "                       color_discrete_map={\"Spain\":\"lightgreen\", \n",
    "                                            \"France\":\"rgba(0,0,0,100)\", \n",
    "                                            \"Italy\":\"#FFFF00\"}\n",
    "                      )\n",
    "fig.show()"
   ]
  },
  {
   "cell_type": "markdown",
   "metadata": {},
   "source": [
    "If the values of the `color` argument are real colors, you can pass a string `\"identity\"` to the `color_discrete_map`, however in this case no legend is displayed."
   ]
  },
  {
   "cell_type": "code",
   "execution_count": null,
   "metadata": {},
   "outputs": [],
   "source": [
    "# create a color column specifying color for each of the countries\n",
    "spfrit[\"color\"] = spfrit[\"Country Name\"].map(\n",
    "    {\"Spain\":\"red\", \n",
    "                             \"France\":\"black\", \n",
    "                             \"Italy\":\"orange\"}\n",
    ")\n",
    "\n",
    "## Parameter color_discrete_map using identity in case color contains real color names/hex codes\n",
    "fig = px.histogram(spfrit, \n",
    " x=\"years\",\n",
    " y=\"visitors\",\n",
    " color=\"color\",\n",
    " barmode=\"group\",\n",
    " title=f\"Color disrete map using identity\",\n",
    " category_orders={\"Country Name\":[\"Italy\",\"Spain\",\"France\"]},\n",
    " color_discrete_map=\"identity\"\n",
    ")\n",
    "fig.show()"
   ]
  },
  {
   "cell_type": "code",
   "execution_count": 39,
   "metadata": {},
   "outputs": [
    {
     "data": {
      "text/html": [
       "<div>\n",
       "<style scoped>\n",
       "    .dataframe tbody tr th:only-of-type {\n",
       "        vertical-align: middle;\n",
       "    }\n",
       "\n",
       "    .dataframe tbody tr th {\n",
       "        vertical-align: top;\n",
       "    }\n",
       "\n",
       "    .dataframe thead th {\n",
       "        text-align: right;\n",
       "    }\n",
       "</style>\n",
       "<table border=\"1\" class=\"dataframe\">\n",
       "  <thead>\n",
       "    <tr style=\"text-align: right;\">\n",
       "      <th></th>\n",
       "      <th>Country Name</th>\n",
       "      <th>Country Code</th>\n",
       "      <th>Region</th>\n",
       "      <th>years</th>\n",
       "      <th>visitors</th>\n",
       "      <th>receipts</th>\n",
       "      <th>color</th>\n",
       "    </tr>\n",
       "  </thead>\n",
       "  <tbody>\n",
       "    <tr>\n",
       "      <th>58</th>\n",
       "      <td>Spain</td>\n",
       "      <td>ESP</td>\n",
       "      <td>Europe &amp; Central Asia</td>\n",
       "      <td>1995</td>\n",
       "      <td>32971000.0</td>\n",
       "      <td>2.736900e+10</td>\n",
       "      <td>red</td>\n",
       "    </tr>\n",
       "    <tr>\n",
       "      <th>63</th>\n",
       "      <td>France</td>\n",
       "      <td>FRA</td>\n",
       "      <td>Europe &amp; Central Asia</td>\n",
       "      <td>1995</td>\n",
       "      <td>60033000.0</td>\n",
       "      <td>3.129500e+10</td>\n",
       "      <td>black</td>\n",
       "    </tr>\n",
       "    <tr>\n",
       "      <th>94</th>\n",
       "      <td>Italy</td>\n",
       "      <td>ITA</td>\n",
       "      <td>Europe &amp; Central Asia</td>\n",
       "      <td>1995</td>\n",
       "      <td>31052000.0</td>\n",
       "      <td>3.041100e+10</td>\n",
       "      <td>orange</td>\n",
       "    </tr>\n",
       "    <tr>\n",
       "      <th>273</th>\n",
       "      <td>Spain</td>\n",
       "      <td>ESP</td>\n",
       "      <td>Europe &amp; Central Asia</td>\n",
       "      <td>1996</td>\n",
       "      <td>34027000.0</td>\n",
       "      <td>2.975100e+10</td>\n",
       "      <td>red</td>\n",
       "    </tr>\n",
       "    <tr>\n",
       "      <th>278</th>\n",
       "      <td>France</td>\n",
       "      <td>FRA</td>\n",
       "      <td>Europe &amp; Central Asia</td>\n",
       "      <td>1996</td>\n",
       "      <td>62406000.0</td>\n",
       "      <td>3.208800e+10</td>\n",
       "      <td>black</td>\n",
       "    </tr>\n",
       "    <tr>\n",
       "      <th>...</th>\n",
       "      <td>...</td>\n",
       "      <td>...</td>\n",
       "      <td>...</td>\n",
       "      <td>...</td>\n",
       "      <td>...</td>\n",
       "      <td>...</td>\n",
       "      <td>...</td>\n",
       "    </tr>\n",
       "    <tr>\n",
       "      <th>4793</th>\n",
       "      <td>France</td>\n",
       "      <td>FRA</td>\n",
       "      <td>Europe &amp; Central Asia</td>\n",
       "      <td>2017</td>\n",
       "      <td>86758000.0</td>\n",
       "      <td>6.793600e+10</td>\n",
       "      <td>black</td>\n",
       "    </tr>\n",
       "    <tr>\n",
       "      <th>4824</th>\n",
       "      <td>Italy</td>\n",
       "      <td>ITA</td>\n",
       "      <td>Europe &amp; Central Asia</td>\n",
       "      <td>2017</td>\n",
       "      <td>58253000.0</td>\n",
       "      <td>4.671900e+10</td>\n",
       "      <td>orange</td>\n",
       "    </tr>\n",
       "    <tr>\n",
       "      <th>5003</th>\n",
       "      <td>Spain</td>\n",
       "      <td>ESP</td>\n",
       "      <td>Europe &amp; Central Asia</td>\n",
       "      <td>2018</td>\n",
       "      <td>82773000.0</td>\n",
       "      <td>8.125000e+10</td>\n",
       "      <td>red</td>\n",
       "    </tr>\n",
       "    <tr>\n",
       "      <th>5008</th>\n",
       "      <td>France</td>\n",
       "      <td>FRA</td>\n",
       "      <td>Europe &amp; Central Asia</td>\n",
       "      <td>2018</td>\n",
       "      <td>89322000.0</td>\n",
       "      <td>7.312500e+10</td>\n",
       "      <td>black</td>\n",
       "    </tr>\n",
       "    <tr>\n",
       "      <th>5039</th>\n",
       "      <td>Italy</td>\n",
       "      <td>ITA</td>\n",
       "      <td>Europe &amp; Central Asia</td>\n",
       "      <td>2018</td>\n",
       "      <td>61567200.0</td>\n",
       "      <td>5.160200e+10</td>\n",
       "      <td>orange</td>\n",
       "    </tr>\n",
       "  </tbody>\n",
       "</table>\n",
       "<p>72 rows × 7 columns</p>\n",
       "</div>"
      ],
      "text/plain": [
       "     Country Name Country Code                 Region years    visitors  \\\n",
       "58          Spain          ESP  Europe & Central Asia  1995  32971000.0   \n",
       "63         France          FRA  Europe & Central Asia  1995  60033000.0   \n",
       "94          Italy          ITA  Europe & Central Asia  1995  31052000.0   \n",
       "273         Spain          ESP  Europe & Central Asia  1996  34027000.0   \n",
       "278        France          FRA  Europe & Central Asia  1996  62406000.0   \n",
       "...           ...          ...                    ...   ...         ...   \n",
       "4793       France          FRA  Europe & Central Asia  2017  86758000.0   \n",
       "4824        Italy          ITA  Europe & Central Asia  2017  58253000.0   \n",
       "5003        Spain          ESP  Europe & Central Asia  2018  82773000.0   \n",
       "5008       France          FRA  Europe & Central Asia  2018  89322000.0   \n",
       "5039        Italy          ITA  Europe & Central Asia  2018  61567200.0   \n",
       "\n",
       "          receipts   color  \n",
       "58    2.736900e+10     red  \n",
       "63    3.129500e+10   black  \n",
       "94    3.041100e+10  orange  \n",
       "273   2.975100e+10     red  \n",
       "278   3.208800e+10   black  \n",
       "...            ...     ...  \n",
       "4793  6.793600e+10   black  \n",
       "4824  4.671900e+10  orange  \n",
       "5003  8.125000e+10     red  \n",
       "5008  7.312500e+10   black  \n",
       "5039  5.160200e+10  orange  \n",
       "\n",
       "[72 rows x 7 columns]"
      ]
     },
     "execution_count": 39,
     "metadata": {},
     "output_type": "execute_result"
    }
   ],
   "source": [
    "spfrit"
   ]
  },
  {
   "cell_type": "markdown",
   "metadata": {},
   "source": [
    "## Parameter facet_col and facet_row\n",
    "color_discrete_sequence allow to "
   ]
  },
  {
   "cell_type": "code",
   "execution_count": null,
   "metadata": {},
   "outputs": [],
   "source": [
    "fig = px.histogram(spfrit, \n",
    "                       x=\"years\",\n",
    "                       y=\"visitors\",\n",
    "                       color=\"Country Name\",\n",
    "                       facet_col=\"Country Name\",\n",
    "                       barmode=\"group\",\n",
    "                       title=f\"Using facet_col parameter together with color\",\n",
    "                       category_orders={\"Country Name\":[\"Italy\",\"Spain\",\"France\"]},\n",
    "                      )\n",
    "fig.update_xaxes(type='category')\n",
    "fig.show()"
   ]
  },
  {
   "cell_type": "code",
   "execution_count": null,
   "metadata": {},
   "outputs": [],
   "source": [
    "# rank the countries based on overall visits since 1995\n",
    "s = long_df.groupby(\"Country Name\")[\"visitors\"].sum().rank(ascending=False)\n",
    "\n",
    "# filter top 9 countries by visits\n",
    "df = long_df[long_df[\"Country Name\"].isin(s[s < 10].index)]\n",
    "\n",
    "fig = px.histogram(df, \n",
    "        x=\"years\",\n",
    "        y=\"visitors\",\n",
    "        color=\"Country Name\",\n",
    "        facet_col=\"Country Name\",\n",
    "        facet_col_wrap=3,\n",
    "        barmode=\"group\",\n",
    "        title=f\"Top 9 most visited countries\",\n",
    "        # sort from the most visited     \n",
    "        category_orders={\"Country Name\":s[s < 10].sort_values().index.to_list()},\n",
    "                      )\n",
    "fig.update_xaxes(type='category')\n",
    "fig.show()"
   ]
  },
  {
   "cell_type": "code",
   "execution_count": null,
   "metadata": {},
   "outputs": [],
   "source": [
    "fig = px.histogram(spfrit, \n",
    "                       x=\"years\",\n",
    "                       y=\"visitors\",\n",
    "                       facet_row=\"Country Name\",\n",
    "                       barmode=\"group\",\n",
    "                       title=f\"Using facer_row parameter\",\n",
    "                       category_orders={\"Country Name\":[\"Italy\",\"Spain\",\"France\"]},\n",
    "                      )\n",
    "fig.update_xaxes(type='category')\n",
    "fig.show()"
   ]
  },
  {
   "cell_type": "code",
   "execution_count": null,
   "metadata": {},
   "outputs": [],
   "source": [
    "# with facet_row_spacing\n",
    "fig = px.histogram(spfrit, \n",
    "                       x=\"years\",\n",
    "                       y=\"visitors\",\n",
    "                       facet_row=\"Country Name\",\n",
    "                       facet_row_spacing=0.2,\n",
    "                       barmode=\"group\",\n",
    "                       title=f\"facet_row_spacing = 0.2\",\n",
    "                       category_orders={\"Country Name\":[\"Italy\",\"Spain\",\"France\"]},\n",
    "                      )\n",
    "fig.update_xaxes(type='category')\n",
    "fig.show()"
   ]
  },
  {
   "cell_type": "markdown",
   "metadata": {},
   "source": [
    "## Parameter hover_name and hover_data\n",
    "hover_name specifies a value which is highlighted on the top of the tooltip. hover_data allow to True/False any column. But in case of histogram (compared to the other plotly charts) it doesn't seem to work pretty well. You can remove the column from `color` parameter by `{\"Country Name\":False}`, but you cannot add the region by `{\"Region\":True}`."
   ]
  },
  {
   "cell_type": "code",
   "execution_count": null,
   "metadata": {},
   "outputs": [],
   "source": [
    "# with facet_row_spacing\n",
    "fig = px.histogram(spfrit,x=\"visitors\",\n",
    "                   color=\"Country Name\",\n",
    "                   barmode=\"group\", \n",
    "                   hover_name=\"Country Name\",\n",
    "                  hover_data={\"visitors\":False, \"Region\":True},\n",
    "                   \n",
    "                  title=\"Updated tooltip\")\n",
    "fig.show()"
   ]
  },
  {
   "cell_type": "code",
   "execution_count": null,
   "metadata": {},
   "outputs": [],
   "source": [
    "# with facet_row_spacing\n",
    "fig = px.histogram(spfrit,y=\"visitors\",\n",
    "                   color=\"Country Name\",\n",
    "                   barmode=\"group\", \n",
    "                   hover_name=\"Country Name\",\n",
    "                  hover_data={\"visitors\":False, \"Region\":True},\n",
    "                   color_discrete_sequence=[\"yellow\",\"black\",\"lightgreen\"],\n",
    "                   marginal=\"box\",\n",
    "                   histfunc=\"avg\",\n",
    "                  title=\"Custom colors with marginal boxes\")\n",
    "fig.show()"
   ]
  },
  {
   "cell_type": "markdown",
   "metadata": {},
   "source": [
    "## Parameter Orientation\n",
    "Specifies whether the bars are oriented horizontaly or vertically. But in reality it's rather specified by the values of `x` and `y`. Switching `x` and `y` will cause the orientation to change."
   ]
  },
  {
   "cell_type": "code",
   "execution_count": null,
   "metadata": {},
   "outputs": [],
   "source": [
    "fig = px.histogram(yr2018, x=\"visitors\", color_discrete_sequence=[\"#ff5757\"])\n",
    "fig.show()"
   ]
  },
  {
   "cell_type": "code",
   "execution_count": null,
   "metadata": {},
   "outputs": [],
   "source": [
    "# switching x to y will turn the vertical bars to horizontals\n",
    "fig = px.histogram(yr2018, y=\"visitors\", color_discrete_sequence=[\"#ff5757\"])\n",
    "fig.update_yaxes(autorange=\"reversed\")\n",
    "fig.show()"
   ]
  },
  {
   "cell_type": "code",
   "execution_count": null,
   "metadata": {},
   "outputs": [],
   "source": [
    "px.histogram(sptuar, x=\"years\", y=\"receipts\", nbins = 25, color=\"Country Name\")"
   ]
  },
  {
   "cell_type": "code",
   "execution_count": null,
   "metadata": {},
   "outputs": [],
   "source": [
    "px.histogram(sptuar, y=\"years\", x=\"receipts\", nbins = 25, color=\"Country Name\")"
   ]
  },
  {
   "cell_type": "markdown",
   "metadata": {},
   "source": [
    "## Parameter Marginal\n",
    "Allow to add additional plot which can be one of four types:\n",
    "\n",
    "* `histogram` - which is basically the same as the histogram below it\n",
    "* `rug` - which shows exact spots of each data value within the\n",
    "* `violin` - doing the violin plot, estimating the probability density of the variable\n",
    "* `box` - box plot highlighting the median, first and third quartile"
   ]
  },
  {
   "cell_type": "code",
   "execution_count": null,
   "metadata": {},
   "outputs": [],
   "source": [
    "marginal=\"box\"\n",
    "px.histogram(sptuar, x=\"visitors\", marginal=marginal, title=f\"Marginal {marginal}\", )\n",
    "#color_discrete_sequence=[\"#ff913d\"]\n"
   ]
  },
  {
   "cell_type": "markdown",
   "metadata": {},
   "source": [
    "In case of having histogram with more than 1 categories, there will be the same number of categorical margins as well."
   ]
  },
  {
   "cell_type": "code",
   "execution_count": null,
   "metadata": {},
   "outputs": [],
   "source": [
    "marginal=\"histogram\"\n",
    "# for histograms with martingal the barmode parameter is ignored  \n",
    "px.histogram(sptuar, x=\"visitors\", marginal=marginal, title=f\"Marginal {marginal}\", color=\"Country Name\", barmode=\"group\")\n",
    "#color_discrete_sequence=[\"#ff913d\"]\n"
   ]
  },
  {
   "cell_type": "markdown",
   "metadata": {},
   "source": [
    "## Parameter Animation_Frame\n",
    "Setting this parameter to a column of the dataframe will create animations for the values of this column. The ranges are set up based on the initial frame, so you must specify the range_x parameter (range_y in case of vertical bars) to cover values from each animation_frame."
   ]
  },
  {
   "cell_type": "code",
   "execution_count": null,
   "metadata": {},
   "outputs": [],
   "source": [
    "px.histogram(spfrit, \n",
    "    y=\"Country Name\", \n",
    "    x=\"visitors\",\n",
    "    color=\"Country Name\", \n",
    "    barmode=\"group\", \n",
    "    # add the animation\n",
    "    animation_frame=\"years\",\n",
    "    # anchor the ranges so that the chart doesn't change frame to frame         \n",
    "    range_x=[0,spfrit[\"visitors\"].max()*1.1])"
   ]
  },
  {
   "cell_type": "code",
   "execution_count": null,
   "metadata": {},
   "outputs": [],
   "source": [
    "px.histogram(long_df, \n",
    "    x=\"years\",\n",
    "    y=\"visitors\",\n",
    "    color=\"Region\",\n",
    "    animation_frame=\"Region\",\n",
    "    color_discrete_sequence=px.colors.qualitative.Safe,\n",
    "    range_y=[0,long_df.groupby([\"Region\",\"years\"])[\"visitors\"].sum().max()*1.1]\n",
    "            )"
   ]
  },
  {
   "cell_type": "markdown",
   "metadata": {},
   "source": [
    "# Histogram using bar chart"
   ]
  },
  {
   "cell_type": "code",
   "execution_count": null,
   "metadata": {},
   "outputs": [],
   "source": [
    "px.histogram(yr2018, x=\"visitors\")"
   ]
  },
  {
   "cell_type": "code",
   "execution_count": 55,
   "metadata": {},
   "outputs": [
    {
     "name": "stderr",
     "output_type": "stream",
     "text": [
      "<ipython-input-55-5f60adf0bfa0>:5: SettingWithCopyWarning:\n",
      "\n",
      "\n",
      "A value is trying to be set on a copy of a slice from a DataFrame.\n",
      "Try using .loc[row_indexer,col_indexer] = value instead\n",
      "\n",
      "See the caveats in the documentation: https://pandas.pydata.org/pandas-docs/stable/user_guide/indexing.html#returning-a-view-versus-a-copy\n",
      "\n"
     ]
    }
   ],
   "source": [
    "# create 19 bins starting with 0 up to 90M\n",
    "bins = np.linspace(0, 90_000_000, 19)\n",
    "\n",
    "# use pd.cut to create the bins. In order to include zero, `include_lowest` is set to True\n",
    "yr2018[\"hist\"] = pd.cut(yr2018[\"visitors\"], bins, include_lowest=True)"
   ]
  },
  {
   "cell_type": "code",
   "execution_count": 56,
   "metadata": {},
   "outputs": [
    {
     "data": {
      "text/plain": [
       "IntervalIndex([(-0.001, 5000000.0], (5000000.0, 10000000.0], (10000000.0, 15000000.0], (15000000.0, 20000000.0], (20000000.0, 25000000.0] ... (65000000.0, 70000000.0], (70000000.0, 75000000.0], (75000000.0, 80000000.0], (80000000.0, 85000000.0], (85000000.0, 90000000.0]],\n",
       "              closed='right',\n",
       "              dtype='interval[float64]')"
      ]
     },
     "execution_count": 56,
     "metadata": {},
     "output_type": "execute_result"
    }
   ],
   "source": [
    "# pd.cut creates an interval category which is sorted from lowest bin to the greatest bin\n",
    "yr2018[\"hist\"].cat.categories"
   ]
  },
  {
   "cell_type": "code",
   "execution_count": 57,
   "metadata": {},
   "outputs": [
    {
     "data": {
      "text/html": [
       "<div>\n",
       "<style scoped>\n",
       "    .dataframe tbody tr th:only-of-type {\n",
       "        vertical-align: middle;\n",
       "    }\n",
       "\n",
       "    .dataframe tbody tr th {\n",
       "        vertical-align: top;\n",
       "    }\n",
       "\n",
       "    .dataframe thead th {\n",
       "        text-align: right;\n",
       "    }\n",
       "</style>\n",
       "<table border=\"1\" class=\"dataframe\">\n",
       "  <thead>\n",
       "    <tr style=\"text-align: right;\">\n",
       "      <th></th>\n",
       "      <th>bins</th>\n",
       "      <th>hist</th>\n",
       "    </tr>\n",
       "  </thead>\n",
       "  <tbody>\n",
       "    <tr>\n",
       "      <th>0</th>\n",
       "      <td>(-0.001, 5000000.0]</td>\n",
       "      <td>157</td>\n",
       "    </tr>\n",
       "    <tr>\n",
       "      <th>1</th>\n",
       "      <td>(5000000.0, 10000000.0]</td>\n",
       "      <td>17</td>\n",
       "    </tr>\n",
       "    <tr>\n",
       "      <th>2</th>\n",
       "      <td>(10000000.0, 15000000.0]</td>\n",
       "      <td>12</td>\n",
       "    </tr>\n",
       "  </tbody>\n",
       "</table>\n",
       "</div>"
      ],
      "text/plain": [
       "                       bins  hist\n",
       "0       (-0.001, 5000000.0]   157\n",
       "1   (5000000.0, 10000000.0]    17\n",
       "2  (10000000.0, 15000000.0]    12"
      ]
     },
     "execution_count": 57,
     "metadata": {},
     "output_type": "execute_result"
    }
   ],
   "source": [
    "# count the values in each bin. Bins are sorted based on the occurance (from most populated to the least one)\n",
    "agg = yr2018[\"hist\"].value_counts()\n",
    "\n",
    "# sort the values according to the bins (`sort_index`), turn into data frame (`to_frame`) and reset index\n",
    "agg = agg.sort_index().to_frame().reset_index()\n",
    "\n",
    "# rename index (containing the bin range e.g. \"(5000000.0, 10000000.0]\" to bins)\n",
    "agg.rename(columns={\"index\":\"bins\"}, inplace=True)\n",
    "\n",
    "# Plotly cannot work with categories index, so we need to turn it into string\n",
    "agg[\"bins\"] = agg[\"bins\"].astype(\"str\")\n",
    "\n",
    "agg.head(3)"
   ]
  },
  {
   "cell_type": "code",
   "execution_count": null,
   "metadata": {},
   "outputs": [],
   "source": [
    "# now we can use the aggregated values in the plotly bar chart\n",
    "fig = px.bar(agg, x=\"bins\", y=\"hist\", text=\"hist\",\n",
    "       title=\"Histogram using pd.cut and px.bar\", \n",
    "       labels={\"hist\":\"count\"})\n",
    "fig.show()"
   ]
  },
  {
   "cell_type": "markdown",
   "metadata": {},
   "source": [
    "If you want to display the just the bin-border numbers and not the bin ranges, let's get the border values into a separate column using `pd.cut(df, bin, labels=bins[1:])`. If `bins` variable is [0,1,2] then `bins[1:]` is [1,2]. This way `plotly` assigns the counts to the higher boundary of the bin, but the bar chart will display this number in the middle of the bar, which is exactly the same way, how `px.histogram()` is doing it. "
   ]
  },
  {
   "cell_type": "code",
   "execution_count": 64,
   "metadata": {},
   "outputs": [
    {
     "name": "stderr",
     "output_type": "stream",
     "text": [
      "<ipython-input-64-344afc18a4f1>:2: SettingWithCopyWarning:\n",
      "\n",
      "\n",
      "A value is trying to be set on a copy of a slice from a DataFrame.\n",
      "Try using .loc[row_indexer,col_indexer] = value instead\n",
      "\n",
      "See the caveats in the documentation: https://pandas.pydata.org/pandas-docs/stable/user_guide/indexing.html#returning-a-view-versus-a-copy\n",
      "\n",
      "<ipython-input-64-344afc18a4f1>:4: SettingWithCopyWarning:\n",
      "\n",
      "\n",
      "A value is trying to be set on a copy of a slice from a DataFrame.\n",
      "Try using .loc[row_indexer,col_indexer] = value instead\n",
      "\n",
      "See the caveats in the documentation: https://pandas.pydata.org/pandas-docs/stable/user_guide/indexing.html#returning-a-view-versus-a-copy\n",
      "\n"
     ]
    }
   ],
   "source": [
    "# bin under the bins higher boundary using labels argument\n",
    "yr2018[\"hist_border\"] = pd.cut(yr2018[\"visitors\"], bins=bins, labels=bins[1:], include_lowest=True)\n",
    "# bins containing both lower and higher boundary\n",
    "yr2018[\"bins\"] = pd.cut(yr2018[\"visitors\"], bins=bins, include_lowest=True)"
   ]
  },
  {
   "cell_type": "code",
   "execution_count": 62,
   "metadata": {},
   "outputs": [
    {
     "data": {
      "text/html": [
       "<div>\n",
       "<style scoped>\n",
       "    .dataframe tbody tr th:only-of-type {\n",
       "        vertical-align: middle;\n",
       "    }\n",
       "\n",
       "    .dataframe tbody tr th {\n",
       "        vertical-align: top;\n",
       "    }\n",
       "\n",
       "    .dataframe thead th {\n",
       "        text-align: right;\n",
       "    }\n",
       "</style>\n",
       "<table border=\"1\" class=\"dataframe\">\n",
       "  <thead>\n",
       "    <tr style=\"text-align: right;\">\n",
       "      <th></th>\n",
       "      <th>bins</th>\n",
       "      <th>hist_border</th>\n",
       "      <th>values</th>\n",
       "    </tr>\n",
       "  </thead>\n",
       "  <tbody>\n",
       "    <tr>\n",
       "      <th>0</th>\n",
       "      <td>(-0.001, 5000000.0]</td>\n",
       "      <td>5000000.0</td>\n",
       "      <td>157.0</td>\n",
       "    </tr>\n",
       "    <tr>\n",
       "      <th>1</th>\n",
       "      <td>(-0.001, 5000000.0]</td>\n",
       "      <td>10000000.0</td>\n",
       "      <td>NaN</td>\n",
       "    </tr>\n",
       "    <tr>\n",
       "      <th>2</th>\n",
       "      <td>(-0.001, 5000000.0]</td>\n",
       "      <td>15000000.0</td>\n",
       "      <td>NaN</td>\n",
       "    </tr>\n",
       "  </tbody>\n",
       "</table>\n",
       "</div>"
      ],
      "text/plain": [
       "                  bins hist_border  values\n",
       "0  (-0.001, 5000000.0]   5000000.0   157.0\n",
       "1  (-0.001, 5000000.0]  10000000.0     NaN\n",
       "2  (-0.001, 5000000.0]  15000000.0     NaN"
      ]
     },
     "execution_count": 62,
     "metadata": {},
     "output_type": "execute_result"
    }
   ],
   "source": [
    "# aggregate through boths the bins and the higher_boundary\n",
    "agg = yr2018.groupby([\"bins\",\"hist_border\"]).count()[\"Country Name\"]\n",
    "agg = agg.sort_index().to_frame().reset_index()\n",
    "agg[\"bins\"] = agg[\"bins\"].astype(\"str\")\n",
    "agg.rename(columns={\"Country Name\":\"values\"}, inplace=True)\n",
    "agg.head(3)"
   ]
  },
  {
   "cell_type": "code",
   "execution_count": null,
   "metadata": {},
   "outputs": [],
   "source": [
    "# plot the bar charts as usuall via px.bar\n",
    "fig = px.bar(agg, x=\"hist_border\", y=\"values\", text=\"values\",\n",
    "       title=\"Histogram using pd.cut with labels and px.bar\", \n",
    "        hover_data={\"bins\":True})\n",
    "\n",
    "# remove the gaps between the bars\n",
    "fig.update_layout(bargap=0)\n",
    "\n",
    "# show the image\n",
    "fig.show()"
   ]
  },
  {
   "cell_type": "markdown",
   "metadata": {},
   "source": [
    "## Split the bars based on a category (e.g. Region)\n",
    "Achieve this by grouping the data, by both the bins and the categorical value `Region`"
   ]
  },
  {
   "cell_type": "code",
   "execution_count": 65,
   "metadata": {},
   "outputs": [
    {
     "data": {
      "text/html": [
       "<div>\n",
       "<style scoped>\n",
       "    .dataframe tbody tr th:only-of-type {\n",
       "        vertical-align: middle;\n",
       "    }\n",
       "\n",
       "    .dataframe tbody tr th {\n",
       "        vertical-align: top;\n",
       "    }\n",
       "\n",
       "    .dataframe thead th {\n",
       "        text-align: right;\n",
       "    }\n",
       "</style>\n",
       "<table border=\"1\" class=\"dataframe\">\n",
       "  <thead>\n",
       "    <tr style=\"text-align: right;\">\n",
       "      <th></th>\n",
       "      <th>bins</th>\n",
       "      <th>hist_border</th>\n",
       "      <th>Region</th>\n",
       "      <th>visitors</th>\n",
       "    </tr>\n",
       "  </thead>\n",
       "  <tbody>\n",
       "    <tr>\n",
       "      <th>0</th>\n",
       "      <td>(-0.001, 5000000.0]</td>\n",
       "      <td>5000000.0</td>\n",
       "      <td>East Asia &amp; Pacific</td>\n",
       "      <td>24.0</td>\n",
       "    </tr>\n",
       "    <tr>\n",
       "      <th>1</th>\n",
       "      <td>(-0.001, 5000000.0]</td>\n",
       "      <td>5000000.0</td>\n",
       "      <td>Europe &amp; Central Asia</td>\n",
       "      <td>28.0</td>\n",
       "    </tr>\n",
       "    <tr>\n",
       "      <th>2</th>\n",
       "      <td>(-0.001, 5000000.0]</td>\n",
       "      <td>5000000.0</td>\n",
       "      <td>Latin America &amp; Caribbean</td>\n",
       "      <td>37.0</td>\n",
       "    </tr>\n",
       "    <tr>\n",
       "      <th>3</th>\n",
       "      <td>(-0.001, 5000000.0]</td>\n",
       "      <td>5000000.0</td>\n",
       "      <td>Middle East &amp; North Africa</td>\n",
       "      <td>13.0</td>\n",
       "    </tr>\n",
       "    <tr>\n",
       "      <th>4</th>\n",
       "      <td>(-0.001, 5000000.0]</td>\n",
       "      <td>5000000.0</td>\n",
       "      <td>North America</td>\n",
       "      <td>1.0</td>\n",
       "    </tr>\n",
       "    <tr>\n",
       "      <th>...</th>\n",
       "      <td>...</td>\n",
       "      <td>...</td>\n",
       "      <td>...</td>\n",
       "      <td>...</td>\n",
       "    </tr>\n",
       "    <tr>\n",
       "      <th>2263</th>\n",
       "      <td>(85000000.0, 90000000.0]</td>\n",
       "      <td>90000000.0</td>\n",
       "      <td>Latin America &amp; Caribbean</td>\n",
       "      <td>0.0</td>\n",
       "    </tr>\n",
       "    <tr>\n",
       "      <th>2264</th>\n",
       "      <td>(85000000.0, 90000000.0]</td>\n",
       "      <td>90000000.0</td>\n",
       "      <td>Middle East &amp; North Africa</td>\n",
       "      <td>0.0</td>\n",
       "    </tr>\n",
       "    <tr>\n",
       "      <th>2265</th>\n",
       "      <td>(85000000.0, 90000000.0]</td>\n",
       "      <td>90000000.0</td>\n",
       "      <td>North America</td>\n",
       "      <td>0.0</td>\n",
       "    </tr>\n",
       "    <tr>\n",
       "      <th>2266</th>\n",
       "      <td>(85000000.0, 90000000.0]</td>\n",
       "      <td>90000000.0</td>\n",
       "      <td>South Asia</td>\n",
       "      <td>0.0</td>\n",
       "    </tr>\n",
       "    <tr>\n",
       "      <th>2267</th>\n",
       "      <td>(85000000.0, 90000000.0]</td>\n",
       "      <td>90000000.0</td>\n",
       "      <td>Sub-Saharan Africa</td>\n",
       "      <td>0.0</td>\n",
       "    </tr>\n",
       "  </tbody>\n",
       "</table>\n",
       "<p>2268 rows × 4 columns</p>\n",
       "</div>"
      ],
      "text/plain": [
       "                          bins hist_border                      Region  \\\n",
       "0          (-0.001, 5000000.0]   5000000.0         East Asia & Pacific   \n",
       "1          (-0.001, 5000000.0]   5000000.0       Europe & Central Asia   \n",
       "2          (-0.001, 5000000.0]   5000000.0   Latin America & Caribbean   \n",
       "3          (-0.001, 5000000.0]   5000000.0  Middle East & North Africa   \n",
       "4          (-0.001, 5000000.0]   5000000.0               North America   \n",
       "...                        ...         ...                         ...   \n",
       "2263  (85000000.0, 90000000.0]  90000000.0   Latin America & Caribbean   \n",
       "2264  (85000000.0, 90000000.0]  90000000.0  Middle East & North Africa   \n",
       "2265  (85000000.0, 90000000.0]  90000000.0               North America   \n",
       "2266  (85000000.0, 90000000.0]  90000000.0                  South Asia   \n",
       "2267  (85000000.0, 90000000.0]  90000000.0          Sub-Saharan Africa   \n",
       "\n",
       "      visitors  \n",
       "0         24.0  \n",
       "1         28.0  \n",
       "2         37.0  \n",
       "3         13.0  \n",
       "4          1.0  \n",
       "...        ...  \n",
       "2263       0.0  \n",
       "2264       0.0  \n",
       "2265       0.0  \n",
       "2266       0.0  \n",
       "2267       0.0  \n",
       "\n",
       "[2268 rows x 4 columns]"
      ]
     },
     "execution_count": 65,
     "metadata": {},
     "output_type": "execute_result"
    }
   ],
   "source": [
    "agg = yr2018.groupby([\"hist\",\"hist_border\",\"Region\"]).count()[\"visitors\"].to_frame().reset_index()\n",
    "agg.rename(columns={\"hist\":\"bins\"}, inplace=True)\n",
    "agg[\"bins\"] = agg[\"bins\"].astype(\"str\")\n",
    "agg[\"visitors\"] = agg[\"visitors\"].fillna(0)\n",
    "agg"
   ]
  },
  {
   "cell_type": "code",
   "execution_count": null,
   "metadata": {},
   "outputs": [],
   "source": [
    "fig = px.bar(agg, x=\"bins\", y=\"visitors\", color=\"Region\", text=\"visitors\", \n",
    "       title=\"Histogram using pd.cut and px.bar\", )\n",
    "fig.show()"
   ]
  },
  {
   "cell_type": "code",
   "execution_count": null,
   "metadata": {},
   "outputs": [],
   "source": [
    "fig = px.bar(agg, x=\"hist_border\", y=\"visitors\", color=\"Region\", text=\"visitors\", \n",
    "       title=\"Histogram using pd.cut and px.bar\", )\n",
    "fig.update_layout(bargap=0)\n",
    "fig.show()"
   ]
  },
  {
   "cell_type": "markdown",
   "metadata": {},
   "source": [
    "## Simulate the histogram with numpy.histogram\n",
    "This is possibly the most stright forward method, because `np.histogram` counts the values in each bin, while keeping the order of the bins. When the results are turned into a data frame, you can easily feed Plotly with it."
   ]
  },
  {
   "cell_type": "code",
   "execution_count": 68,
   "metadata": {},
   "outputs": [],
   "source": [
    "counts, bins = np.histogram(yr2018[\"visitors\"], bins=bins)"
   ]
  },
  {
   "cell_type": "code",
   "execution_count": 69,
   "metadata": {},
   "outputs": [
    {
     "data": {
      "text/html": [
       "<div>\n",
       "<style scoped>\n",
       "    .dataframe tbody tr th:only-of-type {\n",
       "        vertical-align: middle;\n",
       "    }\n",
       "\n",
       "    .dataframe tbody tr th {\n",
       "        vertical-align: top;\n",
       "    }\n",
       "\n",
       "    .dataframe thead th {\n",
       "        text-align: right;\n",
       "    }\n",
       "</style>\n",
       "<table border=\"1\" class=\"dataframe\">\n",
       "  <thead>\n",
       "    <tr style=\"text-align: right;\">\n",
       "      <th></th>\n",
       "      <th>bins</th>\n",
       "      <th>counts</th>\n",
       "    </tr>\n",
       "  </thead>\n",
       "  <tbody>\n",
       "    <tr>\n",
       "      <th>0</th>\n",
       "      <td>5000000.0</td>\n",
       "      <td>157</td>\n",
       "    </tr>\n",
       "    <tr>\n",
       "      <th>1</th>\n",
       "      <td>10000000.0</td>\n",
       "      <td>17</td>\n",
       "    </tr>\n",
       "    <tr>\n",
       "      <th>2</th>\n",
       "      <td>15000000.0</td>\n",
       "      <td>12</td>\n",
       "    </tr>\n",
       "    <tr>\n",
       "      <th>15</th>\n",
       "      <td>80000000.0</td>\n",
       "      <td>1</td>\n",
       "    </tr>\n",
       "    <tr>\n",
       "      <th>16</th>\n",
       "      <td>85000000.0</td>\n",
       "      <td>1</td>\n",
       "    </tr>\n",
       "    <tr>\n",
       "      <th>17</th>\n",
       "      <td>90000000.0</td>\n",
       "      <td>1</td>\n",
       "    </tr>\n",
       "  </tbody>\n",
       "</table>\n",
       "</div>"
      ],
      "text/plain": [
       "          bins  counts\n",
       "0    5000000.0     157\n",
       "1   10000000.0      17\n",
       "2   15000000.0      12\n",
       "15  80000000.0       1\n",
       "16  85000000.0       1\n",
       "17  90000000.0       1"
      ]
     },
     "execution_count": 69,
     "metadata": {},
     "output_type": "execute_result"
    }
   ],
   "source": [
    "# explude the first values from the bins (it's the starting point)\n",
    "df = pd.DataFrame({\"bins\":bins[1:], \"counts\":counts})\n",
    "pd.concat([df.head(3),df.tail(3)])"
   ]
  },
  {
   "cell_type": "code",
   "execution_count": null,
   "metadata": {},
   "outputs": [],
   "source": [
    "fig = px.bar(df, x=\"bins\", y=\"counts\", text=\"counts\", title=\"Histogram simulation via px.bar\")\n",
    "fig.update_layout(bargap=0)\n",
    "fig.show()"
   ]
  },
  {
   "cell_type": "markdown",
   "metadata": {},
   "source": [
    "# Conclusion\n",
    "Histograms allow a quick way how to explore the distribution of the data. `px.histogram()` through lack some feature other graphs in the plotly family have. You can annotate the bars and it's difficult to influnce the size of the bins. To overcome this burden you can calculate the bins yourself and draw the chart using `px.bar()`"
   ]
  }
 ],
 "metadata": {
  "kernelspec": {
   "display_name": "Python 3 (ipykernel)",
   "language": "python",
   "name": "python3"
  },
  "language_info": {
   "codemirror_mode": {
    "name": "ipython",
    "version": 3
   },
   "file_extension": ".py",
   "mimetype": "text/x-python",
   "name": "python",
   "nbconvert_exporter": "python",
   "pygments_lexer": "ipython3",
   "version": "3.8.10"
  },
  "toc": {
   "base_numbering": 1,
   "nav_menu": {},
   "number_sections": true,
   "sideBar": true,
   "skip_h1_title": false,
   "title_cell": "Table of Contents",
   "title_sidebar": "Contents",
   "toc_cell": false,
   "toc_position": {},
   "toc_section_display": true,
   "toc_window_display": false
  },
  "varInspector": {
   "cols": {
    "lenName": 16,
    "lenType": 16,
    "lenVar": 40
   },
   "kernels_config": {
    "python": {
     "delete_cmd_postfix": "",
     "delete_cmd_prefix": "del ",
     "library": "var_list.py",
     "varRefreshCmd": "print(var_dic_list())"
    },
    "r": {
     "delete_cmd_postfix": ") ",
     "delete_cmd_prefix": "rm(",
     "library": "var_list.r",
     "varRefreshCmd": "cat(var_dic_list()) "
    }
   },
   "types_to_exclude": [
    "module",
    "function",
    "builtin_function_or_method",
    "instance",
    "_Feature"
   ],
   "window_display": false
  }
 },
 "nbformat": 4,
 "nbformat_minor": 4
}
