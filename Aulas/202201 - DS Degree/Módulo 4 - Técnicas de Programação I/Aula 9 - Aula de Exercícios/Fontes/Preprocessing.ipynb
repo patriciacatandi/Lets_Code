{
 "cells": [
  {
   "cell_type": "code",
   "execution_count": 1,
   "metadata": {
    "ExecuteTime": {
     "end_time": "2020-08-31T20:42:05.927509Z",
     "start_time": "2020-08-31T20:42:05.922525Z"
    }
   },
   "outputs": [],
   "source": [
    "import pandas as pd"
   ]
  },
  {
   "cell_type": "markdown",
   "metadata": {
    "ExecuteTime": {
     "end_time": "2020-08-28T20:04:55.188524Z",
     "start_time": "2020-08-28T20:04:55.183504Z"
    }
   },
   "source": [
    "We will use two datasets provided by the World Bank:\n",
    "    \n",
    "* International Arrival-- How many tourist have come to the country\n",
    " * https://data.worldbank.org/indicator/ST.INT.ARVL\n",
    "* Receipts--How mach they spent in the country (how much the locals received)\n",
    " * https://data.worldbank.org/indicator/ST.INT.RCPT.CD\n",
    "\n",
    "Because both dataset mix data for countries with regional aggregates, eg. `CEB` for Central Europe and Baltics.\n",
    "It also contains columns between `1960` and `2018` but data are populated since `1995` only. \n",
    "For that reason we filter out the regions and drop the empty columns"
   ]
  },
  {
   "cell_type": "code",
   "execution_count": 10,
   "metadata": {},
   "outputs": [],
   "source": [
    "def process_world_bank_dataset(path):\n",
    "    df = pd.read_csv(path, skiprows=4)\n",
    "    \n",
    "    # load country_codes (from https://en.wikipedia.org/wiki/List_of_ISO_3166_country_codes)\n",
    "    country_codes = pd.read_csv(\"Country_Codes.csv\")\n",
    "    \n",
    "    # info about regions (part of the world bank data package)\n",
    "    regions = pd.read_csv(\"Metadata.csv\")\n",
    "\n",
    "    # merge country codes to have only countries\n",
    "    df = df.merge(country_codes[\"ISO3\"], left_on=\"Country Code\", right_on=\"ISO3\", how=\"inner\")\n",
    "    df = df.merge(regions[[\"Country Code\",\"Region\"]], on=\"Country Code\")\n",
    "\n",
    "    # drop unnecesary columns\n",
    "    df.drop(columns=[\"Indicator Name\",\"Indicator Code\", \"ISO3\"], inplace=True)\n",
    "\n",
    "    # drop empty columns and row which have not data\n",
    "    # `axis=0` for rows and `axis=1` for columns \n",
    "    df = df.dropna(how=\"all\", axis=\"rows\")\n",
    "    df = df.dropna(how=\"all\", axis=\"columns\")\n",
    "    \n",
    "    return df\n",
    "\n",
    "def melt_world_bank(df, value_name):\n",
    "    return df.melt(id_vars=[\"Country Name\",\"Country Code\",\"Region\"], \n",
    "                            var_name=\"years\",\n",
    "                            value_name=value_name)"
   ]
  },
  {
   "cell_type": "code",
   "execution_count": 11,
   "metadata": {},
   "outputs": [
    {
     "name": "stdout",
     "output_type": "stream",
     "text": [
      "(215, 27) (215, 27)\n"
     ]
    },
    {
     "data": {
      "text/html": [
       "<div>\n",
       "<style scoped>\n",
       "    .dataframe tbody tr th:only-of-type {\n",
       "        vertical-align: middle;\n",
       "    }\n",
       "\n",
       "    .dataframe tbody tr th {\n",
       "        vertical-align: top;\n",
       "    }\n",
       "\n",
       "    .dataframe thead th {\n",
       "        text-align: right;\n",
       "    }\n",
       "</style>\n",
       "<table border=\"1\" class=\"dataframe\">\n",
       "  <thead>\n",
       "    <tr style=\"text-align: right;\">\n",
       "      <th></th>\n",
       "      <th>Country Name</th>\n",
       "      <th>Country Code</th>\n",
       "      <th>Region</th>\n",
       "      <th>years</th>\n",
       "      <th>visitors</th>\n",
       "      <th>receipts</th>\n",
       "    </tr>\n",
       "  </thead>\n",
       "  <tbody>\n",
       "    <tr>\n",
       "      <th>0</th>\n",
       "      <td>Aruba</td>\n",
       "      <td>ABW</td>\n",
       "      <td>Latin America &amp; Caribbean</td>\n",
       "      <td>1995</td>\n",
       "      <td>619000.0</td>\n",
       "      <td>5.540000e+08</td>\n",
       "    </tr>\n",
       "    <tr>\n",
       "      <th>1</th>\n",
       "      <td>Afghanistan</td>\n",
       "      <td>AFG</td>\n",
       "      <td>South Asia</td>\n",
       "      <td>1995</td>\n",
       "      <td>0.0</td>\n",
       "      <td>0.000000e+00</td>\n",
       "    </tr>\n",
       "    <tr>\n",
       "      <th>2</th>\n",
       "      <td>Angola</td>\n",
       "      <td>AGO</td>\n",
       "      <td>Sub-Saharan Africa</td>\n",
       "      <td>1995</td>\n",
       "      <td>9000.0</td>\n",
       "      <td>2.700000e+07</td>\n",
       "    </tr>\n",
       "    <tr>\n",
       "      <th>3</th>\n",
       "      <td>Albania</td>\n",
       "      <td>ALB</td>\n",
       "      <td>Europe &amp; Central Asia</td>\n",
       "      <td>1995</td>\n",
       "      <td>0.0</td>\n",
       "      <td>7.000000e+07</td>\n",
       "    </tr>\n",
       "    <tr>\n",
       "      <th>4</th>\n",
       "      <td>Andorra</td>\n",
       "      <td>AND</td>\n",
       "      <td>Europe &amp; Central Asia</td>\n",
       "      <td>1995</td>\n",
       "      <td>0.0</td>\n",
       "      <td>0.000000e+00</td>\n",
       "    </tr>\n",
       "    <tr>\n",
       "      <th>...</th>\n",
       "      <td>...</td>\n",
       "      <td>...</td>\n",
       "      <td>...</td>\n",
       "      <td>...</td>\n",
       "      <td>...</td>\n",
       "      <td>...</td>\n",
       "    </tr>\n",
       "    <tr>\n",
       "      <th>5155</th>\n",
       "      <td>Samoa</td>\n",
       "      <td>WSM</td>\n",
       "      <td>East Asia &amp; Pacific</td>\n",
       "      <td>2018</td>\n",
       "      <td>164000.0</td>\n",
       "      <td>1.913000e+08</td>\n",
       "    </tr>\n",
       "    <tr>\n",
       "      <th>5156</th>\n",
       "      <td>Yemen, Rep.</td>\n",
       "      <td>YEM</td>\n",
       "      <td>Middle East &amp; North Africa</td>\n",
       "      <td>2018</td>\n",
       "      <td>0.0</td>\n",
       "      <td>0.000000e+00</td>\n",
       "    </tr>\n",
       "    <tr>\n",
       "      <th>5157</th>\n",
       "      <td>South Africa</td>\n",
       "      <td>ZAF</td>\n",
       "      <td>Sub-Saharan Africa</td>\n",
       "      <td>2018</td>\n",
       "      <td>10472000.0</td>\n",
       "      <td>9.789000e+09</td>\n",
       "    </tr>\n",
       "    <tr>\n",
       "      <th>5158</th>\n",
       "      <td>Zambia</td>\n",
       "      <td>ZMB</td>\n",
       "      <td>Sub-Saharan Africa</td>\n",
       "      <td>2018</td>\n",
       "      <td>1072000.0</td>\n",
       "      <td>7.420000e+08</td>\n",
       "    </tr>\n",
       "    <tr>\n",
       "      <th>5159</th>\n",
       "      <td>Zimbabwe</td>\n",
       "      <td>ZWE</td>\n",
       "      <td>Sub-Saharan Africa</td>\n",
       "      <td>2018</td>\n",
       "      <td>2580000.0</td>\n",
       "      <td>0.000000e+00</td>\n",
       "    </tr>\n",
       "  </tbody>\n",
       "</table>\n",
       "<p>5160 rows × 6 columns</p>\n",
       "</div>"
      ],
      "text/plain": [
       "      Country Name Country Code                      Region years    visitors  \\\n",
       "0            Aruba          ABW   Latin America & Caribbean  1995    619000.0   \n",
       "1      Afghanistan          AFG                  South Asia  1995         0.0   \n",
       "2           Angola          AGO          Sub-Saharan Africa  1995      9000.0   \n",
       "3          Albania          ALB       Europe & Central Asia  1995         0.0   \n",
       "4          Andorra          AND       Europe & Central Asia  1995         0.0   \n",
       "...            ...          ...                         ...   ...         ...   \n",
       "5155         Samoa          WSM         East Asia & Pacific  2018    164000.0   \n",
       "5156   Yemen, Rep.          YEM  Middle East & North Africa  2018         0.0   \n",
       "5157  South Africa          ZAF          Sub-Saharan Africa  2018  10472000.0   \n",
       "5158        Zambia          ZMB          Sub-Saharan Africa  2018   1072000.0   \n",
       "5159      Zimbabwe          ZWE          Sub-Saharan Africa  2018   2580000.0   \n",
       "\n",
       "          receipts  \n",
       "0     5.540000e+08  \n",
       "1     0.000000e+00  \n",
       "2     2.700000e+07  \n",
       "3     7.000000e+07  \n",
       "4     0.000000e+00  \n",
       "...            ...  \n",
       "5155  1.913000e+08  \n",
       "5156  0.000000e+00  \n",
       "5157  9.789000e+09  \n",
       "5158  7.420000e+08  \n",
       "5159  0.000000e+00  \n",
       "\n",
       "[5160 rows x 6 columns]"
      ]
     },
     "execution_count": 11,
     "metadata": {},
     "output_type": "execute_result"
    }
   ],
   "source": [
    "wide_arrivals = process_world_bank_dataset(\"API_ST.INT.ARVL_DS2_en_csv_v2_1345483.csv\")\n",
    "wide_receipts = process_world_bank_dataset(\"API_ST.INT.RCPT.CD_DS2_en_csv_v2_1351575.csv\")\n",
    "\n",
    "print(wide_arrivals.shape, wide_receipts.shape)\n",
    "\n",
    "# melt the data frames to create long dataframe\n",
    "long_arr = melt_world_bank(wide_arrivals,\"visitors\")\n",
    "long_receipts = melt_world_bank(wide_receipts,\"receipts\")\n",
    "\n",
    "long_df = long_arr.merge(long_receipts, on=[\"Country Name\",\"Country Code\",\"years\",\"Region\"]).fillna(0)\n",
    "long_df"
   ]
  },
  {
   "cell_type": "code",
   "execution_count": 13,
   "metadata": {},
   "outputs": [],
   "source": [
    "# save to pickle\n",
    "wide_arrivals.to_pickle(\"arr.plk\")\n",
    "wide_receipts.to_pickle(\"rec.plk\")\n",
    "long_df.to_pickle(\"long.plk\")"
   ]
  }
 ],
 "metadata": {
  "kernelspec": {
   "display_name": "Python 3",
   "language": "python",
   "name": "python3"
  },
  "language_info": {
   "codemirror_mode": {
    "name": "ipython",
    "version": 3
   },
   "file_extension": ".py",
   "mimetype": "text/x-python",
   "name": "python",
   "nbconvert_exporter": "python",
   "pygments_lexer": "ipython3",
   "version": "3.7.4"
  },
  "toc": {
   "base_numbering": 1,
   "nav_menu": {},
   "number_sections": true,
   "sideBar": true,
   "skip_h1_title": false,
   "title_cell": "Table of Contents",
   "title_sidebar": "Contents",
   "toc_cell": false,
   "toc_position": {},
   "toc_section_display": true,
   "toc_window_display": false
  },
  "varInspector": {
   "cols": {
    "lenName": 16,
    "lenType": 16,
    "lenVar": 40
   },
   "kernels_config": {
    "python": {
     "delete_cmd_postfix": "",
     "delete_cmd_prefix": "del ",
     "library": "var_list.py",
     "varRefreshCmd": "print(var_dic_list())"
    },
    "r": {
     "delete_cmd_postfix": ") ",
     "delete_cmd_prefix": "rm(",
     "library": "var_list.r",
     "varRefreshCmd": "cat(var_dic_list()) "
    }
   },
   "types_to_exclude": [
    "module",
    "function",
    "builtin_function_or_method",
    "instance",
    "_Feature"
   ],
   "window_display": false
  }
 },
 "nbformat": 4,
 "nbformat_minor": 2
}

