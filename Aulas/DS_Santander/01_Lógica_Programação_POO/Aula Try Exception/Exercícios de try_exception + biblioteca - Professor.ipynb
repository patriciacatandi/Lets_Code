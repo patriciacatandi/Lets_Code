{
 "cells": [
  {
   "cell_type": "markdown",
   "metadata": {},
   "source": [
    "## Assert\n",
    "Documentation: http://docs.python.org/reference/simple_stmts.html#the-assert-statement"
   ]
  },
  {
   "cell_type": "markdown",
   "metadata": {},
   "source": [
    "The `assert` statement exists in almost every programming language. It helps detect problems early in your program.\n",
    "`assert` is similar to throwing an exception if a given condition isn't true. An important difference is that assert statements get ignored if you compile your code with the optimization option `-O` as in `python -O script.py`. The documentation says that assert expression can better be described as being equivalent to\n",
    "\n",
    "```python\n",
    "if __debug__:\n",
    "   if not expression: raise AssertionError\n",
    "```\n",
    "\n",
    "This can be useful if you want to thoroughly test your code, then release an optimized version when you're happy that none of your assertion cases fail - when optimization is on, the `__debug__` variable becomes False and the conditions will stop getting evaluated. This feature can also catch you out if you're relying on the asserts and don't realize they've disappeared."
   ]
  },
  {
   "cell_type": "code",
   "execution_count": 10,
   "metadata": {},
   "outputs": [
    {
     "ename": "AssertionError",
     "evalue": "Houston we've got a problem",
     "output_type": "error",
     "traceback": [
      "\u001b[0;31m---------------------------------------------------------------------------\u001b[0m",
      "\u001b[0;31mAssertionError\u001b[0m                            Traceback (most recent call last)",
      "\u001b[0;32m<ipython-input-10-c9e808c1ab2a>\u001b[0m in \u001b[0;36m<module>\u001b[0;34m\u001b[0m\n\u001b[0;32m----> 1\u001b[0;31m \u001b[0;32massert\u001b[0m \u001b[0;36m2\u001b[0m \u001b[0;34m+\u001b[0m \u001b[0;36m2\u001b[0m \u001b[0;34m==\u001b[0m \u001b[0;36m5\u001b[0m\u001b[0;34m,\u001b[0m \u001b[0;34m\"Houston we've got a problem\"\u001b[0m\u001b[0;34m\u001b[0m\u001b[0;34m\u001b[0m\u001b[0m\n\u001b[0m",
      "\u001b[0;31mAssertionError\u001b[0m: Houston we've got a problem"
     ]
    }
   ],
   "source": [
    "assert 2 + 2 == 5, \"Houston we've got a problem\"\n"
   ]
  },
  {
   "cell_type": "markdown",
   "metadata": {},
   "source": [
    "Poderia ter utilizado\n",
    "\n",
    "```python\n",
    "if not condition:\n",
    "    raise AssertionError()\n",
    "```"
   ]
  },
  {
   "cell_type": "markdown",
   "metadata": {},
   "source": [
    "1. Escreva um código que receba um inteiro e retorne a exponencial desse número caso ele  seja par e caso seja um ímpar retorne um print informando que esse número não é par utilizando um try/except <br>\n",
    "Dica: utilize assert num % 2 == 0"
   ]
  },
  {
   "cell_type": "code",
   "execution_count": 9,
   "metadata": {},
   "outputs": [
    {
     "ename": "AssertionError",
     "evalue": "",
     "output_type": "error",
     "traceback": [
      "\u001b[0;31m---------------------------------------------------------------------------\u001b[0m",
      "\u001b[0;31mAssertionError\u001b[0m                            Traceback (most recent call last)",
      "\u001b[0;32m<ipython-input-9-f2b00e7c3c78>\u001b[0m in \u001b[0;36m<module>\u001b[0;34m\u001b[0m\n\u001b[0;32m----> 1\u001b[0;31m \u001b[0;32massert\u001b[0m \u001b[0;36m11\u001b[0m \u001b[0;34m%\u001b[0m \u001b[0;36m2\u001b[0m \u001b[0;34m==\u001b[0m \u001b[0;36m0\u001b[0m\u001b[0;34m\u001b[0m\u001b[0;34m\u001b[0m\u001b[0m\n\u001b[0m",
      "\u001b[0;31mAssertionError\u001b[0m: "
     ]
    }
   ],
   "source": [
    "assert 11 % 2 == 0"
   ]
  },
  {
   "cell_type": "code",
   "execution_count": 20,
   "metadata": {},
   "outputs": [],
   "source": [
    "x "
   ]
  },
  {
   "cell_type": "code",
   "execution_count": 18,
   "metadata": {},
   "outputs": [
    {
     "name": "stdout",
     "output_type": "stream",
     "text": [
      "Enter a number: 2\n",
      "0.5\n",
      "7.38905609893065\n"
     ]
    }
   ],
   "source": [
    "import math\n",
    "try:\n",
    "    num = int(input(\"Enter a number: \"))\n",
    "    assert num % 2 == 0\n",
    "except:\n",
    "    print(\"Not an even number!\")\n",
    "else:\n",
    "    print(math.exp(num))"
   ]
  },
  {
   "cell_type": "code",
   "execution_count": 21,
   "metadata": {},
   "outputs": [
    {
     "name": "stdout",
     "output_type": "stream",
     "text": [
      "Enter a number: 5\n",
      "não par\n",
      "finalizou\n"
     ]
    },
    {
     "data": {
      "text/plain": [
       "'None'"
      ]
     },
     "execution_count": 21,
     "metadata": {},
     "output_type": "execute_result"
    }
   ],
   "source": [
    "import math\n",
    "\n",
    "def funcao():\n",
    "    try:\n",
    "        num = int(input(\"Enter a number: \"))\n",
    "        assert num % 2 == 0\n",
    "    except:\n",
    "        print(\"não par\")\n",
    "        x= 'None'\n",
    "    else:\n",
    "        x = math.exp(num)\n",
    "    finally:\n",
    "        print('finalizou')\n",
    "        return x\n",
    "        \n",
    "x=funcao()\n",
    "x"
   ]
  },
  {
   "cell_type": "markdown",
   "metadata": {},
   "source": [
    "2. Suponha que você está trabalhando em uma empresa de saúde e seu chefe pediu para você criar uma função que receba de entrada a altura e peso de uma pessoa e retorne o IMC dela. <br>\n",
    "Essas entradas serão imputadas pelos usuários de uma página web, devido à isso, trate os possíveis erros de entrada na sua função e retorne para o usuário se ele está saudável, com sobrepeso ou abaixo do peso de acordo com as seguintes regras: <br>\n",
    "18.5 <= imc <= 24.9 - saudável <br>\n",
    "imc >= 25 -  sobrepeso <br>\n",
    "imc < 18.5 - abaixo do peso"
   ]
  },
  {
   "cell_type": "code",
   "execution_count": 6,
   "metadata": {},
   "outputs": [
    {
     "name": "stdout",
     "output_type": "stream",
     "text": [
      "Guess Row: 2\n"
     ]
    }
   ],
   "source": [
    "guess_row = (input(\"Guess Row: \"))"
   ]
  },
  {
   "cell_type": "code",
   "execution_count": 71,
   "metadata": {},
   "outputs": [],
   "source": [
    "def calcular_imc(altura, peso):\n",
    "    \"\"\" Calcular o índice de massa corporal (imc) \"\"\"\n",
    "    return peso / altura**2\n",
    "\n",
    "\n",
    "def classificar_imc(imc):\n",
    "    \"\"\" Classificar o imc \"\"\"\n",
    "    if 18.5 <= imc <= 24.9:\n",
    "        return 'Saudavel'\n",
    "\n",
    "    if imc >= 25:\n",
    "        return 'Acima do peso'\n",
    "\n",
    "    return 'Abaixo do peso'\n",
    "\n",
    "def main():\n",
    "    try:\n",
    "        altura = float(input('Sua altura em metros:'))\n",
    "        peso = float(input('Seu peso em quilogramas:'))\n",
    "        \n",
    "        if altura == 0:\n",
    "            raise ZeroDivisionError('A altura não pode ser zero')\n",
    "\n",
    "    except ValueError as error:\n",
    "        print('Erro! Coloque um valor numérico.')\n",
    "    else:\n",
    "        imc = round(calcular_imc(altura, peso), 1)\n",
    "        evaluation = classificar_imc(imc)\n",
    "\n",
    "        print(f'Seu índice de massa corporal é  {imc}')\n",
    "        print(f'Com esse índice você é considerado {evaluation}!')\n",
    "        "
   ]
  },
  {
   "cell_type": "code",
   "execution_count": 73,
   "metadata": {
    "scrolled": true
   },
   "outputs": [
    {
     "name": "stdout",
     "output_type": "stream",
     "text": [
      "Sua altura em metros:10\n",
      "Seu peso em quilogramas:a\n",
      "Erro! Coloque um valor numérico.\n"
     ]
    }
   ],
   "source": [
    "main()"
   ]
  },
  {
   "cell_type": "markdown",
   "metadata": {},
   "source": [
    "3.  Suponha que uma área de negócios deva enviar para o seu código uma lista com a seguinte ordem de dados: Nome (str), idade (int), e-mail (str) e data de nascimento (YYYY-MM-DD). <br>\n",
    "Crie um código que trate possíveis erros de formatação dessa lista. <br>\n",
    "Obs 1: Não se esqueça de garantir que a lista tenha 4 elementos. <br>\n",
    "Obs 2 (desafio): Garanta que o e-mail tenha o símbolo **@**"
   ]
  },
  {
   "cell_type": "code",
   "execution_count": 29,
   "metadata": {},
   "outputs": [],
   "source": [
    "assert type(lista[0]) == str"
   ]
  },
  {
   "cell_type": "code",
   "execution_count": null,
   "metadata": {},
   "outputs": [],
   "source": [
    "import re\n",
    "import datetime\n",
    "\n",
    "lista = ['33', 33, 'paty', '2004-12-12']\n",
    "\n",
    "try:\n",
    "    nome, idade, e_mail, data_nascimento = lista\n",
    "    if len(lista)!=4:\n",
    "        raise Exception(\"len errda\")\n",
    "    else:\n",
    "        if (not isinstance(idade, int)) or (idade<0):\n",
    "            raise ValueError('idade')\n",
    "        \n",
    "            \n",
    "except Exception as e:\n",
    "    print(\"erro exception\" + repr(e))\n",
    "except ValueError as e:\n",
    "    print(\"value erros\" + repr(e))\n",
    "else:\n",
    "    "
   ]
  },
  {
   "cell_type": "code",
   "execution_count": 10,
   "metadata": {},
   "outputs": [
    {
     "name": "stdout",
     "output_type": "stream",
     "text": [
      "y\n"
     ]
    }
   ],
   "source": [
    "email = 'paty@'\n",
    "if len(re.findall('\\@', email)):\n",
    "    print('y')"
   ]
  },
  {
   "cell_type": "code",
   "execution_count": 24,
   "metadata": {},
   "outputs": [
    {
     "data": {
      "text/plain": [
       "54"
      ]
     },
     "execution_count": 24,
     "metadata": {},
     "output_type": "execute_result"
    }
   ],
   "source": [
    "dt = '2004-12-12 10:54'\n",
    "datetime.datetime.strptime(dt, '%Y-%m-%d %H:%M').minute"
   ]
  },
  {
   "cell_type": "code",
   "execution_count": null,
   "metadata": {},
   "outputs": [],
   "source": [
    "dt = '2004-12-12'\n",
    "import datetime\n",
    "try:\n",
    "    datetime.datetime.strptime(dt, '%Y-%m-%d')\n",
    "except:\n",
    "    pass"
   ]
  },
  {
   "cell_type": "code",
   "execution_count": 15,
   "metadata": {},
   "outputs": [
    {
     "name": "stdout",
     "output_type": "stream",
     "text": [
      "Caught this error: Exception('E-mail tem que ter @',)\n"
     ]
    }
   ],
   "source": [
    "# Básico\n",
    "import re\n",
    "lista = ['33', 33, 'paty', '2004-12-12']\n",
    "\n",
    "try:\n",
    "    nome = lista[0]\n",
    "    idade = lista[1]\n",
    "    e_mail = lista[2]\n",
    "    data_nascimento = lista[3]\n",
    "    \n",
    "    if len(lista) != 4:\n",
    "        raise Exception(\"Entrada deve conter 4 elementos\")\n",
    "    else:\n",
    "        if type(lista[0]) != str:\n",
    "            raise Exception(\"Nome tem que ser uma string\")\n",
    "        if type(lista[1]) != int:\n",
    "            raise Exception(\"Idade tem que ser um inteiro\")\n",
    "        if type(e_mail) != str:\n",
    "            raise Exception(\"E-mail tem que ser string\")\n",
    "        else:\n",
    "            if len(re.findall(r\"\\@\",e_mail)) == 0:\n",
    "                raise Exception(\"E-mail tem que ter @\")\n",
    "        if type(lista[3]) != str:\n",
    "            raise Exception(\"tem que ser string data\")\n",
    "\n",
    "except Exception as error:\n",
    "    print('Caught this error: ' + repr(error))\n",
    "\n",
    "    \n",
    "        \n"
   ]
  },
  {
   "cell_type": "code",
   "execution_count": 111,
   "metadata": {},
   "outputs": [
    {
     "data": {
      "text/plain": [
       "'3hh3'"
      ]
     },
     "execution_count": 111,
     "metadata": {},
     "output_type": "execute_result"
    }
   ],
   "source": [
    "lista = ['3hh3', 33, 'paty@', '1']\n",
    "nome, idade, email, dt = lista\n",
    "nome"
   ]
  },
  {
   "cell_type": "code",
   "execution_count": 109,
   "metadata": {},
   "outputs": [
    {
     "data": {
      "text/plain": [
       "33"
      ]
     },
     "execution_count": 109,
     "metadata": {},
     "output_type": "execute_result"
    }
   ],
   "source": [
    "idade"
   ]
  },
  {
   "cell_type": "code",
   "execution_count": 8,
   "metadata": {},
   "outputs": [],
   "source": [
    "import re\n",
    "import datetime\n",
    "lista = ['33', 33, 'paty@', '1']\n",
    "lista = ['33', 33, 'paty@', '2021-10-21']\n",
    "\n",
    "try:\n",
    "    nome, idade, e_mail, data_nascimento = lista\n",
    "    \n",
    "    if len(lista) != 4:\n",
    "        raise Exception(\"Entrada deve conter 4 elementos\")\n",
    "    else:\n",
    "        assert type(nome) == str, \"Nome tem que ser uma string\"\n",
    "\n",
    "        if (not isinstance(idade,int)) or (idade<0):\n",
    "            raise ValueError(\"Idade tem que ser um inteiro\")\n",
    "\n",
    "        if not isinstance(e_mail, str):\n",
    "            raise ValueError(\"E-mail tem que ser string\")\n",
    "        else:\n",
    "            if len(re.findall(r\"\\@\",e_mail)) == 0:\n",
    "                raise Exception(\"E-mail tem que ter @\")\n",
    "\n",
    "        if not isinstance(data_nascimento, str):\n",
    "            raise ValueError(\"Data de nascimento tem que ser string\")\n",
    "        \n",
    "        try:\n",
    "            datetime.datetime.strptime(data_nascimento, '%Y-%m-%d')\n",
    "        except ValueError:\n",
    "            raise ValueError(\"Incorrect data format, should be YYYY-MM-DD\")\n",
    "\n",
    "except ValueError as error:\n",
    "    print('Caught this ValueError: ' + repr(error))\n",
    "except Exception as error:\n",
    "    print('Caught this Exception: ' + repr(error))\n",
    "\n",
    "    \n",
    "#     assert type(lista[0]) == str and type(lista[3]) == str, \"Nome tem que ser uma string\"\n"
   ]
  },
  {
   "cell_type": "code",
   "execution_count": 58,
   "metadata": {},
   "outputs": [
    {
     "data": {
      "text/plain": [
       "datetime.datetime(2021, 10, 5, 0, 0)"
      ]
     },
     "execution_count": 58,
     "metadata": {},
     "output_type": "execute_result"
    }
   ],
   "source": [
    "#mostrar o parse do string parse time\n",
    "datetime.datetime.strptime('2021-10-05', '%Y-%m-%d') #.year, .month, .day, .hour, .minute"
   ]
  },
  {
   "cell_type": "code",
   "execution_count": 61,
   "metadata": {},
   "outputs": [
    {
     "ename": "ValueError",
     "evalue": "time data '2021-10-05' does not match format '%d-%m-%Y'",
     "output_type": "error",
     "traceback": [
      "\u001b[0;31m---------------------------------------------------------------------------\u001b[0m",
      "\u001b[0;31mValueError\u001b[0m                                Traceback (most recent call last)",
      "\u001b[0;32m<ipython-input-61-6bf9b6ce931f>\u001b[0m in \u001b[0;36m<module>\u001b[0;34m\u001b[0m\n\u001b[1;32m      1\u001b[0m \u001b[0;31m# mostrar erro se trocar a ordem\u001b[0m\u001b[0;34m\u001b[0m\u001b[0;34m\u001b[0m\u001b[0;34m\u001b[0m\u001b[0m\n\u001b[0;32m----> 2\u001b[0;31m \u001b[0mdatetime\u001b[0m\u001b[0;34m.\u001b[0m\u001b[0mdatetime\u001b[0m\u001b[0;34m.\u001b[0m\u001b[0mstrptime\u001b[0m\u001b[0;34m(\u001b[0m\u001b[0;34m'2021-10-05'\u001b[0m\u001b[0;34m,\u001b[0m \u001b[0;34m'%d-%m-%Y'\u001b[0m\u001b[0;34m)\u001b[0m\u001b[0;34m\u001b[0m\u001b[0;34m\u001b[0m\u001b[0m\n\u001b[0m",
      "\u001b[0;32m/usr/lib/python3.6/_strptime.py\u001b[0m in \u001b[0;36m_strptime_datetime\u001b[0;34m(cls, data_string, format)\u001b[0m\n\u001b[1;32m    563\u001b[0m     \"\"\"Return a class cls instance based on the input string and the\n\u001b[1;32m    564\u001b[0m     format string.\"\"\"\n\u001b[0;32m--> 565\u001b[0;31m     \u001b[0mtt\u001b[0m\u001b[0;34m,\u001b[0m \u001b[0mfraction\u001b[0m \u001b[0;34m=\u001b[0m \u001b[0m_strptime\u001b[0m\u001b[0;34m(\u001b[0m\u001b[0mdata_string\u001b[0m\u001b[0;34m,\u001b[0m \u001b[0mformat\u001b[0m\u001b[0;34m)\u001b[0m\u001b[0;34m\u001b[0m\u001b[0;34m\u001b[0m\u001b[0m\n\u001b[0m\u001b[1;32m    566\u001b[0m     \u001b[0mtzname\u001b[0m\u001b[0;34m,\u001b[0m \u001b[0mgmtoff\u001b[0m \u001b[0;34m=\u001b[0m \u001b[0mtt\u001b[0m\u001b[0;34m[\u001b[0m\u001b[0;34m-\u001b[0m\u001b[0;36m2\u001b[0m\u001b[0;34m:\u001b[0m\u001b[0;34m]\u001b[0m\u001b[0;34m\u001b[0m\u001b[0;34m\u001b[0m\u001b[0m\n\u001b[1;32m    567\u001b[0m     \u001b[0margs\u001b[0m \u001b[0;34m=\u001b[0m \u001b[0mtt\u001b[0m\u001b[0;34m[\u001b[0m\u001b[0;34m:\u001b[0m\u001b[0;36m6\u001b[0m\u001b[0;34m]\u001b[0m \u001b[0;34m+\u001b[0m \u001b[0;34m(\u001b[0m\u001b[0mfraction\u001b[0m\u001b[0;34m,\u001b[0m\u001b[0;34m)\u001b[0m\u001b[0;34m\u001b[0m\u001b[0;34m\u001b[0m\u001b[0m\n",
      "\u001b[0;32m/usr/lib/python3.6/_strptime.py\u001b[0m in \u001b[0;36m_strptime\u001b[0;34m(data_string, format)\u001b[0m\n\u001b[1;32m    360\u001b[0m     \u001b[0;32mif\u001b[0m \u001b[0;32mnot\u001b[0m \u001b[0mfound\u001b[0m\u001b[0;34m:\u001b[0m\u001b[0;34m\u001b[0m\u001b[0;34m\u001b[0m\u001b[0m\n\u001b[1;32m    361\u001b[0m         raise ValueError(\"time data %r does not match format %r\" %\n\u001b[0;32m--> 362\u001b[0;31m                          (data_string, format))\n\u001b[0m\u001b[1;32m    363\u001b[0m     \u001b[0;32mif\u001b[0m \u001b[0mlen\u001b[0m\u001b[0;34m(\u001b[0m\u001b[0mdata_string\u001b[0m\u001b[0;34m)\u001b[0m \u001b[0;34m!=\u001b[0m \u001b[0mfound\u001b[0m\u001b[0;34m.\u001b[0m\u001b[0mend\u001b[0m\u001b[0;34m(\u001b[0m\u001b[0;34m)\u001b[0m\u001b[0;34m:\u001b[0m\u001b[0;34m\u001b[0m\u001b[0;34m\u001b[0m\u001b[0m\n\u001b[1;32m    364\u001b[0m         raise ValueError(\"unconverted data remains: %s\" %\n",
      "\u001b[0;31mValueError\u001b[0m: time data '2021-10-05' does not match format '%d-%m-%Y'"
     ]
    }
   ],
   "source": [
    "# mostrar erro se trocar a ordem\n",
    "datetime.datetime.strptime('2021-10-05', '%d-%m-%Y')"
   ]
  },
  {
   "cell_type": "markdown",
   "metadata": {},
   "source": [
    "4. Considere que você possua em um dicionário o nome de um cliente com seu respectivo e-mail. Crie um código com try/except que peça peça o nome do cliente e retorne o e-mail dele caso esse cliente esteja em sua base de dados. Caso o nome não exista na base continue pedindo um nome válido e crie uma saída do loop caso a pessoa digitando desista de usar seu programa.\n",
    "<br>\n",
    "Exemplo de dados dos seus clientes:\n",
    "<br>\n",
    "clients = {\n",
    "    'brian': 'brian@letscode.com',\n",
    "    'billy': 'billy@letscode.com',\n",
    "    'bruna': 'bruna@letscode.com'\n",
    "}"
   ]
  },
  {
   "cell_type": "code",
   "execution_count": 97,
   "metadata": {},
   "outputs": [
    {
     "name": "stdout",
     "output_type": "stream",
     "text": [
      "Escreva \"exit\" para sair.\n"
     ]
    },
    {
     "ename": "KeyboardInterrupt",
     "evalue": "Interrupted by user",
     "output_type": "error",
     "traceback": [
      "\u001b[0;31m---------------------------------------------------------------------------\u001b[0m",
      "\u001b[0;31mKeyboardInterrupt\u001b[0m                         Traceback (most recent call last)",
      "\u001b[0;32m<ipython-input-97-67f7c4390485>\u001b[0m in \u001b[0;36m<module>\u001b[0;34m\u001b[0m\n\u001b[1;32m      8\u001b[0m \u001b[0;32mwhile\u001b[0m \u001b[0mkey\u001b[0m \u001b[0;34m!=\u001b[0m \u001b[0;34m'exit'\u001b[0m\u001b[0;34m:\u001b[0m\u001b[0;34m\u001b[0m\u001b[0;34m\u001b[0m\u001b[0m\n\u001b[1;32m      9\u001b[0m     \u001b[0;32mtry\u001b[0m\u001b[0;34m:\u001b[0m\u001b[0;34m\u001b[0m\u001b[0;34m\u001b[0m\u001b[0m\n\u001b[0;32m---> 10\u001b[0;31m         \u001b[0mkey\u001b[0m \u001b[0;34m=\u001b[0m \u001b[0minput\u001b[0m\u001b[0;34m(\u001b[0m\u001b[0;34m'Entre um nome para retornar o e-mail:'\u001b[0m\u001b[0;34m)\u001b[0m\u001b[0;34m\u001b[0m\u001b[0;34m\u001b[0m\u001b[0m\n\u001b[0m\u001b[1;32m     11\u001b[0m \u001b[0;34m\u001b[0m\u001b[0m\n\u001b[1;32m     12\u001b[0m         \u001b[0;32mif\u001b[0m \u001b[0mkey\u001b[0m \u001b[0;34m==\u001b[0m \u001b[0;34m'exit'\u001b[0m\u001b[0;34m:\u001b[0m\u001b[0;34m\u001b[0m\u001b[0;34m\u001b[0m\u001b[0m\n",
      "\u001b[0;32m~/.local/lib/python3.6/site-packages/ipykernel/kernelbase.py\u001b[0m in \u001b[0;36mraw_input\u001b[0;34m(self, prompt)\u001b[0m\n\u001b[1;32m    858\u001b[0m             \u001b[0mself\u001b[0m\u001b[0;34m.\u001b[0m\u001b[0m_parent_ident\u001b[0m\u001b[0;34m,\u001b[0m\u001b[0;34m\u001b[0m\u001b[0;34m\u001b[0m\u001b[0m\n\u001b[1;32m    859\u001b[0m             \u001b[0mself\u001b[0m\u001b[0;34m.\u001b[0m\u001b[0m_parent_header\u001b[0m\u001b[0;34m,\u001b[0m\u001b[0;34m\u001b[0m\u001b[0;34m\u001b[0m\u001b[0m\n\u001b[0;32m--> 860\u001b[0;31m             \u001b[0mpassword\u001b[0m\u001b[0;34m=\u001b[0m\u001b[0;32mFalse\u001b[0m\u001b[0;34m,\u001b[0m\u001b[0;34m\u001b[0m\u001b[0;34m\u001b[0m\u001b[0m\n\u001b[0m\u001b[1;32m    861\u001b[0m         )\n\u001b[1;32m    862\u001b[0m \u001b[0;34m\u001b[0m\u001b[0m\n",
      "\u001b[0;32m~/.local/lib/python3.6/site-packages/ipykernel/kernelbase.py\u001b[0m in \u001b[0;36m_input_request\u001b[0;34m(self, prompt, ident, parent, password)\u001b[0m\n\u001b[1;32m    899\u001b[0m             \u001b[0;32mexcept\u001b[0m \u001b[0mKeyboardInterrupt\u001b[0m\u001b[0;34m:\u001b[0m\u001b[0;34m\u001b[0m\u001b[0;34m\u001b[0m\u001b[0m\n\u001b[1;32m    900\u001b[0m                 \u001b[0;31m# re-raise KeyboardInterrupt, to truncate traceback\u001b[0m\u001b[0;34m\u001b[0m\u001b[0;34m\u001b[0m\u001b[0;34m\u001b[0m\u001b[0m\n\u001b[0;32m--> 901\u001b[0;31m                 \u001b[0;32mraise\u001b[0m \u001b[0mKeyboardInterrupt\u001b[0m\u001b[0;34m(\u001b[0m\u001b[0;34m\"Interrupted by user\"\u001b[0m\u001b[0;34m)\u001b[0m \u001b[0;32mfrom\u001b[0m \u001b[0;32mNone\u001b[0m\u001b[0;34m\u001b[0m\u001b[0;34m\u001b[0m\u001b[0m\n\u001b[0m\u001b[1;32m    902\u001b[0m             \u001b[0;32mexcept\u001b[0m \u001b[0mException\u001b[0m \u001b[0;32mas\u001b[0m \u001b[0me\u001b[0m\u001b[0;34m:\u001b[0m\u001b[0;34m\u001b[0m\u001b[0;34m\u001b[0m\u001b[0m\n\u001b[1;32m    903\u001b[0m                 \u001b[0mself\u001b[0m\u001b[0;34m.\u001b[0m\u001b[0mlog\u001b[0m\u001b[0;34m.\u001b[0m\u001b[0mwarning\u001b[0m\u001b[0;34m(\u001b[0m\u001b[0;34m\"Invalid Message:\"\u001b[0m\u001b[0;34m,\u001b[0m \u001b[0mexc_info\u001b[0m\u001b[0;34m=\u001b[0m\u001b[0;32mTrue\u001b[0m\u001b[0;34m)\u001b[0m\u001b[0;34m\u001b[0m\u001b[0;34m\u001b[0m\u001b[0m\n",
      "\u001b[0;31mKeyboardInterrupt\u001b[0m: Interrupted by user"
     ]
    }
   ],
   "source": [
    "clients = {\n",
    "    'brian': 'brian@letscode.com',\n",
    "    'billy': 'billy@letscode.com',\n",
    "    'bruna': 'bruna@letscode.com'\n",
    "}\n",
    "\n",
    "key = ''\n",
    "while key != 'exit':\n",
    "    try:\n",
    "        key = input('Entre um nome para retornar o e-mail:')\n",
    "        if key == 'exit':\n",
    "            break\n",
    "        client = clients[key.lower()]\n",
    "        \n",
    "    except KeyError:\n",
    "        print(f'Erro! {key} não existe.')\n",
    "        \n",
    "    else:\n",
    "        print(client)\n",
    "        \n",
    "    finally:\n",
    "        print('Escreva \"exit\" para sair.')"
   ]
  },
  {
   "cell_type": "code",
   "execution_count": 6,
   "metadata": {},
   "outputs": [
    {
     "data": {
      "text/plain": [
       "2"
      ]
     },
     "execution_count": 6,
     "metadata": {},
     "output_type": "execute_result"
    }
   ],
   "source": [
    "a = [1, 1, 2, 3,3]\n",
    "a.count(1)"
   ]
  },
  {
   "cell_type": "code",
   "execution_count": 7,
   "metadata": {},
   "outputs": [
    {
     "ename": "AttributeError",
     "evalue": "'list' object has no attribute 'unique'",
     "output_type": "error",
     "traceback": [
      "\u001b[0;31m---------------------------------------------------------------------------\u001b[0m",
      "\u001b[0;31mAttributeError\u001b[0m                            Traceback (most recent call last)",
      "\u001b[0;32m<ipython-input-7-253e50a38e51>\u001b[0m in \u001b[0;36m<module>\u001b[0;34m\u001b[0m\n\u001b[0;32m----> 1\u001b[0;31m \u001b[0ma\u001b[0m\u001b[0;34m.\u001b[0m\u001b[0munique\u001b[0m\u001b[0;34m(\u001b[0m\u001b[0;34m)\u001b[0m\u001b[0;34m\u001b[0m\u001b[0;34m\u001b[0m\u001b[0m\n\u001b[0m",
      "\u001b[0;31mAttributeError\u001b[0m: 'list' object has no attribute 'unique'"
     ]
    }
   ],
   "source": [
    "\n",
    "a.unique()"
   ]
  },
  {
   "cell_type": "code",
   "execution_count": null,
   "metadata": {},
   "outputs": [],
   "source": []
  }
 ],
 "metadata": {
  "kernelspec": {
   "display_name": "Python 3",
   "language": "python",
   "name": "python3"
  },
  "language_info": {
   "codemirror_mode": {
    "name": "ipython",
    "version": 3
   },
   "file_extension": ".py",
   "mimetype": "text/x-python",
   "name": "python",
   "nbconvert_exporter": "python",
   "pygments_lexer": "ipython3",
   "version": "3.6.9"
  }
 },
 "nbformat": 4,
 "nbformat_minor": 2
}
