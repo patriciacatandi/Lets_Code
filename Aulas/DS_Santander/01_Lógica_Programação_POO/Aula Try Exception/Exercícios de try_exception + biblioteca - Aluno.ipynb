{
 "cells": [
  {
   "cell_type": "markdown",
   "metadata": {},
   "source": [
    "1. Escreva um código que receba um inteiro e retorne a exponencial desse número caso ele  seja par e caso seja um ímpar retorne um print informando que esse número não é par utilizando um try/except <br>\n",
    "Dica: utilize assert num % 2 == 0"
   ]
  },
  {
   "cell_type": "code",
   "execution_count": null,
   "metadata": {},
   "outputs": [],
   "source": [
    "import math\n",
    "try:\n",
    "    num = int(input(\"Enter a number: \"))\n",
    "    assert num % 2 == 0\n",
    "except:\n",
    "    print(\"Not an even number!\")\n",
    "else:\n",
    "    print(math.exp(num))"
   ]
  },
  {
   "cell_type": "markdown",
   "metadata": {},
   "source": [
    "2. Suponha que você está trabalhando em uma empresa de saúde e seu chefe pediu para você criar uma função que receba de entrada a altura e peso de uma pessoa e retorne o IMC dela. <br>\n",
    "Essas entradas serão imputadas pelos usuários de uma página web, devido à isso, trate os possíveis erros de entrada na sua função e retorne para o usuário se ele está saudável, com sobrepeso ou abaixo do peso de acordo com as seguintes regras: <br>\n",
    "18.5 <= imc <= 24.9 - saudável <br>\n",
    "imc >= 25 -  sobrepeso <br>\n",
    "imc < 18.5 - abaixo do peso"
   ]
  },
  {
   "cell_type": "code",
   "execution_count": 71,
   "metadata": {},
   "outputs": [],
   "source": [
    "def calcular_imc(altura, peso):\n",
    "    \"\"\" Calcular o índice de massa corporal (imc) \"\"\"\n",
    "    return peso / altura**2\n",
    "\n",
    "\n",
    "def classificar_imc(imc):\n",
    "    \"\"\" Classificar o imc \"\"\"\n",
    "    if 18.5 <= imc <= 24.9:\n",
    "        return 'Saudavel'\n",
    "\n",
    "    if imc >= 25:\n",
    "        return 'Acima do peso'\n",
    "\n",
    "    return 'Abaixo do peso'\n",
    "\n",
    "def main():\n",
    "    try:\n",
    "        altura = float(input('Sua altura em metros:'))\n",
    "        peso = float(input('Seu peso em quilogramas:'))\n",
    "\n",
    "    except:\n",
    "        \n",
    "    else:\n",
    "        \n",
    "main()"
   ]
  },
  {
   "cell_type": "markdown",
   "metadata": {},
   "source": [
    "3.  Suponha que uma área de negócios deva enviar para o seu código uma lista com a seguinte ordem de dados: Nome (str), idade (int), e-mail (str) e data de nascimento (YYYY-MM-DD). <br>\n",
    "Crie um código que trate possíveis erros de formatação dessa lista. <br>\n",
    "Obs 1: Não se esqueça de garantir que a lista tenha 4 elementos. <br>\n",
    "Obs 2 (desafio): Garanta que o e-mail tenha o símbolo **@**"
   ]
  },
  {
   "cell_type": "code",
   "execution_count": null,
   "metadata": {},
   "outputs": [],
   "source": []
  },
  {
   "cell_type": "markdown",
   "metadata": {},
   "source": [
    "4. Considere que você possua em um dicionário o nome de um cliente com seu respectivo e-mail. Crie um código com try/except que peça o nome do cliente e retorne o e-mail dele caso esse cliente esteja em sua base de dados. Caso o nome não exista na base continue pedindo um nome válido e crie uma saída do loop caso a pessoa digitando desista de usar seu programa.\n",
    "\n",
    "\n",
    "<br>\n",
    "Exemplo de dados dos seus clientes:\n",
    "<br>\n",
    "clients = {\n",
    "    'brian': 'brian@letscode.com',\n",
    "    'billy': 'billy@letscode.com',\n",
    "    'bruna': 'bruna@letscode.com'\n",
    "}"
   ]
  },
  {
   "cell_type": "code",
   "execution_count": null,
   "metadata": {},
   "outputs": [],
   "source": []
  }
 ],
 "metadata": {
  "kernelspec": {
   "display_name": "Python 3",
   "language": "python",
   "name": "python3"
  },
  "language_info": {
   "codemirror_mode": {
    "name": "ipython",
    "version": 3
   },
   "file_extension": ".py",
   "mimetype": "text/x-python",
   "name": "python",
   "nbconvert_exporter": "python",
   "pygments_lexer": "ipython3",
   "version": "3.6.9"
  }
 },
 "nbformat": 4,
 "nbformat_minor": 2
}
