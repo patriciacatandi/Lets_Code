{
 "cells": [
  {
   "cell_type": "markdown",
   "metadata": {
    "id": "jQKvjTK5s1Os"
   },
   "source": [
    "# Aula 13 - Árvores\n",
    "<br>\n",
    "<div>\n",
    "<img src=\"https://super.abril.com.br/wp-content/uploads/2019/10/arvore_alta.jpg\" width=\"500\"/>\n",
    "</div>"
   ]
  },
  {
   "cell_type": "markdown",
   "metadata": {
    "id": "SaAO0Mc0s1Oz"
   },
   "source": [
    "## 📍 Tópicos de Hoje 📍\n",
    "<br>\n",
    "\n",
    "👣 [O que são árvores?](#um)\n",
    "\n",
    "👶 [Estrutura de uma árvore](#dois)\n",
    "\n",
    "🚶‍♂️ [Tipos de árvore](#tres)\n",
    "\n",
    "🏃 [Árvores na Ciência de Dados](#quatro)\n",
    "    \n",
    "🏆 [Exercícios](#cinco)\n",
    "\n",
    "🚀 [O Futuro...](#seis)"
   ]
  },
  {
   "cell_type": "markdown",
   "metadata": {
    "id": "zIgx0dBbs1O9"
   },
   "source": [
    "## 🌳🌲 O que são árvores? 🌳🌲 <a class=\"anchor\" id=\"um\"></a>\n",
    "\n",
    "Todos nós vimos árvores desde a nossa infância. Possui raízes, caules, ramos e folhas. Foi observado há muito tempo que cada folha de uma árvore pode ser rastreada para enraizar por meio de um caminho único. Portanto, a estrutura em árvore foi usada para explicar as relações hierárquicas, por exemplo, árvore genealógica, classificação do reino animal, etc.\n",
    "\n",
    "Essa estrutura hierárquica de árvores é usada em Ciência da Computação como um tipo de dado abstrato para várias aplicações, como armazenamento de dados, busca e algoritmos de classificação. Vamos explorar esse tipo de dados em detalhes.\n",
    "\n",
    "<img src=\"https://miro.medium.com/max/700/1*9xW9uddLqt7gujPYBpRp8g.png\" width=\"600\"/>"
   ]
  },
  {
   "cell_type": "markdown",
   "metadata": {
    "id": "tgpLO0Dds1Oz"
   },
   "source": [
    "##  🧱⛩️ Estrutura de uma Árvore 🧱⛩️  <a class=\"anchor\" id=\"dois\">\n",
    "\n",
    "Uma árvore é uma estrutura de dados hierárquica definida como uma coleção de nós. Os nós representam o valor e os nós são conectados por arestas. Uma árvore possui as seguintes propriedades:\n",
    "\n",
    "- A árvore possui um nó denominado raiz. A árvore se origina disso e, portanto, este nó não tem nenhum pai.\n",
    "- Cada nó possui apenas um pai, mas pode ter vários filhos.\n",
    "- Cada nó está conectado a seus filhos por meio de uma aresta.\n",
    "    \n",
    "O diagrama a seguir explica várias terminologias usadas em uma estrutura de árvore.\n",
    "    \n",
    "<img src=\"https://d1m75rqqgidzqn.cloudfront.net/wp-data/2020/10/06115257/image-9.png\" width=\"600\"/>\n",
    "    \n",
    "    \n",
    "|**Terminologia**|**Descrição**|**Exemplo no diagrama**|\n",
    "|---|---|---|\n",
    "|Caminho|O caminho é um número de arestas sucessivas do nó de origem ao nó de destino.|A - B - E - J é o caminho do nó A ao E|\n",
    "|Altura do Nó|A altura de um nó representa o número de arestas no caminho mais longo entre esse nó e uma folha.|A, B, C, D e E podem ter altura. A altura de A é não. de arestas entre A e H, pois esse é o caminho mais longo, que é 3. Altura de C é 1|\n",
    "|Nível do nó|O nível de um nó representa a geração de um nó. Se o nó raiz está no nível 0, então seu próximo nó filho está no nível 1, seu neto está no nível 2 e assim por diante|O nível de H, I e J é 3. O nível de D, E, F e G é 2|\n",
    "|Grau do nó|O grau de um nó representa o número de filhos de um nó.|O grau de D é 2 e de E é 1|"
   ]
  },
  {
   "cell_type": "markdown",
   "metadata": {
    "id": "BBAZrBgxs1O1"
   },
   "source": [
    "## 🎄🌳🌴 Tipos de árvores 🎄🌳🌴 <a class=\"anchor\" id=\"tres\"></a>\n",
    "\n",
    "Os tipos de árvores dependem do número de filhos que um nó possui. Existem dois tipos principais de árvore:\n",
    "\n",
    "- Árvore geral: uma árvore na qual não há restrição quanto ao número de filhos que um nó possui, é chamada de árvore geral. Os exemplos são a árvore genealógica, a estrutura de pastas.\n",
    "\n",
    "- Árvore binária: em uma árvore binária, cada nó pode ter no máximo 2 filhos, esquerdo e direito. No diagrama abaixo, B & D são filhos esquerdos e C, E e F são filhos direitos.\n",
    "\n",
    "<img src=\"https://lh4.googleusercontent.com/7u18mbvAs05UZ7RqYYcNPtsYR-9lBHgCMW06tQqVGLYYdjifnKrr8c3hphzxksUWaAeY5Z4ZgqLkq-SPaGYN3zRoXNB9kHwSypRT2KQw81p1qLjBfn8slcLOnhWQoSHcR_0_hf3g2w1ZYLG3tw\" width=\"500\"/>\n",
    "\n",
    "As árvores binárias são divididas em muitos tipos com base em sua aplicação.\n",
    "\n",
    "- Árvore Binária Completa: Se cada nó em uma árvore tiver 0 ou 2 filhos, a árvore será chamada de árvore completa. A árvore no diagrama acima não é uma árvore binária completa, pois o nó C tem apenas o filho certo.\n",
    "\n",
    "- Árvore Binária Perfeita: é uma árvore binária na qual todos os nós internos têm dois filhos e todas as folhas têm a mesma profundidade ou mesmo nível.\n",
    "\n",
    "<img src=\"https://lh4.googleusercontent.com/w49ViAgek1lQdF2vVHchvnx_T-vlP1wK7NFgusj1sc62OqfLT7HMwE_9l1S-1iNCLo2rVBIIxFkMGiy5XyVkIzMGJvYBa-Pd72MGLe8W9nguxZdGUFWPNKhUn6C7Zild7R7jxsNWKf3IxNRw-w\" width=\"500\"/>\n",
    "\n",
    "- Árvore balanceada: Se a altura das subárvores esquerda e direita em qualquer nó difere no máximo em 1, então a árvore é chamada de árvore balanceada.\n",
    "\n",
    "<img src=\"https://lh5.googleusercontent.com/v5wlwijCnwD69UNs4DP8tJdcx-MnC_26pAfjhK1jkp1EDi-PYfNcWS7gQNVinAVx-DVi5wKJLHERaj_jMew18Fxa3WNdTMehCrdjj8NcVIs0qWogMRu-3Rp34lSC-BcqHOvfpv-5ufRQWf_6SA\" width=\"600\"/>\n",
    "\n",
    "- Árvore de pesquisa binária: É uma árvore binária com propriedade de pesquisa binária. A propriedade de pesquisa binária afirma que o valor ou chave do nó esquerdo é menor que seu pai e o valor ou chave do nó direito é maior que seu pai. E isso é verdade para todos os nós.\n",
    "\n",
    "<img src=\"https://lh6.googleusercontent.com/r_Ao5SN5cfrfykg3PlKs-_Mb6iOTMEuiPmtUmzwRE3Z1WTGHr6gN8CJ8I2SAKTVHwFi80djgUdqWRFW_LnfF0cUSCn0QhcRqEBWtvvcNm2g7ZmLvZYE3DM5vV676lTFOw-kY1kfXPPFLQGfF0w\" width=\"500\"/>"
   ]
  },
  {
   "cell_type": "markdown",
   "metadata": {},
   "source": [
    "## 🎄🌳🌴 Árvores na Ciência de Dados 🎄🌳🌴 <a class=\"anchor\" id=\"quatro\"></a>\n",
    "\n",
    "Uma estrutura de árvore é usada na modelagem preditiva. Geralmente é chamado de árvore de decisão. Na árvore de decisão, cada nó interno representa um teste ou condição em uma variável preditiva e a aresta fornece várias respostas possíveis para esse teste. O nó folha fornece o resultado de todos os testes em um caminho. Um exemplo de árvore de decisão para aceitar ou rejeitar a oferta de emprego é a seguinte:\n",
    "\n",
    "<img src=\"https://lh4.googleusercontent.com/7oygwm9rAKkxZLpsttVUa-6uiWvdfNJHJea6dGyvgcLsWjZjT5cXKZghwxBMLYzKGxsxMcHp9Zycfi7tDWTo0iO7ljf0upIZk8XC2HYAVEvaDXyxlhx1vbHCC-Ow7kD6n3445CXWDZ2q0OcfJg\" width=\"500\"/>\n",
    "\n",
    "A decisão de aceitar ou rejeitar um trabalho é baseada em dois parâmetros: salário e tempo de deslocamento. Os nós especificam as condições nas quais esses dois parâmetros são testados. A prioridade da condição depende de quão perto está de enraizar. O parâmetro mais afetante é testado primeiro, neste caso, o salário. Então essa é a primeira divisão na raiz. Então, a próxima condição relevante. Conseqüentemente, as árvores de decisão não apenas ajudam a encontrar as decisões, mas também o fazem da maneira mais rápida.\n",
    "\n",
    "Existem muitos algoritmos como CART (Classification And Regression Tree), Random forest, que auxiliam na construção de modelos."
   ]
  },
  {
   "cell_type": "markdown",
   "metadata": {
    "id": "ksWegZoKs1PA"
   },
   "source": [
    "## 🎯 Exercícios 🎯 <a class=\"anchor\" id=\"cinco\"></a>\n",
    "\n",
    "Para fazer os exercício use os seguintes objetos de nó para contruir as árvores:"
   ]
  },
  {
   "cell_type": "code",
   "execution_count": 3,
   "metadata": {},
   "outputs": [],
   "source": [
    "# Nó de Árvore\n",
    "class NoArvore:\n",
    "    def __init__(self, valor=0, nosFilhos=list()):\n",
    "        self.valor = valor\n",
    "        self.nosFilhos = nosFilhos\n",
    "\n",
    "# Nó de Árvore Binária\n",
    "class NoArvoreBinaria:\n",
    "    def __init__(self, valor=0, esquerda=None, direita=None):\n",
    "        self.valor = valor\n",
    "        self.esquerda = esquerda\n",
    "        self.direita = direita"
   ]
  },
  {
   "cell_type": "markdown",
   "metadata": {},
   "source": [
    "Para árvores binárias podemos também adotar a estrutura de lista, sendo cada endereço da lista o valor do nó, e os dois próximos valores os de seus filhos, da esquerda e da direita, respectivamente. Olhe este exemplo:\n",
    "\n",
    "<img src=\"https://assets.leetcode.com/uploads/2021/01/12/tree1.jpg\" width=\"300\"/>\n",
    "\n",
    "Esta árvore pode ser descrita como:\n",
    "\n",
    "```python\n",
    "arvore = [4,2,7,1,3]\n",
    "```\n",
    "\n",
    "Já este exemplo:\n",
    "\n",
    "<img src=\"https://assets.leetcode.com/uploads/2020/11/26/tmp-tree.jpg\" width=\"300\"/>\n",
    "\n",
    "Pode ser descrita como:\n",
    "\n",
    "```python\n",
    "arvore = [3,9,20,None,None,15,7]\n",
    "```"
   ]
  },
  {
   "cell_type": "markdown",
   "metadata": {},
   "source": [
    "**1)** Escreva um programa Python para verificar se uma determinada árvore binária é uma árvore binária completa ou não.\n",
    "\n",
    "Exemplo:<br>\n",
    "Input:\n",
    "<img src=\"https://assets.leetcode.com/uploads/2020/11/26/tmp-tree.jpg\" width=\"250\"/>\n",
    "Output:\n",
    "True"
   ]
  },
  {
   "cell_type": "code",
   "execution_count": 5,
   "metadata": {},
   "outputs": [
    {
     "name": "stdout",
     "output_type": "stream",
     "text": [
      "True\n"
     ]
    }
   ],
   "source": [
    "arvore = [4,2,7,1,3]\n",
    "\n",
    "def ehBinariaCompleta(arvore):\n",
    "    if arvore[0] == None:\n",
    "        return False\n",
    "    \n",
    "    arvore.pop(0)\n",
    "    \n",
    "    while len(arvore) > 1:\n",
    "        if (arvore[0]!= None and arvore[1]!= None) or (arvore[0]== None and arvore[1]== None):\n",
    "            arvore.pop(0)\n",
    "            arvore.pop(0)\n",
    "        else:\n",
    "            return False\n",
    "        \n",
    "    if len(arvore) > 0:\n",
    "        return False\n",
    "    else:\n",
    "        return True\n",
    "    \n",
    "print(ehBinariaCompleta(arvore.copy()))"
   ]
  },
  {
   "cell_type": "markdown",
   "metadata": {},
   "source": [
    "**2)** Máxima profundidade de uma árvore.<br>\n",
    "Dado o nó raíz, escreva um programa que retorna o tamanho do maior caminho até um folha. (Contando a quantidade de nós do raíz até a folha mais funda)\n",
    "\n",
    "Exemplo:<br>\n",
    "Input:\n",
    "<img src=\"https://assets.leetcode.com/uploads/2020/11/26/tmp-tree.jpg\" width=\"250\"/>\n",
    "Output:\n",
    "3"
   ]
  },
  {
   "cell_type": "code",
   "execution_count": 6,
   "metadata": {},
   "outputs": [
    {
     "name": "stdout",
     "output_type": "stream",
     "text": [
      "3\n"
     ]
    }
   ],
   "source": [
    "folha3 = NoArvore(7)\n",
    "folha2 = NoArvore(15)\n",
    "folha1 = NoArvore(9)\n",
    "galhoDir = NoArvore(20, [folha2, folha3])\n",
    "raizArvore = NoArvore(3, [folha1, galhoDir])\n",
    "\n",
    "def calculaProfundida(raiz, tamanhoCaminho=0):\n",
    "    tamanhoCaminho += 1\n",
    "    maiorCaminho = tamanhoCaminho\n",
    "    for no in raiz.nosFilhos:\n",
    "        tentativaMaiorCaminho = calculaProfundida(no, tamanhoCaminho)\n",
    "        if tentativaMaiorCaminho > maiorCaminho:\n",
    "            maiorCaminho = tentativaMaiorCaminho\n",
    "    return maiorCaminho\n",
    "    \n",
    "print(calculaProfundida(raizArvore))"
   ]
  },
  {
   "cell_type": "markdown",
   "metadata": {},
   "source": [
    "**3)** Soma de duas árvores binárias.<br>\n",
    "Dado duas árvores binárias retorne uma que é a soma das duas como no exemplo:\n",
    "\n",
    "<img src=\"https://assets.leetcode.com/uploads/2021/02/05/merge.jpg\" width=\"500\"/>"
   ]
  },
  {
   "cell_type": "code",
   "execution_count": 7,
   "metadata": {},
   "outputs": [
    {
     "name": "stdout",
     "output_type": "stream",
     "text": [
      "[3, 4, 5, 5, 4, None, 7]\n"
     ]
    }
   ],
   "source": [
    "raiz1 = [1,3,2,5]\n",
    "raiz2 = [2,1,3,None,4,None,7]\n",
    "\n",
    "def somaArvores(arvore1, arvore2):\n",
    "    arvoreResultado = [arvore1[0] + arvore2[0]]\n",
    "    \n",
    "    for i in range(1, min(len(arvore1), len(arvore2))):\n",
    "        if arvore1[i] == arvore2[i] == None:\n",
    "            arvoreResultado.append(None)\n",
    "            continue\n",
    "        arvoreResultado.append((arvore1[i] if arvore1[i] != None else 0) + (arvore2[i] if arvore2[i] != None else 0))\n",
    "        \n",
    "    if len(arvore1) > len(arvore2):\n",
    "        arvoreResultado.extend(arvore1[len(arvore2):])\n",
    "    else:\n",
    "        arvoreResultado.extend(arvore2[len(arvore1):])\n",
    "        \n",
    "    return arvoreResultado\n",
    "\n",
    "print(somaArvores(raiz1, raiz2))"
   ]
  },
  {
   "cell_type": "markdown",
   "metadata": {
    "id": "n6wuRFjVs1PD"
   },
   "source": [
    "## 🌌 O futuro... 🌌 <a class=\"anchor\" id=\"seis\"></a>\n",
    "\n",
    "&emsp; A árvore é uma estrutura de dados hierárquica e não paramétrica. É de fácil compreensão devido à sua representação visual. Ele pode funcionar tanto em classificação quanto em dados contínuos. É usado na ciência de dados para construir modelos preditivos, pois pode lidar com grandes quantidades de dados e pode ser validado estatisticamente. No futuro vocês trabalharão com estruturas de predição que utilizam muito o conceito de árvores!\n",
    "\n",
    "# Acabooou! 🎉 Agradeço pela atenção de todos! 😄\n",
    "## Qualquer duvida não hesitem em me chamar. 👩‍💻"
   ]
  }
 ],
 "metadata": {
  "colab": {
   "name": "Aula 1 - Introducao.ipynb",
   "provenance": []
  },
  "kernelspec": {
   "display_name": "Python 3",
   "language": "python",
   "name": "python3"
  },
  "language_info": {
   "codemirror_mode": {
    "name": "ipython",
    "version": 3
   },
   "file_extension": ".py",
   "mimetype": "text/x-python",
   "name": "python",
   "nbconvert_exporter": "python",
   "pygments_lexer": "ipython3",
   "version": "3.6.9"
  }
 },
 "nbformat": 4,
 "nbformat_minor": 1
}
