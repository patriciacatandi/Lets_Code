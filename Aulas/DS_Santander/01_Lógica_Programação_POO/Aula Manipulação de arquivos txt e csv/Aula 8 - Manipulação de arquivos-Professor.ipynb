{
 "cells": [
  {
   "cell_type": "markdown",
   "metadata": {},
   "source": [
    "# Aula 10 - Manipulação de arquivos\n",
    "\n",
    "Na aula de hoje, vamos explorar os seguintes tópicos em Python:\n",
    "\n",
    "- 1) Arquivos em Python\n",
    "- 2) Arquivos csv\n",
    "\n",
    "_______\n",
    "\n",
    "### Objetivos\n",
    "\n",
    "Apresentar o conceito, importância e operacional do uso de arquivos em Python, explicitando como ler, modificar e escrever arquivos; <br>\n",
    "Apresentar o conceito de CSV, e brevemente a biblioteca de i/o de csv - não focar muito na leitura/escrita, pois o pandas será utilizado para isso!\n",
    "\n",
    "### Habilidades a serem desenvolvidas\n",
    "\n",
    "Ao final da aula o aluno deve:\n",
    "\n",
    "- Conhecer o conceito e importância do uso de arquivos;\n",
    "- Saber como criar, modificar e ler arquivos;\n",
    "- Conhecer sobre o formato csv e como trabalhar com ele."
   ]
  },
  {
   "cell_type": "markdown",
   "metadata": {},
   "source": [
    "____\n",
    "____"
   ]
  },
  {
   "cell_type": "markdown",
   "metadata": {},
   "source": [
    "## 1) Arquivos em Python\n",
    "\n",
    "Todos os programas que fizemos até o momento tinham variáveis, input e output **temporários**, guardados na memória RAM do computador **enquanto o programa é executado**.\n",
    "\n",
    "Após o programa ser finalizado, todas as variáveis, inputs e outputs eram perdidos.\n",
    "\n",
    "Muitas vezes queremos que esses valores sejam armazenados, que os dados processados pelo programa sejam preservados. O termo para esta característica é **persistência de dados**.\n",
    "\n",
    "A persistência se dá através de **arquivos**: documentos criados para **armazenar dados em uma memória permanente**, como o **disco rígido**, um **USB** ou um **servidor web**."
   ]
  },
  {
   "cell_type": "markdown",
   "metadata": {},
   "source": [
    "O Python têm algumas funções padrão para a manipulação de arquivos. Vamos vê-las!"
   ]
  },
  {
   "cell_type": "markdown",
   "metadata": {},
   "source": [
    "A função `open()` é usada pra abrir arquivos existentes ou criar um arquivo novo. \n",
    "\n",
    "O primeiro argumento a ser passado é o caminho do arquivo, com seu nome (se apenas o nome do arquivo for passado, isso é interpretado como o arquivo estando na mesma pasta que o código!); e o segundo é o modo de operação. Os modos são:\n",
    "\n",
    "- `r` -\tlê um arquivo existente\n",
    "- `w` -\tcria um novo arquivo ou sobrescreve um existente\n",
    "- `a` -\tcria um novo arquivo ou adiciona informações ao seu final (append)\n",
    "- `+` -\tao ser combinado com outros modos, permite alteração de arquivo já existente (ex: `r+` abre um arquivo existente e permite modificá-lo)\n",
    "\n",
    "O argumento de **modo de operação não é obrigatório** e o Python assume o `r` como **default**.\n",
    "\n",
    "O terceiro argumento é o \"encoding\", que dá a codificação do arquivo. \n",
    "O encoding é a representação dos caracteres no qual é atribuído um número diferente para cada um. Pra evitar problemas, é legal sempre usar `encoding=\"utf-8\"`"
   ]
  },
  {
   "cell_type": "code",
   "execution_count": 189,
   "metadata": {},
   "outputs": [],
   "source": [
    "arquivo = open(\"ola.txt\", \"w\", encoding=\"utf-8\")"
   ]
  },
  {
   "cell_type": "markdown",
   "metadata": {},
   "source": [
    "Se analisarmos a variável \"arquivo\" (é o return da função \"open\"), note que há algumas coisas estranhas... É assim que o python entende seu arquivo, mas não precisa se preocupar com isso"
   ]
  },
  {
   "cell_type": "code",
   "execution_count": 35,
   "metadata": {},
   "outputs": [
    {
     "data": {
      "text/plain": [
       "<_io.TextIOWrapper name='ola.txt' mode='w' encoding='utf-8'>"
      ]
     },
     "execution_count": 35,
     "metadata": {},
     "output_type": "execute_result"
    }
   ],
   "source": [
    "arquivo"
   ]
  },
  {
   "cell_type": "markdown",
   "metadata": {},
   "source": [
    "Uma vez aberto o arquivo, podemos escrever alguma coisa nele. Para isso, usamos a função `write()`\n",
    "\n",
    "Essa função aceita apenas um argumento, que é o que você quer escrever no arquivo"
   ]
  },
  {
   "cell_type": "code",
   "execution_count": 190,
   "metadata": {},
   "outputs": [
    {
     "data": {
      "text/plain": [
       "16"
      ]
     },
     "execution_count": 190,
     "metadata": {},
     "output_type": "execute_result"
    }
   ],
   "source": [
    "arquivo.write(\"olá, mundo!!!!!!,\")\n",
    "arquivo.write(\"olá, let's code!\")"
   ]
  },
  {
   "cell_type": "markdown",
   "metadata": {},
   "source": [
    "Após abrirmos (ou criarmos) um arquivo, e fazer as operações desejadas com ele, devemos fechá-lo usando a função `close()`. Essa etapa é importante por 2 motivos:\n",
    "\n",
    "- Se alteramos o arquivo mas não o fechamos, as alterações não serão salvas.\n",
    "- Se esquecermos de fechar um arquivo, outros programas podem ter problemas de acesso a ele.\n",
    "\n",
    "Por isso, **nunca se esqueca de fechar os arquivos abertos!**"
   ]
  },
  {
   "cell_type": "code",
   "execution_count": 37,
   "metadata": {},
   "outputs": [],
   "source": [
    "arquivo.close()"
   ]
  },
  {
   "cell_type": "markdown",
   "metadata": {},
   "source": [
    "__Fazendo todas as operações em uma única célula__"
   ]
  },
  {
   "cell_type": "code",
   "execution_count": 2,
   "metadata": {},
   "outputs": [],
   "source": [
    "f = open(\"ola.txt\", \"w\", encoding=\"utf-8\")\n",
    "f.write(\"olá, mundo!!!!!!\")\n",
    "f.write(\"olá, let's code!\")\n",
    "\n",
    "f.close()"
   ]
  },
  {
   "cell_type": "markdown",
   "metadata": {},
   "source": [
    "Repare que os textos foram considerados como pertencentes a mesma linha. Para que ele interprete as linhas separadamente precisamos finalizar com um caracter especial denominado **EOL (End of Line)** como o `\\n`. Eles indicam que a linha atual acabou e o início de uma nova linha."
   ]
  },
  {
   "cell_type": "code",
   "execution_count": 3,
   "metadata": {},
   "outputs": [],
   "source": [
    "arquivo = open(\"ola.txt\", \"w\", encoding=\"utf-8\")\n",
    "arquivo.write(\"olá, mundo!!!!!!\\n\")\n",
    "arquivo.write(\"olá, let's code!\")\n",
    "arquivo.close()"
   ]
  },
  {
   "cell_type": "markdown",
   "metadata": {},
   "source": [
    "Vamos escrever mais algumas coisas no nosso arquivo...\n",
    "\n",
    "Como o arquivo já existe, vamos tentar usar o modo \"r\"..."
   ]
  },
  {
   "cell_type": "code",
   "execution_count": 42,
   "metadata": {},
   "outputs": [
    {
     "ename": "UnsupportedOperation",
     "evalue": "not writable",
     "output_type": "error",
     "traceback": [
      "\u001b[0;31m---------------------------------------------------------------------------\u001b[0m",
      "\u001b[0;31mUnsupportedOperation\u001b[0m                      Traceback (most recent call last)",
      "\u001b[0;32m<ipython-input-42-254c5ccc58de>\u001b[0m in \u001b[0;36m<module>\u001b[0;34m\u001b[0m\n\u001b[1;32m      2\u001b[0m \u001b[0marquivo\u001b[0m \u001b[0;34m=\u001b[0m \u001b[0mopen\u001b[0m\u001b[0;34m(\u001b[0m\u001b[0;34m\"ola.txt\"\u001b[0m\u001b[0;34m,\u001b[0m \u001b[0;34m\"r\"\u001b[0m\u001b[0;34m,\u001b[0m \u001b[0mencoding\u001b[0m\u001b[0;34m=\u001b[0m\u001b[0;34m\"utf-8\"\u001b[0m\u001b[0;34m)\u001b[0m\u001b[0;34m\u001b[0m\u001b[0;34m\u001b[0m\u001b[0m\n\u001b[1;32m      3\u001b[0m \u001b[0;34m\u001b[0m\u001b[0m\n\u001b[0;32m----> 4\u001b[0;31m \u001b[0marquivo\u001b[0m\u001b[0;34m.\u001b[0m\u001b[0mwrite\u001b[0m\u001b[0;34m(\u001b[0m\u001b[0;34m'Minha segunda frase'\u001b[0m\u001b[0;34m)\u001b[0m\u001b[0;34m\u001b[0m\u001b[0;34m\u001b[0m\u001b[0m\n\u001b[0m\u001b[1;32m      5\u001b[0m \u001b[0;34m\u001b[0m\u001b[0m\n\u001b[1;32m      6\u001b[0m \u001b[0marquivo\u001b[0m\u001b[0;34m.\u001b[0m\u001b[0mclose\u001b[0m\u001b[0;34m(\u001b[0m\u001b[0;34m)\u001b[0m\u001b[0;34m\u001b[0m\u001b[0;34m\u001b[0m\u001b[0m\n",
      "\u001b[0;31mUnsupportedOperation\u001b[0m: not writable"
     ]
    }
   ],
   "source": [
    "# como o arquivo já existe, vamos usar o modo de leitura, \"r\"\n",
    "arquivo = open(\"ola.txt\", \"r\", encoding=\"utf-8\")\n",
    "\n",
    "arquivo.write('Minha segunda frase') \n",
    "\n",
    "arquivo.close()"
   ]
  },
  {
   "cell_type": "markdown",
   "metadata": {},
   "source": [
    "Note que encontramos um erro, pois o modo \"r\" permite **apenas a leitura do arquivo**\n",
    "\n",
    "Se queremos escrever algo nele, usamos o \"r+\""
   ]
  },
  {
   "cell_type": "code",
   "execution_count": 50,
   "metadata": {},
   "outputs": [],
   "source": [
    "# modo r+, pra poder escrever no arquivo\n",
    "arquivo = open(\"ola.txt\", \"r+\", encoding=\"utf-8\")\n",
    "\n",
    "arquivo.write('Minha') \n",
    "\n",
    "arquivo.close()\n"
   ]
  },
  {
   "cell_type": "markdown",
   "metadata": {},
   "source": [
    "Note, no entanto, que se usarmos o modo \"r+\", o write substitui o conteúdo anterior da primeira linha do arquivo!\n",
    "\n",
    "Para corrigir isso, usamos o modo \"a\", que permite escrever AO FIM do arquivo"
   ]
  },
  {
   "cell_type": "code",
   "execution_count": 4,
   "metadata": {},
   "outputs": [],
   "source": [
    "# modo a, pra poder escrever ao fim do arquivo coisas novas\n",
    "arquivo = open(\"ola.txt\", \"a\", encoding=\"utf-8\")\n",
    "\n",
    "arquivo.write('\\nMinha quarta frase') \n",
    "arquivo.write('\\nNova frase')\n",
    "\n",
    "arquivo.close()"
   ]
  },
  {
   "cell_type": "markdown",
   "metadata": {},
   "source": [
    "Se quisermos escrever em uma nova linha, usamos o \"\\n\":"
   ]
  },
  {
   "cell_type": "code",
   "execution_count": 13,
   "metadata": {},
   "outputs": [],
   "source": [
    "# modo a, pra poder escrever ao fim do arquivo coisas novas\n",
    "arquivo = open(\"ola.txt\", \"a\", encoding=\"utf-8\")\n",
    "\n",
    "for i in range(5):\n",
    "    \n",
    "    arquivo.write(str(i) + \" - olá mundo!!\\n\")\n",
    "\n",
    "arquivo.close()"
   ]
  },
  {
   "cell_type": "code",
   "execution_count": 14,
   "metadata": {},
   "outputs": [],
   "source": [
    "# Exercício (5 min):\n",
    "# Crie um arquivo .txt  e salve os itens da lista em linhas separadas:\n",
    "    \n",
    "nomes = [\"André\", \"João\", \"Maria\"]\n"
   ]
  },
  {
   "cell_type": "markdown",
   "metadata": {},
   "source": [
    "### Armazenar dados\n",
    "\n",
    "Para armazenar os dados do arquivo em uma variável do python utilizamos a função `read()`"
   ]
  },
  {
   "cell_type": "code",
   "execution_count": 58,
   "metadata": {},
   "outputs": [],
   "source": [
    "# modo r para a leitura\n",
    "arquivo = open('ola.txt', 'r', encoding=\"utf-8\")\n",
    "\n",
    "conteudo = arquivo.read()"
   ]
  },
  {
   "cell_type": "code",
   "execution_count": 60,
   "metadata": {},
   "outputs": [
    {
     "data": {
      "text/plain": [
       "\"Minha mundo!!!!!!\\nolá, let's code!\\nMinha quarta frase\\nNova frase\""
      ]
     },
     "execution_count": 60,
     "metadata": {},
     "output_type": "execute_result"
    }
   ],
   "source": [
    "conteudo"
   ]
  },
  {
   "cell_type": "code",
   "execution_count": 55,
   "metadata": {},
   "outputs": [
    {
     "data": {
      "text/plain": [
       "['Minha mundo!!!!!!', \"olá, let's code!\", 'Minha quarta frase', 'Nova frase']"
      ]
     },
     "execution_count": 55,
     "metadata": {},
     "output_type": "execute_result"
    }
   ],
   "source": [
    "conteudo.split('\\n')"
   ]
  },
  {
   "cell_type": "code",
   "execution_count": 61,
   "metadata": {},
   "outputs": [
    {
     "data": {
      "text/plain": [
       "['Minha mundo!!!!!!', \"olá, let's code!\", 'Minha quarta frase', 'Nova frase']"
      ]
     },
     "execution_count": 61,
     "metadata": {},
     "output_type": "execute_result"
    }
   ],
   "source": [
    "conteudo_lista = conteudo.split(\"\\n\")\n",
    "\n",
    "conteudo_lista"
   ]
  },
  {
   "cell_type": "code",
   "execution_count": 62,
   "metadata": {},
   "outputs": [
    {
     "data": {
      "text/plain": [
       "'Minha mundo!!!!!!'"
      ]
     },
     "execution_count": 62,
     "metadata": {},
     "output_type": "execute_result"
    }
   ],
   "source": [
    "conteudo_lista[0]"
   ]
  },
  {
   "cell_type": "markdown",
   "metadata": {},
   "source": [
    "A função `read()` lê o que estiver no arquivo em forma de uma string!\n",
    "\n",
    "As quebras de linha serão, portanto, armazenadas como \"\\n\"."
   ]
  },
  {
   "cell_type": "code",
   "execution_count": 92,
   "metadata": {},
   "outputs": [
    {
     "data": {
      "text/plain": [
       "['Minha mundo!!!!!!\\n',\n",
       " \"olá, let's code!\\n\",\n",
       " 'Minha quarta frase\\n',\n",
       " 'Nova frase']"
      ]
     },
     "execution_count": 92,
     "metadata": {},
     "output_type": "execute_result"
    }
   ],
   "source": [
    "f = open(\"ola.txt\", \"r\", encoding=\"utf-8\")\n",
    "\n",
    "lista_de_linhas = []\n",
    "\n",
    "# aqui, o python entende que ele deve percorrer cada linha do arquivo!\n",
    "for elemento in f:\n",
    "    \n",
    "    lista_de_linhas.append(elemento)\n",
    "    \n",
    "f.close()\n",
    "\n",
    "lista_de_linhas"
   ]
  },
  {
   "cell_type": "code",
   "execution_count": 126,
   "metadata": {},
   "outputs": [
    {
     "data": {
      "text/plain": [
       "['Minha mundo!!!!!!\\n',\n",
       " \"olá, let's code!\\n\",\n",
       " 'Minha quarta frase\\n',\n",
       " 'Nova frase']"
      ]
     },
     "execution_count": 126,
     "metadata": {},
     "output_type": "execute_result"
    }
   ],
   "source": [
    "# usando compreensão de listas!\n",
    "\n",
    "f = open(\"ola.txt\", \"r\", encoding=\"utf-8\")\n",
    "\n",
    "lista = [x for x in f]\n",
    "\n",
    "f.close()\n",
    "\n",
    "lista"
   ]
  },
  {
   "cell_type": "markdown",
   "metadata": {},
   "source": [
    "Uma maneira de lermos o arquivo todo como lista é utilizando  o readlines()"
   ]
  },
  {
   "cell_type": "code",
   "execution_count": 141,
   "metadata": {},
   "outputs": [
    {
     "data": {
      "text/plain": [
       "['Minha mundo!!!!!!\\n',\n",
       " \"olá, let's code!\\n\",\n",
       " 'Minha quarta frase\\n',\n",
       " 'Nova frase']"
      ]
     },
     "execution_count": 141,
     "metadata": {},
     "output_type": "execute_result"
    }
   ],
   "source": [
    "f = open(\"ola.txt\", \"r\", encoding=\"utf-8\")\n",
    "\n",
    "ler_lista = f.readlines()\n",
    "\n",
    "f.close()\n",
    "\n",
    "ler_lista"
   ]
  },
  {
   "cell_type": "markdown",
   "metadata": {},
   "source": [
    "### Armazenando valores numéricos"
   ]
  },
  {
   "cell_type": "code",
   "execution_count": 65,
   "metadata": {},
   "outputs": [
    {
     "ename": "TypeError",
     "evalue": "write() argument must be str, not list",
     "output_type": "error",
     "traceback": [
      "\u001b[0;31m---------------------------------------------------------------------------\u001b[0m",
      "\u001b[0;31mTypeError\u001b[0m                                 Traceback (most recent call last)",
      "\u001b[0;32m<ipython-input-65-0897ee9aa22e>\u001b[0m in \u001b[0;36m<module>\u001b[0;34m\u001b[0m\n\u001b[1;32m      3\u001b[0m \u001b[0mf\u001b[0m \u001b[0;34m=\u001b[0m \u001b[0mopen\u001b[0m\u001b[0;34m(\u001b[0m\u001b[0;34m\"minhas_notas.txt\"\u001b[0m\u001b[0;34m,\u001b[0m \u001b[0;34m\"w\"\u001b[0m\u001b[0;34m,\u001b[0m \u001b[0mencoding\u001b[0m\u001b[0;34m=\u001b[0m\u001b[0;34m\"utf-8\"\u001b[0m\u001b[0;34m)\u001b[0m\u001b[0;34m\u001b[0m\u001b[0;34m\u001b[0m\u001b[0m\n\u001b[1;32m      4\u001b[0m \u001b[0;34m\u001b[0m\u001b[0m\n\u001b[0;32m----> 5\u001b[0;31m \u001b[0mf\u001b[0m\u001b[0;34m.\u001b[0m\u001b[0mwrite\u001b[0m\u001b[0;34m(\u001b[0m\u001b[0mnotas\u001b[0m\u001b[0;34m)\u001b[0m\u001b[0;34m\u001b[0m\u001b[0;34m\u001b[0m\u001b[0m\n\u001b[0m\u001b[1;32m      6\u001b[0m \u001b[0;34m\u001b[0m\u001b[0m\n\u001b[1;32m      7\u001b[0m \u001b[0mf\u001b[0m\u001b[0;34m.\u001b[0m\u001b[0mclose\u001b[0m\u001b[0;34m(\u001b[0m\u001b[0;34m)\u001b[0m\u001b[0;34m\u001b[0m\u001b[0;34m\u001b[0m\u001b[0m\n",
      "\u001b[0;31mTypeError\u001b[0m: write() argument must be str, not list"
     ]
    }
   ],
   "source": [
    "notas = [8, 7, 6, 10, 10, 8]\n",
    "\n",
    "f = open(\"minhas_notas.txt\", \"w\", encoding=\"utf-8\")\n",
    "\n",
    "f.write(notas) \n",
    "\n",
    "f.close()"
   ]
  },
  {
   "cell_type": "markdown",
   "metadata": {},
   "source": [
    "Com o `write()` só é possível escrever strings! Então, vamos ter que modificar um pouco o programa..."
   ]
  },
  {
   "cell_type": "code",
   "execution_count": 89,
   "metadata": {},
   "outputs": [],
   "source": [
    "notas = [8, 7, 5, 6, 4, 6]\n",
    "\n",
    "f = open(\"notas.txt\", \"w\", encoding=\"utf-8\")\n",
    "\n",
    "for elemento in notas:\n",
    "    \n",
    "    f.write(str(elemento) + \"\\n\")\n",
    "    \n",
    "f.close()"
   ]
  },
  {
   "cell_type": "markdown",
   "metadata": {},
   "source": [
    "Agora, pra ler o arquivo, e já calcular a média das notas armazenadas!"
   ]
  },
  {
   "cell_type": "code",
   "execution_count": 90,
   "metadata": {},
   "outputs": [
    {
     "name": "stdout",
     "output_type": "stream",
     "text": [
      "['8', '7', '5', '6', '4', '6', '']\n"
     ]
    }
   ],
   "source": [
    "f = open(\"notas.txt\", \"r\", encoding=\"utf-8\")\n",
    "\n",
    "string_de_notas = f.read()\n",
    "\n",
    "lista_de_notas = string_de_notas.split('\\n')\n",
    "\n",
    "print(lista_de_notas)\n"
   ]
  },
  {
   "cell_type": "code",
   "execution_count": 91,
   "metadata": {},
   "outputs": [
    {
     "name": "stdout",
     "output_type": "stream",
     "text": [
      "[8.0, 7.0, 5.0, 6.0, 4.0, 6.0]\n",
      "6.0\n"
     ]
    }
   ],
   "source": [
    "# usando compreensão de lista (list comprehension)\n",
    "lista_de_inteiros = [float(elementos) for elementos in lista_de_notas if elementos != '']\n",
    "\n",
    "print(lista_de_inteiros)\n",
    "\n",
    "media = sum(lista_de_inteiros)/len(lista_de_inteiros)\n",
    "\n",
    "print(media)\n",
    "\n",
    "f.close()"
   ]
  },
  {
   "cell_type": "markdown",
   "metadata": {},
   "source": [
    "Apesar de termos tratado sobre as funções acima, existem **bibliotecas específicas** para a leitura/escrita de determinados tipos de arquivos.\n",
    "\n",
    "Na prática, é muito mais conveniente usarmos estas bibliotecas, a depender do tipo de arquivo que desejamos ler/escrever!"
   ]
  },
  {
   "cell_type": "markdown",
   "metadata": {},
   "source": [
    "____\n",
    "____\n",
    "___"
   ]
  },
  {
   "cell_type": "markdown",
   "metadata": {},
   "source": [
    "## 2) Arquivos CSV\n",
    "\n",
    "Um tipo de arquivo muito comum é o **csv**\n",
    "\n",
    "A sigla CSV significa **Comma-Separated Values**, ou **\"valores separados por vírgula\"**. \n",
    "\n",
    "Este formato é uma forma padrão de representar tabelas usando arquivos de texto simples: cada elemento é separado por uma vírgula (ou ponto-e-vírgula, ou, qualquer outro separador), e cada linha é separada por uma quebra de linha. "
   ]
  },
  {
   "cell_type": "markdown",
   "metadata": {},
   "source": [
    "Em Python, podemos entender um arquivo CSV como uma lista de listas. \n",
    "\n",
    "Imagine que queremos armazenar um arquivo csv. Começamos com uma lista de listas:"
   ]
  },
  {
   "cell_type": "code",
   "execution_count": 159,
   "metadata": {},
   "outputs": [],
   "source": [
    "tabela = [['Aluno', 'Nota 1', 'Nota 2', 'Presença'],\n",
    "          ['Luke', 7, 9, 15],\n",
    "          ['Han', 4, 7, 10],\n",
    "          ['Leia', 9, 9, 16]]"
   ]
  },
  {
   "cell_type": "markdown",
   "metadata": {},
   "source": [
    "Pode não ser tão simples escrever esta lista de listas em um arquivo usando a função write(), como vimos antes, né?\n",
    "\n",
    "Para trabalhar com arquivos csv, vamos utilizar a biblioteca `csv` do python!\n",
    "\n",
    "Desta biblioteca, vamo usar duas funções:\n",
    "\n",
    "- **função de escrita**: `csv.writer().writerows()`\n",
    "\n",
    "- **função de leitura**: `csv.reader()`"
   ]
  },
  {
   "cell_type": "code",
   "execution_count": 31,
   "metadata": {},
   "outputs": [],
   "source": [
    "import csv"
   ]
  },
  {
   "cell_type": "markdown",
   "metadata": {},
   "source": [
    "Primeiramente, criamos o arquivo, como fizemos antes"
   ]
  },
  {
   "cell_type": "code",
   "execution_count": 32,
   "metadata": {},
   "outputs": [],
   "source": [
    "# cria o arquivo CSV\n",
    "arquivo = open('alunos_star_wars.csv', 'w', encoding=\"utf-8\")"
   ]
  },
  {
   "cell_type": "markdown",
   "metadata": {},
   "source": [
    "Depois, utilizamos a função \"writer\" da biblioteca \"csv\", juntamente da função \"writerows\" para escrever a lista de listas ao arquivo:"
   ]
  },
  {
   "cell_type": "code",
   "execution_count": 33,
   "metadata": {},
   "outputs": [],
   "source": [
    "csv.writer(arquivo, delimiter=';', lineterminator='\\n').writerows(tabela)"
   ]
  },
  {
   "cell_type": "markdown",
   "metadata": {},
   "source": [
    "A primeira parte, \n",
    "\n",
    "```python\n",
    "csv.writer(arquivo, delimiter=';', lineterminator='\\n')\n",
    "```\n",
    "\n",
    "Indica:\n",
    "\n",
    "- em que arquivo você quer escrever\n",
    "- como que você vai separar os valores (neste caso, com \";\")\n",
    "- como vc vai separar as diferentes linhas do arquivo (neste caso, com \"\\n\")\n",
    "\n",
    "A segunda parte, indica quais os dados que você quer escrever no arquivo (no caso, a lista de listas \"tabela\"):\n",
    "\n",
    "```python\n",
    "writerows(tabela)\n",
    "```"
   ]
  },
  {
   "cell_type": "markdown",
   "metadata": {},
   "source": [
    "Fechando o arquivo"
   ]
  },
  {
   "cell_type": "code",
   "execution_count": 34,
   "metadata": {},
   "outputs": [],
   "source": [
    "arquivo.close()"
   ]
  },
  {
   "cell_type": "markdown",
   "metadata": {},
   "source": [
    "Tudo junto:"
   ]
  },
  {
   "cell_type": "code",
   "execution_count": 165,
   "metadata": {},
   "outputs": [],
   "source": [
    "import csv\n",
    "\n",
    "lista_de_listas = [['Aluno', 'Nota 1', 'Nota 2', 'Presenças'],\n",
    "          ['Luke', 7, 9, 15],\n",
    "          ['Han', 4, 7.7, 10],\n",
    "          ['Leia', 9, 9, 16]]\n",
    "\n",
    "arquivo = open('alunos_star_wars.csv', 'w', encoding=\"utf-8\")\n",
    "\n",
    "csv.writer(arquivo, delimiter=',', lineterminator='\\n').writerows(lista_de_listas)\n",
    "\n",
    "arquivo.close()"
   ]
  },
  {
   "cell_type": "markdown",
   "metadata": {},
   "source": [
    "E como lemos este arquivo?"
   ]
  },
  {
   "cell_type": "markdown",
   "metadata": {},
   "source": [
    "Para isso, temos que utilizar a função `reader()` da biblioteca csv:\n",
    "\n",
    "```python\n",
    "csv.reader(f, delimiter=';', lineterminator='\\n')\n",
    "```\n",
    "\n",
    "Essa função tem como argumentos:\n",
    "\n",
    "- o arquivo aberto (no caso, a variável \"f\");\n",
    "- o separador entre os valores (no caso, \";\");\n",
    "- o separador de linhas (no caso, \"\\n\");\n",
    "\n",
    "Aí, basta iterar neste objeto com o for para popular a lista de listas \"planilha\":"
   ]
  },
  {
   "cell_type": "code",
   "execution_count": 168,
   "metadata": {},
   "outputs": [
    {
     "data": {
      "text/plain": [
       "[['Aluno', 'Nota 1', 'Nota 2', 'Presenças'],\n",
       " ['Luke', '7', '9', '15'],\n",
       " ['Han', '4', '7.7', '10'],\n",
       " ['Leia', '9', '9', '16']]"
      ]
     },
     "execution_count": 168,
     "metadata": {},
     "output_type": "execute_result"
    }
   ],
   "source": [
    "import csv\n",
    "\n",
    "f = open(\"alunos_star_wars.csv\", \"r\", encoding=\"utf-8\")\n",
    "\n",
    "leitor = csv.reader(f, delimiter=',', lineterminator='\\n')\n",
    "\n",
    "planilha = []\n",
    "\n",
    "for linha in leitor:\n",
    "    \n",
    "    planilha.append(linha)\n",
    "    \n",
    "f.close()\n",
    "\n",
    "planilha"
   ]
  },
  {
   "cell_type": "markdown",
   "metadata": {},
   "source": [
    "E se quisermos extrair apenas os nomes dos alunos?"
   ]
  },
  {
   "cell_type": "code",
   "execution_count": 177,
   "metadata": {},
   "outputs": [
    {
     "data": {
      "text/plain": [
       "['Aluno', 'Luke', 'Han', 'Leia']"
      ]
     },
     "execution_count": 177,
     "metadata": {},
     "output_type": "execute_result"
    }
   ],
   "source": [
    "[item[0] for item in planilha]"
   ]
  },
  {
   "cell_type": "markdown",
   "metadata": {},
   "source": [
    "__Vamos agora processar esse arquivo que acabamos de ler?__\n",
    "\n",
    "Imagina que queremos calcular qual é a média de determinado aluno, a partir do seu nome!\n",
    "\n",
    "Com a função `index()` em um **list comprehension** podemos encontrar qual a posição na lista de determinado aluno:"
   ]
  },
  {
   "cell_type": "markdown",
   "metadata": {},
   "source": [
    "Por exemplo, o aluno \"Han\", está na posição de índice 2:"
   ]
  },
  {
   "cell_type": "code",
   "execution_count": 178,
   "metadata": {},
   "outputs": [
    {
     "data": {
      "text/plain": [
       "2"
      ]
     },
     "execution_count": 178,
     "metadata": {},
     "output_type": "execute_result"
    }
   ],
   "source": [
    "[item[0] for item in planilha].index(\"Han\")"
   ]
  },
  {
   "cell_type": "markdown",
   "metadata": {},
   "source": [
    "Agora, basta passar esse índice para a lista de listas (que chamamos de \"planilha\"), pra acessarmos a linha correspondente ao Han:"
   ]
  },
  {
   "cell_type": "code",
   "execution_count": 106,
   "metadata": {},
   "outputs": [
    {
     "data": {
      "text/plain": [
       "['Han', '4', '7.7', '10']"
      ]
     },
     "execution_count": 106,
     "metadata": {},
     "output_type": "execute_result"
    }
   ],
   "source": [
    "planilha[[item[0] for item in planilha].index(\"Han\")]"
   ]
  },
  {
   "cell_type": "markdown",
   "metadata": {},
   "source": [
    "Legal! Agora, sabemos que as posições de índice 1 e 2 **desta lista** são, respectivamente, a nota1 e a nota2! \n",
    "\n",
    "Ou seja, podemos capturar as notas (já as transformando para float!), e aí calcular a média "
   ]
  },
  {
   "cell_type": "code",
   "execution_count": 185,
   "metadata": {},
   "outputs": [
    {
     "name": "stdout",
     "output_type": "stream",
     "text": [
      "['Han', '4', '7.7', '10']\n"
     ]
    }
   ],
   "source": [
    "procura_aluno = planilha[[item[0] for item in planilha].index(\"Han\")]\n",
    "print(procura_aluno)"
   ]
  },
  {
   "cell_type": "code",
   "execution_count": 186,
   "metadata": {},
   "outputs": [
    {
     "data": {
      "text/plain": [
       "5.85"
      ]
     },
     "execution_count": 186,
     "metadata": {},
     "output_type": "execute_result"
    }
   ],
   "source": [
    "nota1 = float(procura_aluno[1])\n",
    "\n",
    "nota2 = float(procura_aluno[2])\n",
    "\n",
    "media = (nota1 + nota2)/2\n",
    "\n",
    "media"
   ]
  },
  {
   "cell_type": "markdown",
   "metadata": {},
   "source": [
    "Vamos agora fazer todas as operações acima, mas solicitando ao usuário a média de qual aluno ele deseja:"
   ]
  },
  {
   "cell_type": "code",
   "execution_count": 107,
   "metadata": {},
   "outputs": [
    {
     "name": "stdout",
     "output_type": "stream",
     "text": [
      "Que aluno? Han\n",
      "\n",
      "A média do aluno Han é: 5.85\n"
     ]
    }
   ],
   "source": [
    "aluno = input(\"Que aluno? \")\n",
    "\n",
    "linha_do_aluno = planilha[[item[0] for item in planilha].index(aluno)]\n",
    "\n",
    "media = (float(linha_do_aluno[1]) + float(linha_do_aluno[2]))/2\n",
    "\n",
    "print(\"\\nA média do aluno\", aluno, \"é:\", media)"
   ]
  },
  {
   "cell_type": "markdown",
   "metadata": {},
   "source": [
    "É possíver fazer o **processamento de arquivos** de forma muito mais simples e natural do que foi feito acima, ao utilizarmos uma biblioteca própria para isso: o [pandas](https://pandas.pydata.org/)! "
   ]
  },
  {
   "cell_type": "markdown",
   "metadata": {},
   "source": [
    "# 3. Exercícios"
   ]
  },
  {
   "cell_type": "markdown",
   "metadata": {},
   "source": [
    "**1.** Salve as notas_alunos em um arquivo csv com o mesmo nome"
   ]
  },
  {
   "cell_type": "code",
   "execution_count": 24,
   "metadata": {},
   "outputs": [],
   "source": [
    "import csv\n",
    "notas_alunos = [['jose', 10, 8, 9.5, 8.8, 10],\n",
    "                ['pedro', 9.8, 9.2, 9.0, 8.8, 9.1],\n",
    "                ['suzana', 8, 7.1, 7.5, 8.2, 7.9],\n",
    "                ['gisela', 10, 9.6, 8.9, 9.4, 9.7],\n",
    "                ['joao', 7.5, 7.9, 8.0, 9.1, 7.3]]\n",
    "\n",
    "f = open('notas_alunos.csv', 'w')\n",
    "\n",
    "csv.writer(f, delimiter=',', lineterminator = '\\n').writerows(notas_alunos)\n",
    "\n",
    "f.close()"
   ]
  },
  {
   "cell_type": "markdown",
   "metadata": {},
   "source": [
    "**2.** Adicione ao arquivo notas_alunos.csv as notas das seguintes alunas: <br>\n",
    "    mariana: 9.8, 10, 9.7, 9.0, 9.2 <br>\n",
    "    luciana: 9.5, 8.7, 10, 9.4, 9.6"
   ]
  },
  {
   "cell_type": "code",
   "execution_count": 5,
   "metadata": {},
   "outputs": [],
   "source": [
    "novas_notas = [['mariana', 9.8, 10, 9.7, 9.0, 9.2], ['luciana', 9.5, 8.7, 10, 9.4, 9.6]]\n",
    "\n",
    "f = open('notas_alunos.csv', 'a')\n",
    "\n",
    "csv.writer(f, delimiter=',', lineterminator = '\\n').writerows(novas_notas)\n",
    "\n",
    "f.close()"
   ]
  },
  {
   "cell_type": "markdown",
   "metadata": {},
   "source": [
    "**3.** Leia o arquivo notas_alunos.csv e retorne a nota média de cada um deles"
   ]
  },
  {
   "cell_type": "code",
   "execution_count": 25,
   "metadata": {},
   "outputs": [
    {
     "name": "stdout",
     "output_type": "stream",
     "text": [
      "[['jose', '10', '8', '9.5', '8.8', '10'], ['pedro', '9.8', '9.2', '9.0', '8.8', '9.1'], ['suzana', '8', '7.1', '7.5', '8.2', '7.9'], ['gisela', '10', '9.6', '8.9', '9.4', '9.7'], ['joao', '7.5', '7.9', '8.0', '9.1', '7.3']]\n",
      "jose: 9.26\n",
      "pedro: 9.18\n",
      "suzana: 7.74\n",
      "gisela: 9.52\n",
      "joao: 7.959999999999999\n"
     ]
    }
   ],
   "source": [
    "import csv\n",
    "file_handler = open('notas_alunos.csv', 'r')\n",
    "\n",
    "read = csv.reader(file_handler, delimiter = ',', lineterminator='\\n')\n",
    "\n",
    "# cria_lista = []\n",
    "# for l in read:\n",
    "#     cria_lista.append(l)\n",
    "cria_lista = [x for x in read]\n",
    "print(cria_lista)\n",
    "\n",
    "[print(f'{item[0]}: {sum([float(i) for i in item[1:]])/5}') for item in cria_lista]\n",
    "\n",
    "dict_medias = {item[0]: sum([float(i) for i in item[1:]])/5 for item in cria_lista}\n",
    "dict_medias\n",
    "\n",
    "f.close()\n"
   ]
  },
  {
   "cell_type": "code",
   "execution_count": 18,
   "metadata": {},
   "outputs": [
    {
     "data": {
      "text/plain": [
       "[['jose', 9.26],\n",
       " ['pedro', 9.18],\n",
       " ['suzana', 7.74],\n",
       " ['gisela', 9.52],\n",
       " ['joao', 7.959999999999999]]"
      ]
     },
     "execution_count": 18,
     "metadata": {},
     "output_type": "execute_result"
    }
   ],
   "source": [
    "media_alunos = [[item[0], sum([float(i) for i in item[1:]])/5] for item in cria_lista]\n",
    "media_alunos"
   ]
  },
  {
   "cell_type": "code",
   "execution_count": 21,
   "metadata": {},
   "outputs": [],
   "source": [
    "f = open('medias_alunos.csv', 'w')\n",
    "csv.writer(f).writerows(media_alunos)\n",
    "f.close()"
   ]
  },
  {
   "cell_type": "code",
   "execution_count": 34,
   "metadata": {},
   "outputs": [
    {
     "data": {
      "text/plain": [
       "[['jose', 9.26],\n",
       " ['pedro', 9.18],\n",
       " ['suzana', 7.74],\n",
       " ['gisela', 9.52],\n",
       " ['joao', 7.959999999999999]]"
      ]
     },
     "execution_count": 34,
     "metadata": {},
     "output_type": "execute_result"
    }
   ],
   "source": [
    "[[i[0],sum([float(nota) for nota in i[1:]])/5] for i in cria_lista]"
   ]
  },
  {
   "cell_type": "code",
   "execution_count": 36,
   "metadata": {},
   "outputs": [
    {
     "data": {
      "text/plain": [
       "{'jose': 9.26,\n",
       " 'pedro': 9.18,\n",
       " 'suzana': 7.74,\n",
       " 'gisela': 9.52,\n",
       " 'joao': 7.959999999999999}"
      ]
     },
     "execution_count": 36,
     "metadata": {},
     "output_type": "execute_result"
    }
   ],
   "source": [
    "cria_dict = {i[0]:sum([float(nota) for nota in i[1:]])/5 for i in cria_lista}\n",
    "cria_dict"
   ]
  },
  {
   "cell_type": "code",
   "execution_count": 37,
   "metadata": {},
   "outputs": [
    {
     "data": {
      "text/plain": [
       "dict"
      ]
     },
     "execution_count": 37,
     "metadata": {},
     "output_type": "execute_result"
    }
   ],
   "source": [
    "type(cria_dict)"
   ]
  },
  {
   "cell_type": "markdown",
   "metadata": {},
   "source": [
    "____\n",
    "____\n",
    "____\n",
    "____"
   ]
  }
 ],
 "metadata": {
  "kernelspec": {
   "display_name": "Python 3",
   "language": "python",
   "name": "python3"
  },
  "language_info": {
   "codemirror_mode": {
    "name": "ipython",
    "version": 3
   },
   "file_extension": ".py",
   "mimetype": "text/x-python",
   "name": "python",
   "nbconvert_exporter": "python",
   "pygments_lexer": "ipython3",
   "version": "3.6.9"
  }
 },
 "nbformat": 4,
 "nbformat_minor": 4
}
